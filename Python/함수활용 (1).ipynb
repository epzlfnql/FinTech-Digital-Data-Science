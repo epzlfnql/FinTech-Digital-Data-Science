{
 "cells": [
  {
   "cell_type": "markdown",
   "id": "4ce638e9-c92f-4652-aa9a-abdad46df0cf",
   "metadata": {},
   "source": [
    "# lec04. 함수활용"
   ]
  },
  {
   "cell_type": "code",
   "execution_count": 23,
   "id": "a38ef990-cf8a-4b13-b71e-22ceb4a604b0",
   "metadata": {},
   "outputs": [],
   "source": [
    "import numpy as np\n",
    "import pandas as pd\n",
    "import datetime as dt"
   ]
  },
  {
   "cell_type": "markdown",
   "id": "ed31fe9b-d0a5-4bdc-9073-d60710702db1",
   "metadata": {},
   "source": [
    "<font size=6><b> lec04. 함수활용</b></font>★★★★\n",
    "* 종목정보 ( 종목코드, 종목명, 현재가 )\n",
    "* 유저정보 ( 유저아이디, 유저명, 계좌번호)\n",
    "* 잔고 ( 계좌번호, 예수금(잔고), 수익률(%), 수익금액 ) \n",
    "* 매수 ( 종목코드,  종목명, 매수가, 수량, 수익률(%), 수익금액, 날짜)\n",
    "* 매도 ( 종목코드,  종목명, 매도가, 수량, 수익률(%), 수익금액, 날짜)\n",
    "\n",
    "<pre>\n",
    "005930  삼성전자  59600  2022-07-05 02:53:00\n",
    "005930  삼성전자  59800  2022-07-05 02:54:00\n",
    "005930  삼성전자  59700  2022-07-05 02:55:00   --- 현재시간\n",
    "\n",
    "gdhong  홍길동   1234-5678-01\n",
    "\n",
    "1234-5678-01  1100000   0.1   100000\n",
    "1234-5678-02   500000  -0.5  -500000\n",
    "\n",
    "005930  삼성전자 59600 10  (59700 - 59600)/59700  rate*10  2022-07-05 02:53:00\n",
    "005930  삼성전자 59800  5  (59700 - 59600)/59700  rate*10  2022-07-05 02:54:00\n",
    "\n"
   ]
  },
  {
   "cell_type": "code",
   "execution_count": 112,
   "id": "589f4625-f19d-4d2c-98c9-dfa057292eca",
   "metadata": {},
   "outputs": [],
   "source": [
    "# 종목정보\n",
    "def stock_info(**kwargs):\n",
    "    # 종목코드\n",
    "    # 종목명\n",
    "    # 현재가\n",
    "    stock_list=[]\n",
    "    stock_list.append(kwargs)\n",
    "    return stock_list"
   ]
  },
  {
   "cell_type": "code",
   "execution_count": 15,
   "id": "115a59b6-7062-4287-aead-0d501be0868d",
   "metadata": {},
   "outputs": [
    {
     "data": {
      "text/plain": [
       "[{'종목코드': '005930', '종목명': '삼성전자', '현재가': 59600, '날짜': '2022-07-05 02:53:00'}]"
      ]
     },
     "execution_count": 15,
     "metadata": {},
     "output_type": "execute_result"
    }
   ],
   "source": [
    "stock_info(종목코드 = '005930',종목명 =  '삼성전자',현재가=  59600, 날짜= '2022-07-05 02:53:00')"
   ]
  },
  {
   "cell_type": "code",
   "execution_count": 118,
   "id": "a200153c-b01c-46dd-a7c5-d78ba7ef460b",
   "metadata": {},
   "outputs": [],
   "source": [
    "# 종목정보\n",
    "stock_list = []\n",
    "def stock_info(**kwargs):\n",
    "    stock_list.append(kwargs)\n",
    "    return stock_list\n",
    "  "
   ]
  },
  {
   "cell_type": "code",
   "execution_count": 91,
   "id": "8af33525-7941-4477-9bd8-095408d0b043",
   "metadata": {},
   "outputs": [
    {
     "data": {
      "text/plain": [
       "[{'종목코드': '005930',\n",
       "  '종목명': '삼성전자',\n",
       "  '현재가': 59600,\n",
       "  '날짜': datetime.datetime(2022, 7, 5, 2, 53)},\n",
       " {'종목코드': '005930',\n",
       "  '종목명': '삼성전자',\n",
       "  '현재가': 59600,\n",
       "  '날짜': datetime.datetime(2022, 7, 5, 2, 53)},\n",
       " {'종목코드': '005930',\n",
       "  '종목명': '삼성전자',\n",
       "  '현재가': 59600,\n",
       "  '날짜': datetime.datetime(2022, 7, 5, 2, 53)}]"
      ]
     },
     "execution_count": 91,
     "metadata": {},
     "output_type": "execute_result"
    }
   ],
   "source": [
    "date_dt = dt.datetime.strptime('2022-07-05 02:53:00', '%Y-%m-%d %H:%M:%S')\n",
    "res = stock_info(종목코드 = '005930',종목명 =  '삼성전자', 현재가=  59600, 날짜= date_dt)\n",
    "res"
   ]
  },
  {
   "cell_type": "code",
   "execution_count": 92,
   "id": "c705c562-2673-407f-9676-5f228aabca0d",
   "metadata": {},
   "outputs": [
    {
     "data": {
      "text/plain": [
       "{'종목코드': '005930',\n",
       " '종목명': '삼성전자',\n",
       " '현재가': 59600,\n",
       " '날짜': datetime.datetime(2022, 7, 5, 2, 53)}"
      ]
     },
     "execution_count": 92,
     "metadata": {},
     "output_type": "execute_result"
    }
   ],
   "source": [
    "res[1]['현재가'] = 59800\n",
    "res.pop()"
   ]
  },
  {
   "cell_type": "code",
   "execution_count": 93,
   "id": "ecb1ed20-80c2-453a-84a5-dde85cc7de18",
   "metadata": {},
   "outputs": [
    {
     "data": {
      "text/plain": [
       "[{'종목코드': '005930',\n",
       "  '종목명': '삼성전자',\n",
       "  '현재가': 59600,\n",
       "  '날짜': datetime.datetime(2022, 7, 5, 2, 53)},\n",
       " {'종목코드': '005930',\n",
       "  '종목명': '삼성전자',\n",
       "  '현재가': 59800,\n",
       "  '날짜': datetime.datetime(2022, 7, 5, 2, 53)}]"
      ]
     },
     "execution_count": 93,
     "metadata": {},
     "output_type": "execute_result"
    }
   ],
   "source": [
    "res"
   ]
  },
  {
   "cell_type": "code",
   "execution_count": 95,
   "id": "7cd7c77b-5bcf-4561-94f8-864dc4c2f146",
   "metadata": {},
   "outputs": [],
   "source": [
    "temp = [\n",
    "        {'stock_code': '005930', 'stock_name': '삼성전자', 'stock_price': 59600, 'stock_date': dt.datetime(2022, 7, 5, 2, 53)},\n",
    "        {'stock_code': '005930', 'stock_name': '삼성전자', 'stock_price': 59600, 'stock_date': dt.datetime(2022, 7, 5, 2, 54)},\n",
    "        {'stock_code': '005930', 'stock_name': '삼성전자', 'stock_price': 59600, 'stock_date': dt.datetime(2022, 7, 5, 2, 54)}\n",
    "      ]\n",
    "\n",
    "\n",
    "temp[1]['stock_price'] = 59800\n",
    "del temp[2]"
   ]
  },
  {
   "cell_type": "code",
   "execution_count": 96,
   "id": "88a2b1ce-5371-4b15-94f0-4a2a4c65fa52",
   "metadata": {},
   "outputs": [
    {
     "data": {
      "text/plain": [
       "[{'stock_code': '005930',\n",
       "  'stock_name': '삼성전자',\n",
       "  'stock_price': 59600,\n",
       "  'stock_date': datetime.datetime(2022, 7, 5, 2, 53)},\n",
       " {'stock_code': '005930',\n",
       "  'stock_name': '삼성전자',\n",
       "  'stock_price': 59800,\n",
       "  'stock_date': datetime.datetime(2022, 7, 5, 2, 54)}]"
      ]
     },
     "execution_count": 96,
     "metadata": {},
     "output_type": "execute_result"
    }
   ],
   "source": [
    "temp"
   ]
  },
  {
   "cell_type": "code",
   "execution_count": 131,
   "id": "f944d7a2-2783-4f14-bb81-21ae81c323ae",
   "metadata": {},
   "outputs": [],
   "source": [
    "# 루프 스무번\n",
    "# 루프가 10번까지는 100원씩 늘고\n",
    "# 루프가 11번째부터는 100원씩 줄어들게끔\n",
    "\n",
    "# 종목정보\n",
    "stock_list = []\n",
    "def stock_info(**kwargs):\n",
    "    stock_list.append(kwargs)\n",
    "    return stock_list\n",
    "\n",
    "\n",
    "one_min = dt.timedelta(minutes=1)\n",
    "date_dt = dt.datetime.strptime('2022-07-05 02:53:00', '%Y-%m-%d %H:%M:%S')\n",
    "price =  59600\n",
    "\n",
    "for i in range(1,21):\n",
    "    if i<=10:\n",
    "        date_dt = date_dt+one_min\n",
    "        price+=100\n",
    "        stock_info(stock_code = '005930',stock_name =  '삼성전자', stock_price=  price, 날짜= date_dt)\n",
    "    \n",
    "    else:\n",
    "           date_dt = date_dt+one_min\n",
    "           price=price-100\n",
    "           stock_info(stock_code = '005930',stock_name =  '삼성전자', stock_price=  price, 날짜= date_dt) \n",
    "\n",
    "# 0 ~9 : 59800 + 100\n",
    "# 10 ~19: 59800 -100"
   ]
  },
  {
   "cell_type": "code",
   "execution_count": 132,
   "id": "809aca6e-c815-4cf0-99c7-ce4a42386f18",
   "metadata": {},
   "outputs": [
    {
     "data": {
      "text/plain": [
       "[{'stock_code': '005930',\n",
       "  'stock_name': '삼성전자',\n",
       "  'stock_price': 59700,\n",
       "  '날짜': datetime.datetime(2022, 7, 5, 2, 54)},\n",
       " {'stock_code': '005930',\n",
       "  'stock_name': '삼성전자',\n",
       "  'stock_price': 59800,\n",
       "  '날짜': datetime.datetime(2022, 7, 5, 2, 55)},\n",
       " {'stock_code': '005930',\n",
       "  'stock_name': '삼성전자',\n",
       "  'stock_price': 59900,\n",
       "  '날짜': datetime.datetime(2022, 7, 5, 2, 56)},\n",
       " {'stock_code': '005930',\n",
       "  'stock_name': '삼성전자',\n",
       "  'stock_price': 60000,\n",
       "  '날짜': datetime.datetime(2022, 7, 5, 2, 57)},\n",
       " {'stock_code': '005930',\n",
       "  'stock_name': '삼성전자',\n",
       "  'stock_price': 60100,\n",
       "  '날짜': datetime.datetime(2022, 7, 5, 2, 58)},\n",
       " {'stock_code': '005930',\n",
       "  'stock_name': '삼성전자',\n",
       "  'stock_price': 60200,\n",
       "  '날짜': datetime.datetime(2022, 7, 5, 2, 59)},\n",
       " {'stock_code': '005930',\n",
       "  'stock_name': '삼성전자',\n",
       "  'stock_price': 60300,\n",
       "  '날짜': datetime.datetime(2022, 7, 5, 3, 0)},\n",
       " {'stock_code': '005930',\n",
       "  'stock_name': '삼성전자',\n",
       "  'stock_price': 60400,\n",
       "  '날짜': datetime.datetime(2022, 7, 5, 3, 1)},\n",
       " {'stock_code': '005930',\n",
       "  'stock_name': '삼성전자',\n",
       "  'stock_price': 60500,\n",
       "  '날짜': datetime.datetime(2022, 7, 5, 3, 2)},\n",
       " {'stock_code': '005930',\n",
       "  'stock_name': '삼성전자',\n",
       "  'stock_price': 60600,\n",
       "  '날짜': datetime.datetime(2022, 7, 5, 3, 3)},\n",
       " {'stock_code': '005930',\n",
       "  'stock_name': '삼성전자',\n",
       "  'stock_price': 60500,\n",
       "  '날짜': datetime.datetime(2022, 7, 5, 3, 4)},\n",
       " {'stock_code': '005930',\n",
       "  'stock_name': '삼성전자',\n",
       "  'stock_price': 60400,\n",
       "  '날짜': datetime.datetime(2022, 7, 5, 3, 5)},\n",
       " {'stock_code': '005930',\n",
       "  'stock_name': '삼성전자',\n",
       "  'stock_price': 60300,\n",
       "  '날짜': datetime.datetime(2022, 7, 5, 3, 6)},\n",
       " {'stock_code': '005930',\n",
       "  'stock_name': '삼성전자',\n",
       "  'stock_price': 60200,\n",
       "  '날짜': datetime.datetime(2022, 7, 5, 3, 7)},\n",
       " {'stock_code': '005930',\n",
       "  'stock_name': '삼성전자',\n",
       "  'stock_price': 60100,\n",
       "  '날짜': datetime.datetime(2022, 7, 5, 3, 8)},\n",
       " {'stock_code': '005930',\n",
       "  'stock_name': '삼성전자',\n",
       "  'stock_price': 60000,\n",
       "  '날짜': datetime.datetime(2022, 7, 5, 3, 9)},\n",
       " {'stock_code': '005930',\n",
       "  'stock_name': '삼성전자',\n",
       "  'stock_price': 59900,\n",
       "  '날짜': datetime.datetime(2022, 7, 5, 3, 10)},\n",
       " {'stock_code': '005930',\n",
       "  'stock_name': '삼성전자',\n",
       "  'stock_price': 59800,\n",
       "  '날짜': datetime.datetime(2022, 7, 5, 3, 11)},\n",
       " {'stock_code': '005930',\n",
       "  'stock_name': '삼성전자',\n",
       "  'stock_price': 59700,\n",
       "  '날짜': datetime.datetime(2022, 7, 5, 3, 12)},\n",
       " {'stock_code': '005930',\n",
       "  'stock_name': '삼성전자',\n",
       "  'stock_price': 59600,\n",
       "  '날짜': datetime.datetime(2022, 7, 5, 3, 13)}]"
      ]
     },
     "execution_count": 132,
     "metadata": {},
     "output_type": "execute_result"
    }
   ],
   "source": [
    "stock_list"
   ]
  },
  {
   "cell_type": "markdown",
   "id": "028aef6f-c213-4a12-8af3-26fadc6ea4c2",
   "metadata": {},
   "source": [
    "# 유저정보"
   ]
  },
  {
   "cell_type": "code",
   "execution_count": 124,
   "id": "15ee8bd3-879a-4369-9a1d-b07a8aa8ed7a",
   "metadata": {},
   "outputs": [
    {
     "data": {
      "text/plain": [
       "{'uid': 'gdhong', 'uname': '홍길동', 'account': '1234-5678-01'}"
      ]
     },
     "execution_count": 124,
     "metadata": {},
     "output_type": "execute_result"
    }
   ],
   "source": [
    "# uid, uname, account\n",
    "key = ['uid', 'uname', 'account']\n",
    "val = ['gdhong', '홍길동', '1234-5678-01']\n",
    "user_dict= dict(zip(key,val))\n",
    "user_dict"
   ]
  },
  {
   "cell_type": "code",
   "execution_count": null,
   "id": "a9ace2df-2247-436d-995b-ac804512eaac",
   "metadata": {},
   "outputs": [],
   "source": [
    "import numpy as np\n",
    "rnum = np.random.randint"
   ]
  },
  {
   "cell_type": "code",
   "execution_count": 135,
   "id": "8272ea53-f12f-4a0f-b1d9-2719ee626c3b",
   "metadata": {},
   "outputs": [
    {
     "data": {
      "text/plain": [
       "[{'stock_code': '005930',\n",
       "  'stock_name': '삼성전자',\n",
       "  'stock_price': 59700,\n",
       "  '날짜': datetime.datetime(2022, 7, 5, 2, 54)},\n",
       " {'stock_code': '005930',\n",
       "  'stock_name': '삼성전자',\n",
       "  'stock_price': 59800,\n",
       "  '날짜': datetime.datetime(2022, 7, 5, 2, 55)},\n",
       " {'stock_code': '005930',\n",
       "  'stock_name': '삼성전자',\n",
       "  'stock_price': 59900,\n",
       "  '날짜': datetime.datetime(2022, 7, 5, 2, 56)},\n",
       " {'stock_code': '005930',\n",
       "  'stock_name': '삼성전자',\n",
       "  'stock_price': 60000,\n",
       "  '날짜': datetime.datetime(2022, 7, 5, 2, 57)},\n",
       " {'stock_code': '005930',\n",
       "  'stock_name': '삼성전자',\n",
       "  'stock_price': 60100,\n",
       "  '날짜': datetime.datetime(2022, 7, 5, 2, 58)},\n",
       " {'stock_code': '005930',\n",
       "  'stock_name': '삼성전자',\n",
       "  'stock_price': 60200,\n",
       "  '날짜': datetime.datetime(2022, 7, 5, 2, 59)},\n",
       " {'stock_code': '005930',\n",
       "  'stock_name': '삼성전자',\n",
       "  'stock_price': 60300,\n",
       "  '날짜': datetime.datetime(2022, 7, 5, 3, 0)},\n",
       " {'stock_code': '005930',\n",
       "  'stock_name': '삼성전자',\n",
       "  'stock_price': 60400,\n",
       "  '날짜': datetime.datetime(2022, 7, 5, 3, 1)},\n",
       " {'stock_code': '005930',\n",
       "  'stock_name': '삼성전자',\n",
       "  'stock_price': 60500,\n",
       "  '날짜': datetime.datetime(2022, 7, 5, 3, 2)},\n",
       " {'stock_code': '005930',\n",
       "  'stock_name': '삼성전자',\n",
       "  'stock_price': 60600,\n",
       "  '날짜': datetime.datetime(2022, 7, 5, 3, 3)},\n",
       " {'stock_code': '005930',\n",
       "  'stock_name': '삼성전자',\n",
       "  'stock_price': 60500,\n",
       "  '날짜': datetime.datetime(2022, 7, 5, 3, 4)},\n",
       " {'stock_code': '005930',\n",
       "  'stock_name': '삼성전자',\n",
       "  'stock_price': 60400,\n",
       "  '날짜': datetime.datetime(2022, 7, 5, 3, 5)},\n",
       " {'stock_code': '005930',\n",
       "  'stock_name': '삼성전자',\n",
       "  'stock_price': 60300,\n",
       "  '날짜': datetime.datetime(2022, 7, 5, 3, 6)},\n",
       " {'stock_code': '005930',\n",
       "  'stock_name': '삼성전자',\n",
       "  'stock_price': 60200,\n",
       "  '날짜': datetime.datetime(2022, 7, 5, 3, 7)},\n",
       " {'stock_code': '005930',\n",
       "  'stock_name': '삼성전자',\n",
       "  'stock_price': 60100,\n",
       "  '날짜': datetime.datetime(2022, 7, 5, 3, 8)},\n",
       " {'stock_code': '005930',\n",
       "  'stock_name': '삼성전자',\n",
       "  'stock_price': 60000,\n",
       "  '날짜': datetime.datetime(2022, 7, 5, 3, 9)},\n",
       " {'stock_code': '005930',\n",
       "  'stock_name': '삼성전자',\n",
       "  'stock_price': 59900,\n",
       "  '날짜': datetime.datetime(2022, 7, 5, 3, 10)},\n",
       " {'stock_code': '005930',\n",
       "  'stock_name': '삼성전자',\n",
       "  'stock_price': 59800,\n",
       "  '날짜': datetime.datetime(2022, 7, 5, 3, 11)},\n",
       " {'stock_code': '005930',\n",
       "  'stock_name': '삼성전자',\n",
       "  'stock_price': 59700,\n",
       "  '날짜': datetime.datetime(2022, 7, 5, 3, 12)},\n",
       " {'stock_code': '005930',\n",
       "  'stock_name': '삼성전자',\n",
       "  'stock_price': 59600,\n",
       "  '날짜': datetime.datetime(2022, 7, 5, 3, 13)}]"
      ]
     },
     "execution_count": 135,
     "metadata": {},
     "output_type": "execute_result"
    }
   ],
   "source": [
    "stock_list"
   ]
  },
  {
   "cell_type": "code",
   "execution_count": 155,
   "id": "b3ead801-8799-4b0a-ab73-297446b90252",
   "metadata": {},
   "outputs": [
    {
     "data": {
      "text/plain": [
       "[['005930', '삼성전자', 59700, 4, 0.0, 100, '2022-07-05 17: 39: 24'],\n",
       " ['005930', '삼성전자', 60000, 8, 0.0, 100, '2022-07-05 17: 39: 24'],\n",
       " ['005930', '삼성전자', 60300, 6, 0.0, 100, '2022-07-05 17: 39: 24'],\n",
       " ['005930', '삼성전자', 60600, 1, 0.0, 100, '2022-07-05 17: 39: 24'],\n",
       " ['005930', '삼성전자', 60300, 2, 0.0, -100, '2022-07-05 17: 39: 24'],\n",
       " ['005930', '삼성전자', 60000, 8, 0.0, -100, '2022-07-05 17: 39: 24'],\n",
       " ['005930', '삼성전자', 59700, 9, 0.0, -100, '2022-07-05 17: 39: 24']]"
      ]
     },
     "execution_count": 155,
     "metadata": {},
     "output_type": "execute_result"
    }
   ],
   "source": [
    "# stock_list에서 홀수 번째만 매수\n",
    "# 종목코드, 종목명, 매수가 : stock_list값\n",
    "# 수량은 랜덤하게(1~10)사이\n",
    "# 수익금액 : i+1번째 - i번째 차액\n",
    "# 날짜: 현재시간(시분초)\n",
    "\n",
    "buy_list = []\n",
    "for i in range(len(stock_list)):\n",
    "    if i%3==0:\n",
    "        \n",
    "        buy_list.append([stock_list[i]['stock_code'], stock_list[i]['stock_name'], stock_list[i]['stock_price'], np.random.randint(1,11), (0.0), \n",
    "                  stock_list[i]['stock_price']-stock_list[i-1]['stock_price'], dt.datetime.today().strftime('%Y-%m-%d %H: %M: %S')])\n",
    "        \n",
    "       \n",
    "       \n",
    "        \n",
    "buy_list"
   ]
  },
  {
   "cell_type": "code",
   "execution_count": 157,
   "id": "7e3e55b9-9d37-436a-802e-d73345dfc1df",
   "metadata": {},
   "outputs": [
    {
     "data": {
      "text/plain": [
       "[{'종목코드': '005930',\n",
       "  '종목명': '삼성전자',\n",
       "  '매수가': 59700,\n",
       "  '수량': 7,\n",
       "  '수익률': 0.0,\n",
       "  '수익금액': 100,\n",
       "  '날짜': '2022-07-05 17: 42: 27'},\n",
       " {'종목코드': '005930',\n",
       "  '종목명': '삼성전자',\n",
       "  '매수가': 60000,\n",
       "  '수량': 8,\n",
       "  '수익률': 0.0,\n",
       "  '수익금액': 100,\n",
       "  '날짜': '2022-07-05 17: 42: 27'},\n",
       " {'종목코드': '005930',\n",
       "  '종목명': '삼성전자',\n",
       "  '매수가': 60300,\n",
       "  '수량': 1,\n",
       "  '수익률': 0.0,\n",
       "  '수익금액': 100,\n",
       "  '날짜': '2022-07-05 17: 42: 27'},\n",
       " {'종목코드': '005930',\n",
       "  '종목명': '삼성전자',\n",
       "  '매수가': 60600,\n",
       "  '수량': 1,\n",
       "  '수익률': 0.0,\n",
       "  '수익금액': 100,\n",
       "  '날짜': '2022-07-05 17: 42: 27'},\n",
       " {'종목코드': '005930',\n",
       "  '종목명': '삼성전자',\n",
       "  '매수가': 60300,\n",
       "  '수량': 3,\n",
       "  '수익률': 0.0,\n",
       "  '수익금액': -100,\n",
       "  '날짜': '2022-07-05 17: 42: 27'},\n",
       " {'종목코드': '005930',\n",
       "  '종목명': '삼성전자',\n",
       "  '매수가': 60000,\n",
       "  '수량': 7,\n",
       "  '수익률': 0.0,\n",
       "  '수익금액': -100,\n",
       "  '날짜': '2022-07-05 17: 42: 27'},\n",
       " {'종목코드': '005930',\n",
       "  '종목명': '삼성전자',\n",
       "  '매수가': 59700,\n",
       "  '수량': 5,\n",
       "  '수익률': 0.0,\n",
       "  '수익금액': -100,\n",
       "  '날짜': '2022-07-05 17: 42: 27'}]"
      ]
     },
     "execution_count": 157,
     "metadata": {},
     "output_type": "execute_result"
    }
   ],
   "source": [
    "\n",
    "buy_list = []\n",
    "for i in range(len(stock_list)):\n",
    "    if i%3==0:\n",
    "        dict1 = {}\n",
    "        dict1['종목코드'] = stock_list[i]['stock_code']\n",
    "        dict1['종목명'] = stock_list[i]['stock_name']\n",
    "        dict1['매수가'] = stock_list[i]['stock_price']\n",
    "        dict1['수량'] = np.random.randint(1,11)\n",
    "        dict1['수익률'] = 0.0\n",
    "        dict1['수익금액'] = stock_list[i]['stock_price']-stock_list[i-1]['stock_price']\n",
    "        dict1['날짜'] = dt.datetime.today().strftime('%Y-%m-%d %H: %M: %S')\n",
    "        buy_list.append(dict1)\n",
    "buy_list"
   ]
  },
  {
   "cell_type": "code",
   "execution_count": 158,
   "id": "ebb93f47-b32c-4f46-a340-d1371f096afb",
   "metadata": {},
   "outputs": [
    {
     "data": {
      "text/plain": [
       "[{'종목코드': '005930',\n",
       "  '종목명': '삼성전자',\n",
       "  '매수가': 59700,\n",
       "  '수량': 5,\n",
       "  '수익률': 0.0,\n",
       "  '수익금액': 100,\n",
       "  '날짜': '2022-07-05 17: 50: 14'},\n",
       " {'종목코드': '005930',\n",
       "  '종목명': '삼성전자',\n",
       "  '매수가': 60000,\n",
       "  '수량': 2,\n",
       "  '수익률': 0.0,\n",
       "  '수익금액': 100,\n",
       "  '날짜': '2022-07-05 17: 50: 14'},\n",
       " {'종목코드': '005930',\n",
       "  '종목명': '삼성전자',\n",
       "  '매수가': 60300,\n",
       "  '수량': 1,\n",
       "  '수익률': 0.0,\n",
       "  '수익금액': 100,\n",
       "  '날짜': '2022-07-05 17: 50: 14'},\n",
       " {'종목코드': '005930',\n",
       "  '종목명': '삼성전자',\n",
       "  '매수가': 60600,\n",
       "  '수량': 6,\n",
       "  '수익률': 0.0,\n",
       "  '수익금액': 100,\n",
       "  '날짜': '2022-07-05 17: 50: 14'},\n",
       " {'종목코드': '005930',\n",
       "  '종목명': '삼성전자',\n",
       "  '매수가': 60300,\n",
       "  '수량': 6,\n",
       "  '수익률': 0.0,\n",
       "  '수익금액': -100,\n",
       "  '날짜': '2022-07-05 17: 50: 14'},\n",
       " {'종목코드': '005930',\n",
       "  '종목명': '삼성전자',\n",
       "  '매수가': 60000,\n",
       "  '수량': 6,\n",
       "  '수익률': 0.0,\n",
       "  '수익금액': -100,\n",
       "  '날짜': '2022-07-05 17: 50: 14'},\n",
       " {'종목코드': '005930',\n",
       "  '종목명': '삼성전자',\n",
       "  '매수가': 59700,\n",
       "  '수량': 7,\n",
       "  '수익률': 0.0,\n",
       "  '수익금액': -100,\n",
       "  '날짜': '2022-07-05 17: 50: 14'}]"
      ]
     },
     "execution_count": 158,
     "metadata": {},
     "output_type": "execute_result"
    }
   ],
   "source": [
    "# zip을 사용해서 dict 만들기\n",
    "buy_list = []\n",
    "key = ['종목코드','종목명','매수가','수량','수익률','수익금액','날짜']\n",
    "for i in range(len(stock_list)):\n",
    "    if i%3==0:\n",
    "        sublist = [stock_list[i]['stock_code'],\n",
    "                  stock_list[i]['stock_name'],\n",
    "                  stock_list[i]['stock_price'],\n",
    "                  np.random.randint(1,11),\n",
    "                  0.0,\n",
    "                  stock_list[i]['stock_price']-stock_list[i-1]['stock_price'],\n",
    "                  dt.datetime.today().strftime('%Y-%m-%d %H: %M: %S')]\n",
    "        buy_list.append(dict(zip(key, sublist)))\n",
    "     \n",
    "buy_list\n",
    "        \n",
    "        \n",
    "        \n",
    "        \n",
    "        "
   ]
  },
  {
   "cell_type": "code",
   "execution_count": null,
   "id": "8a57996e-f007-4931-bca3-d412cbaa7f77",
   "metadata": {},
   "outputs": [],
   "source": []
  }
 ],
 "metadata": {
  "kernelspec": {
   "display_name": "Python 3 (ipykernel)",
   "language": "python",
   "name": "python3"
  },
  "language_info": {
   "codemirror_mode": {
    "name": "ipython",
    "version": 3
   },
   "file_extension": ".py",
   "mimetype": "text/x-python",
   "name": "python",
   "nbconvert_exporter": "python",
   "pygments_lexer": "ipython3",
   "version": "3.8.8"
  }
 },
 "nbformat": 4,
 "nbformat_minor": 5
}
