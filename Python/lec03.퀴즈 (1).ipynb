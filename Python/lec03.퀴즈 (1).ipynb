{
 "cells": [
  {
   "cell_type": "markdown",
   "id": "d831b88f-0fa4-4243-8ac0-3070575d8e2c",
   "metadata": {},
   "source": [
    "<font size=6><b> lec03. Quiz</b></font>\n",
    "* 제어문, 반복문 활용\n",
    "* list, tuple, dict 활용"
   ]
  },
  {
   "cell_type": "markdown",
   "id": "036125b3-cc7e-4901-b667-5c38448eb338",
   "metadata": {},
   "source": [
    "<b>문1) 다음 3명의 회원 데이터를 다음의 형태로 출력</b>\n",
    "<pre>\n",
    "7654\tMARTIN\t1250\n",
    "7934\tMILLER\t1300\n",
    "7876\tADAMS\t1100\n",
    "\n",
    "* 출력 결과 :\n",
    "    [{'empno':7654, 'ename':'MARTIN', 'sal':1250}, \n",
    "     {'empno':7934, 'ename':'MILLER', 'sal':1300}, \n",
    "     {'empno':7876, 'ename':'ADAMS', 'sal':1100} ]"
   ]
  },
  {
   "cell_type": "code",
   "execution_count": 1,
   "id": "d4c34902-d7a3-4c80-8ec2-77a5a4d81241",
   "metadata": {},
   "outputs": [
    {
     "name": "stdout",
     "output_type": "stream",
     "text": [
      "[{'empno': 7654, 'ename': 'MARTIN', 'sal': 1250}, {'empno': 7934, 'ename': 'MILLER', 'sal': 1300}, {'empno': 7876, 'ename': 'ADAMS', 'sal': 1100}]\n"
     ]
    }
   ],
   "source": [
    "a = [[7654, 'MARTIN', 1250]\n",
    " ,[7934, 'MILLER', 1300]\n",
    " ,[7876, 'ADAMS', 1100]]\n",
    "tmp = []\n",
    "for i in range(len(a)):\n",
    "    dict = {'empno': a[i][0], 'ename' :a[i][1], 'sal':a[i][2]}\n",
    "    tmp.append(dict)\n",
    "print(tmp)"
   ]
  },
  {
   "cell_type": "markdown",
   "id": "a04decee-2c2c-4e31-b7e6-ac006751b28a",
   "metadata": {
    "tags": []
   },
   "source": [
    "<b>문2) 위 1번 문항의 회원 데이터에 다음 회원 추가</b>\n",
    "<pre>\n",
    "7839\tKING\t5000"
   ]
  },
  {
   "cell_type": "code",
   "execution_count": 3,
   "id": "17faacc7-618d-497b-a552-dc9e1fc3d86e",
   "metadata": {},
   "outputs": [
    {
     "name": "stdout",
     "output_type": "stream",
     "text": [
      "[{'empno': 7654, 'ename': 'MARTIN', 'sal': 1250}, {'empno': 7934, 'ename': 'MILLER', 'sal': 1300}, {'empno': 7876, 'ename': 'ADAMS', 'sal': 1100}, {'empno': 7839, 'ename': 'KING', 'sal': 5000}]\n"
     ]
    }
   ],
   "source": [
    "dict2 = {'empno':7839, 'ename': 'KING', 'sal':5000}\n",
    "tmp.append(dict2)\n",
    "print(tmp)"
   ]
  },
  {
   "cell_type": "markdown",
   "id": "5b4fc413-0a96-44d2-9d70-6bcc2aed3c1a",
   "metadata": {},
   "source": [
    "<b>문3) 위 1번 문항의 회원 데이터에 MILLER 회원의 급여 3000으로 변경</b>"
   ]
  },
  {
   "cell_type": "code",
   "execution_count": 8,
   "id": "4b8438fb-3321-4d2d-9e8d-050b1977785f",
   "metadata": {},
   "outputs": [
    {
     "name": "stdout",
     "output_type": "stream",
     "text": [
      "[{'empno': 7654, 'ename': 'MARTIN', 'sal': 1250}, {'empno': 7934, 'ename': 'MILLER', 'sal': 3000}, {'empno': 7876, 'ename': 'ADAMS', 'sal': 1100}, {'empno': 7839, 'ename': 'KING', 'sal': 5000}]\n"
     ]
    }
   ],
   "source": [
    "tmp[1]['sal'] = 3000\n",
    "print(tmp)"
   ]
  },
  {
   "cell_type": "markdown",
   "id": "eb862dc5-c72c-4fe6-bacb-64d610b13ec9",
   "metadata": {},
   "source": [
    "<b>문4) 구구단 3단, 4단에서 짝수만 곱하기한 결과와 총합 출력 </b>\n",
    "\n",
    "* 출력결과\n",
    "<pre>\n",
    "3* 2 = 6\t3* 4 = 12\t3* 6 = 18\t3* 8 = 24\t\n",
    "4* 2 = 8\t4* 4 = 16\t4* 6 = 24\t4* 8 = 32\t\n",
    "총합 : 140\n"
   ]
  },
  {
   "cell_type": "code",
   "execution_count": 51,
   "id": "8d3c9197-8fcf-498f-ab12-750d3b215942",
   "metadata": {},
   "outputs": [
    {
     "name": "stdout",
     "output_type": "stream",
     "text": [
      "3*2=6\t3*4=12\t3*6=18\t3*8=24\t\n",
      "4*2=8\t4*4=16\t4*6=24\t4*8=32\t\n",
      "총합 : 140\n"
     ]
    }
   ],
   "source": [
    "sum = 0\n",
    "for i in range(3,5):\n",
    "    for j in range(2,9,2):\n",
    "        print(f'{i}*{j}={i*j}', end='\\t')\n",
    "        sum+=i*j\n",
    "    print()\n",
    "print('총합 :',sum)\n",
    "# np에서 .cuumsum()을 사용하면 누적합을 보여준다.!!!!"
   ]
  },
  {
   "cell_type": "markdown",
   "id": "ecbe6ffe-76b4-4a2a-92c6-c06707df3127",
   "metadata": {
    "tags": []
   },
   "source": [
    "<b> 문5) 다음 리스트 문자열 중에서 길이가 5인 것들만 리스트 형태로 출력</b>\n",
    "\n",
    "* ename_list = ['FORD','SCOTT','WARD','TURNER','ADAMS','CLARK','KING']\n",
    "* 출력결과 : ['SCOTT', 'ADAMS', 'CLARK']"
   ]
  },
  {
   "cell_type": "code",
   "execution_count": 17,
   "id": "31100155-095d-4999-a264-cc65cbce836d",
   "metadata": {},
   "outputs": [
    {
     "name": "stdout",
     "output_type": "stream",
     "text": [
      "['SCOTT', 'ADAMS', 'CLARK']\n"
     ]
    }
   ],
   "source": [
    "ename_list = ['FORD','SCOTT','WARD','TURNER','ADAMS','CLARK','KING']\n",
    "tmp = []\n",
    "for i in ename_list:\n",
    "    if len(i)==5:\n",
    "        tmp.append(i)\n",
    "print(tmp)\n",
    "        "
   ]
  },
  {
   "cell_type": "code",
   "execution_count": 54,
   "id": "95704863-fbff-490f-80fb-8397a5690315",
   "metadata": {},
   "outputs": [
    {
     "data": {
      "text/plain": [
       "['SCOTT', 'ADAMS', 'CLARK']"
      ]
     },
     "execution_count": 54,
     "metadata": {},
     "output_type": "execute_result"
    }
   ],
   "source": [
    "[ename for ename in ename_list  if len(ename)==5] # 한줄 코딩"
   ]
  },
  {
   "cell_type": "markdown",
   "id": "b0df0d62-645f-4987-8563-da15b633b466",
   "metadata": {},
   "source": [
    "<b> 문6) 문자열에서 인덱스가 홀수인 문자와 짝수인 문자 연결하기\n",
    "\n",
    "* sent = \"대한민국\"\n",
    "* 출력결과 : 대민, 한국"
   ]
  },
  {
   "cell_type": "code",
   "execution_count": 23,
   "id": "5a63191d-ee56-49fb-96b5-a328029e27dc",
   "metadata": {},
   "outputs": [
    {
     "name": "stdout",
     "output_type": "stream",
     "text": [
      "대민,한국\n"
     ]
    }
   ],
   "source": [
    "sent = '대한민국'\n",
    "짝=''\n",
    "홀=''\n",
    "for i in range(len(sent)):\n",
    "    if i%2==0:\n",
    "        짝+=sent[i]\n",
    "    else:\n",
    "        홀+=sent[i]\n",
    "print(f'{짝},{홀}')"
   ]
  },
  {
   "cell_type": "markdown",
   "id": "ce1b948f-b333-4e72-a46c-3c2b69e15430",
   "metadata": {},
   "source": [
    "<b>문7) 369 게임 출력 결과를 다음과 같이 출력 (10회만 실행) </b>\n",
    "\n",
    "* 출력결과 :  1 2 짝 4 5 짝 7 8 짝 10 "
   ]
  },
  {
   "cell_type": "code",
   "execution_count": 64,
   "id": "e358eb8a-8cb6-44de-8a01-ee259c4fe838",
   "metadata": {},
   "outputs": [
    {
     "name": "stdout",
     "output_type": "stream",
     "text": [
      "1 2 짝 4 5 짝 7 8 짝 10 11 12 짝 14 15 짝 17 18 짝 20 "
     ]
    }
   ],
   "source": [
    "# 근데 369게임이 369 들어가면 박수치는거였나, 3으로 나눠떨어지면이였나\n",
    "for i in range(1,21):\n",
    "    tmp = str(i)\n",
    "    if '3' in tmp or '6' in tmp or '9' in tmp:\n",
    "        print('짝', end=' ')\n",
    "    else:\n",
    "        print(tmp, end=' ')"
   ]
  },
  {
   "cell_type": "code",
   "execution_count": 65,
   "id": "893bc0b4-007e-470a-9c3c-c0f161539145",
   "metadata": {},
   "outputs": [
    {
     "data": {
      "text/plain": [
       "4"
      ]
     },
     "execution_count": 65,
     "metadata": {},
     "output_type": "execute_result"
    }
   ],
   "source": [
    "'3333'.count('3')"
   ]
  },
  {
   "cell_type": "code",
   "execution_count": 67,
   "id": "fec1cc72-eb61-449d-959b-695cd0ae13ae",
   "metadata": {},
   "outputs": [
    {
     "name": "stdout",
     "output_type": "stream",
     "text": [
      "1 2 짝 4 5 짝 7 8 짝 10 11 12 짝 14 15 짝 17 18 짝 20 21 22 짝 24 25 짝 27 28 짝 짝 짝 짝 짝짝 짝 짝 짝짝 짝 짝 짝짝 "
     ]
    }
   ],
   "source": [
    "# 근데 369게임이 369 들어가면 박수치는거였나, 3으로 나눠떨어지면이였나\n",
    "for i in range(1,40):\n",
    "    tmp = str(i)\n",
    "    cnt=0\n",
    "    if '3' in tmp or '6' in tmp or '9' in tmp:\n",
    "        cnt = tmp.count('3')+tmp.count('6')+tmp.count('9')\n",
    "        print('짝'*cnt, end=' ')\n",
    "        \n",
    "    else:\n",
    "        print(tmp, end=' ')"
   ]
  },
  {
   "cell_type": "markdown",
   "id": "2c1f4129-012b-4daa-87fd-7757a3ce1d4d",
   "metadata": {},
   "source": [
    "<b>문8) 다음 사원 정보에서 커미션을 받는 사원의 급여 평균 출력(소수점 1자리)</b>\n",
    "\n",
    "<pre>\n",
    "empno\tename\tsal\tcomm\n",
    "-----\t-----\t-----\t------\n",
    "7654\tMARTIN\t1250\t1400\n",
    "7934\tMILLER\t1300\tnull\n",
    "7876\tADAMS\t1100\t0\n",
    "7499\tALLEN\t1600\t300\n",
    "\n",
    "emp = [\n",
    "    [7654,'MARTIN',1250,'1400'],\n",
    "    [7934,'MILLER',1300,''],\n",
    "    [7876,'ADAMS',1100,'0'],\n",
    "    [7499,'ALLEN',1600,'300']\n",
    "]\n",
    "\n",
    "* 출력 결과 : \n",
    "사원수 : 3\n",
    "합계 : 3950\n",
    "평균 : 1316.67"
   ]
  },
  {
   "cell_type": "code",
   "execution_count": 55,
   "id": "f289a09d-e4fe-48c6-b8e7-3071d644a19e",
   "metadata": {},
   "outputs": [
    {
     "name": "stdout",
     "output_type": "stream",
     "text": [
      "사원수 : 2\n",
      "합계 : 2850\n",
      "평균 : 1425.00\n"
     ]
    }
   ],
   "source": [
    "emp = [\n",
    "    [7654,'MARTIN',1250,'1400'],\n",
    "    [7934,'MILLER',1300,''],\n",
    "    [7876,'ADAMS',1100,'0'],\n",
    "    [7499,'ALLEN',1600,'300']\n",
    "]\n",
    "\n",
    "cnt=0\n",
    "sum=0\n",
    "for i in emp:\n",
    "    if i[3] and int(i[3])>0:\n",
    "        cnt+=1\n",
    "        sum+=i[2]\n",
    "        \n",
    "\n",
    "print(f'사원수 : {cnt}')\n",
    "print(f'합계 : {sum}')\n",
    "print(f'평균 : {sum/cnt:.2f}')"
   ]
  },
  {
   "cell_type": "code",
   "execution_count": 56,
   "id": "64c934a3-3148-40b6-a48a-ae926bd38431",
   "metadata": {},
   "outputs": [
    {
     "name": "stdout",
     "output_type": "stream",
     "text": [
      "[1250, 1600]\n",
      "사원수 : 2\n",
      "합계 : 2850\n",
      "평균 : 1425.0\n"
     ]
    }
   ],
   "source": [
    "import numpy as np\n",
    "emp = [\n",
    "    [7654,'MARTIN',1250,'1400'],\n",
    "    [7934,'MILLER',1300,''],\n",
    "    [7876,'ADAMS',1100,'0'],\n",
    "    [7499,'ALLEN',1600,'300']\n",
    "]\n",
    "\n",
    "emp = np.array(emp)\n",
    "temp = []\n",
    "for val in emp:\n",
    "    if bool(val[3]) and int(val[3])>0:\n",
    "        temp.append(int(val[2]))\n",
    "print(temp)\n",
    "\n",
    "\n",
    "print(f'사원수 : {len(temp)}')\n",
    "print(f'합계 : {np.array(temp).sum()}')\n",
    "print(f'평균 : {np.array(temp).mean()}')\n"
   ]
  },
  {
   "cell_type": "markdown",
   "id": "e7f9e2be-4933-4057-b32d-403af90aa9d7",
   "metadata": {},
   "source": [
    "<b>문9) 2013~2015년 사이의 매출 합계 출력</b>\n",
    "<pre>\n",
    "\n",
    "year   = [2011, 2012, 2013, 2014, 2015, 2016, 2017, 2018]\n",
    "amount = [500,  600,  700,  900,  1100,  700, 650,  400]\n",
    "\n",
    "* 출력 결과 \n",
    "매출 합계 : 2700"
   ]
  },
  {
   "cell_type": "code",
   "execution_count": 35,
   "id": "17663e5d-0b84-402f-a540-e0cec15ae526",
   "metadata": {},
   "outputs": [
    {
     "name": "stdout",
     "output_type": "stream",
     "text": [
      "매출 합계 : 2700\n"
     ]
    }
   ],
   "source": [
    "\n",
    "year   = [2011, 2012, 2013, 2014, 2015, 2016, 2017, 2018]\n",
    "amount = [500,  600,  700,  900,  1100,  700, 650,  400]\n",
    "\n",
    "sum=0\n",
    "for i in range(len(year)):\n",
    "    if year[i]>=2013 and year[i] <=2015:\n",
    "        sum+=amount[i]\n",
    "print(f'매출 합계 : {sum}')"
   ]
  },
  {
   "cell_type": "markdown",
   "id": "91544178-f26f-403c-93c6-d9b90e0cd13d",
   "metadata": {},
   "source": [
    "<b>문10) 전체 회원에서 남 녀 구성 비율</b>\n",
    "<pre>\n",
    "emp = ['m','m','f','f','m','f']\n",
    "\n",
    "* 출력 결과 : \n",
    "남 : 3명 50%\n",
    "여 : 3명 50%"
   ]
  },
  {
   "cell_type": "code",
   "execution_count": 39,
   "id": "57836400-a6bd-44f2-92f0-48982827e22b",
   "metadata": {},
   "outputs": [
    {
     "name": "stdout",
     "output_type": "stream",
     "text": [
      "남 : 3 50%\n",
      "여 : 3 50%\n"
     ]
    }
   ],
   "source": [
    "emp = ['m','m','f','f','m','f']\n",
    "cnt_m=0\n",
    "cnt_f=0\n",
    "for i in emp:\n",
    "    if i=='m':\n",
    "        cnt_m+=1\n",
    "    else:\n",
    "        cnt_f+=1\n",
    "print(f'남 : {cnt_m} {(cnt_m/len(emp))*100:.0f}%')\n",
    "print(f'여 : {cnt_f} {(cnt_f/len(emp))*100:.0f}%')"
   ]
  },
  {
   "cell_type": "code",
   "execution_count": 63,
   "id": "32879a9b-95dc-4cb2-ac0c-806ada56718d",
   "metadata": {},
   "outputs": [
    {
     "name": "stdout",
     "output_type": "stream",
     "text": [
      "남 : 3 50%\n",
      "여 : 3 50%\n"
     ]
    }
   ],
   "source": [
    "emp = ['m','m','f','f','m','f']\n",
    "arr = np.array(emp)\n",
    "\n",
    "a= arr[np.where(arr=='m')]\n",
    "b= arr[np.where(arr=='f')]\n",
    "\n",
    "print(f'남 : {len(a)} {(len(a)/len(emp))*100:.0f}%')\n",
    "print(f'여 : {len(b)} {(len(b)/len(emp))*100:.0f}%')"
   ]
  },
  {
   "cell_type": "code",
   "execution_count": null,
   "id": "a910d863-9a21-4956-bfda-7db39d0f6cea",
   "metadata": {},
   "outputs": [],
   "source": []
  }
 ],
 "metadata": {
  "kernelspec": {
   "display_name": "Python 3 (ipykernel)",
   "language": "python",
   "name": "python3"
  },
  "language_info": {
   "codemirror_mode": {
    "name": "ipython",
    "version": 3
   },
   "file_extension": ".py",
   "mimetype": "text/x-python",
   "name": "python",
   "nbconvert_exporter": "python",
   "pygments_lexer": "ipython3",
   "version": "3.8.8"
  }
 },
 "nbformat": 4,
 "nbformat_minor": 5
}
