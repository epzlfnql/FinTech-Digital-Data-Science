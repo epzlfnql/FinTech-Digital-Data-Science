{
 "cells": [
  {
   "cell_type": "code",
   "execution_count": null,
   "id": "748adef2-ac02-4dc6-8b65-a4ac01e71f11",
   "metadata": {},
   "outputs": [],
   "source": []
  },
  {
   "cell_type": "markdown",
   "id": "d69fefe1-fd13-4637-bcc0-5c2805095912",
   "metadata": {},
   "source": [
    "<font size=6><b>Lec00. ARIMA  : Multivariate Time Series (MTS)</b></font><br>\n",
    "* ref : https://www.analyticsvidhya.com/blog/2018/09/multivariate-time-series-guide-forecasting-modeling-python-codes/"
   ]
  },
  {
   "cell_type": "markdown",
   "id": "3cd82916-2c62-43e7-90d9-dbca55bb00c5",
   "metadata": {
    "tags": []
   },
   "source": [
    "# AirQualityUCI\n",
    "* ref : https://archive.ics.uci.edu/ml/datasets/Air+Quality\n",
    "* ref : https://gist.github.com/shreyasiitr/57f8fa30fa20b049359fb567cc6407d0\n",
    "<pre>\n",
    "0 Date (DD/MM/YYYY)\n",
    "1 Time (HH.MM.SS)\n",
    "2 True hourly averaged concentration CO in mg/m^3 (reference analyzer)\n",
    "3 PT08.S1 (tin oxide) hourly averaged sensor response (nominally CO targeted)\n",
    "4 True hourly averaged overall Non Metanic HydroCarbons concentration in microg/m^3 (reference analyzer)\n",
    "5 True hourly averaged Benzene concentration in microg/m^3 (reference analyzer)\n",
    "6 PT08.S2 (titania) hourly averaged sensor response (nominally NMHC targeted)\n",
    "7 True hourly averaged NOx concentration in ppb (reference analyzer)\n",
    "8 PT08.S3 (tungsten oxide) hourly averaged sensor response (nominally NOx targeted)\n",
    "9 True hourly averaged NO2 concentration in microg/m^3 (reference analyzer)\n",
    "10 PT08.S4 (tungsten oxide) hourly averaged sensor response (nominally NO2 targeted)\n",
    "11 PT08.S5 (indium oxide) hourly averaged sensor response (nominally O3 targeted)\n",
    "12 Temperature in Â°C\n",
    "13 Relative Humidity (%)\n",
    "14 AH Absolute Humidity"
   ]
  },
  {
   "cell_type": "code",
   "execution_count": 57,
   "id": "089b0a6e-e3be-4d41-9038-bba3a1bb7494",
   "metadata": {},
   "outputs": [
    {
     "data": {
      "text/html": [
       "<style>.container{width:100% !important;}</style>"
      ],
      "text/plain": [
       "<IPython.core.display.HTML object>"
      ]
     },
     "metadata": {},
     "output_type": "display_data"
    }
   ],
   "source": [
    "import pandas as pd\n",
    "import numpy as np\n",
    "import matplotlib.pyplot as plt\n",
    "import seaborn as sns\n",
    "%matplotlib inline\n",
    "\n",
    "from sklearn.metrics import mean_squared_error\n",
    "\n",
    "import warnings\n",
    "warnings.filterwarnings(action='ignore')\n",
    "\n",
    "#-------------------- 차트 관련 속성 (한글처리, 그리드) -----------\n",
    "#plt.rc('font', family='NanumGothicOTF') # For MacOS\n",
    "plt.rcParams['font.family']= 'Malgun Gothic'\n",
    "plt.rcParams['axes.unicode_minus'] = False\n",
    "sns.set()\n",
    "\n",
    "#-------------------- 주피터 , 출력결과 넓이 늘리기 ---------------\n",
    "from IPython.core.display import display, HTML\n",
    "display(HTML(\"<style>.container{width:100% !important;}</style>\"))\n",
    "pd.set_option('display.max_rows', 100)\n",
    "pd.set_option('display.max_columns', 100)\n",
    "pd.set_option('max_colwidth', None)\n"
   ]
  },
  {
   "cell_type": "markdown",
   "id": "dea9f5c4-1cd0-4947-8e16-c3b2b04e3dcc",
   "metadata": {},
   "source": [
    "# Data Load"
   ]
  },
  {
   "cell_type": "code",
   "execution_count": 39,
   "id": "b1a519db-1e1e-4703-8181-18b9974de5d4",
   "metadata": {},
   "outputs": [
    {
     "name": "stdout",
     "output_type": "stream",
     "text": [
      "(9471, 16)\n",
      "<class 'pandas.core.frame.DataFrame'>\n",
      "RangeIndex: 9471 entries, 0 to 9470\n",
      "Data columns (total 16 columns):\n",
      " #   Column         Non-Null Count  Dtype  \n",
      "---  ------         --------------  -----  \n",
      " 0   Date_Time      9471 non-null   object \n",
      " 1   CO(GT)         9357 non-null   object \n",
      " 2   PT08.S1(CO)    9357 non-null   float64\n",
      " 3   NMHC(GT)       9357 non-null   float64\n",
      " 4   C6H6(GT)       9357 non-null   object \n",
      " 5   PT08.S2(NMHC)  9357 non-null   float64\n",
      " 6   NOx(GT)        9357 non-null   float64\n",
      " 7   PT08.S3(NOx)   9357 non-null   float64\n",
      " 8   NO2(GT)        9357 non-null   float64\n",
      " 9   PT08.S4(NO2)   9357 non-null   float64\n",
      " 10  PT08.S5(O3)    9357 non-null   float64\n",
      " 11  T              9357 non-null   object \n",
      " 12  RH             9357 non-null   object \n",
      " 13  AH             9357 non-null   object \n",
      " 14  Unnamed: 15    0 non-null      float64\n",
      " 15  Unnamed: 16    0 non-null      float64\n",
      "dtypes: float64(10), object(6)\n",
      "memory usage: 1.2+ MB\n",
      "None\n"
     ]
    },
    {
     "data": {
      "text/html": [
       "<div>\n",
       "<style scoped>\n",
       "    .dataframe tbody tr th:only-of-type {\n",
       "        vertical-align: middle;\n",
       "    }\n",
       "\n",
       "    .dataframe tbody tr th {\n",
       "        vertical-align: top;\n",
       "    }\n",
       "\n",
       "    .dataframe thead th {\n",
       "        text-align: right;\n",
       "    }\n",
       "</style>\n",
       "<table border=\"1\" class=\"dataframe\">\n",
       "  <thead>\n",
       "    <tr style=\"text-align: right;\">\n",
       "      <th></th>\n",
       "      <th>Date_Time</th>\n",
       "      <th>CO(GT)</th>\n",
       "      <th>PT08.S1(CO)</th>\n",
       "      <th>NMHC(GT)</th>\n",
       "      <th>C6H6(GT)</th>\n",
       "      <th>PT08.S2(NMHC)</th>\n",
       "      <th>NOx(GT)</th>\n",
       "      <th>PT08.S3(NOx)</th>\n",
       "      <th>NO2(GT)</th>\n",
       "      <th>PT08.S4(NO2)</th>\n",
       "      <th>PT08.S5(O3)</th>\n",
       "      <th>T</th>\n",
       "      <th>RH</th>\n",
       "      <th>AH</th>\n",
       "      <th>Unnamed: 15</th>\n",
       "      <th>Unnamed: 16</th>\n",
       "    </tr>\n",
       "  </thead>\n",
       "  <tbody>\n",
       "    <tr>\n",
       "      <th>0</th>\n",
       "      <td>10/03/2004 18.00.00</td>\n",
       "      <td>2,6</td>\n",
       "      <td>1360.0</td>\n",
       "      <td>150.0</td>\n",
       "      <td>11,9</td>\n",
       "      <td>1046.0</td>\n",
       "      <td>166.0</td>\n",
       "      <td>1056.0</td>\n",
       "      <td>113.0</td>\n",
       "      <td>1692.0</td>\n",
       "      <td>1268.0</td>\n",
       "      <td>13,6</td>\n",
       "      <td>48,9</td>\n",
       "      <td>0,7578</td>\n",
       "      <td>NaN</td>\n",
       "      <td>NaN</td>\n",
       "    </tr>\n",
       "    <tr>\n",
       "      <th>1</th>\n",
       "      <td>10/03/2004 19.00.00</td>\n",
       "      <td>2</td>\n",
       "      <td>1292.0</td>\n",
       "      <td>112.0</td>\n",
       "      <td>9,4</td>\n",
       "      <td>955.0</td>\n",
       "      <td>103.0</td>\n",
       "      <td>1174.0</td>\n",
       "      <td>92.0</td>\n",
       "      <td>1559.0</td>\n",
       "      <td>972.0</td>\n",
       "      <td>13,3</td>\n",
       "      <td>47,7</td>\n",
       "      <td>0,7255</td>\n",
       "      <td>NaN</td>\n",
       "      <td>NaN</td>\n",
       "    </tr>\n",
       "    <tr>\n",
       "      <th>2</th>\n",
       "      <td>10/03/2004 20.00.00</td>\n",
       "      <td>2,2</td>\n",
       "      <td>1402.0</td>\n",
       "      <td>88.0</td>\n",
       "      <td>9,0</td>\n",
       "      <td>939.0</td>\n",
       "      <td>131.0</td>\n",
       "      <td>1140.0</td>\n",
       "      <td>114.0</td>\n",
       "      <td>1555.0</td>\n",
       "      <td>1074.0</td>\n",
       "      <td>11,9</td>\n",
       "      <td>54,0</td>\n",
       "      <td>0,7502</td>\n",
       "      <td>NaN</td>\n",
       "      <td>NaN</td>\n",
       "    </tr>\n",
       "    <tr>\n",
       "      <th>3</th>\n",
       "      <td>10/03/2004 21.00.00</td>\n",
       "      <td>2,2</td>\n",
       "      <td>1376.0</td>\n",
       "      <td>80.0</td>\n",
       "      <td>9,2</td>\n",
       "      <td>948.0</td>\n",
       "      <td>172.0</td>\n",
       "      <td>1092.0</td>\n",
       "      <td>122.0</td>\n",
       "      <td>1584.0</td>\n",
       "      <td>1203.0</td>\n",
       "      <td>11,0</td>\n",
       "      <td>60,0</td>\n",
       "      <td>0,7867</td>\n",
       "      <td>NaN</td>\n",
       "      <td>NaN</td>\n",
       "    </tr>\n",
       "    <tr>\n",
       "      <th>4</th>\n",
       "      <td>10/03/2004 22.00.00</td>\n",
       "      <td>1,6</td>\n",
       "      <td>1272.0</td>\n",
       "      <td>51.0</td>\n",
       "      <td>6,5</td>\n",
       "      <td>836.0</td>\n",
       "      <td>131.0</td>\n",
       "      <td>1205.0</td>\n",
       "      <td>116.0</td>\n",
       "      <td>1490.0</td>\n",
       "      <td>1110.0</td>\n",
       "      <td>11,2</td>\n",
       "      <td>59,6</td>\n",
       "      <td>0,7888</td>\n",
       "      <td>NaN</td>\n",
       "      <td>NaN</td>\n",
       "    </tr>\n",
       "  </tbody>\n",
       "</table>\n",
       "</div>"
      ],
      "text/plain": [
       "             Date_Time CO(GT)  PT08.S1(CO)  NMHC(GT) C6H6(GT)  PT08.S2(NMHC)  \\\n",
       "0  10/03/2004 18.00.00    2,6       1360.0     150.0     11,9         1046.0   \n",
       "1  10/03/2004 19.00.00      2       1292.0     112.0      9,4          955.0   \n",
       "2  10/03/2004 20.00.00    2,2       1402.0      88.0      9,0          939.0   \n",
       "3  10/03/2004 21.00.00    2,2       1376.0      80.0      9,2          948.0   \n",
       "4  10/03/2004 22.00.00    1,6       1272.0      51.0      6,5          836.0   \n",
       "\n",
       "   NOx(GT)  PT08.S3(NOx)  NO2(GT)  PT08.S4(NO2)  PT08.S5(O3)     T    RH  \\\n",
       "0    166.0        1056.0    113.0        1692.0       1268.0  13,6  48,9   \n",
       "1    103.0        1174.0     92.0        1559.0        972.0  13,3  47,7   \n",
       "2    131.0        1140.0    114.0        1555.0       1074.0  11,9  54,0   \n",
       "3    172.0        1092.0    122.0        1584.0       1203.0  11,0  60,0   \n",
       "4    131.0        1205.0    116.0        1490.0       1110.0  11,2  59,6   \n",
       "\n",
       "       AH  Unnamed: 15  Unnamed: 16  \n",
       "0  0,7578          NaN          NaN  \n",
       "1  0,7255          NaN          NaN  \n",
       "2  0,7502          NaN          NaN  \n",
       "3  0,7867          NaN          NaN  \n",
       "4  0,7888          NaN          NaN  "
      ]
     },
     "execution_count": 39,
     "metadata": {},
     "output_type": "execute_result"
    }
   ],
   "source": [
    "df = pd.read_csv(\"./dataset/AirQualityUCI.csv\", parse_dates=[['Date', 'Time']], sep=\";\")\n",
    "print(df.shape)\n",
    "print(df.info())\n",
    "df.head()"
   ]
  },
  {
   "cell_type": "code",
   "execution_count": 2,
   "id": "c08e41cf-20bd-46e9-aa13-377301cb1f5a",
   "metadata": {},
   "outputs": [
    {
     "data": {
      "text/plain": [
       "Date_Time           0\n",
       "CO(GT)            114\n",
       "PT08.S1(CO)       114\n",
       "NMHC(GT)          114\n",
       "C6H6(GT)          114\n",
       "PT08.S2(NMHC)     114\n",
       "NOx(GT)           114\n",
       "PT08.S3(NOx)      114\n",
       "NO2(GT)           114\n",
       "PT08.S4(NO2)      114\n",
       "PT08.S5(O3)       114\n",
       "T                 114\n",
       "RH                114\n",
       "AH                114\n",
       "Unnamed: 15      9471\n",
       "Unnamed: 16      9471\n",
       "dtype: int64"
      ]
     },
     "execution_count": 2,
     "metadata": {},
     "output_type": "execute_result"
    }
   ],
   "source": [
    "df.isna().sum()"
   ]
  },
  {
   "cell_type": "code",
   "execution_count": 3,
   "id": "2e41f991-2126-47e4-badd-b8c2eed1bd7f",
   "metadata": {},
   "outputs": [
    {
     "data": {
      "text/html": [
       "<div>\n",
       "<style scoped>\n",
       "    .dataframe tbody tr th:only-of-type {\n",
       "        vertical-align: middle;\n",
       "    }\n",
       "\n",
       "    .dataframe tbody tr th {\n",
       "        vertical-align: top;\n",
       "    }\n",
       "\n",
       "    .dataframe thead th {\n",
       "        text-align: right;\n",
       "    }\n",
       "</style>\n",
       "<table border=\"1\" class=\"dataframe\">\n",
       "  <thead>\n",
       "    <tr style=\"text-align: right;\">\n",
       "      <th></th>\n",
       "      <th>Date_Time</th>\n",
       "      <th>CO(GT)</th>\n",
       "      <th>PT08.S1(CO)</th>\n",
       "      <th>NMHC(GT)</th>\n",
       "      <th>C6H6(GT)</th>\n",
       "      <th>PT08.S2(NMHC)</th>\n",
       "      <th>NOx(GT)</th>\n",
       "      <th>PT08.S3(NOx)</th>\n",
       "      <th>NO2(GT)</th>\n",
       "      <th>PT08.S4(NO2)</th>\n",
       "      <th>PT08.S5(O3)</th>\n",
       "      <th>T</th>\n",
       "      <th>RH</th>\n",
       "      <th>AH</th>\n",
       "      <th>Unnamed: 15</th>\n",
       "      <th>Unnamed: 16</th>\n",
       "    </tr>\n",
       "  </thead>\n",
       "  <tbody>\n",
       "    <tr>\n",
       "      <th>9355</th>\n",
       "      <td>04/04/2005 13.00.00</td>\n",
       "      <td>2,1</td>\n",
       "      <td>1003.0</td>\n",
       "      <td>-200.0</td>\n",
       "      <td>9,5</td>\n",
       "      <td>961.0</td>\n",
       "      <td>235.0</td>\n",
       "      <td>702.0</td>\n",
       "      <td>156.0</td>\n",
       "      <td>1041.0</td>\n",
       "      <td>770.0</td>\n",
       "      <td>28,3</td>\n",
       "      <td>13,5</td>\n",
       "      <td>0,5139</td>\n",
       "      <td>NaN</td>\n",
       "      <td>NaN</td>\n",
       "    </tr>\n",
       "    <tr>\n",
       "      <th>9356</th>\n",
       "      <td>04/04/2005 14.00.00</td>\n",
       "      <td>2,2</td>\n",
       "      <td>1071.0</td>\n",
       "      <td>-200.0</td>\n",
       "      <td>11,9</td>\n",
       "      <td>1047.0</td>\n",
       "      <td>265.0</td>\n",
       "      <td>654.0</td>\n",
       "      <td>168.0</td>\n",
       "      <td>1129.0</td>\n",
       "      <td>816.0</td>\n",
       "      <td>28,5</td>\n",
       "      <td>13,1</td>\n",
       "      <td>0,5028</td>\n",
       "      <td>NaN</td>\n",
       "      <td>NaN</td>\n",
       "    </tr>\n",
       "  </tbody>\n",
       "</table>\n",
       "</div>"
      ],
      "text/plain": [
       "                Date_Time CO(GT)  PT08.S1(CO)  NMHC(GT) C6H6(GT)  \\\n",
       "9355  04/04/2005 13.00.00    2,1       1003.0    -200.0      9,5   \n",
       "9356  04/04/2005 14.00.00    2,2       1071.0    -200.0     11,9   \n",
       "\n",
       "      PT08.S2(NMHC)  NOx(GT)  PT08.S3(NOx)  NO2(GT)  PT08.S4(NO2)  \\\n",
       "9355          961.0    235.0         702.0    156.0        1041.0   \n",
       "9356         1047.0    265.0         654.0    168.0        1129.0   \n",
       "\n",
       "      PT08.S5(O3)     T    RH      AH  Unnamed: 15  Unnamed: 16  \n",
       "9355        770.0  28,3  13,5  0,5139          NaN          NaN  \n",
       "9356        816.0  28,5  13,1  0,5028          NaN          NaN  "
      ]
     },
     "execution_count": 3,
     "metadata": {},
     "output_type": "execute_result"
    }
   ],
   "source": [
    "df = df[:9357]\n",
    "df.tail(2)"
   ]
  },
  {
   "cell_type": "markdown",
   "id": "a9681d32-9ae4-4943-bcb3-0b066ea8fca1",
   "metadata": {},
   "source": [
    "# 가공 & 전처리"
   ]
  },
  {
   "cell_type": "markdown",
   "id": "b4330aa3-20ac-44e0-9e54-2d373c86badb",
   "metadata": {},
   "source": [
    "## data , index 분리"
   ]
  },
  {
   "cell_type": "code",
   "execution_count": 4,
   "id": "304f10f8-a196-4401-8a30-f2ba0dc931a0",
   "metadata": {},
   "outputs": [],
   "source": [
    "df['Date_Time'] = pd.to_datetime(df.Date_Time , format = '%d/%m/%Y %H.%M.%S')"
   ]
  },
  {
   "cell_type": "code",
   "execution_count": 5,
   "id": "0ae3ee72-a938-43e0-8ff1-11a823a4be6e",
   "metadata": {},
   "outputs": [],
   "source": [
    "data = df.drop(['Date_Time'], axis=1)\n",
    "data.index = df.Date_Time"
   ]
  },
  {
   "cell_type": "markdown",
   "id": "cec2368b-afc5-4ad0-b910-75bf04aa3a3a",
   "metadata": {},
   "source": [
    "## 타입변환, 불필요컬럼 삭제\n",
    "<pre>\n",
    "* Unnamed: 15\tUnnamed: 16    --> drop\n",
    "* CO(GT), C6H6(GT), T, RH, AH   --> 13,1    "
   ]
  },
  {
   "cell_type": "code",
   "execution_count": 6,
   "id": "dfc262a0-9ae6-42f0-8364-cae7d65ca50e",
   "metadata": {},
   "outputs": [
    {
     "data": {
      "text/plain": [
       "Series([], dtype: int64)"
      ]
     },
     "execution_count": 6,
     "metadata": {},
     "output_type": "execute_result"
    }
   ],
   "source": [
    "data[['Unnamed: 15','Unnamed: 16']].value_counts()"
   ]
  },
  {
   "cell_type": "code",
   "execution_count": 7,
   "id": "714d3da6-31db-46b5-9ba0-39063607d5c9",
   "metadata": {},
   "outputs": [],
   "source": [
    "data = data.drop(['Unnamed: 15','Unnamed: 16'], axis=1)"
   ]
  },
  {
   "cell_type": "code",
   "execution_count": 55,
   "id": "9624781c-5ac9-480d-9f50-bf849e2bd07d",
   "metadata": {},
   "outputs": [
    {
     "data": {
      "text/html": [
       "<div>\n",
       "<style scoped>\n",
       "    .dataframe tbody tr th:only-of-type {\n",
       "        vertical-align: middle;\n",
       "    }\n",
       "\n",
       "    .dataframe tbody tr th {\n",
       "        vertical-align: top;\n",
       "    }\n",
       "\n",
       "    .dataframe thead th {\n",
       "        text-align: right;\n",
       "    }\n",
       "</style>\n",
       "<table border=\"1\" class=\"dataframe\">\n",
       "  <thead>\n",
       "    <tr style=\"text-align: right;\">\n",
       "      <th></th>\n",
       "      <th>CO(GT)</th>\n",
       "      <th>PT08.S1(CO)</th>\n",
       "      <th>NMHC(GT)</th>\n",
       "      <th>C6H6(GT)</th>\n",
       "      <th>PT08.S2(NMHC)</th>\n",
       "      <th>NOx(GT)</th>\n",
       "      <th>PT08.S3(NOx)</th>\n",
       "      <th>NO2(GT)</th>\n",
       "      <th>PT08.S4(NO2)</th>\n",
       "      <th>PT08.S5(O3)</th>\n",
       "      <th>T</th>\n",
       "      <th>RH</th>\n",
       "      <th>AH</th>\n",
       "    </tr>\n",
       "    <tr>\n",
       "      <th>Date_Time</th>\n",
       "      <th></th>\n",
       "      <th></th>\n",
       "      <th></th>\n",
       "      <th></th>\n",
       "      <th></th>\n",
       "      <th></th>\n",
       "      <th></th>\n",
       "      <th></th>\n",
       "      <th></th>\n",
       "      <th></th>\n",
       "      <th></th>\n",
       "      <th></th>\n",
       "      <th></th>\n",
       "    </tr>\n",
       "  </thead>\n",
       "  <tbody>\n",
       "    <tr>\n",
       "      <th>2004-03-10 18:00:00</th>\n",
       "      <td>2.6</td>\n",
       "      <td>1360.0</td>\n",
       "      <td>150.0</td>\n",
       "      <td>11.9</td>\n",
       "      <td>1046.0</td>\n",
       "      <td>166.0</td>\n",
       "      <td>1056.0</td>\n",
       "      <td>113.0</td>\n",
       "      <td>1692.0</td>\n",
       "      <td>1268.0</td>\n",
       "      <td>13.6</td>\n",
       "      <td>48.9</td>\n",
       "      <td>0.7578</td>\n",
       "    </tr>\n",
       "    <tr>\n",
       "      <th>2004-03-10 19:00:00</th>\n",
       "      <td>2.0</td>\n",
       "      <td>1292.0</td>\n",
       "      <td>112.0</td>\n",
       "      <td>9.4</td>\n",
       "      <td>955.0</td>\n",
       "      <td>103.0</td>\n",
       "      <td>1174.0</td>\n",
       "      <td>92.0</td>\n",
       "      <td>1559.0</td>\n",
       "      <td>972.0</td>\n",
       "      <td>13.3</td>\n",
       "      <td>47.7</td>\n",
       "      <td>0.7255</td>\n",
       "    </tr>\n",
       "  </tbody>\n",
       "</table>\n",
       "</div>"
      ],
      "text/plain": [
       "                     CO(GT)  PT08.S1(CO)  NMHC(GT)  C6H6(GT)  PT08.S2(NMHC)  \\\n",
       "Date_Time                                                                     \n",
       "2004-03-10 18:00:00     2.6       1360.0     150.0      11.9         1046.0   \n",
       "2004-03-10 19:00:00     2.0       1292.0     112.0       9.4          955.0   \n",
       "\n",
       "                     NOx(GT)  PT08.S3(NOx)  NO2(GT)  PT08.S4(NO2)  \\\n",
       "Date_Time                                                           \n",
       "2004-03-10 18:00:00    166.0        1056.0    113.0        1692.0   \n",
       "2004-03-10 19:00:00    103.0        1174.0     92.0        1559.0   \n",
       "\n",
       "                     PT08.S5(O3)     T    RH      AH  \n",
       "Date_Time                                             \n",
       "2004-03-10 18:00:00       1268.0  13.6  48.9  0.7578  \n",
       "2004-03-10 19:00:00        972.0  13.3  47.7  0.7255  "
      ]
     },
     "execution_count": 55,
     "metadata": {},
     "output_type": "execute_result"
    }
   ],
   "source": [
    "# data[['CO(GT)', 'C6H6(GT)', 'T', 'RH', 'AH']] = data[['CO(GT)', 'C6H6(GT)', 'T', 'RH', 'AH']].replace(',','.')\n",
    "data = data.replace(regex=r',', value='.')\n",
    "data.head(2)"
   ]
  },
  {
   "cell_type": "code",
   "execution_count": 9,
   "id": "a06f325f-c4d9-4d76-bca8-666a0e729419",
   "metadata": {},
   "outputs": [],
   "source": [
    "# data = data[['PT08.S1(CO)', 'NMHC(GT)', 'PT08.S2(NMHC)','NOx(GT)', 'PT08.S3(NOx)', 'NO2(GT)', 'PT08.S4(NO2)', 'PT08.S5(O3)']].astype('float64')   \n",
    "data = data.astype('float64')  "
   ]
  },
  {
   "cell_type": "code",
   "execution_count": 10,
   "id": "4cf4e4f8-5bb6-49ec-9709-d039b04b053f",
   "metadata": {},
   "outputs": [
    {
     "name": "stdout",
     "output_type": "stream",
     "text": [
      "<class 'pandas.core.frame.DataFrame'>\n",
      "DatetimeIndex: 9357 entries, 2004-03-10 18:00:00 to 2005-04-04 14:00:00\n",
      "Data columns (total 13 columns):\n",
      " #   Column         Non-Null Count  Dtype  \n",
      "---  ------         --------------  -----  \n",
      " 0   CO(GT)         9357 non-null   float64\n",
      " 1   PT08.S1(CO)    9357 non-null   float64\n",
      " 2   NMHC(GT)       9357 non-null   float64\n",
      " 3   C6H6(GT)       9357 non-null   float64\n",
      " 4   PT08.S2(NMHC)  9357 non-null   float64\n",
      " 5   NOx(GT)        9357 non-null   float64\n",
      " 6   PT08.S3(NOx)   9357 non-null   float64\n",
      " 7   NO2(GT)        9357 non-null   float64\n",
      " 8   PT08.S4(NO2)   9357 non-null   float64\n",
      " 9   PT08.S5(O3)    9357 non-null   float64\n",
      " 10  T              9357 non-null   float64\n",
      " 11  RH             9357 non-null   float64\n",
      " 12  AH             9357 non-null   float64\n",
      "dtypes: float64(13)\n",
      "memory usage: 1023.4 KB\n"
     ]
    }
   ],
   "source": [
    "data.info()"
   ]
  },
  {
   "cell_type": "markdown",
   "id": "2ac313f0-8e7d-40dc-9548-cc9da3a24fac",
   "metadata": {},
   "source": [
    "## missing value"
   ]
  },
  {
   "cell_type": "code",
   "execution_count": 11,
   "id": "96d1e4b0-e26b-41fc-bf01-2e785fc72612",
   "metadata": {},
   "outputs": [
    {
     "name": "stdout",
     "output_type": "stream",
     "text": [
      "Index(['CO(GT)', 'PT08.S1(CO)', 'NMHC(GT)', 'C6H6(GT)', 'PT08.S2(NMHC)',\n",
      "       'NOx(GT)', 'PT08.S3(NOx)', 'NO2(GT)', 'PT08.S4(NO2)', 'PT08.S5(O3)',\n",
      "       'T', 'RH', 'AH'],\n",
      "      dtype='object')\n"
     ]
    }
   ],
   "source": [
    "cols = data.columns\n",
    "print(cols)\n",
    "\n",
    "for col in cols:\n",
    "    for i in range(0,len(data)):\n",
    "        if data[col][i] == -200:\n",
    "            #print(col, i,  data[col][i])\n",
    "            data[col][i] = data[col][i-1].copy()\n",
    "            "
   ]
  },
  {
   "cell_type": "markdown",
   "id": "e95588e1-dac6-49be-9456-f72ff6f54fdc",
   "metadata": {
    "tags": []
   },
   "source": [
    "# checking stationarity\n",
    "* ref : https://blog.naver.com/yonxman/220904870137\n",
    "<pre>\n",
    "* johansen : 경제변수들간의 공적분 검정\n",
    "               AR 모형에 대한 가설검정을 통해 적분계열간 안정적인 장기 균형관계가 존재하는지를 점검하는 방법\n",
    "* 단위근 검정 : 종속변수(Δyt)와 설명변수(yt-1) 간의 상관관계 존재유무를 나타내는 φ의 유의성 파악\n",
    "* VAR 모형을 이용한 공적분 검정 : 두 벡터 ΔYt와 설명변수 Yt-1 간의 정규 상관계수(ρ)를 분석하여 통계량을 산출             "
   ]
  },
  {
   "cell_type": "code",
   "execution_count": 12,
   "id": "d7e84984-c437-4ec6-865e-cb33f5c58f54",
   "metadata": {},
   "outputs": [
    {
     "name": "stderr",
     "output_type": "stream",
     "text": [
      "c:\\ai\\pythonproject\\venv\\lib\\site-packages\\statsmodels\\tools\\_testing.py:19: FutureWarning: pandas.util.testing is deprecated. Use the functions in the public API at pandas.testing instead.\n",
      "  import pandas.util.testing as tm\n"
     ]
    },
    {
     "data": {
      "text/plain": [
       "array([1.75510896e-01, 1.52389933e-01, 1.15120416e-01, 1.04126281e-01,\n",
       "       9.29485509e-02, 6.89397159e-02, 5.77070988e-02, 3.43554214e-02,\n",
       "       3.05980659e-02, 1.18697142e-02, 2.46766099e-03, 7.09584856e-05])"
      ]
     },
     "execution_count": 12,
     "metadata": {},
     "output_type": "execute_result"
    }
   ],
   "source": [
    "from statsmodels.tsa.vector_ar.vecm import coint_johansen\n",
    "#since the test works for only 12 variables, I have randomly dropped in the next iteration, \n",
    "#I would drop another and check the eigenvalues\n",
    "\n",
    "johan_test_temp = data.drop([ 'CO(GT)'], axis=1)\n",
    "coint_johansen(johan_test_temp,-1,1).eig"
   ]
  },
  {
   "cell_type": "markdown",
   "id": "d70eeb07-3ae7-4997-8141-c36d3ddba841",
   "metadata": {},
   "source": [
    "# 학습"
   ]
  },
  {
   "cell_type": "markdown",
   "id": "768ff781-33a0-4b2c-9237-d8681e5298bf",
   "metadata": {
    "tags": []
   },
   "source": [
    "## train, test 분리"
   ]
  },
  {
   "cell_type": "code",
   "execution_count": 13,
   "id": "7f16aacc-e1d5-49f0-8e1b-dbeaa507dfc0",
   "metadata": {},
   "outputs": [],
   "source": [
    "train = data[:int(0.8*(len(data)))]\n",
    "valid = data[int(0.8*(len(data))):]"
   ]
  },
  {
   "cell_type": "code",
   "execution_count": 19,
   "id": "b9f72238-a651-4a77-871e-708545e1a110",
   "metadata": {},
   "outputs": [
    {
     "data": {
      "text/plain": [
       "'H'"
      ]
     },
     "execution_count": 19,
     "metadata": {},
     "output_type": "execute_result"
    }
   ],
   "source": [
    "freq=train.index.inferred_freq\n",
    "freq"
   ]
  },
  {
   "cell_type": "code",
   "execution_count": 33,
   "id": "67cda281-9841-4d4f-9bc4-f5efff4fd08e",
   "metadata": {},
   "outputs": [
    {
     "data": {
      "text/plain": [
       "array([[8.87831181e-01, 8.41930040e+02, 2.71627237e+02, 1.98242516e+00,\n",
       "        5.95810006e+02, 1.36652961e+02, 1.11978584e+03, 8.78809405e+01,\n",
       "        8.29685784e+02, 5.45724682e+02, 1.05475985e+01, 3.49086438e+01,\n",
       "        4.37327493e-01]])"
      ]
     },
     "execution_count": 33,
     "metadata": {},
     "output_type": "execute_result"
    }
   ],
   "source": [
    "from statsmodels.tsa.vector_ar.var_model import VAR\n",
    "\n",
    "model = VAR(endog=train,freq='H')\n",
    "model_fit = model.fit()\n",
    "pred = model_fit.forecast(model_fit.y, steps=len(valid))\n",
    "pred[:1]"
   ]
  },
  {
   "cell_type": "code",
   "execution_count": 48,
   "id": "22862af9-6d1d-492a-a8c7-4f774d7acb14",
   "metadata": {},
   "outputs": [
    {
     "data": {
      "text/html": [
       "<div>\n",
       "<style scoped>\n",
       "    .dataframe tbody tr th:only-of-type {\n",
       "        vertical-align: middle;\n",
       "    }\n",
       "\n",
       "    .dataframe tbody tr th {\n",
       "        vertical-align: top;\n",
       "    }\n",
       "\n",
       "    .dataframe thead tr th {\n",
       "        text-align: left;\n",
       "    }\n",
       "</style>\n",
       "<table border=\"1\" class=\"dataframe\">\n",
       "  <thead>\n",
       "    <tr>\n",
       "      <th></th>\n",
       "      <th>CO(GT)</th>\n",
       "      <th>PT08.S1(CO)</th>\n",
       "      <th>NMHC(GT)</th>\n",
       "      <th>C6H6(GT)</th>\n",
       "      <th>PT08.S2(NMHC)</th>\n",
       "      <th>NOx(GT)</th>\n",
       "      <th>PT08.S3(NOx)</th>\n",
       "      <th>NO2(GT)</th>\n",
       "      <th>PT08.S4(NO2)</th>\n",
       "      <th>PT08.S5(O3)</th>\n",
       "      <th>T</th>\n",
       "      <th>RH</th>\n",
       "      <th>AH</th>\n",
       "    </tr>\n",
       "  </thead>\n",
       "  <tbody>\n",
       "    <tr>\n",
       "      <th>0</th>\n",
       "      <td>0.887831</td>\n",
       "      <td>841.930040</td>\n",
       "      <td>271.627237</td>\n",
       "      <td>1.982425</td>\n",
       "      <td>595.810006</td>\n",
       "      <td>136.652961</td>\n",
       "      <td>1119.785840</td>\n",
       "      <td>87.880940</td>\n",
       "      <td>829.685784</td>\n",
       "      <td>545.724682</td>\n",
       "      <td>10.547598</td>\n",
       "      <td>34.908644</td>\n",
       "      <td>0.437327</td>\n",
       "    </tr>\n",
       "    <tr>\n",
       "      <th>1</th>\n",
       "      <td>0.991857</td>\n",
       "      <td>866.300135</td>\n",
       "      <td>269.296720</td>\n",
       "      <td>2.327046</td>\n",
       "      <td>619.651929</td>\n",
       "      <td>157.767278</td>\n",
       "      <td>1098.690737</td>\n",
       "      <td>90.574363</td>\n",
       "      <td>856.150818</td>\n",
       "      <td>598.061035</td>\n",
       "      <td>9.826373</td>\n",
       "      <td>37.449595</td>\n",
       "      <td>0.442717</td>\n",
       "    </tr>\n",
       "    <tr>\n",
       "      <th>2</th>\n",
       "      <td>1.104181</td>\n",
       "      <td>890.877509</td>\n",
       "      <td>267.701932</td>\n",
       "      <td>2.823187</td>\n",
       "      <td>645.301670</td>\n",
       "      <td>177.409556</td>\n",
       "      <td>1078.877607</td>\n",
       "      <td>93.129588</td>\n",
       "      <td>885.360153</td>\n",
       "      <td>648.593798</td>\n",
       "      <td>9.214091</td>\n",
       "      <td>39.678858</td>\n",
       "      <td>0.447482</td>\n",
       "    </tr>\n",
       "    <tr>\n",
       "      <th>3</th>\n",
       "      <td>1.219169</td>\n",
       "      <td>914.856579</td>\n",
       "      <td>266.614149</td>\n",
       "      <td>3.396825</td>\n",
       "      <td>671.288989</td>\n",
       "      <td>195.619763</td>\n",
       "      <td>1060.434050</td>\n",
       "      <td>95.567038</td>\n",
       "      <td>915.323932</td>\n",
       "      <td>696.956399</td>\n",
       "      <td>8.693913</td>\n",
       "      <td>41.640506</td>\n",
       "      <td>0.451830</td>\n",
       "    </tr>\n",
       "    <tr>\n",
       "      <th>4</th>\n",
       "      <td>1.332886</td>\n",
       "      <td>937.732765</td>\n",
       "      <td>265.865337</td>\n",
       "      <td>3.999277</td>\n",
       "      <td>696.669347</td>\n",
       "      <td>212.431288</td>\n",
       "      <td>1043.389748</td>\n",
       "      <td>97.891452</td>\n",
       "      <td>944.774167</td>\n",
       "      <td>742.857863</td>\n",
       "      <td>8.252727</td>\n",
       "      <td>43.370069</td>\n",
       "      <td>0.455894</td>\n",
       "    </tr>\n",
       "  </tbody>\n",
       "</table>\n",
       "</div>"
      ],
      "text/plain": [
       "     CO(GT) PT08.S1(CO)    NMHC(GT)  C6H6(GT) PT08.S2(NMHC)     NOx(GT)  \\\n",
       "0  0.887831  841.930040  271.627237  1.982425    595.810006  136.652961   \n",
       "1  0.991857  866.300135  269.296720  2.327046    619.651929  157.767278   \n",
       "2  1.104181  890.877509  267.701932  2.823187    645.301670  177.409556   \n",
       "3  1.219169  914.856579  266.614149  3.396825    671.288989  195.619763   \n",
       "4  1.332886  937.732765  265.865337  3.999277    696.669347  212.431288   \n",
       "\n",
       "  PT08.S3(NOx)    NO2(GT) PT08.S4(NO2) PT08.S5(O3)          T         RH  \\\n",
       "0  1119.785840  87.880940   829.685784  545.724682  10.547598  34.908644   \n",
       "1  1098.690737  90.574363   856.150818  598.061035   9.826373  37.449595   \n",
       "2  1078.877607  93.129588   885.360153  648.593798   9.214091  39.678858   \n",
       "3  1060.434050  95.567038   915.323932  696.956399   8.693913  41.640506   \n",
       "4  1043.389748  97.891452   944.774167  742.857863   8.252727  43.370069   \n",
       "\n",
       "         AH  \n",
       "0  0.437327  \n",
       "1  0.442717  \n",
       "2  0.447482  \n",
       "3  0.451830  \n",
       "4  0.455894  "
      ]
     },
     "execution_count": 48,
     "metadata": {},
     "output_type": "execute_result"
    }
   ],
   "source": [
    "pred_df = pd.DataFrame(data=pred, index=range(0,len(pred)),columns=[cols])\n",
    "pred_df.head()"
   ]
  },
  {
   "cell_type": "markdown",
   "id": "05282302-d695-4383-a8de-ffe7f173329e",
   "metadata": {},
   "source": [
    "## 평가"
   ]
  },
  {
   "cell_type": "code",
   "execution_count": 42,
   "id": "f1f071cf-75ad-4f90-bc7f-882d747e706d",
   "metadata": {},
   "outputs": [
    {
     "data": {
      "text/plain": [
       "array([8.87831181e-01, 8.41930040e+02, 2.71627237e+02, 1.98242516e+00,\n",
       "       5.95810006e+02, 1.36652961e+02, 1.11978584e+03, 8.78809405e+01,\n",
       "       8.29685784e+02, 5.45724682e+02, 1.05475985e+01, 3.49086438e+01,\n",
       "       4.37327493e-01])"
      ]
     },
     "execution_count": 42,
     "metadata": {},
     "output_type": "execute_result"
    }
   ],
   "source": [
    "pred[0]"
   ]
  },
  {
   "cell_type": "code",
   "execution_count": 46,
   "id": "f086faf0-2399-42ca-965d-ca62c8af78ed",
   "metadata": {},
   "outputs": [
    {
     "data": {
      "text/plain": [
       "array([7.000e-01, 8.330e+02, 2.750e+02, 2.000e+00, 5.840e+02, 1.070e+02,\n",
       "       1.144e+03, 8.000e+01, 8.210e+02, 4.630e+02, 1.130e+01, 3.250e+01,\n",
       "       4.334e-01])"
      ]
     },
     "execution_count": 46,
     "metadata": {},
     "output_type": "execute_result"
    }
   ],
   "source": [
    "valid.iloc[0].values"
   ]
  },
  {
   "cell_type": "code",
   "execution_count": 51,
   "id": "e61ff0f5-e3fb-4dfb-8617-0a2f59e76e2d",
   "metadata": {},
   "outputs": [
    {
     "name": "stdout",
     "output_type": "stream",
     "text": [
      "CO(GT)\n",
      "PT08.S1(CO)\n",
      "NMHC(GT)\n",
      "C6H6(GT)\n",
      "PT08.S2(NMHC)\n",
      "NOx(GT)\n",
      "PT08.S3(NOx)\n",
      "NO2(GT)\n",
      "PT08.S4(NO2)\n",
      "PT08.S5(O3)\n",
      "T\n",
      "RH\n",
      "AH\n"
     ]
    }
   ],
   "source": [
    "for c in cols:\n",
    "    print(c)"
   ]
  },
  {
   "cell_type": "code",
   "execution_count": 50,
   "id": "c74695c5-7db9-493a-a9bc-b0319f5ef373",
   "metadata": {},
   "outputs": [
    {
     "data": {
      "text/plain": [
       "25.845025458826267"
      ]
     },
     "execution_count": 50,
     "metadata": {},
     "output_type": "execute_result"
    }
   ],
   "source": [
    "np.sqrt(mean_squared_error(pred[0], valid.iloc[0].values))"
   ]
  },
  {
   "cell_type": "code",
   "execution_count": 53,
   "id": "8114c3b0-b74b-44a2-aefb-a3c4d96576dc",
   "metadata": {},
   "outputs": [
    {
     "name": "stdout",
     "output_type": "stream",
     "text": [
      "RMSE: CO(GT) \t 1.4086888836873896\n",
      "RMSE: PT08.S1(CO) \t 205.89558284023104\n",
      "RMSE: NMHC(GT) \t 6.67354871134665\n",
      "RMSE: C6H6(GT) \t 7.130087248706202\n",
      "RMSE: PT08.S2(NMHC) \t 277.84844376802596\n",
      "RMSE: NOx(GT) \t 214.78322340911566\n",
      "RMSE: PT08.S3(NOx) \t 244.9576966193666\n",
      "RMSE: NO2(GT) \t 66.69695211709882\n",
      "RMSE: PT08.S4(NO2) \t 490.0838893411126\n",
      "RMSE: PT08.S5(O3) \t 446.5154164888281\n",
      "RMSE: T \t 10.721325795600006\n",
      "RMSE: RH \t 17.111676248173158\n",
      "RMSE: AH \t 0.5216247245185668\n"
     ]
    }
   ],
   "source": [
    "#check rmse\n",
    "for c in cols:\n",
    "    print(f\"RMSE: {c} \\t {np.sqrt(mean_squared_error(pred_df[c], valid[c]))}\") "
   ]
  },
  {
   "cell_type": "code",
   "execution_count": 54,
   "id": "38e0a4f8-4f98-4931-b73d-4d4687272340",
   "metadata": {},
   "outputs": [
    {
     "name": "stdout",
     "output_type": "stream",
     "text": [
      "[[2.34596328e+00 1.08633212e+03 2.80762173e+02 1.24130779e+01\n",
      "  1.05535947e+03 2.80882233e+02 6.59534851e+02 1.68444418e+02\n",
      "  1.15918056e+03 8.50845529e+02 2.73639014e+01 1.55311062e+01\n",
      "  5.15317053e-01]]\n"
     ]
    },
    {
     "name": "stderr",
     "output_type": "stream",
     "text": [
      "c:\\ai\\pythonproject\\venv\\lib\\site-packages\\statsmodels\\tsa\\base\\tsa_model.py:162: ValueWarning: No frequency information was provided, so inferred frequency H will be used.\n",
      "  warnings.warn('No frequency information was'\n",
      "c:\\ai\\pythonproject\\venv\\lib\\site-packages\\statsmodels\\base\\wrapper.py:35: FutureWarning: y is a deprecated alias for endog, will be removed in version 0.11.0\n",
      "  obj = getattr(results, attr)\n"
     ]
    }
   ],
   "source": [
    "#make final predictions\n",
    "model = VAR(endog=data)\n",
    "model_fit = model.fit()\n",
    "yhat = model_fit.forecast(model_fit.y, steps=1)\n",
    "print(yhat)"
   ]
  },
  {
   "cell_type": "markdown",
   "id": "22cda56b-8e8e-4142-b235-0ebc66661356",
   "metadata": {},
   "source": [
    "# 검증\n",
    "* ref : https://www.statsmodels.org/dev/vector_ar.html"
   ]
  },
  {
   "cell_type": "code",
   "execution_count": null,
   "id": "6f5b9b28-fa3f-48df-b132-9240e1df7158",
   "metadata": {},
   "outputs": [],
   "source": []
  }
 ],
 "metadata": {
  "kernelspec": {
   "display_name": "Python 3 (ipykernel)",
   "language": "python",
   "name": "python3"
  },
  "language_info": {
   "codemirror_mode": {
    "name": "ipython",
    "version": 3
   },
   "file_extension": ".py",
   "mimetype": "text/x-python",
   "name": "python",
   "nbconvert_exporter": "python",
   "pygments_lexer": "ipython3",
   "version": "3.8.5"
  },
  "toc-autonumbering": true
 },
 "nbformat": 4,
 "nbformat_minor": 5
}
