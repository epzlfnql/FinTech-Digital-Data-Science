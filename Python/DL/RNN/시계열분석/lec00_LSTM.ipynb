{
 "cells": [
  {
   "cell_type": "markdown",
   "id": "b0a6e174-508e-4658-98ec-62ebd4cef0e7",
   "metadata": {},
   "source": [
    "<font size=6><b>Lec00. LSTM"
   ]
  },
  {
   "cell_type": "markdown",
   "id": "d7592b2c-5ef4-4510-89be-b1e540ad4e38",
   "metadata": {},
   "source": [
    "* Examples of LSTM models in Python:\n",
    "https://machinelearningmastery.com/how-to-develop-lstm-models-for-time-series-forecasting/ \n",
    "* Useful tutorial for timeseries forecasting: \n",
    "https://www.analyticsvidhya.com/blog/2016/02/time-series-forecasting-codes-python/\n",
    "* Open source “Gluon-TS”. You can use DeepAR model for forecasting if you want an LSTM solution: \n",
    "https://github.com/awslabs/gluon-ts \n",
    "* Book that explains forecasting principles:\n",
    "https://otexts.com/fpp2/ \n",
    "\n",
    "<pre>\n",
    "Univariate LSTM Models\n",
    "        Data set\n",
    "        Vanilla LSTM\n",
    "        Stacked LSTM\n",
    "        Bidirectional LSTM\n",
    "        CNN LSTM\n",
    "        ConvLSTM\n",
    "Multivariate LSTM Models\n",
    "        Multiple Input Series.\n",
    "        Multiple Parallel Series.\n",
    "Multi-Step LSTM Models\n",
    "        Data Preparation\n",
    "        Vector Output Model\n",
    "        Encoder-Decoder Model\n",
    "Multivariate Multi-Step LSTM Models\n",
    "        Multiple Input Multi-Step Output.\n",
    "        Multiple Parallel Input and Multi-Step Output."
   ]
  },
  {
   "cell_type": "code",
   "execution_count": 1,
   "id": "bbe67037-19e0-491b-befd-07a34dae10ed",
   "metadata": {},
   "outputs": [
    {
     "data": {
      "text/html": [
       "<style>.container{width:100% !important;}</style>"
      ],
      "text/plain": [
       "<IPython.core.display.HTML object>"
      ]
     },
     "metadata": {},
     "output_type": "display_data"
    }
   ],
   "source": [
    "from numpy import array\n",
    "import numpy as np\n",
    "import pandas as pd\n",
    "import tensorflow as tf\n",
    "from keras.models import Sequential\n",
    "from keras.layers import LSTM\n",
    "from keras.layers import Dense\n",
    "from keras.layers import Flatten\n",
    "from keras.layers import Bidirectional\n",
    "from keras.layers import TimeDistributed\n",
    "from keras.layers.convolutional import Conv1D\n",
    "from keras.layers.convolutional import MaxPooling1D\n",
    "from keras.callbacks import EarlyStopping\n",
    "    \n",
    "from sklearn.metrics import mean_squared_error\n",
    "import warnings\n",
    "warnings.filterwarnings(action='ignore')\n",
    "\n",
    "#-------------------- 주피터 , 출력결과 넓이 늘리기 ---------------\n",
    "from IPython.core.display import display, HTML\n",
    "display(HTML(\"<style>.container{width:100% !important;}</style>\"))\n",
    "pd.set_option('display.max_rows', 100)\n",
    "pd.set_option('display.max_columns', 100)\n",
    "pd.set_option('max_colwidth', None)"
   ]
  },
  {
   "cell_type": "code",
   "execution_count": 2,
   "id": "0b34dd8a-77c9-4722-9427-80300e123213",
   "metadata": {},
   "outputs": [],
   "source": [
    "np.random.seed(1234)\n",
    "tf.random.set_seed(1234)"
   ]
  },
  {
   "cell_type": "code",
   "execution_count": 3,
   "id": "c72fff8a-4bee-45fc-b2d8-d301f9945d44",
   "metadata": {},
   "outputs": [],
   "source": [
    "compare_list = [] \n",
    "# compare_df = pd.DataFrame(compare_list, columns=[\"model_type\",\"model\",\"dim\", \"X\",\"y\", \"mse\"])\n",
    "# compare_df.head()"
   ]
  },
  {
   "cell_type": "code",
   "execution_count": 4,
   "id": "ed450ba1-3d44-4fa3-ba96-e8949c7b21b5",
   "metadata": {},
   "outputs": [],
   "source": [
    "EPOCHS__   = 300\n",
    "PATIENCE__ = 15"
   ]
  },
  {
   "cell_type": "markdown",
   "id": "3f2cd54a-d07d-4848-9f6d-91ed39b1af7a",
   "metadata": {},
   "source": [
    "# Univariate LSTM Models"
   ]
  },
  {
   "cell_type": "markdown",
   "id": "4d447b45-6717-4ce0-8eed-a55268460534",
   "metadata": {},
   "source": [
    "## Data set\n",
    "\n",
    "<pre>\n",
    "[10, 20, 30, 40, 50, 60, 70, 80, 90]\n",
    "\n",
    "X,\t\t\ty\n",
    "10, 20, 30\t\t40\n",
    "20, 30, 40\t\t50\n",
    "30, 40, 50\t\t60\n",
    "...\n",
    "60, 70, 80\t\t90"
   ]
  },
  {
   "cell_type": "code",
   "execution_count": 5,
   "id": "29488005-0294-4418-91b1-3eeb5e064970",
   "metadata": {},
   "outputs": [
    {
     "name": "stdout",
     "output_type": "stream",
     "text": [
      "(6, 3) (6,)\n",
      "[10 20 30] 40\n",
      "------------------\n",
      "[20 30 40] 50\n",
      "------------------\n",
      "[30 40 50] 60\n",
      "------------------\n",
      "[40 50 60] 70\n",
      "------------------\n",
      "[50 60 70] 80\n",
      "------------------\n",
      "[60 70 80] 90\n",
      "------------------\n",
      "(6, 3, 1) (6,)\n"
     ]
    }
   ],
   "source": [
    "def split_sequence(sequence, n_steps):\n",
    "    X, y = list(), list()\n",
    "    for i in range(len(sequence)):\n",
    "        end_ix = i + n_steps\n",
    "        if end_ix > len(sequence)-1:\n",
    "            break\n",
    "        seq_x, seq_y = sequence[i:end_ix], sequence[end_ix]\n",
    "        X.append(seq_x)\n",
    "        y.append(seq_y)\n",
    "    return array(X), array(y)\n",
    " \n",
    "raw_seq = [10, 20, 30, 40, 50, 60, 70, 80, 90]\n",
    "n_steps = 3\n",
    "\n",
    "X, y = split_sequence(raw_seq, n_steps)\n",
    "\n",
    "print(X.shape, y.shape)\n",
    "for i in range(len(X)):\n",
    "    print(X[i], y[i])\n",
    "    print(\"------------------\")\n",
    "    \n",
    "# reshape : [samples, timesteps] --> [samples, timesteps, features]\n",
    "n_features = 1\n",
    "X = X.reshape((X.shape[0], X.shape[1], n_features))\n",
    "print(X.shape, y.shape)"
   ]
  },
  {
   "cell_type": "markdown",
   "id": "d72451d0-f030-4157-bdac-0b99e0995a46",
   "metadata": {},
   "source": [
    "<img src=\"https://wikidocs.net/images/page/22886/rnn_image6between7.PNG\">"
   ]
  },
  {
   "cell_type": "markdown",
   "id": "d2ba3842-7567-4b05-8bda-2c80a1b918c3",
   "metadata": {},
   "source": [
    "## Vanilla LSTM \n",
    "* <font color=red><b>[samples, timesteps, features]"
   ]
  },
  {
   "cell_type": "code",
   "execution_count": 6,
   "id": "f67afba2-30d0-467b-a51a-bf4bf9b0851f",
   "metadata": {},
   "outputs": [
    {
     "name": "stdout",
     "output_type": "stream",
     "text": [
      "(6, 3, 1) (6,)\n",
      "[[10]\n",
      " [20]\n",
      " [30]] 40\n",
      "------------------\n",
      "[[20]\n",
      " [30]\n",
      " [40]] 50\n",
      "------------------\n",
      "[[30]\n",
      " [40]\n",
      " [50]] 60\n",
      "------------------\n",
      "[[40]\n",
      " [50]\n",
      " [60]] 70\n",
      "------------------\n",
      "[[50]\n",
      " [60]\n",
      " [70]] 80\n",
      "------------------\n",
      "[[60]\n",
      " [70]\n",
      " [80]] 90\n",
      "------------------\n",
      "[[[70]\n",
      "  [80]\n",
      "  [90]]]\n",
      "[[101.01401]]\n",
      "MSE : : 1.0282\n"
     ]
    }
   ],
   "source": [
    "#-------------------------------------------------------------\n",
    "model = Sequential()\n",
    "model.add(LSTM(50, activation='relu', input_shape=(n_steps, n_features)))\n",
    "model.add(Dense(1))\n",
    "model.compile(optimizer='adam', loss='mse')\n",
    "#-------------------------------------------------------------\n",
    "stop = EarlyStopping(monitor='loss', patience=PATIENCE__)\n",
    "model.fit(X, y, epochs=EPOCHS__, verbose=0,  callbacks=[stop])\n",
    "\n",
    "\n",
    "print(X.shape, y.shape)\n",
    "for i in range(len(X)):\n",
    "    print(X[i], y[i])\n",
    "    print(\"------------------\")\n",
    "    \n",
    "x_input = array([70, 80, 90]).reshape((1, n_steps, n_features))  #[samples, timesteps, features]\n",
    "print(x_input)\n",
    "yhat = model.predict(x_input, verbose=0)\n",
    "print(yhat)\n",
    "\n",
    "test_y = np.array([[100]])\n",
    "mse = f\"{mean_squared_error(test_y, yhat):.4f}\"\n",
    "print(f\"MSE : : {mse}\")"
   ]
  },
  {
   "cell_type": "code",
   "execution_count": 7,
   "id": "00d77b9c-d26d-43ca-b426-b625c07d07f7",
   "metadata": {},
   "outputs": [],
   "source": [
    "dim_str = '[samples, timesteps, features]'\n",
    "compare_list.append(['Univariate LSTM Models', 'Vanilla LSTM',dim_str,x_input, yhat, mse])  "
   ]
  },
  {
   "cell_type": "markdown",
   "id": "a9fa4991-1698-4305-b0e3-462c5916d3e8",
   "metadata": {},
   "source": [
    "## Stacked LSTM \n",
    "* [samples, timesteps, features]"
   ]
  },
  {
   "cell_type": "code",
   "execution_count": 8,
   "id": "2527391f-262f-407d-81d3-e1c6a1996a4c",
   "metadata": {},
   "outputs": [
    {
     "name": "stdout",
     "output_type": "stream",
     "text": [
      "(6, 3, 1) (6,)\n",
      "[[10]\n",
      " [20]\n",
      " [30]] 40\n",
      "------------------\n",
      "[[20]\n",
      " [30]\n",
      " [40]] 50\n",
      "------------------\n",
      "[[30]\n",
      " [40]\n",
      " [50]] 60\n",
      "------------------\n",
      "[[40]\n",
      " [50]\n",
      " [60]] 70\n",
      "------------------\n",
      "[[50]\n",
      " [60]\n",
      " [70]] 80\n",
      "------------------\n",
      "[[60]\n",
      " [70]\n",
      " [80]] 90\n",
      "------------------\n",
      "[[103.255325]]\n",
      "MSE : : 10.5971\n"
     ]
    }
   ],
   "source": [
    "#-------------------------------------------------------------\n",
    "model = Sequential()\n",
    "model.add(LSTM(50, activation='relu', return_sequences=True, input_shape=(n_steps, n_features)))\n",
    "model.add(LSTM(50, activation='relu'))\n",
    "model.add(Dense(1))\n",
    "model.compile(optimizer='adam', loss='mse')\n",
    "#-------------------------------------------------------------\n",
    "stop = EarlyStopping(monitor='loss', patience=PATIENCE__)\n",
    "model.fit(X, y, epochs=EPOCHS__, verbose=0,  callbacks=[stop])\n",
    "\n",
    "print(X.shape, y.shape)\n",
    "for i in range(len(X)):\n",
    "    print(X[i], y[i])\n",
    "    print(\"------------------\")\n",
    "    \n",
    "x_input = array([70, 80, 90]).reshape((1, n_steps, n_features))  #[samples, timesteps, features]\n",
    "yhat = model.predict(x_input, verbose=0)\n",
    "print(yhat)\n",
    "\n",
    "test_y = np.array([[100]])\n",
    "mse = f\"{mean_squared_error(test_y, yhat):.4f}\"\n",
    "print(f\"MSE : : {mse}\")"
   ]
  },
  {
   "cell_type": "code",
   "execution_count": 9,
   "id": "15b2772d-be4a-401d-9b85-3c5ee31627c6",
   "metadata": {},
   "outputs": [],
   "source": [
    "dim_str = '[samples, timesteps, features]'\n",
    "compare_list.append(['Univariate LSTM Models', 'Stacked LSTM',dim_str,x_input, yhat, mse])  "
   ]
  },
  {
   "cell_type": "markdown",
   "id": "c4c14fd6-57a4-41c5-813c-804b0ae8399c",
   "metadata": {},
   "source": [
    "## ★Bidirectional LSTM \n",
    "* [samples, timesteps, features]\n"
   ]
  },
  {
   "cell_type": "code",
   "execution_count": 10,
   "id": "8ac876af-26a1-4331-81bf-5a9dad26a6ba",
   "metadata": {},
   "outputs": [],
   "source": [
    "from keras.layers import Bidirectional"
   ]
  },
  {
   "cell_type": "code",
   "execution_count": 11,
   "id": "c5ac8c89-8d02-4730-90fd-a4417b5c541c",
   "metadata": {},
   "outputs": [
    {
     "name": "stdout",
     "output_type": "stream",
     "text": [
      "(6, 3, 1) (6,)\n",
      "[[10]\n",
      " [20]\n",
      " [30]] 40\n",
      "------------------\n",
      "[[20]\n",
      " [30]\n",
      " [40]] 50\n",
      "------------------\n",
      "[[30]\n",
      " [40]\n",
      " [50]] 60\n",
      "------------------\n",
      "[[40]\n",
      " [50]\n",
      " [60]] 70\n",
      "------------------\n",
      "[[50]\n",
      " [60]\n",
      " [70]] 80\n",
      "------------------\n",
      "[[60]\n",
      " [70]\n",
      " [80]] 90\n",
      "------------------\n",
      "[[100.12335]]\n",
      "MSE : : 0.0152\n"
     ]
    }
   ],
   "source": [
    "#-------------------------------------------------------------\n",
    "model = Sequential()\n",
    "model.add(Bidirectional(LSTM(50, activation='relu'), input_shape=(n_steps, n_features)))\n",
    "model.add(Dense(1))\n",
    "model.compile(optimizer='adam', loss='mse')\n",
    "#-------------------------------------------------------------\n",
    "stop = EarlyStopping(monitor='loss', patience=PATIENCE__)\n",
    "model.fit(X, y, epochs=EPOCHS__, verbose=0,  callbacks=[stop])\n",
    "\n",
    "\n",
    "print(X.shape, y.shape)\n",
    "for i in range(len(X)):\n",
    "    print(X[i], y[i])\n",
    "    print(\"------------------\")\n",
    "    \n",
    "x_input = array([70, 80, 90]).reshape((1, n_steps, n_features))  #[samples, timesteps, features]\n",
    "yhat = model.predict(x_input, verbose=0)\n",
    "print(yhat)\n",
    "\n",
    "test_y = np.array([[100]])\n",
    "mse = f\"{mean_squared_error(test_y, yhat):.4f}\"\n",
    "print(f\"MSE : : {mse}\")"
   ]
  },
  {
   "cell_type": "code",
   "execution_count": 12,
   "id": "d881c306-fe2f-4467-b39d-2493949ae714",
   "metadata": {},
   "outputs": [],
   "source": [
    "dim_str = '[samples, timesteps, features]'\n",
    "compare_list.append(['Univariate LSTM Models', 'Bidirectional LSTM',dim_str,x_input, yhat, mse])  "
   ]
  },
  {
   "cell_type": "markdown",
   "id": "34a6429f-9c43-42dd-9232-16ce3f9a94d9",
   "metadata": {},
   "source": [
    "## ★CNN LSTM \n",
    "* <font color=red><b>[samples, subsequences, timesteps, features]"
   ]
  },
  {
   "cell_type": "code",
   "execution_count": 13,
   "id": "606f28e6-37cf-4639-8f59-1d50f8bfc773",
   "metadata": {},
   "outputs": [],
   "source": [
    "from keras.layers import TimeDistributed\n",
    "from keras.layers.convolutional import Conv1D\n",
    "from keras.layers.convolutional import MaxPooling1D"
   ]
  },
  {
   "cell_type": "code",
   "execution_count": 14,
   "id": "bc74e997-7a60-42e3-93e8-98f1cc013c9a",
   "metadata": {},
   "outputs": [
    {
     "name": "stdout",
     "output_type": "stream",
     "text": [
      "[10 20 30 40] 50\n",
      "------------------\n",
      "[20 30 40 50] 60\n",
      "------------------\n",
      "[30 40 50 60] 70\n",
      "------------------\n",
      "[40 50 60 70] 80\n",
      "------------------\n",
      "[50 60 70 80] 90\n",
      "------------------\n",
      "(5, 4) (5,)\n"
     ]
    }
   ],
   "source": [
    "raw_seq = [10, 20, 30, 40, 50, 60, 70, 80, 90]\n",
    "n_steps = 4\n",
    "X, y = split_sequence(raw_seq, n_steps)\n",
    "for i in range(len(X)):\n",
    "    print(X[i], y[i])\n",
    "    print(\"------------------\")\n",
    "print(X.shape, y.shape)"
   ]
  },
  {
   "cell_type": "code",
   "execution_count": 15,
   "id": "9479577e-fea4-41d5-832d-84d39d8f0645",
   "metadata": {},
   "outputs": [
    {
     "name": "stdout",
     "output_type": "stream",
     "text": [
      "(5, 2, 2, 1) (5,)\n",
      "[[[10]\n",
      "  [20]]\n",
      "\n",
      " [[30]\n",
      "  [40]]] 50\n",
      "------------------\n",
      "[[[20]\n",
      "  [30]]\n",
      "\n",
      " [[40]\n",
      "  [50]]] 60\n",
      "------------------\n",
      "[[[30]\n",
      "  [40]]\n",
      "\n",
      " [[50]\n",
      "  [60]]] 70\n",
      "------------------\n",
      "[[[40]\n",
      "  [50]]\n",
      "\n",
      " [[60]\n",
      "  [70]]] 80\n",
      "------------------\n",
      "[[[50]\n",
      "  [60]]\n",
      "\n",
      " [[70]\n",
      "  [80]]] 90\n",
      "------------------\n"
     ]
    }
   ],
   "source": [
    "# reshape : [samples, timesteps] -->  [samples, subsequences, timesteps, features]\n",
    "n_subseq   = 2\n",
    "n_steps    = 2\n",
    "n_features = 1\n",
    "X = X.reshape((X.shape[0], n_subseq, n_steps, n_features))\n",
    "\n",
    "print(X.shape, y.shape)\n",
    "for i in range(len(X)):\n",
    "    print(X[i], y[i])\n",
    "    print(\"------------------\")\n"
   ]
  },
  {
   "cell_type": "code",
   "execution_count": 16,
   "id": "a667aa1e-fc35-44c5-ad7d-ca9139ee5161",
   "metadata": {},
   "outputs": [
    {
     "name": "stdout",
     "output_type": "stream",
     "text": [
      "[[101.11435]]\n",
      "MSE : : 1.2418\n"
     ]
    }
   ],
   "source": [
    "#-------------------------------------------------------------\n",
    "model = Sequential()\n",
    "model.add(TimeDistributed(Conv1D(filters=64, kernel_size=1, activation='relu'), input_shape=(None, n_steps, n_features)))\n",
    "model.add(TimeDistributed(MaxPooling1D(pool_size=2)))\n",
    "model.add(TimeDistributed(Flatten()))\n",
    "model.add(LSTM(50, activation='relu'))\n",
    "model.add(Dense(1))\n",
    "model.compile(optimizer='adam', loss='mse')\n",
    "#-------------------------------------------------------------\n",
    "stop = EarlyStopping(monitor='loss', patience=PATIENCE__)\n",
    "model.fit(X, y, epochs=EPOCHS__, verbose=0,  callbacks=[stop])\n",
    "\n",
    "x_input = array([60, 70, 80, 90]).reshape((1, n_subseq, n_steps, n_features)) #2, 2, 1\n",
    "yhat = model.predict(x_input, verbose=0)\n",
    "print(yhat)\n",
    "\n",
    "test_y = np.array([[100]])\n",
    "mse = f\"{mean_squared_error(test_y, yhat):.4f}\"\n",
    "print(f\"MSE : : {mse}\")"
   ]
  },
  {
   "cell_type": "code",
   "execution_count": 17,
   "id": "9ba07fec-af29-422d-bed0-318122afbb30",
   "metadata": {},
   "outputs": [],
   "source": [
    "dim_str = '[samples, subsequences, timesteps, features]'\n",
    "compare_list.append(['Univariate LSTM Models', 'CNN LSTM',dim_str,x_input, yhat, mse])  "
   ]
  },
  {
   "cell_type": "markdown",
   "id": "729a58d4-23b8-427f-9485-60d2ed5f0a08",
   "metadata": {
    "tags": []
   },
   "source": [
    "## ConvLSTM \n",
    "* <font color=red><b>[samples, timesteps, rows, columns, features]"
   ]
  },
  {
   "cell_type": "code",
   "execution_count": 18,
   "id": "f1b19bf9-539a-4db9-919a-da05c3301495",
   "metadata": {},
   "outputs": [],
   "source": [
    "from keras.layers import ConvLSTM2D"
   ]
  },
  {
   "cell_type": "code",
   "execution_count": 19,
   "id": "8bfed561-1aaa-4047-85cb-512c11f5501b",
   "metadata": {},
   "outputs": [
    {
     "name": "stdout",
     "output_type": "stream",
     "text": [
      "[10 20 30 40] 50\n",
      "------------------\n",
      "[20 30 40 50] 60\n",
      "------------------\n",
      "[30 40 50 60] 70\n",
      "------------------\n",
      "[40 50 60 70] 80\n",
      "------------------\n",
      "[50 60 70 80] 90\n",
      "------------------\n",
      "(5, 4) (5,)\n"
     ]
    }
   ],
   "source": [
    "raw_seq = [10, 20, 30, 40, 50, 60, 70, 80, 90]\n",
    "n_steps = 4\n",
    "X, y = split_sequence(raw_seq, n_steps)\n",
    "for i in range(len(X)):\n",
    "    print(X[i], y[i])\n",
    "    print(\"------------------\")\n",
    "print(X.shape, y.shape)"
   ]
  },
  {
   "cell_type": "code",
   "execution_count": 20,
   "id": "a16d5e86-3d49-4f31-9df5-933a4cc2356b",
   "metadata": {},
   "outputs": [
    {
     "name": "stdout",
     "output_type": "stream",
     "text": [
      "(5, 2, 1, 2, 1) (5,)\n",
      "[[[[10]\n",
      "   [20]]]\n",
      "\n",
      "\n",
      " [[[30]\n",
      "   [40]]]] 50\n",
      "------------------\n",
      "[[[[20]\n",
      "   [30]]]\n",
      "\n",
      "\n",
      " [[[40]\n",
      "   [50]]]] 60\n",
      "------------------\n",
      "[[[[30]\n",
      "   [40]]]\n",
      "\n",
      "\n",
      " [[[50]\n",
      "   [60]]]] 70\n",
      "------------------\n",
      "[[[[40]\n",
      "   [50]]]\n",
      "\n",
      "\n",
      " [[[60]\n",
      "   [70]]]] 80\n",
      "------------------\n",
      "[[[[50]\n",
      "   [60]]]\n",
      "\n",
      "\n",
      " [[[70]\n",
      "   [80]]]] 90\n",
      "------------------\n"
     ]
    }
   ],
   "source": [
    "# reshape : [samples, timesteps] --> [samples, timesteps, rows, columns, features]\n",
    "n_seq      = 2\n",
    "n_steps    = 2\n",
    "n_features = 1\n",
    "X = X.reshape((X.shape[0], n_seq, 1, n_steps, n_features))\n",
    "\n",
    "print(X.shape, y.shape)\n",
    "for i in range(len(X)):\n",
    "    print(X[i], y[i])\n",
    "    print(\"------------------\")\n"
   ]
  },
  {
   "cell_type": "code",
   "execution_count": 21,
   "id": "53812753-abf8-465b-9388-b796f6b49340",
   "metadata": {},
   "outputs": [
    {
     "name": "stdout",
     "output_type": "stream",
     "text": [
      "WARNING:tensorflow:5 out of the last 5 calls to <function Model.make_predict_function.<locals>.predict_function at 0x000001F87D81CB80> triggered tf.function retracing. Tracing is expensive and the excessive number of tracings could be due to (1) creating @tf.function repeatedly in a loop, (2) passing tensors with different shapes, (3) passing Python objects instead of tensors. For (1), please define your @tf.function outside of the loop. For (2), @tf.function has experimental_relax_shapes=True option that relaxes argument shapes that can avoid unnecessary retracing. For (3), please refer to https://www.tensorflow.org/guide/function#controlling_retracing and https://www.tensorflow.org/api_docs/python/tf/function for  more details.\n",
      "[[104.403595]]\n",
      "MSE : : 19.3916\n"
     ]
    }
   ],
   "source": [
    "#-------------------------------------------------------------\n",
    "model = Sequential()\n",
    "# [samples, timesteps, rows, columns, features]\n",
    "model.add(ConvLSTM2D(filters=64, kernel_size=(1,2), activation='relu', input_shape=(n_seq, 1, n_steps, n_features))) \n",
    "model.add(Flatten())\n",
    "model.add(Dense(1))\n",
    "model.compile(optimizer='adam', loss='mse')\n",
    "#-------------------------------------------------------------\n",
    "stop = EarlyStopping(monitor='loss', patience=PATIENCE__)\n",
    "model.fit(X, y, epochs=EPOCHS__, verbose=0,  callbacks=[stop])\n",
    "\n",
    "\n",
    "x_input = array([60, 70, 80, 90])\n",
    "x_input = x_input.reshape((1, n_seq, 1, n_steps, n_features))\n",
    "yhat = model.predict(x_input, verbose=0)\n",
    "print(yhat)\n",
    "\n",
    "test_y = np.array([[100]])\n",
    "mse = f\"{mean_squared_error(test_y, yhat):.4f}\"\n",
    "print(f\"MSE : : {mse}\")"
   ]
  },
  {
   "cell_type": "code",
   "execution_count": 22,
   "id": "2f8c5552-4063-499e-8015-4dfcac6038bf",
   "metadata": {},
   "outputs": [],
   "source": [
    "dim_str = '[samples, timesteps, rows, columns, features]'\n",
    "compare_list.append(['Univariate LSTM Models', 'ConvLSTM',dim_str,x_input, yhat, mse])  \n"
   ]
  },
  {
   "cell_type": "markdown",
   "id": "369fd644-1f5d-49d2-9ebf-a563ffa7ee1e",
   "metadata": {},
   "source": [
    "# Multivariate LSTM Models\n",
    "        "
   ]
  },
  {
   "cell_type": "markdown",
   "id": "5e9f75ab-4be1-4235-a52a-1e839718925e",
   "metadata": {},
   "source": [
    "## Data set\n",
    "\n",
    "<pre>\n",
    "[10, 20, 30, 40, 50, 60, 70, 80, 90]\n",
    "[15, 25, 35, 45, 55, 65, 75, 85, 95]\n",
    "\n",
    "[[ 10  15  25]\n",
    " [ 20  25  45]\n",
    " [ 30  35  65]\n",
    " [ 40  45  85]\n",
    " [ 50  55 105]\n",
    " [ 60  65 125]\n",
    " [ 70  75 145]\n",
    " [ 80  85 165]\n",
    " [ 90  95 185]]\n",
    "\n",
    "\n",
    "X,\t\ty\n",
    "10, 15\n",
    "20, 25\n",
    "30, 35\t\t65\n",
    "\n",
    "20, 25\n",
    "30, 35\n",
    "40, 45\t\t85\n",
    "...\n",
    "70, 75\n",
    "80, 85\n",
    "90, 95\t\t185"
   ]
  },
  {
   "cell_type": "markdown",
   "id": "91932ed6-84d5-441f-b8c2-225c0248d6fd",
   "metadata": {},
   "source": [
    "## ★MultipleInput Series "
   ]
  },
  {
   "cell_type": "code",
   "execution_count": 23,
   "id": "f8df2390-b13c-4df8-8dfa-c2d3aa19de22",
   "metadata": {},
   "outputs": [
    {
     "name": "stdout",
     "output_type": "stream",
     "text": [
      "[[ 10  15  25]\n",
      " [ 20  25  45]\n",
      " [ 30  35  65]\n",
      " [ 40  45  85]\n",
      " [ 50  55 105]\n",
      " [ 60  65 125]\n",
      " [ 70  75 145]\n",
      " [ 80  85 165]\n",
      " [ 90  95 185]]\n"
     ]
    }
   ],
   "source": [
    "from numpy import array\n",
    "from numpy import hstack\n",
    "\n",
    "in_seq1 = array([10, 20, 30, 40, 50, 60, 70, 80, 90])\n",
    "in_seq2 = array([15, 25, 35, 45, 55, 65, 75, 85, 95])\n",
    "out_seq = array([in_seq1[i]+in_seq2[i] for i in range(len(in_seq1))])\n",
    "\n",
    "# [rows, columns] \n",
    "in_seq1 = in_seq1.reshape((len(in_seq1), 1))\n",
    "in_seq2 = in_seq2.reshape((len(in_seq2), 1))\n",
    "out_seq = out_seq.reshape((len(out_seq), 1))\n",
    "dataset = hstack((in_seq1, in_seq2, out_seq))\n",
    "print(dataset)"
   ]
  },
  {
   "cell_type": "code",
   "execution_count": 24,
   "id": "34aef388-131a-46aa-82a1-badffaca5d0d",
   "metadata": {},
   "outputs": [],
   "source": [
    "def split_sequences(sequences, n_steps):\n",
    "    X, y = list(), list()\n",
    "    for i in range(len(sequences)):\n",
    "        end_ix = i + n_steps\n",
    "        if end_ix > len(sequences):\n",
    "            break\n",
    "        seq_x, seq_y = sequences[i:end_ix, :-1], sequences[end_ix-1, -1]\n",
    "        X.append(seq_x)\n",
    "        y.append(seq_y)\n",
    "    return array(X), array(y)"
   ]
  },
  {
   "cell_type": "code",
   "execution_count": 25,
   "id": "30d27082-c212-4b9b-8029-a394056d24a5",
   "metadata": {},
   "outputs": [
    {
     "name": "stdout",
     "output_type": "stream",
     "text": [
      "(7, 3, 2) (7,)\n",
      "[[10 15]\n",
      " [20 25]\n",
      " [30 35]] 65\n",
      "------------------\n",
      "[[20 25]\n",
      " [30 35]\n",
      " [40 45]] 85\n",
      "------------------\n",
      "[[30 35]\n",
      " [40 45]\n",
      " [50 55]] 105\n",
      "------------------\n",
      "[[40 45]\n",
      " [50 55]\n",
      " [60 65]] 125\n",
      "------------------\n",
      "[[50 55]\n",
      " [60 65]\n",
      " [70 75]] 145\n",
      "------------------\n",
      "[[60 65]\n",
      " [70 75]\n",
      " [80 85]] 165\n",
      "------------------\n",
      "[[70 75]\n",
      " [80 85]\n",
      " [90 95]] 185\n",
      "------------------\n"
     ]
    }
   ],
   "source": [
    "n_steps = 3    #timesteps\n",
    "X, y = split_sequences(dataset, n_steps)\n",
    "print(X.shape, y.shape)\n",
    "for i in range(len(X)):\n",
    "    print(X[i], y[i])\n",
    "    print(\"------------------\")"
   ]
  },
  {
   "cell_type": "code",
   "execution_count": 26,
   "id": "f60c9067-95c0-49ab-ba84-7418c1e5e5a7",
   "metadata": {},
   "outputs": [],
   "source": [
    "n_features = X.shape[2]"
   ]
  },
  {
   "cell_type": "code",
   "execution_count": 27,
   "id": "0675e266-c1e5-413c-94ab-8461493a878c",
   "metadata": {},
   "outputs": [
    {
     "name": "stdout",
     "output_type": "stream",
     "text": [
      "WARNING:tensorflow:6 out of the last 6 calls to <function Model.make_predict_function.<locals>.predict_function at 0x000001F80D5DB790> triggered tf.function retracing. Tracing is expensive and the excessive number of tracings could be due to (1) creating @tf.function repeatedly in a loop, (2) passing tensors with different shapes, (3) passing Python objects instead of tensors. For (1), please define your @tf.function outside of the loop. For (2), @tf.function has experimental_relax_shapes=True option that relaxes argument shapes that can avoid unnecessary retracing. For (3), please refer to https://www.tensorflow.org/guide/function#controlling_retracing and https://www.tensorflow.org/api_docs/python/tf/function for  more details.\n",
      "[[205.16708]]\n",
      "MSE : : 0.0279\n"
     ]
    }
   ],
   "source": [
    "#-------------------------------------------------------------\n",
    "model = Sequential()\n",
    "model.add(LSTM(50, activation='relu', input_shape=(n_steps, n_features)))\n",
    "model.add(Dense(1))\n",
    "model.compile(optimizer='adam', loss='mse')\n",
    "#-------------------------------------------------------------\n",
    "stop = EarlyStopping(monitor='loss', patience=PATIENCE__)\n",
    "model.fit(X, y, epochs=EPOCHS__, verbose=0,  callbacks=[stop])\n",
    "\n",
    "\n",
    "x_input = array([[80, 85], [90, 95], [100, 105]]).reshape((1, n_steps, n_features))\n",
    "yhat = model.predict(x_input, verbose=0)\n",
    "print(yhat)\n",
    "\n",
    "test_y = np.array([[205]])\n",
    "mse = f\"{mean_squared_error(test_y, yhat):.4f}\"\n",
    "print(f\"MSE : : {mse}\")"
   ]
  },
  {
   "cell_type": "code",
   "execution_count": 28,
   "id": "64086d82-141c-4727-bef1-8654ee2cbdf3",
   "metadata": {},
   "outputs": [],
   "source": [
    "dim_str=\"[rows, columns]\"\n",
    "compare_list.append(['Multivariate LSTM Models','Multiple Input Series',dim_str,x_input, yhat, mse])  "
   ]
  },
  {
   "cell_type": "markdown",
   "id": "38124a7c-2dbd-40c8-b9c1-441478fb1e40",
   "metadata": {},
   "source": [
    "## ★MultipleParallel Series\n",
    "<pre>\n",
    "X : \n",
    "10, 15, 25\n",
    "20, 25, 45\n",
    "30, 35, 65\n",
    "\n",
    "y :\n",
    "40, 45, 85"
   ]
  },
  {
   "cell_type": "code",
   "execution_count": 29,
   "id": "f0bedec3-dce2-40c4-91fd-9c6da39ff6d6",
   "metadata": {},
   "outputs": [
    {
     "name": "stdout",
     "output_type": "stream",
     "text": [
      "[[ 10  15  25]\n",
      " [ 20  25  45]\n",
      " [ 30  35  65]\n",
      " [ 40  45  85]\n",
      " [ 50  55 105]\n",
      " [ 60  65 125]\n",
      " [ 70  75 145]\n",
      " [ 80  85 165]\n",
      " [ 90  95 185]]\n"
     ]
    }
   ],
   "source": [
    "print(dataset)"
   ]
  },
  {
   "cell_type": "code",
   "execution_count": 30,
   "id": "1e42574a-9bdb-402f-8116-ec10b8ac1ea2",
   "metadata": {},
   "outputs": [],
   "source": [
    "def split_sequences(sequences, n_steps):\n",
    "    X, y = list(), list()\n",
    "    for i in range(len(sequences)):\n",
    "        end_ix = i + n_steps\n",
    "        if end_ix > len(sequences)-1:\n",
    "            break\n",
    "        seq_x, seq_y = sequences[i:end_ix, :], sequences[end_ix, :]\n",
    "        X.append(seq_x)\n",
    "        y.append(seq_y)\n",
    "    return array(X), array(y)"
   ]
  },
  {
   "cell_type": "code",
   "execution_count": 31,
   "id": "8cb50fc7-39b7-4756-8f44-3060a9f80d14",
   "metadata": {},
   "outputs": [
    {
     "name": "stdout",
     "output_type": "stream",
     "text": [
      "(6, 3, 3) (6, 3)\n",
      "[[10 15 25]\n",
      " [20 25 45]\n",
      " [30 35 65]] [40 45 85]\n",
      "------------------\n",
      "[[20 25 45]\n",
      " [30 35 65]\n",
      " [40 45 85]] [ 50  55 105]\n",
      "------------------\n",
      "[[ 30  35  65]\n",
      " [ 40  45  85]\n",
      " [ 50  55 105]] [ 60  65 125]\n",
      "------------------\n",
      "[[ 40  45  85]\n",
      " [ 50  55 105]\n",
      " [ 60  65 125]] [ 70  75 145]\n",
      "------------------\n",
      "[[ 50  55 105]\n",
      " [ 60  65 125]\n",
      " [ 70  75 145]] [ 80  85 165]\n",
      "------------------\n",
      "[[ 60  65 125]\n",
      " [ 70  75 145]\n",
      " [ 80  85 165]] [ 90  95 185]\n",
      "------------------\n"
     ]
    }
   ],
   "source": [
    "n_steps = 3\n",
    "X, y = split_sequences(dataset, n_steps)\n",
    "print(X.shape, y.shape)\n",
    "for i in range(len(X)):\n",
    "    print(X[i], y[i])\n",
    "    print(\"------------------\")"
   ]
  },
  {
   "cell_type": "code",
   "execution_count": 32,
   "id": "67b9232e-3508-462b-b1fd-831dc2b964e2",
   "metadata": {},
   "outputs": [
    {
     "name": "stdout",
     "output_type": "stream",
     "text": [
      "[[[ 70  75 145]\n",
      "  [ 80  85 165]\n",
      "  [ 90  95 185]]]\n",
      "[[100.68982 106.199   204.83968]]\n",
      "MSE : : 0.6464\n"
     ]
    }
   ],
   "source": [
    "n_features = X.shape[2]\n",
    "\n",
    "#-------------------------------------------------------------\n",
    "model = Sequential()\n",
    "model.add(LSTM(100, activation='relu', return_sequences=True, input_shape=(n_steps, n_features)))\n",
    "model.add(LSTM(100, activation='relu'))\n",
    "model.add(Dense(n_features))\n",
    "model.compile(optimizer='adam', loss='mse')\n",
    "#-------------------------------------------------------------\n",
    "stop = EarlyStopping(monitor='loss', patience=PATIENCE__)\n",
    "model.fit(X, y, epochs=EPOCHS__, verbose=0,  callbacks=[stop])\n",
    "\n",
    "\n",
    "x_input = array([[70,75,145], [80,85,165], [90,95,185]]).reshape((1, n_steps, n_features))\n",
    "print(x_input)\n",
    "yhat = model.predict(x_input, verbose=0)\n",
    "print(yhat)\n",
    " \n",
    "test_y = np.array([[100, 105, 205]])\n",
    "mse = f\"{mean_squared_error(test_y, yhat):.4f}\"\n",
    "print(f\"MSE : : {mse}\")"
   ]
  },
  {
   "cell_type": "code",
   "execution_count": 33,
   "id": "6b4b37d0-4cbe-4e44-8997-2e093bc9d68c",
   "metadata": {},
   "outputs": [],
   "source": [
    "dim_str=\"[rows, columns]\"\n",
    "compare_list.append(['Multivariate LSTM Models','Multiple Parallel Series',dim_str,x_input, yhat, mse])  "
   ]
  },
  {
   "cell_type": "markdown",
   "id": "6599ecc1-d7fc-42ef-b7d5-3d67283dd788",
   "metadata": {},
   "source": [
    "# Multi-Step LSTM Models"
   ]
  },
  {
   "cell_type": "markdown",
   "id": "094a0f0d-3d7d-46ce-9ff4-8935aafe651d",
   "metadata": {},
   "source": [
    "## Data set\n",
    "\n",
    "<pre>\n",
    "[10, 20, 30, 40, 50, 60, 70, 80, 90]\n",
    "\n",
    "X,\t\t\ty\n",
    "10, 20, 30\t\t40 50\n",
    "20, 30, 40\t\t50 60\n",
    "30, 40, 50\t\t60 70\n",
    "...\n",
    "50, 60, 70\t\t80 90"
   ]
  },
  {
   "cell_type": "code",
   "execution_count": 34,
   "id": "20a9ca9b-a8b1-469e-8308-055d9463cbb0",
   "metadata": {},
   "outputs": [
    {
     "name": "stdout",
     "output_type": "stream",
     "text": [
      "[10 20 30] [40 50]\n",
      "------------------\n",
      "[20 30 40] [50 60]\n",
      "------------------\n",
      "[30 40 50] [60 70]\n",
      "------------------\n",
      "[40 50 60] [70 80]\n",
      "------------------\n",
      "[50 60 70] [80 90]\n",
      "------------------\n"
     ]
    }
   ],
   "source": [
    "# split a univariate sequence into samples\n",
    "def split_sequence(sequence, n_steps_in, n_steps_out):\n",
    "    X, y = list(), list()\n",
    "    for i in range(len(sequence)):\n",
    "        end_ix = i + n_steps_in\n",
    "        out_end_ix = end_ix + n_steps_out\n",
    "        # check if we are beyond the sequence\n",
    "        if out_end_ix > len(sequence):\n",
    "            break\n",
    "        seq_x, seq_y = sequence[i:end_ix], sequence[end_ix:out_end_ix]\n",
    "        X.append(seq_x)\n",
    "        y.append(seq_y)\n",
    "    return array(X), array(y)\n",
    " \n",
    "\n",
    "raw_seq = [10, 20, 30, 40, 50, 60, 70, 80, 90]\n",
    "n_steps_in, n_steps_out = 3, 2\n",
    "X, y = split_sequence(raw_seq, n_steps_in, n_steps_out)\n",
    "for i in range(len(X)):\n",
    "    print(X[i], y[i])\n",
    "    print(\"------------------\")"
   ]
  },
  {
   "cell_type": "markdown",
   "id": "be238fb3-cd51-4051-96bd-3b5114ce8c81",
   "metadata": {},
   "source": [
    "## Vector Output Model\n",
    "\n",
    "<pre>\n",
    "X : [70, 80, 90]\n",
    "y : [100,110]"
   ]
  },
  {
   "cell_type": "code",
   "execution_count": 35,
   "id": "ed1f8a51-159f-4978-b28c-2b3876e7bf50",
   "metadata": {},
   "outputs": [
    {
     "name": "stdout",
     "output_type": "stream",
     "text": [
      "(5, 3, 1) (5, 2)\n",
      "[[10]\n",
      " [20]\n",
      " [30]] [40 50]\n",
      "------------------\n",
      "[[20]\n",
      " [30]\n",
      " [40]] [50 60]\n",
      "------------------\n",
      "[[30]\n",
      " [40]\n",
      " [50]] [60 70]\n",
      "------------------\n",
      "[[40]\n",
      " [50]\n",
      " [60]] [70 80]\n",
      "------------------\n",
      "[[50]\n",
      " [60]\n",
      " [70]] [80 90]\n",
      "------------------\n"
     ]
    }
   ],
   "source": [
    "# shape : [samples, timesteps] --> [samples, timesteps, features]\n",
    "n_features = 1\n",
    "X = X.reshape((X.shape[0], X.shape[1], n_features))\n",
    "print(X.shape, y.shape)\n",
    "for i in range(len(X)):\n",
    "    print(X[i], y[i])\n",
    "    print(\"------------------\")"
   ]
  },
  {
   "cell_type": "code",
   "execution_count": 36,
   "id": "372a9328-3255-44e7-873c-16c14499eb40",
   "metadata": {},
   "outputs": [
    {
     "name": "stdout",
     "output_type": "stream",
     "text": [
      "[[104.01215 116.03949]]\n",
      "MSE : : 26.2864\n"
     ]
    }
   ],
   "source": [
    "#-------------------------------------------------------------\n",
    "model = Sequential()\n",
    "model.add(LSTM(100, activation='relu', return_sequences=True, input_shape=(n_steps_in, n_features)))\n",
    "model.add(LSTM(100, activation='relu'))\n",
    "model.add(Dense(n_steps_out))\n",
    "model.compile(optimizer='adam', loss='mse')\n",
    "#-------------------------------------------------------------\n",
    "stop = EarlyStopping(monitor='loss', patience=PATIENCE__)\n",
    "model.fit(X, y, epochs=EPOCHS__, verbose=0,  callbacks=[stop])\n",
    "\n",
    "x_input = array([70, 80, 90])\n",
    "x_input = x_input.reshape((1, n_steps_in, n_features))\n",
    "yhat = model.predict(x_input, verbose=0)\n",
    "print(yhat)\n",
    "\n",
    "test_y = np.array([[100, 110]])\n",
    "mse = f\"{mean_squared_error(test_y, yhat):.4f}\"\n",
    "print(f\"MSE : : {mse}\")"
   ]
  },
  {
   "cell_type": "code",
   "execution_count": 37,
   "id": "7670bdc2-bd41-4bc1-8159-0fd6ee55be10",
   "metadata": {},
   "outputs": [],
   "source": [
    "dim_str = \"[samples, timesteps, features]\"\n",
    "compare_list.append(['Multi-Step LSTM Models','Vector Output',dim_str,x_input, yhat, mse])  "
   ]
  },
  {
   "cell_type": "markdown",
   "id": "fbad4ee0-037b-4015-b7ca-b9dcefe167e9",
   "metadata": {},
   "source": [
    "## Encoder-Decoder Model "
   ]
  },
  {
   "cell_type": "code",
   "execution_count": 38,
   "id": "04aa5b95-9ae9-4bb5-8de7-48e920e57c60",
   "metadata": {},
   "outputs": [],
   "source": [
    "from keras.layers import RepeatVector\n",
    "from keras.layers import TimeDistributed"
   ]
  },
  {
   "cell_type": "code",
   "execution_count": 39,
   "id": "8ff725b6-a978-4c42-b1b5-5ff003a936b6",
   "metadata": {},
   "outputs": [
    {
     "name": "stdout",
     "output_type": "stream",
     "text": [
      "(5, 3, 1) (5, 2, 1)\n",
      "[[10]\n",
      " [20]\n",
      " [30]] [[40]\n",
      " [50]]\n",
      "------------------\n",
      "[[20]\n",
      " [30]\n",
      " [40]] [[50]\n",
      " [60]]\n",
      "------------------\n",
      "[[30]\n",
      " [40]\n",
      " [50]] [[60]\n",
      " [70]]\n",
      "------------------\n",
      "[[40]\n",
      " [50]\n",
      " [60]] [[70]\n",
      " [80]]\n",
      "------------------\n",
      "[[50]\n",
      " [60]\n",
      " [70]] [[80]\n",
      " [90]]\n",
      "------------------\n"
     ]
    }
   ],
   "source": [
    "# shape : [samples, timesteps] --> [samples, timesteps, features]\n",
    "n_features = 1\n",
    "X = X.reshape((X.shape[0], X.shape[1], n_features))\n",
    "y = y.reshape((y.shape[0], y.shape[1], n_features))\n",
    "\n",
    "print(X.shape, y.shape)\n",
    "for i in range(len(X)):\n",
    "    print(X[i], y[i])\n",
    "    print(\"------------------\")"
   ]
  },
  {
   "cell_type": "code",
   "execution_count": 40,
   "id": "71b80866-0025-4ce0-880b-ddf48e4c3850",
   "metadata": {},
   "outputs": [
    {
     "name": "stdout",
     "output_type": "stream",
     "text": [
      "[[[101.36606]\n",
      "  [114.12388]]]\n",
      "MSE : : 9.4362\n"
     ]
    }
   ],
   "source": [
    "#-------------------------------------------------------------\n",
    "model = Sequential()\n",
    "model.add(LSTM(100, activation='relu', input_shape=(n_steps_in, n_features)))\n",
    "model.add(RepeatVector(n_steps_out))\n",
    "model.add(LSTM(100, activation='relu', return_sequences=True))\n",
    "model.add(TimeDistributed(Dense(1)))\n",
    "model.compile(optimizer='adam', loss='mse')\n",
    "#-------------------------------------------------------------\n",
    "stop = EarlyStopping(monitor='loss', patience=PATIENCE__)\n",
    "model.fit(X, y, epochs=EPOCHS__, verbose=0,  callbacks=[stop])\n",
    "\n",
    "\n",
    "x_input = array([70, 80, 90]).reshape((1, n_steps_in, n_features))\n",
    "yhat = model.predict(x_input, verbose=0)\n",
    "print(yhat)\n",
    "\n",
    "# -------------- Estimator expected <= 2 dim -------------------\n",
    "yhat2 = yhat.reshape(-1,1)\n",
    "test_y = np.array( [[100],[110]]  )\n",
    "mse = f\"{mean_squared_error(test_y, yhat2):.4f}\"\n",
    "print(f\"MSE : : {mse}\")"
   ]
  },
  {
   "cell_type": "code",
   "execution_count": 41,
   "id": "4a5452f5-b892-40aa-a963-2cc2a903b205",
   "metadata": {},
   "outputs": [],
   "source": [
    "dim_str = \"[samples, timesteps, features]\"\n",
    "compare_list.append(['Multi-Step LSTM Models','Encoder-Decoder',dim_str,x_input, yhat, mse])  "
   ]
  },
  {
   "cell_type": "markdown",
   "id": "c602582f-bd9e-4644-9a87-342c35d72320",
   "metadata": {},
   "source": [
    "# Multivariate Multi-Step LSTM Models\n",
    "        \n",
    "        "
   ]
  },
  {
   "cell_type": "markdown",
   "id": "0ddab6e8-e8b4-4f09-ac48-af39fff21fa9",
   "metadata": {},
   "source": [
    "## Data set\n",
    "\n",
    "<pre>\n",
    "[10, 20, 30, 40, 50, 60, 70, 80, 90]\n",
    "[15, 25, 35, 45, 55, 65, 75, 85, 95]\n",
    "\n",
    "[[ 10  15  25]\n",
    " [ 20  25  45]\n",
    " [ 30  35  65]\n",
    " [ 40  45  85]\n",
    " [ 50  55 105]\n",
    " [ 60  65 125]\n",
    " [ 70  75 145]\n",
    " [ 80  85 165]\n",
    " [ 90  95 185]]\n",
    "\n",
    "\n",
    "X,\t\ty\n",
    "10, 15\n",
    "20, 25\n",
    "30, 35\t\t65, 85\n",
    "\n",
    "20, 25\n",
    "30, 35\n",
    "40, 45\t\t85, 105\n",
    "...\n",
    "60, 65\n",
    "70, 75\n",
    "80, 85\t\t165, 185"
   ]
  },
  {
   "cell_type": "code",
   "execution_count": 42,
   "id": "3a3001a6-bc8c-4542-bcc9-301731a72e7f",
   "metadata": {},
   "outputs": [],
   "source": [
    "def split_sequences(sequences, n_steps_in, n_steps_out):\n",
    "    X, y = list(), list()\n",
    "    for i in range(len(sequences)):\n",
    "        end_ix = i + n_steps_in\n",
    "        out_end_ix = end_ix + n_steps_out-1\n",
    "        if out_end_ix > len(sequences):\n",
    "            break\n",
    "        seq_x, seq_y = sequences[i:end_ix, :-1], sequences[end_ix-1:out_end_ix, -1]\n",
    "        X.append(seq_x)\n",
    "        y.append(seq_y)\n",
    "    return array(X), array(y)"
   ]
  },
  {
   "cell_type": "code",
   "execution_count": 43,
   "id": "9e785445-1227-4a77-aceb-f62ec1cfc600",
   "metadata": {},
   "outputs": [
    {
     "data": {
      "text/plain": [
       "array([[ 10,  15,  25],\n",
       "       [ 20,  25,  45],\n",
       "       [ 30,  35,  65],\n",
       "       [ 40,  45,  85],\n",
       "       [ 50,  55, 105],\n",
       "       [ 60,  65, 125],\n",
       "       [ 70,  75, 145],\n",
       "       [ 80,  85, 165],\n",
       "       [ 90,  95, 185]])"
      ]
     },
     "execution_count": 43,
     "metadata": {},
     "output_type": "execute_result"
    }
   ],
   "source": [
    "# define input sequence\n",
    "in_seq1 = array([10, 20, 30, 40, 50, 60, 70, 80, 90])\n",
    "in_seq2 = array([15, 25, 35, 45, 55, 65, 75, 85, 95])\n",
    "out_seq = array([in_seq1[i]+in_seq2[i] for i in range(len(in_seq1))])\n",
    "# [rows, columns] \n",
    "in_seq1 = in_seq1.reshape((len(in_seq1), 1))\n",
    "in_seq2 = in_seq2.reshape((len(in_seq2), 1))\n",
    "out_seq = out_seq.reshape((len(out_seq), 1))\n",
    "dataset = hstack((in_seq1, in_seq2, out_seq))\n",
    "dataset"
   ]
  },
  {
   "cell_type": "code",
   "execution_count": 44,
   "id": "f2da2018-9492-4da3-b91f-6a1a5cb07bdd",
   "metadata": {},
   "outputs": [
    {
     "name": "stdout",
     "output_type": "stream",
     "text": [
      "(6, 3, 2) (6, 2)\n",
      "[[10 15]\n",
      " [20 25]\n",
      " [30 35]] [65 85]\n",
      "------------------\n",
      "[[20 25]\n",
      " [30 35]\n",
      " [40 45]] [ 85 105]\n",
      "------------------\n",
      "[[30 35]\n",
      " [40 45]\n",
      " [50 55]] [105 125]\n",
      "------------------\n",
      "[[40 45]\n",
      " [50 55]\n",
      " [60 65]] [125 145]\n",
      "------------------\n",
      "[[50 55]\n",
      " [60 65]\n",
      " [70 75]] [145 165]\n",
      "------------------\n",
      "[[60 65]\n",
      " [70 75]\n",
      " [80 85]] [165 185]\n",
      "------------------\n"
     ]
    }
   ],
   "source": [
    "n_steps_in, n_steps_out = 3, 2\n",
    "X, y = split_sequences(dataset, n_steps_in, n_steps_out)\n",
    "print(X.shape, y.shape)\n",
    "for i in range(len(X)):\n",
    "    print(X[i], y[i])\n",
    "    print(\"------------------\")"
   ]
  },
  {
   "cell_type": "markdown",
   "id": "7f6fbcbf-1ab3-411e-ac47-bb4ae6a763ec",
   "metadata": {},
   "source": [
    "## Multiple Input Multi-Step Output"
   ]
  },
  {
   "cell_type": "markdown",
   "id": "6b602a57-90fc-4a6d-b4b5-6950b0f9242e",
   "metadata": {},
   "source": [
    "<pre>\n",
    "X,\t\ty\n",
    "10, 15\n",
    "20, 25\n",
    "30, 35\t\t65, 85\n",
    "\n",
    "20, 25\n",
    "30, 35\n",
    "40, 45\t\t85, 105\n",
    "...\n",
    "60, 65\n",
    "70, 75\n",
    "80, 85\t\t165, 185"
   ]
  },
  {
   "cell_type": "code",
   "execution_count": 45,
   "id": "26b30f54-8662-42d9-9fc1-08c3624f079a",
   "metadata": {},
   "outputs": [
    {
     "name": "stdout",
     "output_type": "stream",
     "text": [
      "[[186.0647  206.36623]]\n",
      "MSE : : 1.5001\n"
     ]
    }
   ],
   "source": [
    "n_features = X.shape[2]\n",
    "#-------------------------------------------------------------\n",
    "model = Sequential()\n",
    "model.add(LSTM(100, activation='relu', return_sequences=True, input_shape=(n_steps_in, n_features)))\n",
    "model.add(LSTM(100, activation='relu'))\n",
    "model.add(Dense(n_steps_out))\n",
    "model.compile(optimizer='adam', loss='mse')\n",
    "#-------------------------------------------------------------\n",
    "stop = EarlyStopping(monitor='loss', patience=PATIENCE__)\n",
    "model.fit(X, y, epochs=EPOCHS__, verbose=0,  callbacks=[stop])\n",
    "\n",
    "\n",
    "x_input = array([[70, 75], [80, 85], [90, 95]]).reshape((1, n_steps_in, n_features))\n",
    "yhat = model.predict(x_input, verbose=0)\n",
    "print(yhat)\n",
    "\n",
    "test_y = np.array( [[185,205]]  )\n",
    "mse = f\"{mean_squared_error(test_y, yhat):.4f}\"\n",
    "print(f\"MSE : : {mse}\")"
   ]
  },
  {
   "cell_type": "code",
   "execution_count": 46,
   "id": "5f2c2d10-348a-40a0-a0da-a20677bb174e",
   "metadata": {},
   "outputs": [],
   "source": [
    "dim_str=\"[rows, columns]\"\n",
    "compare_list.append(['Multivariate Multi-Step LSTM Models','Multiple Input Multi-Step Output',dim_str,x_input, yhat, mse])  "
   ]
  },
  {
   "cell_type": "markdown",
   "id": "facc4d10-f186-478d-83e1-e472ea1bf7de",
   "metadata": {},
   "source": [
    "## Multiple Parallel Input and Multi-Step Output "
   ]
  },
  {
   "cell_type": "markdown",
   "id": "676ad5ca-cba9-4586-92ea-6d5a587ccf1d",
   "metadata": {},
   "source": [
    "<pre>\n",
    "X : \n",
    "10, 15, 25\n",
    "20, 25, 45\n",
    "30, 35, 65\n",
    "\n",
    "y : \n",
    "40, 45, 85\n",
    "50, 55, 105"
   ]
  },
  {
   "cell_type": "code",
   "execution_count": 47,
   "id": "e1885625-5f9b-438e-b68c-77948824db96",
   "metadata": {},
   "outputs": [],
   "source": [
    "def split_sequences(sequences, n_steps_in, n_steps_out):\n",
    "    X, y = list(), list()\n",
    "    for i in range(len(sequences)):\n",
    "        end_ix = i + n_steps_in\n",
    "        out_end_ix = end_ix + n_steps_out\n",
    "        if out_end_ix > len(sequences):\n",
    "            break\n",
    "        seq_x, seq_y = sequences[i:end_ix, :], sequences[end_ix:out_end_ix, :]\n",
    "        X.append(seq_x)\n",
    "        y.append(seq_y)\n",
    "    return array(X), array(y)"
   ]
  },
  {
   "cell_type": "code",
   "execution_count": 48,
   "id": "9b4371df-a5c7-40b2-b370-d1a26a003165",
   "metadata": {},
   "outputs": [
    {
     "data": {
      "text/plain": [
       "array([[ 10,  15,  25],\n",
       "       [ 20,  25,  45],\n",
       "       [ 30,  35,  65],\n",
       "       [ 40,  45,  85],\n",
       "       [ 50,  55, 105],\n",
       "       [ 60,  65, 125],\n",
       "       [ 70,  75, 145],\n",
       "       [ 80,  85, 165],\n",
       "       [ 90,  95, 185]])"
      ]
     },
     "execution_count": 48,
     "metadata": {},
     "output_type": "execute_result"
    }
   ],
   "source": [
    "dataset"
   ]
  },
  {
   "cell_type": "code",
   "execution_count": 49,
   "id": "d276ed3b-618d-4709-9a88-cb0a71598129",
   "metadata": {},
   "outputs": [
    {
     "name": "stdout",
     "output_type": "stream",
     "text": [
      "(5, 3, 3) (5, 2, 3)\n",
      "[[10 15 25]\n",
      " [20 25 45]\n",
      " [30 35 65]] [[ 40  45  85]\n",
      " [ 50  55 105]]\n",
      "------------------\n",
      "[[20 25 45]\n",
      " [30 35 65]\n",
      " [40 45 85]] [[ 50  55 105]\n",
      " [ 60  65 125]]\n",
      "------------------\n",
      "[[ 30  35  65]\n",
      " [ 40  45  85]\n",
      " [ 50  55 105]] [[ 60  65 125]\n",
      " [ 70  75 145]]\n",
      "------------------\n",
      "[[ 40  45  85]\n",
      " [ 50  55 105]\n",
      " [ 60  65 125]] [[ 70  75 145]\n",
      " [ 80  85 165]]\n",
      "------------------\n",
      "[[ 50  55 105]\n",
      " [ 60  65 125]\n",
      " [ 70  75 145]] [[ 80  85 165]\n",
      " [ 90  95 185]]\n",
      "------------------\n"
     ]
    }
   ],
   "source": [
    "n_steps_in, n_steps_out = 3, 2\n",
    "# covert into input/output\n",
    "X, y = split_sequences(dataset, n_steps_in, n_steps_out)\n",
    "print(X.shape, y.shape)\n",
    "# summarize the data\n",
    "for i in range(len(X)):\n",
    "    print(X[i], y[i])\n",
    "    print(\"------------------\")"
   ]
  },
  {
   "cell_type": "code",
   "execution_count": 50,
   "id": "ca4c03f9-91d7-4dbd-a9e6-df422cb3e513",
   "metadata": {
    "tags": []
   },
   "outputs": [
    {
     "name": "stdout",
     "output_type": "stream",
     "text": [
      "[[[ 90.265816  95.88     185.84712 ]\n",
      "  [100.86708  105.51342  206.3824  ]]]\n",
      "[[ 90.265816]\n",
      " [ 95.88    ]\n",
      " [185.84712 ]\n",
      " [100.86708 ]\n",
      " [105.51342 ]\n",
      " [206.3824  ]]\n",
      "MSE : : 0.7482\n"
     ]
    }
   ],
   "source": [
    "n_features = X.shape[2]\n",
    "#-------------------------------------------------------------\n",
    "model = Sequential()\n",
    "model.add(LSTM(200, activation='relu', input_shape=(n_steps_in, n_features)))\n",
    "model.add(RepeatVector(n_steps_out))\n",
    "model.add(LSTM(200, activation='relu', return_sequences=True))\n",
    "model.add(TimeDistributed(Dense(n_features)))\n",
    "model.compile(optimizer='adam', loss='mse')\n",
    "#-------------------------------------------------------------\n",
    "stop = EarlyStopping(monitor='loss', patience=PATIENCE__)\n",
    "model.fit(X, y, epochs=EPOCHS__, verbose=0,  callbacks=[stop])\n",
    "\n",
    "\n",
    "x_input = array([[60, 65, 125], [70, 75, 145], [80, 85, 165]]).reshape((1, n_steps_in, n_features))\n",
    "yhat = model.predict(x_input, verbose=0)\n",
    "print(yhat)\n",
    "\n",
    "# -------------- Estimator expected <= 2 dim -------------------\n",
    "yhat2 = yhat.reshape(-1,1)\n",
    "print(yhat2)\n",
    "\n",
    "\n",
    "test_y = np.array( [[ 90], [95], [185], [100], [105], [205]] )\n",
    "mse = f\"{mean_squared_error(test_y, yhat2):.4f}\"\n",
    "print(f\"MSE : : {mse}\")"
   ]
  },
  {
   "cell_type": "code",
   "execution_count": 51,
   "id": "d5d037e4-dadf-43e9-894f-8756d7a99dad",
   "metadata": {},
   "outputs": [],
   "source": [
    "dim_str=\"[rows, columns]\"\n",
    "compare_list.append(['Multivariate Multi-Step LSTM Models','Multiple Parallel Input and Multi-Step Output',dim_str,x_input, yhat, mse])  \n"
   ]
  },
  {
   "cell_type": "markdown",
   "id": "a4eff3a5-3b8d-4a89-afc6-b484f07869e1",
   "metadata": {},
   "source": [
    "# 비교"
   ]
  },
  {
   "cell_type": "code",
   "execution_count": 52,
   "id": "4e464352-49bf-4b2b-8bb4-240078bd6417",
   "metadata": {},
   "outputs": [
    {
     "data": {
      "text/html": [
       "<div>\n",
       "<style scoped>\n",
       "    .dataframe tbody tr th:only-of-type {\n",
       "        vertical-align: middle;\n",
       "    }\n",
       "\n",
       "    .dataframe tbody tr th {\n",
       "        vertical-align: top;\n",
       "    }\n",
       "\n",
       "    .dataframe thead th {\n",
       "        text-align: right;\n",
       "    }\n",
       "</style>\n",
       "<table border=\"1\" class=\"dataframe\">\n",
       "  <thead>\n",
       "    <tr style=\"text-align: right;\">\n",
       "      <th></th>\n",
       "      <th>type</th>\n",
       "      <th>dim</th>\n",
       "      <th>X</th>\n",
       "      <th>y</th>\n",
       "      <th>mse</th>\n",
       "    </tr>\n",
       "    <tr>\n",
       "      <th>model</th>\n",
       "      <th></th>\n",
       "      <th></th>\n",
       "      <th></th>\n",
       "      <th></th>\n",
       "      <th></th>\n",
       "    </tr>\n",
       "  </thead>\n",
       "  <tbody>\n",
       "    <tr>\n",
       "      <th>Bidirectional LSTM</th>\n",
       "      <td>Univariate LSTM Models</td>\n",
       "      <td>[samples, timesteps, features]</td>\n",
       "      <td>[[[70], [80], [90]]]</td>\n",
       "      <td>[[100.12335]]</td>\n",
       "      <td>0.0152</td>\n",
       "    </tr>\n",
       "    <tr>\n",
       "      <th>Multiple Input Series</th>\n",
       "      <td>Multivariate LSTM Models</td>\n",
       "      <td>[rows, columns]</td>\n",
       "      <td>[[[80, 85], [90, 95], [100, 105]]]</td>\n",
       "      <td>[[205.16708]]</td>\n",
       "      <td>0.0279</td>\n",
       "    </tr>\n",
       "    <tr>\n",
       "      <th>Multiple Parallel Series</th>\n",
       "      <td>Multivariate LSTM Models</td>\n",
       "      <td>[rows, columns]</td>\n",
       "      <td>[[[70, 75, 145], [80, 85, 165], [90, 95, 185]]]</td>\n",
       "      <td>[[100.68982, 106.199, 204.83968]]</td>\n",
       "      <td>0.6464</td>\n",
       "    </tr>\n",
       "    <tr>\n",
       "      <th>Multiple Parallel Input and Multi-Step Output</th>\n",
       "      <td>Multivariate Multi-Step LSTM Models</td>\n",
       "      <td>[rows, columns]</td>\n",
       "      <td>[[[60, 65, 125], [70, 75, 145], [80, 85, 165]]]</td>\n",
       "      <td>[[[90.265816, 95.88, 185.84712], [100.86708, 105.51342, 206.3824]]]</td>\n",
       "      <td>0.7482</td>\n",
       "    </tr>\n",
       "    <tr>\n",
       "      <th>Vanilla LSTM</th>\n",
       "      <td>Univariate LSTM Models</td>\n",
       "      <td>[samples, timesteps, features]</td>\n",
       "      <td>[[[70], [80], [90]]]</td>\n",
       "      <td>[[101.01401]]</td>\n",
       "      <td>1.0282</td>\n",
       "    </tr>\n",
       "    <tr>\n",
       "      <th>CNN LSTM</th>\n",
       "      <td>Univariate LSTM Models</td>\n",
       "      <td>[samples, subsequences, timesteps, features]</td>\n",
       "      <td>[[[[60], [70]], [[80], [90]]]]</td>\n",
       "      <td>[[101.11435]]</td>\n",
       "      <td>1.2418</td>\n",
       "    </tr>\n",
       "    <tr>\n",
       "      <th>Multiple Input Multi-Step Output</th>\n",
       "      <td>Multivariate Multi-Step LSTM Models</td>\n",
       "      <td>[rows, columns]</td>\n",
       "      <td>[[[70, 75], [80, 85], [90, 95]]]</td>\n",
       "      <td>[[186.0647, 206.36623]]</td>\n",
       "      <td>1.5001</td>\n",
       "    </tr>\n",
       "    <tr>\n",
       "      <th>Encoder-Decoder</th>\n",
       "      <td>Multi-Step LSTM Models</td>\n",
       "      <td>[samples, timesteps, features]</td>\n",
       "      <td>[[[70], [80], [90]]]</td>\n",
       "      <td>[[[101.36606], [114.12388]]]</td>\n",
       "      <td>9.4362</td>\n",
       "    </tr>\n",
       "    <tr>\n",
       "      <th>Stacked LSTM</th>\n",
       "      <td>Univariate LSTM Models</td>\n",
       "      <td>[samples, timesteps, features]</td>\n",
       "      <td>[[[70], [80], [90]]]</td>\n",
       "      <td>[[103.255325]]</td>\n",
       "      <td>10.5971</td>\n",
       "    </tr>\n",
       "    <tr>\n",
       "      <th>ConvLSTM</th>\n",
       "      <td>Univariate LSTM Models</td>\n",
       "      <td>[samples, timesteps, rows, columns, features]</td>\n",
       "      <td>[[[[[60]\\n [70]]], [[[80]\\n [90]]]]]</td>\n",
       "      <td>[[104.403595]]</td>\n",
       "      <td>19.3916</td>\n",
       "    </tr>\n",
       "    <tr>\n",
       "      <th>Vector Output</th>\n",
       "      <td>Multi-Step LSTM Models</td>\n",
       "      <td>[samples, timesteps, features]</td>\n",
       "      <td>[[[70], [80], [90]]]</td>\n",
       "      <td>[[104.01215, 116.03949]]</td>\n",
       "      <td>26.2864</td>\n",
       "    </tr>\n",
       "  </tbody>\n",
       "</table>\n",
       "</div>"
      ],
      "text/plain": [
       "                                                                              type  \\\n",
       "model                                                                                \n",
       "Bidirectional LSTM                                          Univariate LSTM Models   \n",
       "Multiple Input Series                                     Multivariate LSTM Models   \n",
       "Multiple Parallel Series                                  Multivariate LSTM Models   \n",
       "Multiple Parallel Input and Multi-Step Output  Multivariate Multi-Step LSTM Models   \n",
       "Vanilla LSTM                                                Univariate LSTM Models   \n",
       "CNN LSTM                                                    Univariate LSTM Models   \n",
       "Multiple Input Multi-Step Output               Multivariate Multi-Step LSTM Models   \n",
       "Encoder-Decoder                                             Multi-Step LSTM Models   \n",
       "Stacked LSTM                                                Univariate LSTM Models   \n",
       "ConvLSTM                                                    Univariate LSTM Models   \n",
       "Vector Output                                               Multi-Step LSTM Models   \n",
       "\n",
       "                                                                                         dim  \\\n",
       "model                                                                                          \n",
       "Bidirectional LSTM                                            [samples, timesteps, features]   \n",
       "Multiple Input Series                                                        [rows, columns]   \n",
       "Multiple Parallel Series                                                     [rows, columns]   \n",
       "Multiple Parallel Input and Multi-Step Output                                [rows, columns]   \n",
       "Vanilla LSTM                                                  [samples, timesteps, features]   \n",
       "CNN LSTM                                        [samples, subsequences, timesteps, features]   \n",
       "Multiple Input Multi-Step Output                                             [rows, columns]   \n",
       "Encoder-Decoder                                               [samples, timesteps, features]   \n",
       "Stacked LSTM                                                  [samples, timesteps, features]   \n",
       "ConvLSTM                                       [samples, timesteps, rows, columns, features]   \n",
       "Vector Output                                                 [samples, timesteps, features]   \n",
       "\n",
       "                                                                                             X  \\\n",
       "model                                                                                            \n",
       "Bidirectional LSTM                                                        [[[70], [80], [90]]]   \n",
       "Multiple Input Series                                       [[[80, 85], [90, 95], [100, 105]]]   \n",
       "Multiple Parallel Series                       [[[70, 75, 145], [80, 85, 165], [90, 95, 185]]]   \n",
       "Multiple Parallel Input and Multi-Step Output  [[[60, 65, 125], [70, 75, 145], [80, 85, 165]]]   \n",
       "Vanilla LSTM                                                              [[[70], [80], [90]]]   \n",
       "CNN LSTM                                                        [[[[60], [70]], [[80], [90]]]]   \n",
       "Multiple Input Multi-Step Output                              [[[70, 75], [80, 85], [90, 95]]]   \n",
       "Encoder-Decoder                                                           [[[70], [80], [90]]]   \n",
       "Stacked LSTM                                                              [[[70], [80], [90]]]   \n",
       "ConvLSTM                                                  [[[[[60]\\n [70]]], [[[80]\\n [90]]]]]   \n",
       "Vector Output                                                             [[[70], [80], [90]]]   \n",
       "\n",
       "                                                                                                                 y  \\\n",
       "model                                                                                                                \n",
       "Bidirectional LSTM                                                                                   [[100.12335]]   \n",
       "Multiple Input Series                                                                                [[205.16708]]   \n",
       "Multiple Parallel Series                                                         [[100.68982, 106.199, 204.83968]]   \n",
       "Multiple Parallel Input and Multi-Step Output  [[[90.265816, 95.88, 185.84712], [100.86708, 105.51342, 206.3824]]]   \n",
       "Vanilla LSTM                                                                                         [[101.01401]]   \n",
       "CNN LSTM                                                                                             [[101.11435]]   \n",
       "Multiple Input Multi-Step Output                                                           [[186.0647, 206.36623]]   \n",
       "Encoder-Decoder                                                                       [[[101.36606], [114.12388]]]   \n",
       "Stacked LSTM                                                                                        [[103.255325]]   \n",
       "ConvLSTM                                                                                            [[104.403595]]   \n",
       "Vector Output                                                                             [[104.01215, 116.03949]]   \n",
       "\n",
       "                                                   mse  \n",
       "model                                                   \n",
       "Bidirectional LSTM                              0.0152  \n",
       "Multiple Input Series                           0.0279  \n",
       "Multiple Parallel Series                        0.6464  \n",
       "Multiple Parallel Input and Multi-Step Output   0.7482  \n",
       "Vanilla LSTM                                    1.0282  \n",
       "CNN LSTM                                        1.2418  \n",
       "Multiple Input Multi-Step Output                1.5001  \n",
       "Encoder-Decoder                                 9.4362  \n",
       "Stacked LSTM                                   10.5971  \n",
       "ConvLSTM                                       19.3916  \n",
       "Vector Output                                  26.2864  "
      ]
     },
     "execution_count": 52,
     "metadata": {},
     "output_type": "execute_result"
    }
   ],
   "source": [
    "compare_df = pd.DataFrame(compare_list, columns=[\"type\",\"model\",\"dim\", \"X\",\"y\", \"mse\"])\n",
    "compare_df = compare_df.set_index(\"model\")\n",
    "compare_df['mse'] = compare_df['mse'].astype(float)\n",
    "compare_df = compare_df.sort_values('mse', ascending=True)\n",
    "compare_df"
   ]
  },
  {
   "cell_type": "code",
   "execution_count": 53,
   "id": "10175fc8-d83d-4ce4-b32f-8beb1131b7b4",
   "metadata": {},
   "outputs": [
    {
     "data": {
      "text/plain": [
       "<AxesSubplot:xlabel='model'>"
      ]
     },
     "execution_count": 53,
     "metadata": {},
     "output_type": "execute_result"
    },
    {
     "data": {
      "image/png": "[encoded data removed]",
      "text/plain": [
       "<Figure size 432x288 with 1 Axes>"
      ]
     },
     "metadata": {
      "needs_background": "light"
     },
     "output_type": "display_data"
    }
   ],
   "source": [
    "compare_df['mse'].plot.bar()"
   ]
  }
 ],
 "metadata": {
  "kernelspec": {
   "display_name": "Python 3 (ipykernel)",
   "language": "python",
   "name": "python3"
  },
  "language_info": {
   "codemirror_mode": {
    "name": "ipython",
    "version": 3
   },
   "file_extension": ".py",
   "mimetype": "text/x-python",
   "name": "python",
   "nbconvert_exporter": "python",
   "pygments_lexer": "ipython3",
   "version": "3.8.5"
  }
 },
 "nbformat": 4,
 "nbformat_minor": 5
}
