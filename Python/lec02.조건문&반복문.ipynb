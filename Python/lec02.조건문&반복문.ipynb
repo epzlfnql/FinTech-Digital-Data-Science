{
 "cells": [
  {
   "cell_type": "markdown",
   "id": "7ee48d25-b674-438d-977a-b3c2be7e21ca",
   "metadata": {},
   "source": [
    "# lec02. 조건문 & 반복문"
   ]
  },
  {
   "cell_type": "markdown",
   "id": "6016c886-7381-461c-ac55-41bd9ad9658e",
   "metadata": {},
   "source": [
    "## 조건문 if\n",
    "* if 조건절 :\n",
    "* if 조건절 :</br>\n",
    "  else:\n",
    "* if 조건절 :</br>\n",
    "  elif 조건절:</br>\n",
    "  else:"
   ]
  },
  {
   "cell_type": "code",
   "execution_count": 6,
   "id": "f3e92b30-b3ff-4cb8-940b-79baa2f632ec",
   "metadata": {},
   "outputs": [
    {
     "name": "stdout",
     "output_type": "stream",
     "text": [
      "남성1\n",
      "남성2\n",
      "==done==\n"
     ]
    }
   ],
   "source": [
    "gen = 'm'\n",
    "if gen=='f':\n",
    "    print('여성1')\n",
    "    print('여성2')\n",
    "    print('여성3')\n",
    "    print('여성4')\n",
    "elif gen=='m':\n",
    "    print('남성1')\n",
    "    print('남성2')\n",
    "else:\n",
    "    print('중성')\n",
    "print('==done==')"
   ]
  },
  {
   "cell_type": "code",
   "execution_count": 8,
   "id": "664f062f-8993-43d5-b963-7d6b522d9b31",
   "metadata": {},
   "outputs": [
    {
     "name": "stdout",
     "output_type": "stream",
     "text": [
      "적합\n"
     ]
    }
   ],
   "source": [
    "gen = 'm'\n",
    "blood = 'A'\n",
    "\n",
    "if gen=='m' and blood == 'A':\n",
    "    print('적합')"
   ]
  },
  {
   "cell_type": "code",
   "execution_count": null,
   "id": "b9213283-ea92-4cec-bdf6-6bef1e94bf09",
   "metadata": {},
   "outputs": [],
   "source": [
    "sal =2000\n",
    "if sal > 1000:\n",
    "    print('1')\n",
    "elif sal > 2000:\n",
    "    print('2')\n",
    "elif sal > 3000:\n",
    "    print('3')\n",
    "else:\n",
    "    print('해당없음')"
   ]
  },
  {
   "cell_type": "code",
   "execution_count": 12,
   "id": "666ec50c-8ff0-403b-9f9f-69f601f550df",
   "metadata": {},
   "outputs": [
    {
     "name": "stdout",
     "output_type": "stream",
     "text": [
      "1\n"
     ]
    }
   ],
   "source": [
    "blood = ['A', 'B', 'O']\n",
    "i = 'A'\n",
    "if i =='A':\n",
    "        print('1')\n",
    "elif i=='B':\n",
    "        print('2')\n",
    "elif i=='O':\n",
    "        print('3')\n",
    "else:\n",
    "        print('해당없음')"
   ]
  },
  {
   "cell_type": "markdown",
   "id": "4241bd14-5d42-474a-ab1b-e94227e87686",
   "metadata": {},
   "source": [
    "## 반복문 for\n",
    "* for 한개 in 반복대상:\n",
    "    "
   ]
  },
  {
   "cell_type": "code",
   "execution_count": 13,
   "id": "a643c2e9-d3b4-4b6e-a70e-41eca34612bf",
   "metadata": {},
   "outputs": [
    {
     "name": "stdout",
     "output_type": "stream",
     "text": [
      "1\n",
      "2\n",
      "3\n",
      "====done====\n"
     ]
    }
   ],
   "source": [
    "for num in [1,2,3]:\n",
    "    print(num)\n",
    "print('====done====')"
   ]
  },
  {
   "cell_type": "code",
   "execution_count": 15,
   "id": "530a74ab-c199-416a-874c-67f4f6bfb0a3",
   "metadata": {},
   "outputs": [
    {
     "name": "stdout",
     "output_type": "stream",
     "text": [
      "1\n",
      "2\n",
      "3\n"
     ]
    }
   ],
   "source": [
    "blood = ['A', 'B', 'O']\n",
    "for i in blood:\n",
    "    if i =='A':\n",
    "        print('1')\n",
    "    elif i=='B':\n",
    "        print('2')\n",
    "    elif i=='O':\n",
    "        print('3')\n",
    "    else:\n",
    "        print('해당없음')"
   ]
  },
  {
   "cell_type": "markdown",
   "id": "fcbc5b99-370a-41c3-b804-a7c89b2e22ec",
   "metadata": {},
   "source": [
    "## range (start, end)\n",
    "- [start, end-1]"
   ]
  },
  {
   "cell_type": "code",
   "execution_count": 18,
   "id": "1ff8cbd3-0d61-443c-89e4-94944405c49d",
   "metadata": {},
   "outputs": [
    {
     "name": "stdout",
     "output_type": "stream",
     "text": [
      "1\n",
      "2\n",
      "3\n"
     ]
    }
   ],
   "source": [
    "for a in range(1,4): \n",
    "    print(a, end='\\n') # end='\\n'이 기본이다.\n"
   ]
  },
  {
   "cell_type": "code",
   "execution_count": 30,
   "id": "2c36a82c-f6a4-4b5f-94bb-d2802853471e",
   "metadata": {},
   "outputs": [
    {
     "name": "stdout",
     "output_type": "stream",
     "text": [
      "2 4 6 8 10 12 14 16 18 20 22 24 26 28 30 32 34 36 38 40 42 44 46 48 50 52 54 56 58 60 62 64 66 68 70 72 74 76 78 80 82 84 86 88 90 92 94 96 98 100 102 104 106 108 110 112 114 116 118 120 122 124 126 128 130 132 134 136 138 140 142 144 146 148 150 152 154 156 158 160 162 164 166 168 170 172 174 176 178 180 182 184 186 188 190 192 194 196 198 "
     ]
    }
   ],
   "source": [
    "for a in range(1,100):\n",
    "    print(2*a, end=' ')"
   ]
  },
  {
   "cell_type": "code",
   "execution_count": 23,
   "id": "0ebae965-c22a-437a-9304-56ab275ee50f",
   "metadata": {},
   "outputs": [
    {
     "name": "stdout",
     "output_type": "stream",
     "text": [
      "---1단---\n",
      "---2단---\n",
      "---3단---\n",
      "---4단---\n",
      "---5단---\n",
      "---6단---\n",
      "---7단---\n",
      "---8단---\n",
      "---9단---\n"
     ]
    }
   ],
   "source": [
    "for i in range(1,10):\n",
    "    print('---'+str(i)+'단---')"
   ]
  },
  {
   "cell_type": "code",
   "execution_count": 26,
   "id": "9f0e85fb-d4ee-4a48-9f9e-9fe38ebaa3e0",
   "metadata": {},
   "outputs": [
    {
     "name": "stdout",
     "output_type": "stream",
     "text": [
      "--- 99 단---\n",
      "---99단---\n"
     ]
    }
   ],
   "source": [
    "dan = 99\n",
    "print('---', dan, '단---')\n",
    "print(f'---{dan}단---') # printf 양식"
   ]
  },
  {
   "cell_type": "markdown",
   "id": "be08fa8e-c7b4-4f44-90f6-cb2a9848c1bf",
   "metadata": {},
   "source": [
    "## 문자 포맷팅"
   ]
  },
  {
   "cell_type": "markdown",
   "id": "b48014ef-08a5-4265-b408-1540716346ab",
   "metadata": {},
   "source": [
    "### \"%d %s\" %(변수1, 변수2)\n",
    "%s : 글자      %d : 숫자       %f 소수점 숫자        %c 한글자 </br>\n",
    "%o : 8진수     %x : 16진수\n"
   ]
  },
  {
   "cell_type": "code",
   "execution_count": 33,
   "id": "d9602bc3-1026-409d-9137-62bef00963b1",
   "metadata": {},
   "outputs": [
    {
     "name": "stdout",
     "output_type": "stream",
     "text": [
      "내 나이는 28살입니다 이름은 이태영 입니다\n"
     ]
    }
   ],
   "source": [
    "age = 28\n",
    "name = '이태영'\n",
    "print('내 나이는 %d살입니다 이름은 %s 입니다' %(28, '이태영'))\n"
   ]
  },
  {
   "cell_type": "code",
   "execution_count": 36,
   "id": "a4b49de0-ebc7-4470-ac2d-34595dee885d",
   "metadata": {},
   "outputs": [
    {
     "name": "stdout",
     "output_type": "stream",
     "text": [
      "---1단---\n",
      "---2단---\n",
      "---3단---\n",
      "---4단---\n",
      "---5단---\n",
      "---6단---\n",
      "---7단---\n",
      "---8단---\n",
      "---9단---\n"
     ]
    }
   ],
   "source": [
    "for i in range(1, 10):\n",
    "    print('---%d단---' %i)"
   ]
  },
  {
   "cell_type": "code",
   "execution_count": 39,
   "id": "aa7a6f2b-5882-47b9-878f-5378593fbdb5",
   "metadata": {},
   "outputs": [
    {
     "name": "stdout",
     "output_type": "stream",
     "text": [
      "이자율은 0.3%입니다\n",
      "이자율은 0.125487 %입니다\n",
      "이자율은 0.125 %입니다\n"
     ]
    }
   ],
   "source": [
    "print('이자율은 0.3%입니다')\n",
    "print('이자율은 %f %%입니다' %0.125487)\n",
    "print('이자율은 %.3f %%입니다' %0.125487)"
   ]
  },
  {
   "cell_type": "code",
   "execution_count": 38,
   "id": "177b1dd1-f808-4919-9fe2-cf0e452aadc6",
   "metadata": {},
   "outputs": [
    {
     "name": "stdout",
     "output_type": "stream",
     "text": [
      "0.7\n"
     ]
    }
   ],
   "source": [
    "rate = 0.7\n",
    "print(rate)"
   ]
  },
  {
   "cell_type": "markdown",
   "id": "cbc55be6-be92-48b6-a4b1-c47e7f7efd27",
   "metadata": {},
   "source": [
    "### \"{순서1}{순서2}\".format(변수1, 변수2)\n"
   ]
  },
  {
   "cell_type": "code",
   "execution_count": 40,
   "id": "7584204b-5814-4e90-a341-c641e78f2cbe",
   "metadata": {},
   "outputs": [
    {
     "name": "stdout",
     "output_type": "stream",
     "text": [
      "내 나이는 20살입니다 이름은 홍길동입니다\n"
     ]
    }
   ],
   "source": [
    "print(\"내 나이는 {0}살입니다 이름은 {1}입니다\".format(20, '홍길동'))"
   ]
  },
  {
   "cell_type": "code",
   "execution_count": null,
   "id": "2b1ba8c4-693b-4b5f-af4d-39e9a6e5b9cc",
   "metadata": {},
   "outputs": [],
   "source": []
  },
  {
   "cell_type": "code",
   "execution_count": null,
   "id": "abc0c5f0-0c6e-47cd-a816-ddd5a4904a16",
   "metadata": {},
   "outputs": [],
   "source": []
  },
  {
   "cell_type": "markdown",
   "id": "54ad5b7d-4f4e-4302-a083-99be047d0cb8",
   "metadata": {},
   "source": [
    "### f\" {변수}\""
   ]
  },
  {
   "cell_type": "code",
   "execution_count": 42,
   "id": "f35a9416-dec5-4b79-9cfc-5795b661a9ea",
   "metadata": {},
   "outputs": [
    {
     "name": "stdout",
     "output_type": "stream",
     "text": [
      "내 나이는 20살입니다 이름은 홍길동입니다\n"
     ]
    }
   ],
   "source": [
    "age = 20\n",
    "name = \"홍길동\"\n",
    "print(f\"내 나이는 {age}살입니다 이름은 {name}입니다\")"
   ]
  },
  {
   "cell_type": "code",
   "execution_count": 50,
   "id": "9174209e-19f3-400e-9876-c0b54f6199b6",
   "metadata": {},
   "outputs": [
    {
     "name": "stdout",
     "output_type": "stream",
     "text": [
      "---1단---\n",
      "1*1=1\t1*2=2\t1*3=3\t1*4=4\t1*5=5\t1*6=6\t1*7=7\t1*8=8\t1*9=9\t\n",
      "---2단---\n",
      "2*1=2\t2*2=4\t2*3=6\t2*4=8\t2*5=10\t2*6=12\t2*7=14\t2*8=16\t2*9=18\t\n",
      "---3단---\n",
      "3*1=3\t3*2=6\t3*3=9\t3*4=12\t3*5=15\t3*6=18\t3*7=21\t3*8=24\t3*9=27\t\n",
      "---4단---\n",
      "4*1=4\t4*2=8\t4*3=12\t4*4=16\t4*5=20\t4*6=24\t4*7=28\t4*8=32\t4*9=36\t\n",
      "---5단---\n",
      "5*1=5\t5*2=10\t5*3=15\t5*4=20\t5*5=25\t5*6=30\t5*7=35\t5*8=40\t5*9=45\t\n",
      "---6단---\n",
      "6*1=6\t6*2=12\t6*3=18\t6*4=24\t6*5=30\t6*6=36\t6*7=42\t6*8=48\t6*9=54\t\n",
      "---7단---\n",
      "7*1=7\t7*2=14\t7*3=21\t7*4=28\t7*5=35\t7*6=42\t7*7=49\t7*8=56\t7*9=63\t\n",
      "---8단---\n",
      "8*1=8\t8*2=16\t8*3=24\t8*4=32\t8*5=40\t8*6=48\t8*7=56\t8*8=64\t8*9=72\t\n",
      "---9단---\n",
      "9*1=9\t9*2=18\t9*3=27\t9*4=36\t9*5=45\t9*6=54\t9*7=63\t9*8=72\t9*9=81\t\n"
     ]
    }
   ],
   "source": [
    "for i in range(1, 10):\n",
    "    print('---%d단---' %i)\n",
    "    for j in range(1,10):\n",
    "        print(f\"{i}*{j}={i*j}\", end='\\t')\n",
    "    print()"
   ]
  },
  {
   "cell_type": "markdown",
   "id": "fbdc8b41-5eab-459d-8ac1-3fdb382f1920",
   "metadata": {},
   "source": [
    "## 반복문 while\n",
    "* while 조건문:\n",
    "    "
   ]
  },
  {
   "cell_type": "code",
   "execution_count": 51,
   "id": "c2b3745e-19bd-4bba-b26f-97ac24535b47",
   "metadata": {},
   "outputs": [],
   "source": [
    "# 파이썬은 boolean 앞글자를 무조건 대문자로 True, False"
   ]
  },
  {
   "cell_type": "code",
   "execution_count": 52,
   "id": "80f28c6f-80f4-41ca-9185-0da5a4d36ad5",
   "metadata": {},
   "outputs": [
    {
     "name": "stdout",
     "output_type": "stream",
     "text": [
      "---11\n",
      "---10\n",
      "---9\n",
      "===done==\n"
     ]
    }
   ],
   "source": [
    "a=11\n",
    "while a>8:\n",
    "    print(f'---{a}')\n",
    "    a=a-1\n",
    "print('===done==')"
   ]
  },
  {
   "cell_type": "code",
   "execution_count": 56,
   "id": "4cf18d70-c584-4405-be44-be8923d57335",
   "metadata": {},
   "outputs": [
    {
     "name": "stdout",
     "output_type": "stream",
     "text": [
      "1\n",
      "2\n",
      "3\n",
      "4\n",
      "5\n",
      "6\n",
      "7\n",
      "8\n",
      "9\n",
      "10\n"
     ]
    }
   ],
   "source": [
    "num =1\n",
    "while num<11:\n",
    "    print(num)\n",
    "    num=num+1"
   ]
  },
  {
   "cell_type": "code",
   "execution_count": 57,
   "id": "2ca821f9-bc62-46a2-9f55-65e11c2ac8f6",
   "metadata": {
    "jupyter": {
     "source_hidden": true
    },
    "tags": []
   },
   "outputs": [
    {
     "name": "stdout",
     "output_type": "stream",
     "text": [
      "1\n",
      "2\n",
      "3\n",
      "4\n",
      "5\n",
      "6\n",
      "7\n",
      "8\n",
      "9\n",
      "10\n"
     ]
    }
   ],
   "source": [
    "num =1\n",
    "while True:\n",
    "    print(num)\n",
    "    num=num+1\n",
    "    if num<=10:\n",
    "        continue\n",
    "    else:\n",
    "        break"
   ]
  },
  {
   "cell_type": "code",
   "execution_count": 58,
   "id": "18b38395-11fb-465d-9490-6471f820b1dd",
   "metadata": {},
   "outputs": [
    {
     "name": "stdout",
     "output_type": "stream",
     "text": [
      "---1단---\n",
      "1*1=1\t1*2=2\t1*3=3\t1*4=4\t1*5=5\t1*6=6\t1*7=7\t1*8=8\t1*9=9\t\n",
      "---2단---\n",
      "2*1=2\t2*2=4\t2*3=6\t2*4=8\t2*5=10\t2*6=12\t2*7=14\t2*8=16\t2*9=18\t\n",
      "---3단---\n",
      "3*1=3\t3*2=6\t3*3=9\t3*4=12\t3*5=15\t3*6=18\t3*7=21\t3*8=24\t3*9=27\t\n",
      "---4단---\n",
      "4*1=4\t4*2=8\t4*3=12\t4*4=16\t4*5=20\t4*6=24\t4*7=28\t4*8=32\t4*9=36\t\n",
      "---5단---\n",
      "5*1=5\t5*2=10\t5*3=15\t5*4=20\t5*5=25\t5*6=30\t5*7=35\t5*8=40\t5*9=45\t\n",
      "---6단---\n",
      "6*1=6\t6*2=12\t6*3=18\t6*4=24\t6*5=30\t6*6=36\t6*7=42\t6*8=48\t6*9=54\t\n",
      "---7단---\n",
      "7*1=7\t7*2=14\t7*3=21\t7*4=28\t7*5=35\t7*6=42\t7*7=49\t7*8=56\t7*9=63\t\n",
      "---8단---\n",
      "8*1=8\t8*2=16\t8*3=24\t8*4=32\t8*5=40\t8*6=48\t8*7=56\t8*8=64\t8*9=72\t\n",
      "---9단---\n",
      "9*1=9\t9*2=18\t9*3=27\t9*4=36\t9*5=45\t9*6=54\t9*7=63\t9*8=72\t9*9=81\t\n"
     ]
    }
   ],
   "source": [
    "a=1\n",
    "b=1\n",
    "while a<10:\n",
    "    print('---%d단---' %a)\n",
    "    b=1\n",
    "    while b<10:\n",
    "        print(f\"{a}*{b}={a * b}\", end='\\t')\n",
    "        b=b+1\n",
    "    a = a + 1\n",
    "    print()\n",
    "\n"
   ]
  },
  {
   "cell_type": "code",
   "execution_count": 59,
   "id": "33694a14-62c9-4f24-a097-4257fee4d6d8",
   "metadata": {},
   "outputs": [
    {
     "name": "stdout",
     "output_type": "stream",
     "text": [
      "---11\n",
      "---10\n",
      "---9\n",
      "===done==\n"
     ]
    }
   ],
   "source": [
    "a=11\n",
    "while a>8:\n",
    "    print(f'---{a}')\n",
    "    a=a-1\n",
    "print('===done==')"
   ]
  },
  {
   "cell_type": "code",
   "execution_count": 60,
   "id": "7bd21ee8-0a74-49d6-9051-824e71729bbd",
   "metadata": {},
   "outputs": [
    {
     "name": "stdout",
     "output_type": "stream",
     "text": [
      "---11\n",
      "---10\n",
      "---9\n"
     ]
    }
   ],
   "source": [
    "a=11\n",
    "while True:\n",
    "    print(f'---{a}')\n",
    "    a=a-1\n",
    "    if a==8:\n",
    "        break\n",
    "    else:\n",
    "        continue"
   ]
  },
  {
   "cell_type": "code",
   "execution_count": 66,
   "id": "00a4d897-5a1c-4f55-b9ed-04ef61430759",
   "metadata": {},
   "outputs": [
    {
     "name": "stdout",
     "output_type": "stream",
     "text": [
      "76.67\n"
     ]
    }
   ],
   "source": [
    "scores = [70, 60, 55, 75, 95, 90, 80, 80, 85]\n",
    "tmp = 0\n",
    "for s in scores:\n",
    "    tmp = tmp+s\n",
    "\n",
    "print('%.2f' %(tmp/len(scores)))"
   ]
  },
  {
   "cell_type": "code",
   "execution_count": 67,
   "id": "92c040db-4f74-4810-b28c-ebbb03e55995",
   "metadata": {},
   "outputs": [
    {
     "name": "stdout",
     "output_type": "stream",
     "text": [
      "합계:690\n",
      "인원수: 9\n",
      "평균:  76.67\n"
     ]
    }
   ],
   "source": [
    "score_list =  [70, 60, 55, 75, 95, 90, 80, 80, 85]\n",
    "sum = 0\n",
    "cnt = len(score_list)    #원소의 갯수\n",
    "\n",
    "for score in score_list:\n",
    "    sum = sum + score\n",
    "\n",
    "print( f\"합계:{sum}\")    \n",
    "print( f\"인원수: {cnt}\"  )  \n",
    "print( f\"평균: {sum/cnt : .2f}\"  )\n"
   ]
  },
  {
   "cell_type": "code",
   "execution_count": 69,
   "id": "edce899e-7dc2-439c-a1a0-31d072ba892e",
   "metadata": {},
   "outputs": [
    {
     "name": "stdout",
     "output_type": "stream",
     "text": [
      "30\n"
     ]
    }
   ],
   "source": [
    "tmp = 0\n",
    "for i in range(1,11):\n",
    "    if i%2==0:\n",
    "       tmp+=i\n",
    "    else:\n",
    "        continue\n",
    "\n",
    "print(tmp)"
   ]
  },
  {
   "cell_type": "code",
   "execution_count": 71,
   "id": "95d62d86-0dc8-4fa6-a006-e2e9c097c134",
   "metadata": {},
   "outputs": [
    {
     "name": "stdout",
     "output_type": "stream",
     "text": [
      "10\n"
     ]
    }
   ],
   "source": [
    "cnt=0\n",
    "for i in range(1, 31):\n",
    "    if i%3==0:\n",
    "        cnt+=1\n",
    "print(cnt)"
   ]
  },
  {
   "cell_type": "markdown",
   "id": "f2cbb18a-5dca-415f-b86a-ec01c13c1961",
   "metadata": {},
   "source": [
    "## range(start, end, step=1)"
   ]
  },
  {
   "cell_type": "code",
   "execution_count": 72,
   "id": "805b50f9-5728-45ab-95a6-df7984e4ef5b",
   "metadata": {},
   "outputs": [
    {
     "name": "stdout",
     "output_type": "stream",
     "text": [
      "[2, 4, 6, 8, 10]\n",
      "합계:30\n"
     ]
    }
   ],
   "source": [
    "nums = list( range(2,11,2))\n",
    "print(nums)\n",
    "sum = 0\n",
    "for n in nums:\n",
    "    sum=sum+n\n",
    "print(f\"합계:{sum}\")"
   ]
  },
  {
   "cell_type": "code",
   "execution_count": 73,
   "id": "b2544152-0486-463e-9713-6ef61e6a2ada",
   "metadata": {},
   "outputs": [
    {
     "name": "stdout",
     "output_type": "stream",
     "text": [
      "*   \n",
      "**  \n",
      "*** \n",
      "****\n"
     ]
    }
   ],
   "source": [
    "for a in range(1,5):\n",
    "    print(a*'*'+(4-a)*' ')"
   ]
  },
  {
   "cell_type": "code",
   "execution_count": 74,
   "id": "e3c0761f-04dc-4f26-b88b-e5c0c5945170",
   "metadata": {},
   "outputs": [
    {
     "name": "stdout",
     "output_type": "stream",
     "text": [
      "   *\n",
      "  **\n",
      " ***\n",
      "****\n"
     ]
    }
   ],
   "source": [
    "for a in range(1, 5):\n",
    "    print((4-a)*' '+a*'*')"
   ]
  },
  {
   "cell_type": "code",
   "execution_count": 77,
   "id": "c6d8be04-5b90-4037-b4af-96592b76b88f",
   "metadata": {},
   "outputs": [
    {
     "name": "stdout",
     "output_type": "stream",
     "text": [
      "****\n",
      "*** \n",
      "**  \n",
      "*   \n"
     ]
    }
   ],
   "source": [
    "for a in range(4,0,-1):\n",
    "    print(a*'*'+(4-a)*' ')"
   ]
  },
  {
   "cell_type": "code",
   "execution_count": 78,
   "id": "c6f61819-7813-4870-b1b9-fc6aec3e97f1",
   "metadata": {},
   "outputs": [
    {
     "name": "stdout",
     "output_type": "stream",
     "text": [
      "****\n",
      " ***\n",
      "  **\n",
      "   *\n"
     ]
    }
   ],
   "source": [
    "for a in range(4,0,-1):\n",
    "    print((4-a)*' '+a*'*')"
   ]
  },
  {
   "cell_type": "code",
   "execution_count": 83,
   "id": "cdd810bc-7792-4028-b272-1cfb4c9d2b46",
   "metadata": {},
   "outputs": [
    {
     "name": "stdout",
     "output_type": "stream",
     "text": [
      "              *              \n",
      "             ***             \n",
      "            *****            \n",
      "           *******           \n",
      "          *********          \n",
      "         ***********         \n",
      "        *************        \n",
      "       ***************       \n",
      "      *****************      \n",
      "     *******************     \n",
      "    *********************    \n",
      "   ***********************   \n",
      "  *************************  \n",
      " *************************** \n",
      "*****************************\n"
     ]
    }
   ],
   "source": [
    "for a in range(1, 30,2):\n",
    "    print(' '*((29-a)//2)+'*'*a+' '*((29-a)//2))\n",
    "    "
   ]
  },
  {
   "cell_type": "code",
   "execution_count": 86,
   "id": "add8fdd8-c6f1-4d0b-a193-0a0100e36249",
   "metadata": {},
   "outputs": [
    {
     "name": "stdout",
     "output_type": "stream",
     "text": [
      "*****************************\n",
      " *************************** \n",
      "  *************************  \n",
      "   ***********************   \n",
      "    *********************    \n",
      "     *******************     \n",
      "      *****************      \n",
      "       ***************       \n",
      "        *************        \n",
      "         ***********         \n",
      "          *********          \n",
      "           *******           \n",
      "            *****            \n",
      "             ***             \n",
      "              *              \n"
     ]
    }
   ],
   "source": [
    "for a in range(29,0,-2):\n",
    "    print(' '*((29-a)//2)   +    ('*'*a)  +' '*((29-a)//2) )"
   ]
  },
  {
   "cell_type": "code",
   "execution_count": null,
   "id": "d8b4b502-e156-4cf4-8422-dbab64e185fb",
   "metadata": {},
   "outputs": [],
   "source": []
  }
 ],
 "metadata": {
  "kernelspec": {
   "display_name": "Python 3 (ipykernel)",
   "language": "python",
   "name": "python3"
  },
  "language_info": {
   "codemirror_mode": {
    "name": "ipython",
    "version": 3
   },
   "file_extension": ".py",
   "mimetype": "text/x-python",
   "name": "python",
   "nbconvert_exporter": "python",
   "pygments_lexer": "ipython3",
   "version": "3.8.8"
  }
 },
 "nbformat": 4,
 "nbformat_minor": 5
}
