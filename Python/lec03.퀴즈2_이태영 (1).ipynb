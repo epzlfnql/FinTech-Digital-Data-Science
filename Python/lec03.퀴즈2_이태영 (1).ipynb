{
 "cells": [
  {
   "cell_type": "markdown",
   "id": "d831b88f-0fa4-4243-8ac0-3070575d8e2c",
   "metadata": {},
   "source": [
    "<font size=6><b> lec03. Quiz</b></font>\n",
    "* 제어문, 반복문 활용\n",
    "* list, tuple, dict 활용"
   ]
  },
  {
   "cell_type": "markdown",
   "id": "036125b3-cc7e-4901-b667-5c38448eb338",
   "metadata": {},
   "source": [
    "<b>문1) 슬라이싱을 사용해서 홀수만 출력</b>\n",
    "<pre>\n",
    "nums = [1, 2, 3, 4, 5, 6, 7, 8, 9, 10]\n",
    "\n",
    "* 출력 결과 :\n",
    "    [1, 3, 5, 7, 9]"
   ]
  },
  {
   "cell_type": "code",
   "execution_count": 44,
   "id": "16a7a40b-95a7-4829-93e4-44de7b06ade1",
   "metadata": {},
   "outputs": [
    {
     "data": {
      "text/plain": [
       "[1, 3, 5, 7, 9]"
      ]
     },
     "execution_count": 44,
     "metadata": {},
     "output_type": "execute_result"
    }
   ],
   "source": [
    "nums = [1, 2, 3, 4, 5, 6, 7, 8, 9, 10]\n",
    "nums[::2]"
   ]
  },
  {
   "cell_type": "markdown",
   "id": "a04decee-2c2c-4e31-b7e6-ac006751b28a",
   "metadata": {
    "tags": []
   },
   "source": [
    "<b>문2) 리스트의 숫자를 역 방향으로 출력</b>\n",
    "<pre>\n",
    "nums = [1, 2, 3, 4, 5]\n",
    "\n",
    "* 출력 결과 :\n",
    "    [5, 4, 3, 2, 1]"
   ]
  },
  {
   "cell_type": "code",
   "execution_count": 46,
   "id": "0e446f6c-1499-45f3-9e0f-4b87da07d476",
   "metadata": {},
   "outputs": [
    {
     "data": {
      "text/plain": [
       "[5, 4, 3, 2, 1]"
      ]
     },
     "execution_count": 46,
     "metadata": {},
     "output_type": "execute_result"
    }
   ],
   "source": [
    "nums = [1, 2, 3, 4, 5]\n",
    "nums[::-1]"
   ]
  },
  {
   "cell_type": "markdown",
   "id": "5b4fc413-0a96-44d2-9d70-6bcc2aed3c1a",
   "metadata": {},
   "source": [
    "<b>문3) print(res) 라고 입력 시 리스트를 아래와 같이 출력</b>\n",
    "<pre>\n",
    "comp = ['카카오','삼성전자', 'LG전자', 'Naver']\n",
    "\n",
    "* 출력 결과 :\n",
    "    print(res)\n",
    "    카카오 삼성전자 LG전자 Naver"
   ]
  },
  {
   "cell_type": "code",
   "execution_count": 7,
   "id": "22f2c6f5-e53b-44c1-8235-91aba43cc914",
   "metadata": {},
   "outputs": [
    {
     "name": "stdout",
     "output_type": "stream",
     "text": [
      "['카카오' '삼성전자' 'LG전자' 'Naver']\n"
     ]
    }
   ],
   "source": [
    "import numpy as np\n",
    "comp = ['카카오','삼성전자', 'LG전자', 'Naver']\n",
    "print(np.array(comp)) # 이거 맞나?"
   ]
  },
  {
   "cell_type": "markdown",
   "id": "0fc40325-c8f6-459c-97f7-9d65858e6ece",
   "metadata": {},
   "source": [
    "<b>문4) 아래 두 개의 튜플을 하나의 딕셔너리로 변환해  result 변수에 저장</b>\n",
    "<pre>\n",
    "keys = (\"apple\", \"banana\", \"melon\")\n",
    "vals = (1000, 500, 2000)\n",
    "\n",
    "* 출력 결과 :\n",
    "  print(result)\n",
    "  {'apple': 1000, 'banana': 500, 'melon': 2000}"
   ]
  },
  {
   "cell_type": "code",
   "execution_count": 47,
   "id": "2b02c1ed-bc1d-4d17-a31e-5f6552aaf749",
   "metadata": {},
   "outputs": [
    {
     "name": "stdout",
     "output_type": "stream",
     "text": [
      "{'apple': 1000, 'banana': 500, 'melon': 2000}\n"
     ]
    }
   ],
   "source": [
    "keys = (\"apple\", \"banana\", \"melon\")\n",
    "vals = (1000, 500, 2000)\n",
    "result = {}\n",
    "for i in range(len(keys)):\n",
    "    result[keys[i]] = vals[i]\n",
    "print(result)"
   ]
  },
  {
   "cell_type": "markdown",
   "id": "eb862dc5-c72c-4fe6-bacb-64d610b13ec9",
   "metadata": {},
   "source": [
    "<b>문5) 구구단 3단, 4단 거꾸로 출력 </b>\n",
    "\n",
    "* 출력결과\n",
    "<pre>\n",
    "2* 9 = 18\t2* 8 = 16\t2* 7 = 14\t2* 6 = 12\t2* 5 = 10\t2* 4 = 8\t2* 3 = 6\t2* 2 = 4\t2* 1 = 2\t\n",
    "3* 9 = 27\t3* 8 = 24\t3* 7 = 21\t3* 6 = 18\t3* 5 = 15\t3* 4 = 12\t3* 3 = 9\t3* 2 = 6\t3* 1 = 3\t\n"
   ]
  },
  {
   "cell_type": "code",
   "execution_count": 15,
   "id": "0a736894-1807-4fa6-91c5-ba996f948e2e",
   "metadata": {},
   "outputs": [
    {
     "name": "stdout",
     "output_type": "stream",
     "text": [
      "2*9 = 18\t2*8 = 16\t2*7 = 14\t2*6 = 12\t2*5 = 10\t2*4 = 8\t2*3 = 6\t2*2 = 4\t2*1 = 2\t\n",
      "3*9 = 27\t3*8 = 24\t3*7 = 21\t3*6 = 18\t3*5 = 15\t3*4 = 12\t3*3 = 9\t3*2 = 6\t3*1 = 3\t\n"
     ]
    }
   ],
   "source": [
    "for i in range(2,4):\n",
    "    for j in range(9,0,-1):\n",
    "        print(f'{i}*{j} = {i*j}', end= '\\t')\n",
    "    print()"
   ]
  },
  {
   "cell_type": "code",
   "execution_count": 14,
   "id": "67cf991a-f8d4-4381-b9f4-21b6d365cdb1",
   "metadata": {},
   "outputs": [
    {
     "name": "stdout",
     "output_type": "stream",
     "text": [
      "3*9 = 27\t3*8 = 24\t3*7 = 21\t3*6 = 18\t3*5 = 15\t3*4 = 12\t3*3 = 9\t3*2 = 6\t3*1 = 3\t\n",
      "4*9 = 36\t4*8 = 32\t4*7 = 28\t4*6 = 24\t4*5 = 20\t4*4 = 16\t4*3 = 12\t4*2 = 8\t4*1 = 4\t\n"
     ]
    }
   ],
   "source": [
    "for i in range(3,5):\n",
    "    for j in range(9,0,-1):\n",
    "        print(f'{i}*{j} = {i*j}', end= '\\t')\n",
    "    print()"
   ]
  },
  {
   "cell_type": "markdown",
   "id": "ecbe6ffe-76b4-4a2a-92c6-c06707df3127",
   "metadata": {
    "tags": []
   },
   "source": [
    "<b> 문6) 업종명을 키로,    종가,구분을  값으로 갖는 딕셔너리 코드 작성</b>\n",
    "<pre>\n",
    "<table border=1>\n",
    "<tr><td>업종명</td><td>종가</td><td>구분</td></tr>\n",
    "<tr><td>삼성전자</td><td>56200</td><td>코스피</td></tr>\n",
    "<tr><td>삼성스팩6호</td><td>6760</td><td>코스닥</td></tr>\n",
    "<tr><td>휴림로봇</td><td>3210</td><td>코스닥</td></tr>\n",
    "</table>\n"
   ]
  },
  {
   "cell_type": "code",
   "execution_count": 39,
   "id": "f31d9084-37fa-43cc-9598-d4d6b97cace1",
   "metadata": {},
   "outputs": [
    {
     "name": "stdout",
     "output_type": "stream",
     "text": [
      "{'삼성전자': (56200, '코스피'), '삼성스팩6호': (6760, '코스닥'), '휴림로봇': (3210, '코스닥')}\n"
     ]
    }
   ],
   "source": [
    "업종명 = ['삼성전자', '삼성스팩6호', '휴림로봇']\n",
    "종가 = [56200, 6760, 3210]\n",
    "구분 = ['코스피', '코스닥', '코스닥']\n",
    "\n",
    "dict1 = {}\n",
    "for i in range(len(업종명)):\n",
    "    dict1[업종명[i]] = 종가[i], 구분[i]\n",
    "print(dict1)    "
   ]
  },
  {
   "cell_type": "markdown",
   "id": "b0df0d62-645f-4987-8563-da15b633b466",
   "metadata": {},
   "source": [
    "<b> 문7) 문5에서 생성한 dict에 아래 정보 추가하는 코드 작성\n",
    "    \n",
    "<pre>\n",
    "<table border=1>\n",
    "<tr><td>한일사료</td><td>7490</td><td>코스닥</td></tr>\n",
    "</table>"
   ]
  },
  {
   "cell_type": "code",
   "execution_count": 66,
   "id": "f8f9fa58-d5a3-43da-b248-3ea999285f46",
   "metadata": {},
   "outputs": [
    {
     "name": "stdout",
     "output_type": "stream",
     "text": [
      "{'삼성전자': (56200, '코스피'), '삼성스팩6호': (6760, '코스닥'), '휴림로봇': (3210, '코스닥'), '한일사료': (7490, '코스닥')}\n"
     ]
    }
   ],
   "source": [
    "dict1['한일사료'] = 7490, '코스닥'\n",
    "print(dict1)"
   ]
  },
  {
   "cell_type": "code",
   "execution_count": 48,
   "id": "445ce656-312a-460c-b054-d14d66576049",
   "metadata": {},
   "outputs": [
    {
     "data": {
      "text/plain": [
       "56200"
      ]
     },
     "execution_count": 48,
     "metadata": {},
     "output_type": "execute_result"
    }
   ],
   "source": [
    "dict1['삼성전자'][0]"
   ]
  },
  {
   "cell_type": "markdown",
   "id": "ce1b948f-b333-4e72-a46c-3c2b69e15430",
   "metadata": {},
   "source": [
    "<b>문8) 문6에서 생성한 dict에 아래 정보 출력하는 코드 작성 </b>\n",
    "<pre>\n",
    "* 출력결과 : \n",
    "  삼성관련 : 2건  총합 : 62960\n",
    "  코스피  : 1건  총합 : 56200\n",
    "  코스닥  : 3건  총합 : 17460\n"
   ]
  },
  {
   "cell_type": "code",
   "execution_count": 76,
   "id": "2dccc580-5b12-4ff6-911e-29574628da16",
   "metadata": {},
   "outputs": [
    {
     "name": "stdout",
     "output_type": "stream",
     "text": [
      "삼성관련 : 2건 총합 : 62960\n",
      "코스피 : 1건 총합 : 56200\n",
      "코스닥 : 3건 총합 : 17460\n"
     ]
    }
   ],
   "source": [
    "# 다시풀어야겠다\n",
    "\n",
    "삼성_cnt = 0\n",
    "코스피_cnt = 0\n",
    "코스닥_cnt = 0\n",
    "삼성_sum = 0\n",
    "코스피_sum=0\n",
    "코스닥_sum = 0\n",
    "for i in range(len(dict1)):\n",
    "    \n",
    "    if '삼성' in list(dict1.keys())[i]:\n",
    "        삼성_cnt+=1\n",
    "        삼성_sum+=dict1[list(dict1.keys())[i]][0]\n",
    "    if '코스피' in list(dict1.values())[i][1]:\n",
    "        코스피_cnt+=1\n",
    "        코스피_sum+=dict1[list(dict1.keys())[i]][0]   \n",
    "    if '코스닥' in list(dict1.values())[i][1]:\n",
    "        코스닥_cnt+=1\n",
    "        코스닥_sum+=dict1[list(dict1.keys())[i]][0]\n",
    "           \n",
    "print(f'삼성관련 : {삼성_cnt}건 총합 : {삼성_sum}')\n",
    "print(f'코스피 : {코스피_cnt}건 총합 : {코스피_sum}')\n",
    "print(f'코스닥 : {코스닥_cnt}건 총합 : {코스닥_sum}')"
   ]
  },
  {
   "cell_type": "code",
   "execution_count": 84,
   "id": "f83dfc80-94ab-4921-9050-6cbc57fadb91",
   "metadata": {},
   "outputs": [
    {
     "name": "stdout",
     "output_type": "stream",
     "text": [
      "삼성관련 : 2건 총합 : 62960\n",
      "코스피 : 1건 총합 : 56200\n",
      "코스닥 : 3건 총합 : 17460\n"
     ]
    }
   ],
   "source": [
    "slist = []\n",
    "plist = []\n",
    "qlist = []\n",
    "for k, v in dict1.items():\n",
    "    if k[:2] =='삼성':# 앞글자 2개 삼성인거\n",
    "        slist.append(v[0])\n",
    "    if v[1] =='코스피':\n",
    "        plist.append(v[0])\n",
    "    elif v[1] =='코스닥':\n",
    "        qlist.append(v[0])\n",
    "        \n",
    "print(f'삼성관련 : {len(slist)}건 총합 : {sum(slist)}')\n",
    "print(f'코스피 : {len(plist)}건 총합 : {sum(plist)}')\n",
    "print(f'코스닥 : {len(qlist)}건 총합 : {sum(qlist)}')\n"
   ]
  },
  {
   "cell_type": "markdown",
   "id": "b4e8837e-653e-4709-b444-f5ba325fa40c",
   "metadata": {},
   "source": [
    "<b>문9) 아래 나이 정보를 아래와 같이 출력</b>\n",
    "<pre>\n",
    "age_list = [\"11\",\"17\",\"45\",32,64,52,\"23\"]\n",
    "\n",
    "* 출력결과 : \n",
    "  ['10대', '10대', '40대', '30대', '60대', '50대', '20대']\n"
   ]
  },
  {
   "cell_type": "code",
   "execution_count": 18,
   "id": "ae04bd1e-d11f-4c8c-92f4-4a3f5e384af4",
   "metadata": {},
   "outputs": [
    {
     "data": {
      "text/plain": [
       "str"
      ]
     },
     "execution_count": 18,
     "metadata": {},
     "output_type": "execute_result"
    }
   ],
   "source": [
    "type('1')"
   ]
  },
  {
   "cell_type": "code",
   "execution_count": 21,
   "id": "658f80fc-9bab-4e70-a3e9-a40b0c595a2c",
   "metadata": {},
   "outputs": [
    {
     "name": "stdout",
     "output_type": "stream",
     "text": [
      "['10대', '10대', '40대', '30대', '60대', '50대', '20대']\n"
     ]
    }
   ],
   "source": [
    "age_list = [\"11\",\"17\",\"45\",32,64,52,\"23\"]\n",
    "for i in range(len(age_list)):\n",
    "    if type(age_list[i])==str:\n",
    "        tmp = int(age_list[i])\n",
    "    else:\n",
    "        tmp = age_list[i]\n",
    "    \n",
    "    tmp2 = tmp//10\n",
    "    age_list[i]=str(tmp2)+'0대'\n",
    "print(age_list)"
   ]
  },
  {
   "cell_type": "markdown",
   "id": "a07f5c22-41d5-4bdc-945e-a50016a6acb3",
   "metadata": {},
   "source": [
    "<b>문10) 사용자로부터 입력받은 종목명이 stock에 포함되어 있으면 해당 키값을 출력</b>\n",
    "<pre>\n",
    "stock = {\"005930\":\"삼성전자\", \"004310\":\"현대약품\", \"047040\":\"대우건설\", \"035720\":\"카카오\"}\n",
    "  \n",
    "* 출력결과 예: \n",
    "  종목명: __카카오__\n",
    "  035720"
   ]
  },
  {
   "cell_type": "code",
   "execution_count": 71,
   "id": "4292671b-9cdd-450f-afb4-91721acdecab",
   "metadata": {},
   "outputs": [
    {
     "name": "stdin",
     "output_type": "stream",
     "text": [
      "종목명:  삼성전자\n"
     ]
    },
    {
     "name": "stdout",
     "output_type": "stream",
     "text": [
      "005930\n"
     ]
    }
   ],
   "source": [
    "stock = {\"005930\":\"삼성전자\", \"004310\":\"현대약품\", \"047040\":\"대우건설\", \"035720\":\"카카오\"}\n",
    "\n",
    "a = input(\"종목명: \")\n",
    "for i in range(len(stock)):\n",
    "    if a ==list(stock.values())[i]:\n",
    "        print(list(stock.keys())[i])"
   ]
  },
  {
   "cell_type": "code",
   "execution_count": 87,
   "id": "f0ce72a7-f67d-4ef8-b228-b1529e903395",
   "metadata": {},
   "outputs": [
    {
     "name": "stdin",
     "output_type": "stream",
     "text": [
      "종목명:  카카오\n"
     ]
    },
    {
     "name": "stdout",
     "output_type": "stream",
     "text": [
      "035720\n"
     ]
    }
   ],
   "source": [
    "stock = {\"005930\":\"삼성전자\", \"004310\":\"현대약품\", \"047040\":\"대우건설\", \"035720\":\"카카오\"}\n",
    "\n",
    "a = input(\"종목명: \")\n",
    "for k, v in stock.items():\n",
    "    if a==v:\n",
    "        print(k)"
   ]
  },
  {
   "cell_type": "code",
   "execution_count": null,
   "id": "bb9f6fd3-1232-4cb4-8b51-5c4a43d0e7b2",
   "metadata": {},
   "outputs": [],
   "source": []
  }
 ],
 "metadata": {
  "kernelspec": {
   "display_name": "Python 3 (ipykernel)",
   "language": "python",
   "name": "python3"
  },
  "language_info": {
   "codemirror_mode": {
    "name": "ipython",
    "version": 3
   },
   "file_extension": ".py",
   "mimetype": "text/x-python",
   "name": "python",
   "nbconvert_exporter": "python",
   "pygments_lexer": "ipython3",
   "version": "3.8.8"
  }
 },
 "nbformat": 4,
 "nbformat_minor": 5
}
