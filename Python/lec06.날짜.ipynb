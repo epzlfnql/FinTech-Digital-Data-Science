{
 "cells": [
  {
   "cell_type": "markdown",
   "id": "915f6773-8c93-41f2-80ca-2356d34ab469",
   "metadata": {},
   "source": [
    "## dt.date.class"
   ]
  },
  {
   "cell_type": "code",
   "execution_count": 20,
   "id": "3a139381-18ad-4d62-8509-26ebe88d340c",
   "metadata": {},
   "outputs": [],
   "source": [
    "import datetime as dt"
   ]
  },
  {
   "cell_type": "code",
   "execution_count": 21,
   "id": "23d05c93-3aac-412f-a1a5-c7f8a09ab7f9",
   "metadata": {},
   "outputs": [
    {
     "name": "stdout",
     "output_type": "stream",
     "text": [
      "2022-07-05 <class 'datetime.date'>\n",
      "2022 7 5\n"
     ]
    }
   ],
   "source": [
    "print(dt.date.today(), type(dt.date.today()))\n",
    "print(dt.date.today().year, dt.date.today().month, dt.date.today().day)"
   ]
  },
  {
   "cell_type": "code",
   "execution_count": null,
   "id": "25ab1fe1-468b-4800-b64d-a9d19653ca47",
   "metadata": {},
   "outputs": [],
   "source": [
    "# import datetime import timezone # datetime은 datetime.py\n",
    "# timezone.addprint() # timezone은 클래스, addprint()는 timezon 클래스 안에 있는 함수(def)\n"
   ]
  },
  {
   "cell_type": "code",
   "execution_count": 22,
   "id": "b943f103-691a-41bb-9e9b-8feecb83245e",
   "metadata": {},
   "outputs": [
    {
     "name": "stdout",
     "output_type": "stream",
     "text": [
      "2022-07-05 <class 'datetime.date'>\n",
      "2022 7 5\n",
      "2022-07-05\n",
      "\n",
      "\n",
      "\n",
      "2022-07-05 11:49:56.248476\n",
      "11 49 56\n",
      "2022-07-05 11:49:56.248475\n"
     ]
    }
   ],
   "source": [
    "\n",
    "import datetime as dt\n",
    "print(dt.date.today(), type(dt.date.today()))\n",
    "print(dt.date.today().year, dt.date.today().month, dt.date.today().day)\n",
    "#----------------------\n",
    "# date --> str(YYYY-MM-DD)\n",
    "# dt.date.fromisoformat()\n",
    "# ---------------------\n",
    "print(dt.date.today().isoformat()) # 연, 월, 일\n",
    "#dt.date.strftime()\n",
    "\n",
    "print()\n",
    "print()\n",
    "print()\n",
    "\n",
    "\n",
    "print(dt.datetime.today())\n",
    "print(dt.datetime.today().hour, dt.datetime.today().minute, dt.datetime.today().second)\n",
    "print(dt.datetime.now()) # today나 now나 똑같은거, 그냥 today로 타이핑 해라~\n",
    "#print(dt.datetime.fromisoformat)\n",
    "#print(dt.datetime.strftime())\n",
    "#print(dt.datetime.strptime())"
   ]
  },
  {
   "cell_type": "markdown",
   "id": "d649b80d-e5a3-440e-b81e-b2db6d73ccb8",
   "metadata": {},
   "source": [
    "## isoformat(), fromisoformat()"
   ]
  },
  {
   "cell_type": "code",
   "execution_count": 28,
   "id": "d5cf7087-e566-4cdc-9b24-03d07b8a59ad",
   "metadata": {},
   "outputs": [
    {
     "name": "stdout",
     "output_type": "stream",
     "text": [
      "전 <class 'datetime.date'>\n",
      "2022-07-05\n",
      "후 <class 'str'>\n"
     ]
    }
   ],
   "source": [
    "print('전',type(dt.date.today()))\n",
    "print(dt.date.today().isoformat())\n",
    "print('후', type(dt.date.today().isoformat())) # date타입을 str 타입으로 변경"
   ]
  },
  {
   "cell_type": "code",
   "execution_count": 34,
   "id": "afb84f0b-2129-44c5-95f8-7dbb43fd0618",
   "metadata": {},
   "outputs": [
    {
     "name": "stdout",
     "output_type": "stream",
     "text": [
      "2022-07-05\n",
      "<class 'datetime.date'>\n"
     ]
    }
   ],
   "source": [
    "print(dt.date.fromisoformat('2022-07-05'))\n",
    "print(type(dt.date.fromisoformat('2022-07-05')))"
   ]
  },
  {
   "cell_type": "code",
   "execution_count": 37,
   "id": "a389397f-2b13-42d9-a0b6-ada86f974be1",
   "metadata": {},
   "outputs": [
    {
     "name": "stdout",
     "output_type": "stream",
     "text": [
      "2022-07-05 00: 00: 00\n",
      "2022-07-05 11: 56: 11\n"
     ]
    }
   ],
   "source": [
    "# strftime은 사용자가 지정한 format 형태로 바꿔준다.\n",
    "print(dt.date.today().strftime('%Y-%m-%d %H: %M: %S')) # 00초로 뽑아준다.\n",
    "print(dt.datetime.today().strftime('%Y-%m-%d %H: %M: %S')) # 00초로 뽑아준다."
   ]
  },
  {
   "cell_type": "code",
   "execution_count": 42,
   "id": "e3c15ff9-ef11-4b2b-989b-315569056af5",
   "metadata": {},
   "outputs": [
    {
     "data": {
      "text/plain": [
       "datetime.datetime(2020, 1, 1, 0, 0)"
      ]
     },
     "execution_count": 42,
     "metadata": {},
     "output_type": "execute_result"
    }
   ],
   "source": [
    "# dt.date.strptime() #-------------없다\n",
    "dt.datetime.strptime('2020-01-01 00:00:00', '%Y-%m-%d %H:%M:%S') # dt.datetime 함수는 있다."
   ]
  },
  {
   "cell_type": "markdown",
   "id": "7a0cd331-3083-4698-b3ba-5c3bd60e60a0",
   "metadata": {},
   "source": [
    "## 날짜 만들기"
   ]
  },
  {
   "cell_type": "code",
   "execution_count": 48,
   "id": "eff9e38f-dae8-4f6f-af6c-d8f7c4c84dd7",
   "metadata": {},
   "outputs": [
    {
     "name": "stdout",
     "output_type": "stream",
     "text": [
      "2020-01-25 <class 'datetime.date'>\n",
      "2020-01-25 00:00:00 <class 'datetime.datetime'>\n",
      "2020-01-25 22:59:45 <class 'datetime.datetime'>\n"
     ]
    }
   ],
   "source": [
    "a = dt.date(2020, 1 , 25)      # year, month=None, day=None\n",
    "print( a , type(a) ) \n",
    "\n",
    "b = dt.datetime(2020, 1 , 25)  # year, month=None, day=None, hour=0, minute=0, second=0\n",
    "print( b , type(b) ) \n",
    "\n",
    "b = dt.datetime(2020, 1 , 25, 22, 59, 45)  # year, month=None, day=None, hour=0, minute=0, second=0\n",
    "print( b , type(b) )\n",
    "\n",
    "\n"
   ]
  },
  {
   "cell_type": "markdown",
   "id": "bf3bafeb-22bf-4fe0-8c1a-cbc83f2d83d9",
   "metadata": {},
   "source": [
    "## (class) timedelta\n"
   ]
  },
  {
   "cell_type": "code",
   "execution_count": 49,
   "id": "85920f9e-81b4-4b4a-b2cf-3d62692bee57",
   "metadata": {},
   "outputs": [],
   "source": [
    "delta = dt.timedelta(days=0, seconds=0, microseconds=0,\n",
    "                milliseconds=0, minutes=0, hours=0, weeks=0)\n"
   ]
  },
  {
   "cell_type": "code",
   "execution_count": 50,
   "id": "53dfa394-e240-48bd-a817-29b584c77dc0",
   "metadata": {},
   "outputs": [
    {
     "name": "stdout",
     "output_type": "stream",
     "text": [
      "2022-07-05\n"
     ]
    }
   ],
   "source": [
    "today = dt.date.today()\n",
    "print(today)"
   ]
  },
  {
   "cell_type": "code",
   "execution_count": null,
   "id": "bd063f2f-2bc3-4808-9898-f36d6d1c0e12",
   "metadata": {},
   "outputs": [],
   "source": [
    "# today + 7 -> 에러 (날짜 데이터타입 + int타입은 불가능"
   ]
  },
  {
   "cell_type": "code",
   "execution_count": 55,
   "id": "056d56e2-1407-48f5-a46a-60202d3ea9a1",
   "metadata": {},
   "outputs": [
    {
     "name": "stdout",
     "output_type": "stream",
     "text": [
      "7 days, 0:00:00\n"
     ]
    }
   ],
   "source": [
    "next_week = dt.timedelta(weeks=1)\n",
    "print(next_week)"
   ]
  },
  {
   "cell_type": "code",
   "execution_count": 54,
   "id": "d08c6542-d3a7-4c78-a9d0-710cc6eb3119",
   "metadata": {},
   "outputs": [
    {
     "name": "stdout",
     "output_type": "stream",
     "text": [
      "2022-07-12\n"
     ]
    }
   ],
   "source": [
    "print(today+next_week)"
   ]
  },
  {
   "cell_type": "code",
   "execution_count": 56,
   "id": "b4b043ca-14c1-4bc2-ae0b-35236a8e8eef",
   "metadata": {},
   "outputs": [
    {
     "name": "stdout",
     "output_type": "stream",
     "text": [
      "14 days, 0:00:00\n"
     ]
    }
   ],
   "source": [
    "next2_week = dt.timedelta(weeks=2)\n",
    "print(next2_week)"
   ]
  },
  {
   "cell_type": "code",
   "execution_count": 57,
   "id": "9f42b4e1-68b1-42d0-877c-33654c91be95",
   "metadata": {},
   "outputs": [
    {
     "name": "stdout",
     "output_type": "stream",
     "text": [
      "ok\n"
     ]
    }
   ],
   "source": [
    "if next_week < next2_week:\n",
    "    print('ok')"
   ]
  },
  {
   "cell_type": "code",
   "execution_count": 58,
   "id": "d33e6807-bfbf-48e4-9d96-fb9d080421f6",
   "metadata": {},
   "outputs": [
    {
     "data": {
      "text/plain": [
       "datetime.timedelta(days=-7)"
      ]
     },
     "execution_count": 58,
     "metadata": {},
     "output_type": "execute_result"
    }
   ],
   "source": [
    "next_week - next2_week"
   ]
  },
  {
   "cell_type": "code",
   "execution_count": 61,
   "id": "18ca9390-fee1-4b51-a85b-c0c082af8ce6",
   "metadata": {},
   "outputs": [
    {
     "name": "stdout",
     "output_type": "stream",
     "text": [
      "2022-07-05\n",
      "relativedelta(months=+3)\n",
      "2022-10-05\n"
     ]
    }
   ],
   "source": [
    "from dateutil.relativedelta import relativedelta\n",
    "next3_mon = relativedelta(months=3)\n",
    "print(today)\n",
    "print(next3_mon)\n",
    "print(today+next3_mon)"
   ]
  },
  {
   "cell_type": "code",
   "execution_count": 65,
   "id": "acb96ae7-8cd7-47d7-8942-a1bc5c541cf5",
   "metadata": {},
   "outputs": [
    {
     "name": "stdout",
     "output_type": "stream",
     "text": [
      "2022-07-05 <class 'datetime.date'>\n",
      "2022 7 5\n"
     ]
    },
    {
     "data": {
      "text/plain": [
       "datetime.date(2022, 7, 5)"
      ]
     },
     "execution_count": 65,
     "metadata": {},
     "output_type": "execute_result"
    }
   ],
   "source": [
    "print(dt.date.today(), type(dt.date.today()))\n",
    "print(dt.date.today().year, dt.date.today().month, dt.date.today().day)\n",
    "dt.date.today()"
   ]
  },
  {
   "cell_type": "code",
   "execution_count": null,
   "id": "5c3b00af-b5bf-48a0-8684-1b59dd3366f5",
   "metadata": {},
   "outputs": [],
   "source": []
  }
 ],
 "metadata": {
  "kernelspec": {
   "display_name": "Python 3 (ipykernel)",
   "language": "python",
   "name": "python3"
  },
  "language_info": {
   "codemirror_mode": {
    "name": "ipython",
    "version": 3
   },
   "file_extension": ".py",
   "mimetype": "text/x-python",
   "name": "python",
   "nbconvert_exporter": "python",
   "pygments_lexer": "ipython3",
   "version": "3.8.8"
  }
 },
 "nbformat": 4,
 "nbformat_minor": 5
}
