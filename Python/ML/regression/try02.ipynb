{
 "cells": [
  {
   "cell_type": "markdown",
   "id": "c6d66875-6fba-4ee0-856b-92feebc5eb91",
   "metadata": {},
   "source": [
    "* ref :https://www.kaggle.com/code/bobby2014king/bike-sharing-demand-byc"
   ]
  },
  {
   "cell_type": "code",
   "execution_count": 1,
   "id": "96eb3cb6-360f-429d-9328-7d4de68b0514",
   "metadata": {},
   "outputs": [],
   "source": [
    "import pandas as pd\n",
    "import numpy as np\n",
    "import seaborn as sns\n",
    "import matplotlib.pyplot as plt\n",
    "import warnings\n",
    "warnings.filterwarnings(\"ignore\")"
   ]
  },
  {
   "cell_type": "markdown",
   "id": "842e20be-9c2d-4345-a82b-1bf151c1a37a",
   "metadata": {},
   "source": [
    "# Data Load"
   ]
  },
  {
   "cell_type": "code",
   "execution_count": 2,
   "id": "8dc869a6-c3e4-4b18-a348-07a6e6f6e031",
   "metadata": {},
   "outputs": [],
   "source": [
    "train = pd.read_csv('./train.csv')\n",
    "test = pd.read_csv('./test.csv')"
   ]
  },
  {
   "cell_type": "markdown",
   "id": "82734540-d99a-40f8-b834-94b5f1480c5b",
   "metadata": {},
   "source": [
    "# 전처리 가공"
   ]
  },
  {
   "cell_type": "markdown",
   "id": "040a87c0-b4bc-4f75-bc74-f67cd9d71c46",
   "metadata": {},
   "source": [
    "## 날짜 처리"
   ]
  },
  {
   "cell_type": "code",
   "execution_count": 3,
   "id": "2506d5b5-0aed-4396-a3e5-9b6935358c60",
   "metadata": {},
   "outputs": [],
   "source": [
    "from datetime import datetime\n",
    "import calendar\n",
    "\n",
    "def time_process(df):\n",
    "    df['year'] = pd.DatetimeIndex(df['datetime']).year\n",
    "    df['month'] = pd.DatetimeIndex(df['datetime']).month\n",
    "    df['day'] = pd.DatetimeIndex(df['datetime']).day\n",
    "    df['hour'] = pd.DatetimeIndex(df['datetime']).hour\n",
    "    df['week'] = pd.DatetimeIndex(df['datetime']).weekofyear\n",
    "    df['weekday'] = pd.DatetimeIndex(df['datetime']).dayofweek\n",
    "    return df\n",
    "\n",
    "train = time_process(train)\n",
    "test  = time_process(test)"
   ]
  },
  {
   "cell_type": "code",
   "execution_count": 4,
   "id": "81403484-e201-4c77-93f5-7f6873afffbd",
   "metadata": {},
   "outputs": [
    {
     "data": {
      "text/html": [
       "<div>\n",
       "<style scoped>\n",
       "    .dataframe tbody tr th:only-of-type {\n",
       "        vertical-align: middle;\n",
       "    }\n",
       "\n",
       "    .dataframe tbody tr th {\n",
       "        vertical-align: top;\n",
       "    }\n",
       "\n",
       "    .dataframe thead th {\n",
       "        text-align: right;\n",
       "    }\n",
       "</style>\n",
       "<table border=\"1\" class=\"dataframe\">\n",
       "  <thead>\n",
       "    <tr style=\"text-align: right;\">\n",
       "      <th></th>\n",
       "      <th>datetime</th>\n",
       "      <th>season</th>\n",
       "      <th>holiday</th>\n",
       "      <th>workingday</th>\n",
       "      <th>weather</th>\n",
       "      <th>temp</th>\n",
       "      <th>atemp</th>\n",
       "      <th>humidity</th>\n",
       "      <th>windspeed</th>\n",
       "      <th>casual</th>\n",
       "      <th>registered</th>\n",
       "      <th>count</th>\n",
       "      <th>year</th>\n",
       "      <th>month</th>\n",
       "      <th>day</th>\n",
       "      <th>hour</th>\n",
       "      <th>week</th>\n",
       "      <th>weekday</th>\n",
       "    </tr>\n",
       "  </thead>\n",
       "  <tbody>\n",
       "    <tr>\n",
       "      <th>0</th>\n",
       "      <td>2011-01-01 00:00:00</td>\n",
       "      <td>1</td>\n",
       "      <td>0</td>\n",
       "      <td>0</td>\n",
       "      <td>1</td>\n",
       "      <td>9.84</td>\n",
       "      <td>14.395</td>\n",
       "      <td>81</td>\n",
       "      <td>0.0</td>\n",
       "      <td>3</td>\n",
       "      <td>13</td>\n",
       "      <td>16</td>\n",
       "      <td>2011</td>\n",
       "      <td>1</td>\n",
       "      <td>1</td>\n",
       "      <td>0</td>\n",
       "      <td>52</td>\n",
       "      <td>5</td>\n",
       "    </tr>\n",
       "    <tr>\n",
       "      <th>1</th>\n",
       "      <td>2011-01-01 01:00:00</td>\n",
       "      <td>1</td>\n",
       "      <td>0</td>\n",
       "      <td>0</td>\n",
       "      <td>1</td>\n",
       "      <td>9.02</td>\n",
       "      <td>13.635</td>\n",
       "      <td>80</td>\n",
       "      <td>0.0</td>\n",
       "      <td>8</td>\n",
       "      <td>32</td>\n",
       "      <td>40</td>\n",
       "      <td>2011</td>\n",
       "      <td>1</td>\n",
       "      <td>1</td>\n",
       "      <td>1</td>\n",
       "      <td>52</td>\n",
       "      <td>5</td>\n",
       "    </tr>\n",
       "    <tr>\n",
       "      <th>2</th>\n",
       "      <td>2011-01-01 02:00:00</td>\n",
       "      <td>1</td>\n",
       "      <td>0</td>\n",
       "      <td>0</td>\n",
       "      <td>1</td>\n",
       "      <td>9.02</td>\n",
       "      <td>13.635</td>\n",
       "      <td>80</td>\n",
       "      <td>0.0</td>\n",
       "      <td>5</td>\n",
       "      <td>27</td>\n",
       "      <td>32</td>\n",
       "      <td>2011</td>\n",
       "      <td>1</td>\n",
       "      <td>1</td>\n",
       "      <td>2</td>\n",
       "      <td>52</td>\n",
       "      <td>5</td>\n",
       "    </tr>\n",
       "    <tr>\n",
       "      <th>3</th>\n",
       "      <td>2011-01-01 03:00:00</td>\n",
       "      <td>1</td>\n",
       "      <td>0</td>\n",
       "      <td>0</td>\n",
       "      <td>1</td>\n",
       "      <td>9.84</td>\n",
       "      <td>14.395</td>\n",
       "      <td>75</td>\n",
       "      <td>0.0</td>\n",
       "      <td>3</td>\n",
       "      <td>10</td>\n",
       "      <td>13</td>\n",
       "      <td>2011</td>\n",
       "      <td>1</td>\n",
       "      <td>1</td>\n",
       "      <td>3</td>\n",
       "      <td>52</td>\n",
       "      <td>5</td>\n",
       "    </tr>\n",
       "    <tr>\n",
       "      <th>4</th>\n",
       "      <td>2011-01-01 04:00:00</td>\n",
       "      <td>1</td>\n",
       "      <td>0</td>\n",
       "      <td>0</td>\n",
       "      <td>1</td>\n",
       "      <td>9.84</td>\n",
       "      <td>14.395</td>\n",
       "      <td>75</td>\n",
       "      <td>0.0</td>\n",
       "      <td>0</td>\n",
       "      <td>1</td>\n",
       "      <td>1</td>\n",
       "      <td>2011</td>\n",
       "      <td>1</td>\n",
       "      <td>1</td>\n",
       "      <td>4</td>\n",
       "      <td>52</td>\n",
       "      <td>5</td>\n",
       "    </tr>\n",
       "  </tbody>\n",
       "</table>\n",
       "</div>"
      ],
      "text/plain": [
       "              datetime  season  holiday  workingday  weather  temp   atemp  \\\n",
       "0  2011-01-01 00:00:00       1        0           0        1  9.84  14.395   \n",
       "1  2011-01-01 01:00:00       1        0           0        1  9.02  13.635   \n",
       "2  2011-01-01 02:00:00       1        0           0        1  9.02  13.635   \n",
       "3  2011-01-01 03:00:00       1        0           0        1  9.84  14.395   \n",
       "4  2011-01-01 04:00:00       1        0           0        1  9.84  14.395   \n",
       "\n",
       "   humidity  windspeed  casual  registered  count  year  month  day  hour  \\\n",
       "0        81        0.0       3          13     16  2011      1    1     0   \n",
       "1        80        0.0       8          32     40  2011      1    1     1   \n",
       "2        80        0.0       5          27     32  2011      1    1     2   \n",
       "3        75        0.0       3          10     13  2011      1    1     3   \n",
       "4        75        0.0       0           1      1  2011      1    1     4   \n",
       "\n",
       "   week  weekday  \n",
       "0    52        5  \n",
       "1    52        5  \n",
       "2    52        5  \n",
       "3    52        5  \n",
       "4    52        5  "
      ]
     },
     "execution_count": 4,
     "metadata": {},
     "output_type": "execute_result"
    }
   ],
   "source": [
    "train.head()"
   ]
  },
  {
   "cell_type": "markdown",
   "id": "a7db183e-8219-4444-9e4c-395dc1688045",
   "metadata": {},
   "source": [
    "## 풍속 처리"
   ]
  },
  {
   "cell_type": "code",
   "execution_count": 5,
   "id": "39a810b4-d6af-4f72-9244-06bbefe9a5ce",
   "metadata": {},
   "outputs": [],
   "source": [
    "from sklearn.ensemble import RandomForestClassifier\n",
    "def wind_0_fill(df):\n",
    "    wind_0 = df[df['windspeed']==0]\n",
    "    wind_not0 = df[df['windspeed']!=0]\n",
    "    y_label = wind_not0['windspeed']\n",
    "    clf = RandomForestClassifier(n_estimators=1000,max_depth=10,random_state=0)\n",
    "    windcolunms = ['season', 'weather', 'temp', 'atemp', 'humidity', 'hour', 'month']\n",
    "    clf.fit(wind_not0[windcolunms], y_label.astype('int'))\n",
    "    pred_y = clf.predict(wind_0[windcolunms])\n",
    "    wind_0['windspeed'] = pred_y\n",
    "    df_rfw = wind_not0.append(wind_0)\n",
    "    df_rfw.reset_index(inplace=True)\n",
    "    return df_rfw\n",
    "\n",
    "train = wind_0_fill(train)\n",
    "test = wind_0_fill(test)"
   ]
  },
  {
   "cell_type": "code",
   "execution_count": 6,
   "id": "3b67b0b2-5a46-4085-925f-40243dd3ced0",
   "metadata": {},
   "outputs": [
    {
     "data": {
      "text/plain": [
       "0        2011-01-01 05:00:00\n",
       "1        2011-01-01 10:00:00\n",
       "2        2011-01-01 11:00:00\n",
       "3        2011-01-01 12:00:00\n",
       "4        2011-01-01 13:00:00\n",
       "                ...         \n",
       "10881    2012-12-17 12:00:00\n",
       "10882    2012-12-17 15:00:00\n",
       "10883    2012-12-18 08:00:00\n",
       "10884    2012-12-18 22:00:00\n",
       "10885    2012-12-19 00:00:00\n",
       "Name: datetime, Length: 10886, dtype: object"
      ]
     },
     "execution_count": 6,
     "metadata": {},
     "output_type": "execute_result"
    }
   ],
   "source": [
    "train['datetime']"
   ]
  },
  {
   "cell_type": "code",
   "execution_count": 7,
   "id": "8d141f0e-2fa5-40eb-96aa-035239b5a73b",
   "metadata": {},
   "outputs": [
    {
     "name": "stdout",
     "output_type": "stream",
     "text": [
      "<class 'pandas.core.frame.DataFrame'>\n",
      "RangeIndex: 10886 entries, 0 to 10885\n",
      "Data columns (total 19 columns):\n",
      " #   Column      Non-Null Count  Dtype  \n",
      "---  ------      --------------  -----  \n",
      " 0   index       10886 non-null  int64  \n",
      " 1   datetime    10886 non-null  object \n",
      " 2   season      10886 non-null  int64  \n",
      " 3   holiday     10886 non-null  int64  \n",
      " 4   workingday  10886 non-null  int64  \n",
      " 5   weather     10886 non-null  int64  \n",
      " 6   temp        10886 non-null  float64\n",
      " 7   atemp       10886 non-null  float64\n",
      " 8   humidity    10886 non-null  int64  \n",
      " 9   windspeed   10886 non-null  float64\n",
      " 10  casual      10886 non-null  int64  \n",
      " 11  registered  10886 non-null  int64  \n",
      " 12  count       10886 non-null  int64  \n",
      " 13  year        10886 non-null  int64  \n",
      " 14  month       10886 non-null  int64  \n",
      " 15  day         10886 non-null  int64  \n",
      " 16  hour        10886 non-null  int64  \n",
      " 17  week        10886 non-null  int64  \n",
      " 18  weekday     10886 non-null  int64  \n",
      "dtypes: float64(3), int64(15), object(1)\n",
      "memory usage: 1.6+ MB\n"
     ]
    }
   ],
   "source": [
    "train.info()"
   ]
  },
  {
   "cell_type": "markdown",
   "id": "350c6ac6-2357-41ef-a0ac-7fc5b68c04ca",
   "metadata": {},
   "source": [
    "## 휴무일 처리\n",
    "* workingday, holiday"
   ]
  },
  {
   "cell_type": "code",
   "execution_count": 9,
   "id": "bafe40ae-cebb-4c56-9dd2-0a508e98753e",
   "metadata": {},
   "outputs": [],
   "source": [
    "dt = pd.DatetimeIndex(train['datetime'])\n",
    "train.set_index(dt, inplace=True)\n",
    "dtt = pd.DatetimeIndex(test['datetime'])\n",
    "test.set_index(dtt, inplace=True)\n",
    "def get_day(day_start):\n",
    "    day_end = day_start + pd.offsets.DateOffset(hours=23)\n",
    "    return pd.date_range(day_start, day_end, freq=\"H\")\n",
    "\n",
    "#\n",
    "train.loc[get_day(pd.datetime(2011, 4, 15)), \"workingday\"] = 1\n",
    "train.loc[get_day(pd.datetime(2012, 4, 16)), \"workingday\"] = 1\n",
    "#\n",
    "test.loc[get_day(pd.datetime(2011, 11, 25)), \"workingday\"] = 0\n",
    "test.loc[get_day(pd.datetime(2012, 11, 23)), \"workingday\"] = 0\n",
    "#\n",
    "test.loc[get_day(pd.datetime(2011, 12, 24)), \"workingday\"] = 0\n",
    "test.loc[get_day(pd.datetime(2011, 12, 31)), \"workingday\"] = 0\n",
    "test.loc[get_day(pd.datetime(2012, 12, 26)), \"workingday\"] = 0\n",
    "test.loc[get_day(pd.datetime(2012, 12, 31)), \"workingday\"] = 0\n",
    "\n",
    "#\n",
    "train.loc[get_day(pd.datetime(2011, 4, 15)), \"holiday\"] = 0\n",
    "train.loc[get_day(pd.datetime(2012, 4, 16)), \"holiday\"] = 0\n",
    "\n",
    "#\n",
    "test.loc[get_day(pd.datetime(2011, 11, 25)), \"holiday\"] = 1\n",
    "test.loc[get_day(pd.datetime(2012, 11, 23)), \"holiday\"] = 1\n",
    "#\n",
    "test.loc[get_day(pd.datetime(2011, 12, 24)), \"holiday\"] = 1\n",
    "test.loc[get_day(pd.datetime(2011, 12, 31)), \"holiday\"] = 1\n",
    "test.loc[get_day(pd.datetime(2012, 12, 31)), \"holiday\"] = 1\n",
    "\n",
    "#\n",
    "test.loc[get_day(pd.datetime(2012, 5, 21)), \"holiday\"] = 1\n",
    "#\n",
    "train.loc[get_day(pd.datetime(2012, 6, 1)), \"holiday\"] = 1"
   ]
  },
  {
   "cell_type": "code",
   "execution_count": 10,
   "id": "ad532b46-6e21-471e-a338-8af2ba1533ec",
   "metadata": {},
   "outputs": [],
   "source": [
    "# def name_process(df):\n",
    "#     df['season2'] = df['season']\n",
    "#     df['weather2'] = df['weather']\n",
    "#     df['season2'] = df['season2'].map({1:'Spring',2:'Summer',3:'Fall',4:'Winter'})\n",
    "#     df['weather2'] = df['weather2'].map({1:'Clear',2:'Mist',3:'Light_Snow',4:'Heavy_Rain'})\n",
    "#     return df\n",
    "\n",
    "# train = name_process(train)\n",
    "# test = name_process(test)"
   ]
  },
  {
   "cell_type": "markdown",
   "id": "ddf0c7a6-fe70-4d8f-9a81-fe2b764ca64c",
   "metadata": {},
   "source": [
    "# EDA"
   ]
  },
  {
   "cell_type": "code",
   "execution_count": 11,
   "id": "fc7f60b8-691b-4f8b-84ab-6a36837eb7cd",
   "metadata": {},
   "outputs": [
    {
     "data": {
      "text/plain": [
       "<AxesSubplot:xlabel='hour', ylabel='count'>"
      ]
     },
     "execution_count": 11,
     "metadata": {},
     "output_type": "execute_result"
    },
    {
     "data": {
      "image/png": "[encoded data removed]",
      "text/plain": [
       "<Figure size 432x288 with 1 Axes>"
      ]
     },
     "metadata": {
      "needs_background": "light"
     },
     "output_type": "display_data"
    }
   ],
   "source": [
    "sns.boxplot(x='hour',y='count',data=train)"
   ]
  },
  {
   "cell_type": "code",
   "execution_count": 12,
   "id": "6b327334-696b-42d0-82f0-0d2b7ce9d99e",
   "metadata": {},
   "outputs": [],
   "source": [
    "train['peak'] = train[['hour', 'workingday']].apply(lambda x: (0, 1)[(x['workingday'] == 1 and  ( x['hour'] == 8 or 17 <= x['hour'] <= 18 or 12 <= x['hour'] <= 12)) or (x['workingday'] == 0 and  10 <= x['hour'] <= 19)], axis = 1)\n",
    "test['peak'] = test[['hour', 'workingday']].apply(lambda x: (0, 1)[(x['workingday'] == 1 and  ( x['hour'] == 8 or 17 <= x['hour'] <= 18 or 12 <= x['hour'] <= 12)) or (x['workingday'] == 0 and  10 <= x['hour'] <= 19)], axis = 1)"
   ]
  },
  {
   "cell_type": "code",
   "execution_count": 13,
   "id": "b23c7f2e-6f54-4730-b955-b0de46a6c79a",
   "metadata": {},
   "outputs": [
    {
     "data": {
      "text/plain": [
       "<AxesSubplot:xlabel='month', ylabel='count'>"
      ]
     },
     "execution_count": 13,
     "metadata": {},
     "output_type": "execute_result"
    },
    {
     "data": {
      "image/png": "[encoded data removed]",
      "text/plain": [
       "<Figure size 432x288 with 1 Axes>"
      ]
     },
     "metadata": {
      "needs_background": "light"
     },
     "output_type": "display_data"
    }
   ],
   "source": [
    "sns.boxplot(x='month',y='count',data=train)"
   ]
  },
  {
   "cell_type": "code",
   "execution_count": 14,
   "id": "ccaf6cdf-4ed2-436d-83cb-a888d5ac3e43",
   "metadata": {},
   "outputs": [
    {
     "data": {
      "text/plain": [
       "<AxesSubplot:xlabel='hour', ylabel='registered'>"
      ]
     },
     "execution_count": 14,
     "metadata": {},
     "output_type": "execute_result"
    },
    {
     "data": {
      "image/png": "[encoded data removed]",
      "text/plain": [
       "<Figure size 432x288 with 1 Axes>"
      ]
     },
     "metadata": {
      "needs_background": "light"
     },
     "output_type": "display_data"
    }
   ],
   "source": [
    "sns.pointplot(x='hour',y='registered',hue='workingday',join=True,data=train)"
   ]
  },
  {
   "cell_type": "code",
   "execution_count": 15,
   "id": "3a9f8b41-e8ea-424e-97cd-180e2653a042",
   "metadata": {},
   "outputs": [
    {
     "data": {
      "text/plain": [
       "<AxesSubplot:xlabel='hour', ylabel='casual'>"
      ]
     },
     "execution_count": 15,
     "metadata": {},
     "output_type": "execute_result"
    },
    {
     "data": {
      "image/png": "[encoded data removed]",
      "text/plain": [
       "<Figure size 432x288 with 1 Axes>"
      ]
     },
     "metadata": {
      "needs_background": "light"
     },
     "output_type": "display_data"
    }
   ],
   "source": [
    "sns.pointplot(x='hour',y='casual',hue='workingday',join=True,data=train)"
   ]
  },
  {
   "cell_type": "code",
   "execution_count": 16,
   "id": "6a075ed4-d289-4b72-9323-52bff9bca4c7",
   "metadata": {},
   "outputs": [
    {
     "data": {
      "text/plain": [
       "<AxesSubplot:>"
      ]
     },
     "execution_count": 16,
     "metadata": {},
     "output_type": "execute_result"
    },
    {
     "data": {
      "image/png": "[encoded data removed]",
      "text/plain": [
       "<Figure size 1080x576 with 2 Axes>"
      ]
     },
     "metadata": {
      "needs_background": "light"
     },
     "output_type": "display_data"
    }
   ],
   "source": [
    "corr = train[['temp','atemp','casual','registered','humidity','windspeed','count']].corr()\n",
    "mask = np.array(corr)\n",
    "mask[np.tril_indices_from(mask)] = False\n",
    "fig,ax = plt.subplots()\n",
    "fig.set_size_inches(15,8)\n",
    "sns.heatmap(corr,mask=mask,vmax=.8,square=True,annot=True)"
   ]
  },
  {
   "cell_type": "code",
   "execution_count": 17,
   "id": "511b02be-1328-4319-8c85-40524752443d",
   "metadata": {},
   "outputs": [],
   "source": [
    "# train=pd.get_dummies(train,columns=['season2'])\n",
    "# train=pd.get_dummies(train,columns=['weather2'])\n",
    "\n",
    "# test=pd.get_dummies(test,columns=['season2'])\n",
    "# test=pd.get_dummies(test,columns=['weather2'])"
   ]
  },
  {
   "cell_type": "markdown",
   "id": "3a3471d5-498d-47ca-bda3-caa15f2e1262",
   "metadata": {},
   "source": [
    "# Feature Selection"
   ]
  },
  {
   "cell_type": "markdown",
   "id": "2245843b-3742-43b5-a606-5474dddd9fb4",
   "metadata": {},
   "source": [
    "<font size = 4 color=red><b>Feature Selection의 3가지 방법</b></font>\n",
    "1. Wrapper method : 모델링 돌리면서 변수 채택\n",
    "2. Filter Method : 전처리단에서 통계기법 사용하여 변수 채택\n",
    "3. Embedded method : 라쏘, 릿지, 엘라스틱넷 등 내장함수 사용하여 변수 채택  \n",
    "\n",
    "ref : https://dyddl1993.tistory.com/18\n",
    "ref : https://subinium.github.io/feature-selection/"
   ]
  },
  {
   "cell_type": "code",
   "execution_count": 18,
   "id": "65cdac96-badb-4bed-82c5-3aef2cd52d54",
   "metadata": {},
   "outputs": [],
   "source": [
    "# All_feature_columns = ['season' ,'weather','temp','atemp','humidity' \n",
    "#                        ,'windspeed', 'year','holiday','workingday','month','day','hour','week','weekday','peak',\n",
    "#                        'season2_Fall','season2_Spring','season2_Summer','season2_Winter',\n",
    "#                        'weather2_Clear','weather2_Heavy_Rain','weather2_Light_Snow','weather2_Mist']\n",
    "\n",
    "# RFR_feature_columns = ['season' ,'weather','temp','atemp' #,'humidity'\n",
    "#                        ,'windspeed'                       #,'year'\n",
    "#                        ,'holiday','workingday'            #,'month','day'\n",
    "#                        ,'hour' ,'week','weekday','peak'\n",
    "#                        , 'season2_Fall','season2_Spring','season2_Summer','season2_Winter'\n",
    "#                        , 'weather2_Clear','weather2_Heavy_Rain','weather2_Light_Snow','weather2_Mist']\n",
    "\n",
    "# GBR_feature_columns = ['season','weather','temp','atemp','humidity'\n",
    "#                        ,'windspeed','year'                        #,'month','day'\n",
    "#                        ,'holiday','workingday','hour','weekday'    #'week','peak'\n",
    "#                        , 'season2_Fall','season2_Spring','season2_Summer','season2_Winter'\n",
    "#                        , 'weather2_Clear','weather2_Heavy_Rain','weather2_Light_Snow','weather2_Mist']"
   ]
  },
  {
   "cell_type": "code",
   "execution_count": 19,
   "id": "fa7a52f0-d903-4a4e-8909-0231f04feb4b",
   "metadata": {},
   "outputs": [],
   "source": [
    "RFR_feature_columns = ['weather', 'temp'            , 'windspeed'          ,'workingday', 'season', 'holiday','hour', 'weekday', 'week', 'peak']\n",
    "GBR_feature_columns = ['weather', 'temp', 'humidity', 'windspeed','holiday','workingday', 'season'           ,'hour', 'weekday'                ,'year']"
   ]
  },
  {
   "cell_type": "code",
   "execution_count": 22,
   "id": "b733aa63-bf75-45e6-984c-6cead9ad482a",
   "metadata": {},
   "outputs": [],
   "source": [
    "RFR_X_train=train[RFR_feature_columns].values\n",
    "RFR_X_test=test[RFR_feature_columns].values\n",
    "\n",
    "GBR_X_train=train[GBR_feature_columns].values\n",
    "GBR_X_test=test[GBR_feature_columns].values\n",
    "\n",
    "y_casual     = train['casual'].apply(lambda x: np.log1p(x)).values\n",
    "y_registered = train['registered'].apply(lambda x: np.log1p(x)).values\n",
    "y_count      = train['count'].apply(lambda x: np.log1p(x)).values\n",
    "\n",
    "X_date = test['datetime'].values"
   ]
  },
  {
   "cell_type": "markdown",
   "id": "dc63b5ae-9981-4066-bfa0-2d9e8a61b5f6",
   "metadata": {},
   "source": [
    "# RMSLE"
   ]
  },
  {
   "cell_type": "markdown",
   "id": "b6304d04-f2fc-492e-9f15-35ed050d53ab",
   "metadata": {},
   "source": [
    "$ \\sqrt{ \\frac{1}{n} \\sum_{i=1}^{n}{ (\\log( y_i + 1) - \\log( \\hat{y_i} + 1))^2} } $\n",
    "$ = \\sqrt{ \\frac{1}{n} \\sum_{i=1}^{n}{ (\\log \\frac {y_i + 1} {\\hat{y_i} + 1} )^2} } $\n",
    "<pre>\n",
    "<B>1) 상대적 Error 측정</B>\n",
    "  예측값 = 100,    실제값 = 90일 때,    RMSE = 10,    RMSLE = 0.1053\n",
    "  예측값 = 10,000, 실제값 = 9,000일 때, RMSE = 1,000, RMSLE = 0.1053\n",
    "<B>2) Outlier에 강건</B>\n",
    "  예측값 = 67, 78, 91,      실제값 = 60, 80, 90일 때,     RMSE = 4.242,   RMSLE = 0.6466\n",
    "  예측값 = 67, 78, 91, 102, 실제값 = 60, 80, 90, 750일 때 RMSE = 374.724, RMSLE = 1.160\n",
    "<B>3) Under Estimation에 큰 패널티 부여</B>\n",
    "   Over Estimation(예측값>실제값) , Under Estimation(예측값＜실제값)\n",
    "   예측값 = 600,   실제값 = 1,000일 때 RMSE = 400, RMSLE = 0.510\n",
    "   예측값 = 1,400, 실제값 = 1,000일 때 RMSE = 400, RMSLE = 0.33\n",
    "   "
   ]
  },
  {
   "cell_type": "code",
   "execution_count": 23,
   "id": "1e853b90-b306-45ff-8616-eab0a7ec6332",
   "metadata": {},
   "outputs": [
    {
     "data": {
      "text/plain": [
       "[<matplotlib.lines.Line2D at 0x267329ae670>]"
      ]
     },
     "execution_count": 23,
     "metadata": {},
     "output_type": "execute_result"
    },
    {
     "data": {
      "image/png": "[encoded data removed]",
      "text/plain": [
       "<Figure size 432x288 with 1 Axes>"
      ]
     },
     "metadata": {
      "needs_background": "light"
     },
     "output_type": "display_data"
    }
   ],
   "source": [
    " # RMSLE\n",
    "p = np.arange(1,101)\n",
    "a = np.array([40]*100)\n",
    "rmsle = np.sqrt(  (np.log(p+1) - np.log(a+1) )**2  ) \n",
    "plt.plot(p,rmsle)\n"
   ]
  },
  {
   "cell_type": "code",
   "execution_count": 24,
   "id": "c57ab92c-df67-4333-853a-2df9a9ab8d1b",
   "metadata": {},
   "outputs": [],
   "source": [
    "def rmsle(y_real, y_pre):    \n",
    "    calc = ( np.log(y_pre+1) - np.log(y_real+1)) ** 2\n",
    "    return np.sqrt(np.mean(calc))"
   ]
  },
  {
   "cell_type": "markdown",
   "id": "13fae2c5-1228-42ca-afbc-983e3223cb06",
   "metadata": {},
   "source": [
    "# train test 분리"
   ]
  },
  {
   "cell_type": "code",
   "execution_count": 25,
   "id": "ba6dad47-9d28-446c-aca5-cbf0b4f1286b",
   "metadata": {},
   "outputs": [],
   "source": [
    "train.drop(['index','datetime', 'casual','registered','count'], axis=1, inplace=True)\n",
    "test.drop(['index','datetime'], axis=1, inplace=True)"
   ]
  },
  {
   "cell_type": "code",
   "execution_count": 26,
   "id": "f2b46341-eec4-4f84-a5a4-ea398b0d5f53",
   "metadata": {},
   "outputs": [
    {
     "data": {
      "text/html": [
       "<div>\n",
       "<style scoped>\n",
       "    .dataframe tbody tr th:only-of-type {\n",
       "        vertical-align: middle;\n",
       "    }\n",
       "\n",
       "    .dataframe tbody tr th {\n",
       "        vertical-align: top;\n",
       "    }\n",
       "\n",
       "    .dataframe thead th {\n",
       "        text-align: right;\n",
       "    }\n",
       "</style>\n",
       "<table border=\"1\" class=\"dataframe\">\n",
       "  <thead>\n",
       "    <tr style=\"text-align: right;\">\n",
       "      <th></th>\n",
       "      <th>season</th>\n",
       "      <th>holiday</th>\n",
       "      <th>workingday</th>\n",
       "      <th>weather</th>\n",
       "      <th>temp</th>\n",
       "      <th>atemp</th>\n",
       "      <th>humidity</th>\n",
       "      <th>windspeed</th>\n",
       "      <th>year</th>\n",
       "      <th>month</th>\n",
       "      <th>day</th>\n",
       "      <th>hour</th>\n",
       "      <th>week</th>\n",
       "      <th>weekday</th>\n",
       "      <th>peak</th>\n",
       "    </tr>\n",
       "    <tr>\n",
       "      <th>datetime</th>\n",
       "      <th></th>\n",
       "      <th></th>\n",
       "      <th></th>\n",
       "      <th></th>\n",
       "      <th></th>\n",
       "      <th></th>\n",
       "      <th></th>\n",
       "      <th></th>\n",
       "      <th></th>\n",
       "      <th></th>\n",
       "      <th></th>\n",
       "      <th></th>\n",
       "      <th></th>\n",
       "      <th></th>\n",
       "      <th></th>\n",
       "    </tr>\n",
       "  </thead>\n",
       "  <tbody>\n",
       "    <tr>\n",
       "      <th>2011-01-01 05:00:00</th>\n",
       "      <td>1</td>\n",
       "      <td>0</td>\n",
       "      <td>0</td>\n",
       "      <td>2</td>\n",
       "      <td>9.84</td>\n",
       "      <td>12.880</td>\n",
       "      <td>75</td>\n",
       "      <td>6.0032</td>\n",
       "      <td>2011</td>\n",
       "      <td>1</td>\n",
       "      <td>1</td>\n",
       "      <td>5</td>\n",
       "      <td>52</td>\n",
       "      <td>5</td>\n",
       "      <td>0</td>\n",
       "    </tr>\n",
       "    <tr>\n",
       "      <th>2011-01-01 10:00:00</th>\n",
       "      <td>1</td>\n",
       "      <td>0</td>\n",
       "      <td>0</td>\n",
       "      <td>1</td>\n",
       "      <td>15.58</td>\n",
       "      <td>19.695</td>\n",
       "      <td>76</td>\n",
       "      <td>16.9979</td>\n",
       "      <td>2011</td>\n",
       "      <td>1</td>\n",
       "      <td>1</td>\n",
       "      <td>10</td>\n",
       "      <td>52</td>\n",
       "      <td>5</td>\n",
       "      <td>1</td>\n",
       "    </tr>\n",
       "    <tr>\n",
       "      <th>2011-01-01 11:00:00</th>\n",
       "      <td>1</td>\n",
       "      <td>0</td>\n",
       "      <td>0</td>\n",
       "      <td>1</td>\n",
       "      <td>14.76</td>\n",
       "      <td>16.665</td>\n",
       "      <td>81</td>\n",
       "      <td>19.0012</td>\n",
       "      <td>2011</td>\n",
       "      <td>1</td>\n",
       "      <td>1</td>\n",
       "      <td>11</td>\n",
       "      <td>52</td>\n",
       "      <td>5</td>\n",
       "      <td>1</td>\n",
       "    </tr>\n",
       "    <tr>\n",
       "      <th>2011-01-01 12:00:00</th>\n",
       "      <td>1</td>\n",
       "      <td>0</td>\n",
       "      <td>0</td>\n",
       "      <td>1</td>\n",
       "      <td>17.22</td>\n",
       "      <td>21.210</td>\n",
       "      <td>77</td>\n",
       "      <td>19.0012</td>\n",
       "      <td>2011</td>\n",
       "      <td>1</td>\n",
       "      <td>1</td>\n",
       "      <td>12</td>\n",
       "      <td>52</td>\n",
       "      <td>5</td>\n",
       "      <td>1</td>\n",
       "    </tr>\n",
       "    <tr>\n",
       "      <th>2011-01-01 13:00:00</th>\n",
       "      <td>1</td>\n",
       "      <td>0</td>\n",
       "      <td>0</td>\n",
       "      <td>2</td>\n",
       "      <td>18.86</td>\n",
       "      <td>22.725</td>\n",
       "      <td>72</td>\n",
       "      <td>19.9995</td>\n",
       "      <td>2011</td>\n",
       "      <td>1</td>\n",
       "      <td>1</td>\n",
       "      <td>13</td>\n",
       "      <td>52</td>\n",
       "      <td>5</td>\n",
       "      <td>1</td>\n",
       "    </tr>\n",
       "  </tbody>\n",
       "</table>\n",
       "</div>"
      ],
      "text/plain": [
       "                     season  holiday  workingday  weather   temp   atemp  \\\n",
       "datetime                                                                   \n",
       "2011-01-01 05:00:00       1        0           0        2   9.84  12.880   \n",
       "2011-01-01 10:00:00       1        0           0        1  15.58  19.695   \n",
       "2011-01-01 11:00:00       1        0           0        1  14.76  16.665   \n",
       "2011-01-01 12:00:00       1        0           0        1  17.22  21.210   \n",
       "2011-01-01 13:00:00       1        0           0        2  18.86  22.725   \n",
       "\n",
       "                     humidity  windspeed  year  month  day  hour  week  \\\n",
       "datetime                                                                 \n",
       "2011-01-01 05:00:00        75     6.0032  2011      1    1     5    52   \n",
       "2011-01-01 10:00:00        76    16.9979  2011      1    1    10    52   \n",
       "2011-01-01 11:00:00        81    19.0012  2011      1    1    11    52   \n",
       "2011-01-01 12:00:00        77    19.0012  2011      1    1    12    52   \n",
       "2011-01-01 13:00:00        72    19.9995  2011      1    1    13    52   \n",
       "\n",
       "                     weekday  peak  \n",
       "datetime                            \n",
       "2011-01-01 05:00:00        5     0  \n",
       "2011-01-01 10:00:00        5     1  \n",
       "2011-01-01 11:00:00        5     1  \n",
       "2011-01-01 12:00:00        5     1  \n",
       "2011-01-01 13:00:00        5     1  "
      ]
     },
     "execution_count": 26,
     "metadata": {},
     "output_type": "execute_result"
    }
   ],
   "source": [
    "train.head()"
   ]
  },
  {
   "cell_type": "code",
   "execution_count": 27,
   "id": "caa4dc83-0eff-42f5-bc85-ac1536b039d0",
   "metadata": {},
   "outputs": [
    {
     "data": {
      "text/html": [
       "<div>\n",
       "<style scoped>\n",
       "    .dataframe tbody tr th:only-of-type {\n",
       "        vertical-align: middle;\n",
       "    }\n",
       "\n",
       "    .dataframe tbody tr th {\n",
       "        vertical-align: top;\n",
       "    }\n",
       "\n",
       "    .dataframe thead th {\n",
       "        text-align: right;\n",
       "    }\n",
       "</style>\n",
       "<table border=\"1\" class=\"dataframe\">\n",
       "  <thead>\n",
       "    <tr style=\"text-align: right;\">\n",
       "      <th></th>\n",
       "      <th>season</th>\n",
       "      <th>holiday</th>\n",
       "      <th>workingday</th>\n",
       "      <th>weather</th>\n",
       "      <th>temp</th>\n",
       "      <th>atemp</th>\n",
       "      <th>humidity</th>\n",
       "      <th>windspeed</th>\n",
       "      <th>year</th>\n",
       "      <th>month</th>\n",
       "      <th>day</th>\n",
       "      <th>hour</th>\n",
       "      <th>week</th>\n",
       "      <th>weekday</th>\n",
       "      <th>peak</th>\n",
       "    </tr>\n",
       "    <tr>\n",
       "      <th>datetime</th>\n",
       "      <th></th>\n",
       "      <th></th>\n",
       "      <th></th>\n",
       "      <th></th>\n",
       "      <th></th>\n",
       "      <th></th>\n",
       "      <th></th>\n",
       "      <th></th>\n",
       "      <th></th>\n",
       "      <th></th>\n",
       "      <th></th>\n",
       "      <th></th>\n",
       "      <th></th>\n",
       "      <th></th>\n",
       "      <th></th>\n",
       "    </tr>\n",
       "  </thead>\n",
       "  <tbody>\n",
       "    <tr>\n",
       "      <th>2011-01-20 00:00:00</th>\n",
       "      <td>1</td>\n",
       "      <td>0</td>\n",
       "      <td>1</td>\n",
       "      <td>1</td>\n",
       "      <td>10.66</td>\n",
       "      <td>11.365</td>\n",
       "      <td>56</td>\n",
       "      <td>26.0027</td>\n",
       "      <td>2011</td>\n",
       "      <td>1</td>\n",
       "      <td>20</td>\n",
       "      <td>0</td>\n",
       "      <td>3</td>\n",
       "      <td>3</td>\n",
       "      <td>0</td>\n",
       "    </tr>\n",
       "    <tr>\n",
       "      <th>2011-01-20 03:00:00</th>\n",
       "      <td>1</td>\n",
       "      <td>0</td>\n",
       "      <td>1</td>\n",
       "      <td>1</td>\n",
       "      <td>10.66</td>\n",
       "      <td>12.880</td>\n",
       "      <td>56</td>\n",
       "      <td>11.0014</td>\n",
       "      <td>2011</td>\n",
       "      <td>1</td>\n",
       "      <td>20</td>\n",
       "      <td>3</td>\n",
       "      <td>3</td>\n",
       "      <td>3</td>\n",
       "      <td>0</td>\n",
       "    </tr>\n",
       "    <tr>\n",
       "      <th>2011-01-20 04:00:00</th>\n",
       "      <td>1</td>\n",
       "      <td>0</td>\n",
       "      <td>1</td>\n",
       "      <td>1</td>\n",
       "      <td>10.66</td>\n",
       "      <td>12.880</td>\n",
       "      <td>56</td>\n",
       "      <td>11.0014</td>\n",
       "      <td>2011</td>\n",
       "      <td>1</td>\n",
       "      <td>20</td>\n",
       "      <td>4</td>\n",
       "      <td>3</td>\n",
       "      <td>3</td>\n",
       "      <td>0</td>\n",
       "    </tr>\n",
       "    <tr>\n",
       "      <th>2011-01-20 05:00:00</th>\n",
       "      <td>1</td>\n",
       "      <td>0</td>\n",
       "      <td>1</td>\n",
       "      <td>1</td>\n",
       "      <td>9.84</td>\n",
       "      <td>11.365</td>\n",
       "      <td>60</td>\n",
       "      <td>15.0013</td>\n",
       "      <td>2011</td>\n",
       "      <td>1</td>\n",
       "      <td>20</td>\n",
       "      <td>5</td>\n",
       "      <td>3</td>\n",
       "      <td>3</td>\n",
       "      <td>0</td>\n",
       "    </tr>\n",
       "    <tr>\n",
       "      <th>2011-01-20 06:00:00</th>\n",
       "      <td>1</td>\n",
       "      <td>0</td>\n",
       "      <td>1</td>\n",
       "      <td>1</td>\n",
       "      <td>9.02</td>\n",
       "      <td>10.605</td>\n",
       "      <td>60</td>\n",
       "      <td>15.0013</td>\n",
       "      <td>2011</td>\n",
       "      <td>1</td>\n",
       "      <td>20</td>\n",
       "      <td>6</td>\n",
       "      <td>3</td>\n",
       "      <td>3</td>\n",
       "      <td>0</td>\n",
       "    </tr>\n",
       "  </tbody>\n",
       "</table>\n",
       "</div>"
      ],
      "text/plain": [
       "                     season  holiday  workingday  weather   temp   atemp  \\\n",
       "datetime                                                                   \n",
       "2011-01-20 00:00:00       1        0           1        1  10.66  11.365   \n",
       "2011-01-20 03:00:00       1        0           1        1  10.66  12.880   \n",
       "2011-01-20 04:00:00       1        0           1        1  10.66  12.880   \n",
       "2011-01-20 05:00:00       1        0           1        1   9.84  11.365   \n",
       "2011-01-20 06:00:00       1        0           1        1   9.02  10.605   \n",
       "\n",
       "                     humidity  windspeed  year  month  day  hour  week  \\\n",
       "datetime                                                                 \n",
       "2011-01-20 00:00:00        56    26.0027  2011      1   20     0     3   \n",
       "2011-01-20 03:00:00        56    11.0014  2011      1   20     3     3   \n",
       "2011-01-20 04:00:00        56    11.0014  2011      1   20     4     3   \n",
       "2011-01-20 05:00:00        60    15.0013  2011      1   20     5     3   \n",
       "2011-01-20 06:00:00        60    15.0013  2011      1   20     6     3   \n",
       "\n",
       "                     weekday  peak  \n",
       "datetime                            \n",
       "2011-01-20 00:00:00        3     0  \n",
       "2011-01-20 03:00:00        3     0  \n",
       "2011-01-20 04:00:00        3     0  \n",
       "2011-01-20 05:00:00        3     0  \n",
       "2011-01-20 06:00:00        3     0  "
      ]
     },
     "execution_count": 27,
     "metadata": {},
     "output_type": "execute_result"
    }
   ],
   "source": [
    "test.head()"
   ]
  },
  {
   "cell_type": "markdown",
   "id": "1143327c-66eb-48ee-8ba7-657f4d5e6c86",
   "metadata": {},
   "source": [
    "# Model Selection"
   ]
  },
  {
   "cell_type": "markdown",
   "id": "0c7013e5-948b-4b1b-9608-6a6fcf4314df",
   "metadata": {},
   "source": [
    "## 모델 성능 비교"
   ]
  },
  {
   "cell_type": "code",
   "execution_count": 38,
   "id": "b54327c7-f6bd-4559-b588-63443fcb1c6e",
   "metadata": {},
   "outputs": [],
   "source": [
    "from sklearn.model_selection import train_test_split\n",
    "# X_train = train[All_feature_columns].values\n",
    "X_train = train.values\n",
    "xd_train,xd_test,yd_train,yd_test = train_test_split(X_train,y_count,random_state=0)\n",
    "\n",
    "# ------------------------------------------------------------------------------------------------------------------\n",
    "##LGBM \n",
    "from lightgbm import LGBMRegressor\n",
    "def LGBM_model():\n",
    "    LGBM = LGBMRegressor(boosting_type='gbdt', objective='regression', num_leaves=1200,\n",
    "                                learning_rate=0.17, n_estimators=1000, max_depth=10,\n",
    "                                metric='rmse', bagging_fraction=0.8, feature_fraction=0.8, reg_lambda=0.9)\n",
    "    LGBM.fit(xd_train, yd_train)\n",
    "    pre_test = LGBM.predict(xd_test)\n",
    "    score = rmsle(yd_test,pre_test)\n",
    "    s = pd.Series(data=LGBM.feature_importances_, index=train.columns)\n",
    "    print(s.sort_values(ascending=False))\n",
    "    return score\n",
    "\n",
    "# ------------------------------------------------------------------------------------------------------------------\n",
    "from sklearn.ensemble import RandomForestRegressor\n",
    "def RandomForest_model():\n",
    "    RFR = RandomForestRegressor(n_estimators = 1000, max_depth=15, random_state=0,n_jobs = -1)\n",
    "    RFR.fit(xd_train,yd_train)\n",
    "    pre_test = RFR.predict(xd_test)\n",
    "    score = rmsle(yd_test,pre_test)\n",
    "    s = pd.Series(data=RFR.feature_importances_, index=train.columns)\n",
    "    print(s.sort_values(ascending=False))\n",
    "    s.sort_values(ascending=False).plot.bar()\n",
    "    plt.show()\n",
    "    plt.close()\n",
    "    return score\n",
    "\n",
    "# ------------------------------------------------------------------------------------------------------------------\n",
    "from sklearn.ensemble import GradientBoostingRegressor\n",
    "def GradientBoosting_model():\n",
    "    GBR = GradientBoostingRegressor(n_estimators = 1000, max_depth = 5, random_state = 0)\n",
    "    GBR.fit(xd_train,yd_train)\n",
    "    pre_test = GBR.predict(xd_test)\n",
    "    score = rmsle(yd_test,pre_test)\n",
    "    s = pd.Series(data=GBR.feature_importances_, index=train.columns)\n",
    "    print(s.sort_values(ascending=False))\n",
    "    s.sort_values(ascending=False).plot.bar()\n",
    "    plt.show()\n",
    "    plt.close()\n",
    "    return score\n",
    "\n",
    "\n",
    "# ------------------------------------------------------------------------------------------------------------------\n",
    "from sklearn.tree import DecisionTreeRegressor\n",
    "def DecisionTree_model():\n",
    "    DTR = DecisionTreeRegressor(max_features='sqrt', splitter='random', min_samples_split=4, max_depth=10)\n",
    "    DTR.fit(xd_train,yd_train)\n",
    "    pre_test = DTR.predict(xd_test)\n",
    "    score = rmsle(yd_test,pre_test)\n",
    "    s = pd.Series(data=DTR.feature_importances_, index=train.columns)\n",
    "    print(s.sort_values(ascending=False))\n",
    "    return score\n",
    "\n",
    "\n",
    "# ------------------------------------------------------------------------------------------------------------------\n",
    "from sklearn.linear_model import LogisticRegression\n",
    "def Logisic_model():\n",
    "    LG = LogisticRegression(penalty=\"l2\",tol=0.0001, C=1.0, solver= \"lbfgs\", max_iter=3000,multi_class='ovr', verbose=O)\n",
    "    LG.fit(xd_train,yd_train)\n",
    "    pre_test = LG.predict(xd_test)\n",
    "    score = rmsle(yd_test,pre_test)\n",
    "    s = pd.Series(data=LG.feature_importances_, index=train.columns)\n",
    "    print(s.sort_values(ascending=False))\n",
    "    return score\n",
    "\n",
    "# ------------------------------------------------------------------------------------------------------------------\n",
    "##AdaBoost\n",
    "from sklearn.ensemble import AdaBoostRegressor\n",
    "def AdaBoost_model():\n",
    "    ABR = AdaBoostRegressor(learning_rate=0.1, loss='square', n_estimators=1000)\n",
    "    ABR.fit(xd_train,yd_train)\n",
    "    pre_test = ABR.predict(xd_test)\n",
    "    score = rmsle(yd_test,pre_test)\n",
    "    s = pd.Series(data=ABR.feature_importances_, index=train.columns)\n",
    "    print(s.sort_values(ascending=False))\n",
    "    return score"
   ]
  },
  {
   "cell_type": "code",
   "execution_count": 39,
   "id": "e4f7080b-bc35-4c5c-9196-118355f363d4",
   "metadata": {},
   "outputs": [
    {
     "name": "stdout",
     "output_type": "stream",
     "text": [
      "hour          0.717391\n",
      "peak          0.045172\n",
      "workingday    0.041456\n",
      "temp          0.037987\n",
      "year          0.032547\n",
      "week          0.027615\n",
      "weekday       0.021329\n",
      "month         0.017644\n",
      "humidity      0.016422\n",
      "atemp         0.011833\n",
      "weather       0.009829\n",
      "windspeed     0.007217\n",
      "season        0.006427\n",
      "day           0.006221\n",
      "holiday       0.000912\n",
      "dtype: float64\n"
     ]
    },
    {
     "data": {
      "image/png": "[encoded data removed]",
      "text/plain": [
       "<Figure size 432x288 with 1 Axes>"
      ]
     },
     "metadata": {
      "needs_background": "light"
     },
     "output_type": "display_data"
    },
    {
     "name": "stdout",
     "output_type": "stream",
     "text": [
      "RandomForest_model:      0.08396553802057821\n",
      "hour          0.723553\n",
      "workingday    0.046454\n",
      "peak          0.040801\n",
      "temp          0.038444\n",
      "year          0.032732\n",
      "weekday       0.027890\n",
      "month         0.020968\n",
      "week          0.019932\n",
      "humidity      0.014456\n",
      "weather       0.011474\n",
      "atemp         0.009244\n",
      "season        0.005333\n",
      "windspeed     0.004390\n",
      "day           0.003671\n",
      "holiday       0.000657\n",
      "dtype: float64\n"
     ]
    },
    {
     "data": {
      "image/png": "[encoded data removed]",
      "text/plain": [
       "<Figure size 432x288 with 1 Axes>"
      ]
     },
     "metadata": {
      "needs_background": "light"
     },
     "output_type": "display_data"
    },
    {
     "name": "stdout",
     "output_type": "stream",
     "text": [
      "GradientBoosting_model:  0.08338951555062715\n"
     ]
    }
   ],
   "source": [
    "# print(\"LGBM_model:             \",LGBM_model())\n",
    "print(\"RandomForest_model:     \",RandomForest_model())\n",
    "# print(\"DecisionTree_model:     \",DecisionTree_model())\n",
    "print(\"GradientBoosting_model: \",GradientBoosting_model())\n",
    "# print(\"AdaBoost_model:         \",AdaBoost_model())"
   ]
  },
  {
   "cell_type": "code",
   "execution_count": 20,
   "id": "7961de15-b7de-4b71-b956-e906e29584d5",
   "metadata": {},
   "outputs": [],
   "source": [
    "GBR_feature_columns = ['hour','month', 'year','atemp' ,'humidity' , 'peak' , 'workingday' , 'weekday','windspeed' ,'week']\n",
    "GBR_feature_columns = ['weather', 'temp', 'windspeed','holiday','workingday', 'season','hour', 'weekday'          ,'humidity', 'year']\n",
    "    \n",
    "# hour          0.467933\n",
    "# month         0.091895  ----\n",
    "# year          0.072871\n",
    "# atemp         0.052749  ----\n",
    "# humidity      0.049934\n",
    "# peak          0.049397  ----\n",
    "# workingday    0.046351\n",
    "# weekday       0.045405\n",
    "# windspeed     0.033989\n",
    "# week          0.028676  -------------------\n",
    "# temp          0.022474\n",
    "# weather       0.016588\n",
    "# day           0.015911  ----\n",
    "# season        0.005827\n",
    "# holiday       0.000000"
   ]
  },
  {
   "cell_type": "code",
   "execution_count": 21,
   "id": "adbb34d2-7a09-4929-9260-0b156856356a",
   "metadata": {},
   "outputs": [],
   "source": [
    "RFR_feature_columns = ['hour', 'peak','workingday', 'temp', 'year','week','weekday', 'month','humidity'] #,  'weather' , 'windspeed'  , 'season', 'holiday']\n",
    "RFR_feature_columns = ['weather', 'temp', 'windspeed' , 'holiday' ,'workingday', 'season','hour', 'weekday'      , 'week', 'peak']\n",
    "\n",
    "# hour          0.717391\n",
    "# peak          0.045172\n",
    "# workingday    0.041456\n",
    "# temp          0.037987\n",
    "# year          0.032547  ----\n",
    "# week          0.027615\n",
    "# weekday       0.021329\n",
    "# month         0.017644  ----\n",
    "# humidity      0.016422  ------------------------\n",
    "# atemp         0.011833  \n",
    "# weather       0.009829\n",
    "# windspeed     0.007217\n",
    "# season        0.006427\n",
    "# day           0.006221  ----\n",
    "# holiday       0.000912"
   ]
  },
  {
   "cell_type": "markdown",
   "id": "673fa478-9ed7-4b75-ba99-f501fd77edb3",
   "metadata": {},
   "source": [
    "## 파라미터 튜닝"
   ]
  },
  {
   "cell_type": "code",
   "execution_count": 30,
   "id": "f918cf04-8bb6-4458-8629-7d88fd5ca3ea",
   "metadata": {},
   "outputs": [
    {
     "name": "stdout",
     "output_type": "stream",
     "text": [
      "model: 0.9668050121659433\n",
      "model: 0.985992884723989\n",
      "model: 0.9859414825931789\n"
     ]
    }
   ],
   "source": [
    "# ------------------------------------------------------------------------------------------------------------------\n",
    "from sklearn.ensemble import RandomForestRegressor\n",
    "params = {'n_estimators': 1000, \n",
    "          'max_depth': 15, \n",
    "          'random_state': 0, \n",
    "          'min_samples_split' : 5, \n",
    "          'n_jobs': -1}\n",
    "\n",
    "RFR1 = RandomForestRegressor(**params)\n",
    "RFR1.fit(RFR_X_train,y_casual)\n",
    "print(\"model:\",RFR1.score(RFR_X_train,y_casual))\n",
    "\n",
    "RFR2 = RandomForestRegressor(**params)\n",
    "RFR2.fit(RFR_X_train,y_registered)\n",
    "print(\"model:\",RFR2.score(RFR_X_train,y_registered))\n",
    "\n",
    "RFR3 = RandomForestRegressor(**params)\n",
    "RFR3.fit(RFR_X_train,y_count)\n",
    "print(\"model:\",RFR3.score(RFR_X_train,y_count))"
   ]
  },
  {
   "cell_type": "code",
   "execution_count": 31,
   "id": "f5c70de9-7fd9-4c7e-acb4-f836112892c8",
   "metadata": {},
   "outputs": [
    {
     "data": {
      "text/plain": [
       "sklearn.ensemble._forest.RandomForestRegressor"
      ]
     },
     "execution_count": 31,
     "metadata": {},
     "output_type": "execute_result"
    }
   ],
   "source": [
    "RandomForestRegressor"
   ]
  },
  {
   "cell_type": "code",
   "execution_count": 32,
   "id": "e6eeb61e-3841-405d-a8a6-fe6df781dfde",
   "metadata": {},
   "outputs": [
    {
     "name": "stdout",
     "output_type": "stream",
     "text": [
      "model: 0.9226361640002755\n",
      "model: 0.9679279836575722\n",
      "model: 0.9679086498860243\n"
     ]
    }
   ],
   "source": [
    "from sklearn.ensemble import GradientBoostingRegressor\n",
    "\n",
    "params2 = {'n_estimators': 150, \n",
    "           'max_depth': 5, \n",
    "           'random_state': 0, \n",
    "           'min_samples_leaf' : 10, \n",
    "           'learning_rate': 0.1, \n",
    "           'subsample': 0.7, \n",
    "           'loss': 'ls'}\n",
    "\n",
    "GBR1 = GradientBoostingRegressor(**params2)\n",
    "GBR1.fit(GBR_X_train,y_casual)\n",
    "print(\"model:\",GBR1.score(GBR_X_train,y_casual))\n",
    "\n",
    "GBR2 = GradientBoostingRegressor(**params2)\n",
    "GBR2.fit(GBR_X_train,y_registered)\n",
    "print(\"model:\",GBR2.score(GBR_X_train,y_registered))\n",
    "\n",
    "GBR3 = GradientBoostingRegressor(**params2)\n",
    "GBR3.fit(GBR_X_train,y_count)\n",
    "print(\"model:\",GBR3.score(GBR_X_train,y_count))"
   ]
  },
  {
   "cell_type": "markdown",
   "id": "44dbdd75-f3ec-44dd-aea7-9f408af5b790",
   "metadata": {},
   "source": [
    "## 앙상블"
   ]
  },
  {
   "cell_type": "code",
   "execution_count": 33,
   "id": "2021cf30-b6fb-40e0-8c36-9dd2d94611a5",
   "metadata": {
    "tags": []
   },
   "outputs": [],
   "source": [
    "# -------------------------------------------------------------\n",
    "RFR_pre_casual = RFR1.predict(RFR_X_test)\n",
    "RFR_pre_casual=np.exp(RFR_pre_casual)-1\n",
    "\n",
    "RFR_pre_registered = RFR2.predict(RFR_X_test)\n",
    "RFR_pre_registered=np.exp(RFR_pre_registered)-1\n",
    "\n",
    "RFR_pre = RFR_pre_casual+RFR_pre_registered\n",
    "# -------------------------------------------------------------\n",
    "\n",
    "GBR_pre_casual = GBR1.predict(GBR_X_test)\n",
    "GBR_pre_casual=np.exp(GBR_pre_casual)-1\n",
    "\n",
    "GBR_pre_registered = GBR2.predict(GBR_X_test)\n",
    "GBR_pre_registered=np.exp(GBR_pre_registered)-1\n",
    "\n",
    "GBR_pre = GBR_pre_casual+GBR_pre_registered\n",
    "# -------------------------------------------------------------Score: 0.35587\n",
    "\n"
   ]
  },
  {
   "cell_type": "markdown",
   "id": "3916b587-90e3-4330-9dd2-7f92c626ff92",
   "metadata": {},
   "source": [
    "# make submission"
   ]
  },
  {
   "cell_type": "code",
   "execution_count": null,
   "id": "6951df5a-48d0-4b9a-9c81-2ca63596e8f4",
   "metadata": {},
   "outputs": [],
   "source": [
    "submit1 = pd.DataFrame({'datetime':X_date,'count':0.2*RFR_pre+0.8*GBR_pre})\n",
    "submit1.to_csv('lkh02.csv',index=False)"
   ]
  },
  {
   "cell_type": "code",
   "execution_count": 34,
   "id": "9330c3ce-7658-46b9-9b14-a7a5e710a4d7",
   "metadata": {},
   "outputs": [],
   "source": [
    "# submit1.to_csv('0.35587.csv',index=False)"
   ]
  },
  {
   "cell_type": "code",
   "execution_count": 35,
   "id": "6dc777a7-5ac5-4292-8b29-bc583a9bf97e",
   "metadata": {},
   "outputs": [],
   "source": [
    "# # -------------------------------------------------------------\n",
    "# RFR_pre_count = RFR3.predict(RFR_X_test)\n",
    "# RFR_pre_count = np.exp(RFR_pre_count)-1\n",
    "\n",
    "# GBR_pre_count = GBR3.predict(GBR_X_test)\n",
    "# GBR_pre_count = np.exp(GBR_pre_count)-1\n",
    "\n",
    "# pre_count=0.2*RFR_pre_count+0.8*GBR_pre_count\n",
    "# # -------------------------------------------------------------  Score: 0.35957\n",
    "\n",
    "# submit2 = pd.DataFrame({'datetime':X_date,'count':pre_count})\n",
    "# submit2.to_csv('lkh03.csv',index=False)"
   ]
  },
  {
   "cell_type": "markdown",
   "id": "57738c9a-ea45-4e6b-9209-47ad07f44305",
   "metadata": {},
   "source": [
    "<img src=\"./board2.png\">  "
   ]
  },
  {
   "cell_type": "code",
   "execution_count": null,
   "id": "de14b8c5-006e-4f61-8307-0abb735a81bd",
   "metadata": {},
   "outputs": [],
   "source": []
  }
 ],
 "metadata": {
  "kernelspec": {
   "display_name": "Python 3 (ipykernel)",
   "language": "python",
   "name": "python3"
  },
  "language_info": {
   "codemirror_mode": {
    "name": "ipython",
    "version": 3
   },
   "file_extension": ".py",
   "mimetype": "text/x-python",
   "name": "python",
   "nbconvert_exporter": "python",
   "pygments_lexer": "ipython3",
   "version": "3.8.8"
  }
 },
 "nbformat": 4,
 "nbformat_minor": 5
}
