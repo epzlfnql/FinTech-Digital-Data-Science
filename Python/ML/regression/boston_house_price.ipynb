{
 "cells": [
  {
   "cell_type": "markdown",
   "id": "f4c0d214-1f29-4330-beac-d6507ad232e0",
   "metadata": {},
   "source": [
    "# <font size=6><b>Boston House Price"
   ]
  },
  {
   "cell_type": "code",
   "execution_count": 5,
   "id": "558f2c36-3631-446b-b740-3c0e99ccb013",
   "metadata": {},
   "outputs": [],
   "source": [
    "# ! pip install xgboost\n",
    "# ! pip install lightgbm\n",
    "# ! pip install catboost\n",
    "# ! pip install optuna\n",
    "# !pip install seaborn\n",
    "#!pip install imblearn"
   ]
  },
  {
   "cell_type": "code",
   "execution_count": 6,
   "id": "e92af2a7-8fa6-4c0a-a638-afc107c2796c",
   "metadata": {},
   "outputs": [
    {
     "name": "stderr",
     "output_type": "stream",
     "text": [
      "/Users/lty/Desktop/pycharm/BFS/fintech/venv/lib/python3.9/site-packages/tqdm/auto.py:22: TqdmWarning: IProgress not found. Please update jupyter and ipywidgets. See https://ipywidgets.readthedocs.io/en/stable/user_install.html\n",
      "  from .autonotebook import tqdm as notebook_tqdm\n"
     ]
    }
   ],
   "source": [
    "import pandas as pd\n",
    "import numpy as np\n",
    "import seaborn as sns\n",
    "import matplotlib.pyplot as plt\n",
    "\n",
    "#------------------------------------------------------------------ 학습데이터셋\n",
    "from sklearn.model_selection import train_test_split\n",
    "\n",
    "#------------------------------------------------------------------ CART(Classification and Regression Tree)\n",
    "from sklearn.tree import DecisionTreeRegressor\n",
    "from sklearn.svm import LinearSVC, NuSVR\n",
    "from sklearn.neighbors import KNeighborsRegressor \n",
    "from sklearn.ensemble import RandomForestRegressor, ExtraTreesRegressor, BaggingRegressor,  AdaBoostRegressor, GradientBoostingRegressor\n",
    "from xgboost import XGBRegressor\n",
    "from lightgbm import LGBMRegressor\n",
    "from catboost import CatBoostRegressor\n",
    "from sklearn.linear_model import LinearRegression, Ridge, Lasso, ElasticNet  #----------------*****\n",
    "\n",
    "\n",
    "#------------------------------------------------------------------ 증강학습\n",
    "from sklearn.model_selection import KFold,cross_val_score,GridSearchCV\n",
    "from imblearn.over_sampling import SMOTE\n",
    "\n",
    "#------------------------------------------------------------------ 스케일링\n",
    "from sklearn.preprocessing import StandardScaler, RobustScaler, MinMaxScaler\n",
    "\n",
    "\n",
    "#------------------------------------------------------------------ 평가관련\n",
    "from sklearn.metrics import mean_squared_error, mean_absolute_error, mean_squared_log_error, r2_score\n",
    "# MAE\n",
    "# MSE  : (squared=True)\n",
    "# RMSE : (squared=False)\n",
    "# MSLE\n",
    "\n",
    "#------------------------------------------------------------------ 튜닝관련\n",
    "import optuna\n",
    "\n",
    "from sklearn.datasets import load_boston\n",
    "\n",
    "import warnings\n",
    "warnings.filterwarnings(action='ignore')\n",
    "sns.set()"
   ]
  },
  {
   "cell_type": "markdown",
   "id": "91ddf22f-f613-4ebc-a430-a3f76470e8cc",
   "metadata": {},
   "source": [
    "<table class=\"docutils align-default\">\n",
    "<thead>\n",
    "<tr class=\"row-odd\"><th class=\"head\"><p>Scoring</p></th>\n",
    "<th class=\"head\"><p>Function</p></th>\n",
    "<th class=\"head\"><p>Comment</p></th>\n",
    "</tr>\n",
    "</thead>\n",
    "<tbody>\n",
    "<tr class=\"row-even\"><td><p><strong>Regression</strong></p></td>\n",
    "<td></td>\n",
    "<td></td>\n",
    "</tr>\n",
    "<tr class=\"row-odd\"><td><p>‘explained_variance’</p></td>\n",
    "<td><p><a class=\"reference internal\" href=\"generated/sklearn.metrics.explained_variance_score.html#sklearn.metrics.explained_variance_score\" title=\"sklearn.metrics.explained_variance_score\"><code class=\"xref py py-func docutils literal notranslate\"><span class=\"pre\">metrics.explained_variance_score</span></code></a></p></td>\n",
    "<td></td>\n",
    "</tr>\n",
    "<tr class=\"row-even\"><td><p>‘max_error’</p></td>\n",
    "<td><p><a class=\"reference internal\" href=\"generated/sklearn.metrics.max_error.html#sklearn.metrics.max_error\" title=\"sklearn.metrics.max_error\"><code class=\"xref py py-func docutils literal notranslate\"><span class=\"pre\">metrics.max_error</span></code></a></p></td>\n",
    "<td></td>\n",
    "</tr>\n",
    "<tr class=\"row-odd\"><td><p>‘neg_mean_absolute_error’</p></td>\n",
    "<td><p><a class=\"reference internal\" href=\"generated/sklearn.metrics.mean_absolute_error.html#sklearn.metrics.mean_absolute_error\" title=\"sklearn.metrics.mean_absolute_error\"><code class=\"xref py py-func docutils literal notranslate\"><span class=\"pre\">metrics.mean_absolute_error</span></code></a></p></td>\n",
    "<td></td>\n",
    "</tr>\n",
    "<tr class=\"row-even\"><td><p>‘neg_mean_squared_error’</p></td>\n",
    "<td><p><a class=\"reference internal\" href=\"generated/sklearn.metrics.mean_squared_error.html#sklearn.metrics.mean_squared_error\" title=\"sklearn.metrics.mean_squared_error\"><code class=\"xref py py-func docutils literal notranslate\"><span class=\"pre\">metrics.mean_squared_error</span></code></a></p></td>\n",
    "<td></td>\n",
    "</tr>\n",
    "<tr class=\"row-odd\"><td><p>‘neg_root_mean_squared_error’</p></td>\n",
    "<td><p><a class=\"reference internal\" href=\"generated/sklearn.metrics.mean_squared_error.html#sklearn.metrics.mean_squared_error\" title=\"sklearn.metrics.mean_squared_error\"><code class=\"xref py py-func docutils literal notranslate\"><span class=\"pre\">metrics.mean_squared_error</span></code></a></p></td>\n",
    "<td></td>\n",
    "</tr>\n",
    "<tr class=\"row-even\"><td><p>‘neg_mean_squared_log_error’</p></td>\n",
    "<td><p><a class=\"reference internal\" href=\"generated/sklearn.metrics.mean_squared_log_error.html#sklearn.metrics.mean_squared_log_error\" title=\"sklearn.metrics.mean_squared_log_error\"><code class=\"xref py py-func docutils literal notranslate\"><span class=\"pre\">metrics.mean_squared_log_error</span></code></a></p></td>\n",
    "<td></td>\n",
    "</tr>\n",
    "<tr class=\"row-odd\"><td><p>‘neg_median_absolute_error’</p></td>\n",
    "<td><p><a class=\"reference internal\" href=\"generated/sklearn.metrics.median_absolute_error.html#sklearn.metrics.median_absolute_error\" title=\"sklearn.metrics.median_absolute_error\"><code class=\"xref py py-func docutils literal notranslate\"><span class=\"pre\">metrics.median_absolute_error</span></code></a></p></td>\n",
    "<td></td>\n",
    "</tr>\n",
    "<tr class=\"row-even\"><td><p>‘r2’</p></td>\n",
    "<td><p><a class=\"reference internal\" href=\"generated/sklearn.metrics.r2_score.html#sklearn.metrics.r2_score\" title=\"sklearn.metrics.r2_score\"><code class=\"xref py py-func docutils literal notranslate\"><span class=\"pre\">metrics.r2_score</span></code></a></p></td>\n",
    "<td></td>\n",
    "</tr>\n",
    "<tr class=\"row-odd\"><td><p>‘neg_mean_poisson_deviance’</p></td>\n",
    "<td><p><a class=\"reference internal\" href=\"generated/sklearn.metrics.mean_poisson_deviance.html#sklearn.metrics.mean_poisson_deviance\" title=\"sklearn.metrics.mean_poisson_deviance\"><code class=\"xref py py-func docutils literal notranslate\"><span class=\"pre\">metrics.mean_poisson_deviance</span></code></a></p></td>\n",
    "<td></td>\n",
    "</tr>\n",
    "<tr class=\"row-even\"><td><p>‘neg_mean_gamma_deviance’</p></td>\n",
    "<td><p><a class=\"reference internal\" href=\"generated/sklearn.metrics.mean_gamma_deviance.html#sklearn.metrics.mean_gamma_deviance\" title=\"sklearn.metrics.mean_gamma_deviance\"><code class=\"xref py py-func docutils literal notranslate\"><span class=\"pre\">metrics.mean_gamma_deviance</span></code></a></p></td>\n",
    "<td></td>\n",
    "</tr>\n",
    "<tr class=\"row-odd\"><td><p>‘neg_mean_absolute_percentage_error’</p></td>\n",
    "<td><p><a class=\"reference internal\" href=\"generated/sklearn.metrics.mean_absolute_percentage_error.html#sklearn.metrics.mean_absolute_percentage_error\" title=\"sklearn.metrics.mean_absolute_percentage_error\"><code class=\"xref py py-func docutils literal notranslate\"><span class=\"pre\">metrics.mean_absolute_percentage_error</span></code></a></p></td>\n",
    "<td></td>\n",
    "</tr>\n",
    "<tr class=\"row-even\"><td><p>‘d2_absolute_error_score’</p></td>\n",
    "<td><p><a class=\"reference internal\" href=\"generated/sklearn.metrics.d2_absolute_error_score.html#sklearn.metrics.d2_absolute_error_score\" title=\"sklearn.metrics.d2_absolute_error_score\"><code class=\"xref py py-func docutils literal notranslate\"><span class=\"pre\">metrics.d2_absolute_error_score</span></code></a></p></td>\n",
    "<td></td>\n",
    "</tr>\n",
    "<tr class=\"row-odd\"><td><p>‘d2_pinball_score’</p></td>\n",
    "<td><p><a class=\"reference internal\" href=\"generated/sklearn.metrics.d2_pinball_score.html#sklearn.metrics.d2_pinball_score\" title=\"sklearn.metrics.d2_pinball_score\"><code class=\"xref py py-func docutils literal notranslate\"><span class=\"pre\">metrics.d2_pinball_score</span></code></a></p></td>\n",
    "<td></td>\n",
    "</tr>\n",
    "<tr class=\"row-even\"><td><p>‘d2_tweedie_score’</p></td>\n",
    "<td><p><a class=\"reference internal\" href=\"generated/sklearn.metrics.d2_tweedie_score.html#sklearn.metrics.d2_tweedie_score\" title=\"sklearn.metrics.d2_tweedie_score\"><code class=\"xref py py-func docutils literal notranslate\"><span class=\"pre\">metrics.d2_tweedie_score</span></code></a></p></td>\n",
    "<td></td>\n",
    "</tr>\n",
    "</tbody>\n",
    "</table>"
   ]
  },
  {
   "cell_type": "markdown",
   "id": "fd9fd3a7-6e3f-4ef3-a7c9-04d67a725c06",
   "metadata": {},
   "source": [
    "# Data Load"
   ]
  },
  {
   "cell_type": "code",
   "execution_count": 100,
   "id": "85ef094b-60d9-48c0-a848-88cfcc620558",
   "metadata": {},
   "outputs": [
    {
     "data": {
      "text/plain": [
       "dict_keys(['data', 'target', 'feature_names', 'DESCR', 'filename', 'data_module'])"
      ]
     },
     "execution_count": 100,
     "metadata": {},
     "output_type": "execute_result"
    }
   ],
   "source": [
    "dataset = load_boston()\n",
    "dataset.keys()"
   ]
  },
  {
   "cell_type": "code",
   "execution_count": 101,
   "id": "1e489e23-7ea8-4adc-86e7-824982bb9247",
   "metadata": {},
   "outputs": [
    {
     "data": {
      "text/html": [
       "<div>\n",
       "<style scoped>\n",
       "    .dataframe tbody tr th:only-of-type {\n",
       "        vertical-align: middle;\n",
       "    }\n",
       "\n",
       "    .dataframe tbody tr th {\n",
       "        vertical-align: top;\n",
       "    }\n",
       "\n",
       "    .dataframe thead th {\n",
       "        text-align: right;\n",
       "    }\n",
       "</style>\n",
       "<table border=\"1\" class=\"dataframe\">\n",
       "  <thead>\n",
       "    <tr style=\"text-align: right;\">\n",
       "      <th></th>\n",
       "      <th>CRIM</th>\n",
       "      <th>ZN</th>\n",
       "      <th>INDUS</th>\n",
       "      <th>CHAS</th>\n",
       "      <th>NOX</th>\n",
       "      <th>RM</th>\n",
       "      <th>AGE</th>\n",
       "      <th>DIS</th>\n",
       "      <th>RAD</th>\n",
       "      <th>TAX</th>\n",
       "      <th>PTRATIO</th>\n",
       "      <th>B</th>\n",
       "      <th>LSTAT</th>\n",
       "      <th>price</th>\n",
       "    </tr>\n",
       "  </thead>\n",
       "  <tbody>\n",
       "    <tr>\n",
       "      <th>0</th>\n",
       "      <td>0.00632</td>\n",
       "      <td>18.0</td>\n",
       "      <td>2.31</td>\n",
       "      <td>0.0</td>\n",
       "      <td>0.538</td>\n",
       "      <td>6.575</td>\n",
       "      <td>65.2</td>\n",
       "      <td>4.0900</td>\n",
       "      <td>1.0</td>\n",
       "      <td>296.0</td>\n",
       "      <td>15.3</td>\n",
       "      <td>396.90</td>\n",
       "      <td>4.98</td>\n",
       "      <td>24.0</td>\n",
       "    </tr>\n",
       "    <tr>\n",
       "      <th>1</th>\n",
       "      <td>0.02731</td>\n",
       "      <td>0.0</td>\n",
       "      <td>7.07</td>\n",
       "      <td>0.0</td>\n",
       "      <td>0.469</td>\n",
       "      <td>6.421</td>\n",
       "      <td>78.9</td>\n",
       "      <td>4.9671</td>\n",
       "      <td>2.0</td>\n",
       "      <td>242.0</td>\n",
       "      <td>17.8</td>\n",
       "      <td>396.90</td>\n",
       "      <td>9.14</td>\n",
       "      <td>21.6</td>\n",
       "    </tr>\n",
       "    <tr>\n",
       "      <th>2</th>\n",
       "      <td>0.02729</td>\n",
       "      <td>0.0</td>\n",
       "      <td>7.07</td>\n",
       "      <td>0.0</td>\n",
       "      <td>0.469</td>\n",
       "      <td>7.185</td>\n",
       "      <td>61.1</td>\n",
       "      <td>4.9671</td>\n",
       "      <td>2.0</td>\n",
       "      <td>242.0</td>\n",
       "      <td>17.8</td>\n",
       "      <td>392.83</td>\n",
       "      <td>4.03</td>\n",
       "      <td>34.7</td>\n",
       "    </tr>\n",
       "    <tr>\n",
       "      <th>3</th>\n",
       "      <td>0.03237</td>\n",
       "      <td>0.0</td>\n",
       "      <td>2.18</td>\n",
       "      <td>0.0</td>\n",
       "      <td>0.458</td>\n",
       "      <td>6.998</td>\n",
       "      <td>45.8</td>\n",
       "      <td>6.0622</td>\n",
       "      <td>3.0</td>\n",
       "      <td>222.0</td>\n",
       "      <td>18.7</td>\n",
       "      <td>394.63</td>\n",
       "      <td>2.94</td>\n",
       "      <td>33.4</td>\n",
       "    </tr>\n",
       "    <tr>\n",
       "      <th>4</th>\n",
       "      <td>0.06905</td>\n",
       "      <td>0.0</td>\n",
       "      <td>2.18</td>\n",
       "      <td>0.0</td>\n",
       "      <td>0.458</td>\n",
       "      <td>7.147</td>\n",
       "      <td>54.2</td>\n",
       "      <td>6.0622</td>\n",
       "      <td>3.0</td>\n",
       "      <td>222.0</td>\n",
       "      <td>18.7</td>\n",
       "      <td>396.90</td>\n",
       "      <td>5.33</td>\n",
       "      <td>36.2</td>\n",
       "    </tr>\n",
       "  </tbody>\n",
       "</table>\n",
       "</div>"
      ],
      "text/plain": [
       "      CRIM    ZN  INDUS  CHAS    NOX     RM   AGE     DIS  RAD    TAX  \\\n",
       "0  0.00632  18.0   2.31   0.0  0.538  6.575  65.2  4.0900  1.0  296.0   \n",
       "1  0.02731   0.0   7.07   0.0  0.469  6.421  78.9  4.9671  2.0  242.0   \n",
       "2  0.02729   0.0   7.07   0.0  0.469  7.185  61.1  4.9671  2.0  242.0   \n",
       "3  0.03237   0.0   2.18   0.0  0.458  6.998  45.8  6.0622  3.0  222.0   \n",
       "4  0.06905   0.0   2.18   0.0  0.458  7.147  54.2  6.0622  3.0  222.0   \n",
       "\n",
       "   PTRATIO       B  LSTAT  price  \n",
       "0     15.3  396.90   4.98   24.0  \n",
       "1     17.8  396.90   9.14   21.6  \n",
       "2     17.8  392.83   4.03   34.7  \n",
       "3     18.7  394.63   2.94   33.4  \n",
       "4     18.7  396.90   5.33   36.2  "
      ]
     },
     "execution_count": 101,
     "metadata": {},
     "output_type": "execute_result"
    }
   ],
   "source": [
    "df = pd.DataFrame(data=dataset[\"data\"], columns = dataset[\"feature_names\"])\n",
    "df['price'] = dataset[\"target\"]\n",
    "df.head()"
   ]
  },
  {
   "cell_type": "code",
   "execution_count": 30,
   "id": "56a4d85e-e30a-4b9f-9c0f-0fbb46561e25",
   "metadata": {},
   "outputs": [
    {
     "name": "stdout",
     "output_type": "stream",
     "text": [
      "<class 'pandas.core.frame.DataFrame'>\n",
      "RangeIndex: 506 entries, 0 to 505\n",
      "Data columns (total 14 columns):\n",
      " #   Column   Non-Null Count  Dtype  \n",
      "---  ------   --------------  -----  \n",
      " 0   CRIM     506 non-null    float64\n",
      " 1   ZN       506 non-null    float64\n",
      " 2   INDUS    506 non-null    float64\n",
      " 3   CHAS     506 non-null    float64\n",
      " 4   NOX      506 non-null    float64\n",
      " 5   RM       506 non-null    float64\n",
      " 6   AGE      506 non-null    float64\n",
      " 7   DIS      506 non-null    float64\n",
      " 8   RAD      506 non-null    float64\n",
      " 9   TAX      506 non-null    float64\n",
      " 10  PTRATIO  506 non-null    float64\n",
      " 11  B        506 non-null    float64\n",
      " 12  LSTAT    506 non-null    float64\n",
      " 13  price    506 non-null    float64\n",
      "dtypes: float64(14)\n",
      "memory usage: 55.5 KB\n"
     ]
    }
   ],
   "source": [
    "df.info()"
   ]
  },
  {
   "cell_type": "markdown",
   "id": "c53614b2-ccb3-443f-bec7-f6d6f5bb0672",
   "metadata": {},
   "source": [
    "# 우선 점수부터 보자"
   ]
  },
  {
   "cell_type": "code",
   "execution_count": 102,
   "id": "6e760aab-b66d-4dbe-9bc2-3f0cf29b08a1",
   "metadata": {},
   "outputs": [],
   "source": [
    "\n",
    "\n",
    "def my_eval(X, y, models, plot_view = False):\n",
    "    X_train, X_test, y_train, y_test = train_test_split(X, y, test_size=0.2, random_state=1234)\n",
    "    for (name, model) in models:\n",
    "        model.fit(X_train, y_train)\n",
    "        pred = model.predict(X_test)\n",
    "        mse = mean_squared_error(y_test, pred)\n",
    "        print(f\"{name} : {mse:.4f}\")\n",
    "\n",
    "        if plot_view ==True:\n",
    "            if model.__class__.__name__ == \"DecisionTreeRegressor\":\n",
    "                s = pd.Series(model.feature_importances_, index=X.columns)\n",
    "                s.plot.bar()\n",
    "                plt.show()\n",
    "                plt.close()\n",
    "\n",
    "            else:\n",
    "                # print(f\"{model.coef_} {model.intercept_}\")\n",
    "                s = pd.Series(model.coef_, index=X.columns)\n",
    "                s.plot.bar()\n",
    "                plt.show()\n",
    "                plt.close()\n"
   ]
  },
  {
   "cell_type": "code",
   "execution_count": null,
   "id": "c2d0adf7-a085-4cf7-b542-db6430cf60e6",
   "metadata": {},
   "outputs": [],
   "source": []
  },
  {
   "cell_type": "markdown",
   "id": "1a80c048-b4d3-4cf2-af76-96516dc9cb74",
   "metadata": {},
   "source": [
    "* class sklearn.linear_model.LinearRegression(*, fit_intercept=True, normalize='deprecated', copy_X=True, n_jobs=None, positive=False)[source]\n",
    "* class sklearn.linear_model.Ridge(alpha=1.0, *, fit_intercept=True, normalize='deprecated', copy_X=True, max_iter=None, tol=0.001, solver='auto', positive=False, random_state=None)[source]\n",
    "* class sklearn.linear_model.Lasso(alpha=1.0, *, fit_intercept=True, normalize='deprecated', precompute=False, copy_X=True, max_iter=1000, tol=0.0001, warm_start=False, positive=False, random_state=None, selection='cyclic')\n",
    "* class sklearn.tree.DecisionTreeRegressor(*, criterion='squared_error', splitter='best', max_depth=None, min_samples_split=2, min_samples_leaf=1, min_weight_fraction_leaf=0.0, max_features=None, random_state=None, max_leaf_nodes=None, min_impurity_decrease=0.0, ccp_alpha=0.0)"
   ]
  },
  {
   "cell_type": "code",
   "execution_count": 103,
   "id": "b76e6bf7-240b-423f-965d-213901140d14",
   "metadata": {},
   "outputs": [
    {
     "name": "stdout",
     "output_type": "stream",
     "text": [
      "LR : 23.9646\n",
      "DT : 12.1651\n",
      "RIDGE : 23.4635\n",
      "LASSO : 33.7313\n"
     ]
    }
   ],
   "source": [
    "models = [ (\"LR\", LinearRegression()), \n",
    "           (\"DT\", DecisionTreeRegressor()), \n",
    "           (\"RIDGE\", Ridge()), \n",
    "           (\"LASSO\", Lasso())\n",
    "         ]\n",
    "y = df[\"price\"]\n",
    "X = df.drop([\"price\"], axis=1)\n",
    "my_eval(X, y, models)"
   ]
  },
  {
   "cell_type": "markdown",
   "id": "9871f2a7-005d-4836-bee1-3c612a764d94",
   "metadata": {},
   "source": [
    "# target 분포\n",
    "* log 변환\n",
    "* 스케일링"
   ]
  },
  {
   "cell_type": "code",
   "execution_count": 33,
   "id": "1dd34968-2751-4fcd-9506-d44845a96572",
   "metadata": {},
   "outputs": [
    {
     "data": {
      "text/plain": [
       "<AxesSubplot:>"
      ]
     },
     "execution_count": 33,
     "metadata": {},
     "output_type": "execute_result"
    },
    {
     "data": {
      "image/png": "[encoded data removed]",
      "text/plain": [
       "<Figure size 432x288 with 1 Axes>"
      ]
     },
     "metadata": {
      "needs_background": "light"
     },
     "output_type": "display_data"
    }
   ],
   "source": [
    "df['price'].hist()"
   ]
  },
  {
   "cell_type": "code",
   "execution_count": 12,
   "id": "ca9779a7-cd2d-4e89-98cd-0c6b7f1515b5",
   "metadata": {},
   "outputs": [
    {
     "data": {
      "text/plain": [
       "0    24.0\n",
       "1    21.6\n",
       "2    34.7\n",
       "3    33.4\n",
       "4    36.2\n",
       "Name: price, dtype: float64"
      ]
     },
     "execution_count": 12,
     "metadata": {},
     "output_type": "execute_result"
    }
   ],
   "source": [
    "df['price'][:5]"
   ]
  },
  {
   "cell_type": "code",
   "execution_count": 104,
   "id": "8c2c8ec1-e3e8-4796-afd4-d0a3b9117fd1",
   "metadata": {},
   "outputs": [
    {
     "name": "stdout",
     "output_type": "stream",
     "text": [
      "0    3.218876\n",
      "1    3.117950\n",
      "2    3.575151\n",
      "3    3.538057\n",
      "4    3.616309\n",
      "Name: log_price, dtype: float64\n"
     ]
    },
    {
     "data": {
      "text/plain": [
       "<AxesSubplot:>"
      ]
     },
     "execution_count": 104,
     "metadata": {},
     "output_type": "execute_result"
    },
    {
     "data": {
      "image/png": "[encoded data removed]",
      "text/plain": [
       "<Figure size 432x288 with 1 Axes>"
      ]
     },
     "metadata": {
      "needs_background": "light"
     },
     "output_type": "display_data"
    }
   ],
   "source": [
    "\n",
    "df['log_price'] = np.log1p(df['price'])\n",
    "print(df['log_price'][:5])\n",
    "df['log_price'].hist()"
   ]
  },
  {
   "cell_type": "code",
   "execution_count": 22,
   "id": "f683424a-f75c-4b7a-8569-42879bc6353a",
   "metadata": {},
   "outputs": [],
   "source": [
    "# scaler = StandardScaler()\n",
    "# df[\"log_scaler_price\"] = scaler.fit_transform(df[\"log_price\"].values.reshape(-1,1))\n",
    "# print(df[\"log_scaler_price\"][:5])\n",
    "# df[\"log_scaler_price\"].hist()"
   ]
  },
  {
   "cell_type": "markdown",
   "id": "c06cd740-e87c-4dd5-b9a3-344051b9257b",
   "metadata": {},
   "source": [
    "# 2차 점수\n",
    "- log변환\n",
    "- 점수 매우 좋아졌다"
   ]
  },
  {
   "cell_type": "code",
   "execution_count": 105,
   "id": "976cb7b5-61ff-4860-98da-2e24e7f33fda",
   "metadata": {},
   "outputs": [],
   "source": [
    "df.drop(['price'], axis=1, inplace=True)"
   ]
  },
  {
   "cell_type": "code",
   "execution_count": 106,
   "id": "33594843-45cc-464b-991b-cbf0f68f7446",
   "metadata": {},
   "outputs": [
    {
     "data": {
      "text/plain": [
       "Index(['CRIM', 'ZN', 'INDUS', 'CHAS', 'NOX', 'RM', 'AGE', 'DIS', 'RAD', 'TAX',\n",
       "       'PTRATIO', 'B', 'LSTAT', 'log_price'],\n",
       "      dtype='object')"
      ]
     },
     "execution_count": 106,
     "metadata": {},
     "output_type": "execute_result"
    }
   ],
   "source": [
    "df.columns"
   ]
  },
  {
   "cell_type": "code",
   "execution_count": 107,
   "id": "e6bb7f01-e955-4804-b58f-0c6058db417f",
   "metadata": {},
   "outputs": [
    {
     "name": "stdout",
     "output_type": "stream",
     "text": [
      "LR : 0.0399\n",
      "DT : 0.0314\n",
      "RIDGE : 0.0394\n",
      "LASSO : 0.1122\n"
     ]
    }
   ],
   "source": [
    "models = [ (\"LR\", LinearRegression()), \n",
    "           (\"DT\", DecisionTreeRegressor()), \n",
    "           (\"RIDGE\", Ridge()), \n",
    "           (\"LASSO\", Lasso())\n",
    "         ]\n",
    "X = df.drop('log_price', axis=1)\n",
    "y = df['log_price']\n",
    "\n",
    "my_eval(X, y, models)"
   ]
  },
  {
   "cell_type": "markdown",
   "id": "beadcba8-51b0-4ca5-a5ef-88bcdc24ea0f",
   "metadata": {},
   "source": [
    "# 3차 점수\n",
    "- 규제 적용\n",
    "\n",
    "- RIDGE : 23.4635 ---- 0.0394\n",
    "- LASSO : 33.7313 ---- 0.1122"
   ]
  },
  {
   "cell_type": "code",
   "execution_count": 40,
   "id": "1517348e-e6c7-448b-a297-c1217e983f15",
   "metadata": {},
   "outputs": [],
   "source": [
    "ridge = Ridge(alpha=1.0)\n",
    "lasso = Lasso(alpha=1.0)"
   ]
  },
  {
   "cell_type": "code",
   "execution_count": 46,
   "id": "4bd6cb12-410e-43a0-862d-b74af8990665",
   "metadata": {},
   "outputs": [
    {
     "name": "stdout",
     "output_type": "stream",
     "text": [
      "alpha : 0.001\n",
      "RIDGE : 0.0399\n",
      "LASSO : 0.0395\n",
      "\n",
      "alpha : 0.01\n",
      "RIDGE : 0.0399\n",
      "LASSO : 0.0424\n",
      "\n",
      "alpha : 0.5\n",
      "RIDGE : 0.0395\n",
      "LASSO : 0.0818\n",
      "\n",
      "alpha : 1.0\n",
      "RIDGE : 0.0394\n",
      "LASSO : 0.1122\n",
      "\n",
      "alpha : 50\n",
      "RIDGE : 0.0412\n",
      "LASSO : 0.1946\n",
      "\n",
      "alpha : 100\n",
      "RIDGE : 0.0420\n",
      "LASSO : 0.1946\n",
      "\n",
      "alpha : 1000\n",
      "RIDGE : 0.0476\n",
      "LASSO : 0.1946\n",
      "\n"
     ]
    }
   ],
   "source": [
    "y= df['log_price']\n",
    "X= df.drop(['log_price'],axis=1)\n",
    "\n",
    "alpha_list = [0.001, 0.01, 0.5, 1.0, 50, 100, 1000]\n",
    "\n",
    "for MY_ALPHA in alpha_list:\n",
    "    models = [('RIDGE', Ridge(alpha = MY_ALPHA)),\n",
    "          ('LASSO', Lasso(alpha = MY_ALPHA))\n",
    "         ]\n",
    "    print(f'alpha : {MY_ALPHA}')\n",
    "    my_eval(X,y,models)\n",
    "    print()\n",
    "#----------------------------\n",
    " \n"
   ]
  },
  {
   "cell_type": "markdown",
   "id": "158bd4e3-f52d-446d-8d54-d2204749c509",
   "metadata": {},
   "source": [
    "- 위 경우를 봤을때 규제==1을 기준으로 했을 때, Lasso는 규제를 완화시키는게 성능이 더 좋아지는 것을 확인했다.\n",
    "- Ridge는 아무 조치도 취하지 않았을 때, 즉 규제==1일때 가장 최적의 점수"
   ]
  },
  {
   "cell_type": "markdown",
   "id": "4fc76a05-d8e9-49e2-a866-aa9f9388ff6f",
   "metadata": {},
   "source": [
    "# 4차 점수 \n",
    "- 피쳐 가공\n",
    "    * 주요피쳐 왜도 --> 로그변환 --> 성능개선 X 확인\n",
    "    * CHAS     --> StandardScaler() --> 성능개선 X 확인\n",
    "    * outlier  --> LSTATE 2rows drop --> o\n",
    "- LASSO : 33.7313 ---- 0.1122 ---(a: 0.001로 설정했을때 일단 가장 최적 성능)\n",
    "\n"
   ]
  },
  {
   "cell_type": "code",
   "execution_count": 49,
   "id": "307d6785-98c4-4dcc-a862-a2c3b696a52a",
   "metadata": {},
   "outputs": [],
   "source": [
    "model = Lasso(alpha = 0.001)"
   ]
  },
  {
   "cell_type": "code",
   "execution_count": 50,
   "id": "2e58388a-4e08-4486-8bbf-a46bf951af0b",
   "metadata": {},
   "outputs": [],
   "source": [
    "y=df['log_price']\n",
    "X = df.drop('log_price', axis=1)"
   ]
  },
  {
   "cell_type": "code",
   "execution_count": 51,
   "id": "0c9b77c8-ab78-4bf2-affd-f80ca5a4e5f1",
   "metadata": {},
   "outputs": [
    {
     "data": {
      "image/png": "[encoded data removed]",
      "text/plain": [
       "<Figure size 1152x720 with 16 Axes>"
      ]
     },
     "metadata": {
      "needs_background": "light"
     },
     "output_type": "display_data"
    }
   ],
   "source": [
    "X.hist(figsize=(16, 10))\n",
    "plt.show()\n",
    "# 카테고리성은 변환하면 안된다. (이산형은 손대는 것이 아니다)\n",
    "# 스케일링이나 로그 변환은 연속형 변수에만 적용"
   ]
  },
  {
   "cell_type": "markdown",
   "id": "60da1c85-b64e-4051-92a8-6aabb4e34e66",
   "metadata": {},
   "source": [
    "## 왜도 체크"
   ]
  },
  {
   "cell_type": "code",
   "execution_count": 59,
   "id": "a176efbb-e3fa-448c-b3d4-1023a7182de5",
   "metadata": {},
   "outputs": [
    {
     "data": {
      "text/plain": [
       "CRIM       5.207652\n",
       "CHAS       3.395799\n",
       "ZN         2.219063\n",
       "DIS        1.008779\n",
       "RAD        1.001833\n",
       "LSTAT      0.903771\n",
       "NOX        0.727144\n",
       "TAX        0.667968\n",
       "RM         0.402415\n",
       "INDUS      0.294146\n",
       "AGE       -0.597186\n",
       "PTRATIO   -0.799945\n",
       "B         -2.881798\n",
       "dtype: float64"
      ]
     },
     "execution_count": 59,
     "metadata": {},
     "output_type": "execute_result"
    }
   ],
   "source": [
    "from scipy.stats import skew\n",
    "skew(X)\n",
    "s = pd.Series(skew(X), index = X.columns)\n",
    "s.sort_values(ascending=False)\n",
    "# 정규분포 왜도는 0이다.\n",
    "# +-2정도는 봐줄만하다.\n",
    "# 위에서 CHAS는 범주형이라는 것을 알았으므로 스케일링 할 필요 없다.\n",
    "# 왜도 큰건 CRIM, B정도로 확인해볼 수 있다.\n",
    "# 특정 feature 몇개만 로그 변환 해볼 것이다."
   ]
  },
  {
   "cell_type": "markdown",
   "id": "417cb9ee-fc8d-465d-ba4f-a9709ff2870e",
   "metadata": {},
   "source": [
    "* CRIM B 로그변환 : np.log1p\n",
    "* CHAS(0, 1)를 제외한 모든 피쳐 : StandardScaler()\n",
    "* outlier : 주요피쳐(coef_가 큰 피쳐)만을 대상으로만 -- W가 높으면 중요한 feature인거야 그럼?"
   ]
  },
  {
   "cell_type": "code",
   "execution_count": 60,
   "id": "f6e446ad-282a-4035-ba0e-8fbb1bf21e99",
   "metadata": {},
   "outputs": [
    {
     "data": {
      "text/html": [
       "<div>\n",
       "<style scoped>\n",
       "    .dataframe tbody tr th:only-of-type {\n",
       "        vertical-align: middle;\n",
       "    }\n",
       "\n",
       "    .dataframe tbody tr th {\n",
       "        vertical-align: top;\n",
       "    }\n",
       "\n",
       "    .dataframe thead th {\n",
       "        text-align: right;\n",
       "    }\n",
       "</style>\n",
       "<table border=\"1\" class=\"dataframe\">\n",
       "  <thead>\n",
       "    <tr style=\"text-align: right;\">\n",
       "      <th></th>\n",
       "      <th>CRIM</th>\n",
       "      <th>ZN</th>\n",
       "      <th>INDUS</th>\n",
       "      <th>CHAS</th>\n",
       "      <th>NOX</th>\n",
       "      <th>RM</th>\n",
       "      <th>AGE</th>\n",
       "      <th>DIS</th>\n",
       "      <th>RAD</th>\n",
       "      <th>TAX</th>\n",
       "      <th>PTRATIO</th>\n",
       "      <th>B</th>\n",
       "      <th>LSTAT</th>\n",
       "    </tr>\n",
       "  </thead>\n",
       "  <tbody>\n",
       "    <tr>\n",
       "      <th>count</th>\n",
       "      <td>506.000000</td>\n",
       "      <td>506.000000</td>\n",
       "      <td>506.000000</td>\n",
       "      <td>506.000000</td>\n",
       "      <td>506.000000</td>\n",
       "      <td>506.000000</td>\n",
       "      <td>506.000000</td>\n",
       "      <td>506.000000</td>\n",
       "      <td>506.000000</td>\n",
       "      <td>506.000000</td>\n",
       "      <td>506.000000</td>\n",
       "      <td>506.000000</td>\n",
       "      <td>506.000000</td>\n",
       "    </tr>\n",
       "    <tr>\n",
       "      <th>mean</th>\n",
       "      <td>3.613524</td>\n",
       "      <td>11.363636</td>\n",
       "      <td>11.136779</td>\n",
       "      <td>0.069170</td>\n",
       "      <td>0.554695</td>\n",
       "      <td>6.284634</td>\n",
       "      <td>68.574901</td>\n",
       "      <td>3.795043</td>\n",
       "      <td>9.549407</td>\n",
       "      <td>408.237154</td>\n",
       "      <td>18.455534</td>\n",
       "      <td>356.674032</td>\n",
       "      <td>12.653063</td>\n",
       "    </tr>\n",
       "    <tr>\n",
       "      <th>std</th>\n",
       "      <td>8.601545</td>\n",
       "      <td>23.322453</td>\n",
       "      <td>6.860353</td>\n",
       "      <td>0.253994</td>\n",
       "      <td>0.115878</td>\n",
       "      <td>0.702617</td>\n",
       "      <td>28.148861</td>\n",
       "      <td>2.105710</td>\n",
       "      <td>8.707259</td>\n",
       "      <td>168.537116</td>\n",
       "      <td>2.164946</td>\n",
       "      <td>91.294864</td>\n",
       "      <td>7.141062</td>\n",
       "    </tr>\n",
       "    <tr>\n",
       "      <th>min</th>\n",
       "      <td>0.006320</td>\n",
       "      <td>0.000000</td>\n",
       "      <td>0.460000</td>\n",
       "      <td>0.000000</td>\n",
       "      <td>0.385000</td>\n",
       "      <td>3.561000</td>\n",
       "      <td>2.900000</td>\n",
       "      <td>1.129600</td>\n",
       "      <td>1.000000</td>\n",
       "      <td>187.000000</td>\n",
       "      <td>12.600000</td>\n",
       "      <td>0.320000</td>\n",
       "      <td>1.730000</td>\n",
       "    </tr>\n",
       "    <tr>\n",
       "      <th>25%</th>\n",
       "      <td>0.082045</td>\n",
       "      <td>0.000000</td>\n",
       "      <td>5.190000</td>\n",
       "      <td>0.000000</td>\n",
       "      <td>0.449000</td>\n",
       "      <td>5.885500</td>\n",
       "      <td>45.025000</td>\n",
       "      <td>2.100175</td>\n",
       "      <td>4.000000</td>\n",
       "      <td>279.000000</td>\n",
       "      <td>17.400000</td>\n",
       "      <td>375.377500</td>\n",
       "      <td>6.950000</td>\n",
       "    </tr>\n",
       "    <tr>\n",
       "      <th>50%</th>\n",
       "      <td>0.256510</td>\n",
       "      <td>0.000000</td>\n",
       "      <td>9.690000</td>\n",
       "      <td>0.000000</td>\n",
       "      <td>0.538000</td>\n",
       "      <td>6.208500</td>\n",
       "      <td>77.500000</td>\n",
       "      <td>3.207450</td>\n",
       "      <td>5.000000</td>\n",
       "      <td>330.000000</td>\n",
       "      <td>19.050000</td>\n",
       "      <td>391.440000</td>\n",
       "      <td>11.360000</td>\n",
       "    </tr>\n",
       "    <tr>\n",
       "      <th>75%</th>\n",
       "      <td>3.677083</td>\n",
       "      <td>12.500000</td>\n",
       "      <td>18.100000</td>\n",
       "      <td>0.000000</td>\n",
       "      <td>0.624000</td>\n",
       "      <td>6.623500</td>\n",
       "      <td>94.075000</td>\n",
       "      <td>5.188425</td>\n",
       "      <td>24.000000</td>\n",
       "      <td>666.000000</td>\n",
       "      <td>20.200000</td>\n",
       "      <td>396.225000</td>\n",
       "      <td>16.955000</td>\n",
       "    </tr>\n",
       "    <tr>\n",
       "      <th>max</th>\n",
       "      <td>88.976200</td>\n",
       "      <td>100.000000</td>\n",
       "      <td>27.740000</td>\n",
       "      <td>1.000000</td>\n",
       "      <td>0.871000</td>\n",
       "      <td>8.780000</td>\n",
       "      <td>100.000000</td>\n",
       "      <td>12.126500</td>\n",
       "      <td>24.000000</td>\n",
       "      <td>711.000000</td>\n",
       "      <td>22.000000</td>\n",
       "      <td>396.900000</td>\n",
       "      <td>37.970000</td>\n",
       "    </tr>\n",
       "  </tbody>\n",
       "</table>\n",
       "</div>"
      ],
      "text/plain": [
       "             CRIM          ZN       INDUS        CHAS         NOX          RM  \\\n",
       "count  506.000000  506.000000  506.000000  506.000000  506.000000  506.000000   \n",
       "mean     3.613524   11.363636   11.136779    0.069170    0.554695    6.284634   \n",
       "std      8.601545   23.322453    6.860353    0.253994    0.115878    0.702617   \n",
       "min      0.006320    0.000000    0.460000    0.000000    0.385000    3.561000   \n",
       "25%      0.082045    0.000000    5.190000    0.000000    0.449000    5.885500   \n",
       "50%      0.256510    0.000000    9.690000    0.000000    0.538000    6.208500   \n",
       "75%      3.677083   12.500000   18.100000    0.000000    0.624000    6.623500   \n",
       "max     88.976200  100.000000   27.740000    1.000000    0.871000    8.780000   \n",
       "\n",
       "              AGE         DIS         RAD         TAX     PTRATIO           B  \\\n",
       "count  506.000000  506.000000  506.000000  506.000000  506.000000  506.000000   \n",
       "mean    68.574901    3.795043    9.549407  408.237154   18.455534  356.674032   \n",
       "std     28.148861    2.105710    8.707259  168.537116    2.164946   91.294864   \n",
       "min      2.900000    1.129600    1.000000  187.000000   12.600000    0.320000   \n",
       "25%     45.025000    2.100175    4.000000  279.000000   17.400000  375.377500   \n",
       "50%     77.500000    3.207450    5.000000  330.000000   19.050000  391.440000   \n",
       "75%     94.075000    5.188425   24.000000  666.000000   20.200000  396.225000   \n",
       "max    100.000000   12.126500   24.000000  711.000000   22.000000  396.900000   \n",
       "\n",
       "            LSTAT  \n",
       "count  506.000000  \n",
       "mean    12.653063  \n",
       "std      7.141062  \n",
       "min      1.730000  \n",
       "25%      6.950000  \n",
       "50%     11.360000  \n",
       "75%     16.955000  \n",
       "max     37.970000  "
      ]
     },
     "execution_count": 60,
     "metadata": {},
     "output_type": "execute_result"
    }
   ],
   "source": [
    "X.describe() # mean을 보면 들쑥날쑥하다. ==> standardscaler 필요"
   ]
  },
  {
   "cell_type": "code",
   "execution_count": 108,
   "id": "4a67f668-5c26-4808-aa1d-8f6ff4b9f5dd",
   "metadata": {},
   "outputs": [],
   "source": [
    "models = [(\"LASSO\", Lasso(alpha = 0.001))] # 0.0395\n",
    "y = df['log_price']\n",
    "X = df.drop(['log_price'], axis=1)\n"
   ]
  },
  {
   "cell_type": "code",
   "execution_count": 69,
   "id": "4caa2c48-733f-4a57-8cd6-8cc6c051eb7e",
   "metadata": {},
   "outputs": [
    {
     "name": "stdout",
     "output_type": "stream",
     "text": [
      "LASSO : 0.0457\n"
     ]
    }
   ],
   "source": [
    "X[['CRIM', 'B']] = np.log1p(X[['CRIM', 'B']])\n",
    "my_eval(X,y,model)"
   ]
  },
  {
   "cell_type": "code",
   "execution_count": 73,
   "id": "0abebcdd-d113-4d56-9596-3ea5bd55225e",
   "metadata": {},
   "outputs": [
    {
     "data": {
      "text/html": [
       "<div>\n",
       "<style scoped>\n",
       "    .dataframe tbody tr th:only-of-type {\n",
       "        vertical-align: middle;\n",
       "    }\n",
       "\n",
       "    .dataframe tbody tr th {\n",
       "        vertical-align: top;\n",
       "    }\n",
       "\n",
       "    .dataframe thead th {\n",
       "        text-align: right;\n",
       "    }\n",
       "</style>\n",
       "<table border=\"1\" class=\"dataframe\">\n",
       "  <thead>\n",
       "    <tr style=\"text-align: right;\">\n",
       "      <th></th>\n",
       "      <th>CRIM</th>\n",
       "      <th>ZN</th>\n",
       "      <th>INDUS</th>\n",
       "      <th>CHAS</th>\n",
       "      <th>NOX</th>\n",
       "      <th>RM</th>\n",
       "      <th>AGE</th>\n",
       "      <th>DIS</th>\n",
       "      <th>RAD</th>\n",
       "      <th>TAX</th>\n",
       "      <th>PTRATIO</th>\n",
       "      <th>B</th>\n",
       "      <th>LSTAT</th>\n",
       "    </tr>\n",
       "  </thead>\n",
       "  <tbody>\n",
       "    <tr>\n",
       "      <th>0</th>\n",
       "      <td>-1.269348</td>\n",
       "      <td>0.284830</td>\n",
       "      <td>-1.287909</td>\n",
       "      <td>0.0</td>\n",
       "      <td>-0.144217</td>\n",
       "      <td>0.413672</td>\n",
       "      <td>-0.120013</td>\n",
       "      <td>0.140214</td>\n",
       "      <td>-0.982843</td>\n",
       "      <td>-0.666608</td>\n",
       "      <td>-1.459000</td>\n",
       "      <td>0.217045</td>\n",
       "      <td>-1.075562</td>\n",
       "    </tr>\n",
       "    <tr>\n",
       "      <th>1</th>\n",
       "      <td>-1.154111</td>\n",
       "      <td>-0.487722</td>\n",
       "      <td>-0.593381</td>\n",
       "      <td>0.0</td>\n",
       "      <td>-0.740262</td>\n",
       "      <td>0.194274</td>\n",
       "      <td>0.367166</td>\n",
       "      <td>0.557160</td>\n",
       "      <td>-0.867883</td>\n",
       "      <td>-0.987329</td>\n",
       "      <td>-0.303094</td>\n",
       "      <td>0.217045</td>\n",
       "      <td>-0.492439</td>\n",
       "    </tr>\n",
       "    <tr>\n",
       "      <th>2</th>\n",
       "      <td>-1.154215</td>\n",
       "      <td>-0.487722</td>\n",
       "      <td>-0.593381</td>\n",
       "      <td>0.0</td>\n",
       "      <td>-0.740262</td>\n",
       "      <td>1.282714</td>\n",
       "      <td>-0.265812</td>\n",
       "      <td>0.557160</td>\n",
       "      <td>-0.867883</td>\n",
       "      <td>-0.987329</td>\n",
       "      <td>-0.303094</td>\n",
       "      <td>0.211305</td>\n",
       "      <td>-1.208727</td>\n",
       "    </tr>\n",
       "    <tr>\n",
       "      <th>3</th>\n",
       "      <td>-1.127988</td>\n",
       "      <td>-0.487722</td>\n",
       "      <td>-1.306878</td>\n",
       "      <td>0.0</td>\n",
       "      <td>-0.835284</td>\n",
       "      <td>1.016303</td>\n",
       "      <td>-0.809889</td>\n",
       "      <td>1.077737</td>\n",
       "      <td>-0.752922</td>\n",
       "      <td>-1.106115</td>\n",
       "      <td>0.113032</td>\n",
       "      <td>0.213853</td>\n",
       "      <td>-1.361517</td>\n",
       "    </tr>\n",
       "    <tr>\n",
       "      <th>4</th>\n",
       "      <td>-0.955174</td>\n",
       "      <td>-0.487722</td>\n",
       "      <td>-1.306878</td>\n",
       "      <td>0.0</td>\n",
       "      <td>-0.835284</td>\n",
       "      <td>1.228577</td>\n",
       "      <td>-0.511180</td>\n",
       "      <td>1.077737</td>\n",
       "      <td>-0.752922</td>\n",
       "      <td>-1.106115</td>\n",
       "      <td>0.113032</td>\n",
       "      <td>0.217045</td>\n",
       "      <td>-1.026501</td>\n",
       "    </tr>\n",
       "  </tbody>\n",
       "</table>\n",
       "</div>"
      ],
      "text/plain": [
       "       CRIM        ZN     INDUS  CHAS       NOX        RM       AGE       DIS  \\\n",
       "0 -1.269348  0.284830 -1.287909   0.0 -0.144217  0.413672 -0.120013  0.140214   \n",
       "1 -1.154111 -0.487722 -0.593381   0.0 -0.740262  0.194274  0.367166  0.557160   \n",
       "2 -1.154215 -0.487722 -0.593381   0.0 -0.740262  1.282714 -0.265812  0.557160   \n",
       "3 -1.127988 -0.487722 -1.306878   0.0 -0.835284  1.016303 -0.809889  1.077737   \n",
       "4 -0.955174 -0.487722 -1.306878   0.0 -0.835284  1.228577 -0.511180  1.077737   \n",
       "\n",
       "        RAD       TAX   PTRATIO         B     LSTAT  \n",
       "0 -0.982843 -0.666608 -1.459000  0.217045 -1.075562  \n",
       "1 -0.867883 -0.987329 -0.303094  0.217045 -0.492439  \n",
       "2 -0.867883 -0.987329 -0.303094  0.211305 -1.208727  \n",
       "3 -0.752922 -1.106115  0.113032  0.213853 -1.361517  \n",
       "4 -0.752922 -1.106115  0.113032  0.217045 -1.026501  "
      ]
     },
     "execution_count": 73,
     "metadata": {},
     "output_type": "execute_result"
    }
   ],
   "source": [
    "scaler = StandardScaler()\n",
    "X_scaler = scaler.fit_transform(X[['CRIM', 'ZN', 'INDUS', 'CHAS', 'NOX', 'RM', 'AGE', 'DIS', 'RAD', 'TAX',\n",
    "       'PTRATIO', 'B', 'LSTAT']])\n",
    "X_scaler_df = pd.DataFrame(X_scaler, columns = ['CRIM', 'ZN', 'INDUS', 'CHAS', 'NOX', 'RM', 'AGE', 'DIS', 'RAD', 'TAX',\n",
    "       'PTRATIO', 'B', 'LSTAT'])\n",
    "X_scaler_df['CHAS'] = X['CHAS']\n",
    "X_scaler_df.head()"
   ]
  },
  {
   "cell_type": "code",
   "execution_count": 78,
   "id": "2852a597-1b78-4322-af3b-66f0681f6b77",
   "metadata": {},
   "outputs": [
    {
     "name": "stdout",
     "output_type": "stream",
     "text": [
      "LASSO : 0.0463\n"
     ]
    }
   ],
   "source": [
    "my_eval(X_scaler_df, y, models)"
   ]
  },
  {
   "cell_type": "markdown",
   "id": "e1fc125f-c0a7-4605-96ed-33e78f1478f9",
   "metadata": {},
   "source": [
    "## 아웃라이어 제거"
   ]
  },
  {
   "cell_type": "code",
   "execution_count": 81,
   "id": "d2e62c7c-4f2c-4b9f-8389-e1f042dcc42d",
   "metadata": {},
   "outputs": [
    {
     "data": {
      "text/plain": [
       "<AxesSubplot:xlabel='LSTAT', ylabel='log_price'>"
      ]
     },
     "execution_count": 81,
     "metadata": {},
     "output_type": "execute_result"
    },
    {
     "data": {
      "image/png": "[encoded data removed]",
      "text/plain": [
       "<Figure size 432x288 with 1 Axes>"
      ]
     },
     "metadata": {
      "needs_background": "light"
     },
     "output_type": "display_data"
    }
   ],
   "source": [
    "sns.scatterplot(y= y,x=  X_scaler_df['LSTAT'])"
   ]
  },
  {
   "cell_type": "code",
   "execution_count": 83,
   "id": "43cecca6-f2b7-4712-a56d-d21941026102",
   "metadata": {},
   "outputs": [
    {
     "data": {
      "text/html": [
       "<div>\n",
       "<style scoped>\n",
       "    .dataframe tbody tr th:only-of-type {\n",
       "        vertical-align: middle;\n",
       "    }\n",
       "\n",
       "    .dataframe tbody tr th {\n",
       "        vertical-align: top;\n",
       "    }\n",
       "\n",
       "    .dataframe thead th {\n",
       "        text-align: right;\n",
       "    }\n",
       "</style>\n",
       "<table border=\"1\" class=\"dataframe\">\n",
       "  <thead>\n",
       "    <tr style=\"text-align: right;\">\n",
       "      <th></th>\n",
       "      <th>CRIM</th>\n",
       "      <th>ZN</th>\n",
       "      <th>INDUS</th>\n",
       "      <th>CHAS</th>\n",
       "      <th>NOX</th>\n",
       "      <th>RM</th>\n",
       "      <th>AGE</th>\n",
       "      <th>DIS</th>\n",
       "      <th>RAD</th>\n",
       "      <th>TAX</th>\n",
       "      <th>PTRATIO</th>\n",
       "      <th>B</th>\n",
       "      <th>LSTAT</th>\n",
       "    </tr>\n",
       "  </thead>\n",
       "  <tbody>\n",
       "    <tr>\n",
       "      <th>374</th>\n",
       "      <td>1.581818</td>\n",
       "      <td>-0.487722</td>\n",
       "      <td>1.015999</td>\n",
       "      <td>0.0</td>\n",
       "      <td>0.978765</td>\n",
       "      <td>-3.058221</td>\n",
       "      <td>1.117494</td>\n",
       "      <td>-1.263551</td>\n",
       "      <td>1.661245</td>\n",
       "      <td>1.530926</td>\n",
       "      <td>0.806576</td>\n",
       "      <td>0.217045</td>\n",
       "      <td>3.548771</td>\n",
       "    </tr>\n",
       "    <tr>\n",
       "      <th>414</th>\n",
       "      <td>1.734398</td>\n",
       "      <td>-0.487722</td>\n",
       "      <td>1.015999</td>\n",
       "      <td>0.0</td>\n",
       "      <td>1.194724</td>\n",
       "      <td>-2.515426</td>\n",
       "      <td>1.117494</td>\n",
       "      <td>-1.015789</td>\n",
       "      <td>1.661245</td>\n",
       "      <td>1.530926</td>\n",
       "      <td>0.806576</td>\n",
       "      <td>-0.794128</td>\n",
       "      <td>3.409999</td>\n",
       "    </tr>\n",
       "  </tbody>\n",
       "</table>\n",
       "</div>"
      ],
      "text/plain": [
       "         CRIM        ZN     INDUS  CHAS       NOX        RM       AGE  \\\n",
       "374  1.581818 -0.487722  1.015999   0.0  0.978765 -3.058221  1.117494   \n",
       "414  1.734398 -0.487722  1.015999   0.0  1.194724 -2.515426  1.117494   \n",
       "\n",
       "          DIS       RAD       TAX   PTRATIO         B     LSTAT  \n",
       "374 -1.263551  1.661245  1.530926  0.806576  0.217045  3.548771  \n",
       "414 -1.015789  1.661245  1.530926  0.806576 -0.794128  3.409999  "
      ]
     },
     "execution_count": 83,
     "metadata": {},
     "output_type": "execute_result"
    }
   ],
   "source": [
    "# 아웃라이어\n",
    "X_scaler_df[X_scaler_df['LSTAT']>3.2]"
   ]
  },
  {
   "cell_type": "code",
   "execution_count": 84,
   "id": "e9dcf90a-8ef5-4571-821b-c77c9336e74c",
   "metadata": {},
   "outputs": [],
   "source": [
    "X_scaler_df.drop([374, 414], axis=0, inplace=True)"
   ]
  },
  {
   "cell_type": "code",
   "execution_count": 113,
   "id": "19a89508-e45c-4593-8394-31ff04ba4d71",
   "metadata": {},
   "outputs": [],
   "source": [
    "y = y.drop([374,414])"
   ]
  },
  {
   "cell_type": "code",
   "execution_count": 112,
   "id": "019b9ece-36cd-4cc0-9669-a723e04fd424",
   "metadata": {},
   "outputs": [
    {
     "data": {
      "text/plain": [
       "(504, 13)"
      ]
     },
     "execution_count": 112,
     "metadata": {},
     "output_type": "execute_result"
    }
   ],
   "source": []
  },
  {
   "cell_type": "code",
   "execution_count": 86,
   "id": "a3498b69-feea-40c1-9b9f-48777e6374bf",
   "metadata": {},
   "outputs": [
    {
     "name": "stdout",
     "output_type": "stream",
     "text": [
      "LASSO : 0.0360\n"
     ]
    }
   ],
   "source": [
    "# 아웃라이어 한두개 지우기만 해도 점수가 확 좋아진다.\n",
    "my_eval(X_scaler_df, y, models)"
   ]
  },
  {
   "cell_type": "markdown",
   "id": "8594beff-77c8-47fb-a561-88476ecdc5bd",
   "metadata": {},
   "source": [
    "# 5차 점수\n",
    "- 스케일링 해보고 아웃라이어만 제거해보자\n",
    "- cross_val_score() : cv=5회"
   ]
  },
  {
   "cell_type": "markdown",
   "id": "bdee9d4d-b811-4bd4-814e-e04a8380c23a",
   "metadata": {},
   "source": [
    "LASSO : 33.7313 ---- 0.1122 ----(a:0.001 0.0395) --> 0.0351(스케일러, 주요 coef_ : LSTAT 2rows 아웃라이어 삭제)"
   ]
  },
  {
   "cell_type": "code",
   "execution_count": 114,
   "id": "01e22025-f016-4178-a14a-244442104389",
   "metadata": {},
   "outputs": [],
   "source": [
    "scores = -1 * cross_val_score(Lasso(alpha=0.001), X_scaler_df, y, scoring = 'neg_mean_squared_error', cv=5).mean()"
   ]
  },
  {
   "cell_type": "code",
   "execution_count": 115,
   "id": "3cc48423-dca8-45ef-a969-fd333d2e5206",
   "metadata": {},
   "outputs": [
    {
     "data": {
      "text/plain": [
       "0.04504444798403479"
      ]
     },
     "execution_count": 115,
     "metadata": {},
     "output_type": "execute_result"
    }
   ],
   "source": [
    "scores"
   ]
  },
  {
   "cell_type": "code",
   "execution_count": null,
   "id": "b0890c93-b236-45aa-b38b-fb175f423c50",
   "metadata": {},
   "outputs": [],
   "source": []
  }
 ],
 "metadata": {
  "kernelspec": {
   "display_name": "Python 3 (ipykernel)",
   "language": "python",
   "name": "python3"
  },
  "language_info": {
   "codemirror_mode": {
    "name": "ipython",
    "version": 3
   },
   "file_extension": ".py",
   "mimetype": "text/x-python",
   "name": "python",
   "nbconvert_exporter": "python",
   "pygments_lexer": "ipython3",
   "version": "3.9.7"
  }
 },
 "nbformat": 4,
 "nbformat_minor": 5
}
