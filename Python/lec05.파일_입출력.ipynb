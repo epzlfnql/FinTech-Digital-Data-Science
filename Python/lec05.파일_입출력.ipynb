{
 "cells": [
  {
   "cell_type": "code",
   "execution_count": 1,
   "id": "19a5163f-e306-42d8-957b-e05bbe765fc0",
   "metadata": {},
   "outputs": [],
   "source": [
    "#-*- coding:utf-8 -*-"
   ]
  },
  {
   "cell_type": "code",
   "execution_count": 1,
   "id": "efc84a3e-27cb-4840-8127-d13a82ea7677",
   "metadata": {},
   "outputs": [
    {
     "name": "stdout",
     "output_type": "stream",
     "text": [
      "----done-----\n"
     ]
    }
   ],
   "source": [
    "news = ['완도 실종 일가족 차량 인양…내부서 주검 3구 확인',\n",
    "\t\t'한겨레',\n",
    "\t\t'1시간 전',\n",
    "\t\t'실종 조유나 양 가족 차량 물 밖으로 인양',\n",
    "\t\t'MBC뉴스']\n",
    "\n",
    "with open(\"./data/news_한글테스트.txt\", \"w\", encoding='utf-8') as f: # 새로 만들어준다.\n",
    "\tf.writelines(news) # 여러줄 다 입력\n",
    "\n",
    "print(\"----done-----\")"
   ]
  },
  {
   "cell_type": "markdown",
   "id": "e2487ec3-b67a-4bcb-b586-5bfca6e359d1",
   "metadata": {},
   "source": [
    "<font size=6><b> lec05. File I/O</b></font>\n",
    "* File read - Input\n",
    "* File write - Output"
   ]
  },
  {
   "cell_type": "markdown",
   "id": "c92c0777-5732-47c6-aaee-eeee9ef00cc4",
   "metadata": {},
   "source": [
    "# 파일 읽기 \n",
    "* f.readline() : 1줄\n",
    "* f.readlines() : n줄"
   ]
  },
  {
   "cell_type": "markdown",
   "id": "c58edc76-771a-4cf3-9365-541d51a5a8f9",
   "metadata": {},
   "source": [
    "## Access Mode"
   ]
  },
  {
   "cell_type": "markdown",
   "id": "2d7e164b-6c7e-495e-ac58-9d864ec98d4a",
   "metadata": {},
   "source": [
    "* r : read only\n",
    "* r+ : read + write\n",
    "* w : write only\n",
    "* w+ : read + write\n",
    "* a  : append only\n",
    "* a+  : append + read\n",
    "* ~ b : binary"
   ]
  },
  {
   "cell_type": "markdown",
   "id": "c891cdfd-0e48-4b55-a661-da556c04bdb1",
   "metadata": {
    "tags": []
   },
   "source": [
    "## strip() : 개행 삭제\n",
    "* 문장끝의 개행 삭제"
   ]
  },
  {
   "cell_type": "code",
   "execution_count": 2,
   "id": "9a44c742-d071-49b2-a009-074c476ad0cd",
   "metadata": {},
   "outputs": [
    {
     "data": {
      "text/plain": [
       "'완도 실종 일가족 차량 인양…내부서 주검 3구 확인'"
      ]
     },
     "execution_count": 2,
     "metadata": {},
     "output_type": "execute_result"
    }
   ],
   "source": [
    "sent = '완도 실종 일가족 차량 인양…내부서 주검 3구 확인\\n'\n",
    "sent[0:-1]"
   ]
  },
  {
   "cell_type": "code",
   "execution_count": 3,
   "id": "76bc219d-2e07-4bed-84a1-f369c7ada1e1",
   "metadata": {},
   "outputs": [
    {
     "data": {
      "text/plain": [
       "'완도 실종 일가족 차량 인양…내부서 주검 3구 확인'"
      ]
     },
     "execution_count": 3,
     "metadata": {},
     "output_type": "execute_result"
    }
   ],
   "source": [
    "sent = '완도 실종 일가족 차량 인양…내부서 주검 3구 확인\\n'\n",
    "sent.strip()"
   ]
  },
  {
   "cell_type": "markdown",
   "id": "6fe688fd-5ef7-45bb-ba57-7f8f22061443",
   "metadata": {
    "tags": []
   },
   "source": [
    "## f.readline() : 1줄 "
   ]
  },
  {
   "cell_type": "code",
   "execution_count": 4,
   "id": "ce966207-996d-4370-bd80-18b61c1780fe",
   "metadata": {},
   "outputs": [
    {
     "data": {
      "text/plain": [
       "True"
      ]
     },
     "execution_count": 4,
     "metadata": {},
     "output_type": "execute_result"
    }
   ],
   "source": [
    "bool(\"a\")"
   ]
  },
  {
   "cell_type": "markdown",
   "id": "569635f6-6502-4571-afd3-a83772206b5f",
   "metadata": {},
   "source": [
    "### while문 활용"
   ]
  },
  {
   "cell_type": "code",
   "execution_count": 6,
   "id": "8dba6ef0-0a71-401f-b02f-77992a212cc6",
   "metadata": {},
   "outputs": [
    {
     "data": {
      "text/plain": [
       "['완도 실종 일가족 차량 인양…내부서 주검 3구 확인',\n",
       " '한겨레',\n",
       " '1시간 전',\n",
       " '실종 조유나 양 가족 차량 물 밖으로 인양',\n",
       " 'MBC뉴스',\n",
       " '2시간 전',\n",
       " \"실종 조유나양 부모, 여행 전 인터넷서 '수면제-코인' 검색\",\n",
       " '뉴시스',\n",
       " '5시간 전',\n",
       " \"올들어 7차례나 체험학습…'실종 가족' 커지는 의문들\",\n",
       " '문화일보',\n",
       " '어제',\n",
       " '[단독]실종 일가족, ‘방파제 추락충격’ ‘완도 물 때’ 검색',\n",
       " '게임동아',\n",
       " '2시간 전']"
      ]
     },
     "execution_count": 6,
     "metadata": {},
     "output_type": "execute_result"
    }
   ],
   "source": [
    "# open(\"파일명\", \"모드\") \n",
    "f = open(\"./data/news_UTF8.txt\" , \"r\", encoding=\"UTF-8\")\n",
    "temp = []\n",
    "while True:\n",
    "    line = f.readline().strip()  #-------- 한줄 읽어서 개행삭제\n",
    "    if bool(line):  # line == ''  bool('') # 입력 라인이 계속 있으면\n",
    "        if line != '\\n': #단일 개행문자가 아닌 문장을 입력으로 받는 것만 append\n",
    "            temp.append(line)\n",
    "    else:\n",
    "        break\n",
    "temp\n"
   ]
  },
  {
   "cell_type": "markdown",
   "id": "e54fd809-f593-440c-85d3-3b407853f72f",
   "metadata": {},
   "source": [
    "### for문 활용 -- 죄송합니다 비추"
   ]
  },
  {
   "cell_type": "code",
   "execution_count": 7,
   "id": "2ba7d3f6-2ca5-4f48-9f08-56e406a2ad2f",
   "metadata": {},
   "outputs": [
    {
     "name": "stdout",
     "output_type": "stream",
     "text": [
      "29\n",
      "0 완도 실종 일가족 차량 인양…내부서 주검 3구 확인\n",
      "1 한겨레\n",
      "2 1시간 전\n",
      "3 실종 조유나 양 가족 차량 물 밖으로 인양\n",
      "4 MBC뉴스\n",
      "5 2시간 전\n",
      "6 실종 조유나양 부모, 여행 전 인터넷서 '수면제-코인' 검색\n",
      "7 뉴시스\n",
      "8 5시간 전\n",
      "9 올들어 7차례나 체험학습…'실종 가족' 커지는 의문들\n",
      "10 문화일보\n",
      "11 어제\n",
      "12 [단독]실종 일가족, ‘방파제 추락충격’ ‘완도 물 때’ 검색\n",
      "13 게임동아\n",
      "14 2시간 전\n",
      "15 \n",
      "16 자영업자 건보료 불공평 줄였지만…피부양자 개혁은 후퇴\n",
      "17 한국경제\n",
      "18 3시간 전\n",
      "19 연 소득 2000만 원 넘는 피부양자, 9월부터 건보료 낸다\n",
      "20 게임동아\n",
      "21 3시간 전\n",
      "22 \n",
      "23 윤 대통령, 기시다 日 총리 첫 대면…\"미래지향적 한일관계로\"\n",
      "24 KBS뉴스\n",
      "25 3시간 전\n",
      "26 김건희 촬영 머뭇거리자…스페인 국왕부부 동시에 \"이쪽으로\" - 조선일보\n",
      "27 The Chosunilbo\n",
      "28 3시간 전\n"
     ]
    }
   ],
   "source": [
    "# open(\"파일명\", \"모드\") \n",
    "f = open(\"./data/news_UTF8.txt\" , \"r\", encoding=\"UTF-8\")\n",
    "news = f.readlines()\n",
    "print ( len(news) )\n",
    "#----------------------------\n",
    "f = open(\"./data/news_UTF8.txt\" , \"r\", encoding=\"UTF-8\")\n",
    "for i in range(29) :\n",
    "    line = f.readline().strip()\n",
    "    #print(i, news[i])\n",
    "    print(i, line)"
   ]
  },
  {
   "cell_type": "code",
   "execution_count": 9,
   "id": "b1f6484c-ae93-4bfb-b2c1-a2c9787d148c",
   "metadata": {},
   "outputs": [
    {
     "data": {
      "text/plain": [
       "['완도 실종 일가족 차량 인양…내부서 주검 3구 확인\\n',\n",
       " '한겨레\\n',\n",
       " '1시간 전\\n',\n",
       " '실종 조유나 양 가족 차량 물 밖으로 인양\\n',\n",
       " 'MBC뉴스\\n',\n",
       " '2시간 전\\n',\n",
       " \"실종 조유나양 부모, 여행 전 인터넷서 '수면제-코인' 검색\\n\",\n",
       " '뉴시스\\n',\n",
       " '5시간 전\\n',\n",
       " \"올들어 7차례나 체험학습…'실종 가족' 커지는 의문들\\n\",\n",
       " '문화일보\\n',\n",
       " '어제\\n',\n",
       " '[단독]실종 일가족, ‘방파제 추락충격’ ‘완도 물 때’ 검색\\n',\n",
       " '게임동아\\n',\n",
       " '2시간 전\\n',\n",
       " '\\n',\n",
       " '자영업자 건보료 불공평 줄였지만…피부양자 개혁은 후퇴\\n',\n",
       " '한국경제\\n',\n",
       " '3시간 전\\n',\n",
       " '연 소득 2000만 원 넘는 피부양자, 9월부터 건보료 낸다\\n',\n",
       " '게임동아\\n',\n",
       " '3시간 전\\n',\n",
       " '\\n',\n",
       " '윤 대통령, 기시다 日 총리 첫 대면…\"미래지향적 한일관계로\"\\n',\n",
       " 'KBS뉴스\\n',\n",
       " '3시간 전\\n',\n",
       " '김건희 촬영 머뭇거리자…스페인 국왕부부 동시에 \"이쪽으로\" - 조선일보\\n',\n",
       " 'The Chosunilbo\\n',\n",
       " '3시간 전\\n']"
      ]
     },
     "execution_count": 9,
     "metadata": {},
     "output_type": "execute_result"
    }
   ],
   "source": [
    "# open(\"파일명\", \"모드\") \n",
    "f = open(\"./data/news_UTF8.txt\" , \"r\", encoding=\"UTF-8\")\n",
    "news = f.readlines()\n",
    "news"
   ]
  },
  {
   "cell_type": "markdown",
   "id": "cd1f760d-627a-4e56-bd5e-730ca4a27327",
   "metadata": {},
   "source": [
    "## f.readlines() : 여러줄"
   ]
  },
  {
   "cell_type": "markdown",
   "id": "d41039bc-44ea-494c-b504-b807ebb5d3f0",
   "metadata": {},
   "source": [
    "### for if 활용"
   ]
  },
  {
   "cell_type": "code",
   "execution_count": 10,
   "id": "bbeb3a11-7edc-44a9-94c4-2f9319a94ab8",
   "metadata": {},
   "outputs": [
    {
     "data": {
      "text/plain": [
       "['완도 실종 일가족 차량 인양…내부서 주검 3구 확인',\n",
       " '한겨레',\n",
       " '1시간 전',\n",
       " '실종 조유나 양 가족 차량 물 밖으로 인양',\n",
       " 'MBC뉴스',\n",
       " '2시간 전',\n",
       " \"실종 조유나양 부모, 여행 전 인터넷서 '수면제-코인' 검색\",\n",
       " '뉴시스',\n",
       " '5시간 전',\n",
       " \"올들어 7차례나 체험학습…'실종 가족' 커지는 의문들\",\n",
       " '문화일보',\n",
       " '어제',\n",
       " '[단독]실종 일가족, ‘방파제 추락충격’ ‘완도 물 때’ 검색',\n",
       " '게임동아',\n",
       " '2시간 전',\n",
       " '자영업자 건보료 불공평 줄였지만…피부양자 개혁은 후퇴',\n",
       " '한국경제',\n",
       " '3시간 전',\n",
       " '연 소득 2000만 원 넘는 피부양자, 9월부터 건보료 낸다',\n",
       " '게임동아',\n",
       " '3시간 전',\n",
       " '윤 대통령, 기시다 日 총리 첫 대면…\"미래지향적 한일관계로\"',\n",
       " 'KBS뉴스',\n",
       " '3시간 전',\n",
       " '김건희 촬영 머뭇거리자…스페인 국왕부부 동시에 \"이쪽으로\" - 조선일보',\n",
       " 'The Chosunilbo',\n",
       " '3시간 전']"
      ]
     },
     "execution_count": 10,
     "metadata": {},
     "output_type": "execute_result"
    }
   ],
   "source": [
    "f = open(\"./data/news_UTF8.txt\" , \"r\", encoding=\"UTF-8\")\n",
    "news = f.readlines()\n",
    "#----------------------------------\n",
    "temp = [line.strip() for line in news if line  != '\\n']\n",
    "temp"
   ]
  },
  {
   "cell_type": "code",
   "execution_count": 13,
   "id": "5f6150ef-4cf2-4188-b4c9-488cb4241cb8",
   "metadata": {},
   "outputs": [
    {
     "data": {
      "text/plain": [
       "['완도 실종 일가족 차량 인양…내부서 주검 3구 확인',\n",
       " '한겨레',\n",
       " '1시간 전',\n",
       " '실종 조유나 양 가족 차량 물 밖으로 인양',\n",
       " 'MBC뉴스',\n",
       " '2시간 전',\n",
       " \"실종 조유나양 부모, 여행 전 인터넷서 '수면제-코인' 검색\",\n",
       " '뉴시스',\n",
       " '5시간 전',\n",
       " \"올들어 7차례나 체험학습…'실종 가족' 커지는 의문들\",\n",
       " '문화일보',\n",
       " '어제',\n",
       " '[단독]실종 일가족, ‘방파제 추락충격’ ‘완도 물 때’ 검색',\n",
       " '게임동아',\n",
       " '2시간 전',\n",
       " '자영업자 건보료 불공평 줄였지만…피부양자 개혁은 후퇴',\n",
       " '한국경제',\n",
       " '3시간 전',\n",
       " '연 소득 2000만 원 넘는 피부양자, 9월부터 건보료 낸다',\n",
       " '게임동아',\n",
       " '3시간 전',\n",
       " '윤 대통령, 기시다 日 총리 첫 대면…\"미래지향적 한일관계로\"',\n",
       " 'KBS뉴스',\n",
       " '3시간 전',\n",
       " '김건희 촬영 머뭇거리자…스페인 국왕부부 동시에 \"이쪽으로\" - 조선일보',\n",
       " 'The Chosunilbo',\n",
       " '3시간 전']"
      ]
     },
     "execution_count": 13,
     "metadata": {},
     "output_type": "execute_result"
    }
   ],
   "source": [
    "f = open(\"./data/news_UTF8.txt\" , \"r\", encoding=\"UTF-8\")\n",
    "news = f.readlines()\n",
    "#----------------------------------\n",
    "temp = []\n",
    "for cnt, line in enumerate(news):\n",
    "    if line  != '\\n':\n",
    "        #print(cnt, line)\n",
    "        temp.append(line.strip()) # 모든 개행'\\n' 삭제 해준다.\n",
    "    # else:\n",
    "    #     print(cnt, line)\n",
    "temp"
   ]
  },
  {
   "cell_type": "code",
   "execution_count": 15,
   "id": "68ab9ceb-84dd-4659-b6fd-ecf3c6066066",
   "metadata": {},
   "outputs": [],
   "source": [
    "# 각각의 인덱스 번호를 하나 하나 지워야한다.\n",
    "# del news[15]\n",
    "# del news[22]"
   ]
  },
  {
   "cell_type": "code",
   "execution_count": 16,
   "id": "62838559-bb88-4e6c-a8fc-cbd7e2cba92d",
   "metadata": {},
   "outputs": [],
   "source": [
    "# 처음 찾은거 1개만 지운다\n",
    "# news.remove('\\n')\n",
    "# news"
   ]
  },
  {
   "cell_type": "markdown",
   "id": "04e37573-2d3b-4521-813c-16f3eece524d",
   "metadata": {},
   "source": [
    "### numpy 활용"
   ]
  },
  {
   "cell_type": "code",
   "execution_count": 17,
   "id": "6471af57-1922-4ac9-9e0e-f5b754b305d2",
   "metadata": {},
   "outputs": [],
   "source": [
    "import numpy as np"
   ]
  },
  {
   "cell_type": "code",
   "execution_count": 18,
   "id": "c98d5ca1-6d12-4995-87f9-b4e163c6d66d",
   "metadata": {},
   "outputs": [
    {
     "data": {
      "text/plain": [
       "True"
      ]
     },
     "execution_count": 18,
     "metadata": {},
     "output_type": "execute_result"
    }
   ],
   "source": [
    "\"\\n\" in news"
   ]
  },
  {
   "cell_type": "code",
   "execution_count": 22,
   "id": "80569d96-a309-4f18-b5cd-10ac4ed68393",
   "metadata": {},
   "outputs": [
    {
     "name": "stdout",
     "output_type": "stream",
     "text": [
      "29\n"
     ]
    }
   ],
   "source": [
    "print(len(news))"
   ]
  },
  {
   "cell_type": "code",
   "execution_count": 23,
   "id": "8735899d-e0ae-47ab-ba8f-2866a2512ece",
   "metadata": {},
   "outputs": [
    {
     "data": {
      "text/plain": [
       "['완도 실종 일가족 차량 인양…내부서 주검 3구 확인\\n',\n",
       " '한겨레\\n',\n",
       " '1시간 전\\n',\n",
       " '실종 조유나 양 가족 차량 물 밖으로 인양\\n',\n",
       " 'MBC뉴스\\n',\n",
       " '2시간 전\\n',\n",
       " \"실종 조유나양 부모, 여행 전 인터넷서 '수면제-코인' 검색\\n\",\n",
       " '뉴시스\\n',\n",
       " '5시간 전\\n',\n",
       " \"올들어 7차례나 체험학습…'실종 가족' 커지는 의문들\\n\",\n",
       " '문화일보\\n',\n",
       " '어제\\n',\n",
       " '[단독]실종 일가족, ‘방파제 추락충격’ ‘완도 물 때’ 검색\\n',\n",
       " '게임동아\\n',\n",
       " '2시간 전\\n',\n",
       " '\\n',\n",
       " '자영업자 건보료 불공평 줄였지만…피부양자 개혁은 후퇴\\n',\n",
       " '한국경제\\n',\n",
       " '3시간 전\\n',\n",
       " '연 소득 2000만 원 넘는 피부양자, 9월부터 건보료 낸다\\n',\n",
       " '게임동아\\n',\n",
       " '3시간 전\\n',\n",
       " '\\n',\n",
       " '윤 대통령, 기시다 日 총리 첫 대면…\"미래지향적 한일관계로\"\\n',\n",
       " 'KBS뉴스\\n',\n",
       " '3시간 전\\n',\n",
       " '김건희 촬영 머뭇거리자…스페인 국왕부부 동시에 \"이쪽으로\" - 조선일보\\n',\n",
       " 'The Chosunilbo\\n',\n",
       " '3시간 전\\n']"
      ]
     },
     "execution_count": 23,
     "metadata": {},
     "output_type": "execute_result"
    }
   ],
   "source": [
    "news"
   ]
  },
  {
   "cell_type": "code",
   "execution_count": 27,
   "id": "62d02b90-1760-4bce-9e08-a4b509edd4e0",
   "metadata": {},
   "outputs": [
    {
     "name": "stdout",
     "output_type": "stream",
     "text": [
      "true\n",
      "true\n",
      "true\n",
      "true\n",
      "true\n",
      "true\n",
      "true\n",
      "true\n",
      "true\n",
      "true\n",
      "true\n",
      "true\n",
      "true\n",
      "true\n",
      "true\n",
      "true\n",
      "true\n",
      "true\n",
      "true\n",
      "true\n",
      "true\n",
      "true\n",
      "true\n",
      "true\n",
      "true\n",
      "true\n",
      "true\n",
      "true\n",
      "true\n"
     ]
    }
   ],
   "source": [
    "for i in news:\n",
    "    if '\\n' in news:\n",
    "        print('true')"
   ]
  },
  {
   "cell_type": "code",
   "execution_count": 19,
   "id": "eb9625b7-373f-4919-89f1-7f542a9f4252",
   "metadata": {},
   "outputs": [
    {
     "data": {
      "text/plain": [
       "array([False, False, False, False, False, False, False, False, False,\n",
       "       False, False, False, False, False, False,  True, False, False,\n",
       "       False, False, False, False,  True, False, False, False, False,\n",
       "       False, False])"
      ]
     },
     "execution_count": 19,
     "metadata": {},
     "output_type": "execute_result"
    }
   ],
   "source": [
    "np.isin(news, \"\\n\") # 완전히 똑같아야 하나보다."
   ]
  },
  {
   "cell_type": "markdown",
   "id": "9df0d5fd-e51c-4345-923d-86ac52fa58c1",
   "metadata": {},
   "source": [
    "* 개행\\n 찾아서 해당 인덱스로 일괄 삭제"
   ]
  },
  {
   "cell_type": "code",
   "execution_count": null,
   "id": "4358b2f0-8575-4f47-8107-741a97abb36a",
   "metadata": {},
   "outputs": [],
   "source": []
  },
  {
   "cell_type": "code",
   "execution_count": 28,
   "id": "9d73ea85-91b2-439f-8e46-b17fbf487607",
   "metadata": {},
   "outputs": [
    {
     "name": "stdout",
     "output_type": "stream",
     "text": [
      "[15 22]\n"
     ]
    },
    {
     "data": {
      "text/plain": [
       "array(['완도 실종 일가족 차량 인양…내부서 주검 3구 확인\\n', '한겨레\\n', '1시간 전\\n',\n",
       "       '실종 조유나 양 가족 차량 물 밖으로 인양\\n', 'MBC뉴스\\n', '2시간 전\\n',\n",
       "       \"실종 조유나양 부모, 여행 전 인터넷서 '수면제-코인' 검색\\n\", '뉴시스\\n', '5시간 전\\n',\n",
       "       \"올들어 7차례나 체험학습…'실종 가족' 커지는 의문들\\n\", '문화일보\\n', '어제\\n',\n",
       "       '[단독]실종 일가족, ‘방파제 추락충격’ ‘완도 물 때’ 검색\\n', '게임동아\\n', '2시간 전\\n',\n",
       "       '자영업자 건보료 불공평 줄였지만…피부양자 개혁은 후퇴\\n', '한국경제\\n', '3시간 전\\n',\n",
       "       '연 소득 2000만 원 넘는 피부양자, 9월부터 건보료 낸다\\n', '게임동아\\n', '3시간 전\\n',\n",
       "       '윤 대통령, 기시다 日 총리 첫 대면…\"미래지향적 한일관계로\"\\n', 'KBS뉴스\\n', '3시간 전\\n',\n",
       "       '김건희 촬영 머뭇거리자…스페인 국왕부부 동시에 \"이쪽으로\" - 조선일보\\n', 'The Chosunilbo\\n',\n",
       "       '3시간 전\\n'], dtype='<U40')"
      ]
     },
     "execution_count": 28,
     "metadata": {},
     "output_type": "execute_result"
    }
   ],
   "source": [
    "f = open(\"./data/news_UTF8.txt\" , \"r\", encoding=\"UTF-8\")\n",
    "news = f.readlines()\n",
    "#----------------------------------\n",
    "news_arr = np.array(news)\n",
    "idx = np.where(  np.isin(news_arr, \"\\n\") == True)[0]\n",
    "print(idx)\n",
    "news_arr = np.delete(news_arr, idx)\n",
    "news_arr"
   ]
  },
  {
   "cell_type": "markdown",
   "id": "1be46cc1-6a9c-428b-8215-782e8e294a29",
   "metadata": {},
   "source": [
    "* 개행\\n 찾아서 해당 인덱스 빼고 다 가져오기"
   ]
  },
  {
   "cell_type": "code",
   "execution_count": 17,
   "id": "603af26c-e7ed-4ae8-856c-8d4a08367ea0",
   "metadata": {},
   "outputs": [
    {
     "name": "stdout",
     "output_type": "stream",
     "text": [
      "[ 0  1  2  3  4  5  6  7  8  9 10 11 12 13 14 16 17 18 19 20 21 23 24 25\n",
      " 26 27 28]\n"
     ]
    },
    {
     "data": {
      "text/plain": [
       "array(['완도 실종 일가족 차량 인양…내부서 주검 3구 확인\\n', '한겨레\\n', '1시간 전\\n',\n",
       "       '실종 조유나 양 가족 차량 물 밖으로 인양\\n', 'MBC뉴스\\n', '2시간 전\\n',\n",
       "       \"실종 조유나양 부모, 여행 전 인터넷서 '수면제-코인' 검색\\n\", '뉴시스\\n', '5시간 전\\n',\n",
       "       \"올들어 7차례나 체험학습…'실종 가족' 커지는 의문들\\n\", '문화일보\\n', '어제\\n',\n",
       "       '[단독]실종 일가족, ‘방파제 추락충격’ ‘완도 물 때’ 검색\\n', '게임동아\\n', '2시간 전\\n',\n",
       "       '자영업자 건보료 불공평 줄였지만…피부양자 개혁은 후퇴\\n', '한국경제\\n', '3시간 전\\n',\n",
       "       '연 소득 2000만 원 넘는 피부양자, 9월부터 건보료 낸다\\n', '게임동아\\n', '3시간 전\\n',\n",
       "       '윤 대통령, 기시다 日 총리 첫 대면…\"미래지향적 한일관계로\"\\n', 'KBS뉴스\\n', '3시간 전\\n',\n",
       "       '김건희 촬영 머뭇거리자…스페인 국왕부부 동시에 \"이쪽으로\" - 조선일보\\n', 'The Chosunilbo\\n',\n",
       "       '3시간 전완도 실종 일가족 차량 인양…내부서 주검 3구 확인한겨레1시간 전실종 조유나 양 가족 차량 물 밖으로 인양MBC뉴스'],\n",
       "      dtype='<U69')"
      ]
     },
     "execution_count": 17,
     "metadata": {},
     "output_type": "execute_result"
    }
   ],
   "source": [
    "f = open(\"./data/news_UTF8.txt\" , \"r\", encoding=\"UTF-8\")\n",
    "news = f.readlines()\n",
    "#----------------------------------\n",
    "news_arr = np.array(news)\n",
    "idx = np.where(  np.isin(news_arr, \"\\n\") == False)[0]\n",
    "print(idx)\n",
    "news_arr[idx]"
   ]
  },
  {
   "cell_type": "markdown",
   "id": "ae820f5b-5f88-4368-b1a8-91e9bbf1f756",
   "metadata": {},
   "source": [
    "# 파일 쓰기 \n",
    "* f.write() : 1줄\n",
    "* f.writelines() : n줄"
   ]
  },
  {
   "cell_type": "code",
   "execution_count": 18,
   "id": "d683b7f8-a808-4917-aac8-354fa96a93c5",
   "metadata": {},
   "outputs": [],
   "source": [
    "f = open(\"./data/test.txt\", \"w\")\n",
    "f.write(\"abcde\")\n",
    "f.close()"
   ]
  },
  {
   "cell_type": "markdown",
   "id": "10d90348-4656-4586-b7dc-5a13caa2204e",
   "metadata": {},
   "source": [
    "## with ~ as\n",
    "* 로직 수행 후 자동 close() "
   ]
  },
  {
   "cell_type": "markdown",
   "id": "54f1335f-cc33-43e0-81d6-6e6e7373a90d",
   "metadata": {},
   "source": [
    "## f. write() : 1줄 "
   ]
  },
  {
   "cell_type": "code",
   "execution_count": 19,
   "id": "e311ed53-88f3-4fc2-9a0a-29e8d48d3ee5",
   "metadata": {},
   "outputs": [
    {
     "name": "stdout",
     "output_type": "stream",
     "text": [
      "----done-----\n"
     ]
    }
   ],
   "source": [
    "with open(\"./data/test2.txt\", \"w\") as f:\n",
    "    f.write(\"abcde\\n\")\n",
    "    f.write(\"abcde\\n\")\n",
    "    f.write(\"abcde\\n\")\n",
    "    f.write(\"abcde\\n\")\n",
    "    f.write(\"abcde\\n\")\n",
    "\n",
    "print(\"----done-----\")    "
   ]
  },
  {
   "cell_type": "markdown",
   "id": "ed3802fb-793f-4f73-aa8c-638cdf308aa9",
   "metadata": {},
   "source": [
    "* 이전 파일에 추가로 쓰기 (\"a\")"
   ]
  },
  {
   "cell_type": "code",
   "execution_count": 20,
   "id": "7100523b-dddc-46b6-98c4-956569ecb9a4",
   "metadata": {},
   "outputs": [
    {
     "name": "stdout",
     "output_type": "stream",
     "text": [
      "----done-----\n"
     ]
    }
   ],
   "source": [
    "with open(\"./data/test2.txt\", \"a\") as f:\n",
    "    f.write(\"hello\\n\")\n",
    "    f.write(\"hello\\n\")\n",
    "\n",
    "print(\"----done-----\")    "
   ]
  },
  {
   "cell_type": "markdown",
   "id": "4526ac3b-453f-4e3b-9258-7f3548559ffc",
   "metadata": {},
   "source": [
    "## f. writelines( 리스트 ) : 여러줄 "
   ]
  },
  {
   "cell_type": "code",
   "execution_count": 21,
   "id": "357c7cab-bfdf-4f26-a466-bb47b8897b13",
   "metadata": {},
   "outputs": [
    {
     "name": "stdout",
     "output_type": "stream",
     "text": [
      "----done-----\n"
     ]
    }
   ],
   "source": [
    "news = ['완도 실종 일가족 차량 인양…내부서 주검 3구 확인',\n",
    "         '한겨레',\n",
    "         '1시간 전',\n",
    "         '실종 조유나 양 가족 차량 물 밖으로 인양',\n",
    "         'MBC뉴스']\n",
    "\n",
    "# euc-kr --- cp949  vs. utf-8\n",
    "with open(\"./data/test2.txt\", \"a\", encoding=\"utf-8\") as f:\n",
    "    f.writelines(news)\n",
    "    \n",
    "print(\"----done-----\")  "
   ]
  },
  {
   "cell_type": "markdown",
   "id": "5b93fd62-ecd0-4e9d-baf2-f9974cabb270",
   "metadata": {},
   "source": [
    "# 파일 카피"
   ]
  },
  {
   "cell_type": "markdown",
   "id": "7e04660b-762c-4857-be35-46164cb6bcd3",
   "metadata": {},
   "source": [
    "* 다음과 같이 출력\n",
    "\n",
    "<pre>\n",
    "seq     regid       regdate     title\n",
    "----    --------    --------    --------\n",
    "1       한겨레        1시간     전완도 실종 일가족 차량 인양…내부서 주검 3구 확인\n",
    "2       MBC뉴스       2시간      실종 조유나 양 가족 차량 물 밖으로 인양\n"
   ]
  },
  {
   "cell_type": "code",
   "execution_count": 22,
   "id": "46168e8e-a6f2-4d0e-8cad-7ec5d83db9e6",
   "metadata": {},
   "outputs": [
    {
     "name": "stdout",
     "output_type": "stream",
     "text": [
      "seq\tregid\t\t\tregdate\t\t\ttitle\n",
      "____\t______\t\t\t______\t\t\t______\n",
      "1\t한겨레\t\t\t1시간\t\t\t완도 실종 일가족 차량 인양…내부서 주검 3구 확인\n",
      "2\tMBC뉴스\t\t\t2시간\t\t\t실종 조유나 양 가족 차량 물 밖으로 인양\n",
      "3\t뉴시스\t\t\t5시간\t\t\t실종 조유나양 부모, 여행 전 인터넷서 '수면제-코인' 검색\n",
      "4\t문화일보\t\t\t어제\t\t\t올들어 7차례나 체험학습…'실종 가족' 커지는 의문들\n",
      "5\t게임동아\t\t\t2시간\t\t\t[단독]실종 일가족, ‘방파제 추락충격’ ‘완도 물 때’ 검색\n",
      "6\t한국경제\t\t\t3시간\t\t\t자영업자 건보료 불공평 줄였지만…피부양자 개혁은 후퇴\n",
      "7\t게임동아\t\t\t3시간\t\t\t연 소득 2000만 원 넘는 피부양자, 9월부터 건보료 낸다\n",
      "8\tKBS뉴스\t\t\t3시간\t\t\t윤 대통령, 기시다 日 총리 첫 대면…\"미래지향적 한일관계로\"\n",
      "9\tThe Chosunilbo\t\t\t3시간\t\t\t김건희 촬영 머뭇거리자…스페인 국왕부부 동시에 \"이쪽으로\" - 조선일보\n"
     ]
    }
   ],
   "source": [
    "f = open('./data/news_UTF8.txt', 'r', encoding='UTF-8')\n",
    "news = f.readlines()\n",
    "temp=[line.strip() for line in news if line != '\\n']\n",
    "print('seq', end = '\\t')\n",
    "print('regid',end = '\\t\\t\\t')\n",
    "print('regdate',end = '\\t\\t\\t')\n",
    "print('title')\n",
    "print('____',end = '\\t')\n",
    "print('______',end = '\\t\\t\\t')\n",
    "print('______',end = '\\t\\t\\t')\n",
    "print('______',)\n",
    "for i , k in enumerate(range(0,len(temp),3)):\n",
    "    print('%d'%(1+i),end = '\\t')\n",
    "    \n",
    "    print('%s'%(temp[k+1]), end = '\\t\\t\\t')\n",
    "    print('%s'%(temp[k+2][0:3]), end = '\\t\\t\\t')\n",
    "    print(temp[k])\n"
   ]
  },
  {
   "cell_type": "code",
   "execution_count": 23,
   "id": "0b1613bf-0aea-49fd-8ccd-5b67a6c62947",
   "metadata": {},
   "outputs": [
    {
     "name": "stdout",
     "output_type": "stream",
     "text": [
      "0 완도 실종 일가족 차량 인양…내부서 주검 3구 확인\n",
      "1 한겨레\n",
      "2 1시간 전\n",
      "3 실종 조유나 양 가족 차량 물 밖으로 인양\n",
      "4 MBC뉴스\n",
      "5 2시간 전\n",
      "6 실종 조유나양 부모, 여행 전 인터넷서 '수면제-코인' 검색\n",
      "7 뉴시스\n",
      "8 5시간 전\n",
      "9 올들어 7차례나 체험학습…'실종 가족' 커지는 의문들\n",
      "10 문화일보\n",
      "11 어제\n",
      "12 [단독]실종 일가족, ‘방파제 추락충격’ ‘완도 물 때’ 검색\n",
      "13 게임동아\n",
      "14 2시간 전\n",
      "15 자영업자 건보료 불공평 줄였지만…피부양자 개혁은 후퇴\n",
      "16 한국경제\n",
      "17 3시간 전\n",
      "18 연 소득 2000만 원 넘는 피부양자, 9월부터 건보료 낸다\n",
      "19 게임동아\n",
      "20 3시간 전\n",
      "21 윤 대통령, 기시다 日 총리 첫 대면…\"미래지향적 한일관계로\"\n",
      "22 KBS뉴스\n",
      "23 3시간 전\n",
      "24 김건희 촬영 머뭇거리자…스페인 국왕부부 동시에 \"이쪽으로\" - 조선일보\n",
      "25 The Chosunilbo\n",
      "26 3시간 전완도 실종 일가족 차량 인양…내부서 주검 3구 확인한겨레1시간 전실종 조유나 양 가족 차량 물 밖으로 인양MBC뉴스\n",
      "총 27 건\n",
      "seq\t\t regid\t\t regdate\t title\n",
      "-----\t\t -----\t\t -----\t\t -----\n",
      "0\t\t한겨레\t\t1시간 전\t\t완도 실종 일가족 차량 인양…내부서 주검 3구 확인\n",
      "3\t\tMBC뉴스\t\t2시간 전\t\t실종 조유나 양 가족 차량 물 밖으로 인양\n",
      "6\t\t뉴시스\t\t5시간 전\t\t실종 조유나양 부모, 여행 전 인터넷서 '수면제-코인' 검색\n",
      "9\t\t문화일보\t\t어제\t\t올들어 7차례나 체험학습…'실종 가족' 커지는 의문들\n",
      "12\t\t게임동아\t\t2시간 전\t\t[단독]실종 일가족, ‘방파제 추락충격’ ‘완도 물 때’ 검색\n",
      "15\t\t한국경제\t\t3시간 전\t\t자영업자 건보료 불공평 줄였지만…피부양자 개혁은 후퇴\n",
      "18\t\t게임동아\t\t3시간 전\t\t연 소득 2000만 원 넘는 피부양자, 9월부터 건보료 낸다\n",
      "21\t\tKBS뉴스\t\t3시간 전\t\t윤 대통령, 기시다 日 총리 첫 대면…\"미래지향적 한일관계로\"\n",
      "24\t\tThe Chosunilbo\t\t3시간 전완도 실종 일가족 차량 인양…내부서 주검 3구 확인한겨레1시간 전실종 조유나 양 가족 차량 물 밖으로 인양MBC뉴스\t\t김건희 촬영 머뭇거리자…스페인 국왕부부 동시에 \"이쪽으로\" - 조선일보\n"
     ]
    }
   ],
   "source": [
    "f = open(\"./data/news_UTF8.txt\" , \"r\", encoding=\"UTF-8\")\n",
    "news = f.readlines()\n",
    "news_list = [line.strip() for line in news if line  != '\\n']\n",
    "for i,v in enumerate(news_list):\n",
    "    print(i, v)\n",
    "    \n",
    "# ----------------------------------\n",
    "print(f\"총 {len(news_list)} 건\")\n",
    "print(f\"seq\\t\\t regid\\t\\t regdate\\t title\")\n",
    "print(f\"-----\\t\\t -----\\t\\t -----\\t\\t -----\")\n",
    "# ----------------------------------\n",
    "cnt = 0\n",
    "while True:\n",
    "    print(cnt             , end=\"\\t\\t\") \n",
    "    print(news_list[cnt+1], end=\"\\t\\t\")\n",
    "    print(news_list[cnt+2], end=\"\\t\\t\")\n",
    "    print(news_list[cnt])\n",
    "    cnt +=3\n",
    "    if cnt >= len(news_list):\n",
    "        break      "
   ]
  },
  {
   "cell_type": "code",
   "execution_count": 24,
   "id": "665e2045-9bd5-4dbf-b58e-13d18d049421",
   "metadata": {},
   "outputs": [
    {
     "name": "stdout",
     "output_type": "stream",
     "text": [
      "seq\t\t regid\t\t regdate\t title\n",
      "-----\t\t -----\t\t -----\t\t -----\n",
      "1\t\t완도 실종 일가족 차량 인양…내부서 주검 3구 확인\t\t한겨레\t\t1시간 전\n",
      "2\t\t실종 조유나 양 가족 차량 물 밖으로 인양\t\tMBC뉴스\t\t2시간 전\n",
      "3\t\t실종 조유나양 부모, 여행 전 인터넷서 '수면제-코인' 검색\t\t뉴시스\t\t5시간 전\n",
      "4\t\t올들어 7차례나 체험학습…'실종 가족' 커지는 의문들\t\t문화일보\t\t어제\n",
      "5\t\t[단독]실종 일가족, ‘방파제 추락충격’ ‘완도 물 때’ 검색\t\t게임동아\t\t2시간 전\n",
      "6\t\t자영업자 건보료 불공평 줄였지만…피부양자 개혁은 후퇴\t\t한국경제\t\t3시간 전\n",
      "7\t\t연 소득 2000만 원 넘는 피부양자, 9월부터 건보료 낸다\t\t게임동아\t\t3시간 전\n",
      "8\t\t윤 대통령, 기시다 日 총리 첫 대면…\"미래지향적 한일관계로\"\t\tKBS뉴스\t\t3시간 전\n",
      "9\t\t김건희 촬영 머뭇거리자…스페인 국왕부부 동시에 \"이쪽으로\" - 조선일보\t\tThe Chosunilbo\t\t3시간 전완도 실종 일가족 차량 인양…내부서 주검 3구 확인한겨레1시간 전실종 조유나 양 가족 차량 물 밖으로 인양MBC뉴스\n"
     ]
    }
   ],
   "source": [
    "f = open(\"./data/news_UTF8.txt\" , \"r\", encoding=\"UTF-8\")\n",
    "news = f.readlines()\n",
    "news_list = [line.strip() for line in news if line  != '\\n']\n",
    "# ----------------------------------\n",
    "tcnt = len(news_list)\n",
    "title_idx   = list(range(0, len(news_list), 3))\n",
    "regid_idx   = list(range(1, len(news_list), 3))\n",
    "regdate_idx = list(range(2, len(news_list), 3))\n",
    "# ----------------------------------\n",
    "print(f\"seq\\t\\t regid\\t\\t regdate\\t title\")\n",
    "print(f\"-----\\t\\t -----\\t\\t -----\\t\\t -----\")\n",
    "for cnt , val in enumerate(title_idx):\n",
    "    print(cnt+1,        end=\"\\t\\t\") \n",
    "    print(news_list[title_idx[cnt]],   end=\"\\t\\t\")\n",
    "    print(news_list[regid_idx[cnt]], end=\"\\t\\t\")\n",
    "    print(news_list[regdate_idx[cnt]])\n",
    "    "
   ]
  },
  {
   "cell_type": "code",
   "execution_count": 25,
   "id": "691743cc-0a60-4bd2-a0fd-0ab422404b8b",
   "metadata": {},
   "outputs": [
    {
     "name": "stdout",
     "output_type": "stream",
     "text": [
      "['완도 실종 일가족 차량 인양…내부서 주검 3구 확인', '한겨레', '1시간 전', '실종 조유나 양 가족 차량 물 밖으로 인양', 'MBC뉴스', '2시간 전', \"실종 조유나양 부모, 여행 전 인터넷서 '수면제-코인' 검색\", '뉴시스', '5시간 전', \"올들어 7차례나 체험학습…'실종 가족' 커지는 의문들\", '문화일보', '어제', '[단독]실종 일가족, ‘방파제 추락충격’ ‘완도 물 때’ 검색', '게임동아', '2시간 전', '자영업자 건보료 불공평 줄였지만…피부양자 개혁은 후퇴', '한국경제', '3시간 전', '연 소득 2000만 원 넘는 피부양자, 9월부터 건보료 낸다', '게임동아', '3시간 전', '윤 대통령, 기시다 日 총리 첫 대면…\"미래지향적 한일관계로\"', 'KBS뉴스', '3시간 전', '김건희 촬영 머뭇거리자…스페인 국왕부부 동시에 \"이쪽으로\" - 조선일보', 'The Chosunilbo', '3시간 전완도 실종 일가족 차량 인양…내부서 주검 3구 확인한겨레1시간 전실종 조유나 양 가족 차량 물 밖으로 인양MBC뉴스']\n",
      "seq\t\t regid\t\t regdate\t title\n",
      "-----\t\t -----\t\t -----\t\t -----\n",
      "1\t\t한겨레\t\t1시간 전\t\t완도 실종 일가족 차량 인양…내부서 주검 3구 확인\n",
      "2\t\tMBC뉴스\t\t2시간 전\t\t실종 조유나 양 가족 차량 물 밖으로 인양\n",
      "3\t\t뉴시스\t\t5시간 전\t\t실종 조유나양 부모, 여행 전 인터넷서 '수면제-코인' 검색\n",
      "4\t\t문화일보\t\t어제\t\t올들어 7차례나 체험학습…'실종 가족' 커지는 의문들\n",
      "5\t\t게임동아\t\t2시간 전\t\t[단독]실종 일가족, ‘방파제 추락충격’ ‘완도 물 때’ 검색\n",
      "6\t\t한국경제\t\t3시간 전\t\t자영업자 건보료 불공평 줄였지만…피부양자 개혁은 후퇴\n",
      "7\t\t게임동아\t\t3시간 전\t\t연 소득 2000만 원 넘는 피부양자, 9월부터 건보료 낸다\n",
      "8\t\tKBS뉴스\t\t3시간 전\t\t윤 대통령, 기시다 日 총리 첫 대면…\"미래지향적 한일관계로\"\n",
      "9\t\tThe Chosunilbo\t\t3시간 전완도 실종 일가족 차량 인양…내부서 주검 3구 확인한겨레1시간 전실종 조유나 양 가족 차량 물 밖으로 인양MBC뉴스\t\t김건희 촬영 머뭇거리자…스페인 국왕부부 동시에 \"이쪽으로\" - 조선일보\n"
     ]
    }
   ],
   "source": [
    "f = open(\"./data/news_UTF8.txt\" , \"r\", encoding=\"UTF-8\")\n",
    "news = f.readlines()\n",
    "news_list = [line.strip() for line in news if line  != '\\n']\n",
    "print(news_list)\n",
    "# ----------------------------------\n",
    "title = [val for cnt, val in enumerate(news_list) if cnt%3 == 0 ]\n",
    "regid = [val for cnt, val in enumerate(news_list) if cnt%3 == 1 ]\n",
    "regdate = [val for cnt, val in enumerate(news_list) if cnt%3 == 2 ]\n",
    "\n",
    "# ----------------------------------\n",
    "print(f\"seq\\t\\t regid\\t\\t regdate\\t title\")\n",
    "print(f\"-----\\t\\t -----\\t\\t -----\\t\\t -----\")\n",
    "for cnt , val in enumerate(title):\n",
    "    print(cnt+1,        end=\"\\t\\t\")\n",
    "    print(regid[cnt],   end=\"\\t\\t\")\n",
    "    print(regdate[cnt], end=\"\\t\\t\")\n",
    "    print(title[cnt])\n",
    "    "
   ]
  },
  {
   "cell_type": "markdown",
   "id": "3002b67c-fa38-44d5-9348-5a514b4d9ed8",
   "metadata": {},
   "source": [
    "# 디렉토리\n",
    "* 존재유무\n",
    "* 디렉토리 파일 체크\n",
    "* 속성 (확장자, 권한체크, 생성날짜, 파일크기)"
   ]
  },
  {
   "cell_type": "markdown",
   "id": "85699a3e-7e56-42a6-b03f-9c86debf191a",
   "metadata": {},
   "source": [
    "<pre>\n",
    "* os.path.isdir(\"폴더\")\n",
    "* os.path.exists(\"폴더\")\n",
    "* os.makedirs(\"폴더\", exist_ok=True)  ----FileExistError\n",
    "* os.path.join(경로1, 경로2)\n",
    "* os.listdir(\"폴더\")\n",
    "* 삭제\n",
    "    : 파일      os.remove(\"폴더/파일1개.txt\")       \n",
    "    : 빈폴더    os.rmdir(\"폴더\")                   \n",
    "    : 폴더+파일 shutil.rmtree(\"폴더\")\n",
    "* shutil.copyfile(src, dst)\n",
    "  <img src=\"https://img1.daumcdn.net/thumb/R1280x0/?scode=mtistory2&fname=https%3A%2F%2Fblog.kakaocdn.net%2Fdn%2FbvJqbC%2FbtqThZN90wN%2FPI0XQWPsbKcuMnVqyTTJR0%2Fimg.png\" width=400>"
   ]
  },
  {
   "cell_type": "code",
   "execution_count": 26,
   "id": "3debb181-d28c-41e5-b9ff-d3ec82f97b3c",
   "metadata": {},
   "outputs": [],
   "source": [
    "# 예: \n",
    "# with open(join(root_dir, 'A', 'read.txt'), 'w') as w:\n",
    "#     w.write(\"read.txt\")"
   ]
  },
  {
   "cell_type": "markdown",
   "id": "5fae2368-ab6a-47c2-9778-f139aabf412a",
   "metadata": {},
   "source": [
    "## 현재 위치 파악하기\n",
    "* 절대 경로(absolute path) : C:\\IT\\\n",
    "* 상대 경로(relative path) : .  .."
   ]
  },
  {
   "cell_type": "code",
   "execution_count": 27,
   "id": "aa9b8361-8a13-4fa9-b63f-4a5ac22ced87",
   "metadata": {},
   "outputs": [],
   "source": [
    "import os"
   ]
  },
  {
   "cell_type": "code",
   "execution_count": 28,
   "id": "ccd23636-a7e1-45d0-ba6a-49df5fbf993d",
   "metadata": {},
   "outputs": [
    {
     "data": {
      "text/plain": [
       "'C:\\\\AI\\\\pythonProject7\\\\venv\\\\pkg'"
      ]
     },
     "execution_count": 28,
     "metadata": {},
     "output_type": "execute_result"
    }
   ],
   "source": [
    "# 절대경로\n",
    "os.getcwd()"
   ]
  },
  {
   "cell_type": "code",
   "execution_count": 29,
   "id": "1f4b84e6-8d6b-4b8d-a0e7-0514418355f6",
   "metadata": {},
   "outputs": [
    {
     "data": {
      "text/plain": [
       "'C:\\\\AI\\\\pythonProject7\\\\venv\\\\pkg'"
      ]
     },
     "execution_count": 29,
     "metadata": {},
     "output_type": "execute_result"
    }
   ],
   "source": [
    "# 상대경로를 이용해 절대경로 찾기\n",
    "os.path.abspath(\".\")"
   ]
  },
  {
   "cell_type": "code",
   "execution_count": 30,
   "id": "74df3cf6-8cc6-43b3-8f7c-f5f00afd7fd2",
   "metadata": {},
   "outputs": [
    {
     "data": {
      "text/plain": [
       "'C:\\\\AI\\\\pythonProject7\\\\venv'"
      ]
     },
     "execution_count": 30,
     "metadata": {},
     "output_type": "execute_result"
    }
   ],
   "source": [
    "os.path.abspath(\"..\")"
   ]
  },
  {
   "cell_type": "code",
   "execution_count": 31,
   "id": "7df9a60c-7b0f-49a3-a070-50ce7c6a59e4",
   "metadata": {},
   "outputs": [
    {
     "data": {
      "text/plain": [
       "'C:\\\\AI\\\\pythonProject7'"
      ]
     },
     "execution_count": 31,
     "metadata": {},
     "output_type": "execute_result"
    }
   ],
   "source": [
    "os.path.abspath(\"../..\")"
   ]
  },
  {
   "cell_type": "markdown",
   "id": "712f4f45-0376-40f0-a7c8-d8f206fa07e4",
   "metadata": {},
   "source": [
    "## 해당 위치의 폴더 & 파일 목록 보기"
   ]
  },
  {
   "cell_type": "code",
   "execution_count": 32,
   "id": "bb487a4b-a006-418f-ac36-b3ee449c3877",
   "metadata": {},
   "outputs": [
    {
     "data": {
      "text/plain": [
       "[<DirEntry '.ipynb_checkpoints'>,\n",
       " <DirEntry 'aa.txt'>,\n",
       " <DirEntry 'data'>,\n",
       " <DirEntry 'data2'>,\n",
       " <DirEntry 'data3'>,\n",
       " <DirEntry 'dsdd.py'>,\n",
       " <DirEntry 'dslslsdlsls.py'>,\n",
       " <DirEntry 'img'>,\n",
       " <DirEntry 'lec00쥬피터사용.ipynb'>,\n",
       " <DirEntry 'lec01.변수_lkh.ipynb'>,\n",
       " <DirEntry 'lec02.조건문_반복문_lkh.ipynb'>,\n",
       " <DirEntry 'lec03.리스트_튜플_딕트_A.ipynb'>,\n",
       " <DirEntry 'lec03.리스트_튜플_딕트_lkh.ipynb'>,\n",
       " <DirEntry 'lec03.퀴즈_lkh.ipynb'>,\n",
       " <DirEntry 'lec04.함수.ipynb'>,\n",
       " <DirEntry 'lec05.파일_입출력_lkh.ipynb'>,\n",
       " <DirEntry 'lec06.오라클_입출력.ipynb'>,\n",
       " <DirEntry 'lec07.numpy_lkh.ipynb'>,\n",
       " <DirEntry 'lec07.numpy_카피카피.ipynb'>,\n",
       " <DirEntry 'lec08.pandas.ipynb'>,\n",
       " <DirEntry 'lec09.차트.ipynb'>,\n",
       " <DirEntry 'lec10.외부_공공포털.ipynb'>,\n",
       " <DirEntry 'lec11.외부_크롤링.ipynb'>,\n",
       " <DirEntry 'lec12.flask.ipynb'>,\n",
       " <DirEntry 'lec22_시간.ipynb'>,\n",
       " <DirEntry 'sdfsdfdsfdss.py'>,\n",
       " <DirEntry '__init__.py'>]"
      ]
     },
     "execution_count": 32,
     "metadata": {},
     "output_type": "execute_result"
    }
   ],
   "source": [
    "path = os.path.abspath(\".\")\n",
    "list(os.scandir(path))"
   ]
  },
  {
   "cell_type": "code",
   "execution_count": 33,
   "id": "d635562f-06c5-42b9-91fe-d93ffedf9fff",
   "metadata": {},
   "outputs": [
    {
     "name": "stdout",
     "output_type": "stream",
     "text": [
      "1656571957.4800873\n",
      "2022-06-30 15:52:37.480087\n",
      "2022-06-30 15:52:37\n"
     ]
    }
   ],
   "source": [
    "from datetime import datetime as dt\n",
    "print (  os.path.getmtime('data2')  )   # 1656571957.4800873\n",
    "\n",
    "mtime = dt.fromtimestamp(1656571957.4800873)\n",
    "print ( mtime   )\n",
    "print (  mtime.strftime (\"%Y-%m-%d %H:%M:%S\")  )"
   ]
  },
  {
   "cell_type": "code",
   "execution_count": 65,
   "id": "bc517163-b4ce-467c-8fa7-905737dfc929",
   "metadata": {},
   "outputs": [
    {
     "name": "stdout",
     "output_type": "stream",
     "text": [
      "C:\\AI\\pythonProject7\\venv\\pkg\n",
      "d-----\t\t 2022-06-30 17:06:28\t\t0\t\t.ipynb_checkpoints\n",
      "d-----\t\t 2022-06-30 17:04:42\t\t4096\t\tdata\n",
      "d-----\t\t 2022-06-30 17:16:49\t\t0\t\tdata33\n",
      "------\t\t 2022-06-29 15:52:57\t\t630\t\tdsdd.py\n",
      "------\t\t 2022-06-29 17:41:51\t\t335\t\tdslslsdlsls.py\n",
      "d-----\t\t 2022-06-23 12:48:52\t\t0\t\timg\n",
      "------\t\t 2022-06-23 13:09:02\t\t12373\t\tlec00쥬피터사용.ipynb\n",
      "------\t\t 2022-06-27 16:50:48\t\t30512\t\tlec01.변수_lkh.ipynb\n",
      "------\t\t 2022-06-27 11:23:16\t\t31914\t\tlec02.조건문_반복문_lkh.ipynb\n",
      "------\t\t 2022-06-24 18:21:55\t\t15367\t\tlec03.리스트_튜플_딕트_A.ipynb\n",
      "------\t\t 2022-06-29 11:24:02\t\t28444\t\tlec03.리스트_튜플_딕트_lkh.ipynb\n",
      "------\t\t 2022-06-28 17:30:17\t\t16086\t\tlec03.퀴즈_lkh.ipynb\n",
      "------\t\t 2022-06-23 12:08:14\t\t616\t\tlec04.함수.ipynb\n",
      "------\t\t 2022-06-30 17:17:11\t\t58226\t\tlec05.파일_입출력_lkh.ipynb\n",
      "------\t\t 2022-06-23 12:08:19\t\t616\t\tlec06.오라클_입출력.ipynb\n",
      "------\t\t 2022-06-30 14:34:46\t\t39004\t\tlec07.numpy_lkh.ipynb\n",
      "------\t\t 2022-06-29 12:01:52\t\t26716\t\tlec07.numpy_카피카피.ipynb\n",
      "------\t\t 2022-06-23 12:08:15\t\t616\t\tlec08.pandas.ipynb\n",
      "------\t\t 2022-06-23 12:08:15\t\t616\t\tlec09.차트.ipynb\n",
      "------\t\t 2022-06-23 12:08:15\t\t616\t\tlec10.외부_공공포털.ipynb\n",
      "------\t\t 2022-06-23 12:08:15\t\t616\t\tlec11.외부_크롤링.ipynb\n",
      "------\t\t 2022-06-23 12:08:15\t\t616\t\tlec12.flask.ipynb\n",
      "------\t\t 2022-06-30 16:09:37\t\t13295\t\tlec22_시간.ipynb\n",
      "------\t\t 2022-06-27 16:15:01\t\t240\t\tsdfsdfdsfdss.py\n",
      "------\t\t 2022-06-23 16:52:13\t\t3993\t\t__init__.py\n"
     ]
    }
   ],
   "source": [
    "path = os.path.abspath(\".\")\n",
    "print(path)\n",
    "#-----------------------------------------------------------------------\n",
    "# dlist = os.listdir(\"C:\\AI\\pythonProject7\\venv\\pkg\")\n",
    "dlist = os.listdir(path)\n",
    "# print(dlist)\n",
    "for val in dlist:\n",
    "    dt_ts   = os.path.getmtime(val)\n",
    "    dt_ymd  = dt.fromtimestamp(dt_ts)\n",
    "    str_ymd = dt_ymd.strftime (\"%Y-%m-%d %H:%M:%S\")\n",
    "    # str_ymd = dt_ymd.strftime (\"%Y-%m-%d %p %I:%M:%S\")\n",
    "    size = os.path.getsize(val)\n",
    "    if os.path.isdir(val) :\n",
    "        print(f\"d-----\\t\\t {str_ymd}\\t\\t{size}\\t\\t{val}\")\n",
    "    elif os.path.isfile(val) :\n",
    "        print(f\"------\\t\\t {str_ymd}\\t\\t{size}\\t\\t{val}\")"
   ]
  },
  {
   "cell_type": "markdown",
   "id": "44055315-4dde-49ba-b3ba-0ff31d88cc2d",
   "metadata": {},
   "source": [
    "## 파일 속성"
   ]
  },
  {
   "cell_type": "code",
   "execution_count": 35,
   "id": "f53c7b3e-fa98-4032-8a4d-56b3a7d5cd50",
   "metadata": {},
   "outputs": [
    {
     "name": "stdout",
     "output_type": "stream",
     "text": [
      "os.stat_result(st_mode=33206, st_ino=1970324837490979, st_dev=168314453, st_nlink=1, st_uid=0, st_gid=0, st_size=616, st_atime=1655953695, st_mtime=1655953695, st_ctime=1655952682)\n"
     ]
    },
    {
     "data": {
      "text/plain": [
       "616"
      ]
     },
     "execution_count": 35,
     "metadata": {},
     "output_type": "execute_result"
    }
   ],
   "source": [
    "print(os.stat('lec10.외부_공공포털.ipynb'))\n",
    "os.stat('lec10.외부_공공포털.ipynb').st_size"
   ]
  },
  {
   "cell_type": "code",
   "execution_count": 36,
   "id": "739b5ea8-8732-41f1-846c-3e1783009580",
   "metadata": {},
   "outputs": [
    {
     "data": {
      "text/plain": [
       "616"
      ]
     },
     "execution_count": 36,
     "metadata": {},
     "output_type": "execute_result"
    }
   ],
   "source": [
    "os.path.getsize('lec10.외부_공공포털.ipynb')"
   ]
  },
  {
   "cell_type": "markdown",
   "id": "56e46f62-3650-4669-bb0d-b7e3769935ed",
   "metadata": {
    "tags": []
   },
   "source": [
    "## 파일&폴더 생성"
   ]
  },
  {
   "cell_type": "markdown",
   "id": "b09169b8-31b8-410f-a9b8-8ec16f3609a2",
   "metadata": {},
   "source": [
    "* 입력받기 : input()"
   ]
  },
  {
   "cell_type": "code",
   "execution_count": null,
   "id": "499d91db-a50a-4f22-805f-83ddd351194e",
   "metadata": {},
   "outputs": [
    {
     "name": "stdin",
     "output_type": "stream",
     "text": [
      "생성할 폴더명 입력: 10\n"
     ]
    },
    {
     "name": "stdout",
     "output_type": "stream",
     "text": [
      "15 <class 'str'>\n"
     ]
    }
   ],
   "source": [
    "# name = input(\"생성할 폴더명 입력:\")\n",
    "# print(int(prm)+5 , type(prm))"
   ]
  },
  {
   "cell_type": "markdown",
   "id": "6b380fad-a72e-4355-bae6-5f4c66eed76f",
   "metadata": {},
   "source": [
    "* 폴더 생성 \n",
    "* os.makedirs(\"폴더명\")"
   ]
  },
  {
   "cell_type": "code",
   "execution_count": 41,
   "id": "685869c6-580e-4c5e-8307-186cd96784ab",
   "metadata": {},
   "outputs": [
    {
     "name": "stdin",
     "output_type": "stream",
     "text": [
      "생성할 폴더명 입력: data5\n"
     ]
    },
    {
     "name": "stdout",
     "output_type": "stream",
     "text": [
      "--- 생성되었습니다----\n"
     ]
    }
   ],
   "source": [
    "name = input(\"생성할 폴더명 입력:\")\n",
    "if os.path.exists(name) == False:  #만들려는 대상이 있습니까?\n",
    "    os.makedirs(name)\n",
    "    print(\"--- 생성되었습니다----\")  \n",
    "else:\n",
    "    print(\"--- 이미 있습니다 ----\")   "
   ]
  },
  {
   "cell_type": "markdown",
   "id": "d375612e-7aa8-4581-aa33-2251c9ee7615",
   "metadata": {},
   "source": [
    "* 파일 생성"
   ]
  },
  {
   "cell_type": "code",
   "execution_count": 47,
   "id": "dbfed07e-a54e-4602-9f41-3a621280f49c",
   "metadata": {},
   "outputs": [],
   "source": [
    "open(\"aaa__2.txt\", \"a\").close()"
   ]
  },
  {
   "cell_type": "markdown",
   "id": "665892bc-45fc-4ba1-8c5a-481101789c45",
   "metadata": {},
   "source": [
    "## 파일&폴더 삭제\n",
    "* 파일      os.remove(\"폴더/파일1개.txt\")       \n",
    "* 빈폴더    os.rmdir(\"폴더\")                   \n",
    "* 폴더+파일 shutil.rmtree(\"폴더\")"
   ]
  },
  {
   "cell_type": "markdown",
   "id": "d719a38d-9634-4fae-9233-e5b558095f9c",
   "metadata": {},
   "source": [
    "* 파일 삭제"
   ]
  },
  {
   "cell_type": "code",
   "execution_count": 49,
   "id": "42e2c0d2-a36c-4116-880c-673f986d44ab",
   "metadata": {},
   "outputs": [],
   "source": [
    "os.remove(\"aaa.txt\")"
   ]
  },
  {
   "cell_type": "markdown",
   "id": "c9fab67e-8966-4b81-88cb-a0fae1abcad8",
   "metadata": {},
   "source": [
    "* 빈폴더 삭제"
   ]
  },
  {
   "cell_type": "code",
   "execution_count": 50,
   "id": "bf7c32fa-34a8-4818-8b2e-1037ada6907a",
   "metadata": {},
   "outputs": [],
   "source": [
    "os.rmdir(\"data2\")"
   ]
  },
  {
   "cell_type": "markdown",
   "id": "c1bdc681-2a0a-4807-96bf-990185d61de4",
   "metadata": {},
   "source": [
    "* 내용물이 있는 폴더 삭제"
   ]
  },
  {
   "cell_type": "code",
   "execution_count": 52,
   "id": "a401dcac-ca58-4693-a3b7-bfb5c94855b2",
   "metadata": {},
   "outputs": [],
   "source": [
    "# 에러 ___ 디렉터리가 비어 있지 않습니다\n",
    "# os.rmdir(\"data5\")  "
   ]
  },
  {
   "cell_type": "code",
   "execution_count": 64,
   "id": "0dc5342e-b1ab-483e-ba74-152d24cdaf87",
   "metadata": {},
   "outputs": [
    {
     "data": {
      "text/plain": [
       "0"
      ]
     },
     "execution_count": 64,
     "metadata": {},
     "output_type": "execute_result"
    }
   ],
   "source": [
    "os.path.getsize(\"data33\")"
   ]
  },
  {
   "cell_type": "code",
   "execution_count": 45,
   "id": "15bc9a59-4368-4b64-b068-0e2b22a72af7",
   "metadata": {},
   "outputs": [
    {
     "ename": "KeyboardInterrupt",
     "evalue": "Interrupted by user",
     "output_type": "error",
     "traceback": [
      "\u001b[1;31m---------------------------------------------------------------------------\u001b[0m",
      "\u001b[1;31mKeyboardInterrupt\u001b[0m                         Traceback (most recent call last)",
      "Input \u001b[1;32mIn [45]\u001b[0m, in \u001b[0;36m<cell line: 2>\u001b[1;34m()\u001b[0m\n\u001b[0;32m      1\u001b[0m \u001b[38;5;28;01mimport\u001b[39;00m \u001b[38;5;21;01mshutil\u001b[39;00m\n\u001b[1;32m----> 2\u001b[0m name \u001b[38;5;241m=\u001b[39m \u001b[38;5;28;43minput\u001b[39;49m\u001b[43m(\u001b[49m\u001b[38;5;124;43m\"\u001b[39;49m\u001b[38;5;124;43m삭제할 폴더나 파일명 입력\u001b[39;49m\u001b[38;5;124;43m\"\u001b[39;49m\u001b[43m)\u001b[49m\n\u001b[0;32m      3\u001b[0m \u001b[38;5;28;01mif\u001b[39;00m os\u001b[38;5;241m.\u001b[39mpath\u001b[38;5;241m.\u001b[39mexists(name)\u001b[38;5;241m==\u001b[39m \u001b[38;5;28;01mTrue\u001b[39;00m:  \u001b[38;5;66;03m#삭제 대상이 있습니까?\u001b[39;00m\n\u001b[0;32m      4\u001b[0m     size \u001b[38;5;241m=\u001b[39m os\u001b[38;5;241m.\u001b[39mpath\u001b[38;5;241m.\u001b[39mgetsize(name)\n",
      "File \u001b[1;32mc:\\it\\pythonproject\\venv\\lib\\site-packages\\ipykernel\\kernelbase.py:1177\u001b[0m, in \u001b[0;36mKernel.raw_input\u001b[1;34m(self, prompt)\u001b[0m\n\u001b[0;32m   1173\u001b[0m \u001b[38;5;28;01mif\u001b[39;00m \u001b[38;5;129;01mnot\u001b[39;00m \u001b[38;5;28mself\u001b[39m\u001b[38;5;241m.\u001b[39m_allow_stdin:\n\u001b[0;32m   1174\u001b[0m     \u001b[38;5;28;01mraise\u001b[39;00m StdinNotImplementedError(\n\u001b[0;32m   1175\u001b[0m         \u001b[38;5;124m\"\u001b[39m\u001b[38;5;124mraw_input was called, but this frontend does not support input requests.\u001b[39m\u001b[38;5;124m\"\u001b[39m\n\u001b[0;32m   1176\u001b[0m     )\n\u001b[1;32m-> 1177\u001b[0m \u001b[38;5;28;01mreturn\u001b[39;00m \u001b[38;5;28;43mself\u001b[39;49m\u001b[38;5;241;43m.\u001b[39;49m\u001b[43m_input_request\u001b[49m\u001b[43m(\u001b[49m\n\u001b[0;32m   1178\u001b[0m \u001b[43m    \u001b[49m\u001b[38;5;28;43mstr\u001b[39;49m\u001b[43m(\u001b[49m\u001b[43mprompt\u001b[49m\u001b[43m)\u001b[49m\u001b[43m,\u001b[49m\n\u001b[0;32m   1179\u001b[0m \u001b[43m    \u001b[49m\u001b[38;5;28;43mself\u001b[39;49m\u001b[38;5;241;43m.\u001b[39;49m\u001b[43m_parent_ident\u001b[49m\u001b[43m[\u001b[49m\u001b[38;5;124;43m\"\u001b[39;49m\u001b[38;5;124;43mshell\u001b[39;49m\u001b[38;5;124;43m\"\u001b[39;49m\u001b[43m]\u001b[49m\u001b[43m,\u001b[49m\n\u001b[0;32m   1180\u001b[0m \u001b[43m    \u001b[49m\u001b[38;5;28;43mself\u001b[39;49m\u001b[38;5;241;43m.\u001b[39;49m\u001b[43mget_parent\u001b[49m\u001b[43m(\u001b[49m\u001b[38;5;124;43m\"\u001b[39;49m\u001b[38;5;124;43mshell\u001b[39;49m\u001b[38;5;124;43m\"\u001b[39;49m\u001b[43m)\u001b[49m\u001b[43m,\u001b[49m\n\u001b[0;32m   1181\u001b[0m \u001b[43m    \u001b[49m\u001b[43mpassword\u001b[49m\u001b[38;5;241;43m=\u001b[39;49m\u001b[38;5;28;43;01mFalse\u001b[39;49;00m\u001b[43m,\u001b[49m\n\u001b[0;32m   1182\u001b[0m \u001b[43m\u001b[49m\u001b[43m)\u001b[49m\n",
      "File \u001b[1;32mc:\\it\\pythonproject\\venv\\lib\\site-packages\\ipykernel\\kernelbase.py:1219\u001b[0m, in \u001b[0;36mKernel._input_request\u001b[1;34m(self, prompt, ident, parent, password)\u001b[0m\n\u001b[0;32m   1216\u001b[0m             \u001b[38;5;28;01mbreak\u001b[39;00m\n\u001b[0;32m   1217\u001b[0m \u001b[38;5;28;01mexcept\u001b[39;00m \u001b[38;5;167;01mKeyboardInterrupt\u001b[39;00m:\n\u001b[0;32m   1218\u001b[0m     \u001b[38;5;66;03m# re-raise KeyboardInterrupt, to truncate traceback\u001b[39;00m\n\u001b[1;32m-> 1219\u001b[0m     \u001b[38;5;28;01mraise\u001b[39;00m \u001b[38;5;167;01mKeyboardInterrupt\u001b[39;00m(\u001b[38;5;124m\"\u001b[39m\u001b[38;5;124mInterrupted by user\u001b[39m\u001b[38;5;124m\"\u001b[39m) \u001b[38;5;28;01mfrom\u001b[39;00m \u001b[38;5;28mNone\u001b[39m\n\u001b[0;32m   1220\u001b[0m \u001b[38;5;28;01mexcept\u001b[39;00m \u001b[38;5;167;01mException\u001b[39;00m:\n\u001b[0;32m   1221\u001b[0m     \u001b[38;5;28mself\u001b[39m\u001b[38;5;241m.\u001b[39mlog\u001b[38;5;241m.\u001b[39mwarning(\u001b[38;5;124m\"\u001b[39m\u001b[38;5;124mInvalid Message:\u001b[39m\u001b[38;5;124m\"\u001b[39m, exc_info\u001b[38;5;241m=\u001b[39m\u001b[38;5;28;01mTrue\u001b[39;00m)\n",
      "\u001b[1;31mKeyboardInterrupt\u001b[0m: Interrupted by user"
     ]
    }
   ],
   "source": [
    "import shutil\n",
    "name = input(\"삭제할 폴더나 파일명 입력\")\n",
    "if os.path.exists(name)== True:  #삭제 대상이 있습니까?\n",
    "    size = os.path.getsize(name)\n",
    "    if size == 0:\n",
    "        os.rmdir(name) \n",
    "        print(\"-----삭제완료-------\")\n",
    "    else :\n",
    "        print(\"폴더가 비워있지 않습니다\")\n",
    "        ans = input(\"그래도 삭제하시겠습니까? (y/n)\")\n",
    "        if ans in [\"y\",\"Y\"] :\n",
    "            shutil.rmtree(name)\n",
    "            print(\"-----삭제완료-------\")\n",
    "        else:\n",
    "            print(\"-----다시시도-------\")"
   ]
  },
  {
   "cell_type": "code",
   "execution_count": 61,
   "id": "d15122d7-9029-4b5d-b7b8-0e0e8b292516",
   "metadata": {},
   "outputs": [
    {
     "name": "stdin",
     "output_type": "stream",
     "text": [
      "삭제할 폴더나 파일명 입력 data3\n"
     ]
    },
    {
     "name": "stdout",
     "output_type": "stream",
     "text": [
      "-----삭제완료-------\n"
     ]
    }
   ],
   "source": [
    "import shutil\n",
    "name = input(\"삭제할 폴더나 파일명 입력\")\n",
    "if os.path.exists(name)== True:  #삭제 대상이 있습니까?\n",
    "    shutil.rmtree(name)\n",
    "    print(\"-----삭제완료-------\")\n",
    "else :\n",
    "    print(\"지정된 경로를 찾을 수 없습니다\")"
   ]
  },
  {
   "cell_type": "markdown",
   "id": "cce64483-6540-4077-93c3-3ce4e10f7991",
   "metadata": {},
   "source": [
    "# 완성본"
   ]
  },
  {
   "cell_type": "code",
   "execution_count": 42,
   "id": "7814686d-6566-45c5-a5d5-efccc3098d18",
   "metadata": {},
   "outputs": [
    {
     "name": "stdout",
     "output_type": "stream",
     "text": [
      "C:\\AI\\pythonProject7\\venv\\pkg\n"
     ]
    },
    {
     "name": "stdin",
     "output_type": "stream",
     "text": [
      "생성할 폴더명 입력: data6\n"
     ]
    },
    {
     "name": "stdout",
     "output_type": "stream",
     "text": [
      "--- 생성되었습니다----\n",
      "d-----\t\t 2022-06-30 16:05:36\t\t8192\t\t.ipynb_checkpoints\n",
      "d-----\t\t 2022-06-30 15:53:46\t\t0\t\taa.txt\n",
      "d-----\t\t 2022-06-29 17:51:13\t\t4096\t\tdata\n",
      "d-----\t\t 2022-06-30 15:52:37\t\t0\t\tdata2\n",
      "d-----\t\t 2022-06-30 15:53:34\t\t0\t\tdata3\n",
      "d-----\t\t 2022-06-30 16:45:13\t\t0\t\tdata5\n",
      "d-----\t\t 2022-06-30 16:47:02\t\t0\t\tdata6\n",
      "------\t\t 2022-06-29 15:52:57\t\t630\t\tdsdd.py\n",
      "------\t\t 2022-06-29 17:41:51\t\t335\t\tdslslsdlsls.py\n",
      "d-----\t\t 2022-06-23 12:48:52\t\t0\t\timg\n",
      "------\t\t 2022-06-23 13:09:02\t\t12373\t\tlec00쥬피터사용.ipynb\n",
      "------\t\t 2022-06-27 16:50:48\t\t30512\t\tlec01.변수_lkh.ipynb\n",
      "------\t\t 2022-06-27 11:23:16\t\t31914\t\tlec02.조건문_반복문_lkh.ipynb\n",
      "------\t\t 2022-06-24 18:21:55\t\t15367\t\tlec03.리스트_튜플_딕트_A.ipynb\n",
      "------\t\t 2022-06-29 11:24:02\t\t28444\t\tlec03.리스트_튜플_딕트_lkh.ipynb\n",
      "------\t\t 2022-06-28 17:30:17\t\t16086\t\tlec03.퀴즈_lkh.ipynb\n",
      "------\t\t 2022-06-23 12:08:14\t\t616\t\tlec04.함수.ipynb\n",
      "------\t\t 2022-06-30 16:46:46\t\t50889\t\tlec05.파일_입출력_lkh.ipynb\n",
      "------\t\t 2022-06-23 12:08:19\t\t616\t\tlec06.오라클_입출력.ipynb\n",
      "------\t\t 2022-06-30 14:34:46\t\t39004\t\tlec07.numpy_lkh.ipynb\n",
      "------\t\t 2022-06-29 12:01:52\t\t26716\t\tlec07.numpy_카피카피.ipynb\n",
      "------\t\t 2022-06-23 12:08:15\t\t616\t\tlec08.pandas.ipynb\n",
      "------\t\t 2022-06-23 12:08:15\t\t616\t\tlec09.차트.ipynb\n",
      "------\t\t 2022-06-23 12:08:15\t\t616\t\tlec10.외부_공공포털.ipynb\n",
      "------\t\t 2022-06-23 12:08:15\t\t616\t\tlec11.외부_크롤링.ipynb\n",
      "------\t\t 2022-06-23 12:08:15\t\t616\t\tlec12.flask.ipynb\n",
      "------\t\t 2022-06-30 16:09:37\t\t13295\t\tlec22_시간.ipynb\n",
      "------\t\t 2022-06-27 16:15:01\t\t240\t\tsdfsdfdsfdss.py\n",
      "------\t\t 2022-06-23 16:52:13\t\t3993\t\t__init__.py\n"
     ]
    }
   ],
   "source": [
    "path = os.path.abspath(\".\")\n",
    "print(path)\n",
    "#-----------------------------------------------------------------------\n",
    "\n",
    "name = input(\"생성할 폴더명 입력:\")\n",
    "if os.path.exists(name) == False:  #만들려는 대상이 있습니까?\n",
    "    os.makedirs(name)\n",
    "    print(\"--- 생성되었습니다----\")  \n",
    "    dlist = os.listdir(path)\n",
    "    # print(dlist)\n",
    "    for val in dlist:\n",
    "        dt_ts   = os.path.getmtime(val)\n",
    "        dt_ymd  = dt.fromtimestamp(dt_ts)\n",
    "        str_ymd = dt_ymd.strftime (\"%Y-%m-%d %H:%M:%S\")\n",
    "        size = os.path.\n",
    "        \n",
    "        (val)\n",
    "        if os.path.isdir(val) :\n",
    "            print(f\"d-----\\t\\t {str_ymd}\\t\\t{size}\\t\\t{val}\")\n",
    "        elif os.path.isfile(val) :\n",
    "            print(f\"------\\t\\t {str_ymd}\\t\\t{size}\\t\\t{val}\")\n",
    "    \n",
    "else:\n",
    "    print(\"--- 이미 있습니다 ----\")   \n",
    "    \n",
    "    \n",
    "\n"
   ]
  },
  {
   "cell_type": "code",
   "execution_count": null,
   "id": "fdadb723-dff8-4b1d-a9e4-d67f1c3d5323",
   "metadata": {},
   "outputs": [],
   "source": [
    "다음과 같이 구동되는 프로그램 작성\n",
    "ㅡㅡㅡㅡㅡㅡㅡㅡㅡㅡ\n",
    "메뉴 번호를 선택하세요\n",
    "1 저장\n",
    "2 삭제\n",
    "Q 프로그램종료\n",
    "ㅡㅡㅡㅡㅡㅡㅡㅡㅡㅡ\n",
    "메뉴:__1__  #input입력받기\n",
    "저장되었습니다 \n",
    "\n",
    "메뉴:__2__  #input입력받기\n",
    "삭제되었습니다 \n",
    "\n",
    "메뉴:__1__  #input입력받기\n",
    "저장되었습니다 \n",
    "\n",
    "메뉴:__1__  #input입력받기\n",
    "저장되었습니다 \n",
    "\n",
    "메뉴:__q__  #input입력받기\n",
    "====done====\n"
   ]
  },
  {
   "cell_type": "code",
   "execution_count": 35,
   "id": "e437ffd5-6d9b-4722-904f-dcccef1aa9ea",
   "metadata": {},
   "outputs": [
    {
     "name": "stdout",
     "output_type": "stream",
     "text": [
      "----------\n",
      "1 저장\n",
      "2 삭제\n",
      "Q 프로그램종료\n",
      "----------\n"
     ]
    },
    {
     "name": "stdin",
     "output_type": "stream",
     "text": [
      "메뉴: 1\n"
     ]
    },
    {
     "name": "stdout",
     "output_type": "stream",
     "text": [
      "저장되었습니다\n",
      "\n"
     ]
    },
    {
     "name": "stdin",
     "output_type": "stream",
     "text": [
      "메뉴: 2\n"
     ]
    },
    {
     "name": "stdout",
     "output_type": "stream",
     "text": [
      "삭제되었습니다\n",
      "\n"
     ]
    },
    {
     "name": "stdin",
     "output_type": "stream",
     "text": [
      "메뉴: q\n"
     ]
    },
    {
     "name": "stdout",
     "output_type": "stream",
     "text": [
      "====done====\n"
     ]
    }
   ],
   "source": [
    "# print('메뉴 번호를 선택하세요')\n",
    "print('----------')\n",
    "print('1 저장')\n",
    "print('2 삭제')\n",
    "print('Q 프로그램종료')\n",
    "print('----------')\n",
    "while(True):\n",
    "    a = input('메뉴:')\n",
    "    if a=='1':\n",
    "        print('저장되었습니다')\n",
    "        print()\n",
    "    elif a =='2':\n",
    "        print('삭제되었습니다')\n",
    "        print()\n",
    "    elif a=='q':\n",
    "        print('====done====')\n",
    "        break\n",
    "    else:\n",
    "        continue"
   ]
  },
  {
   "cell_type": "markdown",
   "id": "b0e082a9-cec4-4b58-8017-1de8c0dfe7b5",
   "metadata": {},
   "source": [
    "## 명령어\n",
    "* 현재위치보기 : pwd \n",
    "* 폴더로이동 : cd 폴더명( ..  이름\n",
    "* --------------------------------R\n",
    "* 목록보기 : dir\n",
    "* --------------------------------C\n",
    "* 파일생성 : echo 이건테스트 > aaa.txt\n",
    "* 폴더생성 : mkdir testdir\n",
    "* 파일카피 : aaa.txt aaa2.txt\n",
    "* 폴더로카피 : aaa.txt  testdir\n",
    "* --------------------------------U\n",
    "* 파일이동 : move aaa2.txt testdir\n",
    "* --------------------------------D\n",
    "* 폴더삭제 : rmdir testdir\n"
   ]
  },
  {
   "cell_type": "code",
   "execution_count": 38,
   "id": "90b090d9-4126-43f2-80ad-d7d431ff6fc5",
   "metadata": {},
   "outputs": [
    {
     "data": {
      "text/plain": [
       "1"
      ]
     },
     "execution_count": 38,
     "metadata": {},
     "output_type": "execute_result"
    }
   ],
   "source": [
    "import os\n",
    "os.system('mkdir test22') #0이 출력되면 실패, 1이 나오면 성공"
   ]
  },
  {
   "cell_type": "code",
   "execution_count": 40,
   "id": "6966d2b9-ede9-4088-a92f-b6310dc64bcd",
   "metadata": {},
   "outputs": [
    {
     "data": {
      "text/plain": [
       "'C:\\\\IT\\\\pythonProject\\\\venv\\\\pkg\\n'"
      ]
     },
     "execution_count": 40,
     "metadata": {},
     "output_type": "execute_result"
    }
   ],
   "source": [
    "os.popen('cd').read()"
   ]
  },
  {
   "cell_type": "code",
   "execution_count": null,
   "id": "82dba0ab-2c1c-4b1b-a6ed-7df557473be9",
   "metadata": {},
   "outputs": [],
   "source": []
  },
  {
   "cell_type": "code",
   "execution_count": 43,
   "id": "694dd4fa-8f87-45ec-8128-e4cc5f6f8aa8",
   "metadata": {},
   "outputs": [
    {
     "name": "stdin",
     "output_type": "stream",
     "text": [
      "C:\\IT\\pythonProject\\venv\\pkg\n",
      "> dir\n"
     ]
    },
    {
     "name": "stdout",
     "output_type": "stream",
     "text": [
      " C 드라이브의 볼륨에는 이름이 없습니다.\n",
      " 볼륨 일련 번호: B0ED-BC4A\n",
      "\n",
      " C:\\IT\\pythonProject\\venv\\pkg 디렉터리\n",
      "\n",
      "2022-07-01  오전 11:15    <DIR>          .\n",
      "2022-07-01  오전 11:15    <DIR>          ..\n",
      "2022-07-01  오전 10:08    <DIR>          .ipynb_checkpoints\n",
      "2022-07-01  오전 10:01    <DIR>          data\n",
      "2022-06-28  오후 02:45    <DIR>          img\n",
      "2022-06-23  오후 01:01             3,683 lec00.쥬피터사용.ipynb\n",
      "2022-06-24  오전 10:07            18,031 lec01.변수.ipynb\n",
      "2022-06-24  오후 04:48            21,826 lec02.조건문&반복문.ipynb\n",
      "2022-06-28  오전 10:41            31,841 lec03.리스트_튜플_딕트.ipynb\n",
      "2022-06-28  오후 05:58            14,438 lec03.퀴즈.ipynb\n",
      "2022-06-27  오전 10:00               616 lec04.함수.ipynb\n",
      "2022-07-01  오전 11:15            65,120 lec05.파일_입출력.ipynb\n",
      "2022-06-23  오전 11:50                72 lec06.오라클_입출력.ipynb\n",
      "2022-06-29  오후 02:40            35,533 lec07.numpy.ipynb\n",
      "2022-06-23  오전 11:53                72 lec08.pandas.ipynb\n",
      "2022-06-23  오전 11:52                72 lec09.차트.ipynb\n",
      "2022-06-23  오전 11:51                72 lec10.외부_공공포털.ipynb\n",
      "2022-06-23  오전 11:51                72 lec11.외부_크롤링.ipynb\n",
      "2022-06-23  오전 11:54                72 lec12.flask.ipynb\n",
      "2022-06-14  오후 06:29             8,192 mydb.db\n",
      "2022-06-14  오후 06:29               965 mydb.sqbpro\n",
      "2022-07-01  오전 09:53               930 news_UTF8.txt\n",
      "2022-07-01  오전 11:00    <DIR>          test\n",
      "2022-06-24  오후 01:16               178 test.py\n",
      "2022-07-01  오전 10:47                15 test.txt\n",
      "2022-06-14  오후 03:56             1,921 test2.ipynb\n",
      "2022-07-01  오전 11:01    <DIR>          test22\n",
      "2022-07-01  오전 10:47                15 test_cp.txt\n",
      "2022-06-14  오후 03:46             2,079 Untitled.ipynb\n",
      "2022-06-23  오전 11:58                 0 __init__.py\n",
      "2022-06-14  오후 06:27               737 신입사원.py\n",
      "              24개 파일             206,552 바이트\n",
      "               7개 디렉터리  181,529,870,336 바이트 남음\n",
      "\n"
     ]
    },
    {
     "name": "stdin",
     "output_type": "stream",
     "text": [
      "C:\\IT\\pythonProject\\venv\\pkg\n",
      "> 나가기\n"
     ]
    },
    {
     "name": "stdout",
     "output_type": "stream",
     "text": [
      "\n"
     ]
    }
   ],
   "source": [
    "while True:\n",
    "    path = os.popen('cd').read()\n",
    "    msg = input(f'{path}>')\n",
    "    print(os.popen(msg).read() )\n",
    "    if msg =='나가기':\n",
    "        break"
   ]
  },
  {
   "cell_type": "code",
   "execution_count": null,
   "id": "135415b4-d06a-47d3-a0d0-e573c544c652",
   "metadata": {},
   "outputs": [],
   "source": []
  }
 ],
 "metadata": {
  "kernelspec": {
   "display_name": "Python 3 (ipykernel)",
   "language": "python",
   "name": "python3"
  },
  "language_info": {
   "codemirror_mode": {
    "name": "ipython",
    "version": 3
   },
   "file_extension": ".py",
   "mimetype": "text/x-python",
   "name": "python",
   "nbconvert_exporter": "python",
   "pygments_lexer": "ipython3",
   "version": "3.8.8"
  },
  "toc-autonumbering": true,
  "toc-showmarkdowntxt": false
 },
 "nbformat": 4,
 "nbformat_minor": 5
}
