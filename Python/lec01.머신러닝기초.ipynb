{
 "cells": [
  {
   "cell_type": "markdown",
   "id": "f326e600-a225-4325-9a44-84b5db39cdbf",
   "metadata": {},
   "source": [
    "* ref : https://scikit-learn.org/stable/search.html?q=cross_validation"
   ]
  },
  {
   "cell_type": "code",
   "execution_count": 1,
   "id": "21abb54c-502b-4087-9477-b3d5536557c2",
   "metadata": {},
   "outputs": [],
   "source": [
    "import numpy as np\n",
    "import pandas as pd\n",
    "# from sklearn.linear_model import LinearRegression\n",
    "import tensorflow as tf\n",
    "from keras.models import Model\n",
    "\n",
    "from sklearn.datasets import load_iris               #--------------- 데이터셋 \n",
    "from sklearn.linear_model import LogisticRegression  #--------------- 모델\n",
    "\n",
    "import matplotlib.pyplot as plt\n",
    "import seaborn as sns\n",
    "import warnings\n",
    "warnings.filterwarnings(action='ignore')"
   ]
  },
  {
   "cell_type": "markdown",
   "id": "ea638911-b37f-4a45-88d5-637360a294a4",
   "metadata": {},
   "source": [
    "# Dataset loading utilities"
   ]
  },
  {
   "cell_type": "code",
   "execution_count": 2,
   "id": "afb8f91f-9e89-40cf-bf5f-c5d7aebd70dd",
   "metadata": {},
   "outputs": [
    {
     "data": {
      "text/plain": [
       "dict_keys(['data', 'target', 'frame', 'target_names', 'DESCR', 'feature_names', 'filename', 'data_module'])"
      ]
     },
     "execution_count": 2,
     "metadata": {},
     "output_type": "execute_result"
    }
   ],
   "source": [
    "# load_iris(*, return_X_y=False, as_frame=False)[source]¶\n",
    "dic = load_iris()\n",
    "dic.keys()"
   ]
  },
  {
   "cell_type": "code",
   "execution_count": 3,
   "id": "06e66fec-2fef-4641-ac63-01a303faa842",
   "metadata": {},
   "outputs": [
    {
     "data": {
      "text/plain": [
       "['sepal length (cm)',\n",
       " 'sepal width (cm)',\n",
       " 'petal length (cm)',\n",
       " 'petal width (cm)']"
      ]
     },
     "execution_count": 3,
     "metadata": {},
     "output_type": "execute_result"
    }
   ],
   "source": [
    "dic['feature_names']"
   ]
  },
  {
   "cell_type": "markdown",
   "id": "2021d50f-ce14-4674-a3fe-b516c22e4f57",
   "metadata": {},
   "source": [
    "## X  :: 독립변수\n",
    "* train/test(7:3 8:2) dataset"
   ]
  },
  {
   "cell_type": "code",
   "execution_count": 4,
   "id": "c7c0d3b9-1835-4b30-9753-5716ce47e377",
   "metadata": {},
   "outputs": [
    {
     "data": {
      "text/plain": [
       "(array([[5.1, 3.5, 1.4, 0.2],\n",
       "        [4.9, 3. , 1.4, 0.2],\n",
       "        [4.7, 3.2, 1.3, 0.2]]),\n",
       " 150)"
      ]
     },
     "execution_count": 4,
     "metadata": {},
     "output_type": "execute_result"
    }
   ],
   "source": [
    "dic['data'][:3] , len(dic['data'])"
   ]
  },
  {
   "cell_type": "markdown",
   "id": "9cff7ff0-791e-4cdd-808c-6f26b2db6a92",
   "metadata": {},
   "source": [
    "## y = target :: 종속변수\n",
    "* (7:3 8:2) dataset"
   ]
  },
  {
   "cell_type": "code",
   "execution_count": 5,
   "id": "9b6575e5-b36b-49b2-8bac-31895123f886",
   "metadata": {},
   "outputs": [
    {
     "data": {
      "text/plain": [
       "(array([0, 0, 0, 0, 0, 0, 0, 0, 0, 0, 0, 0, 0, 0, 0, 0, 0, 0, 0, 0, 0, 0,\n",
       "        0, 0, 0, 0, 0, 0, 0, 0, 0, 0, 0, 0, 0, 0, 0, 0, 0, 0, 0, 0, 0, 0,\n",
       "        0, 0, 0, 0, 0, 0, 1, 1, 1, 1, 1, 1, 1, 1, 1, 1, 1, 1, 1, 1, 1, 1,\n",
       "        1, 1, 1, 1, 1, 1, 1, 1, 1, 1, 1, 1, 1, 1, 1, 1, 1, 1, 1, 1, 1, 1,\n",
       "        1, 1, 1, 1, 1, 1, 1, 1, 1, 1, 1, 1, 2, 2, 2, 2, 2, 2, 2, 2, 2, 2,\n",
       "        2, 2, 2, 2, 2, 2, 2, 2, 2, 2, 2, 2, 2, 2, 2, 2, 2, 2, 2, 2, 2, 2,\n",
       "        2, 2, 2, 2, 2, 2, 2, 2, 2, 2, 2, 2, 2, 2, 2, 2, 2, 2]),\n",
       " 150)"
      ]
     },
     "execution_count": 5,
     "metadata": {},
     "output_type": "execute_result"
    }
   ],
   "source": [
    "dic['target'], len(dic['target'])"
   ]
  },
  {
   "cell_type": "code",
   "execution_count": 6,
   "id": "249b916e-62e7-4cf5-bf52-57b1a9d1938e",
   "metadata": {},
   "outputs": [
    {
     "data": {
      "text/plain": [
       "array(['setosa', 'versicolor', 'virginica'], dtype='<U10')"
      ]
     },
     "execution_count": 6,
     "metadata": {},
     "output_type": "execute_result"
    }
   ],
   "source": [
    "dic['target_names']"
   ]
  },
  {
   "cell_type": "code",
   "execution_count": 7,
   "id": "e60a431d-60e0-4de2-827c-68cd4a5f8a65",
   "metadata": {},
   "outputs": [
    {
     "data": {
      "text/html": [
       "<div>\n",
       "<style scoped>\n",
       "    .dataframe tbody tr th:only-of-type {\n",
       "        vertical-align: middle;\n",
       "    }\n",
       "\n",
       "    .dataframe tbody tr th {\n",
       "        vertical-align: top;\n",
       "    }\n",
       "\n",
       "    .dataframe thead th {\n",
       "        text-align: right;\n",
       "    }\n",
       "</style>\n",
       "<table border=\"1\" class=\"dataframe\">\n",
       "  <thead>\n",
       "    <tr style=\"text-align: right;\">\n",
       "      <th></th>\n",
       "      <th>sl</th>\n",
       "      <th>sw</th>\n",
       "      <th>pl</th>\n",
       "      <th>pw</th>\n",
       "    </tr>\n",
       "  </thead>\n",
       "  <tbody>\n",
       "    <tr>\n",
       "      <th>0</th>\n",
       "      <td>5.1</td>\n",
       "      <td>3.5</td>\n",
       "      <td>1.4</td>\n",
       "      <td>0.2</td>\n",
       "    </tr>\n",
       "    <tr>\n",
       "      <th>1</th>\n",
       "      <td>4.9</td>\n",
       "      <td>3.0</td>\n",
       "      <td>1.4</td>\n",
       "      <td>0.2</td>\n",
       "    </tr>\n",
       "  </tbody>\n",
       "</table>\n",
       "</div>"
      ],
      "text/plain": [
       "    sl   sw   pl   pw\n",
       "0  5.1  3.5  1.4  0.2\n",
       "1  4.9  3.0  1.4  0.2"
      ]
     },
     "execution_count": 7,
     "metadata": {},
     "output_type": "execute_result"
    }
   ],
   "source": [
    "df = pd.DataFrame(dic['data'], columns=dic['feature_names'])\n",
    "# df = pd.DataFrame(dic['data'], columns=dic['sepal length (cm)','sepal width (cm)','petal length (cm)','petal width (cm)'])\n",
    "df.columns=['sl','sw','pl','pw']\n",
    "df.head(2)"
   ]
  },
  {
   "cell_type": "markdown",
   "id": "b38ae304-2a30-4fdb-8bc7-13d09022f146",
   "metadata": {
    "tags": []
   },
   "source": [
    "# DataFrame + Series"
   ]
  },
  {
   "cell_type": "markdown",
   "id": "b793f942-784e-4135-afcd-97fb2fb802de",
   "metadata": {},
   "source": [
    "## df[col] = 리스트값"
   ]
  },
  {
   "cell_type": "code",
   "execution_count": 8,
   "id": "13f9e540-4175-4c0c-a900-50f2e600a5fd",
   "metadata": {},
   "outputs": [
    {
     "data": {
      "text/html": [
       "<div>\n",
       "<style scoped>\n",
       "    .dataframe tbody tr th:only-of-type {\n",
       "        vertical-align: middle;\n",
       "    }\n",
       "\n",
       "    .dataframe tbody tr th {\n",
       "        vertical-align: top;\n",
       "    }\n",
       "\n",
       "    .dataframe thead th {\n",
       "        text-align: right;\n",
       "    }\n",
       "</style>\n",
       "<table border=\"1\" class=\"dataframe\">\n",
       "  <thead>\n",
       "    <tr style=\"text-align: right;\">\n",
       "      <th></th>\n",
       "      <th>sl</th>\n",
       "      <th>sw</th>\n",
       "      <th>pl</th>\n",
       "      <th>pw</th>\n",
       "      <th>target</th>\n",
       "    </tr>\n",
       "  </thead>\n",
       "  <tbody>\n",
       "    <tr>\n",
       "      <th>0</th>\n",
       "      <td>5.1</td>\n",
       "      <td>3.5</td>\n",
       "      <td>1.4</td>\n",
       "      <td>0.2</td>\n",
       "      <td>0</td>\n",
       "    </tr>\n",
       "    <tr>\n",
       "      <th>1</th>\n",
       "      <td>4.9</td>\n",
       "      <td>3.0</td>\n",
       "      <td>1.4</td>\n",
       "      <td>0.2</td>\n",
       "      <td>0</td>\n",
       "    </tr>\n",
       "  </tbody>\n",
       "</table>\n",
       "</div>"
      ],
      "text/plain": [
       "    sl   sw   pl   pw  target\n",
       "0  5.1  3.5  1.4  0.2       0\n",
       "1  4.9  3.0  1.4  0.2       0"
      ]
     },
     "execution_count": 8,
     "metadata": {},
     "output_type": "execute_result"
    }
   ],
   "source": [
    "df['target'] = dic['target']\n",
    "df.head(2)"
   ]
  },
  {
   "cell_type": "markdown",
   "id": "65550b1d-38ba-4559-8dc9-3e0793ae417b",
   "metadata": {},
   "source": [
    "## concat"
   ]
  },
  {
   "cell_type": "code",
   "execution_count": 9,
   "id": "2ce55ef1-dbf5-403b-9bad-0700391904aa",
   "metadata": {},
   "outputs": [
    {
     "data": {
      "text/html": [
       "<div>\n",
       "<style scoped>\n",
       "    .dataframe tbody tr th:only-of-type {\n",
       "        vertical-align: middle;\n",
       "    }\n",
       "\n",
       "    .dataframe tbody tr th {\n",
       "        vertical-align: top;\n",
       "    }\n",
       "\n",
       "    .dataframe thead th {\n",
       "        text-align: right;\n",
       "    }\n",
       "</style>\n",
       "<table border=\"1\" class=\"dataframe\">\n",
       "  <thead>\n",
       "    <tr style=\"text-align: right;\">\n",
       "      <th></th>\n",
       "      <th>sl</th>\n",
       "      <th>sw</th>\n",
       "      <th>pl</th>\n",
       "      <th>pw</th>\n",
       "    </tr>\n",
       "  </thead>\n",
       "  <tbody>\n",
       "    <tr>\n",
       "      <th>0</th>\n",
       "      <td>5.1</td>\n",
       "      <td>3.5</td>\n",
       "      <td>1.4</td>\n",
       "      <td>0.2</td>\n",
       "    </tr>\n",
       "    <tr>\n",
       "      <th>1</th>\n",
       "      <td>4.9</td>\n",
       "      <td>3.0</td>\n",
       "      <td>1.4</td>\n",
       "      <td>0.2</td>\n",
       "    </tr>\n",
       "  </tbody>\n",
       "</table>\n",
       "</div>"
      ],
      "text/plain": [
       "    sl   sw   pl   pw\n",
       "0  5.1  3.5  1.4  0.2\n",
       "1  4.9  3.0  1.4  0.2"
      ]
     },
     "execution_count": 9,
     "metadata": {},
     "output_type": "execute_result"
    }
   ],
   "source": [
    "df = pd.DataFrame(dic['data'], columns=dic['feature_names'])\n",
    "# df = pd.DataFrame(dic['data'], columns=dic['sepal length (cm)','sepal width (cm)','petal length (cm)','petal width (cm)'])\n",
    "df.columns=['sl','sw','pl','pw']\n",
    "df.head(2)"
   ]
  },
  {
   "cell_type": "code",
   "execution_count": 10,
   "id": "82d7d53a-c9fe-4d49-8a88-4b2eb059f263",
   "metadata": {},
   "outputs": [
    {
     "data": {
      "text/plain": [
       "0    0\n",
       "1    0\n",
       "2    0\n",
       "Name: target, dtype: int32"
      ]
     },
     "execution_count": 10,
     "metadata": {},
     "output_type": "execute_result"
    }
   ],
   "source": [
    "s = pd.Series(dic['target'], name='target')\n",
    "s[:3]"
   ]
  },
  {
   "cell_type": "code",
   "execution_count": 11,
   "id": "5fdbb7bd-710a-4bb0-ab60-545880cd4dcb",
   "metadata": {},
   "outputs": [
    {
     "data": {
      "text/html": [
       "<div>\n",
       "<style scoped>\n",
       "    .dataframe tbody tr th:only-of-type {\n",
       "        vertical-align: middle;\n",
       "    }\n",
       "\n",
       "    .dataframe tbody tr th {\n",
       "        vertical-align: top;\n",
       "    }\n",
       "\n",
       "    .dataframe thead th {\n",
       "        text-align: right;\n",
       "    }\n",
       "</style>\n",
       "<table border=\"1\" class=\"dataframe\">\n",
       "  <thead>\n",
       "    <tr style=\"text-align: right;\">\n",
       "      <th></th>\n",
       "      <th>sl</th>\n",
       "      <th>sw</th>\n",
       "      <th>pl</th>\n",
       "      <th>pw</th>\n",
       "      <th>target</th>\n",
       "    </tr>\n",
       "  </thead>\n",
       "  <tbody>\n",
       "    <tr>\n",
       "      <th>0</th>\n",
       "      <td>5.1</td>\n",
       "      <td>3.5</td>\n",
       "      <td>1.4</td>\n",
       "      <td>0.2</td>\n",
       "      <td>0</td>\n",
       "    </tr>\n",
       "    <tr>\n",
       "      <th>1</th>\n",
       "      <td>4.9</td>\n",
       "      <td>3.0</td>\n",
       "      <td>1.4</td>\n",
       "      <td>0.2</td>\n",
       "      <td>0</td>\n",
       "    </tr>\n",
       "    <tr>\n",
       "      <th>2</th>\n",
       "      <td>4.7</td>\n",
       "      <td>3.2</td>\n",
       "      <td>1.3</td>\n",
       "      <td>0.2</td>\n",
       "      <td>0</td>\n",
       "    </tr>\n",
       "  </tbody>\n",
       "</table>\n",
       "</div>"
      ],
      "text/plain": [
       "    sl   sw   pl   pw  target\n",
       "0  5.1  3.5  1.4  0.2       0\n",
       "1  4.9  3.0  1.4  0.2       0\n",
       "2  4.7  3.2  1.3  0.2       0"
      ]
     },
     "execution_count": 11,
     "metadata": {},
     "output_type": "execute_result"
    }
   ],
   "source": [
    "df = pd.concat([df, s], axis=1)\n",
    "df.head(3)"
   ]
  },
  {
   "cell_type": "code",
   "execution_count": 12,
   "id": "3297a5a2-71ca-4efc-86a3-54c12bd0bbf5",
   "metadata": {},
   "outputs": [
    {
     "name": "stdout",
     "output_type": "stream",
     "text": [
      "<class 'pandas.core.frame.DataFrame'>\n",
      "RangeIndex: 150 entries, 0 to 149\n",
      "Data columns (total 5 columns):\n",
      " #   Column  Non-Null Count  Dtype  \n",
      "---  ------  --------------  -----  \n",
      " 0   sl      150 non-null    float64\n",
      " 1   sw      150 non-null    float64\n",
      " 2   pl      150 non-null    float64\n",
      " 3   pw      150 non-null    float64\n",
      " 4   target  150 non-null    int32  \n",
      "dtypes: float64(4), int32(1)\n",
      "memory usage: 5.4 KB\n"
     ]
    }
   ],
   "source": [
    "df.info()"
   ]
  },
  {
   "cell_type": "code",
   "execution_count": 13,
   "id": "7ecd8083-4e11-419c-8b66-32d42d44f707",
   "metadata": {},
   "outputs": [
    {
     "data": {
      "text/plain": [
       "sl        0\n",
       "sw        0\n",
       "pl        0\n",
       "pw        0\n",
       "target    0\n",
       "dtype: int64"
      ]
     },
     "execution_count": 13,
     "metadata": {},
     "output_type": "execute_result"
    }
   ],
   "source": [
    "df.isna().sum()"
   ]
  },
  {
   "cell_type": "markdown",
   "id": "6e1ebbae-e7bc-4814-8806-ac4ccf67467a",
   "metadata": {},
   "source": [
    "# EDA"
   ]
  },
  {
   "cell_type": "markdown",
   "id": "e44a4482-45d4-4728-b869-e08d7cff9da5",
   "metadata": {},
   "source": [
    "## 정규성 (수치형 연속형)\n",
    "* 정규분포(평균, 편차)를 따른다 -- 데이터들이 95% 확률로 존재한다는 가정\n",
    "* 연속형(1.x) : x:구간  y:구간내에 몇개(빈도) --> 도수분포표를 시각화(히스토그램)\n",
    "* 커널밀도함수 : 0~1사이의 확률값 (막대 면적:확률)"
   ]
  },
  {
   "cell_type": "code",
   "execution_count": 14,
   "id": "bf426afe-8cab-4033-aed2-67fc36c41e13",
   "metadata": {},
   "outputs": [
    {
     "data": {
      "image/png": "[encoded data removed]",
      "text/plain": [
       "<Figure size 1152x576 with 6 Axes>"
      ]
     },
     "metadata": {
      "needs_background": "light"
     },
     "output_type": "display_data"
    }
   ],
   "source": [
    "df.hist(figsize=(16,8))\n",
    "plt.show()"
   ]
  },
  {
   "cell_type": "code",
   "execution_count": 15,
   "id": "c34b6bd3-4a20-49f7-bb0f-db00a96862f9",
   "metadata": {},
   "outputs": [
    {
     "data": {
      "text/html": [
       "<div>\n",
       "<style scoped>\n",
       "    .dataframe tbody tr th:only-of-type {\n",
       "        vertical-align: middle;\n",
       "    }\n",
       "\n",
       "    .dataframe tbody tr th {\n",
       "        vertical-align: top;\n",
       "    }\n",
       "\n",
       "    .dataframe thead th {\n",
       "        text-align: right;\n",
       "    }\n",
       "</style>\n",
       "<table border=\"1\" class=\"dataframe\">\n",
       "  <thead>\n",
       "    <tr style=\"text-align: right;\">\n",
       "      <th></th>\n",
       "      <th>sl</th>\n",
       "      <th>sw</th>\n",
       "      <th>pl</th>\n",
       "      <th>pw</th>\n",
       "      <th>target</th>\n",
       "    </tr>\n",
       "  </thead>\n",
       "  <tbody>\n",
       "    <tr>\n",
       "      <th>count</th>\n",
       "      <td>150.000000</td>\n",
       "      <td>150.000000</td>\n",
       "      <td>150.000000</td>\n",
       "      <td>150.000000</td>\n",
       "      <td>150.000000</td>\n",
       "    </tr>\n",
       "    <tr>\n",
       "      <th>mean</th>\n",
       "      <td>5.843333</td>\n",
       "      <td>3.057333</td>\n",
       "      <td>3.758000</td>\n",
       "      <td>1.199333</td>\n",
       "      <td>1.000000</td>\n",
       "    </tr>\n",
       "    <tr>\n",
       "      <th>std</th>\n",
       "      <td>0.828066</td>\n",
       "      <td>0.435866</td>\n",
       "      <td>1.765298</td>\n",
       "      <td>0.762238</td>\n",
       "      <td>0.819232</td>\n",
       "    </tr>\n",
       "    <tr>\n",
       "      <th>min</th>\n",
       "      <td>4.300000</td>\n",
       "      <td>2.000000</td>\n",
       "      <td>1.000000</td>\n",
       "      <td>0.100000</td>\n",
       "      <td>0.000000</td>\n",
       "    </tr>\n",
       "    <tr>\n",
       "      <th>25%</th>\n",
       "      <td>5.100000</td>\n",
       "      <td>2.800000</td>\n",
       "      <td>1.600000</td>\n",
       "      <td>0.300000</td>\n",
       "      <td>0.000000</td>\n",
       "    </tr>\n",
       "    <tr>\n",
       "      <th>50%</th>\n",
       "      <td>5.800000</td>\n",
       "      <td>3.000000</td>\n",
       "      <td>4.350000</td>\n",
       "      <td>1.300000</td>\n",
       "      <td>1.000000</td>\n",
       "    </tr>\n",
       "    <tr>\n",
       "      <th>75%</th>\n",
       "      <td>6.400000</td>\n",
       "      <td>3.300000</td>\n",
       "      <td>5.100000</td>\n",
       "      <td>1.800000</td>\n",
       "      <td>2.000000</td>\n",
       "    </tr>\n",
       "    <tr>\n",
       "      <th>max</th>\n",
       "      <td>7.900000</td>\n",
       "      <td>4.400000</td>\n",
       "      <td>6.900000</td>\n",
       "      <td>2.500000</td>\n",
       "      <td>2.000000</td>\n",
       "    </tr>\n",
       "  </tbody>\n",
       "</table>\n",
       "</div>"
      ],
      "text/plain": [
       "               sl          sw          pl          pw      target\n",
       "count  150.000000  150.000000  150.000000  150.000000  150.000000\n",
       "mean     5.843333    3.057333    3.758000    1.199333    1.000000\n",
       "std      0.828066    0.435866    1.765298    0.762238    0.819232\n",
       "min      4.300000    2.000000    1.000000    0.100000    0.000000\n",
       "25%      5.100000    2.800000    1.600000    0.300000    0.000000\n",
       "50%      5.800000    3.000000    4.350000    1.300000    1.000000\n",
       "75%      6.400000    3.300000    5.100000    1.800000    2.000000\n",
       "max      7.900000    4.400000    6.900000    2.500000    2.000000"
      ]
     },
     "execution_count": 15,
     "metadata": {},
     "output_type": "execute_result"
    }
   ],
   "source": [
    "df.describe()"
   ]
  },
  {
   "cell_type": "code",
   "execution_count": 16,
   "id": "496a29e0-66fe-41f4-9d02-42a55e3b99aa",
   "metadata": {},
   "outputs": [
    {
     "data": {
      "image/png": "[encoded data removed]",
      "text/plain": [
       "<Figure size 432x288 with 1 Axes>"
      ]
     },
     "metadata": {
      "needs_background": "light"
     },
     "output_type": "display_data"
    }
   ],
   "source": [
    "sns.distplot(df['sl'])\n",
    "plt.show()"
   ]
  },
  {
   "cell_type": "markdown",
   "id": "a500b41b-1a79-45b9-9588-414608bb71e7",
   "metadata": {},
   "source": [
    "* 첨도가 크다 = 끝이 뾰족한다"
   ]
  },
  {
   "cell_type": "code",
   "execution_count": 17,
   "id": "43e7d6b3-f354-4ae2-a782-239b3020c8e3",
   "metadata": {},
   "outputs": [
    {
     "data": {
      "image/png": "[encoded data removed]",
      "text/plain": [
       "<Figure size 432x288 with 1 Axes>"
      ]
     },
     "metadata": {
      "needs_background": "light"
     },
     "output_type": "display_data"
    }
   ],
   "source": [
    "sns.distplot(df['sw'])\n",
    "plt.show()"
   ]
  },
  {
   "cell_type": "code",
   "execution_count": 18,
   "id": "557b34e0-0292-4545-ab11-587954e9b9aa",
   "metadata": {},
   "outputs": [
    {
     "data": {
      "image/png": "[encoded data removed]",
      "text/plain": [
       "<Figure size 432x288 with 1 Axes>"
      ]
     },
     "metadata": {
      "needs_background": "light"
     },
     "output_type": "display_data"
    }
   ],
   "source": [
    "sns.distplot(df['pl'])\n",
    "plt.show()"
   ]
  },
  {
   "cell_type": "code",
   "execution_count": 19,
   "id": "28a7de0c-e6e5-482b-93f8-89d54da616dd",
   "metadata": {},
   "outputs": [
    {
     "data": {
      "image/png": "[encoded data removed]",
      "text/plain": [
       "<Figure size 432x288 with 1 Axes>"
      ]
     },
     "metadata": {
      "needs_background": "light"
     },
     "output_type": "display_data"
    }
   ],
   "source": [
    "sns.distplot(df['pw'])\n",
    "plt.show()"
   ]
  },
  {
   "cell_type": "markdown",
   "id": "540d273d-3238-49b2-966a-e75afd6bd5c9",
   "metadata": {},
   "source": [
    "## 상관분석\n",
    "* \"두\" 피쳐간의 관계\n",
    "    * (+) : 양의 상관 ( A라는 피쳐가 커지면 B도 같이 커진다)\n",
    "    * (-) : 음의 상관 ( A라는 피쳐가 커지면 B는 작아진다)\n",
    "    * 상관계수 : 수치(크면 클수록 상관도가 높다)"
   ]
  },
  {
   "cell_type": "code",
   "execution_count": 20,
   "id": "7b5a8bda-74c4-4168-94ca-b68290d85d81",
   "metadata": {},
   "outputs": [
    {
     "data": {
      "image/png": "[encoded data removed]",
      "text/plain": [
       "<Figure size 432x288 with 2 Axes>"
      ]
     },
     "metadata": {
      "needs_background": "light"
     },
     "output_type": "display_data"
    }
   ],
   "source": [
    "sns.heatmap(df.corr(), annot=True,  fmt=\".2f\", cmap=\"Blues\")\n",
    "plt.show()"
   ]
  },
  {
   "cell_type": "markdown",
   "id": "14dc4654-7e0f-40df-98da-7a14837147ce",
   "metadata": {},
   "source": [
    "* pw > pl > sl > sw 순으로 target과 상관관계가 있다.\n",
    "* pw <--> pw (0.96) : 다중공선이 보인다\n",
    "    * 버린다, 차원축소(PCA), 적은 피쳐로 학습해 모델예측도가 떨어지면 그냥 냅둔다"
   ]
  },
  {
   "cell_type": "markdown",
   "id": "00450696-36c9-496f-9e82-b69629a105e7",
   "metadata": {},
   "source": [
    "## 이상치(Outlier)\n",
    "* sactter\n",
    "* boxplot "
   ]
  },
  {
   "cell_type": "markdown",
   "id": "6abee6bc-cab0-4479-81f5-5be827377a38",
   "metadata": {},
   "source": [
    "### boxplot"
   ]
  },
  {
   "cell_type": "code",
   "execution_count": 21,
   "id": "ba5c82b7-1e45-49be-a292-56496301a031",
   "metadata": {},
   "outputs": [
    {
     "data": {
      "image/png": "[encoded data removed]",
      "text/plain": [
       "<Figure size 432x288 with 1 Axes>"
      ]
     },
     "metadata": {
      "needs_background": "light"
     },
     "output_type": "display_data"
    }
   ],
   "source": [
    "plt.boxplot(df)\n",
    "plt.show()"
   ]
  },
  {
   "cell_type": "code",
   "execution_count": 22,
   "id": "e48c8f1b-a69b-4a39-8e7d-ea8db60a15d5",
   "metadata": {},
   "outputs": [
    {
     "data": {
      "image/png": "[encoded data removed]",
      "text/plain": [
       "<Figure size 1440x288 with 2 Axes>"
      ]
     },
     "metadata": {
      "needs_background": "light"
     },
     "output_type": "display_data"
    }
   ],
   "source": [
    "fig, axes = plt.subplots(1, 2, figsize=(20,4))\n",
    "sns.scatterplot(x = 'sl', y = 'sw', data=df, hue=\"target\",  ax = axes[0])\n",
    "# sns.scatterplot(x = 'sl', y = 'sw', data=df[df['target']==1], hue=\"target\",  ax = axes[1])\n",
    "# sns.scatterplot(x = 'sl', y = 'sw', data=df[df['target']==2], hue=\"target\",  ax = axes[2])\n",
    "sns.scatterplot(x = 'pl', y = 'pw', data=df, hue=\"target\",  ax = axes[1])\n",
    "\n",
    "axes[0].set_title(\"sepal\")\n",
    "axes[1].set_title(\"petal\")\n",
    "plt.show()"
   ]
  },
  {
   "cell_type": "code",
   "execution_count": 23,
   "id": "7b6ce6b7-972e-4357-b169-395a472bc11f",
   "metadata": {},
   "outputs": [
    {
     "data": {
      "image/png": "[encoded data removed]",
      "text/plain": [
       "<Figure size 1440x720 with 4 Axes>"
      ]
     },
     "metadata": {
      "needs_background": "light"
     },
     "output_type": "display_data"
    }
   ],
   "source": [
    "fig, axes = plt.subplots(2, 2, figsize=(20,10))\n",
    "sns.boxplot(x='target', y='pl',  data=df, hue=\"target\",  ax = axes[0,0])\n",
    "sns.boxplot(x='target', y='pw',  data=df, hue=\"target\",  ax = axes[0,1])\n",
    "sns.boxplot(x='target', y='sl',  data=df, hue=\"target\",  ax = axes[1,0])\n",
    "sns.boxplot(x='target', y='sw',  data=df, hue=\"target\",  ax = axes[1,1])\n",
    "\n",
    "axes[0,0].set_title(\"pl\")\n",
    "axes[0,1].set_title(\"pw\")\n",
    "axes[1,0].set_title(\"sl\")\n",
    "axes[1,1].set_title(\"sw\")\n",
    "\n",
    "plt.show()"
   ]
  },
  {
   "cell_type": "markdown",
   "id": "5ff11bca-5076-4bfa-a31a-92e0040db396",
   "metadata": {},
   "source": [
    "### IQR"
   ]
  },
  {
   "cell_type": "markdown",
   "id": "12e889b3-14b4-48f3-895f-464472c9c69f",
   "metadata": {},
   "source": [
    "<img src=\"https://upload.wikimedia.org/wikipedia/commons/thumb/1/1a/Boxplot_vs_PDF.svg/500px-Boxplot_vs_PDF.svg.png\" width=300>"
   ]
  },
  {
   "cell_type": "markdown",
   "id": "0adea8f7-f5dd-4e2c-97b6-a0da3c99a465",
   "metadata": {},
   "source": [
    "<img src=\"https://img1.daumcdn.net/thumb/R800x0/?scode=mtistory2&fname=https%3A%2F%2Fblog.kakaocdn.net%2Fdn%2FcAqc6V%2FbtqyQLiddUd%2FiXQVu1nYTo2rx3Q8xZBqy0%2Fimg.png\" width=600>"
   ]
  },
  {
   "cell_type": "code",
   "execution_count": 24,
   "id": "e8f3070f-c3c7-4a96-a5fd-37385d7df22f",
   "metadata": {},
   "outputs": [
    {
     "name": "stdout",
     "output_type": "stream",
     "text": [
      "2.4875 3.4 0.4750000000000001 4.3875\n"
     ]
    },
    {
     "data": {
      "image/png": "[encoded data removed]",
      "text/plain": [
       "<Figure size 216x216 with 1 Axes>"
      ]
     },
     "metadata": {
      "needs_background": "light"
     },
     "output_type": "display_data"
    },
    {
     "data": {
      "text/plain": [
       "array([15, 41], dtype=int64)"
      ]
     },
     "execution_count": 24,
     "metadata": {},
     "output_type": "execute_result"
    }
   ],
   "source": [
    "fig = plt.figure(figsize=(3,3))\n",
    "def outlier_detect(vtarget, col='sl' ):\n",
    "    median  = np.percentile(df[df['target']==vtarget][col], 50)\n",
    "    IQR     = np.percentile(df[df['target']==vtarget][col], 75) - np.percentile(df[df['target']==vtarget][col], 25)\n",
    "    minimum = np.percentile(df[df['target']==vtarget][col], 25) - (1.5*IQR)\n",
    "    maxmum  = np.percentile(df[df['target']==vtarget][col], 75) + (1.5*IQR)\n",
    "    print(minimum, median, IQR, maxmum)\n",
    "    sns.boxplot(x='target', y=col,  data=df[df['target']==vtarget])\n",
    "    plt.show()\n",
    "    return df[ ((df[col]<minimum) | (df[col]>maxmum)) &  (df['target']==vtarget)].index.values  \n",
    "\n",
    "\n",
    "outlier_detect(vtarget=0, col='sw')"
   ]
  },
  {
   "cell_type": "code",
   "execution_count": 25,
   "id": "28215742-c6eb-4d4a-9197-27a101a3f309",
   "metadata": {},
   "outputs": [
    {
     "name": "stdout",
     "output_type": "stream",
     "text": [
      "5.1\n"
     ]
    },
    {
     "data": {
      "text/html": [
       "<div>\n",
       "<style scoped>\n",
       "    .dataframe tbody tr th:only-of-type {\n",
       "        vertical-align: middle;\n",
       "    }\n",
       "\n",
       "    .dataframe tbody tr th {\n",
       "        vertical-align: top;\n",
       "    }\n",
       "\n",
       "    .dataframe thead th {\n",
       "        text-align: right;\n",
       "    }\n",
       "</style>\n",
       "<table border=\"1\" class=\"dataframe\">\n",
       "  <thead>\n",
       "    <tr style=\"text-align: right;\">\n",
       "      <th></th>\n",
       "      <th>sl</th>\n",
       "      <th>sw</th>\n",
       "      <th>pl</th>\n",
       "      <th>pw</th>\n",
       "      <th>target</th>\n",
       "    </tr>\n",
       "  </thead>\n",
       "  <tbody>\n",
       "    <tr>\n",
       "      <th>count</th>\n",
       "      <td>150.000000</td>\n",
       "      <td>150.000000</td>\n",
       "      <td>150.000000</td>\n",
       "      <td>150.000000</td>\n",
       "      <td>150.000000</td>\n",
       "    </tr>\n",
       "    <tr>\n",
       "      <th>mean</th>\n",
       "      <td>5.843333</td>\n",
       "      <td>3.057333</td>\n",
       "      <td>3.758000</td>\n",
       "      <td>1.199333</td>\n",
       "      <td>1.000000</td>\n",
       "    </tr>\n",
       "    <tr>\n",
       "      <th>std</th>\n",
       "      <td>0.828066</td>\n",
       "      <td>0.435866</td>\n",
       "      <td>1.765298</td>\n",
       "      <td>0.762238</td>\n",
       "      <td>0.819232</td>\n",
       "    </tr>\n",
       "    <tr>\n",
       "      <th>min</th>\n",
       "      <td>4.300000</td>\n",
       "      <td>2.000000</td>\n",
       "      <td>1.000000</td>\n",
       "      <td>0.100000</td>\n",
       "      <td>0.000000</td>\n",
       "    </tr>\n",
       "    <tr>\n",
       "      <th>25%</th>\n",
       "      <td>5.100000</td>\n",
       "      <td>2.800000</td>\n",
       "      <td>1.600000</td>\n",
       "      <td>0.300000</td>\n",
       "      <td>0.000000</td>\n",
       "    </tr>\n",
       "    <tr>\n",
       "      <th>50%</th>\n",
       "      <td>5.800000</td>\n",
       "      <td>3.000000</td>\n",
       "      <td>4.350000</td>\n",
       "      <td>1.300000</td>\n",
       "      <td>1.000000</td>\n",
       "    </tr>\n",
       "    <tr>\n",
       "      <th>75%</th>\n",
       "      <td>6.400000</td>\n",
       "      <td>3.300000</td>\n",
       "      <td>5.100000</td>\n",
       "      <td>1.800000</td>\n",
       "      <td>2.000000</td>\n",
       "    </tr>\n",
       "    <tr>\n",
       "      <th>max</th>\n",
       "      <td>7.900000</td>\n",
       "      <td>4.400000</td>\n",
       "      <td>6.900000</td>\n",
       "      <td>2.500000</td>\n",
       "      <td>2.000000</td>\n",
       "    </tr>\n",
       "  </tbody>\n",
       "</table>\n",
       "</div>"
      ],
      "text/plain": [
       "               sl          sw          pl          pw      target\n",
       "count  150.000000  150.000000  150.000000  150.000000  150.000000\n",
       "mean     5.843333    3.057333    3.758000    1.199333    1.000000\n",
       "std      0.828066    0.435866    1.765298    0.762238    0.819232\n",
       "min      4.300000    2.000000    1.000000    0.100000    0.000000\n",
       "25%      5.100000    2.800000    1.600000    0.300000    0.000000\n",
       "50%      5.800000    3.000000    4.350000    1.300000    1.000000\n",
       "75%      6.400000    3.300000    5.100000    1.800000    2.000000\n",
       "max      7.900000    4.400000    6.900000    2.500000    2.000000"
      ]
     },
     "execution_count": 25,
     "metadata": {},
     "output_type": "execute_result"
    }
   ],
   "source": [
    "temp = df.describe()\n",
    "print(temp.loc['25%','sl'])\n",
    "temp"
   ]
  },
  {
   "cell_type": "markdown",
   "id": "24a991d2-9a1b-44ac-a658-3a3170bec3ce",
   "metadata": {},
   "source": [
    "### scatter"
   ]
  },
  {
   "cell_type": "code",
   "execution_count": 26,
   "id": "03037242-20d1-4339-9def-7af3790f3ad5",
   "metadata": {},
   "outputs": [
    {
     "data": {
      "text/plain": [
       "<AxesSubplot:xlabel='sl', ylabel='sw'>"
      ]
     },
     "execution_count": 26,
     "metadata": {},
     "output_type": "execute_result"
    },
    {
     "data": {
      "image/png": "[encoded data removed]",
      "text/plain": [
       "<Figure size 432x288 with 1 Axes>"
      ]
     },
     "metadata": {
      "needs_background": "light"
     },
     "output_type": "display_data"
    }
   ],
   "source": [
    "sns.scatterplot(x='sl', y='sw', data=df, hue='target')"
   ]
  },
  {
   "cell_type": "code",
   "execution_count": 27,
   "id": "7f43f4a5-7e54-4d53-8f04-01e8576f4cb6",
   "metadata": {},
   "outputs": [
    {
     "data": {
      "text/plain": [
       "<AxesSubplot:xlabel='pl', ylabel='pw'>"
      ]
     },
     "execution_count": 27,
     "metadata": {},
     "output_type": "execute_result"
    },
    {
     "data": {
      "image/png": "[encoded data removed]",
      "text/plain": [
       "<Figure size 432x288 with 1 Axes>"
      ]
     },
     "metadata": {
      "needs_background": "light"
     },
     "output_type": "display_data"
    }
   ],
   "source": [
    "sns.scatterplot(x='pl', y='pw', data=df, hue='target')"
   ]
  },
  {
   "cell_type": "code",
   "execution_count": 28,
   "id": "48b9e6e0-a523-4b95-a252-ee16f4880ec3",
   "metadata": {},
   "outputs": [
    {
     "data": {
      "text/plain": [
       "<AxesSubplot:xlabel='pw', ylabel='pl'>"
      ]
     },
     "execution_count": 28,
     "metadata": {},
     "output_type": "execute_result"
    },
    {
     "data": {
      "image/png": "[encoded data removed]",
      "text/plain": [
       "<Figure size 432x288 with 1 Axes>"
      ]
     },
     "metadata": {
      "needs_background": "light"
     },
     "output_type": "display_data"
    }
   ],
   "source": [
    "sns.scatterplot(data=df, x=\"pw\", y=\"pl\",  c=df['target'])"
   ]
  },
  {
   "cell_type": "markdown",
   "id": "547cea50-c528-4b3a-a1ac-91090b744385",
   "metadata": {},
   "source": [
    "# 모델 학습 & 평가  \n",
    "* ----------우선 점수보자\n",
    "* 결측이 없다\n",
    "* object 피쳐가 없다"
   ]
  },
  {
   "cell_type": "markdown",
   "id": "d0f2361a-d272-43e3-a9ac-e0ead4e325d0",
   "metadata": {},
   "source": [
    "## train, test 분리\n",
    "* sklearn.model_selection.train_test_split(*arrays, test_size=None, train_size=None, random_state=None, shuffle=True, stratify=None)"
   ]
  },
  {
   "cell_type": "code",
   "execution_count": 29,
   "id": "d514a85c-7e5b-45d3-ac49-9ff9a856c738",
   "metadata": {},
   "outputs": [
    {
     "data": {
      "text/plain": [
       "(150, 5)"
      ]
     },
     "execution_count": 29,
     "metadata": {},
     "output_type": "execute_result"
    }
   ],
   "source": [
    "df.shape"
   ]
  },
  {
   "cell_type": "code",
   "execution_count": 30,
   "id": "042d2551-929a-4021-8f30-7984d50bac04",
   "metadata": {},
   "outputs": [],
   "source": [
    "from sklearn.model_selection import train_test_split"
   ]
  },
  {
   "cell_type": "markdown",
   "id": "975aa6ee-7145-43b9-9372-cc4647fe2944",
   "metadata": {},
   "source": [
    "* 프레임채로 넣고 자르지 마세요.. 번거롭습니다."
   ]
  },
  {
   "cell_type": "code",
   "execution_count": 31,
   "id": "d4e310bc-0dfb-4f4e-9dac-b85c11ff23b9",
   "metadata": {},
   "outputs": [],
   "source": [
    "# train_df, test_df = train_test_split(df, test_size=0.1,random_state=12121, shuffle=True)  #---, stratify=None\n",
    "# train_df.shape , test_df.shape\n",
    "\n",
    "# train_X = train_df.iloc[: , :-1]\n",
    "# train_y = train_df['target']\n",
    "\n",
    "# test_X = test_df.iloc[: , :-1]\n",
    "# test_y = test_df['target']\n",
    "# train_X.shape , test_X.shape,  train_y.shape,test_y.shape"
   ]
  },
  {
   "cell_type": "code",
   "execution_count": 43,
   "id": "043c439d-13a1-4b50-bd9e-6627b4ba4db3",
   "metadata": {},
   "outputs": [
    {
     "name": "stdout",
     "output_type": "stream",
     "text": [
      "(150, 4) (150,) <class 'pandas.core.frame.DataFrame'> <class 'pandas.core.series.Series'>\n",
      "(105, 4) (45, 4) (105,) (45,)\n"
     ]
    }
   ],
   "source": [
    "X = df.iloc[: , :-1]\n",
    "y = df['target']\n",
    "print(X.shape, y.shape, type(X), type(y))\n",
    "train_X,test_X,  train_y,test_y= train_test_split(X, y, test_size=0.3,random_state=1111, shuffle=True)  #---, stratify=None\n",
    "print(train_X.shape , test_X.shape,  train_y.shape,test_y.shape)"
   ]
  },
  {
   "cell_type": "markdown",
   "id": "88942ace-b42e-4abd-ae65-f4274e76ff53",
   "metadata": {},
   "source": [
    "## 학습 & 예측\n",
    "* model.fit(train_X, train_y)  #--학습용 (135, 4)  (135,)\n",
    "* computer_pred = model.predict(test_X)"
   ]
  },
  {
   "cell_type": "code",
   "execution_count": 44,
   "id": "7b8def75-518b-4386-94c1-b4615bac6145",
   "metadata": {},
   "outputs": [
    {
     "name": "stdout",
     "output_type": "stream",
     "text": [
      "      sl   sw   pl   pw\n",
      "49   5.0  3.3  1.4  0.2\n",
      "122  7.7  2.8  6.7  2.0\n",
      "12   4.8  3.0  1.4  0.1\n",
      "70   5.9  3.2  4.8  1.8\n",
      "100  6.3  3.3  6.0  2.5\n",
      "72   6.3  2.5  4.9  1.5\n",
      "36   5.5  3.5  1.3  0.2\n",
      "99   5.7  2.8  4.1  1.3\n",
      "90   5.5  2.6  4.4  1.2\n",
      "79   5.7  2.6  3.5  1.0\n",
      "92   5.8  2.6  4.0  1.2\n",
      "142  5.8  2.7  5.1  1.9\n",
      "33   5.5  4.2  1.4  0.2\n",
      "84   5.4  3.0  4.5  1.5\n",
      "128  6.4  2.8  5.6  2.1\n",
      "4    5.0  3.6  1.4  0.2\n",
      "65   6.7  3.1  4.4  1.4\n",
      "82   5.8  2.7  3.9  1.2\n",
      "19   5.1  3.8  1.5  0.3\n",
      "120  6.9  3.2  5.7  2.3\n",
      "95   5.7  3.0  4.2  1.2\n",
      "41   4.5  2.3  1.3  0.3\n",
      "59   5.2  2.7  3.9  1.4\n",
      "27   5.2  3.5  1.5  0.2\n",
      "16   5.4  3.9  1.3  0.4\n",
      "6    4.6  3.4  1.4  0.3\n",
      "3    4.6  3.1  1.5  0.2\n",
      "145  6.7  3.0  5.2  2.3\n",
      "56   6.3  3.3  4.7  1.6\n",
      "58   6.6  2.9  4.6  1.3\n",
      "103  6.3  2.9  5.6  1.8\n",
      "10   5.4  3.7  1.5  0.2\n",
      "138  6.0  3.0  4.8  1.8\n",
      "51   6.4  3.2  4.5  1.5\n",
      "67   5.8  2.7  4.1  1.0\n",
      "101  5.8  2.7  5.1  1.9\n",
      "131  7.9  3.8  6.4  2.0\n",
      "60   5.0  2.0  3.5  1.0\n",
      "46   5.1  3.8  1.6  0.2\n",
      "71   6.1  2.8  4.0  1.3\n",
      "113  5.7  2.5  5.0  2.0\n",
      "80   5.5  2.4  3.8  1.1\n",
      "119  6.0  2.2  5.0  1.5\n",
      "126  6.2  2.8  4.8  1.8\n",
      "1    4.9  3.0  1.4  0.2\n",
      "컴퓨터답안:[0 2 0 2 2 1 0 1 1 1 1 2 0 1 2 0 1 1 0 2 1 0 1 0 0 0 0 2 1 1 2 0 2 1 1 2 2\n",
      " 1 0 1 2 1 1 2 0]\n",
      "컴퓨터답안(P): [[9.72809999e-01 2.71898412e-02 1.59587685e-07]\n",
      " [2.31712972e-07 9.09879997e-03 9.90900968e-01]\n",
      " [9.65929480e-01 3.40703595e-02 1.60341773e-07]]\n",
      "실제test답안: [0 2 0 1 2 1 0 1 1 1 1 2 0 1 2 0 1 1 0 2 1 0 1 0 0 0 0 2 1 1 2 0 2 1 1 2 2\n",
      " 1 0 1 2 1 2 2 0]\n"
     ]
    }
   ],
   "source": [
    "model = LogisticRegression()\n",
    "model.fit(train_X, train_y)\n",
    "computer_pred  = model.predict(test_X)\n",
    "computer_pred_proba = model.predict_proba(test_X)\n",
    "print(test_X)\n",
    "print(f\"컴퓨터답안:{computer_pred}\")\n",
    "print(f\"컴퓨터답안(P): {computer_pred_proba[:3]}\")\n",
    "print(f\"실제test답안: {test_y.values}\")"
   ]
  },
  {
   "cell_type": "markdown",
   "id": "5a164aa0-f97d-49b5-a72c-ffcb4f09e148",
   "metadata": {
    "tags": []
   },
   "source": [
    "## 평가\n",
    "* ref : Metrics and scoring: quantifying the quality of predictions\n",
    "* https://scikit-learn.org/stable/modules/model_evaluation.html"
   ]
  },
  {
   "cell_type": "markdown",
   "id": "26b6ba4f-ffd8-4cec-a2d1-03ef93e48496",
   "metadata": {},
   "source": [
    "<table class=\"docutils align-default\">\n",
    "<colgroup>\n",
    "<col style=\"width: 31%\">\n",
    "<col style=\"width: 40%\">\n",
    "<col style=\"width: 29%\">\n",
    "</colgroup>\n",
    "<thead>\n",
    "<tr class=\"row-odd\"><th class=\"head\"><p>Scoring</p></th>\n",
    "<th class=\"head\"><p>Function</p></th>\n",
    "<th class=\"head\"><p>Comment</p></th>\n",
    "</tr>\n",
    "</thead>\n",
    "<tbody>\n",
    "<tr class=\"row-even\"><td><p><strong>Classification</strong></p></td>\n",
    "<td></td>\n",
    "<td></td>\n",
    "</tr>\n",
    "<tr class=\"row-odd\"><td><p>‘accuracy’</p></td>\n",
    "<td><p><a class=\"reference internal\" href=\"generated/sklearn.metrics.accuracy_score.html#sklearn.metrics.accuracy_score\" title=\"sklearn.metrics.accuracy_score\"><code class=\"xref py py-func docutils literal notranslate\"><span class=\"pre\">metrics.accuracy_score</span></code></a></p></td>\n",
    "<td></td>\n",
    "</tr>\n",
    "<tr class=\"row-even\"><td><p>‘balanced_accuracy’</p></td>\n",
    "<td><p><a class=\"reference internal\" href=\"generated/sklearn.metrics.balanced_accuracy_score.html#sklearn.metrics.balanced_accuracy_score\" title=\"sklearn.metrics.balanced_accuracy_score\"><code class=\"xref py py-func docutils literal notranslate\"><span class=\"pre\">metrics.balanced_accuracy_score</span></code></a></p></td>\n",
    "<td></td>\n",
    "</tr>\n",
    "<tr class=\"row-odd\"><td><p>‘top_k_accuracy’</p></td>\n",
    "<td><p><a class=\"reference internal\" href=\"generated/sklearn.metrics.top_k_accuracy_score.html#sklearn.metrics.top_k_accuracy_score\" title=\"sklearn.metrics.top_k_accuracy_score\"><code class=\"xref py py-func docutils literal notranslate\"><span class=\"pre\">metrics.top_k_accuracy_score</span></code></a></p></td>\n",
    "<td></td>\n",
    "</tr>\n",
    "<tr class=\"row-even\"><td><p>‘average_precision’</p></td>\n",
    "<td><p><a class=\"reference internal\" href=\"generated/sklearn.metrics.average_precision_score.html#sklearn.metrics.average_precision_score\" title=\"sklearn.metrics.average_precision_score\"><code class=\"xref py py-func docutils literal notranslate\"><span class=\"pre\">metrics.average_precision_score</span></code></a></p></td>\n",
    "<td></td>\n",
    "</tr>\n",
    "<tr class=\"row-odd\"><td><p>‘neg_brier_score’</p></td>\n",
    "<td><p><a class=\"reference internal\" href=\"generated/sklearn.metrics.brier_score_loss.html#sklearn.metrics.brier_score_loss\" title=\"sklearn.metrics.brier_score_loss\"><code class=\"xref py py-func docutils literal notranslate\"><span class=\"pre\">metrics.brier_score_loss</span></code></a></p></td>\n",
    "<td></td>\n",
    "</tr>\n",
    "<tr class=\"row-even\"><td><p>‘f1’</p></td>\n",
    "<td><p><a class=\"reference internal\" href=\"generated/sklearn.metrics.f1_score.html#sklearn.metrics.f1_score\" title=\"sklearn.metrics.f1_score\"><code class=\"xref py py-func docutils literal notranslate\"><span class=\"pre\">metrics.f1_score</span></code></a></p></td>\n",
    "<td><p>for binary targets</p></td>\n",
    "</tr>\n",
    "<tr class=\"row-odd\"><td><p>‘f1_micro’</p></td>\n",
    "<td><p><a class=\"reference internal\" href=\"generated/sklearn.metrics.f1_score.html#sklearn.metrics.f1_score\" title=\"sklearn.metrics.f1_score\"><code class=\"xref py py-func docutils literal notranslate\"><span class=\"pre\">metrics.f1_score</span></code></a></p></td>\n",
    "<td><p>micro-averaged</p></td>\n",
    "</tr>\n",
    "<tr class=\"row-even\"><td><p>‘f1_macro’</p></td>\n",
    "<td><p><a class=\"reference internal\" href=\"generated/sklearn.metrics.f1_score.html#sklearn.metrics.f1_score\" title=\"sklearn.metrics.f1_score\"><code class=\"xref py py-func docutils literal notranslate\"><span class=\"pre\">metrics.f1_score</span></code></a></p></td>\n",
    "<td><p>macro-averaged</p></td>\n",
    "</tr>\n",
    "<tr class=\"row-odd\"><td><p>‘f1_weighted’</p></td>\n",
    "<td><p><a class=\"reference internal\" href=\"generated/sklearn.metrics.f1_score.html#sklearn.metrics.f1_score\" title=\"sklearn.metrics.f1_score\"><code class=\"xref py py-func docutils literal notranslate\"><span class=\"pre\">metrics.f1_score</span></code></a></p></td>\n",
    "<td><p>weighted average</p></td>\n",
    "</tr>\n",
    "<tr class=\"row-even\"><td><p>‘f1_samples’</p></td>\n",
    "<td><p><a class=\"reference internal\" href=\"generated/sklearn.metrics.f1_score.html#sklearn.metrics.f1_score\" title=\"sklearn.metrics.f1_score\"><code class=\"xref py py-func docutils literal notranslate\"><span class=\"pre\">metrics.f1_score</span></code></a></p></td>\n",
    "<td><p>by multilabel sample</p></td>\n",
    "</tr>\n",
    "<tr class=\"row-odd\"><td><p>‘neg_log_loss’</p></td>\n",
    "<td><p><a class=\"reference internal\" href=\"generated/sklearn.metrics.log_loss.html#sklearn.metrics.log_loss\" title=\"sklearn.metrics.log_loss\"><code class=\"xref py py-func docutils literal notranslate\"><span class=\"pre\">metrics.log_loss</span></code></a></p></td>\n",
    "<td><p>requires <code class=\"docutils literal notranslate\"><span class=\"pre\">predict_proba</span></code> support</p></td>\n",
    "</tr>\n",
    "<tr class=\"row-even\"><td><p>‘precision’ etc.</p></td>\n",
    "<td><p><a class=\"reference internal\" href=\"generated/sklearn.metrics.precision_score.html#sklearn.metrics.precision_score\" title=\"sklearn.metrics.precision_score\"><code class=\"xref py py-func docutils literal notranslate\"><span class=\"pre\">metrics.precision_score</span></code></a></p></td>\n",
    "<td><p>suffixes apply as with ‘f1’</p></td>\n",
    "</tr>\n",
    "<tr class=\"row-odd\"><td><p>‘recall’ etc.</p></td>\n",
    "<td><p><a class=\"reference internal\" href=\"generated/sklearn.metrics.recall_score.html#sklearn.metrics.recall_score\" title=\"sklearn.metrics.recall_score\"><code class=\"xref py py-func docutils literal notranslate\"><span class=\"pre\">metrics.recall_score</span></code></a></p></td>\n",
    "<td><p>suffixes apply as with ‘f1’</p></td>\n",
    "</tr>\n",
    "<tr class=\"row-even\"><td><p>‘jaccard’ etc.</p></td>\n",
    "<td><p><a class=\"reference internal\" href=\"generated/sklearn.metrics.jaccard_score.html#sklearn.metrics.jaccard_score\" title=\"sklearn.metrics.jaccard_score\"><code class=\"xref py py-func docutils literal notranslate\"><span class=\"pre\">metrics.jaccard_score</span></code></a></p></td>\n",
    "<td><p>suffixes apply as with ‘f1’</p></td>\n",
    "</tr>\n",
    "<tr class=\"row-odd\"><td><p>‘roc_auc’</p></td>\n",
    "<td><p><a class=\"reference internal\" href=\"generated/sklearn.metrics.roc_auc_score.html#sklearn.metrics.roc_auc_score\" title=\"sklearn.metrics.roc_auc_score\"><code class=\"xref py py-func docutils literal notranslate\"><span class=\"pre\">metrics.roc_auc_score</span></code></a></p></td>\n",
    "<td></td>\n",
    "</tr>\n",
    "<tr class=\"row-even\"><td><p>‘roc_auc_ovr’</p></td>\n",
    "<td><p><a class=\"reference internal\" href=\"generated/sklearn.metrics.roc_auc_score.html#sklearn.metrics.roc_auc_score\" title=\"sklearn.metrics.roc_auc_score\"><code class=\"xref py py-func docutils literal notranslate\"><span class=\"pre\">metrics.roc_auc_score</span></code></a></p></td>\n",
    "<td></td>\n",
    "</tr>\n",
    "<tr class=\"row-odd\"><td><p>‘roc_auc_ovo’</p></td>\n",
    "<td><p><a class=\"reference internal\" href=\"generated/sklearn.metrics.roc_auc_score.html#sklearn.metrics.roc_auc_score\" title=\"sklearn.metrics.roc_auc_score\"><code class=\"xref py py-func docutils literal notranslate\"><span class=\"pre\">metrics.roc_auc_score</span></code></a></p></td>\n",
    "<td></td>\n",
    "</tr>\n",
    "<tr class=\"row-even\"><td><p>‘roc_auc_ovr_weighted’</p></td>\n",
    "<td><p><a class=\"reference internal\" href=\"generated/sklearn.metrics.roc_auc_score.html#sklearn.metrics.roc_auc_score\" title=\"sklearn.metrics.roc_auc_score\"><code class=\"xref py py-func docutils literal notranslate\"><span class=\"pre\">metrics.roc_auc_score</span></code></a></p></td>\n",
    "<td></td>\n",
    "</tr>\n",
    "<tr class=\"row-odd\"><td><p>‘roc_auc_ovo_weighted’</p></td>\n",
    "<td><p><a class=\"reference internal\" href=\"generated/sklearn.metrics.roc_auc_score.html#sklearn.metrics.roc_auc_score\" title=\"sklearn.metrics.roc_auc_score\"><code class=\"xref py py-func docutils literal notranslate\"><span class=\"pre\">metrics.roc_auc_score</span></code></a></p></td>\n",
    "<td></td>\n",
    "</tr>\n",
    "</tbody>\n",
    "</table>"
   ]
  },
  {
   "cell_type": "code",
   "execution_count": 45,
   "id": "dd02a8f1-1e11-41df-8b28-969565786756",
   "metadata": {},
   "outputs": [],
   "source": [
    "from sklearn.metrics import classification_report\n",
    "from sklearn.metrics import accuracy_score, f1_score, recall_score, precision_score, roc_auc_score"
   ]
  },
  {
   "cell_type": "markdown",
   "id": "9f765e95-53de-4ad6-83c3-056669ed837c",
   "metadata": {},
   "source": [
    "<pre>\n",
    "* sklearn.metrics.<b>accuracy_score(y_true, y_pred</b>, *, normalize=True, sample_weight=None)\n",
    "\n",
    "* sklearn.metrics.<b>classification_report(y_true, y_pred</b>, *, labels=None, target_names=None, sample_weight=None, digits=2, output_dict=False, zero_division='warn') </pre>\n",
    "---- \n",
    "<pre>\n",
    "<font color=red><b>이진분류 : average = {‘binary’} , default=’binary’}</b></font>\n",
    "<font color=red><b>멀티분류 : average = {‘micro’, ‘macro’, ‘samples’, ‘weighted’}</b></font>\n",
    "* sklearn.metrics.<b>f1_score(y_true, y_pred</b>, *, labels=None, pos_label=1, <b>average='binary'</b>, sample_weight=None, zero_division='warn')\n",
    "    \n",
    "* sklearn.metrics.<b>recall_score(y_true, y_pred</b>, *, labels=None, pos_label=1, <b>average='binary'</b>, sample_weight=None, zero_division='warn')\n",
    "\n",
    "* sklearn.metrics.<b>precision_score(y_true, y_pred</b>, *, labels=None, pos_label=1, <b>average='binary'</b>, sample_weight=None, zero_division='warn')\n",
    "</pre>\n",
    "\n",
    "---- \n",
    "<pre>\n",
    "* <font color=red><b>y_true, y_score 파라미터 주의주의주의</b></font>\n",
    "* <font color=blue>average{‘micro’, ‘macro’, ‘samples’, ‘weighted’} or None, default=’macro’ --- Will be ignored when y_true is binary.</font>\n",
    "* <font color=blue>multi_class{‘raise’, ‘ovr’, ‘ovo’}, default=’raise’</font>\n",
    "* sklearn.metrics.<font color=red><b>roc_auc_score(y_true, y_score,</b></font> *, average='macro', sample_weight=None, max_fpr=None, multi_class='raise', labels=None)\n"
   ]
  },
  {
   "cell_type": "code",
   "execution_count": 48,
   "id": "cb993219-2659-48b4-b568-8f0c7893d518",
   "metadata": {},
   "outputs": [
    {
     "name": "stdout",
     "output_type": "stream",
     "text": [
      "정확도:0.9556  \t f1:0.9558 \t 재현률(recall):0.9558 \t 정밀도(precision):0.9558 \t roc:0.9955   \n"
     ]
    }
   ],
   "source": [
    "acc       = accuracy_score  ( test_y, computer_pred)\n",
    "f1        = f1_score        ( test_y, computer_pred,       average = 'macro')\n",
    "recall    = recall_score    ( test_y, computer_pred,       average = 'macro')\n",
    "precision = precision_score ( test_y, computer_pred,       average = 'macro')\n",
    "roc_auc   = roc_auc_score   ( test_y, computer_pred_proba, average = 'macro', multi_class=\"ovr\")\n",
    "print(f\"정확도:{acc:.4f}  \\t f1:{f1:.4f} \\t 재현률(recall):{recall:.4f} \\t 정밀도(precision):{precision:.4f} \\t roc:{roc_auc:.4f}   \")"
   ]
  },
  {
   "cell_type": "code",
   "execution_count": 47,
   "id": "9f1e931d-7f72-4965-be07-90a0064993d4",
   "metadata": {},
   "outputs": [
    {
     "name": "stdout",
     "output_type": "stream",
     "text": [
      "              precision    recall  f1-score   support\n",
      "\n",
      "           0       1.00      1.00      1.00        14\n",
      "           1       0.94      0.94      0.94        18\n",
      "           2       0.92      0.92      0.92        13\n",
      "\n",
      "    accuracy                           0.96        45\n",
      "   macro avg       0.96      0.96      0.96        45\n",
      "weighted avg       0.96      0.96      0.96        45\n",
      "\n"
     ]
    }
   ],
   "source": [
    "print(classification_report(test_y, computer_pred))"
   ]
  },
  {
   "cell_type": "code",
   "execution_count": null,
   "id": "a0dc8c8f-4b80-4595-b238-bf27c1498263",
   "metadata": {},
   "outputs": [],
   "source": []
  },
  {
   "cell_type": "code",
   "execution_count": 49,
   "id": "10ebff13-423a-42d5-93f6-07c8a37dbb15",
   "metadata": {},
   "outputs": [],
   "source": [
    "from sklearn.metrics import confusion_matrix"
   ]
  },
  {
   "cell_type": "markdown",
   "id": "8d9dd6b8-c007-4b7f-b4cd-60507b29151e",
   "metadata": {},
   "source": [
    "* sklearn.metrics.confusion_matrix(y_true, y_pred, *, labels=None, sample_weight=None, normalize=None)\n"
   ]
  },
  {
   "cell_type": "code",
   "execution_count": 50,
   "id": "902dd57d-668f-438d-816c-a14e121368a8",
   "metadata": {},
   "outputs": [
    {
     "data": {
      "text/plain": [
       "array([[14,  0,  0],\n",
       "       [ 0, 17,  1],\n",
       "       [ 0,  1, 12]], dtype=int64)"
      ]
     },
     "execution_count": 50,
     "metadata": {},
     "output_type": "execute_result"
    }
   ],
   "source": [
    "confusion_matrix(test_y, computer_pred)"
   ]
  },
  {
   "cell_type": "code",
   "execution_count": null,
   "id": "ea55b031-6c49-4ad9-9d38-ec2e58ad8df8",
   "metadata": {},
   "outputs": [],
   "source": []
  },
  {
   "cell_type": "code",
   "execution_count": null,
   "id": "41ab2919-0aaa-4928-84a2-98ff7c74d1cd",
   "metadata": {},
   "outputs": [],
   "source": []
  }
 ],
 "metadata": {
  "kernelspec": {
   "display_name": "Python 3 (ipykernel)",
   "language": "python",
   "name": "python3"
  },
  "language_info": {
   "codemirror_mode": {
    "name": "ipython",
    "version": 3
   },
   "file_extension": ".py",
   "mimetype": "text/x-python",
   "name": "python",
   "nbconvert_exporter": "python",
   "pygments_lexer": "ipython3",
   "version": "3.8.8"
  },
  "toc-autonumbering": true
 },
 "nbformat": 4,
 "nbformat_minor": 5
}
