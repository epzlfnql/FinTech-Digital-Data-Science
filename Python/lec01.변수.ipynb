{
 "cells": [
  {
   "cell_type": "markdown",
   "id": "aeabbf77-908d-46e5-8f2e-8a64e508e5ee",
   "metadata": {},
   "source": [
    "# lec01. 변수"
   ]
  },
  {
   "cell_type": "markdown",
   "id": "7c375624-d476-4cf7-8aab-1a4920c453ce",
   "metadata": {},
   "source": [
    "* 변수란 값을 담는 저장공간(메모리에 값이 올라온다)\n",
    "* 메모리 ==주소(4바이트 16진법)\n",
    "* 메모리(해당 주소에 10이란 값을 넣어라) ==변수에 값을 할당한다\n",
    "\n",
    "a=10\n",
    "\n",
    "* 주소를 찾아가서 거기에 담긴 값을 출력해라</br>\n",
    "    print(a)"
   ]
  },
  {
   "cell_type": "markdown",
   "id": "da5ce24a-7c05-4511-8620-339debef7e9a",
   "metadata": {},
   "source": [
    "## 변수 선언"
   ]
  },
  {
   "cell_type": "code",
   "execution_count": 6,
   "id": "c4991990-f1d7-4e53-b8d1-2d4ffcb51212",
   "metadata": {},
   "outputs": [],
   "source": [
    "name = '홍길동' #----습관화\n",
    "age = 19\n",
    "deptno = 10\n",
    "grade= '1'"
   ]
  },
  {
   "cell_type": "code",
   "execution_count": 7,
   "id": "90850de1-1951-457c-a8da-3f3f7f8143bb",
   "metadata": {},
   "outputs": [
    {
     "ename": "TypeError",
     "evalue": "unsupported operand type(s) for +: 'int' and 'str'",
     "output_type": "error",
     "traceback": [
      "\u001b[1;31m---------------------------------------------------------------------------\u001b[0m",
      "\u001b[1;31mTypeError\u001b[0m                                 Traceback (most recent call last)",
      "Input \u001b[1;32mIn [7]\u001b[0m, in \u001b[0;36m<cell line: 1>\u001b[1;34m()\u001b[0m\n\u001b[1;32m----> 1\u001b[0m \u001b[43mdeptno\u001b[49m\u001b[43m \u001b[49m\u001b[38;5;241;43m+\u001b[39;49m\u001b[43m \u001b[49m\u001b[43mgrade\u001b[49m\n",
      "\u001b[1;31mTypeError\u001b[0m: unsupported operand type(s) for +: 'int' and 'str'"
     ]
    }
   ],
   "source": [
    "deptno + grade # 10 + '1' =11"
   ]
  },
  {
   "cell_type": "code",
   "execution_count": 8,
   "id": "3e4d8df7-e33b-427d-954e-2ae408e0a0f3",
   "metadata": {},
   "outputs": [],
   "source": [
    "name1 = '홍길동'\n",
    "name2 = '아무개'\n",
    "names = ['홍길동', '아무개'] #------[]로 묶는다."
   ]
  },
  {
   "cell_type": "code",
   "execution_count": 10,
   "id": "e4975c09-88cc-43d5-80cb-f35e0d7ff06b",
   "metadata": {},
   "outputs": [
    {
     "name": "stdout",
     "output_type": "stream",
     "text": [
      "['홍길동', 4.0, 30, 2000]\n",
      "<class 'list'>\n"
     ]
    }
   ],
   "source": [
    "names = ['홍길동', 4.0, 30, 2000]\n",
    "print(names)\n",
    "print( type(names) )"
   ]
  },
  {
   "cell_type": "markdown",
   "id": "5633af0a-4d6f-4e9e-b55f-9dc00a0913dd",
   "metadata": {},
   "source": [
    "# 2. 리스트, 튜플, 딕트 + 세트"
   ]
  },
  {
   "cell_type": "markdown",
   "id": "7aa4530f-03d0-4aff-b77d-cf66fb2d873e",
   "metadata": {},
   "source": [
    "## List\n",
    "- 다양한 타입의 데이터를 하나의 변수에 담는 것\n",
    "- [값, 값, 값]\n",
    "- 타입: <class 'list'>"
   ]
  },
  {
   "cell_type": "markdown",
   "id": "61a993ba-7eab-4212-a9ba-5d525ebae807",
   "metadata": {},
   "source": [
    "## tuple(    )\n",
    "- 다양한 타입의 데이터를 하나의 변수에 담는 것\n",
    "- (값, 값, 값)\n",
    "- 타입:<class 'tuple'>"
   ]
  },
  {
   "cell_type": "code",
   "execution_count": 12,
   "id": "1c40b9b3-1346-4526-886c-2c6f2843ee58",
   "metadata": {},
   "outputs": [],
   "source": [
    "names = ('홍길동', 4.0, 30, 2000) # ----[]를 ()로 바꾼다.\n"
   ]
  },
  {
   "cell_type": "markdown",
   "id": "2ea5871d-a544-4fe7-bf3a-d1ff6b8d9c5f",
   "metadata": {},
   "source": [
    "## dict{ }\n",
    "- 다양한 타입의 데이터를 하나의 변수에 담는 것\n",
    "- { 'key1' : 'val1' ,'key2' : 'val' ,'key3' : 'val'  }\n",
    "- 타입:<class 'dict'>\n",
    "- key값은 달라야 한다. val값은 같을 수 있다."
   ]
  },
  {
   "cell_type": "code",
   "execution_count": 14,
   "id": "634697de-3415-415e-9f33-2a24a398267d",
   "metadata": {},
   "outputs": [
    {
     "name": "stdout",
     "output_type": "stream",
     "text": [
      "{'ename': '홍길동', 'deptno': 30, 'sal': 2000}\n",
      "<class 'dict'>\n"
     ]
    }
   ],
   "source": [
    "names = {'ename':'홍길동', 'deptno':30, 'sal': 2000} #-------{'key1':'val'}\n",
    "print(names)\n",
    "print(type(names))"
   ]
  },
  {
   "cell_type": "markdown",
   "id": "9dbce234-f2bb-4562-ad51-1f67e4bc8e97",
   "metadata": {},
   "source": [
    "## set { }\n",
    "- 다양한 타입의 데이터를 하나의 변수에 담는 것\n",
    "- {'val', 'val', 'val'} --dict와 비슷하지만 key가 없다\n",
    "- 타입: class 'set'>"
   ]
  },
  {
   "cell_type": "code",
   "execution_count": 16,
   "id": "cd7393eb-5498-42b0-9a35-06687ee2f2ae",
   "metadata": {},
   "outputs": [
    {
     "name": "stdout",
     "output_type": "stream",
     "text": [
      "{2000, '홍길동', 30}\n",
      "<class 'set'>\n"
     ]
    }
   ],
   "source": [
    "names = {'홍길동', 30, 2000, 30} #----{'val'}\n",
    "print(names)\n",
    "print(type(names))"
   ]
  },
  {
   "cell_type": "markdown",
   "id": "094a0279-f2ea-4b47-af73-ee8b9a68f5a8",
   "metadata": {},
   "source": [
    "# 3. 혼합: 리스트 튜플 딕트"
   ]
  },
  {
   "cell_type": "code",
   "execution_count": 19,
   "id": "2e387aaa-b23e-4987-8219-2eb7c6e3b716",
   "metadata": {},
   "outputs": [
    {
     "name": "stdout",
     "output_type": "stream",
     "text": [
      "[{'ename': '홍길동1', 'deptno': 10, 'sal': 2000}, {'ename': '홍길동2', 'deptno': 20, 'sal': 2000}, {'ename': '홍길동3', 'deptno': 30, 'sal': 2000}, 5000]\n",
      "<class 'list'>\n"
     ]
    }
   ],
   "source": [
    "emp = [1,\n",
    "       2,\n",
    "       3]\n",
    "\n",
    "emp = [\n",
    "    {'ename':'홍길동1', 'deptno':10, 'sal':2000},\n",
    "       {'ename':'홍길동2', 'deptno':20, 'sal':2000},\n",
    "       {'ename':'홍길동3', 'deptno':30, 'sal':2000},\n",
    "    5000\n",
    "    ]\n",
    "\n",
    "print(emp)\n",
    "print(type(emp))"
   ]
  },
  {
   "cell_type": "markdown",
   "id": "748e90de-27d5-4d60-a1b0-f6f74d42c2ed",
   "metadata": {},
   "source": [
    "# 4. 꺼내기: 리스트 튜플 딕트"
   ]
  },
  {
   "cell_type": "code",
   "execution_count": 21,
   "id": "ce905a2c-947d-46c7-b41e-705a43ad03f2",
   "metadata": {},
   "outputs": [
    {
     "name": "stdout",
     "output_type": "stream",
     "text": [
      "['a', 'b', 'c']\n",
      "a\n",
      "b\n",
      "c\n"
     ]
    }
   ],
   "source": [
    "list = ['a', 'b', 'c']\n",
    "print(list)\n",
    "print(list[0]) #-------------------[]: x번째\n",
    "print(list[1]) \n",
    "print(list[2])"
   ]
  },
  {
   "cell_type": "code",
   "execution_count": 23,
   "id": "39d1407d-05f8-4628-9f6c-01a1c092860b",
   "metadata": {},
   "outputs": [
    {
     "name": "stdout",
     "output_type": "stream",
     "text": [
      "('a', 'b', 'c')\n",
      "a\n",
      "b\n",
      "c\n"
     ]
    }
   ],
   "source": [
    "tupl = ('a', 'b', 'c')\n",
    "print(tupl)\n",
    "print(tupl[0])\n",
    "print(tupl[1])\n",
    "print(tupl[2])"
   ]
  },
  {
   "cell_type": "code",
   "execution_count": 29,
   "id": "0e13d504-27f7-438c-adc8-8b0d89fedc27",
   "metadata": {},
   "outputs": [
    {
     "name": "stdout",
     "output_type": "stream",
     "text": [
      "홍길동1\n",
      "20\n"
     ]
    }
   ],
   "source": [
    "emp = {'ename': '홍길동1', 'deptno':[10, 20, 30], 'sal':1000}\n",
    "# emp[0] #--------KeyError\n",
    "emp['ename'] # value 출력\n",
    "print(emp['ename'])\n",
    "print(emp['deptno'][1])"
   ]
  },
  {
   "cell_type": "code",
   "execution_count": 31,
   "id": "dbdfe1f6-e2e8-4ddf-8e7a-b3fa52b22821",
   "metadata": {},
   "outputs": [
    {
     "name": "stdout",
     "output_type": "stream",
     "text": [
      "홍길동2\n"
     ]
    }
   ],
   "source": [
    "emp = [\n",
    "    {'ename': '홍길동1', 'deptno':[10, 20, 30], 'sal':1000},\n",
    "    {'ename': '홍길동2', 'deptno':20, 'sal':2000}\n",
    "    ,5000\n",
    "]\n",
    "\n",
    "print(emp[1]['ename'])"
   ]
  },
  {
   "cell_type": "code",
   "execution_count": 32,
   "id": "3925a430-c3b2-4758-8c90-212bf81fc35d",
   "metadata": {},
   "outputs": [],
   "source": [
    " t= { \n",
    "         \"kind\": \"youtube#videoListResponse\",\n",
    "         \"etag\": \"\\\"UCBpFjp2h75_b92t44sqraUcyu0/sDAlsG9NGKfr6v5AlPZKSEZdtqA\\\"\",\n",
    "         \"videos\": [\n",
    "          {\n",
    "           \"id\": \"7lCDEYXw3mM\",\n",
    "           \"kind\": \"youtube#video\",\n",
    "           \"etag\": \"\\\"UCBpFjp2h75_b92t44sqraUcyu0/iYynQR8AtacsFUwWmrVaw4Smb_Q\\\"\",\n",
    "           \"snippet\": { \n",
    "            \"publishedAt\": \"2012-06-20T22:45:24.000Z\",\n",
    "            \"channelId\": \"UC_x5XG1OV2P6uZZ5FSM9Ttw\",\n",
    "            \"title\": \"Google I/O 101: Q&A On Using Google APIs\",\n",
    "            \"description\": \"Antonio Fuentes speaks to us and takes questions on working with Google APIs and OAuth 2.0.\",\n",
    "            \"thumbnails\": {\n",
    "             \"default\": {\n",
    "              \"url\": \"https://i.ytimg.com/vi/7lCDEYXw3mM/default.jpg\"\n",
    "             },\n",
    "             \"medium\": {\n",
    "              \"url\": \"https://i.ytimg.com/vi/7lCDEYXw3mM/mqdefault.jpg\"\n",
    "             },\n",
    "             \"high\": {\n",
    "              \"url\": \"https://i.ytimg.com/vi/7lCDEYXw3mM/hqdefault.jpg\"\n",
    "             }\n",
    "            },\n",
    "            \"categoryId\": \"28\"\n",
    "           },\n",
    "           \"contentDetails\": {\n",
    "            \"duration\": \"PT15M51S\",\n",
    "            \"aspectRatio\": \"RATIO_16_9\"\n",
    "           },\n",
    "           \"statistics\": {\n",
    "            \"viewCount\": \"3057\",\n",
    "            \"likeCount\": \"25\",\n",
    "            \"dislikeCount\": \"0\",\n",
    "            \"favoriteCount\": \"17\",\n",
    "            \"commentCount\": \"12\"\n",
    "           },\n",
    "           \"status\": {\n",
    "            \"uploadStatus\": \"STATUS_PROCESSED\",\n",
    "            \"privacyStatus\": \"PRIVACY_PUBLIC\"\n",
    "           }\n",
    "          }\n",
    "         ]\n",
    "        }"
   ]
  },
  {
   "cell_type": "code",
   "execution_count": 53,
   "id": "7109568d-e061-41a8-b340-3c54878f02fe",
   "metadata": {},
   "outputs": [
    {
     "name": "stdout",
     "output_type": "stream",
     "text": [
      "youtube#videoListResponse\n",
      "\"UCBpFjp2h75_b92t44sqraUcyu0/sDAlsG9NGKfr6v5AlPZKSEZdtqA\"\n",
      "https://i.ytimg.com/vi/7lCDEYXw3mM/default.jpg\n"
     ]
    }
   ],
   "source": [
    "print(t['kind'])\n",
    "print(t['etag'])\n",
    "print(t['videos'][0]['snippet']['thumbnails']['default']['url'])"
   ]
  },
  {
   "cell_type": "code",
   "execution_count": 58,
   "id": "52ae6886-df25-4302-bc05-4c10fc0950d6",
   "metadata": {},
   "outputs": [],
   "source": [
    "a = {\n",
    "    \"file_id\": 437,\n",
    "    \"channel_public_id\": \"_ZeUTxl\",\n",
    "    \"user_type\": \"app\",\n",
    "    \"users\": [\n",
    "        {\n",
    "            \"id\": \"12345\",\n",
    "            \"field\" : {\n",
    "            \"생년월일\": \"2000-01-01\",\n",
    "            \"성별\": \"남자\", \n",
    "            \"age\": 19\n",
    "            }\n",
    "        },\n",
    "        {\n",
    "            \"id\": \"65656\",\n",
    "            \"field\" : {\n",
    "            \"생년월일\": \"2020-09-01\",\n",
    "            \"성별\": \"남자\", \n",
    "            \"age\": 21\n",
    "            }\n",
    "        }\n",
    "    ],\n",
    "    \"tag\" :  [{\"food\":[\"피자\",\"라면\"]}, {\"coffee\":\"edia\"}]\n",
    "}\n",
    "\n"
   ]
  },
  {
   "cell_type": "code",
   "execution_count": 67,
   "id": "c0ecdf6f-fb96-4b34-b4e5-cf0aaa3f9f14",
   "metadata": {},
   "outputs": [
    {
     "name": "stdout",
     "output_type": "stream",
     "text": [
      "40\n",
      "['피자', '라면']\n"
     ]
    }
   ],
   "source": [
    "# 회원들의 나이합 출력(두명)\n",
    "print(a['users'][0]['field']['age'] + a['users'][1]['field']['age'])\n",
    "# tag의 food정보 출력\n",
    "print(a['tag'][0]['food'])"
   ]
  },
  {
   "cell_type": "markdown",
   "id": "daf6907c-e796-4fed-9e34-50e5a261fef3",
   "metadata": {},
   "source": [
    "# C: 입력 : 리스트 튜플 딕트\n",
    "- 초기화: 변수를 선언해 새로운 값을 할당 --> 처음에 값을 입력\n",
    "- 재할당: 변수를 선언해 새로운 값을 할당 --> 추가로 더 데이터 입력"
   ]
  },
  {
   "cell_type": "code",
   "execution_count": 68,
   "id": "7749088c-4186-4368-b868-35129a16386a",
   "metadata": {},
   "outputs": [],
   "source": [
    "emp_list = [7799, 'smith', 40]\n",
    "emp_tupl = (7799, 'smith', 40)\n",
    "emp_dict = {'empno':7799, 'ename': 'smith', 'deptno':40}\n",
    "emp_set = {7799, 'smith', 40, 40}"
   ]
  },
  {
   "cell_type": "code",
   "execution_count": 69,
   "id": "d53632e2-04c0-475c-a391-b60c4f82b87e",
   "metadata": {},
   "outputs": [
    {
     "data": {
      "text/plain": [
       "[7799, 'smith', 40, 'sales']"
      ]
     },
     "execution_count": 69,
     "metadata": {},
     "output_type": "execute_result"
    }
   ],
   "source": [
    "emp_list.append('sales')\n",
    "emp_list"
   ]
  },
  {
   "cell_type": "code",
   "execution_count": 70,
   "id": "50ea24b5-8878-472f-81a7-5453db0a6423",
   "metadata": {},
   "outputs": [],
   "source": [
    "# 튜플은 한번 초기화 하면 수정 불가, only 조회만 가능"
   ]
  },
  {
   "cell_type": "code",
   "execution_count": 71,
   "id": "aeb53896-1b89-4c0f-a4a2-0acbd0076311",
   "metadata": {},
   "outputs": [
    {
     "data": {
      "text/plain": [
       "{'empno': 7799, 'ename': 'smith', 'deptno': 40, 'job': 'sales'}"
      ]
     },
     "execution_count": 71,
     "metadata": {},
     "output_type": "execute_result"
    }
   ],
   "source": [
    "emp_dict['job'] = 'sales'\n",
    "emp_dict"
   ]
  },
  {
   "cell_type": "code",
   "execution_count": 72,
   "id": "6f4b473e-888d-483e-9c29-72025fcbc59f",
   "metadata": {},
   "outputs": [
    {
     "data": {
      "text/plain": [
       "{40, 7799, 'sales', 'smith'}"
      ]
     },
     "execution_count": 72,
     "metadata": {},
     "output_type": "execute_result"
    }
   ],
   "source": [
    "emp_set.add('sales')\n",
    "emp_set"
   ]
  },
  {
   "cell_type": "code",
   "execution_count": 73,
   "id": "c25ab580-4e14-4f45-a777-6bb4aa9b29bf",
   "metadata": {},
   "outputs": [],
   "source": [
    "# dict value 값 변경\n",
    "emp_dict['deptno']=44"
   ]
  },
  {
   "cell_type": "code",
   "execution_count": 74,
   "id": "823ce801-cbee-4df5-83c7-f1d552367e05",
   "metadata": {},
   "outputs": [
    {
     "data": {
      "text/plain": [
       "{'empno': 7799, 'ename': 'smith', 'deptno': 44, 'job': 'sales'}"
      ]
     },
     "execution_count": 74,
     "metadata": {},
     "output_type": "execute_result"
    }
   ],
   "source": [
    "emp_dict"
   ]
  },
  {
   "cell_type": "markdown",
   "id": "b1fc01b8-37f6-4989-8dff-4773ea6f2e2b",
   "metadata": {},
   "source": [
    "- 입력: 키값이 기존에 있으면 값 넣기\n",
    "- 수정: 기존에 있는 키값에 값 넣기"
   ]
  },
  {
   "cell_type": "markdown",
   "id": "885f57ba-e78a-4910-badc-88c74937f0b5",
   "metadata": {},
   "source": [
    "* 삭제"
   ]
  },
  {
   "cell_type": "code",
   "execution_count": 76,
   "id": "89c9fb81-a49f-46f1-8743-97dc46c78809",
   "metadata": {},
   "outputs": [
    {
     "data": {
      "text/plain": [
       "['smith', 40, 'sales']"
      ]
     },
     "execution_count": 76,
     "metadata": {},
     "output_type": "execute_result"
    }
   ],
   "source": [
    "emp_list.remove(7799) # --지울값 넣기\n",
    "emp_list"
   ]
  },
  {
   "cell_type": "code",
   "execution_count": 77,
   "id": "27394445-e6f4-4641-a06e-aa69a7862865",
   "metadata": {},
   "outputs": [
    {
     "data": {
      "text/plain": [
       "7799"
      ]
     },
     "execution_count": 77,
     "metadata": {},
     "output_type": "execute_result"
    }
   ],
   "source": [
    "emp_dict.pop('empno')"
   ]
  },
  {
   "cell_type": "code",
   "execution_count": 78,
   "id": "bfabf2d6-e485-44fe-a6da-98000582307a",
   "metadata": {},
   "outputs": [
    {
     "data": {
      "text/plain": [
       "{'ename': 'smith', 'deptno': 44, 'job': 'sales'}"
      ]
     },
     "execution_count": 78,
     "metadata": {},
     "output_type": "execute_result"
    }
   ],
   "source": [
    "emp_dict"
   ]
  },
  {
   "cell_type": "code",
   "execution_count": 79,
   "id": "458d3791-4b3d-4e92-b747-704fe54567a3",
   "metadata": {},
   "outputs": [
    {
     "data": {
      "text/plain": [
       "[40, 'sales']"
      ]
     },
     "execution_count": 79,
     "metadata": {},
     "output_type": "execute_result"
    }
   ],
   "source": [
    "del emp_list[0] # ---번째 지울 수 있다.\n",
    "emp_list"
   ]
  },
  {
   "cell_type": "code",
   "execution_count": null,
   "id": "3cef3f5d-f11a-41ed-be68-3966c8d3741e",
   "metadata": {},
   "outputs": [],
   "source": []
  }
 ],
 "metadata": {
  "kernelspec": {
   "display_name": "Python 3 (ipykernel)",
   "language": "python",
   "name": "python3"
  },
  "language_info": {
   "codemirror_mode": {
    "name": "ipython",
    "version": 3
   },
   "file_extension": ".py",
   "mimetype": "text/x-python",
   "name": "python",
   "nbconvert_exporter": "python",
   "pygments_lexer": "ipython3",
   "version": "3.8.8"
  }
 },
 "nbformat": 4,
 "nbformat_minor": 5
}
