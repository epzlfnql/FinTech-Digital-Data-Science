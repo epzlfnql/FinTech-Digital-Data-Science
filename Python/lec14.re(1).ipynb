{
 "cells": [
  {
   "cell_type": "markdown",
   "id": "39d6fd02-74d2-4f12-9607-1548d99663b6",
   "metadata": {},
   "source": [
    "# ch14. 정규 표현식"
   ]
  },
  {
   "cell_type": "markdown",
   "id": "e89c4b99-51d2-48b1-b3d7-fdff362e6ab0",
   "metadata": {
    "tags": []
   },
   "source": [
    "> <font size=4>**메타문자**"
   ]
  },
  {
   "cell_type": "markdown",
   "id": "3764d3d9-4924-43dd-bbf2-9aaf553555dc",
   "metadata": {},
   "source": [
    "|메타문자| |사용예|설명|\n",
    "|------|---|---|---|\n",
    "|[ ]|문자 클래스|[abc]|a, b, c 중 한 개의 문자와 매치                              &nbsp;|\n",
    "|[s-e]| |[0-2]<br>[a-c]<br>[a-zA-Z]<br>[0-9]|0,1,2<br>a,b,c<br>알파벳모두<br>숫자|\n",
    "|^|반대|[^0-9]|숫자가 아닌 문자와 매치|\n",
    "|<font color=red size=4><b>?|0또는1글자<br>(있어도 되고 없어도 되고)|ab?c|?앞에 문자 b를 0 또는 1번 반복<br>O abc<br>O ac<br>X abbc|\n",
    "|<font color=red size=4><b>.|1글자|a.b<br>a[.]b|a + 모든문자 + b<br>a + Dot(.)문자 + b|\n",
    "|<font color=red size=4><b>*|반복 0~|ca*t| *앞에 문자 a를 0~ 반복<br>O ct<br>O cat<br>O caaat|\n",
    "|<font color=red size=4><b>+|반복 1~|ca+t| +앞에 문자 a를 1~ 반복<br>X ct<br>O cat<br>O caaat|  \n",
    "|{s,e}|반복 s~e|{3,5}<br>{3, }<br>{ ,5}<br>{1, }<br>{0, }<br>ca{2}t<br> <br> <br>ca{2,4}t<br> <br> <br> <br>|3이상 ~ 5이하 반복<br>3~ 이상 반복<br>~5 이하 반복<br>+<br>*<br>{2}앞에 문자a를 2번반복<br>X cat<br>O caat<br>{2}앞에 문자a를 2 ~ 4번반복<br>X cat<br>O caat<br>O caaaat|"
   ]
  },
  {
   "cell_type": "markdown",
   "id": "920e8d46-0624-4cb2-ad36-2a9fa515e3a9",
   "metadata": {},
   "source": [
    "<pre> \n",
    "f\"_______\"\n",
    "^…$\tStarts and ends\n",
    "(…)\tCapture Group\n",
    "(a(bc))\tCapture Sub-group\n",
    "(.*)\tCapture all\n",
    "(abc|&def)\tMatches abc or def"
   ]
  },
  {
   "cell_type": "markdown",
   "id": "c033ec3c-e094-4ad2-b214-906b872241d5",
   "metadata": {},
   "source": [
    "> <font size=4> **자주 사용하는 문자 클래스**"
   ]
  },
  {
   "cell_type": "markdown",
   "id": "7b7c37f6-b8b7-4f10-8200-e1f8bf71c223",
   "metadata": {
    "tags": []
   },
   "source": [
    "|종류|문자클래스|설명|유사표현|\n",
    "|------|---|---|---|\n",
    "|숫자|<font color=red size=3><b>\\d|숫자와 매치|[0-9]|\n",
    "||<font color=red size=3><b>\\D|숫자가 아닌 것과 매치|[^0-9]|\n",
    "|숫자+문자|<font color=red size=3><b>\\w|문자+숫자(alphanumeric)와 매치|[a-zA-Z0-9]|\n",
    "||<font color=red size=3><b>\\W|문자+숫자(alphanumeric)가 아닌 문자와 매치|[^a-zA-Z0-9]|\n",
    "|특수문자|<font color=red size=3><b>\\s|whitespace 문자와 매치|[ \\t\\n\\r\\f\\v]|\n",
    "||<font color=red size=3><b>\\S|whitespace 문자가 아닌 것과 매치|[^ \\t\\n\\r\\f\\v]|"
   ]
  },
  {
   "cell_type": "code",
   "execution_count": null,
   "id": "f45ca53d-f816-4127-9ee0-19cf531ee7ed",
   "metadata": {},
   "outputs": [],
   "source": []
  },
  {
   "cell_type": "markdown",
   "id": "0c72b41a-3967-4766-ae63-8bc2517467e8",
   "metadata": {},
   "source": [
    "> <font size=4> **import re 정규식을 이용한 문자열 검색**"
   ]
  },
  {
   "cell_type": "markdown",
   "id": "610477dd-bc21-4275-bd83-296ccd301cac",
   "metadata": {},
   "source": [
    "|종류|설명|\n",
    "|------|---|\n",
    "|<font color=red size=3><b>match()|문자열의 처음부터 정규식과 매치되는지 검사|\n",
    "|<font color=red size=3><b>search()|문자열 전체에서 정규식과 매치되는지 검사|\n",
    "|<font color=red size=3><b>findall()|정규식과 매치되는 모든 문자열(substring)을 리스트로 반환|\n",
    "|<font color=red size=3><b>finditer()|정규식과 매치되는 모든 문자열(substring)을 반복 가능한 객체로 반환|"
   ]
  },
  {
   "cell_type": "markdown",
   "id": "66c002ea-f431-4f21-acbd-7ae5fd782ab3",
   "metadata": {},
   "source": [
    "--- "
   ]
  },
  {
   "cell_type": "code",
   "execution_count": 1,
   "id": "db12d625-f958-4763-b9cc-bb38ef2c59b1",
   "metadata": {},
   "outputs": [],
   "source": [
    "import re"
   ]
  },
  {
   "cell_type": "markdown",
   "id": "32058d1e-d1ec-48e2-bf6d-3bbd7813cb82",
   "metadata": {},
   "source": [
    "* <b>re.함수('패턴', '검색대상문자열')"
   ]
  },
  {
   "cell_type": "code",
   "execution_count": 4,
   "id": "8b826655-b4c8-4fae-80aa-5984c45cd5ab",
   "metadata": {},
   "outputs": [],
   "source": [
    "m = re.match('[a-z]+', \"10python10\")\n",
    "m"
   ]
  },
  {
   "cell_type": "code",
   "execution_count": 6,
   "id": "f265378a-bf58-4cc6-9606-45162799c8f0",
   "metadata": {},
   "outputs": [
    {
     "data": {
      "text/plain": [
       "<re.Match object; span=(2, 8), match='python'>"
      ]
     },
     "execution_count": 6,
     "metadata": {},
     "output_type": "execute_result"
    }
   ],
   "source": [
    "m = re.search('[a-z]+', \"10python10agc\")\n",
    "m"
   ]
  },
  {
   "cell_type": "markdown",
   "id": "4ace05cf-c146-4774-b43b-fd146989c0d4",
   "metadata": {},
   "source": [
    "* <b>match()\n",
    "  - 컴파일된 패턴 '[a-z]+'를 가지고 match() 메서드 수행"
   ]
  },
  {
   "cell_type": "code",
   "execution_count": 4,
   "id": "b5da1930-8229-495f-8c1f-01a547af1d36",
   "metadata": {},
   "outputs": [
    {
     "name": "stdout",
     "output_type": "stream",
     "text": [
      "None\n",
      "<re.Match object; span=(0, 6), match='python'> python\n",
      "None\n"
     ]
    }
   ],
   "source": [
    "m = re.match('ab*', \"python\")\n",
    "print(m)\n",
    "\n",
    "m = re.match('[a-z]+', \"python\")\n",
    "print(m, m.group())\n",
    "\n",
    "m = re.match('[a-z]+', \"3 python\")\n",
    "print(m)"
   ]
  },
  {
   "cell_type": "markdown",
   "id": "418c020e-4f91-495d-be58-0c9ea7391622",
   "metadata": {},
   "source": [
    "--- "
   ]
  },
  {
   "cell_type": "markdown",
   "id": "3109c51c-e89e-414f-a592-371980c6e32b",
   "metadata": {},
   "source": [
    "* <b>패턴 '[a-z]+'를 매번 쓰기 귀찮다\n",
    "    * p = re.compile('[a-z]+')"
   ]
  },
  {
   "cell_type": "code",
   "execution_count": 7,
   "id": "ac2e4c59-9599-45a6-968e-1c61ffc0666d",
   "metadata": {},
   "outputs": [
    {
     "name": "stdout",
     "output_type": "stream",
     "text": [
      "<re.Match object; span=(2, 8), match='python'>\n",
      "<re.Match object; span=(2, 8), match='python'>\n"
     ]
    }
   ],
   "source": [
    "p = re.compile('[a-z]+')\n",
    "  #re.search('[a-z]+', \"10python10\")\n",
    "m = p.search(          \"10python10\")\n",
    "print(m)\n",
    "\n",
    "m = p.search(\"3 python\")\n",
    "print(m)"
   ]
  },
  {
   "cell_type": "markdown",
   "id": "0b677ef5-bb61-4440-acc6-52c092166897",
   "metadata": {},
   "source": [
    "---"
   ]
  },
  {
   "cell_type": "markdown",
   "id": "00adf6b2-ee46-4e18-9727-28dccf6b27a0",
   "metadata": {},
   "source": [
    "* <b>search()\n",
    "  - 컴파일된 패턴 객체 '[a-z]+'를 가지고 search() 메서드 수행"
   ]
  },
  {
   "cell_type": "code",
   "execution_count": 5,
   "id": "e1fa0779-3267-452d-a6db-db1209db811b",
   "metadata": {},
   "outputs": [
    {
     "name": "stdout",
     "output_type": "stream",
     "text": [
      "<re.Match object; span=(2, 8), match='python'>\n"
     ]
    }
   ],
   "source": [
    "p = re.compile('[a-z]+')\n",
    "m = p.search(\"3 python 10 gdc\")\n",
    "print(m)"
   ]
  },
  {
   "cell_type": "markdown",
   "id": "2f1241ef-65b5-46a2-9a5b-fb76cfcc2fba",
   "metadata": {},
   "source": [
    "* <b>findall()\n",
    "  - 컴파일된 패턴 객체 '[a-z]+'를 가지고 findall() 메서드 수행 - <font color=red>정규식과 매치되는 리스트 반환"
   ]
  },
  {
   "cell_type": "code",
   "execution_count": 6,
   "id": "5da990f1-af95-4c06-a21b-e06528a6249e",
   "metadata": {},
   "outputs": [
    {
     "name": "stdout",
     "output_type": "stream",
     "text": [
      "['life', 'is', 'too', 'short']\n"
     ]
    }
   ],
   "source": [
    "p = re.compile('[a-z]+')\n",
    "m = p.findall(\"3 life is 100 too short 100\")\n",
    "print(m)"
   ]
  },
  {
   "cell_type": "markdown",
   "id": "cbfbeb6c-16f8-4996-9821-c328d035182b",
   "metadata": {},
   "source": [
    "* <b>finditer()\n",
    "  - 컴파일된 패턴 객체 '[a-z]+'를 가지고 finditer() 메서드 수행 - <font color=red>정규식과 매치되는 iterator 객체 반환"
   ]
  },
  {
   "cell_type": "code",
   "execution_count": 7,
   "id": "f31a6a0e-e1dd-4581-96fa-17f94d29ae9d",
   "metadata": {},
   "outputs": [
    {
     "name": "stdout",
     "output_type": "stream",
     "text": [
      "<callable_iterator object at 0x000001F6D5117280>\n",
      "<re.Match object; span=(0, 1), match='a'> \t a\n",
      "<re.Match object; span=(2, 3), match='b'> \t b\n",
      "<re.Match object; span=(4, 7), match='cde'> \t cde\n"
     ]
    }
   ],
   "source": [
    "p = re.compile('[a-z]+')\n",
    "m = p.finditer(\"a b cde 100\")\n",
    "print(m)\n",
    "for match_obj in m: \n",
    "    print(match_obj, '\\t', match_obj.group())"
   ]
  },
  {
   "cell_type": "code",
   "execution_count": null,
   "id": "2d354895-f059-46c7-93a4-6ca8ec7ab835",
   "metadata": {},
   "outputs": [],
   "source": []
  },
  {
   "cell_type": "markdown",
   "id": "35d3cdc7-e824-4cc0-8ef4-4e2f816e19f5",
   "metadata": {},
   "source": [
    "> <font size=4> **re.compile( ___ , 옵션)**"
   ]
  },
  {
   "cell_type": "markdown",
   "id": "f64b1ea3-253a-491c-b795-5114661629ef",
   "metadata": {},
   "source": [
    "## Quiz\n",
    "* ref : https://regexone.com/"
   ]
  },
  {
   "cell_type": "markdown",
   "id": "35f207a6-bca0-4e08-a94c-d4ce2e5ba863",
   "metadata": {},
   "source": [
    "<pre>\n",
    "정규식 a[.]{3,}b과 매치되는 문자열?\n",
    "\n",
    "acccb\n",
    "a....b\n",
    "aaab\n",
    "a.cccb"
   ]
  },
  {
   "cell_type": "markdown",
   "id": "734ab1b9-5df9-475c-89df-210826bd7d34",
   "metadata": {},
   "source": [
    "<pre>\n",
    "다음은 무엇을 표현하기 위한 정규식인가?\n",
    "\"^.+[@].+[.].+$\"\n",
    "\n",
    "r\"(\\w+)\\s+\\d+[-]\\d+[-]\\d+\""
   ]
  },
  {
   "cell_type": "markdown",
   "id": "b1efeb3a-af7c-40b0-9c5f-646f4e9c9b16",
   "metadata": {},
   "source": [
    "* kim1234@naver.com"
   ]
  },
  {
   "cell_type": "code",
   "execution_count": 9,
   "id": "401ceb4d-eca4-4be8-ae2e-2201399eef4a",
   "metadata": {},
   "outputs": [
    {
     "data": {
      "text/plain": [
       "<re.Match object; span=(0, 1), match='0'>"
      ]
     },
     "execution_count": 9,
     "metadata": {},
     "output_type": "execute_result"
    }
   ],
   "source": [
    "re.search('[a-zA-Z0-9]', \"0\")\n",
    "#re.search(f'\\w*[@]', \"a1100@\")"
   ]
  },
  {
   "cell_type": "code",
   "execution_count": 29,
   "id": "a5b320fa-74d4-41df-8d26-d8e12c8e2585",
   "metadata": {},
   "outputs": [
    {
     "data": {
      "text/plain": [
       "<re.Match object; span=(0, 17), match='kim1234@naver.com'>"
      ]
     },
     "execution_count": 29,
     "metadata": {},
     "output_type": "execute_result"
    }
   ],
   "source": [
    "# 혜린\n",
    "re.search(f\"\\w+[@]\\w+[.]\\w+\", \"kim1234@naver.com\")"
   ]
  },
  {
   "cell_type": "code",
   "execution_count": 30,
   "id": "bdd9afb8-f0f9-4bda-a827-b28898a4287d",
   "metadata": {},
   "outputs": [
    {
     "data": {
      "text/plain": [
       "<re.Match object; span=(0, 17), match='kim1214@naver.com'>"
      ]
     },
     "execution_count": 30,
     "metadata": {},
     "output_type": "execute_result"
    }
   ],
   "source": [
    "#김효선\n",
    "re.search('[a-zA-Z0-9]+[@][a-zA-Z0-9]+[.][a-zA-Z0-9]+',\"kim1214@naver.com\")"
   ]
  },
  {
   "cell_type": "code",
   "execution_count": 33,
   "id": "f120c5f0-5265-4655-85ba-61b1872085ee",
   "metadata": {},
   "outputs": [
    {
     "data": {
      "text/plain": [
       "<re.Match object; span=(0, 17), match='Kim1214@naver.com'>"
      ]
     },
     "execution_count": 33,
     "metadata": {},
     "output_type": "execute_result"
    }
   ],
   "source": [
    "#우승우\n",
    "#.[a-z]*\n",
    "#[a-z]+\n",
    "re.search('[A-Za-z0-9]+[@].[a-z]*[.].[a-z]*',\"Kim1214@naver.com\")"
   ]
  },
  {
   "cell_type": "code",
   "execution_count": 34,
   "id": "8a7c5b97-1a60-4110-99c1-df13ad2d7216",
   "metadata": {},
   "outputs": [
    {
     "data": {
      "text/plain": [
       "<re.Match object; span=(0, 17), match='Kim1214@naver.com'>"
      ]
     },
     "execution_count": 34,
     "metadata": {},
     "output_type": "execute_result"
    }
   ],
   "source": [
    "#김문식\n",
    "re.search(f'^[\\w]+[@].+[.]*.*[.][a-zA-Z]+$',\"Kim1214@naver.com\")"
   ]
  },
  {
   "cell_type": "markdown",
   "id": "950f2cbb-5737-4485-afd5-a25a24da1815",
   "metadata": {},
   "source": [
    "* 확장자 txt 패턴 찾기\n",
    "<pre>\n",
    "abc.txt aa.jpg  a100.txt  ==> abc.txt   a100.txt"
   ]
  },
  {
   "cell_type": "code",
   "execution_count": 40,
   "id": "8e88070e-9941-4676-ac02-0d56216500aa",
   "metadata": {},
   "outputs": [
    {
     "data": {
      "text/plain": [
       "['abc.txt', 'a100.txt']"
      ]
     },
     "execution_count": 40,
     "metadata": {},
     "output_type": "execute_result"
    }
   ],
   "source": [
    "# 혜린\n",
    "#re.findall(\".+[.]txt\", \"abc.txt aa.jpg a100.txt\")\n",
    "re.findall(\"\\w+[.]txt\", \"abc.txt aa.jpg a100.txt\")"
   ]
  },
  {
   "cell_type": "markdown",
   "id": "0fe8dbe6-3549-4ca3-b287-a85e2ac4ee4c",
   "metadata": {},
   "source": [
    "* 한글명 찾기\n",
    "<pre>\n",
    "James 홍길동 아무개 ==> 홍길동 아무개"
   ]
  },
  {
   "cell_type": "code",
   "execution_count": 19,
   "id": "72071de7-4906-4ad8-ba23-0dfe181aad95",
   "metadata": {},
   "outputs": [
    {
     "data": {
      "text/plain": [
       "['ㅠㅠㅠ', 'ㅎㅎㅎ', '까가길동', '아무개']"
      ]
     },
     "execution_count": 19,
     "metadata": {},
     "output_type": "execute_result"
    }
   ],
   "source": [
    "# re.findall(\"[^a-zA-Z]+\", \"James 홍길동 아무개\")\n",
    "re.findall(\"[가-힣]+\", \"James ㅠㅠㅠ 가길동 아무개\")\n",
    "re.findall(\"[ㄱ-ㅎㅏ-ㅣ가-힣]+\", \"James ㅠㅠㅠ ㅎㅎㅎ 까가길동 아무개\")"
   ]
  },
  {
   "cell_type": "code",
   "execution_count": 23,
   "id": "d796b7a8-60f5-456b-9786-2ee8f91fe271",
   "metadata": {},
   "outputs": [
    {
     "data": {
      "text/plain": [
       "'Miss.'"
      ]
     },
     "execution_count": 23,
     "metadata": {},
     "output_type": "execute_result"
    }
   ],
   "source": [
    "re.search(\" [a-zA-Z]+[.]\", \"Heikkinen, Miss. Laina\").group().strip()"
   ]
  },
  {
   "cell_type": "markdown",
   "id": "c7030ea8-e110-462d-bbf2-b9738d032756",
   "metadata": {},
   "source": [
    "# [QUIZ] : 메뉴 정규식 표현"
   ]
  },
  {
   "cell_type": "markdown",
   "id": "17e4dd6d-50d8-4f14-8a33-d59f2c8eca22",
   "metadata": {},
   "source": [
    "* 데이콘 구내식당 식수 AI 예측 경진대회\n",
    "* ref : https://dacon.io/competitions/official/235743/data"
   ]
  },
  {
   "cell_type": "code",
   "execution_count": 37,
   "id": "bcef891d-34dc-4218-80f7-5b295f6fd9fd",
   "metadata": {},
   "outputs": [
    {
     "data": {
      "text/plain": [
       "0    쌀밥/잡곡밥 (쌀,현미흑미:국내산) 오징어찌개  쇠불고기 (쇠고기:호주산) 계란찜 ...\n",
       "1    쌀밥/잡곡밥 (쌀,현미흑미:국내산) 김치찌개  가자미튀김  모둠소세지구이  마늘쫑무...\n",
       "2    카레덮밥 (쌀,현미흑미:국내산) 팽이장국  치킨핑거 (닭고기:국내산) 쫄면야채무침 ...\n",
       "3    쌀밥/잡곡밥 (쌀,현미흑미:국내산) 쇠고기무국  주꾸미볶음  부추전  시금치나물  ...\n",
       "4    쌀밥/잡곡밥 (쌀,현미흑미:국내산) 떡국  돈육씨앗강정 (돼지고기:국내산) 우엉잡채...\n",
       "Name: 중식메뉴, dtype: object"
      ]
     },
     "execution_count": 37,
     "metadata": {},
     "output_type": "execute_result"
    }
   ],
   "source": [
    "import pandas as pd\n",
    "df = pd.read_csv(\"lec14.re.train.csv\")\n",
    "df[\"중식메뉴\"].head()"
   ]
  },
  {
   "cell_type": "code",
   "execution_count": 29,
   "id": "abf3594b-9a52-4795-b75a-6f3f61e89201",
   "metadata": {},
   "outputs": [
    {
     "data": {
      "text/plain": [
       "'쌀밥/잡곡밥 (쌀,현미흑미:국내산) 오징어찌개  쇠불고기 (쇠고기:호주산) 계란찜  청포묵무침  요구르트  포기김치 (배추,고추가루:국내산) '"
      ]
     },
     "execution_count": 29,
     "metadata": {},
     "output_type": "execute_result"
    }
   ],
   "source": [
    "df[\"중식메뉴\"][0]"
   ]
  },
  {
   "cell_type": "markdown",
   "id": "539b00a1-3c74-4406-ac97-b4c5501c716d",
   "metadata": {},
   "source": [
    "* '쌀밥/잡곡밥 (쌀,현미흑미:국내산) 오징어찌개  쇠불고기 (쇠고기:호주산) 계란찜  청포묵무침  요구르트  포기김치 (배추,고추가루:국내산) '\n",
    "* 쌀밥  오징어찌개 쇠불고기 계란찜 청포묵무침  요구르트  포기김치"
   ]
  },
  {
   "cell_type": "code",
   "execution_count": 75,
   "id": "cc17f4b8-1e33-4cbe-ba03-c21b5578f4e2",
   "metadata": {},
   "outputs": [
    {
     "name": "stdout",
     "output_type": "stream",
     "text": [
      "NanumGothic\n"
     ]
    }
   ],
   "source": [
    "import numpy as np\n",
    "import matplotlib.pyplot as plt\n",
    "import matplotlib.font_manager as fm\n",
    "import matplotlib as mpl\n",
    "mpl.rcParams['axes.unicode_minus'] = False\n",
    "mpl.rcParams[\"figure.figsize\"] = (8,4)\n",
    "mpl.rcParams['axes.grid'] = True \n",
    "path = 'C:\\\\Windows\\\\Fonts\\\\\\x7f\\x7f\\x7f\\x7fBOLD.TTF'\n",
    "font_name = fm.FontProperties(fname=path, size=10).get_name()\n",
    "print(font_name)\n",
    "plt.rc('font', family=font_name)\n",
    "# plt.title('한글제목')\n",
    "# plt.show()"
   ]
  },
  {
   "cell_type": "code",
   "execution_count": 226,
   "id": "b2b3d7d6-5205-484f-8574-b2ea51672e7e",
   "metadata": {},
   "outputs": [
    {
     "name": "stdout",
     "output_type": "stream",
     "text": [
      "['쌀밥/잡곡밥', '오징어찌개', '쇠불고기', '계란찜', '청포묵무침', '요구르트', '포기김치']\n"
     ]
    }
   ],
   "source": [
    "import re \n",
    "text = ' 쌀밥 /잡곡밥 (쌀,현미흑미:국내산) 오징어찌개  쇠불고기 쇠고기:호주산) 계란찜  청포묵무침  요구르트  포기김치 (배추,고추가루:국내산) '\n",
    "text = re.sub(r'/^\\s+|\\s+$/g', '', text.strip())#앞뒤 공백 제거\n",
    "text = text.replace(r' /','/')  #앞뒤 공백 제거\n",
    "text = text.replace(r'/ ','/')  #앞뒤 공백 제거\n",
    "  \n",
    "list = text.split()\n",
    "relist = []\n",
    "for item in list:\n",
    "    item = re.sub(r'\\([^)]*\\)', '', item.strip())  #(s) 제거\n",
    "    item = re.sub(r'[^)]*\\)', '', item.strip())    #s) 제거\n",
    "    item = re.sub(r'\\([^)]*', '', item.strip())    #(s 제거\n",
    "    item = re.sub(' +', ' ', item.strip())       #공백,탭 제거\n",
    "    if len(item) > 0:\n",
    "        relist.append(item)\n",
    "print(relist)"
   ]
  },
  {
   "cell_type": "code",
   "execution_count": 232,
   "id": "415947a6-8afe-4a9a-9897-c902355bf4f6",
   "metadata": {},
   "outputs": [
    {
     "data": {
      "text/plain": [
       "'ㄱㄱ ㄴㄴ ㄷㄷ'"
      ]
     },
     "execution_count": 232,
     "metadata": {},
     "output_type": "execute_result"
    }
   ],
   "source": [
    "tlist = \"ㄱㄱ,ㄴㄴ,ㄷㄷ\".split(\",\")\n",
    "tlist\n",
    "' '.join(tlist)"
   ]
  },
  {
   "cell_type": "markdown",
   "id": "1cf87277-066b-461a-acd0-79fc1d004b0d",
   "metadata": {},
   "source": [
    "## 방법1) 정규식 사용"
   ]
  },
  {
   "cell_type": "code",
   "execution_count": 154,
   "id": "cac7b3b2-45ff-46c4-a600-ed5539337b4d",
   "metadata": {},
   "outputs": [
    {
     "data": {
      "text/html": [
       "<div>\n",
       "<style scoped>\n",
       "    .dataframe tbody tr th:only-of-type {\n",
       "        vertical-align: middle;\n",
       "    }\n",
       "\n",
       "    .dataframe tbody tr th {\n",
       "        vertical-align: top;\n",
       "    }\n",
       "\n",
       "    .dataframe thead th {\n",
       "        text-align: right;\n",
       "    }\n",
       "</style>\n",
       "<table border=\"1\" class=\"dataframe\">\n",
       "  <thead>\n",
       "    <tr style=\"text-align: right;\">\n",
       "      <th></th>\n",
       "      <th>중식메뉴</th>\n",
       "      <th>중식메뉴2</th>\n",
       "    </tr>\n",
       "  </thead>\n",
       "  <tbody>\n",
       "    <tr>\n",
       "      <th>0</th>\n",
       "      <td>쌀밥/잡곡밥 (쌀,현미흑미:국내산) 오징어찌개  쇠불고기 (쇠고기:호주산) 계란찜 ...</td>\n",
       "      <td>쌀밥,오징어찌개,쇠불고기,계란찜,청포묵무침,요구르트,포기김치</td>\n",
       "    </tr>\n",
       "    <tr>\n",
       "      <th>1</th>\n",
       "      <td>쌀밥/잡곡밥 (쌀,현미흑미:국내산) 김치찌개  가자미튀김  모둠소세지구이  마늘쫑무...</td>\n",
       "      <td>쌀밥,김치찌개,가자미튀김,모둠소세지구이,마늘쫑무침,요구르트,배추겉절이</td>\n",
       "    </tr>\n",
       "  </tbody>\n",
       "</table>\n",
       "</div>"
      ],
      "text/plain": [
       "                                                중식메뉴  \\\n",
       "0  쌀밥/잡곡밥 (쌀,현미흑미:국내산) 오징어찌개  쇠불고기 (쇠고기:호주산) 계란찜 ...   \n",
       "1  쌀밥/잡곡밥 (쌀,현미흑미:국내산) 김치찌개  가자미튀김  모둠소세지구이  마늘쫑무...   \n",
       "\n",
       "                                    중식메뉴2  \n",
       "0       쌀밥,오징어찌개,쇠불고기,계란찜,청포묵무침,요구르트,포기김치  \n",
       "1  쌀밥,김치찌개,가자미튀김,모둠소세지구이,마늘쫑무침,요구르트,배추겉절이  "
      ]
     },
     "execution_count": 154,
     "metadata": {},
     "output_type": "execute_result"
    }
   ],
   "source": [
    "def my_reg2(text):\n",
    "    text = re.sub(r'/^\\s+|\\s+$/g', '', text.strip())#앞뒤 공백 제거\n",
    "    text = text.replace(r' /','/')  #앞뒤 공백 제거\n",
    "    text = text.replace(r'/ ','/')  #앞뒤 공백 제거\n",
    "    \n",
    "    list = text.split()\n",
    "    relist = []\n",
    "    for item in list:\n",
    "        item = re.sub(r'\\([^)]*\\)'  , '', item.strip())  #(s) 제거\n",
    "        item = re.sub(r'[^)]*\\)'    , '', item.strip())  #s) 제거\n",
    "        item = re.sub(r'\\([^)]*'    , '', item.strip())  #(s 제거\n",
    "        item = re.sub(r'쌀밥/잡곡밥' , '쌀밥', item.strip())  #\n",
    "        \n",
    "        \n",
    "        if len(item) > 0:\n",
    "            relist.append(item.strip())\n",
    "    return ','.join(relist)\n",
    "    \n",
    "\n",
    "df['중식메뉴2'] = df['중식메뉴'].apply(lambda x: my_reg2(x))\n",
    "df[['중식메뉴','중식메뉴2']].head(2)"
   ]
  },
  {
   "cell_type": "code",
   "execution_count": 93,
   "id": "d7366fd9-7513-4256-b779-ba0a2f3a26b8",
   "metadata": {},
   "outputs": [
    {
     "name": "stdout",
     "output_type": "stream",
     "text": [
      "10\n"
     ]
    }
   ],
   "source": [
    "df[\"cnt\"] = df['중식메뉴2'].apply(lambda x: len(x.split(\",\")))\n",
    "df.head()\n",
    "print(df[\"cnt\"].max())"
   ]
  },
  {
   "cell_type": "markdown",
   "id": "11ae792c-9a67-4478-9de7-394bf6177881",
   "metadata": {},
   "source": [
    "## 방법2) 단순 조건절 사용"
   ]
  },
  {
   "cell_type": "code",
   "execution_count": 215,
   "id": "028c6fee-bab5-4d87-b1c9-504ce47c19e4",
   "metadata": {},
   "outputs": [],
   "source": [
    "tot_menu_list = []\n",
    "def my_reg3(menu_str):\n",
    "    x_ = []\n",
    "    menu_list = menu_str.split(' ')\n",
    "    for menu in menu_list:\n",
    "        if '(' in menu or ')' in menu:\n",
    "            continue\n",
    "        elif '' == menu:\n",
    "            continue\n",
    "        # elif '쌀밥/잡곡밥' == menu:\n",
    "        elif '/' in menu:\n",
    "            menu =  menu.split(\"/\")[0]\n",
    "            x_.append(menu)\n",
    "        else:\n",
    "            x_.append(menu)\n",
    "        tot_menu_list.append(menu)\n",
    "    return ','.join(x_)"
   ]
  },
  {
   "cell_type": "code",
   "execution_count": 216,
   "id": "67f3575c-9b32-4abc-975b-ed3e5612c594",
   "metadata": {},
   "outputs": [
    {
     "data": {
      "text/html": [
       "<div>\n",
       "<style scoped>\n",
       "    .dataframe tbody tr th:only-of-type {\n",
       "        vertical-align: middle;\n",
       "    }\n",
       "\n",
       "    .dataframe tbody tr th {\n",
       "        vertical-align: top;\n",
       "    }\n",
       "\n",
       "    .dataframe thead th {\n",
       "        text-align: right;\n",
       "    }\n",
       "</style>\n",
       "<table border=\"1\" class=\"dataframe\">\n",
       "  <thead>\n",
       "    <tr style=\"text-align: right;\">\n",
       "      <th></th>\n",
       "      <th>중식메뉴</th>\n",
       "      <th>중식메뉴3</th>\n",
       "    </tr>\n",
       "  </thead>\n",
       "  <tbody>\n",
       "    <tr>\n",
       "      <th>0</th>\n",
       "      <td>쌀밥/잡곡밥 (쌀,현미흑미:국내산) 오징어찌개  쇠불고기 (쇠고기:호주산) 계란찜 ...</td>\n",
       "      <td>쌀밥,오징어찌개,쇠불고기,계란찜,청포묵무침,요구르트,포기김치</td>\n",
       "    </tr>\n",
       "    <tr>\n",
       "      <th>1</th>\n",
       "      <td>쌀밥/잡곡밥 (쌀,현미흑미:국내산) 김치찌개  가자미튀김  모둠소세지구이  마늘쫑무...</td>\n",
       "      <td>쌀밥,김치찌개,가자미튀김,모둠소세지구이,마늘쫑무침,요구르트,배추겉절이</td>\n",
       "    </tr>\n",
       "  </tbody>\n",
       "</table>\n",
       "</div>"
      ],
      "text/plain": [
       "                                                중식메뉴  \\\n",
       "0  쌀밥/잡곡밥 (쌀,현미흑미:국내산) 오징어찌개  쇠불고기 (쇠고기:호주산) 계란찜 ...   \n",
       "1  쌀밥/잡곡밥 (쌀,현미흑미:국내산) 김치찌개  가자미튀김  모둠소세지구이  마늘쫑무...   \n",
       "\n",
       "                                    중식메뉴3  \n",
       "0       쌀밥,오징어찌개,쇠불고기,계란찜,청포묵무침,요구르트,포기김치  \n",
       "1  쌀밥,김치찌개,가자미튀김,모둠소세지구이,마늘쫑무침,요구르트,배추겉절이  "
      ]
     },
     "execution_count": 216,
     "metadata": {},
     "output_type": "execute_result"
    }
   ],
   "source": [
    "df['중식메뉴3'] = df['중식메뉴'].apply(lambda x: my_reg3(x))\n",
    "df[['중식메뉴','중식메뉴3']].head(2)"
   ]
  },
  {
   "cell_type": "code",
   "execution_count": 217,
   "id": "00aa64d7-b6b9-4290-b578-b0b728d921dd",
   "metadata": {},
   "outputs": [
    {
     "name": "stdout",
     "output_type": "stream",
     "text": [
      "10\n"
     ]
    }
   ],
   "source": [
    "df[\"cnt3\"] = df['중식메뉴3'].apply(lambda x: len(x.split(\",\")))\n",
    "df.head()\n",
    "print(df[\"cnt3\"].max())"
   ]
  },
  {
   "cell_type": "code",
   "execution_count": 218,
   "id": "d8c247df-cb16-4447-be51-52079cf12aa7",
   "metadata": {},
   "outputs": [
    {
     "data": {
      "text/plain": [
       "['쌀밥', '오징어찌개', '쇠불고기', '계란찜', '청포묵무침']"
      ]
     },
     "execution_count": 218,
     "metadata": {},
     "output_type": "execute_result"
    }
   ],
   "source": [
    "tot_menu_list[:5]"
   ]
  },
  {
   "cell_type": "markdown",
   "id": "eadd1d28-70fc-4301-a6c1-11d73e15e623",
   "metadata": {},
   "source": [
    "# menu_df 생성"
   ]
  },
  {
   "cell_type": "code",
   "execution_count": 182,
   "id": "75abc532-d3af-441e-94c9-e5de4ce0ae22",
   "metadata": {},
   "outputs": [
    {
     "data": {
      "text/plain": [
       "[['쌀밥', '오징어찌개', '쇠불고기', '계란찜', '청포묵무침', '요구르트', '포기김치'],\n",
       " ['쌀밥', '김치찌개', '가자미튀김', '모둠소세지구이', '마늘쫑무침', '요구르트', '배추겉절이'],\n",
       " ['카레덮밥', '팽이장국', '치킨핑거', '쫄면야채무침', '견과류조림', '요구르트', '포기김치']]"
      ]
     },
     "execution_count": 182,
     "metadata": {},
     "output_type": "execute_result"
    }
   ],
   "source": [
    "df['중식메뉴2'].str.split(\",\").tolist()[:3]"
   ]
  },
  {
   "cell_type": "code",
   "execution_count": 152,
   "id": "c65542fb-0b2d-4759-87cc-ce7f25c80f0e",
   "metadata": {},
   "outputs": [
    {
     "data": {
      "text/html": [
       "<div>\n",
       "<style scoped>\n",
       "    .dataframe tbody tr th:only-of-type {\n",
       "        vertical-align: middle;\n",
       "    }\n",
       "\n",
       "    .dataframe tbody tr th {\n",
       "        vertical-align: top;\n",
       "    }\n",
       "\n",
       "    .dataframe thead th {\n",
       "        text-align: right;\n",
       "    }\n",
       "</style>\n",
       "<table border=\"1\" class=\"dataframe\">\n",
       "  <thead>\n",
       "    <tr style=\"text-align: right;\">\n",
       "      <th></th>\n",
       "      <th>m1</th>\n",
       "      <th>m2</th>\n",
       "      <th>m3</th>\n",
       "      <th>m4</th>\n",
       "      <th>m5</th>\n",
       "      <th>m6</th>\n",
       "      <th>m7</th>\n",
       "      <th>m8</th>\n",
       "      <th>m9</th>\n",
       "      <th>m10</th>\n",
       "      <th>중식메뉴</th>\n",
       "      <th>중식메뉴2</th>\n",
       "    </tr>\n",
       "  </thead>\n",
       "  <tbody>\n",
       "    <tr>\n",
       "      <th>0</th>\n",
       "      <td>쌀밥</td>\n",
       "      <td>오징어찌개</td>\n",
       "      <td>쇠불고기</td>\n",
       "      <td>계란찜</td>\n",
       "      <td>청포묵무침</td>\n",
       "      <td>요구르트</td>\n",
       "      <td>포기김치</td>\n",
       "      <td>None</td>\n",
       "      <td>None</td>\n",
       "      <td>None</td>\n",
       "      <td>쌀밥/잡곡밥 (쌀,현미흑미:국내산) 오징어찌개  쇠불고기 (쇠고기:호주산) 계란찜 ...</td>\n",
       "      <td>쌀밥,오징어찌개,쇠불고기,계란찜,청포묵무침,요구르트,포기김치</td>\n",
       "    </tr>\n",
       "    <tr>\n",
       "      <th>1</th>\n",
       "      <td>쌀밥</td>\n",
       "      <td>김치찌개</td>\n",
       "      <td>가자미튀김</td>\n",
       "      <td>모둠소세지구이</td>\n",
       "      <td>마늘쫑무침</td>\n",
       "      <td>요구르트</td>\n",
       "      <td>배추겉절이</td>\n",
       "      <td>None</td>\n",
       "      <td>None</td>\n",
       "      <td>None</td>\n",
       "      <td>쌀밥/잡곡밥 (쌀,현미흑미:국내산) 김치찌개  가자미튀김  모둠소세지구이  마늘쫑무...</td>\n",
       "      <td>쌀밥,김치찌개,가자미튀김,모둠소세지구이,마늘쫑무침,요구르트,배추겉절이</td>\n",
       "    </tr>\n",
       "    <tr>\n",
       "      <th>2</th>\n",
       "      <td>카레덮밥</td>\n",
       "      <td>팽이장국</td>\n",
       "      <td>치킨핑거</td>\n",
       "      <td>쫄면야채무침</td>\n",
       "      <td>견과류조림</td>\n",
       "      <td>요구르트</td>\n",
       "      <td>포기김치</td>\n",
       "      <td>None</td>\n",
       "      <td>None</td>\n",
       "      <td>None</td>\n",
       "      <td>카레덮밥 (쌀,현미흑미:국내산) 팽이장국  치킨핑거 (닭고기:국내산) 쫄면야채무침 ...</td>\n",
       "      <td>카레덮밥,팽이장국,치킨핑거,쫄면야채무침,견과류조림,요구르트,포기김치</td>\n",
       "    </tr>\n",
       "    <tr>\n",
       "      <th>3</th>\n",
       "      <td>쌀밥</td>\n",
       "      <td>쇠고기무국</td>\n",
       "      <td>주꾸미볶음</td>\n",
       "      <td>부추전</td>\n",
       "      <td>시금치나물</td>\n",
       "      <td>요구르트</td>\n",
       "      <td>포기김치</td>\n",
       "      <td>None</td>\n",
       "      <td>None</td>\n",
       "      <td>None</td>\n",
       "      <td>쌀밥/잡곡밥 (쌀,현미흑미:국내산) 쇠고기무국  주꾸미볶음  부추전  시금치나물  ...</td>\n",
       "      <td>쌀밥,쇠고기무국,주꾸미볶음,부추전,시금치나물,요구르트,포기김치</td>\n",
       "    </tr>\n",
       "    <tr>\n",
       "      <th>4</th>\n",
       "      <td>쌀밥</td>\n",
       "      <td>떡국</td>\n",
       "      <td>돈육씨앗강정</td>\n",
       "      <td>우엉잡채</td>\n",
       "      <td>청경채무침</td>\n",
       "      <td>요구르트</td>\n",
       "      <td>포기김치</td>\n",
       "      <td>None</td>\n",
       "      <td>None</td>\n",
       "      <td>None</td>\n",
       "      <td>쌀밥/잡곡밥 (쌀,현미흑미:국내산) 떡국  돈육씨앗강정 (돼지고기:국내산) 우엉잡채...</td>\n",
       "      <td>쌀밥,떡국,돈육씨앗강정,우엉잡채,청경채무침,요구르트,포기김치</td>\n",
       "    </tr>\n",
       "  </tbody>\n",
       "</table>\n",
       "</div>"
      ],
      "text/plain": [
       "     m1     m2      m3       m4     m5    m6     m7    m8    m9   m10  \\\n",
       "0    쌀밥  오징어찌개    쇠불고기      계란찜  청포묵무침  요구르트   포기김치  None  None  None   \n",
       "1    쌀밥   김치찌개   가자미튀김  모둠소세지구이  마늘쫑무침  요구르트  배추겉절이  None  None  None   \n",
       "2  카레덮밥   팽이장국    치킨핑거   쫄면야채무침  견과류조림  요구르트   포기김치  None  None  None   \n",
       "3    쌀밥  쇠고기무국   주꾸미볶음      부추전  시금치나물  요구르트   포기김치  None  None  None   \n",
       "4    쌀밥     떡국  돈육씨앗강정     우엉잡채  청경채무침  요구르트   포기김치  None  None  None   \n",
       "\n",
       "                                                중식메뉴  \\\n",
       "0  쌀밥/잡곡밥 (쌀,현미흑미:국내산) 오징어찌개  쇠불고기 (쇠고기:호주산) 계란찜 ...   \n",
       "1  쌀밥/잡곡밥 (쌀,현미흑미:국내산) 김치찌개  가자미튀김  모둠소세지구이  마늘쫑무...   \n",
       "2  카레덮밥 (쌀,현미흑미:국내산) 팽이장국  치킨핑거 (닭고기:국내산) 쫄면야채무침 ...   \n",
       "3  쌀밥/잡곡밥 (쌀,현미흑미:국내산) 쇠고기무국  주꾸미볶음  부추전  시금치나물  ...   \n",
       "4  쌀밥/잡곡밥 (쌀,현미흑미:국내산) 떡국  돈육씨앗강정 (돼지고기:국내산) 우엉잡채...   \n",
       "\n",
       "                                    중식메뉴2  \n",
       "0       쌀밥,오징어찌개,쇠불고기,계란찜,청포묵무침,요구르트,포기김치  \n",
       "1  쌀밥,김치찌개,가자미튀김,모둠소세지구이,마늘쫑무침,요구르트,배추겉절이  \n",
       "2   카레덮밥,팽이장국,치킨핑거,쫄면야채무침,견과류조림,요구르트,포기김치  \n",
       "3      쌀밥,쇠고기무국,주꾸미볶음,부추전,시금치나물,요구르트,포기김치  \n",
       "4       쌀밥,떡국,돈육씨앗강정,우엉잡채,청경채무침,요구르트,포기김치  "
      ]
     },
     "execution_count": 152,
     "metadata": {},
     "output_type": "execute_result"
    }
   ],
   "source": [
    "menu_df = pd.DataFrame(df['중식메뉴2'].str.split(\",\").tolist()\n",
    "                       , columns=[\"m\"+str(i) for i in range(1,11)]\n",
    "                      )\n",
    "menu_df['중식메뉴']  = df['중식메뉴']\n",
    "menu_df['중식메뉴2'] = df['중식메뉴2']\n",
    "menu_df.head()"
   ]
  },
  {
   "cell_type": "markdown",
   "id": "dc017ed7-634f-44fd-92e3-3e48a267ecb3",
   "metadata": {
    "tags": []
   },
   "source": [
    "## 시각화"
   ]
  },
  {
   "cell_type": "code",
   "execution_count": 223,
   "id": "d7af1f17-9f8a-4d10-8a30-be90834280fd",
   "metadata": {},
   "outputs": [
    {
     "name": "stdout",
     "output_type": "stream",
     "text": [
      "돌나물무침/치킨무\n",
      "호박꼬지&고사리&무나물\n",
      "모둠양채쌈*쌈장\n",
      "골뱅이무침*소면\n",
      "콩나물밥*달래장\n",
      "치킨텐더*요거트D\n",
      "치커리유자청생채\n",
      "브로컬리맛살볶음\n",
      "오징어볶음*소면\n",
      "쇠고기단호박조림\n",
      "브로컬리두부무침\n",
      "멸치크랜베리볶음\n",
      "골뱅이무침*소면\n",
      "오이무침/치킨무\n",
      "포기김치/상추쌈\n",
      "목살데리야끼구이\n",
      "골뱅이무침&소면\n",
      "브로컬리두부무침\n",
      "골뱅이무침*소면\n",
      "쌈무/참나물생채\n",
      "오이도라지무침/수박\n",
      "부대찌개*라면사리\n",
      "웨지감자오븐구이\n",
      "연근/오징어튀김\n",
      "오꼬노미계란말이\n",
      "오징어브로컬리숙회\n",
      "새우까스&탈탈소스\n",
      "치커리유자청무침\n",
      "꽃맛살오리엔탈샐러드\n",
      "골뱅이무침*소면\n",
      "오리훈제고추장볶음\n",
      "마늘쫑건새우볶음\n",
      "메추리알곤약조림\n",
      "산채비빔밥*강된장\n",
      "치커리유자청무침\n",
      "멸치크렌베리볶음\n",
      "생선까스*탈탈소스\n",
      "치킨핑거*요거트D\n",
      "골뱅이무침*소면\n",
      "실곤약흑임자무침\n",
      "배추쌈/무말랭이\n",
      "쨔샤이무침/아이스슈\n",
      "차돌박이된장찌개\n",
      "다시마*브로컬리\n",
      "치커리유자청무침\n",
      "오징어볶음*소면\n",
      "꽈리고추어묵볶음\n",
      "꽈리고추멸치볶음\n",
      "씨리얼과일샐러드\n",
      "모듬버섯구이*초장\n",
      "오징어볶음*소면\n",
      "언양식불고기*양파채\n",
      "스위트칠리미트볼\n",
      "보름나물/김구이\n",
      "두부구이*양념장\n",
      "생선까스*탈탈소스\n",
      "양파절임/오이부추무침\n",
      "팝콘치킨*데리마요\n",
      "곤드레밥*강된장\n",
      "골뱅이무침*소면\n",
      "건새우마늘쫑볶음\n",
      "오꼬노미계란말이\n",
      "버섯구이*발사믹D\n",
      "브로컬리맛살볶음\n",
      "아삭고추된장무침\n",
      "매콤함박스테이크\n",
      "훈제오리구이/쌈무\n",
      "부추생채/양파절임\n",
      "생선까스*타르소스\n",
      "돈육꽈리고추볶음\n",
      "치커리유자청무침\n",
      "버섯구이*발사믹D\n",
      "모둠쌈/씨앗쌈장\n",
      "골뱅이무침*소면\n",
      "어묵꽈리고추볶음\n",
      "곤드레밥*강된장\n",
      "훈제오리고추장볶음\n",
      "양배추쌈*양념장\n",
      "치커리유자청무침\n",
      "오징어굴소스볶음\n",
      "오징어브로컬리*초장\n",
      "멸치크렌베리볶음\n",
      "꽈리고추어묵조림\n",
      "호박잎/양배추쌈\n",
      "오징어볶음*소면\n",
      "해물까스*칠리소스\n",
      "곤드레밥*강된장\n",
      "주꾸미굴소스볶음\n",
      "두부구이*양념장\n",
      "오징어볶음*소면\n",
      "오꼬노미야끼계란말이\n",
      "실곤약흑임자무침\n",
      "오징어볶음*소면\n",
      "치커리유자청무침\n",
      "쇠고기매운버섯국\n",
      "곤드레밥*강된장\n",
      "콩나물파채/상추쌈\n",
      "곤드레밥*간장양념\n",
      "치커리유자청무침\n",
      "골뱅이무침*소면\n",
      "생선까스&탈탈소스\n",
      "마늘쫑건새우볶음\n",
      "김구이*달래간장\n",
      "두부오꼬노미야끼\n",
      "곤드레밥*간장양념\n",
      "가래떡돼지갈비찜\n",
      "아삭고추무침/귤\n",
      "곤드레밥*강된장\n",
      "치킨핑거*요거트소스\n",
      "차돌박이된장찌개\n",
      "보름나물/구이김\n",
      "단배추나물/치킨무\n",
      "골뱅이무침*소면\n",
      "메추리알곤약조림\n",
      "흑임자연근샐러드\n",
      "단호박카레라이스\n",
      "곤드레밥*강된장\n",
      "오꼬노미야끼계란말이\n",
      "청경채새송이볶음\n",
      "수제돈까스*칠리소스\n",
      "어묵꽈리고추볶음\n",
      "차돌박이된장찌개\n",
      "곤드레밥*강된장\n",
      "오징어&브로컬리*초장\n",
      "곤약메추리알조림\n",
      "골뱅이무침*소면\n",
      "브로컬리맛살볶음\n",
      "생선커틀릿*탈탈소스\n",
      "메추리알곤약조림\n",
      "곤드레밥*양념장\n",
      "브로컬리오징어숙회\n",
      "도토리묵*양념장\n",
      "해물까스*칠리소스\n",
      "호박잎*양배추쌈\n",
      "치커리유자청무침\n",
      "꽈리고추어묵조림\n",
      "골뱅이무침*소면\n",
      "차돌박이된장찌개\n",
      "주꾸미굴소스볶음\n",
      "쇠고기단호박조림\n",
      "두부오꼬노미야끼\n",
      "브로컬리오징어숙회\n",
      "돈육고추장불고기\n",
      "흑임자연근샐러드\n",
      "골뱅이무침*소면\n",
      "쨔샤이무침/과일\n",
      "돼지갈비찜/잡채\n",
      "돈육고추장불고기\n",
      "곤드레밥*강된장\n",
      "사과고구마그라탱\n",
      "생선가스*칠리소스\n",
      "가래떡구이*조청\n",
      "곤드레밥*강된장\n",
      "골뱅이무침*소면\n",
      "콩나물밥*양념장\n",
      "치킨핑거*요거트드레싱\n",
      "새우까스*탈탈소스\n",
      "두부구이*양념장\n",
      "어묵꽈리고추볶음\n",
      "쇠고기모듬장조림\n",
      "콩나물밥*양념장\n",
      "치즈함박스테이크\n",
      "건새우마늘쫑볶음\n",
      "곤드레밥*강된장\n",
      "치커리유자청생채\n",
      "골뱅이무침*소면\n",
      "돈육고추장불고기\n",
      "도라지오이무침/식혜\n",
      "치즈함박스테이크\n",
      "치킨핑거*요거트소스\n",
      "치커리유자청생채\n",
      "생선까스*탈탈소스\n",
      "사과고구마그라탱\n",
      "유채나물/치킨무\n",
      "새우까스*칠리소스\n",
      "콩나물겨자채무침\n",
      "치즈함박스테이크\n",
      "보름나물/구이김\n",
      "곤드레밥*양념장\n",
      "마늘쫑건새우볶음\n",
      "콩가루배추된장국\n",
      "비엔나컬리플라워조림\n",
      "건새우마늘쫑볶음\n",
      "동태전/새송이전\n",
      "식혜,오렌지,바나나\n",
      "곤드레밥*강된장\n",
      "골뱅이무침*소면\n",
      "치킨핑거/요거트D\n",
      "상추쌈/고추/마늘\n",
      "치킨너겟*머스타드\n",
      "치커리유자청무침\n",
      "소고기숙주나물볶음\n",
      "새송이떡갈비구이\n",
      "도토리묵야채무침\n",
      "시금치고추장무침\n",
      "돈육콩나물불고기\n",
      "돈나물유자청무침\n",
      "곤드레밥*양념장\n",
      "골뱅이무침*소면\n",
      "사과고구마그라탕\n",
      "치커리유자청생채\n",
      "돼지고기유자청볶음\n",
      "흑임자연근샐러드\n",
      "단무지/쨔샤이무침\n",
      "콩나물밥*양념장\n",
      "치킨핑거*요거트드레싱\n",
      "치즈함박스테이크\n",
      "호박잎*양배추쌈\n",
      "치커리유자청생채\n",
      "고구마함박스테이크\n",
      "사과고구마그라탕\n",
      "곤드레밥*양념장\n",
      "오복지/찐햇감자\n",
      "오징어브로컬리숙회\n",
      "실곤약흑임자무침\n",
      "건새우마늘쫑볶음\n",
      "치커리유자청무침\n",
      "모히토과일샐러드\n",
      "비름나물된장무침\n",
      "오꼬노미야끼계란말이\n",
      "사과고구마그라탕\n",
      "비엔나컬리플라워볶음\n",
      "새송이너비아니구이\n",
      "도토리묵야채무침\n",
      "생선까스*칠리소스\n",
      "송편/식혜/과일\n",
      "훈제오리고추장볶음\n",
      "배추겉절이/과일\n",
      "곤드레밥*양념장\n",
      "사과고구마그라탕\n",
      "마늘쫑건새우볶음\n",
      "모히토과일샐러드\n",
      "치커리유자청무침\n",
      "훈제오리단호박볶음\n",
      "양파절임/부추생채\n",
      "생선까스*칠리소스\n",
      "쌀밥/옛날돈까스\n",
      "딸기드레싱샐러드\n",
      "야채볶음밥*짜장소스\n",
      "언양식불고기*양파채\n",
      "곤드레밥*양념장\n",
      "사과고구마그라탕\n",
      "피클/방울토마토\n",
      "콩나물밥*양념장\n",
      "실곤약흑임자무침\n",
      "아몬드멸치볶음/과일\n",
      "치커리유자청생채\n",
      "김치볶음밥/계란\n",
      "해물까스*칠리소스\n",
      "비트무생채/요플레\n",
      "새송이너비아니구이\n",
      "도토리묵야채무침\n",
      "메추리알곤약조림\n",
      "언양식불고기*양파채\n",
      "곤드레밥*양념장\n",
      "사과고구마그라탕\n",
      "명이절임/부추생채\n",
      "함박스테이크*소스\n",
      "치커리사과유자청무침\n",
      "모듬묵흑임자샐러드\n",
      "어묵꽈리고추조림\n",
      "콩나물밥*양념장\n",
      "골뱅이무침*소면\n",
      "실곤약흑임자무침\n",
      "곤드레밥*강된장\n",
      "사과고구마그라탕\n",
      "치커리만다린무침\n",
      "양파절임/부추생채\n",
      "치킨텐더*콘소스D\n",
      "치커리유자청무침\n",
      "오징어볶음*소면\n",
      "콩나물밥*달래장\n",
      "치킨무/돌나물무침\n",
      "대파육개장*칼국수\n",
      "애기새송이버섯볶음\n",
      "야채스틱,고추*쌈장\n",
      "아삭고추쌈장무침\n",
      "차돌박이숙주볶음\n",
      "브로컬리,다시마*초장\n",
      "고추장고구마순무침\n",
      "오리양념불고기*쌈무\n",
      "오꼬노미계란말이\n",
      "삼겹살수육&풋고추\n",
      "경상도식소고기국\n",
      "오이&당근*쌈장\n",
      "부추무침/살구복숭아주스\n",
      "간장깻잎지/음료\n",
      "소고기브로컬리볶음\n",
      "고기듬뿍카레라이스\n",
      "오렌지자몽샐러드\n",
      "고구마치즈빵,오렌지\n",
      "주꾸미세비체샐러드\n",
      "참나물땅콩가루무침\n",
      "바질페스토스파게티\n",
      "꼬막미나리초무침\n",
      "양배추,케일*우렁쌈장\n",
      "단호박견과류구이\n",
      "고구마치즈돈까스\n",
      "두릅새송이초무침\n",
      "모듬소세지버섯구이\n",
      "문어오이미역초무침\n",
      "브로콜리새송이메추리알조림\n",
      "건강비빔밥*약고추장\n",
      "황태채마늘쫑무침\n",
      "새우날치알볶음밥\n",
      "춘권튀김*칠리드레질\n",
      "망고,복숭아아이스티\n",
      "삼겹살더덕고추장구이\n",
      "곰취,명이나물-장아찌\n",
      "청,적포도,오렌지주스\n",
      "꼬시래기무초무침\n",
      "황도샐러드,포도주스\n",
      "과일,프로바이오틱\n",
      "치커리유자샐러드,알로에주스\n",
      "새송이*가지구이/양념\n",
      "사과,마시는요거트\n",
      "오징어링,새우튀김\n",
      "꽃맛살과일샐러드\n",
      "인절미츄러스맛탕,배즙\n",
      "소고기콩나물밥*양념\n",
      "바싹불고기*양파초절임\n",
      "야채스틱*견과쌈장\n",
      "고추장누들떡볶이\n",
      "파인애플,요플레\n",
      "유부주머니된장국\n",
      "꽈리고추찹쌀무침\n",
      "해초샐러드,사과즙\n",
      "청경채만다린생채\n",
      "곤드레밥*양념장\n",
      "두릅소고기샐러드\n",
      "열무보리비빔밥/강된장\n",
      "베이컨김치볶음밥\n",
      "두부구이*양념장\n",
      "돈육버섯고추장덮밥\n",
      "양상추샐러드*딸기요거트\n",
      "홍어미나리초무침\n",
      "양상추샐러드*오리엔탈\n",
      "부추고추전*간장\n",
      "과일요거트샐러드\n",
      "감자채파프리카볶음\n",
      "양상추샐러드*흑임자드레싱\n",
      "양배추숙쌈&쌈장\n",
      "그린샐러드*오렌지드레싱/핫도그\n",
      "매실음료/콩자반\n",
      "도라지오이초무침\n",
      "시저샐러드*시저드레싱\n",
      "무채와사비무침/콩자반\n",
      "양상추샐러드/마카로니샐러드\n",
      "양상추샐러드*요거트D\n",
      "쭈꾸미삼겹고추장볶음\n",
      "두부커틀렛*칠리\n",
      "비타민흑임자샐러드*흑임자D\n",
      "비빔밥*약고추장\n",
      "도토리묵*양념간장\n",
      "치커리만다린샐러드*오렌지D\n",
      "아삭고추쌈장무침\n",
      "양상추샐러드*망고D\n",
      "수제돈가스*소스\n",
      "양배추샐러드*사우전D\n",
      "쌀밥/흑미밥/찰현미밥\n",
      "양상추샐러드*망고D\n",
      "쌀밥/치자밥/찰현미밥\n",
      "브로콜리숙회*초장\n",
      "그린샐러드*키위D/타래과\n",
      "쌀밥/흑미밥/찰현미밥\n",
      "로스트치킨샐러드*오리엔탈D\n",
      "쌀밥/병아리콩밥/찰현미밥\n",
      "깻잎통닭*치킨소스\n",
      "치킨무/콘슬로우\n",
      "새싹샐러드*오렌지D\n",
      "쌀밥/흑미밥/찰현미밥\n",
      "만가닥버섯불고기\n",
      "양배추샐러드*요플레D\n",
      "쌀밥/흑미밥/찰현미밥\n",
      "양상추샐러드*유자청D\n",
      "쌀밥/기장밥/찰현미밥\n",
      "꽈리고추감자조림\n",
      "토마토샐러드*발사믹D\n",
      "쌀밥/흑미밥/찰현미밥\n",
      "풋고추/마늘*새우젓\n",
      "부추무침/보쌈김치/수박화채\n",
      "그린샐러드*참깨D\n",
      "낙지비빔밥*계란후라이\n",
      "후라이드*강정소스\n",
      "브로콜리깨소스무침\n",
      "그린샐러드*매실D\n",
      "쌀밥/흑미밥/찰현미밥\n",
      "양배추샐러드*딸기요거트D\n",
      "쌀밥/흑미밥/찰현미밥\n",
      "양상추샐러드*사우전D\n",
      "쌀밥/수수밥/찰현미밥\n",
      "오징어튀김*초간장\n",
      "삼색콜리*초고추장\n",
      "견과류샐러드*땅콩D\n",
      "쌀밥/흑미밥/찰현미밥\n",
      "꽈리고추메추리알조림\n",
      "배추겉절이/탱크보이\n",
      "눈꽃치즈샐러드*오리엔탈D\n",
      "쌀밥/검정콩밥/찰현미밥\n",
      "분홍소시지전/새송이전\n",
      "파프리카해초무침\n",
      "포기김치/찐옥수수\n",
      "콜리샐러드*발사믹D\n",
      "쌀밥/흑미밥/찰현미밥\n",
      "닭다리바베큐오븐구이\n",
      "유부채소겨자냉채\n",
      "시리얼샐러드*요플레D\n",
      "쌀밥/흑미밥/찰현미밥\n",
      "양상추샐러드*파인애플D\n",
      "쌀밥/렌틸콩밥/찰현미밥\n",
      "매운쇠고기버섯볶음\n",
      "양배추/케일숙쌈*양념간장\n",
      "포기김치/수떡수떡화채\n",
      "푸실리파스타샐러드\n",
      "쌀밥/흑미밥/찰현미밥\n",
      "오징어볶음&소면사리\n",
      "그린샐러드*오리엔탈D\n",
      "쌀밥/차조밥/찰현미밥\n",
      "황도샐러드*밀감D\n",
      "쌀밥/흑미밥/찰현미밥\n",
      "살살치킨&칠리소스\n",
      "브로콜리버섯볶음\n",
      "사과푸딩샐러드*요플레D\n",
      "쌀밥/보리밥/찰현미밥\n",
      "단호박/김말이튀김\n",
      "상추무침*양념장\n",
      "나쵸콥샐러드*토마토살사소스\n",
      "쌀밥/흑미밥/찰현미밥\n",
      "그린샐러드*참깨D\n",
      "쌀밥/흑미밥/찰현미밥\n",
      "검은깨올방개묵무침\n",
      "포기김치/츄러스\n",
      "마카로니콘샐러드\n",
      "쌀밥/흑미밥/찰현미밥\n",
      "모둠쌈*씨앗쌈장\n",
      "김치볶음/요구르트\n",
      "크루통샐러드*참깨D\n",
      "쌀밥/흑미밥/찰현미밥\n",
      "버섯메추리알장조림\n",
      "양상추샐러드*매실D\n",
      "쌀밥/수수밥/찰현미밥\n",
      "쌀밥/흑미밥/찰현미밥\n",
      "적어구이&양념장\n",
      "그린샐러드*오리엔탈D\n",
      "쌀밥/검정콩밥/찰현미밥\n",
      "모닝샌드/요구르트\n",
      "쌀밥/흑미밥/찰현미밥\n",
      "견과류샐러드*딸기D\n",
      "쌀밥/흑미밥/찰현미밥\n",
      "황태콩나물해장국\n",
      "포기김치/요구르트\n",
      "양상추샐러드*석류D\n",
      "쌀밥/기장밥/찰현미밥\n",
      "삼색만두채소무침\n",
      "포기김치/우무콩국\n",
      "황도샐러드*황도D\n",
      "쌀밥/흑미밥/찰현미밥\n",
      "부추샐러드*오리엔탈\n",
      "포기김치/바나나\n",
      "쌀밥/찰보리밥/찰현미밥\n",
      "그린샐러드*요거트D\n",
      "쌀밥/흑미밥/찰현미밥\n",
      "대패삽겹숙주볶음\n",
      "포기김치/딸기푸딩\n",
      "양상추샐러드*딸기D\n",
      "쌀밥/흑미밥/찰현미밥\n",
      "마카로니치즈범벅\n",
      "포기김치/나쵸칩\n",
      "양상추샐러드*요거트D\n",
      "포기김치/열대과일\n",
      "양상추샐러드*망고D\n",
      "쌀밥/흑미밥/찰현미밥\n",
      "수육*새우젓*쌈장\n",
      "양상추샐러드*키위D\n",
      "쌀밥/수수밥/찰현미밥\n",
      "수완왕갈비맛통닭\n",
      "그린샐러드*살구D\n",
      "쌀밥/흑미밥/찰현미밥\n",
      "양상추샐러드*참깨D\n",
      "쌀밥/흑미밥/찰현미밥\n",
      "오리고추장불고기\n",
      "포기김치/사과나무주스\n",
      "양상추샐러드*오리엔탈D\n",
      "쌀밥/귀리밥/찰현미밥\n",
      "포기김치/햇고구마오븐구이\n",
      "견과류샐러드*땅콩D\n",
      "쌀밥/흑미밥/찰현미밥\n",
      "할라피뇨채소피클\n",
      "양상추샐러드*석류D\n",
      "쌀밥/흑미밥/찰현미밥\n",
      "양상추샐러드*매실D\n",
      "쌀밥/병아리콩/찰현미밥\n",
      "통도라지고추장구이\n",
      "시리얼샐러드*요거트D\n",
      "쌀밥/흑미밥/찰현미밥\n",
      "주꾸미브로콜리숙회\n",
      "포기김치/딸기푸딩\n",
      "양상추샐러드*딸기D\n",
      "쌀밥/수수밥/찰현미밥\n",
      "쌀밥/흑미밥/찰현미밥\n",
      "양상추샐러드*오리엔탈D\n",
      "쌀밥/찰보리밥/찰현미밥\n",
      "콩나물파채불고기\n",
      "겉절이김치/나쵸칩\n",
      "그린샐러드*요거트D\n",
      "쌀밥/흑미밥/찰현미밥\n",
      "닭다리살스테이크\n",
      "황도샐러드*황도D\n",
      "쌀밥/흑미밥/찰현미밥\n",
      "파프리카해초무침\n",
      "포기김치/사과/식혜\n",
      "양상추샐러드*딸기D\n",
      "쌀밥/흑미밥/찰현미밥\n",
      "춘권튀김*칠리소스\n",
      "양상추샐러드*오미자D\n",
      "단호박카레라이스\n",
      "통계란꼬치어묵탕\n",
      "고추장누들떡볶이\n",
      "쌀밥/흑미밥/찰현미밥\n",
      "바베큐장각오븐구이\n",
      "파프리카감자채볶음\n",
      "포기김치/인절미\n",
      "시금치샐러드*오리엔탈D\n",
      "쌀밥/렌틸콩밥/찰현미밥\n",
      "양상추샐러드*살구D\n",
      "쌀밥/흑미밥/찰현미밥\n",
      "시금치고추장나물\n",
      "포기김치/찹쌀호떡\n",
      "양상추샐러드*매실D\n",
      "쌀밥/수수밥/찰현미밥\n",
      "장어고추장양념구이\n",
      "알배기/깻잎/생강채*쌈장\n",
      "포기김치/배도라지주스\n",
      "양상추샐러드*파인애플D\n",
      "쌀밥/흑미밥/찰현미밥\n",
      "만다린샐러드*오렌지D\n",
      "쌀밥/흑미밥/찰현미밥\n",
      "시리얼샐러드*요거트D\n",
      "쌀밥/흑미밥/찰현미밥\n",
      "브로콜리쌈장무침\n",
      "양상추샐러드*오리엔탈D\n",
      "쌀밥/흑미밥/찰현미밥\n",
      "쭈꾸미삼겹살볶음\n",
      "쌈추/와사비무쌈*쌈장\n",
      "양상추샐러드*딸기D\n",
      "쌀밥/찰보리밥/찰현미밥\n",
      "포기김치/요플레\n",
      "크루통샐러드*오리엔탈D\n",
      "쌀밥/흑미밥/찰현미밥\n",
      "쌈추겉절이/핫도그\n",
      "양상추샐러드*키위D\n",
      "곤드레밥/찰현미밥\n",
      "돼지고추장불고기\n",
      "겉절이김치/양념장\n",
      "견과류샐러드*요거트D\n",
      "쌀밥/흑미밥/찰현미밥\n",
      "양상추샐러드*오렌지D\n",
      "쌀밥/흑미밥/찰현미밥\n",
      "생선까스&타르타르소스\n",
      "포기김치/요구르트\n",
      "양상추샐러드*매실D\n",
      "쌀밥/기장밥/찰현미밥\n",
      "유부채소겨자무침\n",
      "감자고구마샐러드\n",
      "쌀밥/흑미밥/찰현미밥\n",
      "채소스틱&쌈장/석박지\n",
      "양상추샐러드*유자D\n",
      "쌀밥/차조밥/찰현미밥\n",
      "도토리묵*양념장\n",
      "겉절이김치/단감\n",
      "양상추샐러드*망고D\n",
      "쌀밥/흑미밥/찰현미밥\n",
      "양상추샐러드*오리엔탈D\n",
      "쌀밥/흑미밥/찰현미밥\n",
      "포기김치/고구마오븐구이\n",
      "양상추샐러드*밀감D\n",
      "쌀밥/수수밥/찰현미밥\n",
      "상추/쑥갓쌈&쌈장\n",
      "양상추샐러드*자몽D\n",
      "양상추샐러드*딸기D\n",
      "쌀밥/완두콩밥/찰현미밥\n",
      "양상추샐러드*오리엔탈D\n",
      "쌀밥/흑미밥/찰현미밥\n",
      "양상추샐러드*참깨D\n",
      "쌀밥/흑미밥/찰현미밥\n",
      "해물까스*타르타르소스\n",
      "돌나물유자청무침/포기김치\n",
      "양상추샐러드*매실D\n",
      "쌀밥/귀리밥/찰현미밥\n",
      "청경채/버섯숙회*초장\n",
      "겉절이김치/꽈배기도넛\n",
      "양상추샐러드*포도D\n",
      "쌀밥/흑미밥/찰현미밥\n",
      "개성식메밀부침개\n",
      "양상추샐러드*오미자D\n",
      "쌀밥/수수밥/찰현미밥\n",
      "양상추샐러드*만다린D\n",
      "쌀밥/흑미밥/찰현미밥\n",
      "수제두부까스&하이소스\n",
      "양상추샐러드*요거트D\n",
      "쌀밥/흑미밥/찰현미밥\n",
      "포기김치/바나나\n",
      "양상추샐러드*망고D\n",
      "쌀밥/찰보리밥/찰현미밥\n",
      "알리오올리오파스타\n",
      "겉절이김치/미니버거\n",
      "양상추샐러드*딸기D\n",
      "쌀밥/흑미밥/찰현미밥\n",
      "포기김치/라면땅\n",
      "양상추샐러드*매실D\n",
      "쌀밥/검정콩밥/찰현미밥\n",
      "양상추샐러드*오리엔탈D\n",
      "쌀밥/흑미밥/찰현미밥\n",
      "제육고추장불고기\n",
      "쌈추/깻잎*쌈장\n",
      "황도샐러드*황도D\n",
      "쌀밥/흑미밥/찰현미밥\n",
      "양상추샐러드*자몽D\n",
      "쌀밥/차조밥/찰현미밥\n",
      "크루통샐러드*딸기D\n",
      "쌀밥/흑미밥/찰현미밥\n",
      "깍두기/수제과일잼샌드\n",
      "양상추샐러드*요거트D\n",
      "쌀밥/강낭콩밥/찰현미밥\n",
      "양상추샐러드*오리엔탈D\n",
      "쌀밥/흑미밥/찰현미밥\n",
      "고기완자전*케찹\n",
      "양상추샐러드*키위D\n",
      "쌀밥/흑미밥/찰현미밥\n",
      "포기김치/붕어빵\n",
      "눈꽃치즈샐러드*감귤D\n",
      "쌀밥/찰보리밥/찰현미밥\n",
      "포기김치/오프룻요거트\n",
      "펜네파스타샐러드/축하떡\n",
      "산고추지무침/겉절이김치\n",
      "양상추샐러드*매실D\n",
      "쌀밥/팥밥/찰현미밥\n",
      "양배추/다시마쌈*씨앗쌈장\n",
      "양상추샐러드*발사믹D\n",
      "쌀밥/흑미밥/찰현미밥\n",
      "양상추샐러드*파인D\n",
      "쌀밥/흑미밥/찰현미밥\n",
      "양상추샐러드*오미지D\n",
      "쌀밥/기장밥/찰현미밥\n",
      "훈제오리마늘볶음\n",
      "포기김치/꿀호떡\n",
      "양상추샐러드*요거트D\n",
      "쌀밥/흑미밥/찰현미밥\n",
      "만가닥버섯불고기\n",
      "양상추샐러드*딸기D\n",
      "쌀밥/수수밥/찰현미밥\n",
      "제육고추장불고기\n",
      "알배기/상추*쌈장\n",
      "양상추샐러드*오리엔탈D\n",
      "쌀밥/흑미밥/찰현미밥\n",
      "닭다리살스테이크\n",
      "양상추샐러드*망고D\n",
      "쌀밥/흑미밥/찰현미밥\n",
      "풋고추양파쌈장무침\n",
      "석박지/청포도주스\n",
      "양상추샐러드*키위요거트D\n",
      "쌀밥/차조밥/찰현미밥\n",
      "콩나물파채불고기\n",
      "쌈배추/양상추*쌈장\n",
      "쌀밥/흑미밥/찰현미밥\n",
      "황도샐러드*황도D\n",
      "쌀밥/흑미밥/찰현미밥\n",
      "문어꽈리고추조림\n",
      "그린샐러드*오리엔탈D\n",
      "쌀밥/흑미밥/찰현미밥\n",
      "수제돈까스&소스\n",
      "청양고추계란말이\n",
      "양배추샐러드*사우전D\n",
      "쌀밥/흑미밥/찰현미밥\n",
      "포기김치/새알팥죽\n",
      "양상추샐러드*매실D\n",
      "쌀밥/차조밥/찰현미밥\n",
      "매운쇠고기샤브샤브\n",
      "하와이언함박스테이크\n",
      "토마토두부카프레제\n",
      "봄동겉절이/마늘바게트\n",
      "양상추샐러드*시저D\n",
      "쌀밥/흑미밥/찰현미밥\n",
      "양상추샐러드*요거트D\n",
      "고등어김치말이찜\n",
      "양상추샐러드*자몽D\n",
      "쌀밥/흑미밥/찰현미밥\n",
      "오미산적/동태전\n",
      "양상추샐러드*요거트감귤D\n",
      "쌀밥/보리밥/찰현미밥\n",
      "돈육도라지고추장볶음\n",
      "봄동숙*간장양념\n",
      "콩샐러드/포기김치\n",
      "양상추샐러드*키위D\n",
      "쌀밥/흑미밥/찰현미밥\n",
      "꽁치한마리레몬구이\n",
      "파프리카계란말이\n",
      "아삭이고추된장무침\n",
      "배추겉절이/미니핫도그\n",
      "양상추샐러드*오리엔탈D\n",
      "쌀밥/수수밥/찰현미밥\n",
      "양상추샐러드*황도D\n",
      "쌀밥/흑미밥/찰현미밥\n",
      "매운소고기낙지볶음\n",
      "메추리알짜장떡볶이\n",
      "양상추샐러드*오렌지D\n",
      "쌀밥/흑미밥/찰현미밥\n",
      "양상추샐러드*망고D\n",
      "쌀밥/검정콩밥/찰현미밥\n",
      "버블샐러드*D오리엔탈D\n",
      "쌀밥/흑미밥/찰현미밥\n",
      "양상추샐러드*흑임자D\n",
      "쌀밥/차조밥/찰현미밥\n",
      "두부까스*칠리소스\n",
      "쌀밥/흑미밥/찰현미밥\n",
      "고등어구이*와사비장\n",
      "양상추샐러드*딸기D\n",
      "쌀밥/흑미밥/찰현미밥\n",
      "포기김치/바나나\n",
      "그린샐러드*매실D\n",
      "쌀밥/기장밥/찰현미밥\n",
      "그린샐러드*키위요거트D\n",
      "쌀밥/흑미밥/찰현미밥\n",
      "수제함박스테이크\n",
      "견과류마카로니범벅\n",
      "양상추샐러드*오리엔탈D\n",
      "쌀밥/수수밥/찰현미밥\n",
      "청경채/버섯숙회*초장\n",
      "양상추샐러드*파인D\n",
      "전주비빔밥*약고추장\n",
      "파프리카해초무침\n",
      "양상추샐러드*자몽D\n",
      "쌀밥/흑미밥/찰현미밥\n",
      "전주식콩나물해장국\n",
      "연두부*달래양념장\n",
      "봄동겉절이/양념김\n",
      "양상추샐러드*오렌지D\n",
      "쌀밥/귀리밥/찰현미밥\n",
      "옥수수콘치즈구이\n",
      "포기김치/요구르트\n",
      "양배추샐러드*사우전D\n"
     ]
    }
   ],
   "source": [
    "for i in tot_menu_list:\n",
    "    if len(i) > 7:\n",
    "        print(i)"
   ]
  },
  {
   "cell_type": "code",
   "execution_count": 241,
   "id": "7478c193-d657-4a43-b48c-230302f30705",
   "metadata": {},
   "outputs": [
    {
     "data": {
      "image/png": "[encoded data removed]",
      "text/plain": [
       "<Figure size 288x288 with 1 Axes>"
      ]
     },
     "metadata": {
      "needs_background": "light"
     },
     "output_type": "display_data"
    },
    {
     "data": {
      "image/png": "[encoded data removed]",
      "text/plain": [
       "<Figure size 288x288 with 1 Axes>"
      ]
     },
     "metadata": {
      "needs_background": "light"
     },
     "output_type": "display_data"
    },
    {
     "data": {
      "image/png": "[encoded data removed]",
      "text/plain": [
       "<Figure size 288x288 with 1 Axes>"
      ]
     },
     "metadata": {
      "needs_background": "light"
     },
     "output_type": "display_data"
    },
    {
     "data": {
      "image/png": "[encoded data removed]",
      "text/plain": [
       "<Figure size 288x288 with 1 Axes>"
      ]
     },
     "metadata": {
      "needs_background": "light"
     },
     "output_type": "display_data"
    },
    {
     "data": {
      "image/png": "[encoded data removed]",
      "text/plain": [
       "<Figure size 288x288 with 1 Axes>"
      ]
     },
     "metadata": {
      "needs_background": "light"
     },
     "output_type": "display_data"
    }
   ],
   "source": [
    "col_list = [\"m1\",\"m2\",\"m3\",\"m4\",\"m5\"]\n",
    "for col in col_list:\n",
    "    plt.figure(figsize=(4,4))\n",
    "    text = \" \".join(menu_df[col])\n",
    "    wordcloud = WordCloud(max_font_size=100, font_path='C:\\\\Windows\\\\Fonts\\\\\\x7f\\x7f\\x7f\\x7fBOLD.TTF').generate(text)\n",
    "    plt.imshow(wordcloud, interpolation='bilinear')\n",
    "    plt.axis('off')\n",
    "    plt.show()\n",
    "    plt.close()"
   ]
  }
 ],
 "metadata": {
  "kernelspec": {
   "display_name": "Python 3 (ipykernel)",
   "language": "python",
   "name": "python3"
  },
  "language_info": {
   "codemirror_mode": {
    "name": "ipython",
    "version": 3
   },
   "file_extension": ".py",
   "mimetype": "text/x-python",
   "name": "python",
   "nbconvert_exporter": "python",
   "pygments_lexer": "ipython3",
   "version": "3.8.8"
  }
 },
 "nbformat": 4,
 "nbformat_minor": 5
}
