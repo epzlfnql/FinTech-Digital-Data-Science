{
 "cells": [
  {
   "cell_type": "markdown",
   "id": "904de5d1-259b-45e1-b64f-943cbf645763",
   "metadata": {},
   "source": [
    "## list에 list 담기"
   ]
  },
  {
   "cell_type": "code",
   "execution_count": 1,
   "id": "1529abb0-c5f8-44e4-9f77-7ccd2c80161e",
   "metadata": {},
   "outputs": [],
   "source": [
    "emp = []\n",
    "user1 = [7799, 'smith', 2000, 10]\n",
    "user2 = [7300, 'allen', 1700, 20]\n",
    "user3 = [7788, 'king',  5000, 20]\n",
    "emp.append(user1)\n",
    "emp.append(user2)\n",
    "emp.append(user3)"
   ]
  },
  {
   "cell_type": "code",
   "execution_count": 2,
   "id": "f2f1686b-4e01-4b22-813c-48b640bfdd7b",
   "metadata": {},
   "outputs": [
    {
     "data": {
      "text/plain": [
       "[[7799, 'smith', 2000, 10],\n",
       " [7300, 'allen', 1700, 20],\n",
       " [7788, 'king', 5000, 20]]"
      ]
     },
     "execution_count": 2,
     "metadata": {},
     "output_type": "execute_result"
    }
   ],
   "source": [
    "emp"
   ]
  },
  {
   "cell_type": "code",
   "execution_count": 3,
   "id": "4ef57133-7153-41f1-9f9d-0fcdb41106fa",
   "metadata": {},
   "outputs": [
    {
     "data": {
      "text/plain": [
       "[[7799, 'smith', 10], [7300, 'allen', 20], [7788, 'king', 20]]"
      ]
     },
     "execution_count": 3,
     "metadata": {},
     "output_type": "execute_result"
    }
   ],
   "source": [
    "emp = []\n",
    "empno  = [7799,7300,7788]\n",
    "ename  = ['smith','allen','king']\n",
    "deptno = [10,20,20]\n",
    "\n",
    "emp.append([empno[0], ename[0], deptno[0]])\n",
    "emp.append([empno[1], ename[1], deptno[1]])\n",
    "emp.append([empno[2], ename[2], deptno[2]])\n",
    "emp"
   ]
  },
  {
   "cell_type": "code",
   "execution_count": 4,
   "id": "6bcc3710-9a1e-4975-bcff-3ddd0a69b5b9",
   "metadata": {},
   "outputs": [],
   "source": [
    "emp = []\n",
    "empno  = [7799,7300,7788]\n",
    "ename  = ['smith','allen','king']\n",
    "deptno = [10,20,20]\n",
    "for i in range(3):\n",
    "    emp.append([empno[i], ename[i], deptno[i]])"
   ]
  },
  {
   "cell_type": "code",
   "execution_count": 5,
   "id": "c0036bf5-5dc7-474e-9047-65bd6d67f0a4",
   "metadata": {},
   "outputs": [
    {
     "data": {
      "text/plain": [
       "[[7799, 'smith', 10], [7300, 'allen', 20], [7788, 'king', 20]]"
      ]
     },
     "execution_count": 5,
     "metadata": {},
     "output_type": "execute_result"
    }
   ],
   "source": [
    "emp"
   ]
  },
  {
   "cell_type": "markdown",
   "id": "70a9da0d-8a1c-43cd-b83b-fd533ab0798c",
   "metadata": {},
   "source": [
    "- zip()\n"
   ]
  },
  {
   "cell_type": "code",
   "execution_count": 6,
   "id": "051d955a-089d-46c1-aedd-a28525174d99",
   "metadata": {},
   "outputs": [
    {
     "data": {
      "text/plain": [
       "[(1, 'a'), (2, 'b'), (3, 'c')]"
      ]
     },
     "execution_count": 6,
     "metadata": {},
     "output_type": "execute_result"
    }
   ],
   "source": [
    "a = [1,2,3]\n",
    "b = ['a', 'b', 'c']\n",
    "list(zip(a,b))"
   ]
  },
  {
   "cell_type": "markdown",
   "id": "e9670920-8874-4c97-abde-16b6e4394ef2",
   "metadata": {},
   "source": [
    "* dick: key value 분리"
   ]
  },
  {
   "cell_type": "code",
   "execution_count": 7,
   "id": "380ef0d7-10c1-478b-a56e-40e920531d46",
   "metadata": {},
   "outputs": [
    {
     "name": "stdout",
     "output_type": "stream",
     "text": [
      "63\n"
     ]
    }
   ],
   "source": [
    "# 파이썬 문제\n",
    "# 1~20까지 3의 배수의 총합\n",
    "sum= 0\n",
    "for i in range(1,21):\n",
    "    if i%3==0:\n",
    "        sum+=i\n",
    "print(sum)"
   ]
  },
  {
   "cell_type": "code",
   "execution_count": 8,
   "id": "af5fdebc-10fb-4a24-9516-543194bf1cb1",
   "metadata": {},
   "outputs": [
    {
     "name": "stdout",
     "output_type": "stream",
     "text": [
      "1*1 = 1 1*2 = 2 1*3 = 3 1*4 = 4 1*5 = 5 1*6 = 6 1*7 = 7 1*8 = 8 1*9 = 9 \n",
      "2*1 = 2 2*2 = 4 2*3 = 6 2*4 = 8 2*5 = 10 2*6 = 12 2*7 = 14 2*8 = 16 2*9 = 18 \n",
      "3*1 = 3 3*2 = 6 3*3 = 9 3*4 = 12 3*5 = 15 3*6 = 18 3*7 = 21 3*8 = 24 3*9 = 27 \n"
     ]
    }
   ],
   "source": [
    "# 구구단 3단까지만 출력\n",
    "for a in range(1,4):\n",
    "    for b in range(1, 10):\n",
    "        print(f'{a}*{b} = {a*b}', end = ' ')\n",
    "    print()"
   ]
  },
  {
   "cell_type": "markdown",
   "id": "4573fce5-d246-4397-a476-16fdc8a05fdb",
   "metadata": {},
   "source": [
    "# 열거형\n",
    "* enumerate ... enum\n",
    "* 타입 : iterator (반복)\n",
    "* 대표적 : list tupl dict set"
   ]
  },
  {
   "cell_type": "code",
   "execution_count": 9,
   "id": "3bb78e9f-8a86-466f-b543-78df4e87308c",
   "metadata": {},
   "outputs": [
    {
     "name": "stdout",
     "output_type": "stream",
     "text": [
      "a, 0번째\n",
      "b, 1번째\n",
      "c, 2번째\n",
      "d, 3번째\n"
     ]
    }
   ],
   "source": [
    "vlist = ['a', 'b', 'c', 'd']\n",
    "for v in range(len(vlist)):\n",
    "    print(f'{vlist[v]}, {v}번째')\n"
   ]
  },
  {
   "cell_type": "code",
   "execution_count": 10,
   "id": "7ddf41bf-5d7b-4759-9d0e-201b1824c8ec",
   "metadata": {},
   "outputs": [
    {
     "name": "stdout",
     "output_type": "stream",
     "text": [
      "a, 0번째\n",
      "b, 1번째\n",
      "c, 2번째\n",
      "d, 3번째\n"
     ]
    }
   ],
   "source": [
    "vlist= ['a', 'b', 'c', 'd']\n",
    "for v in range(0, len(vlist)):\n",
    "    print(f'{vlist[v]}, {v}번째')"
   ]
  },
  {
   "cell_type": "code",
   "execution_count": 11,
   "id": "771b6474-bf1e-4f4d-9bd8-3d1c4fe54e0f",
   "metadata": {},
   "outputs": [
    {
     "name": "stdout",
     "output_type": "stream",
     "text": [
      "a, 0번째\n",
      "b, 1번째\n",
      "c, 2번째\n",
      "d, 3번째\n"
     ]
    }
   ],
   "source": [
    "vlist = ['a','b','c','d']\n",
    "cnt=0\n",
    "for i in vlist:\n",
    "    print(f'{i}, {cnt}번째')\n",
    "    cnt+=1"
   ]
  },
  {
   "cell_type": "markdown",
   "id": "8ba93246-ce6b-4f1f-a85f-09e540a5f723",
   "metadata": {},
   "source": [
    "### enumerate"
   ]
  },
  {
   "cell_type": "code",
   "execution_count": 12,
   "id": "6b8e794f-50f3-4955-a4a6-53a3ead01616",
   "metadata": {},
   "outputs": [
    {
     "name": "stdout",
     "output_type": "stream",
     "text": [
      "0 a\n",
      "1 b\n",
      "2 c\n",
      "3 d\n"
     ]
    }
   ],
   "source": [
    "vlist = ['a','b','c','d']\n",
    "for cnt, num in enumerate(vlist):\n",
    "    print(cnt, num)"
   ]
  },
  {
   "cell_type": "code",
   "execution_count": 13,
   "id": "ad5d89fd-4de1-4b39-99aa-e47a22cc419a",
   "metadata": {},
   "outputs": [
    {
     "name": "stdout",
     "output_type": "stream",
     "text": [
      "(0, 'a')\n",
      "(1, 'b')\n",
      "(2, 'c')\n",
      "(3, 'd')\n"
     ]
    }
   ],
   "source": [
    "vlist = ['a', 'b', 'c', 'd']\n",
    "for i in enumerate(vlist):\n",
    "    print(i)"
   ]
  },
  {
   "cell_type": "code",
   "execution_count": 14,
   "id": "d754361f-473d-4ddc-8fea-efcd9d63184a",
   "metadata": {},
   "outputs": [
    {
     "name": "stdout",
     "output_type": "stream",
     "text": [
      "a\n",
      "b\n",
      "c\n",
      "d\n"
     ]
    }
   ],
   "source": [
    "vlist = ['a', 'b', 'c', 'd']\n",
    "for i in enumerate(vlist):\n",
    "    print(i[1])"
   ]
  },
  {
   "cell_type": "code",
   "execution_count": 15,
   "id": "74c63b58-43e5-48ef-b6eb-e8efc67fb991",
   "metadata": {},
   "outputs": [
    {
     "name": "stdout",
     "output_type": "stream",
     "text": [
      "0\n",
      "1\n",
      "2\n",
      "3\n"
     ]
    }
   ],
   "source": [
    "vlist = ['a', 'b', 'c', 'd']\n",
    "for i in enumerate(vlist):\n",
    "    print(i[0])"
   ]
  },
  {
   "cell_type": "code",
   "execution_count": 16,
   "id": "7177901a-9d68-4522-a62b-7e91bcb87d43",
   "metadata": {},
   "outputs": [
    {
     "name": "stdout",
     "output_type": "stream",
     "text": [
      "{'empno': 7300, 'ename': 'allen', 'deptno': 20}\n",
      "empno 7300\n",
      "[('empno', 7300), ('ename', 'allen'), ('deptno', 20)]\n",
      "dict_items([('empno', 7300), ('ename', 'allen'), ('deptno', 20)])\n",
      "dict_keys(['empno', 'ename', 'deptno'])\n",
      "dict_values([7300, 'allen', 20]) [7300, 'allen', 20]\n",
      "<class 'dict_values'>\n"
     ]
    }
   ],
   "source": [
    "# 다음 리스트에서 1번째 회원정보만 출력(enumerate 사용)\n",
    "emp = [ {\"empno\":7799, \"ename\":'smith', \"deptno\":10},\n",
    "        {\"empno\":7300, \"ename\":'allen', \"deptno\":20},\n",
    "        {\"empno\":7788, \"ename\":'king', \"deptno\":20} ]\n",
    "for cnt, i in enumerate(emp):\n",
    "    if cnt==1:\n",
    "        print(i)\n",
    "        print(list(i.keys())[0], i['empno'])\n",
    "        print(list(i.items()))\n",
    "        print(i.items())\n",
    "        print(i.keys())\n",
    "        print(i.values(), list(i.values()))\n",
    "        print(type(i.values()))\n",
    "   "
   ]
  },
  {
   "cell_type": "code",
   "execution_count": null,
   "id": "dc539615-f183-48a4-bf14-4e2c083845c3",
   "metadata": {},
   "outputs": [],
   "source": []
  },
  {
   "cell_type": "code",
   "execution_count": 17,
   "id": "93367f22-e7bf-4a8f-ab78-70320e662936",
   "metadata": {},
   "outputs": [
    {
     "name": "stdout",
     "output_type": "stream",
     "text": [
      "7300\n"
     ]
    }
   ],
   "source": [
    "emp = [ {\"empno\":7799, \"ename\":'smith', \"deptno\":10},\n",
    "        {\"empno\":7300, \"ename\":'allen', \"deptno\":20},\n",
    "        {\"empno\":7788, \"ename\":'king', \"deptno\":20} ]\n",
    "for cnt, i in enumerate(emp):\n",
    "    if cnt==1:\n",
    "        print(i['empno'])"
   ]
  },
  {
   "cell_type": "code",
   "execution_count": 18,
   "id": "ad8f3222-e602-414c-bc55-a840d1e28e2f",
   "metadata": {},
   "outputs": [
    {
     "name": "stdout",
     "output_type": "stream",
     "text": [
      "7300\n"
     ]
    }
   ],
   "source": [
    "emp = [ {\"empno\":7799, \"ename\":'smith', \"deptno\":10},\n",
    "        {\"empno\":7300, \"ename\":'allen', \"deptno\":20},\n",
    "        {\"empno\":7788, \"ename\":'king', \"deptno\":20} ]\n",
    "for cnt, i in enumerate(emp):\n",
    "    if cnt==1:\n",
    "        print(i['empno'])\n",
    "       "
   ]
  },
  {
   "cell_type": "code",
   "execution_count": null,
   "id": "99f68a6e-46db-4a9b-9a07-9b22fa58de3b",
   "metadata": {},
   "outputs": [],
   "source": []
  },
  {
   "cell_type": "code",
   "execution_count": 19,
   "id": "0aeaec28-37b8-49fb-a68b-670e0c89f4bb",
   "metadata": {},
   "outputs": [
    {
     "name": "stdout",
     "output_type": "stream",
     "text": [
      "10\n"
     ]
    }
   ],
   "source": [
    "num_list = ['1', '2', '3', '4']\n",
    "sum = 0\n",
    "for num in num_list:\n",
    "    num_n = int(num)\n",
    "    sum+=num_n\n",
    "print(sum)"
   ]
  },
  {
   "cell_type": "code",
   "execution_count": 20,
   "id": "bac8f31e-305b-4edd-b411-55a3b1a6976d",
   "metadata": {},
   "outputs": [
    {
     "name": "stdout",
     "output_type": "stream",
     "text": [
      "10\n"
     ]
    }
   ],
   "source": [
    "num_list = list(map(int, ['1', '2', '3', '4']))\n",
    "sum = 0\n",
    "for num in num_list:\n",
    "    sum+=num\n",
    "print(sum)"
   ]
  },
  {
   "cell_type": "code",
   "execution_count": 21,
   "id": "a9b884a6-b010-43af-9ccf-3aca97fc42f0",
   "metadata": {},
   "outputs": [
    {
     "data": {
      "text/plain": [
       "list"
      ]
     },
     "execution_count": 21,
     "metadata": {},
     "output_type": "execute_result"
    }
   ],
   "source": [
    "type(num_list)"
   ]
  },
  {
   "cell_type": "code",
   "execution_count": 22,
   "id": "be1d807b-de3a-4bba-bdf2-e67285b36368",
   "metadata": {},
   "outputs": [
    {
     "name": "stdout",
     "output_type": "stream",
     "text": [
      "6000\n"
     ]
    }
   ],
   "source": [
    "# 데이터 타입이 모두 똑같은게 아니라면 map을 쓰기 힘들다.\n",
    "emp = [[7799, 'smith', '1000'], [7300, 'allen', '2000'], [7788, 'king', '3000']]\n",
    "sum=0\n",
    "for i in emp:\n",
    "    sum+=int(i[2])\n",
    "print(sum)"
   ]
  },
  {
   "cell_type": "code",
   "execution_count": 23,
   "id": "0ed9ece3-887d-4fac-a645-444950f393ad",
   "metadata": {},
   "outputs": [
    {
     "name": "stdout",
     "output_type": "stream",
     "text": [
      "2 1000\n",
      "2 2000\n",
      "2 3000\n",
      "6000\n"
     ]
    }
   ],
   "source": [
    "emp = [[7799, 'smith', '1000'], [7300, 'allen', '2000'], [7788, 'king', '3000']]\n",
    "sum=0\n",
    "for sublist in emp:\n",
    "    for cnt, v in enumerate(sublist):\n",
    "        if cnt==2:\n",
    "            print(cnt, int(v))\n",
    "            sum+=int(v)\n",
    "print(sum)"
   ]
  },
  {
   "cell_type": "markdown",
   "id": "3add84d2-729f-4abb-b656-90cb830be9a2",
   "metadata": {},
   "source": [
    "## list에 dict 담기"
   ]
  },
  {
   "cell_type": "code",
   "execution_count": 24,
   "id": "d8513c6f-b688-4dc3-a93e-83edc4d1f15f",
   "metadata": {},
   "outputs": [],
   "source": [
    "user1 = {\"empno\":7799, \"ename\":'smith', \"deptno\":10}"
   ]
  },
  {
   "cell_type": "code",
   "execution_count": 25,
   "id": "ff9caa7f-f363-4b80-901f-25dac4e2e1d0",
   "metadata": {},
   "outputs": [
    {
     "data": {
      "text/plain": [
       "['empno', 'ename', 'deptno']"
      ]
     },
     "execution_count": 25,
     "metadata": {},
     "output_type": "execute_result"
    }
   ],
   "source": [
    "list(user1.keys())"
   ]
  },
  {
   "cell_type": "code",
   "execution_count": 26,
   "id": "34bcd093-d09a-480d-9421-28854d65c075",
   "metadata": {},
   "outputs": [
    {
     "data": {
      "text/plain": [
       "[7799, 'smith', 10]"
      ]
     },
     "execution_count": 26,
     "metadata": {},
     "output_type": "execute_result"
    }
   ],
   "source": [
    "list(user1.values())"
   ]
  },
  {
   "cell_type": "code",
   "execution_count": 27,
   "id": "0d3133e1-238b-4d0c-a2ae-dc6cb4dc7f50",
   "metadata": {},
   "outputs": [
    {
     "data": {
      "text/plain": [
       "[('empno', 7799), ('ename', 'smith'), ('deptno', 10)]"
      ]
     },
     "execution_count": 27,
     "metadata": {},
     "output_type": "execute_result"
    }
   ],
   "source": [
    "list(user1.items())"
   ]
  },
  {
   "cell_type": "code",
   "execution_count": 28,
   "id": "4b84783e-ad80-420a-8742-dab64298931c",
   "metadata": {},
   "outputs": [
    {
     "data": {
      "text/plain": [
       "('empno', 7799)"
      ]
     },
     "execution_count": 28,
     "metadata": {},
     "output_type": "execute_result"
    }
   ],
   "source": [
    "list(user1.items())[0]"
   ]
  },
  {
   "cell_type": "code",
   "execution_count": 29,
   "id": "3e19f0b7-baa0-42d8-9137-0762a8a7d82b",
   "metadata": {},
   "outputs": [
    {
     "name": "stdout",
     "output_type": "stream",
     "text": [
      "dict_keys(['empno', 'ename', 'deptno']) ['empno', 'ename', 'deptno']\n",
      "dict_values([7799, 'smith', 10]) [7799, 'smith', 10]\n",
      "dict_items([('empno', 7799), ('ename', 'smith'), ('deptno', 10)]) [('empno', 7799), ('ename', 'smith'), ('deptno', 10)]\n"
     ]
    }
   ],
   "source": [
    "user1 = {\"empno\":7799, \"ename\":'smith', \"deptno\":10}\n",
    "print(user1.keys(), list(user1.keys()))\n",
    "print(user1.values(), list(user1.values()))\n",
    "print(user1.items(), list(user1.items()))"
   ]
  },
  {
   "cell_type": "code",
   "execution_count": 30,
   "id": "23eeaf1e-bdd9-4496-89a8-096d2b4ab4ec",
   "metadata": {},
   "outputs": [
    {
     "data": {
      "text/plain": [
       "'ename'"
      ]
     },
     "execution_count": 30,
     "metadata": {},
     "output_type": "execute_result"
    }
   ],
   "source": [
    "list(user1.keys())[1]"
   ]
  },
  {
   "cell_type": "code",
   "execution_count": 31,
   "id": "d0b20e04-3841-4b73-b79d-f9d9735368cc",
   "metadata": {},
   "outputs": [
    {
     "data": {
      "text/plain": [
       "10"
      ]
     },
     "execution_count": 31,
     "metadata": {},
     "output_type": "execute_result"
    }
   ],
   "source": [
    "list(user1.values())[2]"
   ]
  },
  {
   "cell_type": "code",
   "execution_count": 32,
   "id": "e5278293-64a8-46a7-9d3e-33ef1d362d49",
   "metadata": {},
   "outputs": [
    {
     "data": {
      "text/plain": [
       "[('empno', 7799), ('ename', 'smith'), ('deptno', 10)]"
      ]
     },
     "execution_count": 32,
     "metadata": {},
     "output_type": "execute_result"
    }
   ],
   "source": [
    "list(user1.items())"
   ]
  },
  {
   "cell_type": "code",
   "execution_count": 33,
   "id": "a79b6589-160e-46ee-9d1a-7ea993215666",
   "metadata": {},
   "outputs": [
    {
     "name": "stdout",
     "output_type": "stream",
     "text": [
      "empno 7799\n",
      "ename smith\n",
      "deptno 10\n"
     ]
    }
   ],
   "source": [
    "for i in list(user1.items()):\n",
    "    print(i[0], i[1])"
   ]
  },
  {
   "cell_type": "code",
   "execution_count": 34,
   "id": "27f72a9b-e168-4303-bef8-b41027a0c281",
   "metadata": {},
   "outputs": [
    {
     "name": "stdout",
     "output_type": "stream",
     "text": [
      "empno 7799\n",
      "ename smith\n",
      "deptno 10\n"
     ]
    }
   ],
   "source": [
    "for i in user1.items():\n",
    "    print(i[0], i[1])"
   ]
  },
  {
   "cell_type": "code",
   "execution_count": 35,
   "id": "7cfcc4f9-029e-4abf-a244-574a039a97d9",
   "metadata": {},
   "outputs": [
    {
     "name": "stdout",
     "output_type": "stream",
     "text": [
      "['empno', 'ename', 'deptno']\n",
      "[7799, 'smith', 10]\n"
     ]
    }
   ],
   "source": [
    "key = []\n",
    "value=[]\n",
    "for i in list(user1.items()):\n",
    "    key.append(i[0])\n",
    "    value.append(i[1])\n",
    "\n",
    "print(key)\n",
    "print(value)"
   ]
  },
  {
   "cell_type": "markdown",
   "id": "e7523e64-ba81-4b95-8060-1678be65de5c",
   "metadata": {},
   "source": [
    "- 키 값 분리"
   ]
  },
  {
   "cell_type": "code",
   "execution_count": 36,
   "id": "6def273c-09bd-4d8e-9477-de5065e82881",
   "metadata": {},
   "outputs": [
    {
     "name": "stdout",
     "output_type": "stream",
     "text": [
      "empno 7799\n",
      "ename smith\n",
      "deptno 10\n"
     ]
    }
   ],
   "source": [
    "emp_list = list(user1.items())\n",
    "for tupl in emp_list:\n",
    "    print(tupl[0], tupl[1])"
   ]
  },
  {
   "cell_type": "markdown",
   "id": "7aae35cc-1fc2-433a-882e-a2d84d215164",
   "metadata": {},
   "source": [
    "## 슬라이싱(slicing)\n",
    "- [s:e] s <= 문자열 < e\n",
    "- -1의 의미는 맨 끝"
   ]
  },
  {
   "cell_type": "code",
   "execution_count": 37,
   "id": "29a4b63e-05fa-428d-8f64-65b7721d3a2c",
   "metadata": {},
   "outputs": [
    {
     "name": "stdout",
     "output_type": "stream",
     "text": [
      "abc\n",
      "abc\n",
      "abced\n",
      "abced\n",
      "abce\n"
     ]
    }
   ],
   "source": [
    "sen = 'abced'\n",
    "print(sen[0:3])\n",
    "print(sen[ :3])\n",
    "print(sen[0: ])\n",
    "print(sen[ : ])\n",
    "print(sen[0:-1])"
   ]
  },
  {
   "cell_type": "code",
   "execution_count": 39,
   "id": "1fcc285e-7258-4c75-8b4f-5fafbb2da614",
   "metadata": {},
   "outputs": [
    {
     "data": {
      "text/plain": [
       "['a', 'b', 'c']"
      ]
     },
     "execution_count": 39,
     "metadata": {},
     "output_type": "execute_result"
    }
   ],
   "source": [
    "sen = [1,2,3,['a','b','c'],4,5]\n",
    "sen[3]"
   ]
  },
  {
   "cell_type": "code",
   "execution_count": 40,
   "id": "e88d9546-4c84-4c62-b3e2-9d64e35e0c07",
   "metadata": {},
   "outputs": [
    {
     "data": {
      "text/plain": [
       "['a', 'b', 'c']"
      ]
     },
     "execution_count": 40,
     "metadata": {},
     "output_type": "execute_result"
    }
   ],
   "source": [
    "sen[3][:]"
   ]
  },
  {
   "cell_type": "code",
   "execution_count": 42,
   "id": "73f3f990-e8c8-4bea-99cb-8474ec42afe9",
   "metadata": {},
   "outputs": [
    {
     "data": {
      "text/plain": [
       "['a', 'b', 'c']"
      ]
     },
     "execution_count": 42,
     "metadata": {},
     "output_type": "execute_result"
    }
   ],
   "source": [
    "sen[-3]"
   ]
  },
  {
   "cell_type": "code",
   "execution_count": 44,
   "id": "d61788bb-edb5-41c1-9569-96b095576c8c",
   "metadata": {},
   "outputs": [
    {
     "data": {
      "text/plain": [
       "[['a', 'b', 'c']]"
      ]
     },
     "execution_count": 44,
     "metadata": {},
     "output_type": "execute_result"
    }
   ],
   "source": [
    "sen[3:4] # 슬라이싱은 sentence 기준으로 남겨놔~"
   ]
  },
  {
   "cell_type": "markdown",
   "id": "a0ef49bf-bef8-4997-95da-bbdd4fdfabdb",
   "metadata": {},
   "source": [
    "## 문자열.split('구분자')\n",
    "- 구분자 : 공백 기본"
   ]
  },
  {
   "cell_type": "code",
   "execution_count": 45,
   "id": "605c1ed3-7647-4afa-83b5-e1a4a86c139a",
   "metadata": {},
   "outputs": [
    {
     "data": {
      "text/plain": [
       "['010', '123', '4567']"
      ]
     },
     "execution_count": 45,
     "metadata": {},
     "output_type": "execute_result"
    }
   ],
   "source": [
    "'010-123-4567'.split('-')"
   ]
  },
  {
   "cell_type": "code",
   "execution_count": 47,
   "id": "7d7fcbf2-80ea-4c6d-9861-dbd00ca54f7b",
   "metadata": {},
   "outputs": [
    {
     "data": {
      "text/plain": [
       "['동해물과', '백두산이', '마르고', '닳도록']"
      ]
     },
     "execution_count": 47,
     "metadata": {},
     "output_type": "execute_result"
    }
   ],
   "source": [
    "'동해물과 백두산이 마르고 닳도록'.split() # 기본구분자: 공백"
   ]
  },
  {
   "cell_type": "markdown",
   "id": "b76aec36-87bc-432e-8080-94e4e6e1db1c",
   "metadata": {},
   "source": [
    "## 리스트 연산\n"
   ]
  },
  {
   "cell_type": "code",
   "execution_count": 51,
   "id": "76c19800-a0a0-4885-8aef-0fe7fd887c2b",
   "metadata": {},
   "outputs": [
    {
     "data": {
      "text/plain": [
       "[1, 2, 3, 4, 5, 6]"
      ]
     },
     "execution_count": 51,
     "metadata": {},
     "output_type": "execute_result"
    }
   ],
   "source": [
    "a=[1,2,3]\n",
    "b=[4,5,6]\n",
    "a+b"
   ]
  },
  {
   "cell_type": "code",
   "execution_count": 54,
   "id": "0b1d0357-d402-451c-86c8-8a8a56d01507",
   "metadata": {},
   "outputs": [
    {
     "data": {
      "text/plain": [
       "[1, 2, 3, 1, 2, 3, 1, 2, 3]"
      ]
     },
     "execution_count": 54,
     "metadata": {},
     "output_type": "execute_result"
    }
   ],
   "source": [
    "a*3"
   ]
  },
  {
   "cell_type": "code",
   "execution_count": 55,
   "id": "88ded22b-9618-452f-afce-43e50b05448d",
   "metadata": {},
   "outputs": [
    {
     "ename": "TypeError",
     "evalue": "can only concatenate list (not \"int\") to list",
     "output_type": "error",
     "traceback": [
      "\u001b[1;31m---------------------------------------------------------------------------\u001b[0m",
      "\u001b[1;31mTypeError\u001b[0m                                 Traceback (most recent call last)",
      "Input \u001b[1;32mIn [55]\u001b[0m, in \u001b[0;36m<cell line: 1>\u001b[1;34m()\u001b[0m\n\u001b[1;32m----> 1\u001b[0m \u001b[43ma\u001b[49m\u001b[38;5;241;43m+\u001b[39;49m\u001b[38;5;241;43m10\u001b[39;49m\n",
      "\u001b[1;31mTypeError\u001b[0m: can only concatenate list (not \"int\") to list"
     ]
    }
   ],
   "source": [
    "a+10 # 객체 + 숫자는 안된다."
   ]
  },
  {
   "cell_type": "code",
   "execution_count": 61,
   "id": "b1afe67c-d865-4199-ab99-40169c4af227",
   "metadata": {},
   "outputs": [
    {
     "data": {
      "text/plain": [
       "[1, 2, 3, [4, 5, 6]]"
      ]
     },
     "execution_count": 61,
     "metadata": {},
     "output_type": "execute_result"
    }
   ],
   "source": [
    "a=[1,2,3]\n",
    "b=[4,5,6]\n",
    "res = a.append(b)\n",
    "a"
   ]
  },
  {
   "cell_type": "code",
   "execution_count": 62,
   "id": "654df14e-4fdb-473c-a2a6-e6bcc60a8110",
   "metadata": {},
   "outputs": [
    {
     "data": {
      "text/plain": [
       "[1, 2, 3, 4, 5, 6]"
      ]
     },
     "execution_count": 62,
     "metadata": {},
     "output_type": "execute_result"
    }
   ],
   "source": [
    "a=[1,2,3]\n",
    "b=[4,5,6]\n",
    "a.extend(b)\n",
    "a"
   ]
  },
  {
   "cell_type": "code",
   "execution_count": 63,
   "id": "569b3696-fbf0-4193-849c-45ef0de38f9f",
   "metadata": {},
   "outputs": [
    {
     "data": {
      "text/plain": [
       "[1, 2, 3, [4, 5, 6]]"
      ]
     },
     "execution_count": 63,
     "metadata": {},
     "output_type": "execute_result"
    }
   ],
   "source": [
    "a=[1,2,3]\n",
    "b=[4,5,6]\n",
    "a.insert(3,b)\n",
    "a"
   ]
  },
  {
   "cell_type": "code",
   "execution_count": 64,
   "id": "fcb6173c-efe9-4fd6-95c6-6213cf0bd648",
   "metadata": {},
   "outputs": [
    {
     "name": "stdout",
     "output_type": "stream",
     "text": [
      "[1, [4, 5, 6], 2, 3]\n"
     ]
    }
   ],
   "source": [
    "a=[1,2,3]\n",
    "b=[4,5,6]\n",
    "a.insert(1,b)\n",
    "print(a)"
   ]
  },
  {
   "cell_type": "code",
   "execution_count": 65,
   "id": "b00f8384-5608-467c-b23b-47214f4ec209",
   "metadata": {},
   "outputs": [
    {
     "data": {
      "text/plain": [
       "[1, [4, 5, 6], 3]"
      ]
     },
     "execution_count": 65,
     "metadata": {},
     "output_type": "execute_result"
    }
   ],
   "source": [
    "a=[1,2,3]\n",
    "b=[4,5,6]\n",
    "a[1] = [4,5,6]\n",
    "a"
   ]
  },
  {
   "cell_type": "markdown",
   "id": "a3d0a9b1-35b0-4e12-82db-52678dc39b03",
   "metadata": {},
   "source": [
    "## '구분자'.join(list)\n",
    "- [리스트] = '문자열'.split(구분자)\n",
    "- 문자열 = 구분자.join(리스트)"
   ]
  },
  {
   "cell_type": "code",
   "execution_count": 66,
   "id": "7a5349e7-2110-48dc-8788-6382ecbee2c9",
   "metadata": {},
   "outputs": [
    {
     "data": {
      "text/plain": [
       "'1-2-3'"
      ]
     },
     "execution_count": 66,
     "metadata": {},
     "output_type": "execute_result"
    }
   ],
   "source": [
    "'-'.join(['1','2','3'])"
   ]
  },
  {
   "cell_type": "markdown",
   "id": "493e115a-60a4-4cc8-b5e8-3fdbe1de4cd0",
   "metadata": {},
   "source": [
    "# 정렬\n",
    "- 리스트.sort() : 원본을 재정렬\n",
    "- sorted(리스트) : 원본은 두고 카피본을 만들어서 정렬"
   ]
  },
  {
   "cell_type": "code",
   "execution_count": 70,
   "id": "f766ff27-757c-49b3-b852-86c672d17e74",
   "metadata": {},
   "outputs": [
    {
     "data": {
      "text/plain": [
       "[1, 3, 4, 7]"
      ]
     },
     "execution_count": 70,
     "metadata": {},
     "output_type": "execute_result"
    }
   ],
   "source": [
    "a= [1,4,3,7]\n",
    "a.sort()\n",
    "a # return이 없다. 객체 자체를 정렬해준다."
   ]
  },
  {
   "cell_type": "code",
   "execution_count": 71,
   "id": "5b096d89-62da-4a2c-90cb-5fb7cad1ea95",
   "metadata": {},
   "outputs": [
    {
     "name": "stdout",
     "output_type": "stream",
     "text": [
      "[1, 3, 4, 7]\n",
      "[1, 4, 3, 7]\n"
     ]
    }
   ],
   "source": [
    "a = [1,4,3,7]\n",
    "res = sorted(a)\n",
    "print(res)\n",
    "print(a)"
   ]
  },
  {
   "cell_type": "code",
   "execution_count": 73,
   "id": "793c44c1-0692-4ccf-b4e9-354acf6354be",
   "metadata": {},
   "outputs": [
    {
     "name": "stdout",
     "output_type": "stream",
     "text": [
      "[7, 4, 3, 1]\n"
     ]
    }
   ],
   "source": [
    "a = [1,4,3,7]\n",
    "res = sorted(a, reverse=True)\n",
    "print(res)"
   ]
  },
  {
   "cell_type": "markdown",
   "id": "4eb676c6-d4c1-44e5-92a7-ba12eab6fb1e",
   "metadata": {},
   "source": [
    "## bool(부울, 불리언)\n",
    "- True False\n"
   ]
  },
  {
   "cell_type": "code",
   "execution_count": 80,
   "id": "8000a48c-27fd-4cdf-b5ed-53079a24c9ac",
   "metadata": {},
   "outputs": [
    {
     "name": "stdout",
     "output_type": "stream",
     "text": [
      "False\n",
      "True\n",
      "False\n",
      "True\n",
      "False\n",
      "True\n",
      "True\n",
      "\n",
      "\n",
      "\n",
      "\n",
      "\n"
     ]
    }
   ],
   "source": [
    "print(bool('')) # 값이 없으므로 false\n",
    "print(bool('abc'))\n",
    "print(bool([]))\n",
    "print(bool([1,2]))\n",
    "print(bool(0)) # 0은 무조건 false\n",
    "print(bool(1))\n",
    "print(bool(-1))\n",
    "print()\n",
    "print()\n",
    "print()\n",
    "print()\n",
    "print()"
   ]
  },
  {
   "cell_type": "code",
   "execution_count": 97,
   "id": "d7cfe91d-2e59-40d8-bda8-71a751dd3651",
   "metadata": {},
   "outputs": [
    {
     "name": "stdout",
     "output_type": "stream",
     "text": [
      "34.2\n"
     ]
    }
   ],
   "source": [
    "a = [\"77\",\"8\",\"54\",\"32\",\"\",\"\",\"0\"]\n",
    "sum = 0\n",
    "cnt = 0\n",
    "for i in a:\n",
    "    \n",
    "    if bool(i):            # true일 때 또는 0일때\n",
    "        sum+=int(i)        # bool 쓰면 '0'도 true로 나오지만 어차피 \n",
    "        cnt+=1             # 평균 구하는거니까 count하긴해야함;;\n",
    "    \n",
    "print(f'{sum/cnt:.1f}')"
   ]
  },
  {
   "cell_type": "code",
   "execution_count": 94,
   "id": "015643aa-6d3f-436a-ab52-f514c609c343",
   "metadata": {},
   "outputs": [
    {
     "name": "stdout",
     "output_type": "stream",
     "text": [
      "34.2\n"
     ]
    }
   ],
   "source": [
    "a = [\"77\",\"8\",\"54\",\"32\",\"\",\"\",\"0\"]\n",
    "sum = 0\n",
    "cnt = 0\n",
    "for i in a:\n",
    "    \n",
    "    if bool(i):            # true일 때 또는 0일때\n",
    "        sum+=int(i)        # bool 쓰면 '0'도 true로 나오지만 어차피 \n",
    "        cnt+=1             # 평균 구하는거니까 count하긴해야함;;\n",
    "    \n",
    "print('{:.1f}'.format(sum/cnt))"
   ]
  },
  {
   "cell_type": "code",
   "execution_count": 91,
   "id": "c1716679-7058-4de1-9b65-5d8c0e558482",
   "metadata": {},
   "outputs": [
    {
     "name": "stdout",
     "output_type": "stream",
     "text": [
      "True\n",
      "True\n",
      "True\n",
      "True\n",
      "False\n",
      "False\n",
      "True\n"
     ]
    }
   ],
   "source": [
    "for i in a:\n",
    "    print(bool(i))"
   ]
  },
  {
   "cell_type": "code",
   "execution_count": null,
   "id": "3d606f76-15a0-4dad-a73a-84ca5f6b382f",
   "metadata": {},
   "outputs": [],
   "source": []
  }
 ],
 "metadata": {
  "kernelspec": {
   "display_name": "Python 3 (ipykernel)",
   "language": "python",
   "name": "python3"
  },
  "language_info": {
   "codemirror_mode": {
    "name": "ipython",
    "version": 3
   },
   "file_extension": ".py",
   "mimetype": "text/x-python",
   "name": "python",
   "nbconvert_exporter": "python",
   "pygments_lexer": "ipython3",
   "version": "3.8.8"
  }
 },
 "nbformat": 4,
 "nbformat_minor": 5
}
