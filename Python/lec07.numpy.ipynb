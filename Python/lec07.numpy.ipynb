{
 "cells": [
  {
   "cell_type": "markdown",
   "id": "469370aa-0018-42e1-b6e9-00de78ac853f",
   "metadata": {},
   "source": [
    "# lec07. numpy"
   ]
  },
  {
   "cell_type": "markdown",
   "id": "e193f844-f9b7-49e0-976d-0107c3320b2f",
   "metadata": {},
   "source": [
    "* 리스트(list) vs 배열(array)\n",
    "* [1,2,3]           [1 2 3]"
   ]
  },
  {
   "cell_type": "markdown",
   "id": "2fa54510-ff68-41fb-ab16-733fedbd9123",
   "metadata": {},
   "source": [
    "- 패키지 설치\n",
    "!pip install numpy"
   ]
  },
  {
   "cell_type": "code",
   "execution_count": 2,
   "id": "89bdacb6-9d15-4afa-b37d-dfcce9a377c2",
   "metadata": {},
   "outputs": [],
   "source": [
    "import numpy as np"
   ]
  },
  {
   "cell_type": "code",
   "execution_count": 3,
   "id": "78c4d0e2-93e0-43c8-b0b0-2852c4210026",
   "metadata": {},
   "outputs": [
    {
     "name": "stdout",
     "output_type": "stream",
     "text": [
      "[1 2 3]\n"
     ]
    }
   ],
   "source": [
    "arr = np.array( [1,2,3])\n",
    "print(arr)"
   ]
  },
  {
   "cell_type": "markdown",
   "id": "c98dffcf-a2e5-4a27-bac4-382ebf8265dc",
   "metadata": {},
   "source": [
    "* 직접 만들기 불가"
   ]
  },
  {
   "cell_type": "markdown",
   "id": "8a13ec4e-79d7-4fa4-8131-929f3191c026",
   "metadata": {},
   "source": [
    "* arr = np.array([iterable])"
   ]
  },
  {
   "cell_type": "markdown",
   "id": "6b29d16d-582f-495f-8922-1ed33fd4dd69",
   "metadata": {},
   "source": [
    "## Array 생성"
   ]
  },
  {
   "cell_type": "code",
   "execution_count": 4,
   "id": "99254b81-31ad-433c-b691-f5c812acffcb",
   "metadata": {},
   "outputs": [
    {
     "name": "stdout",
     "output_type": "stream",
     "text": [
      "[1, 2, 3]\n"
     ]
    }
   ],
   "source": [
    "arr = [1, 2, 3]\n",
    "print(arr)"
   ]
  },
  {
   "cell_type": "code",
   "execution_count": 5,
   "id": "d98101f7-1f15-4903-b88c-72d659855ed5",
   "metadata": {},
   "outputs": [
    {
     "name": "stdout",
     "output_type": "stream",
     "text": [
      "[1 2 3]\n",
      "<class 'numpy.ndarray'>\n",
      "(3,)\n"
     ]
    }
   ],
   "source": [
    "# 1차 array\n",
    "arr = np.array( [1,2,3])\n",
    "print(arr)\n",
    "print(type(arr))\n",
    "print(arr.shape) #(3,)  : 1차"
   ]
  },
  {
   "cell_type": "code",
   "execution_count": 6,
   "id": "de5b9dc7-2de2-4d2f-87f8-a077668287b6",
   "metadata": {},
   "outputs": [
    {
     "name": "stdout",
     "output_type": "stream",
     "text": [
      "[[1 2 3]\n",
      " [4 5 6]]\n",
      "<class 'numpy.ndarray'>\n",
      "(2, 3)\n"
     ]
    }
   ],
   "source": [
    "# 2차 array\n",
    "list = [[1, 2, 3],\n",
    "        [4, 5, 6]\n",
    "       ]\n",
    "arr2 = np.array(list)\n",
    "print(arr2)\n",
    "print(type(arr2))\n",
    "print(arr2.shape) # 2행3열 - 2차 디멘전"
   ]
  },
  {
   "cell_type": "code",
   "execution_count": 7,
   "id": "65c86fe3-697b-46e3-bcb0-c5f77588d7af",
   "metadata": {},
   "outputs": [
    {
     "name": "stdout",
     "output_type": "stream",
     "text": [
      "[[[ 1  2  3]\n",
      "  [ 4  5  6]]\n",
      "\n",
      " [[11 12 13]\n",
      "  [14 15 16]]]\n",
      "<class 'numpy.ndarray'>\n",
      "(2, 2, 3)\n"
     ]
    }
   ],
   "source": [
    "# 3차 array\n",
    "list = [\n",
    "        [[1, 2, 3],\n",
    "        [4, 5, 6]\n",
    "        ]\n",
    "        ,\n",
    "        [[11, 12, 13],\n",
    "        [14,15,16]\n",
    "        ]\n",
    "        ]\n",
    "arr3 = np.array(list)\n",
    "print(arr3)\n",
    "print(type(arr3))\n",
    "print(arr3.shape) # (2,2,3)  : 3차 디멘전"
   ]
  },
  {
   "cell_type": "markdown",
   "id": "ec88d8fe-65b0-43d2-b1db-dfdbf130889a",
   "metadata": {},
   "source": [
    "## array 연산\n",
    "- 개별 데이터에 대한 연산"
   ]
  },
  {
   "cell_type": "code",
   "execution_count": 8,
   "id": "a43724e6-bce7-4815-8a8f-73526324086f",
   "metadata": {},
   "outputs": [
    {
     "name": "stdout",
     "output_type": "stream",
     "text": [
      "[1, 2, 3] [1 2 3]\n",
      "2 2\n",
      "3 3\n"
     ]
    }
   ],
   "source": [
    "list = [1,2,3]\n",
    "arr = np.array(list)\n",
    "print(list, arr)\n",
    "print(list[1], arr[1])\n",
    "print(len(list), len(arr))"
   ]
  },
  {
   "cell_type": "code",
   "execution_count": 9,
   "id": "cc5d92ce-24ea-463f-8fbc-953ce658f5e7",
   "metadata": {},
   "outputs": [
    {
     "data": {
      "text/plain": [
       "[1, 2, 3, 1, 2, 3, 1, 2, 3]"
      ]
     },
     "execution_count": 9,
     "metadata": {},
     "output_type": "execute_result"
    }
   ],
   "source": [
    "list * 3 # 리스트는 박스채로 건든다."
   ]
  },
  {
   "cell_type": "code",
   "execution_count": 10,
   "id": "a6619a99-3d2d-4a3e-91e0-160fad261f20",
   "metadata": {},
   "outputs": [
    {
     "data": {
      "text/plain": [
       "array([3, 6, 9])"
      ]
     },
     "execution_count": 10,
     "metadata": {},
     "output_type": "execute_result"
    }
   ],
   "source": [
    "arr*3 # array는 요소들 값에 곱해준다."
   ]
  },
  {
   "cell_type": "code",
   "execution_count": 11,
   "id": "b57e1ed6-6f3b-4b75-ac03-0a1ab5f0cefe",
   "metadata": {},
   "outputs": [
    {
     "data": {
      "text/plain": [
       "array([1100, 2200, 3300])"
      ]
     },
     "execution_count": 11,
     "metadata": {},
     "output_type": "execute_result"
    }
   ],
   "source": [
    "sal = [1000, 2000, 3000]\n",
    "comm = [100, 200, 300]\n",
    "sal2 = np.array(sal)\n",
    "comm2 = np.array(comm)\n",
    "sal2+comm2"
   ]
  },
  {
   "cell_type": "code",
   "execution_count": 12,
   "id": "64097b1a-115a-49cb-b079-4c12ba2e14ae",
   "metadata": {},
   "outputs": [
    {
     "data": {
      "text/plain": [
       "[1100, 2200, 3300]"
      ]
     },
     "execution_count": 12,
     "metadata": {},
     "output_type": "execute_result"
    }
   ],
   "source": [
    "temp = []\n",
    "for i, v in enumerate(sal):\n",
    "    temp.append(v+comm[i])\n",
    "temp"
   ]
  },
  {
   "cell_type": "markdown",
   "id": "62669cf5-8619-4747-9125-f658d4f4e71c",
   "metadata": {},
   "source": [
    "- numpy : numerical python"
   ]
  },
  {
   "cell_type": "markdown",
   "id": "e0bb5442-f3b3-4d89-935e-1fd3067c3a70",
   "metadata": {},
   "source": [
    "- 선형대수 행렬 내적"
   ]
  },
  {
   "cell_type": "code",
   "execution_count": 13,
   "id": "467df747-af52-4925-88c4-4ed10114a96e",
   "metadata": {},
   "outputs": [
    {
     "name": "stdout",
     "output_type": "stream",
     "text": [
      "[[1 4]\n",
      " [3 8]]\n",
      "[ 5 11]\n"
     ]
    }
   ],
   "source": [
    "a = [[1,2],\n",
    "     [3,4]]\n",
    "b = [1,2]\n",
    "a2 = np.array(a)\n",
    "b2 = np.array(b)\n",
    "print(a2*b2)\n",
    "print(a2.dot(b2)) # (2,2) (2,1) = (2,)"
   ]
  },
  {
   "cell_type": "code",
   "execution_count": 14,
   "id": "8a499ec7-25e4-492f-b963-56439250969f",
   "metadata": {},
   "outputs": [
    {
     "name": "stdout",
     "output_type": "stream",
     "text": [
      "['a' '1' 'c']\n"
     ]
    }
   ],
   "source": [
    "list = ['a', 1, 'c'] \n",
    "arr = np.array(list)\n",
    "print(arr)"
   ]
  },
  {
   "cell_type": "code",
   "execution_count": 15,
   "id": "0a3df96d-a3b3-4a1d-98b6-bb786f9cb523",
   "metadata": {},
   "outputs": [
    {
     "name": "stdout",
     "output_type": "stream",
     "text": [
      "['1' '2' 'c']\n"
     ]
    }
   ],
   "source": [
    "list = [1,2,'c']\n",
    "arr = np.array(list)\n",
    "print(arr)"
   ]
  },
  {
   "cell_type": "code",
   "execution_count": 16,
   "id": "dfbf5dbc-00ad-48a5-b839-0aa6f76ec7ff",
   "metadata": {},
   "outputs": [
    {
     "data": {
      "text/plain": [
       "numpy.str_"
      ]
     },
     "execution_count": 16,
     "metadata": {},
     "output_type": "execute_result"
    }
   ],
   "source": [
    "type(arr[1])"
   ]
  },
  {
   "cell_type": "markdown",
   "id": "37e69486-9795-4997-ba4c-1f8156c589b7",
   "metadata": {},
   "source": [
    "## 수학"
   ]
  },
  {
   "cell_type": "code",
   "execution_count": 17,
   "id": "aae33d1f-db82-47f8-8fd0-f287b2a16398",
   "metadata": {},
   "outputs": [],
   "source": [
    "# + : np.add()\n",
    "# - : np.substract()\n",
    "# * : np.multiply()\n",
    "# / : np.divide()\n",
    "# dot : 내적\n",
    "# **2 : 제곱 np.square()\n",
    "# root : 제곱근 np.sqrt()\n",
    "# e : 지수 exp()\n",
    "# log : 로그 log()\n",
    "# 반올림 round() 올림 ceil() 버림 floor()"
   ]
  },
  {
   "cell_type": "code",
   "execution_count": 18,
   "id": "8ea37a65-7ea6-4456-b518-18c1b70bcdc4",
   "metadata": {},
   "outputs": [
    {
     "name": "stdout",
     "output_type": "stream",
     "text": [
      "[ 8 18 32]\n",
      "[ 16  81 256]\n",
      "[ 16  81 256]\n",
      "[2. 3. 4.]\n"
     ]
    }
   ],
   "source": [
    "arr = np.array([4,9, 16])\n",
    "print(arr*2)\n",
    "print(arr**2)\n",
    "print(np.square(arr))\n",
    "print(np.sqrt(arr))"
   ]
  },
  {
   "cell_type": "code",
   "execution_count": 19,
   "id": "f8ab00d0-b395-4090-9955-7ac5d5fc1f75",
   "metadata": {},
   "outputs": [
    {
     "name": "stdout",
     "output_type": "stream",
     "text": [
      "[[1 2]\n",
      " [3 4]\n",
      " [5 6]]\n",
      "(3, 2)\n",
      "2\n",
      "<class 'numpy.ndarray'>\n",
      "int32\n"
     ]
    }
   ],
   "source": [
    "a = np.array([[1,2] ,[3,4], [5,6]])\n",
    "print(a)\n",
    "print(a.shape) #----------------()가 없다 주의!!!\n",
    "print(a.ndim) # 차수 알려준다. 괄호 2개 겹쳐있으니까 2차\n",
    "print(type(a))\n",
    "print(a.dtype)"
   ]
  },
  {
   "cell_type": "code",
   "execution_count": 20,
   "id": "25492351-73c1-4b54-8372-6051f60865a2",
   "metadata": {},
   "outputs": [
    {
     "name": "stdout",
     "output_type": "stream",
     "text": [
      "[[6]\n",
      " [2]\n",
      " [3]]\n"
     ]
    }
   ],
   "source": [
    "b= np.array([[6],[2],[3]])\n",
    "b.shape\n",
    "print(b)"
   ]
  },
  {
   "cell_type": "code",
   "execution_count": null,
   "id": "02f6cf63-a522-4b98-b20b-2ce7b91ea83c",
   "metadata": {},
   "outputs": [],
   "source": []
  },
  {
   "cell_type": "code",
   "execution_count": null,
   "id": "0acc277f-f967-44d7-a10d-2185ba4c83ee",
   "metadata": {},
   "outputs": [],
   "source": []
  },
  {
   "cell_type": "markdown",
   "id": "ababe423-7560-4522-9ac8-6fedf33e8b40",
   "metadata": {},
   "source": [
    "## 그룹 연산\n",
    "* sum() max() min() mean() len()"
   ]
  },
  {
   "cell_type": "code",
   "execution_count": 21,
   "id": "926039b5-95d4-41e4-bee2-831d5622c4a4",
   "metadata": {},
   "outputs": [
    {
     "data": {
      "text/plain": [
       "15"
      ]
     },
     "execution_count": 21,
     "metadata": {},
     "output_type": "execute_result"
    }
   ],
   "source": [
    "list2 = [1,2,3,4,5]\n",
    "sum(list2)"
   ]
  },
  {
   "cell_type": "code",
   "execution_count": 22,
   "id": "1666355d-1235-440b-aea5-b572dc5338b5",
   "metadata": {},
   "outputs": [
    {
     "name": "stdout",
     "output_type": "stream",
     "text": [
      "15\n"
     ]
    }
   ],
   "source": [
    "list = [1,2,3,4,5]\n",
    "sum = 0\n",
    "for n in list:\n",
    "    sum+=n\n",
    "print(sum)"
   ]
  },
  {
   "cell_type": "code",
   "execution_count": 23,
   "id": "fc79e982-b439-419e-91bb-14eafedae044",
   "metadata": {},
   "outputs": [
    {
     "data": {
      "text/plain": [
       "5"
      ]
     },
     "execution_count": 23,
     "metadata": {},
     "output_type": "execute_result"
    }
   ],
   "source": [
    "max(list)"
   ]
  },
  {
   "cell_type": "code",
   "execution_count": 31,
   "id": "aa2e0818-0091-4a2e-826d-4c006a4b9b80",
   "metadata": {},
   "outputs": [
    {
     "name": "stdout",
     "output_type": "stream",
     "text": [
      "15\n",
      "3.0\n",
      "5\n",
      "1\n",
      "5\n",
      "1.4142135623730951\n"
     ]
    }
   ],
   "source": [
    "list_3 = [1,2,3,4,5]\n",
    "arr = np.array(list_3)\n",
    "print(arr.sum())\n",
    "print(arr.mean())\n",
    "print(arr.max())\n",
    "print(arr.min())\n",
    "print(len(arr))\n",
    "print(arr.std()) # 편차\n"
   ]
  },
  {
   "cell_type": "markdown",
   "id": "f3e58f75-d165-41be-8d98-c50451040005",
   "metadata": {},
   "source": [
    "## arange()\n",
    "- list: range(5) :[0,1,2,3,4]\n",
    "- array: np.arange(5)"
   ]
  },
  {
   "cell_type": "code",
   "execution_count": null,
   "id": "7756f790-cdb7-46bf-8f06-34af589f7ade",
   "metadata": {},
   "outputs": [],
   "source": []
  },
  {
   "cell_type": "code",
   "execution_count": 42,
   "id": "5aedb195-7c5e-4eeb-ae32-b1dc162bdb7d",
   "metadata": {},
   "outputs": [
    {
     "name": "stdout",
     "output_type": "stream",
     "text": [
      "[0, 1, 2, 3, 4]\n"
     ]
    },
    {
     "data": {
      "text/plain": [
       "[1, 2, 3]"
      ]
     },
     "execution_count": 42,
     "metadata": {},
     "output_type": "execute_result"
    }
   ],
   "source": [
    "list2 = [i for i in range(5)]\n",
    "print(list2)\n",
    "list2[1:4]"
   ]
  },
  {
   "cell_type": "code",
   "execution_count": 33,
   "id": "17e723cc-7221-499a-aa66-771cf5ae0667",
   "metadata": {},
   "outputs": [
    {
     "data": {
      "text/plain": [
       "[1, 2, 3]"
      ]
     },
     "execution_count": 33,
     "metadata": {},
     "output_type": "execute_result"
    }
   ],
   "source": [
    "a= [1,2,3]\n",
    "a"
   ]
  },
  {
   "cell_type": "code",
   "execution_count": 34,
   "id": "d82842d7-00f7-4dbc-944b-b94990cd6e1e",
   "metadata": {},
   "outputs": [],
   "source": [
    "import numpy as np"
   ]
  },
  {
   "cell_type": "markdown",
   "id": "bde5c809-3282-4295-8b15-2fe5ea3a6c2d",
   "metadata": {},
   "source": [
    "- [줄, 칸] ==[s:e, s:e]"
   ]
  },
  {
   "cell_type": "code",
   "execution_count": 56,
   "id": "f53f8f34-4272-44c2-bbde-8e8166a6cf7e",
   "metadata": {},
   "outputs": [
    {
     "name": "stdout",
     "output_type": "stream",
     "text": [
      "[[2]\n",
      " [4]]\n",
      "[[2]\n",
      " [4]]\n"
     ]
    }
   ],
   "source": [
    "arr = np.array([[1,2], [3,4], [5,6]])\n",
    "print(arr[0:2, 1:]) # --- : 기호 사용해야 세로로 출력\n",
    "print(arr[0:2, 1:2]) # ---가로로 출력 : 주의"
   ]
  },
  {
   "cell_type": "code",
   "execution_count": 71,
   "id": "d3fa7b74-7ee1-4977-b21f-1b49029a6898",
   "metadata": {},
   "outputs": [
    {
     "name": "stdout",
     "output_type": "stream",
     "text": [
      "[1, 2, 3]\n"
     ]
    }
   ],
   "source": [
    "list4 = [i for i in range(5)]\n",
    "# del list  - np에 자체적으로 list라는게 있어서 함수 list랑 겹침.\n",
    "list4 = list(range(5))\n",
    "print(list4[1:4])"
   ]
  },
  {
   "cell_type": "code",
   "execution_count": 72,
   "id": "16098e08-8a8a-48dc-bf7a-8121e90c58a2",
   "metadata": {},
   "outputs": [
    {
     "name": "stdout",
     "output_type": "stream",
     "text": [
      "(3, 5)\n",
      "2\n",
      "[['7654' 'MARTIN' '1250' '400' '10']\n",
      " ['7934' 'MILLER' '1300' '500' '20']\n",
      " ['7876' 'ADAMS' '1100' '0' '30']]\n"
     ]
    }
   ],
   "source": [
    "data_list = [\n",
    "              [7654,'MARTIN',1250, 400, 10],\n",
    "              [7934,'MILLER',1300, 500, 20],\n",
    "              [7876,'ADAMS' ,1100,   0, 30] \n",
    "           ]\n",
    "data = np.array(data_list)\n",
    "print(data.shape)\n",
    "print(data.ndim)\n",
    "print(data)"
   ]
  },
  {
   "cell_type": "code",
   "execution_count": 73,
   "id": "818f099d-5ba3-4e37-bec1-f9e460abd538",
   "metadata": {},
   "outputs": [
    {
     "data": {
      "text/plain": [
       "array([['MILLER', '1300', '500'],\n",
       "       ['ADAMS', '1100', '0']], dtype='<U11')"
      ]
     },
     "execution_count": 73,
     "metadata": {},
     "output_type": "execute_result"
    }
   ],
   "source": [
    "data[1:, 1:4]"
   ]
  },
  {
   "cell_type": "code",
   "execution_count": 74,
   "id": "f9dd542e-614a-4b60-bef6-5dbc16af6791",
   "metadata": {},
   "outputs": [
    {
     "data": {
      "text/plain": [
       "array([['7654', 'MARTIN'],\n",
       "       ['7934', 'MILLER'],\n",
       "       ['7876', 'ADAMS']], dtype='<U11')"
      ]
     },
     "execution_count": 74,
     "metadata": {},
     "output_type": "execute_result"
    }
   ],
   "source": [
    "data[:,:2]"
   ]
  },
  {
   "cell_type": "code",
   "execution_count": 75,
   "id": "47838cbf-c6b6-42ce-a599-c85fe3ea7737",
   "metadata": {},
   "outputs": [
    {
     "data": {
      "text/plain": [
       "array([['10'],\n",
       "       ['20'],\n",
       "       ['30']], dtype='<U11')"
      ]
     },
     "execution_count": 75,
     "metadata": {},
     "output_type": "execute_result"
    }
   ],
   "source": [
    "data[:, 4:]"
   ]
  },
  {
   "cell_type": "code",
   "execution_count": 76,
   "id": "c9a17c19-7eb7-44a9-b06e-2cf0b151f291",
   "metadata": {},
   "outputs": [
    {
     "data": {
      "text/plain": [
       "array([['7876', 'ADAMS', '1100', '0', '30']], dtype='<U11')"
      ]
     },
     "execution_count": 76,
     "metadata": {},
     "output_type": "execute_result"
    }
   ],
   "source": [
    "data[2:]"
   ]
  },
  {
   "cell_type": "code",
   "execution_count": 77,
   "id": "630e74fa-5688-4ee7-bf05-9edae2232c75",
   "metadata": {},
   "outputs": [
    {
     "name": "stdout",
     "output_type": "stream",
     "text": [
      "ll\n"
     ]
    }
   ],
   "source": [
    "word = 'hello'\n",
    "print(word[2:4])"
   ]
  },
  {
   "cell_type": "code",
   "execution_count": 78,
   "id": "93d73dc9-162d-4eeb-8a14-a41632ccc6b3",
   "metadata": {},
   "outputs": [
    {
     "data": {
      "text/plain": [
       "[3, 4]"
      ]
     },
     "execution_count": 78,
     "metadata": {},
     "output_type": "execute_result"
    }
   ],
   "source": [
    "emp = [1,2,3,4,5]\n",
    "emp[2:4]"
   ]
  },
  {
   "cell_type": "markdown",
   "id": "6bdcc8ef-79c4-442b-ac6d-d0b0bae8cd75",
   "metadata": {},
   "source": [
    "## 난수: np.random.랜덤함수()\n",
    "* randint(n, size=(3,4) ) : 0 ~ n-1범위 내에서 균일분포의 정수난수를 발생\n",
    "* rand()   : 난수 발생 균등분포를 따르는 난수 발생 (음수값X)\n",
    "* randn() : 표준 정규분포를 따르는 난수 발생 (음수값O)\n"
   ]
  },
  {
   "cell_type": "code",
   "execution_count": 100,
   "id": "582da74b-08bb-4463-a953-b3913abca957",
   "metadata": {},
   "outputs": [
    {
     "name": "stdout",
     "output_type": "stream",
     "text": [
      "8\n"
     ]
    }
   ],
   "source": [
    "import numpy as np\n",
    "a = np.random.randint(10) # 0~9까지의 숫자 반환\n",
    "print(a)"
   ]
  },
  {
   "cell_type": "code",
   "execution_count": 105,
   "id": "5f442f4d-1992-41d9-b0b0-d29f6b7f32ab",
   "metadata": {},
   "outputs": [],
   "source": [
    "temp = np.random.randint(46, size=6) # 6개 반환"
   ]
  },
  {
   "cell_type": "code",
   "execution_count": 106,
   "id": "36f50981-c385-426d-8aa3-00fd60ca7b04",
   "metadata": {},
   "outputs": [
    {
     "data": {
      "text/plain": [
       "array([18, 18, 24, 28, 38, 43])"
      ]
     },
     "execution_count": 106,
     "metadata": {},
     "output_type": "execute_result"
    }
   ],
   "source": [
    "np.sort(np.random.randint(46, size = 6))"
   ]
  },
  {
   "cell_type": "code",
   "execution_count": 107,
   "id": "10c310f9-bcf3-4a1a-b4f0-1da62e834dd1",
   "metadata": {},
   "outputs": [
    {
     "data": {
      "text/plain": [
       "{3, 7, 14, 23, 38}"
      ]
     },
     "execution_count": 107,
     "metadata": {},
     "output_type": "execute_result"
    }
   ],
   "source": [
    "set(temp[:6])"
   ]
  },
  {
   "cell_type": "code",
   "execution_count": 108,
   "id": "541dad09-e042-4b54-846c-1c793782c0c0",
   "metadata": {},
   "outputs": [
    {
     "data": {
      "text/plain": [
       "array([[37,  4, 17],\n",
       "       [34,  6, 14]])"
      ]
     },
     "execution_count": 108,
     "metadata": {},
     "output_type": "execute_result"
    }
   ],
   "source": [
    "np.random.randint(46, size=(2,3))"
   ]
  },
  {
   "cell_type": "code",
   "execution_count": 117,
   "id": "d894bfeb-2edd-4653-8e27-997a00c80c42",
   "metadata": {},
   "outputs": [
    {
     "data": {
      "text/plain": [
       "6"
      ]
     },
     "execution_count": 117,
     "metadata": {},
     "output_type": "execute_result"
    }
   ],
   "source": [
    "np.random.seed(42) # 여러번 뽑아도 처음 뽑은게 그대로 나올 수 있도록\n",
    "np.random.randint(10)"
   ]
  },
  {
   "cell_type": "markdown",
   "id": "6761b5a1-94c6-4f7b-bd5f-ec0c0482d026",
   "metadata": {},
   "source": [
    "## CRUD"
   ]
  },
  {
   "cell_type": "markdown",
   "id": "ab4d6f51-a9a3-4424-855b-96a4475eb7fd",
   "metadata": {},
   "source": [
    "### 조회 R\n",
    "- 인덱스\n",
    "- 슬라이싱\n",
    "- 조건 : isin() any() all()"
   ]
  },
  {
   "cell_type": "code",
   "execution_count": 118,
   "id": "90ea1c7b-af8f-4f3a-98e4-b449a0f55915",
   "metadata": {},
   "outputs": [
    {
     "data": {
      "text/plain": [
       "True"
      ]
     },
     "execution_count": 118,
     "metadata": {},
     "output_type": "execute_result"
    }
   ],
   "source": [
    "'3' in ['3', '6', '9']"
   ]
  },
  {
   "cell_type": "code",
   "execution_count": 120,
   "id": "e7cff64a-f2f8-4eeb-95ff-96547852f083",
   "metadata": {},
   "outputs": [
    {
     "data": {
      "text/plain": [
       "array(True)"
      ]
     },
     "execution_count": 120,
     "metadata": {},
     "output_type": "execute_result"
    }
   ],
   "source": [
    "np.isin('3', ['3', '6', '9'])"
   ]
  },
  {
   "cell_type": "code",
   "execution_count": 123,
   "id": "e69d3e1f-ed14-46c8-b6ee-310219770036",
   "metadata": {},
   "outputs": [
    {
     "data": {
      "text/plain": [
       "(array([3, 4], dtype=int64),)"
      ]
     },
     "execution_count": 123,
     "metadata": {},
     "output_type": "execute_result"
    }
   ],
   "source": [
    "arr = np.array([1,2,3,4,5])\n",
    "np.where(arr>3) # 3보다 큰게 있어? -> 인덱스 반환"
   ]
  },
  {
   "cell_type": "code",
   "execution_count": 127,
   "id": "4640f9fc-4699-44d9-bf78-a73eac6972ce",
   "metadata": {},
   "outputs": [
    {
     "data": {
      "text/plain": [
       "array([4, 5])"
      ]
     },
     "execution_count": 127,
     "metadata": {},
     "output_type": "execute_result"
    }
   ],
   "source": [
    "arr[np.where(arr>3)] # 결과값 뽑아내주기"
   ]
  },
  {
   "cell_type": "code",
   "execution_count": 135,
   "id": "f33b6c30-1725-4a21-88e5-46553b6776c6",
   "metadata": {},
   "outputs": [
    {
     "data": {
      "text/plain": [
       "True"
      ]
     },
     "execution_count": 135,
     "metadata": {},
     "output_type": "execute_result"
    }
   ],
   "source": [
    "arr = np.array([1,2,3,4,5])\n",
    "np.any(arr<5)"
   ]
  },
  {
   "cell_type": "code",
   "execution_count": 130,
   "id": "11631ea9-05c5-42e2-ac8d-54092406d16e",
   "metadata": {},
   "outputs": [
    {
     "data": {
      "text/plain": [
       "False"
      ]
     },
     "execution_count": 130,
     "metadata": {},
     "output_type": "execute_result"
    }
   ],
   "source": [
    "arr = np.array([1,2,3,4,5])\n",
    "np.all(arr<5)"
   ]
  },
  {
   "cell_type": "code",
   "execution_count": 142,
   "id": "4c58f7a5-9740-4ebf-b261-44514ffe6e64",
   "metadata": {},
   "outputs": [
    {
     "name": "stdout",
     "output_type": "stream",
     "text": [
      "[1, 2, 3]\n",
      "[1, 2, 3, 4]\n",
      "[1, 99, 2, 3, 4]\n",
      "[1, 99, 2, 3]\n"
     ]
    }
   ],
   "source": [
    "# list에서 함수\n",
    "emp = [1,2,3]\n",
    "print(emp)\n",
    "emp.append(4)\n",
    "print(emp)\n",
    "emp.insert(1,99)\n",
    "print(emp)\n",
    "emp.remove(4)\n",
    "print(emp)"
   ]
  },
  {
   "cell_type": "code",
   "execution_count": 143,
   "id": "04a04b91-745d-402f-8f03-b090fdaefe68",
   "metadata": {},
   "outputs": [
    {
     "name": "stdout",
     "output_type": "stream",
     "text": [
      "[1 2 3]\n",
      "[1 2 3 4 5]\n",
      "[1 2 3 4 5 4 5]\n",
      "[ 1 99  2  3  4  5  4  5]\n",
      "[ 1 99  2  3  4  5]\n"
     ]
    }
   ],
   "source": [
    "arr = np.array([1,2,3])\n",
    "print(arr) #[1,2,3]\n",
    "\n",
    "arr = np.append(arr, (4,5)) \n",
    "print(arr)\n",
    "\n",
    "arr = np.append(arr, [4,5]) \n",
    "print(arr)\n",
    "\n",
    "arr = np.insert(arr, 1, 99)\n",
    "print(arr)\n",
    "\n",
    "arr = np.delete(arr, [4,5])\n",
    "print(arr)"
   ]
  },
  {
   "cell_type": "markdown",
   "id": "7d0d993e-24bf-4d06-8396-9f571ba66251",
   "metadata": {},
   "source": [
    "## 좌우 붙이기\n",
    "- 그냥 hstack 쓰자\n",
    "- np.r\n",
    "- np.hstack\n",
    "- np.concatenate((a,b), axis=0)"
   ]
  },
  {
   "cell_type": "code",
   "execution_count": 150,
   "id": "6e654c89-db4d-40e5-ad55-572cc69435f0",
   "metadata": {},
   "outputs": [
    {
     "name": "stdout",
     "output_type": "stream",
     "text": [
      "[1 2 3 4 5 6]\n",
      "[1 2 3 4 5 6]\n",
      "[1 2 3 4 5 6]\n"
     ]
    }
   ],
   "source": [
    "a = np.array([1,2,3])\n",
    "b = np.array([4,5,6])\n",
    "\n",
    "print(np.r_[a,b])\n",
    "print(np.hstack([a,b]))\n",
    "print(np.concatenate((a,b), axis=0))"
   ]
  },
  {
   "cell_type": "markdown",
   "id": "df986a55-bb00-40c9-b98a-ad8af584237b",
   "metadata": {},
   "source": [
    "## 위아래 붙이기\n",
    "- 그냥 vstack 쓰자"
   ]
  },
  {
   "cell_type": "code",
   "execution_count": 165,
   "id": "5f6c904a-723d-4206-877c-9ab072f6851e",
   "metadata": {},
   "outputs": [
    {
     "name": "stdout",
     "output_type": "stream",
     "text": [
      "[[1 2 3]\n",
      " [4 5 6]]\n",
      "[[1 2 3]\n",
      " [4 5 6]]\n"
     ]
    }
   ],
   "source": [
    "print(np.r_[[a], [b]])\n",
    "print(np.vstack((a, b)))"
   ]
  },
  {
   "cell_type": "markdown",
   "id": "e7d6674b-0931-4bbe-bc44-3e52d14d6a4c",
   "metadata": {},
   "source": [
    "## 세로줄로 붙이기\n"
   ]
  },
  {
   "cell_type": "code",
   "execution_count": 166,
   "id": "bfb56d8f-02d0-4f41-8be9-3a540cf299bb",
   "metadata": {},
   "outputs": [
    {
     "name": "stdout",
     "output_type": "stream",
     "text": [
      "[[1 4]\n",
      " [2 5]\n",
      " [3 6]]\n"
     ]
    }
   ],
   "source": [
    "a = np.array([1,2,3])\n",
    "b = np.array([4,5,6])\n",
    "print(np.column_stack([a,b]))"
   ]
  },
  {
   "cell_type": "code",
   "execution_count": null,
   "id": "b6333aef-13dd-4549-b539-4f738265cd07",
   "metadata": {},
   "outputs": [],
   "source": []
  },
  {
   "cell_type": "code",
   "execution_count": null,
   "id": "b61d621b-a89f-4bbf-ad11-fe1be21e4f45",
   "metadata": {},
   "outputs": [],
   "source": []
  },
  {
   "cell_type": "code",
   "execution_count": null,
   "id": "a673f858-e9f5-44cc-9844-8d57cd61bf70",
   "metadata": {},
   "outputs": [],
   "source": []
  },
  {
   "cell_type": "markdown",
   "id": "e7685558-9441-4ccf-bb1e-0fb49e47942e",
   "metadata": {},
   "source": [
    "## reshape(행, 열)"
   ]
  },
  {
   "cell_type": "code",
   "execution_count": 174,
   "id": "2b91178d-6206-4eb0-98af-ea17cb64cb8d",
   "metadata": {},
   "outputs": [
    {
     "name": "stdout",
     "output_type": "stream",
     "text": [
      "[[ 6 19 28]\n",
      " [14 10  7]\n",
      " [28 20  6]\n",
      " [25 18 22]]\n",
      "(4, 3)\n"
     ]
    }
   ],
   "source": [
    "np.random.seed(42)\n",
    "arr = np.random.randint(30, size=(4,3))\n",
    "print(arr)\n",
    "print(arr.shape)"
   ]
  },
  {
   "cell_type": "markdown",
   "id": "eff7c755-03df-4adc-a3c8-4c21b178d1ea",
   "metadata": {},
   "source": [
    "4, 3 -- 6, 2    --3, 4       --5, 남으면 에러"
   ]
  },
  {
   "cell_type": "code",
   "execution_count": 175,
   "id": "fc9bfc7a-68c4-4b3c-8de5-bc82ca24cd40",
   "metadata": {},
   "outputs": [
    {
     "name": "stdout",
     "output_type": "stream",
     "text": [
      "[[ 6 19]\n",
      " [28 14]\n",
      " [10  7]\n",
      " [28 20]\n",
      " [ 6 25]\n",
      " [18 22]]\n",
      "(6, 2)\n"
     ]
    }
   ],
   "source": [
    "temp = arr.reshape(6,2)\n",
    "print(temp)\n",
    "print(temp.shape)"
   ]
  },
  {
   "cell_type": "code",
   "execution_count": 176,
   "id": "5d1787e3-9a4b-4c4c-a57a-765daa1ac1c7",
   "metadata": {},
   "outputs": [
    {
     "name": "stdout",
     "output_type": "stream",
     "text": [
      "[[ 6 19 28 14]\n",
      " [10  7 28 20]\n",
      " [ 6 25 18 22]]\n",
      "(3, 4)\n"
     ]
    }
   ],
   "source": [
    "temp = arr.reshape(-1,4) # -1은 너가 계산해\n",
    "print(temp)\n",
    "print(temp.shape)"
   ]
  },
  {
   "cell_type": "markdown",
   "id": "c65adcd1-017b-4e14-a622-0b3da766de05",
   "metadata": {},
   "source": [
    "# arr.reshape(줄, 칸)\n",
    "- reshape(-1, )의 의미: 컴퓨터가 알아서 계산해라\n",
    "- reshape(-1) 의 의미 : 1차"
   ]
  },
  {
   "cell_type": "code",
   "execution_count": 182,
   "id": "9ce9f38c-a17e-47c7-8b23-b8f236650ae0",
   "metadata": {},
   "outputs": [
    {
     "name": "stdout",
     "output_type": "stream",
     "text": [
      "[[ 6 19 28 14]\n",
      " [10  7 28 20]\n",
      " [ 6 25 18 22]]\n",
      "[ 6 19 28 14 10  7 28 20  6 25 18 22]\n",
      "[[ 6 19 28]\n",
      " [14 10  7]\n",
      " [28 20  6]\n",
      " [25 18 22]]\n"
     ]
    }
   ],
   "source": [
    "print(temp)\n",
    "print(temp.reshape(-1))\n",
    "print(temp.reshape(-1,3))"
   ]
  },
  {
   "cell_type": "markdown",
   "id": "1a7fc988-9220-4dde-ac7e-716923a380ad",
   "metadata": {},
   "source": [
    "## axis\n",
    "- axis=0 : row\n",
    "- axis=1 : col"
   ]
  },
  {
   "cell_type": "code",
   "execution_count": 185,
   "id": "abe692e0-fc77-414c-9b06-3b9523c62a98",
   "metadata": {},
   "outputs": [
    {
     "name": "stdout",
     "output_type": "stream",
     "text": [
      "[[ 1  2  3]\n",
      " [10 20 30]]\n",
      "66\n",
      "66\n",
      "[ 6 60]\n",
      "[11 22 33]\n"
     ]
    }
   ],
   "source": [
    "arr = np.array([[1,2,3], [10, 20, 30]])\n",
    "print(arr)\n",
    "print(arr.sum())\n",
    "print(np.sum(arr))\n",
    "print(arr.sum(axis=1))\n",
    "print(arr.sum(axis=0))"
   ]
  },
  {
   "cell_type": "code",
   "execution_count": null,
   "id": "e65e152d-8fe3-49dc-8bd9-2d5f82908b83",
   "metadata": {},
   "outputs": [],
   "source": []
  },
  {
   "cell_type": "code",
   "execution_count": null,
   "id": "147b3204-f61c-4648-a41a-d1ce19cdcbf6",
   "metadata": {},
   "outputs": [],
   "source": []
  },
  {
   "cell_type": "code",
   "execution_count": null,
   "id": "3386c1a1-5af1-4f59-87e2-ef2d276bf9b6",
   "metadata": {},
   "outputs": [],
   "source": []
  },
  {
   "cell_type": "code",
   "execution_count": null,
   "id": "b59f827e-c0d2-4d30-b72d-82d281a567e6",
   "metadata": {},
   "outputs": [],
   "source": []
  },
  {
   "cell_type": "code",
   "execution_count": null,
   "id": "6d4bce18-e3a8-43ca-b301-3e96aaf5aaa6",
   "metadata": {},
   "outputs": [],
   "source": []
  },
  {
   "cell_type": "code",
   "execution_count": null,
   "id": "5bfb54db-3498-4e99-b640-279434feb146",
   "metadata": {},
   "outputs": [],
   "source": []
  },
  {
   "cell_type": "code",
   "execution_count": null,
   "id": "77369446-cf1d-4a8e-8b08-b6e96671d7bd",
   "metadata": {},
   "outputs": [],
   "source": []
  },
  {
   "cell_type": "code",
   "execution_count": null,
   "id": "3a0944b5-9db3-408b-a775-a789032eb6a9",
   "metadata": {},
   "outputs": [],
   "source": []
  },
  {
   "cell_type": "code",
   "execution_count": null,
   "id": "863ca070-0d50-48ae-9d7f-0d456ffcec67",
   "metadata": {},
   "outputs": [],
   "source": []
  },
  {
   "cell_type": "code",
   "execution_count": null,
   "id": "479f25de-dbb8-4bf8-8580-416ad1f7448a",
   "metadata": {},
   "outputs": [],
   "source": []
  },
  {
   "cell_type": "code",
   "execution_count": null,
   "id": "10135c74-fbc1-4659-81d6-fe8fc4755d3e",
   "metadata": {
    "tags": []
   },
   "outputs": [],
   "source": []
  },
  {
   "cell_type": "code",
   "execution_count": null,
   "id": "b556571c-444c-4aa7-92e4-138ee6cf7f68",
   "metadata": {},
   "outputs": [],
   "source": []
  },
  {
   "cell_type": "code",
   "execution_count": null,
   "id": "19626f29-b5d7-4037-97c8-717b23033a45",
   "metadata": {},
   "outputs": [],
   "source": []
  },
  {
   "cell_type": "code",
   "execution_count": null,
   "id": "b2505633-1966-4fff-9616-45ac3df777d1",
   "metadata": {},
   "outputs": [],
   "source": []
  },
  {
   "cell_type": "code",
   "execution_count": null,
   "id": "4bf0652a-64e2-4d1f-87a8-0f9c2c6e949e",
   "metadata": {},
   "outputs": [],
   "source": []
  },
  {
   "cell_type": "code",
   "execution_count": null,
   "id": "59f1b2fe-17d4-4a37-b8e1-899207e2750c",
   "metadata": {},
   "outputs": [],
   "source": []
  },
  {
   "cell_type": "code",
   "execution_count": null,
   "id": "7da77efc-d564-4fc6-99cd-23fbdbb39c1a",
   "metadata": {},
   "outputs": [],
   "source": []
  },
  {
   "cell_type": "code",
   "execution_count": null,
   "id": "172e64a8-406d-498d-b9cb-9c14ea91f3e6",
   "metadata": {},
   "outputs": [],
   "source": []
  },
  {
   "cell_type": "code",
   "execution_count": null,
   "id": "0f25d91b-dc98-47d4-9c69-2046de5c86ba",
   "metadata": {},
   "outputs": [],
   "source": []
  },
  {
   "cell_type": "code",
   "execution_count": null,
   "id": "de50e25d-1a8f-4279-88fc-9d88c15459cd",
   "metadata": {},
   "outputs": [],
   "source": []
  },
  {
   "cell_type": "markdown",
   "id": "e43435f9-aadd-4c42-8353-e850b0bdd1bb",
   "metadata": {},
   "source": [
    "## 기타 : 예약어는 변수명으로 사용하지마셔요"
   ]
  },
  {
   "cell_type": "code",
   "execution_count": 81,
   "id": "97da19c0-2039-4ef4-8b3f-8582e548a013",
   "metadata": {},
   "outputs": [
    {
     "data": {
      "text/plain": [
       "[1, 2, 3]"
      ]
     },
     "execution_count": 81,
     "metadata": {},
     "output_type": "execute_result"
    }
   ],
   "source": [
    "import numpy as np\n",
    "list = [1,2,3]\n",
    "del list # 메모리에서 list 지우기\n",
    "list(map(int, ['1', '2', '3']))"
   ]
  },
  {
   "cell_type": "code",
   "execution_count": 83,
   "id": "93e255c2-feab-42c6-bf88-d4be4f63f441",
   "metadata": {},
   "outputs": [
    {
     "data": {
      "text/plain": [
       "[10, 20, 30]"
      ]
     },
     "execution_count": 83,
     "metadata": {},
     "output_type": "execute_result"
    }
   ],
   "source": [
    "# del list\n",
    "__builtins__.list(map(int, ['10', '20', '30'])) # del 쓰거나 builins 쓰고 함수 쓰거나\n"
   ]
  },
  {
   "cell_type": "code",
   "execution_count": null,
   "id": "9965f88d-3010-45db-8d31-b7739584c9c6",
   "metadata": {},
   "outputs": [],
   "source": []
  }
 ],
 "metadata": {
  "kernelspec": {
   "display_name": "Python 3 (ipykernel)",
   "language": "python",
   "name": "python3"
  },
  "language_info": {
   "codemirror_mode": {
    "name": "ipython",
    "version": 3
   },
   "file_extension": ".py",
   "mimetype": "text/x-python",
   "name": "python",
   "nbconvert_exporter": "python",
   "pygments_lexer": "ipython3",
   "version": "3.8.8"
  }
 },
 "nbformat": 4,
 "nbformat_minor": 5
}
