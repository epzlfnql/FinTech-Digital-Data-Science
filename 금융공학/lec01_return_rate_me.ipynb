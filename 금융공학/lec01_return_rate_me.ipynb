{
 "cells": [
  {
   "cell_type": "markdown",
   "id": "inclusive-puzzle",
   "metadata": {},
   "source": [
    "<font size=6><b>유가증권 수익율 계산"
   ]
  },
  {
   "cell_type": "code",
   "execution_count": 1,
   "id": "religious-spending",
   "metadata": {},
   "outputs": [
    {
     "data": {
      "text/html": [
       "<style>.container{width:100% !important;}</style>"
      ],
      "text/plain": [
       "<IPython.core.display.HTML object>"
      ]
     },
     "metadata": {},
     "output_type": "display_data"
    }
   ],
   "source": [
    "import pandas as pd\n",
    "import numpy as np\n",
    "import seaborn as sns\n",
    "from matplotlib import dates as mdates\n",
    "import matplotlib.pyplot as plt\n",
    "\n",
    "import pandas_datareader as pdr\n",
    "import FinanceDataReader as fdr\n",
    "from pykrx import stock\n",
    "\n",
    "import warnings\n",
    "warnings.filterwarnings(action='ignore')\n",
    "\n",
    "#-------------------- 차트 관련 속성 (한글처리, 그리드) -----------\n",
    "plt.rcParams['font.family']= 'Malgun Gothic'\n",
    "plt.rcParams['axes.unicode_minus'] = False\n",
    "plt.rc('font', family='Malgun Gothic')\n",
    "sns.set()\n",
    "\n",
    "#-------------------- 주피터 , 출력결과 넓이 늘리기 ---------------\n",
    "from IPython.core.display import display, HTML\n",
    "display(HTML(\"<style>.container{width:100% !important;}</style>\"))\n",
    "pd.set_option('display.max_rows', 100)\n",
    "pd.set_option('display.max_columns', 100)\n",
    "pd.set_option('max_colwidth', None)\n"
   ]
  },
  {
   "cell_type": "code",
   "execution_count": 2,
   "id": "appropriate-stadium",
   "metadata": {},
   "outputs": [
    {
     "name": "stdout",
     "output_type": "stream",
     "text": [
      "035720\n"
     ]
    }
   ],
   "source": [
    "def codefind(name):\n",
    "    krx = fdr.StockListing('KRX')\n",
    "    search = list(krx['Name'])\n",
    "    for i in range(len(krx)):\n",
    "        if (search[i]==name):\n",
    "            print(krx['Symbol'][i])\n",
    "            return\n",
    "codefind('카카오')        "
   ]
  },
  {
   "cell_type": "markdown",
   "id": "rational-dream",
   "metadata": {},
   "source": [
    "# OHLCV Data Load\n",
    "* yahoo finance를 이용한 삼성전자 주식 가져오기"
   ]
  },
  {
   "cell_type": "code",
   "execution_count": 3,
   "id": "thermal-seminar",
   "metadata": {},
   "outputs": [],
   "source": [
    "df_ss = pdr.get_data_yahoo('005930.KS', '2018-01-01', '2019-12-31')"
   ]
  },
  {
   "cell_type": "code",
   "execution_count": 4,
   "id": "quality-cabinet",
   "metadata": {},
   "outputs": [
    {
     "name": "stdout",
     "output_type": "stream",
     "text": [
      "<class 'pandas.core.frame.DataFrame'>\n",
      "DatetimeIndex: 490 entries, 2018-01-02 to 2019-12-30\n",
      "Data columns (total 6 columns):\n",
      " #   Column     Non-Null Count  Dtype  \n",
      "---  ------     --------------  -----  \n",
      " 0   High       490 non-null    float64\n",
      " 1   Low        490 non-null    float64\n",
      " 2   Open       490 non-null    float64\n",
      " 3   Close      490 non-null    float64\n",
      " 4   Volume     490 non-null    float64\n",
      " 5   Adj Close  490 non-null    float64\n",
      "dtypes: float64(6)\n",
      "memory usage: 26.8 KB\n"
     ]
    },
    {
     "data": {
      "text/html": [
       "<div>\n",
       "<style scoped>\n",
       "    .dataframe tbody tr th:only-of-type {\n",
       "        vertical-align: middle;\n",
       "    }\n",
       "\n",
       "    .dataframe tbody tr th {\n",
       "        vertical-align: top;\n",
       "    }\n",
       "\n",
       "    .dataframe thead th {\n",
       "        text-align: right;\n",
       "    }\n",
       "</style>\n",
       "<table border=\"1\" class=\"dataframe\">\n",
       "  <thead>\n",
       "    <tr style=\"text-align: right;\">\n",
       "      <th></th>\n",
       "      <th>High</th>\n",
       "      <th>Low</th>\n",
       "      <th>Open</th>\n",
       "      <th>Close</th>\n",
       "      <th>Volume</th>\n",
       "      <th>Adj Close</th>\n",
       "    </tr>\n",
       "    <tr>\n",
       "      <th>Date</th>\n",
       "      <th></th>\n",
       "      <th></th>\n",
       "      <th></th>\n",
       "      <th></th>\n",
       "      <th></th>\n",
       "      <th></th>\n",
       "    </tr>\n",
       "  </thead>\n",
       "  <tbody>\n",
       "    <tr>\n",
       "      <th>2018-01-02</th>\n",
       "      <td>51400.0</td>\n",
       "      <td>50780.0</td>\n",
       "      <td>51380.0</td>\n",
       "      <td>51020.0</td>\n",
       "      <td>8474250.0</td>\n",
       "      <td>45077.804688</td>\n",
       "    </tr>\n",
       "    <tr>\n",
       "      <th>2018-01-03</th>\n",
       "      <td>52560.0</td>\n",
       "      <td>51420.0</td>\n",
       "      <td>52540.0</td>\n",
       "      <td>51620.0</td>\n",
       "      <td>10013500.0</td>\n",
       "      <td>45607.914062</td>\n",
       "    </tr>\n",
       "    <tr>\n",
       "      <th>2018-01-04</th>\n",
       "      <td>52180.0</td>\n",
       "      <td>50640.0</td>\n",
       "      <td>52120.0</td>\n",
       "      <td>51080.0</td>\n",
       "      <td>11695450.0</td>\n",
       "      <td>45130.820312</td>\n",
       "    </tr>\n",
       "    <tr>\n",
       "      <th>2018-01-05</th>\n",
       "      <td>52120.0</td>\n",
       "      <td>51200.0</td>\n",
       "      <td>51300.0</td>\n",
       "      <td>52120.0</td>\n",
       "      <td>9481150.0</td>\n",
       "      <td>46049.683594</td>\n",
       "    </tr>\n",
       "    <tr>\n",
       "      <th>2018-01-08</th>\n",
       "      <td>52520.0</td>\n",
       "      <td>51500.0</td>\n",
       "      <td>52400.0</td>\n",
       "      <td>52020.0</td>\n",
       "      <td>8383650.0</td>\n",
       "      <td>45961.335938</td>\n",
       "    </tr>\n",
       "  </tbody>\n",
       "</table>\n",
       "</div>"
      ],
      "text/plain": [
       "               High      Low     Open    Close      Volume     Adj Close\n",
       "Date                                                                    \n",
       "2018-01-02  51400.0  50780.0  51380.0  51020.0   8474250.0  45077.804688\n",
       "2018-01-03  52560.0  51420.0  52540.0  51620.0  10013500.0  45607.914062\n",
       "2018-01-04  52180.0  50640.0  52120.0  51080.0  11695450.0  45130.820312\n",
       "2018-01-05  52120.0  51200.0  51300.0  52120.0   9481150.0  46049.683594\n",
       "2018-01-08  52520.0  51500.0  52400.0  52020.0   8383650.0  45961.335938"
      ]
     },
     "execution_count": 4,
     "metadata": {},
     "output_type": "execute_result"
    }
   ],
   "source": [
    "df_ss.info()\n",
    "df_ss.head()"
   ]
  },
  {
   "cell_type": "code",
   "execution_count": 5,
   "id": "extensive-terminal",
   "metadata": {},
   "outputs": [
    {
     "data": {
      "text/plain": [
       "High         0\n",
       "Low          0\n",
       "Open         0\n",
       "Close        0\n",
       "Volume       0\n",
       "Adj Close    0\n",
       "dtype: int64"
      ]
     },
     "execution_count": 5,
     "metadata": {},
     "output_type": "execute_result"
    }
   ],
   "source": [
    "df_ss.isna().sum()"
   ]
  },
  {
   "cell_type": "markdown",
   "id": "little-cocktail",
   "metadata": {},
   "source": [
    "* 종가 그데로 출력하면 다른 상품 가격과 비교하기 힘들다"
   ]
  },
  {
   "cell_type": "code",
   "execution_count": 6,
   "id": "indoor-meter",
   "metadata": {},
   "outputs": [
    {
     "data": {
      "text/plain": [
       "<matplotlib.legend.Legend at 0x1a81f5d0fd0>"
      ]
     },
     "execution_count": 6,
     "metadata": {},
     "output_type": "execute_result"
    },
    {
     "data": {
      "image/png": "[encoded data removed]",
      "text/plain": [
       "<Figure size 648x432 with 1 Axes>"
      ]
     },
     "metadata": {},
     "output_type": "display_data"
    }
   ],
   "source": [
    "plt.figure(figsize=(9, 6))\n",
    "# plt.subplot(2, 1, 1)\n",
    "plt.title('Samsung')\n",
    "plt.plot(df_ss.index, df_ss['Close'], label='samsung')\n",
    "plt.legend()\n"
   ]
  },
  {
   "cell_type": "markdown",
   "id": "corrected-joyce",
   "metadata": {},
   "source": [
    "# 일간 변동가 / 변동률"
   ]
  },
  {
   "cell_type": "markdown",
   "id": "4380c6b9-8570-4eee-9ca4-13cff10f9f52",
   "metadata": {},
   "source": [
    "## 변동지수_가격"
   ]
  },
  {
   "cell_type": "code",
   "execution_count": 7,
   "id": "abstract-watershed",
   "metadata": {},
   "outputs": [
    {
     "data": {
      "text/html": [
       "<div>\n",
       "<style scoped>\n",
       "    .dataframe tbody tr th:only-of-type {\n",
       "        vertical-align: middle;\n",
       "    }\n",
       "\n",
       "    .dataframe tbody tr th {\n",
       "        vertical-align: top;\n",
       "    }\n",
       "\n",
       "    .dataframe thead th {\n",
       "        text-align: right;\n",
       "    }\n",
       "</style>\n",
       "<table border=\"1\" class=\"dataframe\">\n",
       "  <thead>\n",
       "    <tr style=\"text-align: right;\">\n",
       "      <th></th>\n",
       "      <th>High</th>\n",
       "      <th>Low</th>\n",
       "      <th>Open</th>\n",
       "      <th>Close</th>\n",
       "      <th>Volume</th>\n",
       "      <th>Adj Close</th>\n",
       "      <th>var_daily_price</th>\n",
       "      <th>var_daily_ratio</th>\n",
       "    </tr>\n",
       "    <tr>\n",
       "      <th>Date</th>\n",
       "      <th></th>\n",
       "      <th></th>\n",
       "      <th></th>\n",
       "      <th></th>\n",
       "      <th></th>\n",
       "      <th></th>\n",
       "      <th></th>\n",
       "      <th></th>\n",
       "    </tr>\n",
       "  </thead>\n",
       "  <tbody>\n",
       "    <tr>\n",
       "      <th>2018-01-02</th>\n",
       "      <td>51400.0</td>\n",
       "      <td>50780.0</td>\n",
       "      <td>51380.0</td>\n",
       "      <td>51020.0</td>\n",
       "      <td>8474250.0</td>\n",
       "      <td>45077.804688</td>\n",
       "      <td>NaN</td>\n",
       "      <td>NaN</td>\n",
       "    </tr>\n",
       "    <tr>\n",
       "      <th>2018-01-03</th>\n",
       "      <td>52560.0</td>\n",
       "      <td>51420.0</td>\n",
       "      <td>52540.0</td>\n",
       "      <td>51620.0</td>\n",
       "      <td>10013500.0</td>\n",
       "      <td>45607.914062</td>\n",
       "      <td>600.0</td>\n",
       "      <td>1.176009</td>\n",
       "    </tr>\n",
       "    <tr>\n",
       "      <th>2018-01-04</th>\n",
       "      <td>52180.0</td>\n",
       "      <td>50640.0</td>\n",
       "      <td>52120.0</td>\n",
       "      <td>51080.0</td>\n",
       "      <td>11695450.0</td>\n",
       "      <td>45130.820312</td>\n",
       "      <td>-540.0</td>\n",
       "      <td>-1.046106</td>\n",
       "    </tr>\n",
       "    <tr>\n",
       "      <th>2018-01-05</th>\n",
       "      <td>52120.0</td>\n",
       "      <td>51200.0</td>\n",
       "      <td>51300.0</td>\n",
       "      <td>52120.0</td>\n",
       "      <td>9481150.0</td>\n",
       "      <td>46049.683594</td>\n",
       "      <td>1040.0</td>\n",
       "      <td>2.036022</td>\n",
       "    </tr>\n",
       "    <tr>\n",
       "      <th>2018-01-08</th>\n",
       "      <td>52520.0</td>\n",
       "      <td>51500.0</td>\n",
       "      <td>52400.0</td>\n",
       "      <td>52020.0</td>\n",
       "      <td>8383650.0</td>\n",
       "      <td>45961.335938</td>\n",
       "      <td>-100.0</td>\n",
       "      <td>-0.191865</td>\n",
       "    </tr>\n",
       "  </tbody>\n",
       "</table>\n",
       "</div>"
      ],
      "text/plain": [
       "               High      Low     Open    Close      Volume     Adj Close  \\\n",
       "Date                                                                       \n",
       "2018-01-02  51400.0  50780.0  51380.0  51020.0   8474250.0  45077.804688   \n",
       "2018-01-03  52560.0  51420.0  52540.0  51620.0  10013500.0  45607.914062   \n",
       "2018-01-04  52180.0  50640.0  52120.0  51080.0  11695450.0  45130.820312   \n",
       "2018-01-05  52120.0  51200.0  51300.0  52120.0   9481150.0  46049.683594   \n",
       "2018-01-08  52520.0  51500.0  52400.0  52020.0   8383650.0  45961.335938   \n",
       "\n",
       "            var_daily_price  var_daily_ratio  \n",
       "Date                                          \n",
       "2018-01-02              NaN              NaN  \n",
       "2018-01-03            600.0         1.176009  \n",
       "2018-01-04           -540.0        -1.046106  \n",
       "2018-01-05           1040.0         2.036022  \n",
       "2018-01-08           -100.0        -0.191865  "
      ]
     },
     "execution_count": 7,
     "metadata": {},
     "output_type": "execute_result"
    }
   ],
   "source": [
    "last_day = df_ss['Close'].shift(1)\n",
    "today = df_ss['Close']\n",
    "\n",
    "df_ss['var_daily_price'] = today - last_day                      # 변동가\n",
    "df_ss['var_daily_ratio'] = ((today - last_day)/last_day) *100    # 변동율\n",
    "\n",
    "df_ss.head()\n"
   ]
  },
  {
   "cell_type": "code",
   "execution_count": null,
   "id": "italian-teaching",
   "metadata": {},
   "outputs": [],
   "source": []
  },
  {
   "cell_type": "markdown",
   "id": "98f589c3-e294-4d5b-ac09-0022bb3150e1",
   "metadata": {},
   "source": [
    "## 변동계수\n",
    "* 서로 다른 두 자산이 비슷하게 움직이는지 다른 방향으로 움직이는지 알려주는 지표\n",
    "* 변동계수 = 𝜎(자산수익률의 표준편차) / 자산의 평균(기대)수익률"
   ]
  },
  {
   "cell_type": "code",
   "execution_count": 8,
   "id": "circular-mainland",
   "metadata": {},
   "outputs": [
    {
     "data": {
      "text/html": [
       "<div>\n",
       "<style scoped>\n",
       "    .dataframe tbody tr th:only-of-type {\n",
       "        vertical-align: middle;\n",
       "    }\n",
       "\n",
       "    .dataframe tbody tr th {\n",
       "        vertical-align: top;\n",
       "    }\n",
       "\n",
       "    .dataframe thead th {\n",
       "        text-align: right;\n",
       "    }\n",
       "</style>\n",
       "<table border=\"1\" class=\"dataframe\">\n",
       "  <thead>\n",
       "    <tr style=\"text-align: right;\">\n",
       "      <th></th>\n",
       "      <th>High</th>\n",
       "      <th>Low</th>\n",
       "      <th>Open</th>\n",
       "      <th>Close</th>\n",
       "      <th>Volume</th>\n",
       "      <th>Adj Close</th>\n",
       "      <th>var_daily_price</th>\n",
       "      <th>var_daily_ratio</th>\n",
       "    </tr>\n",
       "    <tr>\n",
       "      <th>Date</th>\n",
       "      <th></th>\n",
       "      <th></th>\n",
       "      <th></th>\n",
       "      <th></th>\n",
       "      <th></th>\n",
       "      <th></th>\n",
       "      <th></th>\n",
       "      <th></th>\n",
       "    </tr>\n",
       "  </thead>\n",
       "  <tbody>\n",
       "    <tr>\n",
       "      <th>2018-01-02</th>\n",
       "      <td>51400.0</td>\n",
       "      <td>50780.0</td>\n",
       "      <td>51380.0</td>\n",
       "      <td>51020.0</td>\n",
       "      <td>8474250.0</td>\n",
       "      <td>45077.804688</td>\n",
       "      <td>NaN</td>\n",
       "      <td>NaN</td>\n",
       "    </tr>\n",
       "    <tr>\n",
       "      <th>2018-01-03</th>\n",
       "      <td>52560.0</td>\n",
       "      <td>51420.0</td>\n",
       "      <td>52540.0</td>\n",
       "      <td>51620.0</td>\n",
       "      <td>10013500.0</td>\n",
       "      <td>45607.914062</td>\n",
       "      <td>600.0</td>\n",
       "      <td>1.176009</td>\n",
       "    </tr>\n",
       "    <tr>\n",
       "      <th>2018-01-04</th>\n",
       "      <td>52180.0</td>\n",
       "      <td>50640.0</td>\n",
       "      <td>52120.0</td>\n",
       "      <td>51080.0</td>\n",
       "      <td>11695450.0</td>\n",
       "      <td>45130.820312</td>\n",
       "      <td>-540.0</td>\n",
       "      <td>-1.046106</td>\n",
       "    </tr>\n",
       "    <tr>\n",
       "      <th>2018-01-05</th>\n",
       "      <td>52120.0</td>\n",
       "      <td>51200.0</td>\n",
       "      <td>51300.0</td>\n",
       "      <td>52120.0</td>\n",
       "      <td>9481150.0</td>\n",
       "      <td>46049.683594</td>\n",
       "      <td>1040.0</td>\n",
       "      <td>2.036022</td>\n",
       "    </tr>\n",
       "    <tr>\n",
       "      <th>2018-01-08</th>\n",
       "      <td>52520.0</td>\n",
       "      <td>51500.0</td>\n",
       "      <td>52400.0</td>\n",
       "      <td>52020.0</td>\n",
       "      <td>8383650.0</td>\n",
       "      <td>45961.335938</td>\n",
       "      <td>-100.0</td>\n",
       "      <td>-0.191865</td>\n",
       "    </tr>\n",
       "  </tbody>\n",
       "</table>\n",
       "</div>"
      ],
      "text/plain": [
       "               High      Low     Open    Close      Volume     Adj Close  \\\n",
       "Date                                                                       \n",
       "2018-01-02  51400.0  50780.0  51380.0  51020.0   8474250.0  45077.804688   \n",
       "2018-01-03  52560.0  51420.0  52540.0  51620.0  10013500.0  45607.914062   \n",
       "2018-01-04  52180.0  50640.0  52120.0  51080.0  11695450.0  45130.820312   \n",
       "2018-01-05  52120.0  51200.0  51300.0  52120.0   9481150.0  46049.683594   \n",
       "2018-01-08  52520.0  51500.0  52400.0  52020.0   8383650.0  45961.335938   \n",
       "\n",
       "            var_daily_price  var_daily_ratio  \n",
       "Date                                          \n",
       "2018-01-02              NaN              NaN  \n",
       "2018-01-03            600.0         1.176009  \n",
       "2018-01-04           -540.0        -1.046106  \n",
       "2018-01-05           1040.0         2.036022  \n",
       "2018-01-08           -100.0        -0.191865  "
      ]
     },
     "execution_count": 8,
     "metadata": {},
     "output_type": "execute_result"
    }
   ],
   "source": [
    "df_ss.head()"
   ]
  },
  {
   "cell_type": "code",
   "execution_count": 9,
   "id": "reported-burst",
   "metadata": {},
   "outputs": [
    {
     "data": {
      "text/plain": [
       "51.35249020430333"
      ]
     },
     "execution_count": 9,
     "metadata": {},
     "output_type": "execute_result"
    }
   ],
   "source": [
    "변동계수 = df_ss['var_daily_ratio'].std() / df_ss['var_daily_ratio'].mean()\n",
    "변동계수"
   ]
  },
  {
   "cell_type": "code",
   "execution_count": 10,
   "id": "passive-processor",
   "metadata": {},
   "outputs": [
    {
     "name": "stdout",
     "output_type": "stream",
     "text": [
      "               High       Low      Open     Close    Volume  Adj Close  \\\n",
      "Close      0.992806  0.994409  0.985507  1.000000  0.067093   0.970963   \n",
      "Low        0.993589  1.000000  0.993858  0.994409  0.050810   0.967541   \n",
      "High       1.000000  0.993589  0.993187  0.992806  0.115526   0.959696   \n",
      "Open       0.993187  0.993858  1.000000  0.985507  0.076213   0.954788   \n",
      "Adj Close  0.959696  0.967541  0.954788  0.970963  0.013101   1.000000   \n",
      "\n",
      "           var_daily_price  var_daily_ratio  \n",
      "Close             0.126747         0.123115  \n",
      "Low               0.060805         0.057359  \n",
      "High              0.054944         0.052464  \n",
      "Open              0.001946        -0.000263  \n",
      "Adj Close         0.137663         0.133013  \n"
     ]
    },
    {
     "data": {
      "image/png": "[encoded data removed]",
      "text/plain": [
       "<Figure size 432x288 with 2 Axes>"
      ]
     },
     "metadata": {},
     "output_type": "display_data"
    }
   ],
   "source": [
    "import seaborn as sns\n",
    "sns.heatmap(df_ss.corr())\n",
    "print(df_ss.corr().sort_values(by='Close', ascending=False)[:5])"
   ]
  },
  {
   "cell_type": "code",
   "execution_count": 11,
   "id": "reflected-converter",
   "metadata": {
    "tags": []
   },
   "outputs": [
    {
     "data": {
      "text/html": [
       "<div>\n",
       "<style scoped>\n",
       "    .dataframe tbody tr th:only-of-type {\n",
       "        vertical-align: middle;\n",
       "    }\n",
       "\n",
       "    .dataframe tbody tr th {\n",
       "        vertical-align: top;\n",
       "    }\n",
       "\n",
       "    .dataframe thead th {\n",
       "        text-align: right;\n",
       "    }\n",
       "</style>\n",
       "<table border=\"1\" class=\"dataframe\">\n",
       "  <thead>\n",
       "    <tr style=\"text-align: right;\">\n",
       "      <th></th>\n",
       "      <th>High</th>\n",
       "      <th>Low</th>\n",
       "      <th>Open</th>\n",
       "      <th>Close</th>\n",
       "      <th>Volume</th>\n",
       "      <th>Adj Close</th>\n",
       "      <th>var_daily_price</th>\n",
       "      <th>var_daily_ratio</th>\n",
       "    </tr>\n",
       "    <tr>\n",
       "      <th>Date</th>\n",
       "      <th></th>\n",
       "      <th></th>\n",
       "      <th></th>\n",
       "      <th></th>\n",
       "      <th></th>\n",
       "      <th></th>\n",
       "      <th></th>\n",
       "      <th></th>\n",
       "    </tr>\n",
       "  </thead>\n",
       "  <tbody>\n",
       "    <tr>\n",
       "      <th>2018-01-02</th>\n",
       "      <td>51400.0</td>\n",
       "      <td>50780.0</td>\n",
       "      <td>51380.0</td>\n",
       "      <td>51020.0</td>\n",
       "      <td>8474250.0</td>\n",
       "      <td>45077.804688</td>\n",
       "      <td>NaN</td>\n",
       "      <td>NaN</td>\n",
       "    </tr>\n",
       "    <tr>\n",
       "      <th>2018-01-03</th>\n",
       "      <td>52560.0</td>\n",
       "      <td>51420.0</td>\n",
       "      <td>52540.0</td>\n",
       "      <td>51620.0</td>\n",
       "      <td>10013500.0</td>\n",
       "      <td>45607.914062</td>\n",
       "      <td>600.0</td>\n",
       "      <td>1.176009</td>\n",
       "    </tr>\n",
       "    <tr>\n",
       "      <th>2018-01-04</th>\n",
       "      <td>52180.0</td>\n",
       "      <td>50640.0</td>\n",
       "      <td>52120.0</td>\n",
       "      <td>51080.0</td>\n",
       "      <td>11695450.0</td>\n",
       "      <td>45130.820312</td>\n",
       "      <td>-540.0</td>\n",
       "      <td>-1.046106</td>\n",
       "    </tr>\n",
       "    <tr>\n",
       "      <th>2018-01-05</th>\n",
       "      <td>52120.0</td>\n",
       "      <td>51200.0</td>\n",
       "      <td>51300.0</td>\n",
       "      <td>52120.0</td>\n",
       "      <td>9481150.0</td>\n",
       "      <td>46049.683594</td>\n",
       "      <td>1040.0</td>\n",
       "      <td>2.036022</td>\n",
       "    </tr>\n",
       "    <tr>\n",
       "      <th>2018-01-08</th>\n",
       "      <td>52520.0</td>\n",
       "      <td>51500.0</td>\n",
       "      <td>52400.0</td>\n",
       "      <td>52020.0</td>\n",
       "      <td>8383650.0</td>\n",
       "      <td>45961.335938</td>\n",
       "      <td>-100.0</td>\n",
       "      <td>-0.191865</td>\n",
       "    </tr>\n",
       "  </tbody>\n",
       "</table>\n",
       "</div>"
      ],
      "text/plain": [
       "               High      Low     Open    Close      Volume     Adj Close  \\\n",
       "Date                                                                       \n",
       "2018-01-02  51400.0  50780.0  51380.0  51020.0   8474250.0  45077.804688   \n",
       "2018-01-03  52560.0  51420.0  52540.0  51620.0  10013500.0  45607.914062   \n",
       "2018-01-04  52180.0  50640.0  52120.0  51080.0  11695450.0  45130.820312   \n",
       "2018-01-05  52120.0  51200.0  51300.0  52120.0   9481150.0  46049.683594   \n",
       "2018-01-08  52520.0  51500.0  52400.0  52020.0   8383650.0  45961.335938   \n",
       "\n",
       "            var_daily_price  var_daily_ratio  \n",
       "Date                                          \n",
       "2018-01-02              NaN              NaN  \n",
       "2018-01-03            600.0         1.176009  \n",
       "2018-01-04           -540.0        -1.046106  \n",
       "2018-01-05           1040.0         2.036022  \n",
       "2018-01-08           -100.0        -0.191865  "
      ]
     },
     "execution_count": 11,
     "metadata": {},
     "output_type": "execute_result"
    }
   ],
   "source": [
    "df_ss.head()"
   ]
  },
  {
   "cell_type": "markdown",
   "id": "e7a7b948-6dd8-4929-b462-8e6948f8a0b0",
   "metadata": {},
   "source": [
    "## 일간변동률 누적합 .cumsum()"
   ]
  },
  {
   "cell_type": "code",
   "execution_count": 12,
   "id": "rocky-jacob",
   "metadata": {},
   "outputs": [
    {
     "data": {
      "text/plain": [
       "Date\n",
       "2018-01-02         NaN\n",
       "2018-01-03    1.176009\n",
       "2018-01-04    0.129903\n",
       "2018-01-05    2.165925\n",
       "2018-01-08    1.974060\n",
       "Name: var_daily_ratio, dtype: float64"
      ]
     },
     "execution_count": 12,
     "metadata": {},
     "output_type": "execute_result"
    }
   ],
   "source": [
    "df_ss['var_daily_ratio'].cumsum()[:5]"
   ]
  },
  {
   "cell_type": "code",
   "execution_count": 13,
   "id": "russian-morocco",
   "metadata": {},
   "outputs": [
    {
     "data": {
      "text/plain": [
       "<matplotlib.legend.Legend at 0x1a8218fcca0>"
      ]
     },
     "execution_count": 13,
     "metadata": {},
     "output_type": "execute_result"
    },
    {
     "data": {
      "image/png": "[encoded data removed]",
      "text/plain": [
       "<Figure size 648x432 with 1 Axes>"
      ]
     },
     "metadata": {},
     "output_type": "display_data"
    }
   ],
   "source": [
    "plt.figure(figsize=(9, 6))\n",
    "# plt.subplot(2, 1, 1)\n",
    "plt.title('Samsung Elec')\n",
    "plt.plot(df_ss.index, df_ss['var_daily_ratio'].cumsum(), label='samsung')\n",
    "plt.legend()\n"
   ]
  },
  {
   "cell_type": "markdown",
   "id": "descending-arkansas",
   "metadata": {},
   "source": [
    "# 이동평균선(이평선)\n",
    "* N일의 주가지수의 평균 변동률\n",
    "* 이동평균선 (N일 동안의 주가의 평균 변동률을 이은 선)"
   ]
  },
  {
   "cell_type": "code",
   "execution_count": 14,
   "id": "dominant-clock",
   "metadata": {},
   "outputs": [],
   "source": [
    "def 이동편균선(day=1):\n",
    "    df_ss['dayline_'+str(day)] = df_ss['Close'].rolling(day).mean()"
   ]
  },
  {
   "cell_type": "code",
   "execution_count": 15,
   "id": "endangered-treasury",
   "metadata": {},
   "outputs": [
    {
     "data": {
      "text/html": [
       "<div>\n",
       "<style scoped>\n",
       "    .dataframe tbody tr th:only-of-type {\n",
       "        vertical-align: middle;\n",
       "    }\n",
       "\n",
       "    .dataframe tbody tr th {\n",
       "        vertical-align: top;\n",
       "    }\n",
       "\n",
       "    .dataframe thead th {\n",
       "        text-align: right;\n",
       "    }\n",
       "</style>\n",
       "<table border=\"1\" class=\"dataframe\">\n",
       "  <thead>\n",
       "    <tr style=\"text-align: right;\">\n",
       "      <th></th>\n",
       "      <th>High</th>\n",
       "      <th>Low</th>\n",
       "      <th>Open</th>\n",
       "      <th>Close</th>\n",
       "      <th>Volume</th>\n",
       "      <th>Adj Close</th>\n",
       "      <th>var_daily_price</th>\n",
       "      <th>var_daily_ratio</th>\n",
       "    </tr>\n",
       "    <tr>\n",
       "      <th>Date</th>\n",
       "      <th></th>\n",
       "      <th></th>\n",
       "      <th></th>\n",
       "      <th></th>\n",
       "      <th></th>\n",
       "      <th></th>\n",
       "      <th></th>\n",
       "      <th></th>\n",
       "    </tr>\n",
       "  </thead>\n",
       "  <tbody>\n",
       "    <tr>\n",
       "      <th>2018-01-02</th>\n",
       "      <td>51400.0</td>\n",
       "      <td>50780.0</td>\n",
       "      <td>51380.0</td>\n",
       "      <td>51020.0</td>\n",
       "      <td>8474250.0</td>\n",
       "      <td>45077.804688</td>\n",
       "      <td>NaN</td>\n",
       "      <td>NaN</td>\n",
       "    </tr>\n",
       "    <tr>\n",
       "      <th>2018-01-03</th>\n",
       "      <td>52560.0</td>\n",
       "      <td>51420.0</td>\n",
       "      <td>52540.0</td>\n",
       "      <td>51620.0</td>\n",
       "      <td>10013500.0</td>\n",
       "      <td>45607.914062</td>\n",
       "      <td>600.0</td>\n",
       "      <td>1.176009</td>\n",
       "    </tr>\n",
       "    <tr>\n",
       "      <th>2018-01-04</th>\n",
       "      <td>52180.0</td>\n",
       "      <td>50640.0</td>\n",
       "      <td>52120.0</td>\n",
       "      <td>51080.0</td>\n",
       "      <td>11695450.0</td>\n",
       "      <td>45130.820312</td>\n",
       "      <td>-540.0</td>\n",
       "      <td>-1.046106</td>\n",
       "    </tr>\n",
       "    <tr>\n",
       "      <th>2018-01-05</th>\n",
       "      <td>52120.0</td>\n",
       "      <td>51200.0</td>\n",
       "      <td>51300.0</td>\n",
       "      <td>52120.0</td>\n",
       "      <td>9481150.0</td>\n",
       "      <td>46049.683594</td>\n",
       "      <td>1040.0</td>\n",
       "      <td>2.036022</td>\n",
       "    </tr>\n",
       "    <tr>\n",
       "      <th>2018-01-08</th>\n",
       "      <td>52520.0</td>\n",
       "      <td>51500.0</td>\n",
       "      <td>52400.0</td>\n",
       "      <td>52020.0</td>\n",
       "      <td>8383650.0</td>\n",
       "      <td>45961.335938</td>\n",
       "      <td>-100.0</td>\n",
       "      <td>-0.191865</td>\n",
       "    </tr>\n",
       "  </tbody>\n",
       "</table>\n",
       "</div>"
      ],
      "text/plain": [
       "               High      Low     Open    Close      Volume     Adj Close  \\\n",
       "Date                                                                       \n",
       "2018-01-02  51400.0  50780.0  51380.0  51020.0   8474250.0  45077.804688   \n",
       "2018-01-03  52560.0  51420.0  52540.0  51620.0  10013500.0  45607.914062   \n",
       "2018-01-04  52180.0  50640.0  52120.0  51080.0  11695450.0  45130.820312   \n",
       "2018-01-05  52120.0  51200.0  51300.0  52120.0   9481150.0  46049.683594   \n",
       "2018-01-08  52520.0  51500.0  52400.0  52020.0   8383650.0  45961.335938   \n",
       "\n",
       "            var_daily_price  var_daily_ratio  \n",
       "Date                                          \n",
       "2018-01-02              NaN              NaN  \n",
       "2018-01-03            600.0         1.176009  \n",
       "2018-01-04           -540.0        -1.046106  \n",
       "2018-01-05           1040.0         2.036022  \n",
       "2018-01-08           -100.0        -0.191865  "
      ]
     },
     "execution_count": 15,
     "metadata": {},
     "output_type": "execute_result"
    }
   ],
   "source": [
    "df_ss.head()"
   ]
  },
  {
   "cell_type": "code",
   "execution_count": 16,
   "id": "eastern-carbon",
   "metadata": {},
   "outputs": [],
   "source": [
    "이동편균선(10)\n",
    "이동편균선(5)\n",
    "# myplot(df_ss[['Close','dayline_5','dayline_10']], title='이동평균선', labels=['Close','5일선','10일선'])\n",
    "# myplot(df_ss.iloc[:100][['Close','dayline_5','dayline_10']], title='이동평균선', labels=['Close','5일선','10일선'])"
   ]
  },
  {
   "cell_type": "markdown",
   "id": "opponent-animal",
   "metadata": {},
   "source": [
    "* 이평선은 변동성이 완화된 것처럼 보인다"
   ]
  },
  {
   "cell_type": "code",
   "execution_count": null,
   "id": "superior-tactics",
   "metadata": {},
   "outputs": [],
   "source": []
  },
  {
   "cell_type": "markdown",
   "id": "valuable-sphere",
   "metadata": {},
   "source": [
    "# 수익률 구하기 \n",
    "* 가격의 변동을 보고 오늘 기준으로 N일과 비교해서 가감산 금액 구하기"
   ]
  },
  {
   "cell_type": "code",
   "execution_count": 17,
   "id": "identified-amateur",
   "metadata": {},
   "outputs": [],
   "source": [
    "def 변동지수_가격(day=1):\n",
    "    df_ss['chg_'+str(day)] = df_ss['Close'].pct_change(periods=day) * 100     "
   ]
  },
  {
   "cell_type": "code",
   "execution_count": 18,
   "id": "infectious-palestinian",
   "metadata": {},
   "outputs": [
    {
     "data": {
      "text/html": [
       "<div>\n",
       "<style scoped>\n",
       "    .dataframe tbody tr th:only-of-type {\n",
       "        vertical-align: middle;\n",
       "    }\n",
       "\n",
       "    .dataframe tbody tr th {\n",
       "        vertical-align: top;\n",
       "    }\n",
       "\n",
       "    .dataframe thead th {\n",
       "        text-align: right;\n",
       "    }\n",
       "</style>\n",
       "<table border=\"1\" class=\"dataframe\">\n",
       "  <thead>\n",
       "    <tr style=\"text-align: right;\">\n",
       "      <th></th>\n",
       "      <th>High</th>\n",
       "      <th>Low</th>\n",
       "      <th>Open</th>\n",
       "      <th>Close</th>\n",
       "      <th>Volume</th>\n",
       "      <th>Adj Close</th>\n",
       "      <th>var_daily_price</th>\n",
       "      <th>var_daily_ratio</th>\n",
       "      <th>dayline_10</th>\n",
       "      <th>dayline_5</th>\n",
       "      <th>chg_3</th>\n",
       "    </tr>\n",
       "    <tr>\n",
       "      <th>Date</th>\n",
       "      <th></th>\n",
       "      <th></th>\n",
       "      <th></th>\n",
       "      <th></th>\n",
       "      <th></th>\n",
       "      <th></th>\n",
       "      <th></th>\n",
       "      <th></th>\n",
       "      <th></th>\n",
       "      <th></th>\n",
       "      <th></th>\n",
       "    </tr>\n",
       "  </thead>\n",
       "  <tbody>\n",
       "    <tr>\n",
       "      <th>2018-01-02</th>\n",
       "      <td>51400.0</td>\n",
       "      <td>50780.0</td>\n",
       "      <td>51380.0</td>\n",
       "      <td>51020.0</td>\n",
       "      <td>8474250.0</td>\n",
       "      <td>45077.804688</td>\n",
       "      <td>NaN</td>\n",
       "      <td>NaN</td>\n",
       "      <td>NaN</td>\n",
       "      <td>NaN</td>\n",
       "      <td>NaN</td>\n",
       "    </tr>\n",
       "    <tr>\n",
       "      <th>2018-01-03</th>\n",
       "      <td>52560.0</td>\n",
       "      <td>51420.0</td>\n",
       "      <td>52540.0</td>\n",
       "      <td>51620.0</td>\n",
       "      <td>10013500.0</td>\n",
       "      <td>45607.914062</td>\n",
       "      <td>600.0</td>\n",
       "      <td>1.176009</td>\n",
       "      <td>NaN</td>\n",
       "      <td>NaN</td>\n",
       "      <td>NaN</td>\n",
       "    </tr>\n",
       "    <tr>\n",
       "      <th>2018-01-04</th>\n",
       "      <td>52180.0</td>\n",
       "      <td>50640.0</td>\n",
       "      <td>52120.0</td>\n",
       "      <td>51080.0</td>\n",
       "      <td>11695450.0</td>\n",
       "      <td>45130.820312</td>\n",
       "      <td>-540.0</td>\n",
       "      <td>-1.046106</td>\n",
       "      <td>NaN</td>\n",
       "      <td>NaN</td>\n",
       "      <td>NaN</td>\n",
       "    </tr>\n",
       "    <tr>\n",
       "      <th>2018-01-05</th>\n",
       "      <td>52120.0</td>\n",
       "      <td>51200.0</td>\n",
       "      <td>51300.0</td>\n",
       "      <td>52120.0</td>\n",
       "      <td>9481150.0</td>\n",
       "      <td>46049.683594</td>\n",
       "      <td>1040.0</td>\n",
       "      <td>2.036022</td>\n",
       "      <td>NaN</td>\n",
       "      <td>NaN</td>\n",
       "      <td>2.156017</td>\n",
       "    </tr>\n",
       "    <tr>\n",
       "      <th>2018-01-08</th>\n",
       "      <td>52520.0</td>\n",
       "      <td>51500.0</td>\n",
       "      <td>52400.0</td>\n",
       "      <td>52020.0</td>\n",
       "      <td>8383650.0</td>\n",
       "      <td>45961.335938</td>\n",
       "      <td>-100.0</td>\n",
       "      <td>-0.191865</td>\n",
       "      <td>NaN</td>\n",
       "      <td>51572.0</td>\n",
       "      <td>0.774893</td>\n",
       "    </tr>\n",
       "  </tbody>\n",
       "</table>\n",
       "</div>"
      ],
      "text/plain": [
       "               High      Low     Open    Close      Volume     Adj Close  \\\n",
       "Date                                                                       \n",
       "2018-01-02  51400.0  50780.0  51380.0  51020.0   8474250.0  45077.804688   \n",
       "2018-01-03  52560.0  51420.0  52540.0  51620.0  10013500.0  45607.914062   \n",
       "2018-01-04  52180.0  50640.0  52120.0  51080.0  11695450.0  45130.820312   \n",
       "2018-01-05  52120.0  51200.0  51300.0  52120.0   9481150.0  46049.683594   \n",
       "2018-01-08  52520.0  51500.0  52400.0  52020.0   8383650.0  45961.335938   \n",
       "\n",
       "            var_daily_price  var_daily_ratio  dayline_10  dayline_5     chg_3  \n",
       "Date                                                                           \n",
       "2018-01-02              NaN              NaN         NaN        NaN       NaN  \n",
       "2018-01-03            600.0         1.176009         NaN        NaN       NaN  \n",
       "2018-01-04           -540.0        -1.046106         NaN        NaN       NaN  \n",
       "2018-01-05           1040.0         2.036022         NaN        NaN  2.156017  \n",
       "2018-01-08           -100.0        -0.191865         NaN    51572.0  0.774893  "
      ]
     },
     "execution_count": 18,
     "metadata": {},
     "output_type": "execute_result"
    }
   ],
   "source": [
    "변동지수_가격(3)\n",
    "df_ss.head()\n",
    "# myplot(df_ss.iloc[:100][['Close']], title='변동가(지수)---N일 이익률', labels=['Close'])"
   ]
  },
  {
   "cell_type": "code",
   "execution_count": 19,
   "id": "owned-assistant",
   "metadata": {},
   "outputs": [],
   "source": [
    "# df_ss['ssv'] = df_ss['Close'].pct_change(periods=1) * 100 \n",
    "# df_ss = df_ss.fillna(0)\n",
    "# df_ss.head()\n",
    "# # df_ss['일별등락률'].cumsum()\n",
    "# df_ss.columns "
   ]
  },
  {
   "cell_type": "markdown",
   "id": "documented-blade",
   "metadata": {},
   "source": [
    "## 보유기간 수익률(holding period return)\n",
    "* 투자자산을 보유한 기간 동안 몇 %의 수익률을 올렸는가를 측정하는 것으로, 단순한 성과비교용으로 사용\n",
    "* 보유기간수익률(%) = {[기말의 투자자산(매도가) ÷ 기초의 투자자산(매수가)] - 1} X 100"
   ]
  },
  {
   "cell_type": "code",
   "execution_count": 20,
   "id": "sorted-trinidad",
   "metadata": {},
   "outputs": [
    {
     "data": {
      "text/plain": [
       "(Timestamp('2019-12-30 00:00:00'), Timestamp('2018-01-02 00:00:00'))"
      ]
     },
     "execution_count": 20,
     "metadata": {},
     "output_type": "execute_result"
    }
   ],
   "source": [
    "df_ss.index.max(), df_ss.index.min(), "
   ]
  },
  {
   "cell_type": "code",
   "execution_count": 21,
   "id": "aging-clarity",
   "metadata": {},
   "outputs": [
    {
     "name": "stdout",
     "output_type": "stream",
     "text": [
      "51020\n",
      "40050\n",
      "27.390761548064923\n"
     ]
    }
   ],
   "source": [
    "ago = int(df_ss.iloc[0:1,]['Close'])\n",
    "# ago = df_ss.iloc[0]['Close']\n",
    "print(ago)\n",
    "today = int(df_ss.iloc[252:253]['Close'])   #index.min()\n",
    "# today = df_ss.iloc[252]['Close']   #index.min()\n",
    "print(today)\n",
    "보유기간수익률 = ((ago / today) - 1) * 100\n",
    "print(보유기간수익률)"
   ]
  },
  {
   "cell_type": "markdown",
   "id": "consecutive-refund",
   "metadata": {},
   "source": [
    "## 연간 보유기간 수익률 - 기하평균\n",
    "* 연간 보유기간수익률(%) = {[(최종투자자산 ÷ 최초투자자산)^1/n] - 1} X 100\u000b",
    "*n : 년수 (ex 2년 6개월이라면 n=2.5 )\n"
   ]
  },
  {
   "cell_type": "code",
   "execution_count": 22,
   "id": "continent-bonus",
   "metadata": {},
   "outputs": [
    {
     "name": "stdout",
     "output_type": "stream",
     "text": [
      "-21.501372010976084\n"
     ]
    }
   ],
   "source": [
    "n = 1\n",
    "연간보유기간수익률 = (  pow((today/ ago),1/n)   - 1) * 100\n",
    "print(연간보유기간수익률)"
   ]
  },
  {
   "cell_type": "markdown",
   "id": "popular-venue",
   "metadata": {},
   "source": [
    "## 기대수익률 - 기하평균\n",
    "* 호황%30 보통30% 불황30\n",
    "* 수익률% 20 8 -4\n",
    "* 12000 10800 9600\n",
    "* = 0.3 X 0.2 + 0.4 X 0.08 + 0.3 X (-0.04) = 0.08 = 8%"
   ]
  },
  {
   "cell_type": "code",
   "execution_count": 23,
   "id": "floating-civilian",
   "metadata": {},
   "outputs": [
    {
     "data": {
      "text/plain": [
       "0.08"
      ]
     },
     "execution_count": 23,
     "metadata": {},
     "output_type": "execute_result"
    }
   ],
   "source": [
    "price = [20/100, 8/100, -4/100]\n",
    "eco   = [30/100 , 40/100 , 30/100]\n",
    "기대수익률 = (eco[0]*price[0])  + (eco[1]*price[1])  + (eco[2]*price[2])\n",
    "기대수익률"
   ]
  },
  {
   "cell_type": "markdown",
   "id": "painted-sugar",
   "metadata": {},
   "source": [
    "## 가중평균 수익률"
   ]
  },
  {
   "cell_type": "code",
   "execution_count": 24,
   "id": "automated-logging",
   "metadata": {},
   "outputs": [],
   "source": [
    "init_price = np.array([4000,4000,2000])\n",
    "year_earing_rate = np.array([0.25, 0.05,0.1 ])"
   ]
  },
  {
   "cell_type": "code",
   "execution_count": 25,
   "id": "universal-fighter",
   "metadata": {},
   "outputs": [
    {
     "data": {
      "text/plain": [
       "array([1400.])"
      ]
     },
     "execution_count": 25,
     "metadata": {},
     "output_type": "execute_result"
    }
   ],
   "source": [
    "res = np.dot(init_price, year_earing_rate.reshape(-1,1))\n",
    "res"
   ]
  },
  {
   "cell_type": "code",
   "execution_count": 26,
   "id": "variable-employee",
   "metadata": {
    "tags": []
   },
   "outputs": [
    {
     "name": "stdout",
     "output_type": "stream",
     "text": [
      "[0.33333333] [0.33333333]\n"
     ]
    }
   ],
   "source": [
    "price = [12000, 10800, 9600]\n",
    "price_sum = np.array(price).sum()\n",
    "\n",
    "price_weight = [12000/price_sum, 10800/price_sum, 9600/price_sum]\n",
    "eco_rate = [30/100 , 40/100 , 30/100]\n",
    "\n",
    "\n",
    "price_weight = np.array(price_weight)\n",
    "eco_rate = np.array(eco_rate).reshape(-1,1)\n",
    "기대수익률1 = np.dot(price_weight, eco_rate)\n",
    "\n",
    "기대수익률2 = (eco_rate[0]*price_weight[0])  + (eco_rate[1]*price_weight[1])  + (eco_rate[2]*price_weight[2])\n",
    "print(기대수익률1, 기대수익률2)\n",
    "        "
   ]
  },
  {
   "cell_type": "code",
   "execution_count": null,
   "id": "32acd7bb-10ac-4a6e-bcd0-984df65669cb",
   "metadata": {},
   "outputs": [],
   "source": []
  },
  {
   "cell_type": "code",
   "execution_count": null,
   "id": "7e2f8b23-ce5b-44bb-a45c-87ed664bb428",
   "metadata": {},
   "outputs": [],
   "source": []
  },
  {
   "cell_type": "markdown",
   "id": "ef4da915-fcca-4c5c-9837-df90fd3b492d",
   "metadata": {},
   "source": [
    "# 기대수익(return) 위험성(risk)==손실\n",
    "* KODEX_200.pkl - KODEX kospi200 ETF\n",
    "* KODEX_10Y_KTB.pkl - KODEX 국채선물10년 ETF \n",
    "* 2012년 1월 20일 부터 2019년 7월 23일"
   ]
  },
  {
   "cell_type": "markdown",
   "id": "5e364395-feaa-4287-8034-546d1546894f",
   "metadata": {},
   "source": [
    "* 복리로 수익률이 누적될 경우 (1+r1)(1+r2)...와 같이 곱셈을 계속 해주어야 합니다. 이 때 로그를 취한다면 곱셈을 덧셈으로 바꿔 줄 수 있습니다"
   ]
  },
  {
   "cell_type": "markdown",
   "id": "31f3de78-0464-4b05-9490-25eb930b7436",
   "metadata": {},
   "source": [
    "* $로그수익률=\\ln (\\frac{나중\\, \\, 주가}{처음\\, \\, 주가})$"
   ]
  },
  {
   "cell_type": "markdown",
   "id": "f2b954f6-12ba-45e8-a410-3c36552f3b9f",
   "metadata": {},
   "source": [
    "## 자산별 기대수익률 추정하기"
   ]
  },
  {
   "cell_type": "code",
   "execution_count": 29,
   "id": "5539e189-aedc-42fc-8134-9c1462fd4396",
   "metadata": {},
   "outputs": [],
   "source": [
    "close_df = df_ss['Close'].copy()"
   ]
  },
  {
   "cell_type": "code",
   "execution_count": 30,
   "id": "ad1d9fa1-46b0-48bc-b8d2-2857ac77a928",
   "metadata": {},
   "outputs": [
    {
     "data": {
      "text/plain": [
       "Date\n",
       "2018-01-02         NaN\n",
       "2018-01-03    0.011691\n",
       "2018-01-04   -0.010516\n",
       "2018-01-05    0.020156\n",
       "2018-01-08   -0.001920\n",
       "Name: Close, dtype: float64"
      ]
     },
     "execution_count": 30,
     "metadata": {},
     "output_type": "execute_result"
    }
   ],
   "source": [
    "logret_df = np.log(close_df / close_df.shift(1)) \n",
    "logret_df.head()"
   ]
  },
  {
   "cell_type": "code",
   "execution_count": 31,
   "id": "1ecec593-1c94-4d39-8f42-159d340e30d4",
   "metadata": {},
   "outputs": [
    {
     "data": {
      "text/plain": [
       "Date\n",
       "2018-01-03    0.011691\n",
       "2018-01-04   -0.010516\n",
       "2018-01-05    0.020156\n",
       "2018-01-08   -0.001920\n",
       "2018-01-09   -0.031637\n",
       "Name: Close, dtype: float64"
      ]
     },
     "execution_count": 31,
     "metadata": {},
     "output_type": "execute_result"
    }
   ],
   "source": [
    "logret_df = logret_df.dropna() \n",
    "logret_df.columns = ['KOSPI','KTB']\n",
    "logret_df.head()"
   ]
  },
  {
   "cell_type": "code",
   "execution_count": 32,
   "id": "48b73914-fdf5-4cd8-a2ee-ac17d1796dfb",
   "metadata": {},
   "outputs": [
    {
     "name": "stdout",
     "output_type": "stream",
     "text": [
      "1일 수익률 : 0.00018314142469038914\n",
      "---\n",
      "년 수익률 : 0.046151639021978066\n"
     ]
    }
   ],
   "source": [
    "m  = logret_df.mean()\n",
    "ym = logret_df.mean() * 252\n",
    "print(f\"1일 수익률 : {m}\")\n",
    "print(\"---\")\n",
    "print(f\"년 수익률 : {ym}\") "
   ]
  },
  {
   "cell_type": "markdown",
   "id": "30bb17ef-41c2-42ed-a35a-344cec7c34fe",
   "metadata": {},
   "source": [
    "* 주식자산(KOSPI)은 1년에 평균적으로 0.024(2.4%)의 로그수익률이 나올 것이다.\n",
    "* 채권자산(KTB)은 1년에 평균적으로 0.049(4.9%)의 로그수익률이 나올 것이다."
   ]
  },
  {
   "cell_type": "markdown",
   "id": "117cabd0-0a50-433b-ba1d-4ead299335b7",
   "metadata": {},
   "source": [
    "## 포트폴리오의 기대수익률 계산하기\n",
    "* v=[1,2,3] 이고 w=[4,5,6]\n",
    "* v.dot(w) -->  $v\\, ⋅\\, w=1\\times 4+2\\times 5+3\\times 6$"
   ]
  },
  {
   "cell_type": "code",
   "execution_count": 33,
   "id": "4fe132f0-881c-44de-8de3-287ab59a5848",
   "metadata": {},
   "outputs": [
    {
     "ename": "AttributeError",
     "evalue": "'numpy.float64' object has no attribute 'values'",
     "output_type": "error",
     "traceback": [
      "\u001b[1;31m---------------------------------------------------------------------------\u001b[0m",
      "\u001b[1;31mAttributeError\u001b[0m                            Traceback (most recent call last)",
      "\u001b[1;32m<ipython-input-33-7f03e14ec0b5>\u001b[0m in \u001b[0;36m<module>\u001b[1;34m\u001b[0m\n\u001b[0;32m      1\u001b[0m \u001b[1;31m# 주식 50%, 채권 50%를 가정\u001b[0m\u001b[1;33m\u001b[0m\u001b[1;33m\u001b[0m\u001b[1;33m\u001b[0m\u001b[0m\n\u001b[1;32m----> 2\u001b[1;33m \u001b[0mymarr\u001b[0m \u001b[1;33m=\u001b[0m \u001b[0mym\u001b[0m\u001b[1;33m.\u001b[0m\u001b[0mvalues\u001b[0m\u001b[1;33m\u001b[0m\u001b[1;33m\u001b[0m\u001b[0m\n\u001b[0m\u001b[0;32m      3\u001b[0m \u001b[0mprint\u001b[0m\u001b[1;33m(\u001b[0m\u001b[0mymarr\u001b[0m\u001b[1;33m)\u001b[0m\u001b[1;33m\u001b[0m\u001b[1;33m\u001b[0m\u001b[0m\n\u001b[0;32m      4\u001b[0m \u001b[0mw\u001b[0m \u001b[1;33m=\u001b[0m \u001b[0mnp\u001b[0m\u001b[1;33m.\u001b[0m\u001b[0marray\u001b[0m\u001b[1;33m(\u001b[0m\u001b[1;33m[\u001b[0m\u001b[1;36m0.7\u001b[0m\u001b[1;33m,\u001b[0m \u001b[1;36m0.3\u001b[0m\u001b[1;33m]\u001b[0m\u001b[1;33m)\u001b[0m\u001b[1;33m\u001b[0m\u001b[1;33m\u001b[0m\u001b[0m\n\u001b[0;32m      5\u001b[0m \u001b[0mprint\u001b[0m\u001b[1;33m(\u001b[0m\u001b[0mw\u001b[0m\u001b[1;33m)\u001b[0m\u001b[1;33m\u001b[0m\u001b[1;33m\u001b[0m\u001b[0m\n",
      "\u001b[1;31mAttributeError\u001b[0m: 'numpy.float64' object has no attribute 'values'"
     ]
    }
   ],
   "source": [
    "# 주식 50%, 채권 50%를 가정 \n",
    "ymarr = ym.values\n",
    "print(ymarr)\n",
    "w = np.array([0.7, 0.3]) \n",
    "print(w)\n",
    "# port_return: 포트폴리오의 기대수익률 \n",
    "port_return = w.dot(ymarr) \n",
    "port_return"
   ]
  },
  {
   "cell_type": "code",
   "execution_count": null,
   "id": "7c5b398c-3485-4c6d-8459-a60b615672b2",
   "metadata": {},
   "outputs": [],
   "source": [
    "ws = np.arange(.1, 1, .1) #, dtype=None)\n",
    "print(ws)\n",
    "print(ymarr)\n",
    "retrun_list = {}\n",
    "for i in ws: \n",
    "    w = np.array([i, 1-i]) \n",
    "    port_return = w.dot(ymarr) \n",
    "    retrun_list[str(w)] = port_return\n",
    "    print(w, port_return,\"\")\n",
    "print(max(retrun_list.values()))"
   ]
  },
  {
   "cell_type": "markdown",
   "id": "6805b766-69ee-4523-b225-5bdb9c594f8f",
   "metadata": {},
   "source": [
    "## 자산별 위험(risk)\n",
    "* 돈을 잃을 가능성(coherent risk measure)\n",
    "* 수익률의 변동성(volatility) \n",
    "* 수익률이 평균으로 부터 많이 움직일수록(편차가 클수록) --> 수익률의 범위가 크다 --> 리스크 크다\n",
    "* 분산 = 편차의 제곱의 평균\n",
    "* 표준편차 = 분산에 루트"
   ]
  },
  {
   "cell_type": "code",
   "execution_count": null,
   "id": "802f562c-d5a3-4a97-ba40-33ce5b03fea7",
   "metadata": {},
   "outputs": [],
   "source": [
    "# 일수익율 표준편차 \n",
    "risk = logret_df.std()\n",
    "# 연수익율 표준편차 \n",
    "yrisk = risk * np.sqrt(252)\n",
    "print(risk, yrisk)"
   ]
  },
  {
   "cell_type": "code",
   "execution_count": null,
   "id": "0c60703d-59fe-4419-a330-841de4ceaa40",
   "metadata": {},
   "outputs": [],
   "source": []
  },
  {
   "cell_type": "markdown",
   "id": "0f818ac1-91bb-49ed-beef-3159724d4dc4",
   "metadata": {},
   "source": [
    "* 수익률의 표준편차 : 변동성이 큰 주식(KOSPI)이 채권(KTB) 보다 더 큰 위험을 가지고 있다"
   ]
  },
  {
   "cell_type": "markdown",
   "id": "2b15840a-8a01-4058-9baa-390fed991f75",
   "metadata": {},
   "source": [
    "## 포트폴리오의 Risk 계산하기\n",
    "* ㄱㄷㄹ : http://localhost:8888/lab/tree/FT/Untitled.ipynb"
   ]
  },
  {
   "cell_type": "markdown",
   "id": "9c7771e6-ff41-48f3-b7ba-a8627b3ac9cb",
   "metadata": {},
   "source": [
    "$\\left[\\begin{matrix}VAR[S_1]&COV[S_1,S_2]&\\cdots &COV[S_1,S_N]\\\\COV[S_2,S_1]&VAR[S_2]&\\cdots &COV[S_2,S_N]\\\\\\vdots &\\vdots &\\ddots &\\vdots \\\\COV[S_N,S_1]&COV[S_N,S_2]&\\cdots &VAR[S_N]\\end{matrix}\\right]$\n",
    "\n"
   ]
  },
  {
   "cell_type": "markdown",
   "id": "1cfd2542-1a72-478d-b406-0034f2172947",
   "metadata": {},
   "source": [
    "$\\sigma _p^2=\\omega \\ C\\ \\omega ^{\\top }$"
   ]
  },
  {
   "cell_type": "code",
   "execution_count": null,
   "id": "a149d57b-0397-4595-85ce-22633f5abddc",
   "metadata": {},
   "outputs": [],
   "source": [
    "logret_df.cov()"
   ]
  },
  {
   "cell_type": "code",
   "execution_count": null,
   "id": "70a1708d-3c64-40ad-a75b-9accb2c93907",
   "metadata": {},
   "outputs": [],
   "source": [
    "# cov_mat : 공분산 행렬(Covariance Matrix) \n",
    "cov_mat = logret_df.cov() * 252 \n",
    "cov_mat = cov_mat.values # 행렬구조로 저장합니다 \n",
    "cov_mat"
   ]
  },
  {
   "cell_type": "code",
   "execution_count": null,
   "id": "2da9b324-6641-4cb3-891c-7791a42922f7",
   "metadata": {},
   "outputs": [],
   "source": [
    "# 포트폴리오의 Risk(=표준편차)를 계산합니다. \n",
    "port_var = np.dot(np.dot(w, cov_mat), w.T) \n",
    "port_std = np.sqrt(port_var) \n",
    "print(\"Portfolio Risk: \", port_std)"
   ]
  },
  {
   "cell_type": "code",
   "execution_count": null,
   "id": "d4ae9651-bd52-4cf4-8a0b-10f74eac484e",
   "metadata": {},
   "outputs": [],
   "source": []
  },
  {
   "cell_type": "code",
   "execution_count": null,
   "id": "d8c2a170-e444-4b90-9f78-68875dd5a1c3",
   "metadata": {},
   "outputs": [],
   "source": []
  },
  {
   "cell_type": "markdown",
   "id": "studied-franklin",
   "metadata": {},
   "source": [
    "# NN 모델 에측"
   ]
  },
  {
   "cell_type": "markdown",
   "id": "intensive-fishing",
   "metadata": {},
   "source": [
    "* 계산은 수익률은 예측모델하라고 계산한게 아니라 투자전략 세우라고 있는것이다\n",
    "* 추가 지표가 별도로 없어서 지표라 생각하고 NN 학습 시도"
   ]
  },
  {
   "cell_type": "code",
   "execution_count": 34,
   "id": "revolutionary-recruitment",
   "metadata": {},
   "outputs": [],
   "source": [
    "df_ss.dropna(axis=0, inplace=True)"
   ]
  },
  {
   "cell_type": "code",
   "execution_count": 35,
   "id": "square-queensland",
   "metadata": {},
   "outputs": [],
   "source": [
    "# df_ss = df_ss.fillna(0)"
   ]
  },
  {
   "cell_type": "code",
   "execution_count": 36,
   "id": "inappropriate-pacific",
   "metadata": {},
   "outputs": [],
   "source": [
    "df_ss = df_ss.drop(['Adj Close'], axis=1)"
   ]
  },
  {
   "cell_type": "code",
   "execution_count": 37,
   "id": "assigned-jacob",
   "metadata": {},
   "outputs": [
    {
     "data": {
      "text/html": [
       "<div>\n",
       "<style scoped>\n",
       "    .dataframe tbody tr th:only-of-type {\n",
       "        vertical-align: middle;\n",
       "    }\n",
       "\n",
       "    .dataframe tbody tr th {\n",
       "        vertical-align: top;\n",
       "    }\n",
       "\n",
       "    .dataframe thead th {\n",
       "        text-align: right;\n",
       "    }\n",
       "</style>\n",
       "<table border=\"1\" class=\"dataframe\">\n",
       "  <thead>\n",
       "    <tr style=\"text-align: right;\">\n",
       "      <th></th>\n",
       "      <th>High</th>\n",
       "      <th>Low</th>\n",
       "      <th>Open</th>\n",
       "      <th>Close</th>\n",
       "      <th>Volume</th>\n",
       "      <th>var_daily_price</th>\n",
       "      <th>var_daily_ratio</th>\n",
       "      <th>dayline_10</th>\n",
       "      <th>dayline_5</th>\n",
       "      <th>chg_3</th>\n",
       "    </tr>\n",
       "    <tr>\n",
       "      <th>Date</th>\n",
       "      <th></th>\n",
       "      <th></th>\n",
       "      <th></th>\n",
       "      <th></th>\n",
       "      <th></th>\n",
       "      <th></th>\n",
       "      <th></th>\n",
       "      <th></th>\n",
       "      <th></th>\n",
       "      <th></th>\n",
       "    </tr>\n",
       "  </thead>\n",
       "  <tbody>\n",
       "    <tr>\n",
       "      <th>2018-01-15</th>\n",
       "      <td>48980.0</td>\n",
       "      <td>47920.0</td>\n",
       "      <td>48800.0</td>\n",
       "      <td>48540.0</td>\n",
       "      <td>10096000.0</td>\n",
       "      <td>340.0</td>\n",
       "      <td>0.705394</td>\n",
       "      <td>50208.0</td>\n",
       "      <td>48844.0</td>\n",
       "      <td>-0.614251</td>\n",
       "    </tr>\n",
       "    <tr>\n",
       "      <th>2018-01-16</th>\n",
       "      <td>50140.0</td>\n",
       "      <td>48620.0</td>\n",
       "      <td>48760.0</td>\n",
       "      <td>50000.0</td>\n",
       "      <td>20389650.0</td>\n",
       "      <td>1460.0</td>\n",
       "      <td>3.007829</td>\n",
       "      <td>50106.0</td>\n",
       "      <td>48764.0</td>\n",
       "      <td>3.648425</td>\n",
       "    </tr>\n",
       "    <tr>\n",
       "      <th>2018-01-17</th>\n",
       "      <td>50020.0</td>\n",
       "      <td>49060.0</td>\n",
       "      <td>50020.0</td>\n",
       "      <td>49620.0</td>\n",
       "      <td>11053050.0</td>\n",
       "      <td>-380.0</td>\n",
       "      <td>-0.760000</td>\n",
       "      <td>49906.0</td>\n",
       "      <td>48920.0</td>\n",
       "      <td>2.946058</td>\n",
       "    </tr>\n",
       "    <tr>\n",
       "      <th>2018-01-18</th>\n",
       "      <td>50640.0</td>\n",
       "      <td>49820.0</td>\n",
       "      <td>50020.0</td>\n",
       "      <td>49900.0</td>\n",
       "      <td>14848850.0</td>\n",
       "      <td>280.0</td>\n",
       "      <td>0.564289</td>\n",
       "      <td>49788.0</td>\n",
       "      <td>49252.0</td>\n",
       "      <td>2.801813</td>\n",
       "    </tr>\n",
       "    <tr>\n",
       "      <th>2018-01-19</th>\n",
       "      <td>50380.0</td>\n",
       "      <td>49040.0</td>\n",
       "      <td>50380.0</td>\n",
       "      <td>49320.0</td>\n",
       "      <td>9219950.0</td>\n",
       "      <td>-580.0</td>\n",
       "      <td>-1.162325</td>\n",
       "      <td>49508.0</td>\n",
       "      <td>49476.0</td>\n",
       "      <td>-1.360000</td>\n",
       "    </tr>\n",
       "  </tbody>\n",
       "</table>\n",
       "</div>"
      ],
      "text/plain": [
       "               High      Low     Open    Close      Volume  var_daily_price  \\\n",
       "Date                                                                          \n",
       "2018-01-15  48980.0  47920.0  48800.0  48540.0  10096000.0            340.0   \n",
       "2018-01-16  50140.0  48620.0  48760.0  50000.0  20389650.0           1460.0   \n",
       "2018-01-17  50020.0  49060.0  50020.0  49620.0  11053050.0           -380.0   \n",
       "2018-01-18  50640.0  49820.0  50020.0  49900.0  14848850.0            280.0   \n",
       "2018-01-19  50380.0  49040.0  50380.0  49320.0   9219950.0           -580.0   \n",
       "\n",
       "            var_daily_ratio  dayline_10  dayline_5     chg_3  \n",
       "Date                                                          \n",
       "2018-01-15         0.705394     50208.0    48844.0 -0.614251  \n",
       "2018-01-16         3.007829     50106.0    48764.0  3.648425  \n",
       "2018-01-17        -0.760000     49906.0    48920.0  2.946058  \n",
       "2018-01-18         0.564289     49788.0    49252.0  2.801813  \n",
       "2018-01-19        -1.162325     49508.0    49476.0 -1.360000  "
      ]
     },
     "execution_count": 37,
     "metadata": {},
     "output_type": "execute_result"
    }
   ],
   "source": [
    "df_ss.head()"
   ]
  },
  {
   "cell_type": "code",
   "execution_count": 38,
   "id": "atlantic-child",
   "metadata": {},
   "outputs": [
    {
     "name": "stdout",
     "output_type": "stream",
     "text": [
      "(481, 10) 384\n",
      "(384, 10) (97, 10)\n"
     ]
    }
   ],
   "source": [
    "split_size = int(df_ss.shape[0] * 0.8)\n",
    "print(df_ss.shape, split_size)\n",
    "train = df_ss.iloc[:split_size]\n",
    "test  = df_ss.iloc[split_size:]\n",
    "print(train.shape, test.shape)\n",
    "# print(test_data.shape)"
   ]
  },
  {
   "cell_type": "code",
   "execution_count": 39,
   "id": "matched-assignment",
   "metadata": {},
   "outputs": [
    {
     "data": {
      "text/plain": [
       "<matplotlib.legend.Legend at 0x1a821952730>"
      ]
     },
     "execution_count": 39,
     "metadata": {},
     "output_type": "execute_result"
    },
    {
     "data": {
      "image/png": "[encoded data removed]",
      "text/plain": [
       "<Figure size 432x288 with 1 Axes>"
      ]
     },
     "metadata": {},
     "output_type": "display_data"
    }
   ],
   "source": [
    "ax = train['Close'].plot()\n",
    "test['Close'].plot(ax=ax)\n",
    "plt.legend(['train', 'test'])"
   ]
  },
  {
   "cell_type": "code",
   "execution_count": 40,
   "id": "manual-devon",
   "metadata": {},
   "outputs": [
    {
     "name": "stdout",
     "output_type": "stream",
     "text": [
      "<class 'pandas.core.frame.DataFrame'>\n",
      "DatetimeIndex: 384 entries, 2018-01-15 to 2019-08-07\n",
      "Data columns (total 10 columns):\n",
      " #   Column           Non-Null Count  Dtype  \n",
      "---  ------           --------------  -----  \n",
      " 0   High             384 non-null    float64\n",
      " 1   Low              384 non-null    float64\n",
      " 2   Open             384 non-null    float64\n",
      " 3   Close            384 non-null    float64\n",
      " 4   Volume           384 non-null    float64\n",
      " 5   var_daily_price  384 non-null    float64\n",
      " 6   var_daily_ratio  384 non-null    float64\n",
      " 7   dayline_10       384 non-null    float64\n",
      " 8   dayline_5        384 non-null    float64\n",
      " 9   chg_3            384 non-null    float64\n",
      "dtypes: float64(10)\n",
      "memory usage: 33.0 KB\n"
     ]
    }
   ],
   "source": [
    "train.info()"
   ]
  },
  {
   "cell_type": "code",
   "execution_count": 41,
   "id": "continued-selling",
   "metadata": {},
   "outputs": [
    {
     "data": {
      "text/plain": [
       "High               0\n",
       "Low                0\n",
       "Open               0\n",
       "Close              0\n",
       "Volume             0\n",
       "var_daily_price    0\n",
       "var_daily_ratio    0\n",
       "dayline_10         0\n",
       "dayline_5          0\n",
       "chg_3              0\n",
       "dtype: int64"
      ]
     },
     "execution_count": 41,
     "metadata": {},
     "output_type": "execute_result"
    }
   ],
   "source": [
    "train.isna().sum()"
   ]
  },
  {
   "cell_type": "code",
   "execution_count": 42,
   "id": "appointed-charleston",
   "metadata": {},
   "outputs": [],
   "source": [
    "from sklearn.preprocessing import MinMaxScaler\n",
    "scaler = MinMaxScaler()\n",
    "scaler.fit(train)\n",
    "train_scaler = scaler.transform(train)\n",
    "test_scaler  = scaler.transform(test)\n"
   ]
  },
  {
   "cell_type": "code",
   "execution_count": 43,
   "id": "guided-merchant",
   "metadata": {},
   "outputs": [],
   "source": [
    "window_size = 5\n",
    "xlist= []\n",
    "ylist = []\n",
    "for i in range(window_size, train_scaler.shape[0]):    \n",
    "    xlist.append(train_scaler[i-window_size:i])\n",
    "    ylist.append(train_scaler[i,3])  #Close\n",
    "x_train, y_train = np.array(xlist), np.array(ylist)"
   ]
  },
  {
   "cell_type": "code",
   "execution_count": 44,
   "id": "legislative-black",
   "metadata": {},
   "outputs": [
    {
     "name": "stdout",
     "output_type": "stream",
     "text": [
      "(379, 5, 10) (379,)\n"
     ]
    }
   ],
   "source": [
    "print(x_train.shape, y_train.shape)"
   ]
  },
  {
   "cell_type": "code",
   "execution_count": 45,
   "id": "89b8227f-5bca-491f-9370-577d19715b13",
   "metadata": {},
   "outputs": [],
   "source": [
    "# ! pip install -U numpy"
   ]
  },
  {
   "cell_type": "code",
   "execution_count": 46,
   "id": "referenced-suspension",
   "metadata": {},
   "outputs": [
    {
     "name": "stdout",
     "output_type": "stream",
     "text": [
      "Model: \"sequential\"\n",
      "_________________________________________________________________\n",
      " Layer (type)                Output Shape              Param #   \n",
      "=================================================================\n",
      " lstm (LSTM)                 (None, 5, 10)             840       \n",
      "                                                                 \n",
      " dropout (Dropout)           (None, 5, 10)             0         \n",
      "                                                                 \n",
      " lstm_1 (LSTM)               (None, 10)                840       \n",
      "                                                                 \n",
      " dropout_1 (Dropout)         (None, 10)                0         \n",
      "                                                                 \n",
      " dense (Dense)               (None, 1)                 11        \n",
      "                                                                 \n",
      "=================================================================\n",
      "Total params: 1,691\n",
      "Trainable params: 1,691\n",
      "Non-trainable params: 0\n",
      "_________________________________________________________________\n"
     ]
    }
   ],
   "source": [
    "from tensorflow.keras import Sequential\n",
    "from tensorflow.keras.layers import Dense, LSTM, Dropout\n",
    "# 모델 생성\n",
    "model = Sequential()\n",
    "model.add(LSTM(units=10, activation='relu', return_sequences=True, input_shape=(x_train.shape[1], x_train.shape[2])))\n",
    "model.add(Dropout(0.1))\n",
    "model.add(LSTM(units=10, activation='relu'))\n",
    "model.add(Dropout(0.1))\n",
    "model.add(Dense(units=1))\n",
    "model.summary()\n",
    "model.compile(optimizer='adam', loss='mse', metrics=['mse'])\n",
    "    "
   ]
  },
  {
   "cell_type": "code",
   "execution_count": 47,
   "id": "thousand-completion",
   "metadata": {},
   "outputs": [
    {
     "name": "stdout",
     "output_type": "stream",
     "text": [
      "Epoch 1/200\n",
      "19/19 [==============================] - 4s 32ms/step - loss: 0.3075 - mse: 0.3075 - val_loss: 0.1508 - val_mse: 0.1508\n",
      "Epoch 2/200\n",
      "19/19 [==============================] - 0s 5ms/step - loss: 0.2006 - mse: 0.2006 - val_loss: 0.0787 - val_mse: 0.0787\n",
      "Epoch 3/200\n",
      "19/19 [==============================] - 0s 5ms/step - loss: 0.0970 - mse: 0.0970 - val_loss: 0.0138 - val_mse: 0.0138\n",
      "Epoch 4/200\n",
      "19/19 [==============================] - 0s 5ms/step - loss: 0.0311 - mse: 0.0311 - val_loss: 0.0100 - val_mse: 0.0100\n",
      "Epoch 5/200\n",
      "19/19 [==============================] - 0s 8ms/step - loss: 0.0204 - mse: 0.0204 - val_loss: 0.0053 - val_mse: 0.0053\n",
      "Epoch 6/200\n",
      "19/19 [==============================] - 0s 5ms/step - loss: 0.0243 - mse: 0.0243 - val_loss: 0.0041 - val_mse: 0.0041\n",
      "Epoch 7/200\n",
      "19/19 [==============================] - 0s 5ms/step - loss: 0.0177 - mse: 0.0177 - val_loss: 0.0047 - val_mse: 0.0047\n",
      "Epoch 8/200\n",
      "19/19 [==============================] - 0s 7ms/step - loss: 0.0187 - mse: 0.0187 - val_loss: 0.0039 - val_mse: 0.0039\n",
      "Epoch 9/200\n",
      "19/19 [==============================] - 0s 7ms/step - loss: 0.0171 - mse: 0.0171 - val_loss: 0.0055 - val_mse: 0.0055\n",
      "Epoch 10/200\n",
      "19/19 [==============================] - 0s 6ms/step - loss: 0.0151 - mse: 0.0151 - val_loss: 0.0043 - val_mse: 0.0043\n",
      "Epoch 11/200\n",
      "19/19 [==============================] - 0s 7ms/step - loss: 0.0152 - mse: 0.0152 - val_loss: 0.0054 - val_mse: 0.0054\n",
      "Epoch 12/200\n",
      "19/19 [==============================] - 0s 7ms/step - loss: 0.0174 - mse: 0.0174 - val_loss: 0.0044 - val_mse: 0.0044\n",
      "Epoch 13/200\n",
      "19/19 [==============================] - 0s 6ms/step - loss: 0.0148 - mse: 0.0148 - val_loss: 0.0070 - val_mse: 0.0070\n",
      "Epoch 14/200\n",
      "19/19 [==============================] - 0s 6ms/step - loss: 0.0154 - mse: 0.0154 - val_loss: 0.0039 - val_mse: 0.0039\n",
      "Epoch 15/200\n",
      "19/19 [==============================] - 0s 5ms/step - loss: 0.0152 - mse: 0.0152 - val_loss: 0.0040 - val_mse: 0.0040\n",
      "Epoch 16/200\n",
      "19/19 [==============================] - 0s 5ms/step - loss: 0.0138 - mse: 0.0138 - val_loss: 0.0053 - val_mse: 0.0053\n",
      "Epoch 17/200\n",
      "19/19 [==============================] - 0s 5ms/step - loss: 0.0147 - mse: 0.0147 - val_loss: 0.0051 - val_mse: 0.0051\n",
      "Epoch 18/200\n",
      "19/19 [==============================] - 0s 8ms/step - loss: 0.0127 - mse: 0.0127 - val_loss: 0.0034 - val_mse: 0.0034\n",
      "Epoch 19/200\n",
      "19/19 [==============================] - 0s 7ms/step - loss: 0.0145 - mse: 0.0145 - val_loss: 0.0051 - val_mse: 0.0051\n",
      "Epoch 20/200\n",
      "19/19 [==============================] - 0s 6ms/step - loss: 0.0143 - mse: 0.0143 - val_loss: 0.0050 - val_mse: 0.0050\n",
      "Epoch 21/200\n",
      "19/19 [==============================] - 0s 6ms/step - loss: 0.0136 - mse: 0.0136 - val_loss: 0.0042 - val_mse: 0.0042\n",
      "Epoch 22/200\n",
      "19/19 [==============================] - 0s 6ms/step - loss: 0.0143 - mse: 0.0143 - val_loss: 0.0039 - val_mse: 0.0039\n",
      "Epoch 23/200\n",
      "19/19 [==============================] - 0s 6ms/step - loss: 0.0115 - mse: 0.0115 - val_loss: 0.0041 - val_mse: 0.0041\n",
      "Epoch 24/200\n",
      "19/19 [==============================] - 0s 5ms/step - loss: 0.0128 - mse: 0.0128 - val_loss: 0.0059 - val_mse: 0.0059\n",
      "Epoch 25/200\n",
      "19/19 [==============================] - 0s 6ms/step - loss: 0.0131 - mse: 0.0131 - val_loss: 0.0043 - val_mse: 0.0043\n",
      "Epoch 26/200\n",
      "19/19 [==============================] - 0s 5ms/step - loss: 0.0112 - mse: 0.0112 - val_loss: 0.0033 - val_mse: 0.0033\n",
      "Epoch 27/200\n",
      "19/19 [==============================] - 0s 5ms/step - loss: 0.0136 - mse: 0.0136 - val_loss: 0.0034 - val_mse: 0.0034\n",
      "Epoch 28/200\n",
      "19/19 [==============================] - 0s 6ms/step - loss: 0.0112 - mse: 0.0112 - val_loss: 0.0042 - val_mse: 0.0042\n",
      "Epoch 29/200\n",
      "19/19 [==============================] - 0s 5ms/step - loss: 0.0145 - mse: 0.0145 - val_loss: 0.0034 - val_mse: 0.0034\n",
      "Epoch 30/200\n",
      "19/19 [==============================] - 0s 5ms/step - loss: 0.0131 - mse: 0.0131 - val_loss: 0.0045 - val_mse: 0.0045\n",
      "Epoch 31/200\n",
      "19/19 [==============================] - 0s 5ms/step - loss: 0.0123 - mse: 0.0123 - val_loss: 0.0035 - val_mse: 0.0035\n",
      "Epoch 32/200\n",
      "19/19 [==============================] - 0s 7ms/step - loss: 0.0119 - mse: 0.0119 - val_loss: 0.0030 - val_mse: 0.0030\n",
      "Epoch 33/200\n",
      "19/19 [==============================] - 0s 5ms/step - loss: 0.0105 - mse: 0.0105 - val_loss: 0.0039 - val_mse: 0.0039\n",
      "Epoch 34/200\n",
      "19/19 [==============================] - 0s 6ms/step - loss: 0.0117 - mse: 0.0117 - val_loss: 0.0054 - val_mse: 0.0054\n",
      "Epoch 35/200\n",
      "19/19 [==============================] - 0s 6ms/step - loss: 0.0130 - mse: 0.0130 - val_loss: 0.0048 - val_mse: 0.0048\n",
      "Epoch 36/200\n",
      "19/19 [==============================] - 0s 5ms/step - loss: 0.0118 - mse: 0.0118 - val_loss: 0.0033 - val_mse: 0.0033\n",
      "Epoch 37/200\n",
      "19/19 [==============================] - 0s 5ms/step - loss: 0.0110 - mse: 0.0110 - val_loss: 0.0034 - val_mse: 0.0034\n",
      "Epoch 38/200\n",
      "19/19 [==============================] - 0s 5ms/step - loss: 0.0121 - mse: 0.0121 - val_loss: 0.0044 - val_mse: 0.0044\n",
      "Epoch 39/200\n",
      "19/19 [==============================] - 0s 6ms/step - loss: 0.0102 - mse: 0.0102 - val_loss: 0.0034 - val_mse: 0.0034\n",
      "Epoch 40/200\n",
      "19/19 [==============================] - 0s 5ms/step - loss: 0.0124 - mse: 0.0124 - val_loss: 0.0031 - val_mse: 0.0031\n",
      "Epoch 41/200\n",
      "19/19 [==============================] - 0s 5ms/step - loss: 0.0131 - mse: 0.0131 - val_loss: 0.0042 - val_mse: 0.0042\n",
      "Epoch 42/200\n",
      "19/19 [==============================] - 0s 5ms/step - loss: 0.0109 - mse: 0.0109 - val_loss: 0.0042 - val_mse: 0.0042\n"
     ]
    }
   ],
   "source": [
    "from keras.callbacks import EarlyStopping, ModelCheckpoint\n",
    "# checkpoint = ModelCheckpoint(filename, monitor='val_loss', verbose=1, save_best_only=True, mode='auto')\n",
    "early_stop = EarlyStopping(monitor='val_loss', patience=10)\n",
    "history = model.fit(x_train, y_train, \n",
    "                                    epochs=200, \n",
    "                                    batch_size=16,\n",
    "                                    validation_split=0.2, \n",
    "                                    callbacks=[early_stop])  #, checkpoint])"
   ]
  },
  {
   "cell_type": "code",
   "execution_count": 48,
   "id": "colored-affair",
   "metadata": {},
   "outputs": [
    {
     "data": {
      "image/png": "[encoded data removed]",
      "text/plain": [
       "<Figure size 432x288 with 1 Axes>"
      ]
     },
     "metadata": {},
     "output_type": "display_data"
    }
   ],
   "source": [
    "y_vloss = history.history['val_loss']\n",
    "y_loss = history.history['loss']\n",
    "\n",
    "plt.plot(np.arange(len(y_loss)), history.history['loss'],    marker='.', c='red', label=\"loss\")\n",
    "plt.plot(np.arange(len(y_loss)), history.history['val_loss'], marker='.', c='blue', label=\"val_loss\")\n",
    "plt.legend()\n",
    "plt.xlabel('epoch')\n",
    "plt.ylabel('loss')\n",
    "plt.show()"
   ]
  },
  {
   "cell_type": "code",
   "execution_count": 49,
   "id": "descending-jones",
   "metadata": {},
   "outputs": [
    {
     "data": {
      "text/plain": [
       "(97, 10)"
      ]
     },
     "execution_count": 49,
     "metadata": {},
     "output_type": "execute_result"
    }
   ],
   "source": [
    "test_scaler.shape"
   ]
  },
  {
   "cell_type": "code",
   "execution_count": 50,
   "id": "every-array",
   "metadata": {},
   "outputs": [],
   "source": [
    "window_size = 5\n",
    "xtlist= []\n",
    "ytlist = []\n",
    "for i in range(window_size, test_scaler.shape[0]):    \n",
    "    xtlist.append(test_scaler[i-window_size:i])\n",
    "    ytlist.append(test_scaler[i,3])  #Close\n",
    "x_test, y_test = np.array(xtlist), np.array(ytlist)"
   ]
  },
  {
   "cell_type": "code",
   "execution_count": 51,
   "id": "improving-aviation",
   "metadata": {},
   "outputs": [
    {
     "data": {
      "text/plain": [
       "((92, 5, 10), (92,))"
      ]
     },
     "execution_count": 51,
     "metadata": {},
     "output_type": "execute_result"
    }
   ],
   "source": [
    "x_test.shape, y_test.shape"
   ]
  },
  {
   "cell_type": "code",
   "execution_count": 52,
   "id": "diverse-heart",
   "metadata": {},
   "outputs": [],
   "source": [
    "pred = model.predict(x_test)"
   ]
  },
  {
   "cell_type": "code",
   "execution_count": 53,
   "id": "bacterial-fortune",
   "metadata": {},
   "outputs": [
    {
     "data": {
      "image/png": "[encoded data removed]",
      "text/plain": [
       "<Figure size 864x288 with 1 Axes>"
      ]
     },
     "metadata": {},
     "output_type": "display_data"
    }
   ],
   "source": [
    "plt.figure(figsize=(12, 4))\n",
    "plt.plot(y_test, label = 'real')\n",
    "plt.plot(pred, label = 'pred')\n",
    "plt.legend()\n",
    "plt.show()"
   ]
  },
  {
   "cell_type": "code",
   "execution_count": 54,
   "id": "severe-university",
   "metadata": {},
   "outputs": [
    {
     "name": "stdout",
     "output_type": "stream",
     "text": [
      "MSE :  0.015635836625575807\n"
     ]
    }
   ],
   "source": [
    "from sklearn.metrics import mean_squared_error\n",
    "print('MSE : ', mean_squared_error(y_test, pred)) \n"
   ]
  }
 ],
 "metadata": {
  "kernelspec": {
   "display_name": "Python 3 (ipykernel)",
   "language": "python",
   "name": "python3"
  },
  "language_info": {
   "codemirror_mode": {
    "name": "ipython",
    "version": 3
   },
   "file_extension": ".py",
   "mimetype": "text/x-python",
   "name": "python",
   "nbconvert_exporter": "python",
   "pygments_lexer": "ipython3",
   "version": "3.8.10"
  },
  "toc-autonumbering": true
 },
 "nbformat": 4,
 "nbformat_minor": 5
}
