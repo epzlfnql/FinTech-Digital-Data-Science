{
 "cells": [
  {
   "cell_type": "markdown",
   "id": "92175420-a0e9-4164-8608-dda365917bac",
   "metadata": {},
   "source": [
    "<font size=6><b>스토캐스틱 오실레이터(Stochastic Oscillator)"
   ]
  },
  {
   "cell_type": "markdown",
   "id": "f2b377af-8f74-4b44-9fc7-430acd97a315",
   "metadata": {},
   "source": [
    "* <font size=4 color=blue><b>주식투자의 기술적 분석에 사용되는 보조 지표</b></font>\n",
    "* <font size=4 color=blue><b>최근 n일간의 최고가와 최저가의 범위 내에서 현재 가격의 위치를 표시</b></font>\n",
    "* <font size=4 color=blue><b> 스토캐스틱n= (현재 가격 - n일중 최저가)/(n일중 최고가 - n일중 최저가)</b></font>\n",
    "* 대부분 증권사에서는 n(5)-m(3)-t(3)를 사용,  네이버금융은 n(15)-m(5)-t(3)   \n",
    "* 매수세 > 매도세 : 위치가 높게 형성  --> 과매수 상태에 들어서면 하락 가능성이 커진다\n",
    "* 매수세 < 매도세 : 위치가 낮게 형성  --> 과매도 상태에 들어서면 상승 가능성이 커진다"
   ]
  },
  {
   "cell_type": "markdown",
   "id": "dc087b49-1dcb-425f-96d7-767da6569517",
   "metadata": {},
   "source": [
    "# Fast Stochastic \n",
    "* 그래프의 변화가 너무 잦고 급격하여 노이즈 즉 가짜 신호가 많아 매수 매도시 참고하기 어렵다\n",
    "    * Fast %K = (C-L)/(H-L) * 100\n",
    "    * Fast %D = Fask %K의 m기간 이동평균(SMA)"
   ]
  },
  {
   "cell_type": "markdown",
   "id": "23b5b17a-11b3-4b75-9fe0-f36d21ba3ac7",
   "metadata": {
    "tags": []
   },
   "source": [
    "# Slow Stochastic \n",
    "* KDJ Stochastic 지표 : Fast %K (K), Slow %K (D), Slow %D (J) \n",
    "    * Slow %K = Fast %K의 m기간 이동평균(SMA)\n",
    "    * Slow %D = Slow %K의 t기간 이동평균(SMA)"
   ]
  },
  {
   "cell_type": "markdown",
   "id": "b2202a81-3d86-4729-a88f-1c8b1825a13a",
   "metadata": {
    "tags": []
   },
   "source": [
    "## 최근 15일 중 최고가 15,000원이고 최저가가 10,000, 현재가격이 14,000원 일 경우 스토캐스틱?"
   ]
  },
  {
   "cell_type": "code",
   "execution_count": 1,
   "id": "57357fa1-9bfa-434c-a25d-ff9b24cff384",
   "metadata": {},
   "outputs": [
    {
     "data": {
      "text/plain": [
       "80.0"
      ]
     },
     "execution_count": 1,
     "metadata": {},
     "output_type": "execute_result"
    }
   ],
   "source": [
    "so = (14000 - 10000) / (15000 - 10000) *100\n",
    "so"
   ]
  },
  {
   "cell_type": "markdown",
   "id": "82b34e50-4b1b-4b16-9b07-0c1cc162876b",
   "metadata": {},
   "source": [
    "## 최근 15일 중 최고가 15,000원이고 최저가가 10,000, 현재가격이 11,000원 일 경우 스토캐스틱?"
   ]
  },
  {
   "cell_type": "code",
   "execution_count": 2,
   "id": "ce1fabac-ac87-4959-ac9e-509a8f34a0a9",
   "metadata": {},
   "outputs": [
    {
     "data": {
      "text/plain": [
       "20.0"
      ]
     },
     "execution_count": 2,
     "metadata": {},
     "output_type": "execute_result"
    }
   ],
   "source": [
    "so = (11000 - 10000) / (15000 - 10000) *100\n",
    "so"
   ]
  },
  {
   "cell_type": "markdown",
   "id": "9213da6f-d018-4568-b16d-d8c83260eb11",
   "metadata": {},
   "source": [
    "# 활용 예"
   ]
  },
  {
   "cell_type": "code",
   "execution_count": 3,
   "id": "21fee1bc-c08f-407c-bf23-29976c834359",
   "metadata": {},
   "outputs": [
    {
     "data": {
      "text/html": [
       "<style>.container{width:100% !important;}</style>"
      ],
      "text/plain": [
       "<IPython.core.display.HTML object>"
      ]
     },
     "metadata": {},
     "output_type": "display_data"
    }
   ],
   "source": [
    "import pandas as pd\n",
    "import datetime as dt\n",
    "from pykrx import stock\n",
    "import matplotlib.pyplot as plt\n",
    "import seaborn as sns\n",
    "\n",
    "import warnings\n",
    "warnings.filterwarnings(action='ignore')\n",
    "\n",
    "#-------------------- 차트 관련 속성 (한글처리, 그리드) -----------\n",
    "plt.rcParams['font.family']= 'Malgun Gothic'\n",
    "plt.rcParams['axes.unicode_minus'] = False\n",
    "plt.rc('font', family='Malgun Gothic')\n",
    "sns.set()\n",
    "\n",
    "#-------------------- 주피터 , 출력결과 넓이 늘리기 ---------------\n",
    "from IPython.core.display import display, HTML\n",
    "display(HTML(\"<style>.container{width:100% !important;}</style>\"))\n",
    "pd.set_option('display.max_rows', 100)\n",
    "pd.set_option('display.max_columns', 100)\n",
    "pd.set_option('max_colwidth', None)"
   ]
  },
  {
   "cell_type": "markdown",
   "id": "4d19c482-2c32-4b49-868b-deaba327614a",
   "metadata": {},
   "source": [
    "## fast_k, slow_k, slow_d"
   ]
  },
  {
   "cell_type": "code",
   "execution_count": 4,
   "id": "50816625-9860-4411-8696-2cc65c86e0f1",
   "metadata": {},
   "outputs": [],
   "source": [
    "# Fast %K = n기간 Fast Stochastic \n",
    "def my_fast_k(close_price, low, high, n=5):\n",
    "    #(C-L)/(H-L) * 100\n",
    "    fast_k = ((close_price - low.rolling(n).min()) / (high.rolling(n).max() - low.rolling(n).min())) * 100\n",
    "    return fast_k\n",
    "\n",
    "# Slow %K = Fast %K의 m기간 이동평균(SMA)\n",
    "def my_slow_k(fast_k, m=3):\n",
    "    slow_k = fast_k.rolling(m).mean()\n",
    "    return slow_k\n",
    "\n",
    "# Slow %D = Slow %K의 t기간 이동평균(SMA)\n",
    "def my_slow_d(slow_k, t=3):\n",
    "    slow_d = slow_k.rolling(t).mean()\n",
    "    return slow_d"
   ]
  },
  {
   "cell_type": "markdown",
   "id": "a84df7ba-73d4-483d-bb5f-ad6b526be484",
   "metadata": {},
   "source": [
    "## OHLCV data load"
   ]
  },
  {
   "cell_type": "code",
   "execution_count": 5,
   "id": "e3cb9c29-6821-4f29-8d64-075ff27b7cf6",
   "metadata": {},
   "outputs": [
    {
     "data": {
      "text/html": [
       "<div>\n",
       "<style scoped>\n",
       "    .dataframe tbody tr th:only-of-type {\n",
       "        vertical-align: middle;\n",
       "    }\n",
       "\n",
       "    .dataframe tbody tr th {\n",
       "        vertical-align: top;\n",
       "    }\n",
       "\n",
       "    .dataframe thead th {\n",
       "        text-align: right;\n",
       "    }\n",
       "</style>\n",
       "<table border=\"1\" class=\"dataframe\">\n",
       "  <thead>\n",
       "    <tr style=\"text-align: right;\">\n",
       "      <th></th>\n",
       "      <th>Open</th>\n",
       "      <th>High</th>\n",
       "      <th>Low</th>\n",
       "      <th>Close</th>\n",
       "      <th>Volume</th>\n",
       "    </tr>\n",
       "    <tr>\n",
       "      <th>날짜</th>\n",
       "      <th></th>\n",
       "      <th></th>\n",
       "      <th></th>\n",
       "      <th></th>\n",
       "      <th></th>\n",
       "    </tr>\n",
       "  </thead>\n",
       "  <tbody>\n",
       "    <tr>\n",
       "      <th>2021-06-01</th>\n",
       "      <td>80500</td>\n",
       "      <td>81300</td>\n",
       "      <td>80100</td>\n",
       "      <td>80600</td>\n",
       "      <td>14058401</td>\n",
       "    </tr>\n",
       "    <tr>\n",
       "      <th>2021-06-02</th>\n",
       "      <td>80400</td>\n",
       "      <td>81400</td>\n",
       "      <td>80300</td>\n",
       "      <td>80800</td>\n",
       "      <td>16414644</td>\n",
       "    </tr>\n",
       "    <tr>\n",
       "      <th>2021-06-03</th>\n",
       "      <td>81300</td>\n",
       "      <td>83000</td>\n",
       "      <td>81100</td>\n",
       "      <td>82800</td>\n",
       "      <td>29546007</td>\n",
       "    </tr>\n",
       "    <tr>\n",
       "      <th>2021-06-04</th>\n",
       "      <td>82700</td>\n",
       "      <td>82700</td>\n",
       "      <td>81500</td>\n",
       "      <td>82200</td>\n",
       "      <td>18112259</td>\n",
       "    </tr>\n",
       "    <tr>\n",
       "      <th>2021-06-07</th>\n",
       "      <td>82700</td>\n",
       "      <td>82800</td>\n",
       "      <td>81600</td>\n",
       "      <td>81900</td>\n",
       "      <td>16496197</td>\n",
       "    </tr>\n",
       "  </tbody>\n",
       "</table>\n",
       "</div>"
      ],
      "text/plain": [
       "             Open   High    Low  Close    Volume\n",
       "날짜                                              \n",
       "2021-06-01  80500  81300  80100  80600  14058401\n",
       "2021-06-02  80400  81400  80300  80800  16414644\n",
       "2021-06-03  81300  83000  81100  82800  29546007\n",
       "2021-06-04  82700  82700  81500  82200  18112259\n",
       "2021-06-07  82700  82800  81600  81900  16496197"
      ]
     },
     "execution_count": 5,
     "metadata": {},
     "output_type": "execute_result"
    }
   ],
   "source": [
    "start  = \"2021-06-01\"\n",
    "end    = \"2021-12-31\"\n",
    "ticker = \"005930\"\n",
    "# ---------------------------------------\n",
    "df = stock.get_market_ohlcv(start, end, ticker)\n",
    "#df = stock.get_market_ohlcv(\"2021-01-01\", \"2021-12-31\", \"005930\")\n",
    "df.columns = [\"Open\",\"High\",\"Low\",\"Close\",\"Volume\"]\n",
    "df.head()"
   ]
  },
  {
   "cell_type": "code",
   "execution_count": 6,
   "id": "48554bc1-d949-4635-a820-4fbde2bfb19f",
   "metadata": {},
   "outputs": [
    {
     "data": {
      "text/html": [
       "<div>\n",
       "<style scoped>\n",
       "    .dataframe tbody tr th:only-of-type {\n",
       "        vertical-align: middle;\n",
       "    }\n",
       "\n",
       "    .dataframe tbody tr th {\n",
       "        vertical-align: top;\n",
       "    }\n",
       "\n",
       "    .dataframe thead th {\n",
       "        text-align: right;\n",
       "    }\n",
       "</style>\n",
       "<table border=\"1\" class=\"dataframe\">\n",
       "  <thead>\n",
       "    <tr style=\"text-align: right;\">\n",
       "      <th></th>\n",
       "      <th>Open</th>\n",
       "      <th>High</th>\n",
       "      <th>Low</th>\n",
       "      <th>Close</th>\n",
       "      <th>Volume</th>\n",
       "      <th>fast_k</th>\n",
       "      <th>slow_k</th>\n",
       "      <th>slow_d</th>\n",
       "    </tr>\n",
       "    <tr>\n",
       "      <th>날짜</th>\n",
       "      <th></th>\n",
       "      <th></th>\n",
       "      <th></th>\n",
       "      <th></th>\n",
       "      <th></th>\n",
       "      <th></th>\n",
       "      <th></th>\n",
       "      <th></th>\n",
       "    </tr>\n",
       "  </thead>\n",
       "  <tbody>\n",
       "    <tr>\n",
       "      <th>2021-06-01</th>\n",
       "      <td>80500</td>\n",
       "      <td>81300</td>\n",
       "      <td>80100</td>\n",
       "      <td>80600</td>\n",
       "      <td>14058401</td>\n",
       "      <td>NaN</td>\n",
       "      <td>NaN</td>\n",
       "      <td>NaN</td>\n",
       "    </tr>\n",
       "    <tr>\n",
       "      <th>2021-06-02</th>\n",
       "      <td>80400</td>\n",
       "      <td>81400</td>\n",
       "      <td>80300</td>\n",
       "      <td>80800</td>\n",
       "      <td>16414644</td>\n",
       "      <td>NaN</td>\n",
       "      <td>NaN</td>\n",
       "      <td>NaN</td>\n",
       "    </tr>\n",
       "    <tr>\n",
       "      <th>2021-06-03</th>\n",
       "      <td>81300</td>\n",
       "      <td>83000</td>\n",
       "      <td>81100</td>\n",
       "      <td>82800</td>\n",
       "      <td>29546007</td>\n",
       "      <td>NaN</td>\n",
       "      <td>NaN</td>\n",
       "      <td>NaN</td>\n",
       "    </tr>\n",
       "    <tr>\n",
       "      <th>2021-06-04</th>\n",
       "      <td>82700</td>\n",
       "      <td>82700</td>\n",
       "      <td>81500</td>\n",
       "      <td>82200</td>\n",
       "      <td>18112259</td>\n",
       "      <td>NaN</td>\n",
       "      <td>NaN</td>\n",
       "      <td>NaN</td>\n",
       "    </tr>\n",
       "    <tr>\n",
       "      <th>2021-06-07</th>\n",
       "      <td>82700</td>\n",
       "      <td>82800</td>\n",
       "      <td>81600</td>\n",
       "      <td>81900</td>\n",
       "      <td>16496197</td>\n",
       "      <td>62.068966</td>\n",
       "      <td>NaN</td>\n",
       "      <td>NaN</td>\n",
       "    </tr>\n",
       "    <tr>\n",
       "      <th>2021-06-08</th>\n",
       "      <td>82300</td>\n",
       "      <td>82600</td>\n",
       "      <td>81800</td>\n",
       "      <td>81900</td>\n",
       "      <td>12781226</td>\n",
       "      <td>59.259259</td>\n",
       "      <td>NaN</td>\n",
       "      <td>NaN</td>\n",
       "    </tr>\n",
       "    <tr>\n",
       "      <th>2021-06-09</th>\n",
       "      <td>81500</td>\n",
       "      <td>82000</td>\n",
       "      <td>81100</td>\n",
       "      <td>81100</td>\n",
       "      <td>14908823</td>\n",
       "      <td>0.000000</td>\n",
       "      <td>40.442742</td>\n",
       "      <td>NaN</td>\n",
       "    </tr>\n",
       "    <tr>\n",
       "      <th>2021-06-10</th>\n",
       "      <td>81300</td>\n",
       "      <td>81400</td>\n",
       "      <td>80900</td>\n",
       "      <td>81000</td>\n",
       "      <td>17586995</td>\n",
       "      <td>5.263158</td>\n",
       "      <td>21.507472</td>\n",
       "      <td>NaN</td>\n",
       "    </tr>\n",
       "    <tr>\n",
       "      <th>2021-06-11</th>\n",
       "      <td>81200</td>\n",
       "      <td>81700</td>\n",
       "      <td>80700</td>\n",
       "      <td>81000</td>\n",
       "      <td>14087962</td>\n",
       "      <td>14.285714</td>\n",
       "      <td>6.516291</td>\n",
       "      <td>22.822168</td>\n",
       "    </tr>\n",
       "    <tr>\n",
       "      <th>2021-06-14</th>\n",
       "      <td>80800</td>\n",
       "      <td>80900</td>\n",
       "      <td>80500</td>\n",
       "      <td>80500</td>\n",
       "      <td>10550078</td>\n",
       "      <td>0.000000</td>\n",
       "      <td>6.516291</td>\n",
       "      <td>11.513351</td>\n",
       "    </tr>\n",
       "    <tr>\n",
       "      <th>2021-06-15</th>\n",
       "      <td>80900</td>\n",
       "      <td>81200</td>\n",
       "      <td>80600</td>\n",
       "      <td>80900</td>\n",
       "      <td>10075685</td>\n",
       "      <td>26.666667</td>\n",
       "      <td>13.650794</td>\n",
       "      <td>8.894458</td>\n",
       "    </tr>\n",
       "    <tr>\n",
       "      <th>2021-06-16</th>\n",
       "      <td>81500</td>\n",
       "      <td>81900</td>\n",
       "      <td>81100</td>\n",
       "      <td>81800</td>\n",
       "      <td>14999855</td>\n",
       "      <td>92.857143</td>\n",
       "      <td>39.841270</td>\n",
       "      <td>20.002785</td>\n",
       "    </tr>\n",
       "    <tr>\n",
       "      <th>2021-06-17</th>\n",
       "      <td>81100</td>\n",
       "      <td>81300</td>\n",
       "      <td>80700</td>\n",
       "      <td>80900</td>\n",
       "      <td>14007385</td>\n",
       "      <td>28.571429</td>\n",
       "      <td>49.365079</td>\n",
       "      <td>34.285714</td>\n",
       "    </tr>\n",
       "    <tr>\n",
       "      <th>2021-06-18</th>\n",
       "      <td>81100</td>\n",
       "      <td>81100</td>\n",
       "      <td>80500</td>\n",
       "      <td>80500</td>\n",
       "      <td>14916721</td>\n",
       "      <td>0.000000</td>\n",
       "      <td>40.476190</td>\n",
       "      <td>43.227513</td>\n",
       "    </tr>\n",
       "    <tr>\n",
       "      <th>2021-06-21</th>\n",
       "      <td>79700</td>\n",
       "      <td>80000</td>\n",
       "      <td>79600</td>\n",
       "      <td>79900</td>\n",
       "      <td>16063340</td>\n",
       "      <td>13.043478</td>\n",
       "      <td>13.871636</td>\n",
       "      <td>34.570968</td>\n",
       "    </tr>\n",
       "  </tbody>\n",
       "</table>\n",
       "</div>"
      ],
      "text/plain": [
       "             Open   High    Low  Close    Volume     fast_k     slow_k  \\\n",
       "날짜                                                                       \n",
       "2021-06-01  80500  81300  80100  80600  14058401        NaN        NaN   \n",
       "2021-06-02  80400  81400  80300  80800  16414644        NaN        NaN   \n",
       "2021-06-03  81300  83000  81100  82800  29546007        NaN        NaN   \n",
       "2021-06-04  82700  82700  81500  82200  18112259        NaN        NaN   \n",
       "2021-06-07  82700  82800  81600  81900  16496197  62.068966        NaN   \n",
       "2021-06-08  82300  82600  81800  81900  12781226  59.259259        NaN   \n",
       "2021-06-09  81500  82000  81100  81100  14908823   0.000000  40.442742   \n",
       "2021-06-10  81300  81400  80900  81000  17586995   5.263158  21.507472   \n",
       "2021-06-11  81200  81700  80700  81000  14087962  14.285714   6.516291   \n",
       "2021-06-14  80800  80900  80500  80500  10550078   0.000000   6.516291   \n",
       "2021-06-15  80900  81200  80600  80900  10075685  26.666667  13.650794   \n",
       "2021-06-16  81500  81900  81100  81800  14999855  92.857143  39.841270   \n",
       "2021-06-17  81100  81300  80700  80900  14007385  28.571429  49.365079   \n",
       "2021-06-18  81100  81100  80500  80500  14916721   0.000000  40.476190   \n",
       "2021-06-21  79700  80000  79600  79900  16063340  13.043478  13.871636   \n",
       "\n",
       "               slow_d  \n",
       "날짜                     \n",
       "2021-06-01        NaN  \n",
       "2021-06-02        NaN  \n",
       "2021-06-03        NaN  \n",
       "2021-06-04        NaN  \n",
       "2021-06-07        NaN  \n",
       "2021-06-08        NaN  \n",
       "2021-06-09        NaN  \n",
       "2021-06-10        NaN  \n",
       "2021-06-11  22.822168  \n",
       "2021-06-14  11.513351  \n",
       "2021-06-15   8.894458  \n",
       "2021-06-16  20.002785  \n",
       "2021-06-17  34.285714  \n",
       "2021-06-18  43.227513  \n",
       "2021-06-21  34.570968  "
      ]
     },
     "execution_count": 6,
     "metadata": {},
     "output_type": "execute_result"
    }
   ],
   "source": [
    "df['fast_k'] = my_fast_k(df['Close'], df['Low'], df['High'], 5)\n",
    "df['slow_k'] = my_slow_k(df['fast_k'], 3)\n",
    "df['slow_d'] = my_slow_d(df['slow_k'], 3)\n",
    "df.head(15)"
   ]
  },
  {
   "cell_type": "code",
   "execution_count": 7,
   "id": "c213b13a-6023-4649-a088-4c1b6c9dd55c",
   "metadata": {},
   "outputs": [
    {
     "data": {
      "text/html": [
       "<div>\n",
       "<style scoped>\n",
       "    .dataframe tbody tr th:only-of-type {\n",
       "        vertical-align: middle;\n",
       "    }\n",
       "\n",
       "    .dataframe tbody tr th {\n",
       "        vertical-align: top;\n",
       "    }\n",
       "\n",
       "    .dataframe thead th {\n",
       "        text-align: right;\n",
       "    }\n",
       "</style>\n",
       "<table border=\"1\" class=\"dataframe\">\n",
       "  <thead>\n",
       "    <tr style=\"text-align: right;\">\n",
       "      <th></th>\n",
       "      <th>Open</th>\n",
       "      <th>High</th>\n",
       "      <th>Low</th>\n",
       "      <th>Close</th>\n",
       "      <th>Volume</th>\n",
       "      <th>fast_k</th>\n",
       "      <th>slow_k</th>\n",
       "      <th>slow_d</th>\n",
       "    </tr>\n",
       "    <tr>\n",
       "      <th>날짜</th>\n",
       "      <th></th>\n",
       "      <th></th>\n",
       "      <th></th>\n",
       "      <th></th>\n",
       "      <th></th>\n",
       "      <th></th>\n",
       "      <th></th>\n",
       "      <th></th>\n",
       "    </tr>\n",
       "  </thead>\n",
       "  <tbody>\n",
       "    <tr>\n",
       "      <th>2021-06-11</th>\n",
       "      <td>81200</td>\n",
       "      <td>81700</td>\n",
       "      <td>80700</td>\n",
       "      <td>81000</td>\n",
       "      <td>14087962</td>\n",
       "      <td>14.285714</td>\n",
       "      <td>6.516291</td>\n",
       "      <td>22.822168</td>\n",
       "    </tr>\n",
       "    <tr>\n",
       "      <th>2021-06-14</th>\n",
       "      <td>80800</td>\n",
       "      <td>80900</td>\n",
       "      <td>80500</td>\n",
       "      <td>80500</td>\n",
       "      <td>10550078</td>\n",
       "      <td>0.000000</td>\n",
       "      <td>6.516291</td>\n",
       "      <td>11.513351</td>\n",
       "    </tr>\n",
       "    <tr>\n",
       "      <th>2021-06-15</th>\n",
       "      <td>80900</td>\n",
       "      <td>81200</td>\n",
       "      <td>80600</td>\n",
       "      <td>80900</td>\n",
       "      <td>10075685</td>\n",
       "      <td>26.666667</td>\n",
       "      <td>13.650794</td>\n",
       "      <td>8.894458</td>\n",
       "    </tr>\n",
       "    <tr>\n",
       "      <th>2021-06-16</th>\n",
       "      <td>81500</td>\n",
       "      <td>81900</td>\n",
       "      <td>81100</td>\n",
       "      <td>81800</td>\n",
       "      <td>14999855</td>\n",
       "      <td>92.857143</td>\n",
       "      <td>39.841270</td>\n",
       "      <td>20.002785</td>\n",
       "    </tr>\n",
       "    <tr>\n",
       "      <th>2021-06-17</th>\n",
       "      <td>81100</td>\n",
       "      <td>81300</td>\n",
       "      <td>80700</td>\n",
       "      <td>80900</td>\n",
       "      <td>14007385</td>\n",
       "      <td>28.571429</td>\n",
       "      <td>49.365079</td>\n",
       "      <td>34.285714</td>\n",
       "    </tr>\n",
       "  </tbody>\n",
       "</table>\n",
       "</div>"
      ],
      "text/plain": [
       "             Open   High    Low  Close    Volume     fast_k     slow_k  \\\n",
       "날짜                                                                       \n",
       "2021-06-11  81200  81700  80700  81000  14087962  14.285714   6.516291   \n",
       "2021-06-14  80800  80900  80500  80500  10550078   0.000000   6.516291   \n",
       "2021-06-15  80900  81200  80600  80900  10075685  26.666667  13.650794   \n",
       "2021-06-16  81500  81900  81100  81800  14999855  92.857143  39.841270   \n",
       "2021-06-17  81100  81300  80700  80900  14007385  28.571429  49.365079   \n",
       "\n",
       "               slow_d  \n",
       "날짜                     \n",
       "2021-06-11  22.822168  \n",
       "2021-06-14  11.513351  \n",
       "2021-06-15   8.894458  \n",
       "2021-06-16  20.002785  \n",
       "2021-06-17  34.285714  "
      ]
     },
     "execution_count": 7,
     "metadata": {},
     "output_type": "execute_result"
    }
   ],
   "source": [
    "df = df.dropna(axis=0)\n",
    "df.head()"
   ]
  },
  {
   "cell_type": "markdown",
   "id": "1bb838e9-7088-4643-a534-a7863e86dc5d",
   "metadata": {},
   "source": [
    "## plot"
   ]
  },
  {
   "cell_type": "markdown",
   "id": "d1ff40c3-f348-4fa7-974a-5bf0d5b78788",
   "metadata": {},
   "source": [
    "* 캐스틱이 80 이상일 때 과매수 상태, 20 이하일 때 과매도 상태로 판단\n",
    "    * 골든크로스(매수) : 스토캐스틱 20 이하에서 <font color=blue>%K선</font>이 <font color='red'>%D</font>선을 상향 돌파\n",
    "    * 데드크로스(매도) : 스토캐스틱 80 이상에서 <font color=blue>%K선</font>이 <font color='red'>%D</font>선을 하향 돌파\n",
    "*   0% : N일간 최저가(가장 강한 매수세)\n",
    "* 100% : N일간 최고가(가장 강한 매도세)\n"
   ]
  },
  {
   "cell_type": "code",
   "execution_count": 8,
   "id": "ea232d55-2e61-4ff6-84c8-a378362b779f",
   "metadata": {},
   "outputs": [
    {
     "name": "stdout",
     "output_type": "stream",
     "text": [
      "+매수 2021-07-08  0.00\n",
      "+매수 2021-08-17  2.38\n",
      "+매수 2021-08-18  11.94\n",
      "+매수 2021-08-19  0.00\n",
      "+매수 2021-08-20  5.71\n",
      "-매도 2021-09-06  90.91\n",
      "+매수 2021-10-07  11.11\n",
      "+매수 2021-10-08  10.71\n",
      "+매수 2021-10-12  6.98\n",
      "+매수 2021-10-13  11.11\n",
      "-매도 2021-12-07  95.08\n",
      "-매도 2021-12-09  91.11\n",
      "-매도 2021-12-21  81.82\n",
      "-매도 2021-12-27  81.82\n"
     ]
    },
    {
     "data": {
      "image/png": "[encoded data removed]",
      "text/plain": [
       "<Figure size 1800x360 with 2 Axes>"
      ]
     },
     "metadata": {},
     "output_type": "display_data"
    }
   ],
   "source": [
    "fig, ax1 = plt.subplots(figsize = (25, 5))\n",
    "\n",
    "# Slow %K, Slow %D를 그려서 확인\n",
    "df[['slow_k', 'slow_d']].plot(ax=ax1)\n",
    "# ax.hlines([20,80], df.index.min(), df.index.max(), color =\"green\", linestyle=\"--\")\n",
    "\n",
    "for i in range(len(df.index)):\n",
    "    if df[\"fast_k\"].values[i] <= 20 and (df[\"slow_k\"].values[i] > df[\"slow_d\"].values[i]) :    #콜든크로스(매수)\n",
    "        print(f\"+매수 {pd.to_datetime(df.index.values[i]).strftime('%Y-%m-%d')}  {df['fast_k'].values[i]:.2f}\")\n",
    "        ax1.plot(df.index.values[i], df['slow_k'].values[i], 'bv')\n",
    "    elif df[\"fast_k\"].values[i] >= 80 and (df[\"slow_k\"].values[i] < df[\"slow_d\"].values[i]) :  #데드크로스(매도)\n",
    "        print(f\"-매도 {pd.to_datetime(df.index.values[i]).strftime('%Y-%m-%d')}  {df['fast_k'].values[i]:.2f}\")\n",
    "        ax1.plot(df.index.values[i], df['slow_k'].values[i], 'r^')    \n",
    "\n",
    "ax2 = ax1.twinx()\n",
    "df['Close'].plot(ax=ax2,  color='green', linestyle='dotted')\n",
    "ax2.grid(False)\n",
    "ax2.legend()\n",
    "\n",
    "plt.show()"
   ]
  },
  {
   "cell_type": "markdown",
   "id": "72cc7c77-e960-4f4f-b9c9-113d7a25640e",
   "metadata": {
    "tags": []
   },
   "source": [
    "# TA-Lib"
   ]
  },
  {
   "cell_type": "markdown",
   "id": "d82f82ab-9054-4520-8b2e-eae87d2b3dac",
   "metadata": {},
   "source": [
    "* https://github.com/mrjbq7/ta-lib\n",
    "* https://mrjbq7.github.io/ta-lib/func_groups/momentum_indicators.html"
   ]
  },
  {
   "cell_type": "code",
   "execution_count": 9,
   "id": "c7723584-b843-44c4-ab1c-e851ed4633ef",
   "metadata": {},
   "outputs": [],
   "source": [
    "import numpy\n",
    "import talib\n",
    "from talib.abstract import *"
   ]
  },
  {
   "cell_type": "markdown",
   "id": "6b6a2f8b-16c1-4cd5-bbf9-9ad2784e0728",
   "metadata": {},
   "source": [
    "## STOCH - Stochastic\n",
    "* slowk, slowd = STOCH(high, low, close, fastk_period=5, slowk_period=3, slowk_matype=0, slowd_period=3, slowd_matype=0)"
   ]
  },
  {
   "cell_type": "code",
   "execution_count": 16,
   "id": "5427d3e1-c9ae-4d08-a6ba-dfa023dada9a",
   "metadata": {},
   "outputs": [],
   "source": [
    "slowk, slowd = talib.STOCH(df['High'], df['Low'], df['Close'], \n",
    "                           fastk_period=5, \n",
    "                           slowk_period=3, slowk_matype=0, \n",
    "                           slowd_period=3, slowd_matype=0)"
   ]
  },
  {
   "cell_type": "code",
   "execution_count": 11,
   "id": "c2ca2b25-f288-4ce8-b976-509dbb4bb6a5",
   "metadata": {},
   "outputs": [
    {
     "data": {
      "text/plain": [
       "날짜\n",
       "2021-12-24    96.458333\n",
       "2021-12-27    90.397727\n",
       "2021-12-28    83.106061\n",
       "2021-12-29    56.620553\n",
       "2021-12-30    31.816962\n",
       "dtype: float64"
      ]
     },
     "execution_count": 11,
     "metadata": {},
     "output_type": "execute_result"
    }
   ],
   "source": [
    "slowk.tail()"
   ]
  },
  {
   "cell_type": "code",
   "execution_count": 12,
   "id": "a143a5b7-4a7a-4ac7-9a59-a94eb1df2557",
   "metadata": {},
   "outputs": [
    {
     "data": {
      "text/plain": [
       "날짜\n",
       "2021-12-24    87.668533\n",
       "2021-12-27    93.251263\n",
       "2021-12-28    89.987374\n",
       "2021-12-29    76.708114\n",
       "2021-12-30    57.181192\n",
       "dtype: float64"
      ]
     },
     "execution_count": 12,
     "metadata": {},
     "output_type": "execute_result"
    }
   ],
   "source": [
    "slowd.tail()"
   ]
  },
  {
   "cell_type": "markdown",
   "id": "9720433a-c2f3-49af-bd56-3750468e7b72",
   "metadata": {},
   "source": [
    "## STOCHF - Stochastic Fast\n",
    "* fastk, fastd = STOCHF(high, low, close, fastk_period=5, fastd_period=3, fastd_matype=0)"
   ]
  },
  {
   "cell_type": "code",
   "execution_count": 13,
   "id": "4f35e42a-b8c9-4c06-8937-ee1d71d7560e",
   "metadata": {},
   "outputs": [],
   "source": [
    "fastk, fastd = talib.STOCHF(df['High'], df['Low'], df['Close'],  \n",
    "                            fastk_period=5, \n",
    "                            fastd_period=3, fastd_matype=0)"
   ]
  },
  {
   "cell_type": "code",
   "execution_count": 14,
   "id": "a370ab37-55be-4f05-a5ba-1433ed2d3390",
   "metadata": {},
   "outputs": [
    {
     "data": {
      "text/plain": [
       "날짜\n",
       "2021-12-24    92.500000\n",
       "2021-12-27    81.818182\n",
       "2021-12-28    75.000000\n",
       "2021-12-29    13.043478\n",
       "2021-12-30     7.407407\n",
       "dtype: float64"
      ]
     },
     "execution_count": 14,
     "metadata": {},
     "output_type": "execute_result"
    }
   ],
   "source": [
    "fastk.tail()"
   ]
  },
  {
   "cell_type": "markdown",
   "id": "2ab8b1e0-9d02-458b-b7c9-1721de446411",
   "metadata": {},
   "source": [
    "## df 값 비교"
   ]
  },
  {
   "cell_type": "code",
   "execution_count": 15,
   "id": "7417851c-3bd4-4cd2-a568-9a5de880e124",
   "metadata": {},
   "outputs": [
    {
     "data": {
      "text/html": [
       "<div>\n",
       "<style scoped>\n",
       "    .dataframe tbody tr th:only-of-type {\n",
       "        vertical-align: middle;\n",
       "    }\n",
       "\n",
       "    .dataframe tbody tr th {\n",
       "        vertical-align: top;\n",
       "    }\n",
       "\n",
       "    .dataframe thead th {\n",
       "        text-align: right;\n",
       "    }\n",
       "</style>\n",
       "<table border=\"1\" class=\"dataframe\">\n",
       "  <thead>\n",
       "    <tr style=\"text-align: right;\">\n",
       "      <th></th>\n",
       "      <th>Open</th>\n",
       "      <th>High</th>\n",
       "      <th>Low</th>\n",
       "      <th>Close</th>\n",
       "      <th>Volume</th>\n",
       "      <th>fast_k</th>\n",
       "      <th>slow_k</th>\n",
       "      <th>slow_d</th>\n",
       "    </tr>\n",
       "    <tr>\n",
       "      <th>날짜</th>\n",
       "      <th></th>\n",
       "      <th></th>\n",
       "      <th></th>\n",
       "      <th></th>\n",
       "      <th></th>\n",
       "      <th></th>\n",
       "      <th></th>\n",
       "      <th></th>\n",
       "    </tr>\n",
       "  </thead>\n",
       "  <tbody>\n",
       "    <tr>\n",
       "      <th>2021-12-24</th>\n",
       "      <td>80200</td>\n",
       "      <td>80800</td>\n",
       "      <td>80200</td>\n",
       "      <td>80500</td>\n",
       "      <td>12086380</td>\n",
       "      <td>92.500000</td>\n",
       "      <td>96.458333</td>\n",
       "      <td>87.668533</td>\n",
       "    </tr>\n",
       "    <tr>\n",
       "      <th>2021-12-27</th>\n",
       "      <td>80600</td>\n",
       "      <td>80600</td>\n",
       "      <td>79800</td>\n",
       "      <td>80200</td>\n",
       "      <td>10783368</td>\n",
       "      <td>81.818182</td>\n",
       "      <td>90.397727</td>\n",
       "      <td>93.251263</td>\n",
       "    </tr>\n",
       "    <tr>\n",
       "      <th>2021-12-28</th>\n",
       "      <td>80200</td>\n",
       "      <td>80400</td>\n",
       "      <td>79700</td>\n",
       "      <td>80300</td>\n",
       "      <td>18226325</td>\n",
       "      <td>75.000000</td>\n",
       "      <td>83.106061</td>\n",
       "      <td>89.987374</td>\n",
       "    </tr>\n",
       "    <tr>\n",
       "      <th>2021-12-29</th>\n",
       "      <td>80200</td>\n",
       "      <td>80200</td>\n",
       "      <td>78500</td>\n",
       "      <td>78800</td>\n",
       "      <td>19794795</td>\n",
       "      <td>13.043478</td>\n",
       "      <td>56.620553</td>\n",
       "      <td>76.708114</td>\n",
       "    </tr>\n",
       "    <tr>\n",
       "      <th>2021-12-30</th>\n",
       "      <td>78900</td>\n",
       "      <td>79500</td>\n",
       "      <td>78100</td>\n",
       "      <td>78300</td>\n",
       "      <td>14236700</td>\n",
       "      <td>7.407407</td>\n",
       "      <td>31.816962</td>\n",
       "      <td>57.181192</td>\n",
       "    </tr>\n",
       "  </tbody>\n",
       "</table>\n",
       "</div>"
      ],
      "text/plain": [
       "             Open   High    Low  Close    Volume     fast_k     slow_k  \\\n",
       "날짜                                                                       \n",
       "2021-12-24  80200  80800  80200  80500  12086380  92.500000  96.458333   \n",
       "2021-12-27  80600  80600  79800  80200  10783368  81.818182  90.397727   \n",
       "2021-12-28  80200  80400  79700  80300  18226325  75.000000  83.106061   \n",
       "2021-12-29  80200  80200  78500  78800  19794795  13.043478  56.620553   \n",
       "2021-12-30  78900  79500  78100  78300  14236700   7.407407  31.816962   \n",
       "\n",
       "               slow_d  \n",
       "날짜                     \n",
       "2021-12-24  87.668533  \n",
       "2021-12-27  93.251263  \n",
       "2021-12-28  89.987374  \n",
       "2021-12-29  76.708114  \n",
       "2021-12-30  57.181192  "
      ]
     },
     "execution_count": 15,
     "metadata": {},
     "output_type": "execute_result"
    }
   ],
   "source": [
    "df.tail()"
   ]
  }
 ],
 "metadata": {
  "kernelspec": {
   "display_name": "Python 3 (ipykernel)",
   "language": "python",
   "name": "python3"
  },
  "language_info": {
   "codemirror_mode": {
    "name": "ipython",
    "version": 3
   },
   "file_extension": ".py",
   "mimetype": "text/x-python",
   "name": "python",
   "nbconvert_exporter": "python",
   "pygments_lexer": "ipython3",
   "version": "3.8.8"
  },
  "toc-autonumbering": true
 },
 "nbformat": 4,
 "nbformat_minor": 5
}
