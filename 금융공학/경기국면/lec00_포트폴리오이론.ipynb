{
 "cells": [
  {
   "cell_type": "markdown",
   "id": "beb74c9e-a1eb-4ad3-8a8f-a6eff8f4c014",
   "metadata": {},
   "source": [
    "<font size=6><b>lec00.현금흐름"
   ]
  },
  {
   "cell_type": "markdown",
   "id": "f9d76000-bb69-4fa4-9f6e-5688716c0fc0",
   "metadata": {},
   "source": [
    "* 단리: 원금 × (1 + 이율 × 기간)\n",
    "* 복리: 원금 × (1 + 이율)기간 <br>\n",
    "<img src=\"https://thebook.io/img/080227/043.jpg\">"
   ]
  },
  {
   "cell_type": "code",
   "execution_count": 28,
   "id": "34ceb256-6a02-4946-9ab8-142dfb0affc3",
   "metadata": {},
   "outputs": [],
   "source": [
    "import numpy as np\n",
    "import matplotlib.pyplot as plt"
   ]
  },
  {
   "cell_type": "markdown",
   "id": "f0d13d82-d010-4d47-8d37-56037131a78d",
   "metadata": {},
   "source": [
    "# 이자율 할인율"
   ]
  },
  {
   "cell_type": "markdown",
   "id": "e2bc5453-a7ae-4698-ab6a-5a8ea276c263",
   "metadata": {},
   "source": [
    "## 단리(Simple Interest), 복리(Compound Interest)\n",
    "* 이율과 기간의 단위가 같아야 한다"
   ]
  },
  {
   "cell_type": "code",
   "execution_count": 33,
   "id": "26d4e4e5-6e2a-44dc-9fd7-fc16ef04fefc",
   "metadata": {},
   "outputs": [
    {
     "data": {
      "text/plain": [
       "10500000.0"
      ]
     },
     "execution_count": 33,
     "metadata": {},
     "output_type": "execute_result"
    }
   ],
   "source": [
    "원금 = 10000000\n",
    "년 = 1 \n",
    "년이자 = 0.05\n",
    "단리 = 원금 * (1 + 년이자 * 년) #10,500,000원\n",
    "단리"
   ]
  },
  {
   "cell_type": "code",
   "execution_count": 34,
   "id": "f1180ddc-613c-4344-bb5d-44284544ce5b",
   "metadata": {},
   "outputs": [
    {
     "data": {
      "text/plain": [
       "10500000.0"
      ]
     },
     "execution_count": 34,
     "metadata": {},
     "output_type": "execute_result"
    }
   ],
   "source": [
    "원금 = 10000000\n",
    "월 = 12 \n",
    "월이자 = 0.05 / 월\n",
    "단리 = 원금 * (1 + 월이자 * 월) #10,500,000원\n",
    "단리"
   ]
  },
  {
   "cell_type": "code",
   "execution_count": 37,
   "id": "fb4d0d6a-685b-4e6c-9fa1-8fe407d0b38b",
   "metadata": {},
   "outputs": [
    {
     "data": {
      "text/plain": [
       "10511618.97881733"
      ]
     },
     "execution_count": 37,
     "metadata": {},
     "output_type": "execute_result"
    }
   ],
   "source": [
    "원금 = 10000000\n",
    "월 = 12 \n",
    "월이자 = 0.05 / 월\n",
    "복리 = 원금 * (1 + 월이자)**월 #10,511,618원\n",
    "복리"
   ]
  },
  {
   "cell_type": "code",
   "execution_count": 29,
   "id": "d4a0dc6b-2600-4b02-af5f-bc2e66fc1bd1",
   "metadata": {},
   "outputs": [
    {
     "name": "stdout",
     "output_type": "stream",
     "text": [
      "[0.0375 0.075  0.1125 0.15   0.1875 0.225  0.2625 0.3    0.3375 0.375\n",
      " 0.4125 0.45   0.4875 0.525  0.5625 0.6    0.6375 0.675  0.7125 0.75\n",
      " 0.7875 0.825  0.8625 0.9    0.9375 0.975  1.0125 1.05   1.0875 1.125 ] [0.0375     0.07640625 0.11677148 0.15865042 0.20209981 0.24717855\n",
      " 0.29394774 0.34247078 0.39281344 0.44504394 0.49923309 0.55545433\n",
      " 0.61378387 0.67430076 0.73708704 0.80222781 0.86981135 0.93992927\n",
      " 1.01267662 1.088152   1.1664577  1.24769986 1.3319886  1.41943818\n",
      " 1.51016711 1.60429838 1.70195956 1.80328305 1.90840616 2.01747139]\n"
     ]
    }
   ],
   "source": [
    "RATE = .0375\n",
    "TERM = 30\n",
    "simple =   (     RATE  * np.ones(TERM)).cumsum()\n",
    "compound = ((1 + RATE) * np.ones(TERM)).cumprod() - 1\n",
    "print(simple, compound)"
   ]
  },
  {
   "cell_type": "code",
   "execution_count": 32,
   "id": "602a82ce-1959-4cb1-ba64-b25ce5358dd0",
   "metadata": {},
   "outputs": [
    {
     "data": {
      "image/png": "[encoded data removed]",
      "text/plain": [
       "<Figure size 432x288 with 1 Axes>"
      ]
     },
     "metadata": {
      "needs_background": "light"
     },
     "output_type": "display_data"
    }
   ],
   "source": [
    "plt.plot(simple, label=\"simple\")\n",
    "plt.plot(compound, label=\"compound\")\n",
    "plt.legend()\n",
    "plt.show()"
   ]
  },
  {
   "cell_type": "markdown",
   "id": "c6064573-8c0f-44f7-b3c8-770bba6341a2",
   "metadata": {
    "tags": []
   },
   "source": [
    "# 자본예산(Capital Budgeting) 투자안평가 : NPV vs. IRR\n",
    "* <b>순현재가치(Net Present Value, NPV)</b>\n",
    "    * 미래에 발생할 일련의 현금흐름을 현재가치로 계산한 것\n",
    "    * $NPV = SUM( 현금흐름/(1+할인율)**기간 )$\n",
    "<p>    \n",
    "* <b>내부수익률(Internal Rate of Return, IRR)</b>\n",
    "    * 사업기간 동안의 현금흐름을 현재가치로 계산한 값이 투자지출과 같아지도록 할인하는 이자율\n",
    "    * NPV가 0인 경우의 할인율\n",
    "    * <b>투자할 돈대비 나중에 벌어들일 수익을 고려했을때 어느정도의 할인율이 나와야 본전이 되는지</b>\n",
    "    * 수익률을 정기적으로 유효하게 측정할 수 없는 대체투자(부동산이나 인프라 자산에 대한 투자)에 많이 이용\n",
    "    * $IRR = SUM( 현금흐름/(1+할인율)**기간 - 초기투자금 ) = 0$"
   ]
  },
  {
   "cell_type": "code",
   "execution_count": 70,
   "id": "e10d770f-d79c-4eba-b603-6684e46452bc",
   "metadata": {},
   "outputs": [],
   "source": [
    "# ! pip install numpy_financial"
   ]
  },
  {
   "cell_type": "markdown",
   "id": "12b1b3b2-0978-4534-a250-c4a90b497d71",
   "metadata": {},
   "source": [
    "## NPV"
   ]
  },
  {
   "cell_type": "markdown",
   "id": "972d3ab4-5317-4cb5-8e92-93cb174f9880",
   "metadata": {},
   "source": [
    "* NVP > 0 인 경우 투자"
   ]
  },
  {
   "cell_type": "code",
   "execution_count": 66,
   "id": "43d8ad76-a76d-4642-a31c-09d8b02a92a5",
   "metadata": {},
   "outputs": [
    {
     "name": "stdout",
     "output_type": "stream",
     "text": [
      "11822.660098522168\n",
      "14559.926229707107\n",
      "17213.705887338452\n",
      "19785.86883602121\n",
      "24134.768460546635\n",
      "5년후:17516.929512135568, 초기투자금: -70000\n"
     ]
    }
   ],
   "source": [
    "현금흐름 = [12000,15000,18000,21000,26000]\n",
    "할인율 = 0.015\n",
    "\n",
    "초기투자비용 = -70000 #초기투자금\n",
    "NPV = 초기투자비용\n",
    "for 기간, 현금흐름 in enumerate(현금유입):\n",
    "    p = 현금흐름 / ((1+0.015)**(기간+1))\n",
    "    NPV = NPV + p\n",
    "    print(p)\n",
    "print(f\"5년후:{NPV}, 초기투자금: -70000\")\n",
    "# NPV"
   ]
  },
  {
   "cell_type": "code",
   "execution_count": 77,
   "id": "6636782a-3c41-40f0-b002-f9b5ab666cfb",
   "metadata": {},
   "outputs": [
    {
     "name": "stdout",
     "output_type": "stream",
     "text": [
      "17516.929512135568\n"
     ]
    }
   ],
   "source": [
    "import numpy_financial as npf\n",
    "cf = [-70000,12000,15000,18000,21000,26000]\n",
    "NPV = npf.npv(할인율, cf)\n",
    "print(NPV)"
   ]
  },
  {
   "cell_type": "markdown",
   "id": "10886fc3-298e-4d2d-af82-a23e9b3fb42d",
   "metadata": {},
   "source": [
    "## IRR"
   ]
  },
  {
   "cell_type": "markdown",
   "id": "7a06c4b7-a984-4f59-a959-eae18b87ade3",
   "metadata": {},
   "source": [
    "* IRR > 기업의 자본비용(시장이자율)일 경우 채택"
   ]
  },
  {
   "cell_type": "code",
   "execution_count": 80,
   "id": "65283bd3-4922-44e6-bcc7-d602651dc6a8",
   "metadata": {},
   "outputs": [],
   "source": [
    "def irr(cashflow, period = 'year'):\n",
    "    ## 기준 기간이 년, 월인지 확인, 기본값은 year\n",
    "    if period == 'month': ## 월로 설정할 경우, 12개월 기준\n",
    "        period = 12\n",
    "    elif period == 'year': \n",
    "        period = 1\n",
    "  \n",
    "    ## Discount Rate 별 NPV 값 구하기\n",
    "    total_npv = 0\n",
    "    irr_npv = []\n",
    "    discount_rates = np.arange(0,1,0.0001)\n",
    "    for irr in discount_rates:\n",
    "        irr_npv.append(total_npv)\n",
    "        total_npv = 0    \n",
    "        for i in range(len(cashflow)):\n",
    "            each_year_npv = cashflow[i]/(1+irr)**(i/period)\n",
    "            total_npv += each_year_npv\n",
    "  \n",
    "    ## IRR 지점 값 찾기 / NPV가 '음->양' 혹은 '양->음'으로 바뀌는 구간 기록\n",
    "    irr_point = [i for i in range(len(irr_npv[1:])) if irr_npv[i] * irr_npv[i+1] < 0 or irr_npv[1:][i] == 0]\n",
    "\n",
    "    ## 그래프 출력\n",
    "    plt.figure(figsize = (10, 4))\n",
    "    plt.rcParams['lines.linewidth'] = 2\n",
    "    plt.rcParams['axes.grid'] = True \n",
    "    plt.axhline(y=0, color='k', linestyle='--', linewidth=2)\n",
    "    plt.axvline(x=0, color='k', linestyle='--', linewidth=2)\n",
    "    plt.plot(discount_rates[1:], irr_npv[1:],color='green')\n",
    "    plt.xlabel('Discount Rate')\n",
    "    plt.ylabel('NPV')\n",
    "\n",
    "    ## IRR이 존재할 경우\n",
    "    if irr_point:\n",
    "        for i in range(len(irr_point)):\n",
    "            point = round(irr_point[i] * 0.0001, 4)\n",
    "            print(i+1,'번째 IRR 지점 :', point)\n",
    "            plt.text(point, -1, 'irr  :  {}'.format(point), fontsize = 13)\n",
    "            plt.axvline(x=point, color='r', linestyle='--', linewidth=2) \n",
    "        return list(map(lambda x : round(x, 4),list(map(lambda x:x * 0.0001,irr_point))))\n",
    "    else:\n",
    "        print('IRR 지점(NPV가 0이 되는 지점)이 없습니다. 그래프를 확인해 주세요.')\n"
   ]
  },
  {
   "cell_type": "code",
   "execution_count": 81,
   "id": "3bb60b32-45ac-41e8-9e12-382e42923b99",
   "metadata": {},
   "outputs": [
    {
     "name": "stdout",
     "output_type": "stream",
     "text": [
      "1 번째 IRR 지점 : 0.0867\n"
     ]
    },
    {
     "data": {
      "text/plain": [
       "[0.0867]"
      ]
     },
     "execution_count": 81,
     "metadata": {},
     "output_type": "execute_result"
    },
    {
     "data": {
      "image/png": "[encoded data removed]",
      "text/plain": [
       "<Figure size 720x288 with 1 Axes>"
      ]
     },
     "metadata": {
      "needs_background": "light"
     },
     "output_type": "display_data"
    }
   ],
   "source": [
    "cf = [-70000,12000,15000,18000,21000,26000]\n",
    "irr(cf)"
   ]
  },
  {
   "cell_type": "code",
   "execution_count": 82,
   "id": "7f978131-1c54-4e9f-86fb-4d272d3f2184",
   "metadata": {},
   "outputs": [
    {
     "name": "stdout",
     "output_type": "stream",
     "text": [
      "1 번째 IRR 지점 : 0.115\n",
      "2 번째 IRR 지점 : 0.4351\n"
     ]
    },
    {
     "data": {
      "text/plain": [
       "[0.115, 0.4351]"
      ]
     },
     "execution_count": 82,
     "metadata": {},
     "output_type": "execute_result"
    },
    {
     "data": {
      "image/png": "[encoded data removed]",
      "text/plain": [
       "<Figure size 720x288 with 1 Axes>"
      ]
     },
     "metadata": {
      "needs_background": "light"
     },
     "output_type": "display_data"
    }
   ],
   "source": [
    "cf = [-100, 255, -160]\n",
    "irr(cf)"
   ]
  },
  {
   "cell_type": "code",
   "execution_count": 74,
   "id": "5f178e63-0d41-481e-a022-de4a2c941572",
   "metadata": {},
   "outputs": [
    {
     "name": "stdout",
     "output_type": "stream",
     "text": [
      "0.08663094803653171\n"
     ]
    }
   ],
   "source": [
    "import numpy_financial as npf\n",
    "cf = [-70000,12000,15000,18000,21000,26000]\n",
    "IRR = npf.irr(cf)\n",
    "print(IRR)"
   ]
  },
  {
   "cell_type": "markdown",
   "id": "70869ec6-d89c-4b0f-b986-e3f98e1d450a",
   "metadata": {},
   "source": [
    "* Discount Rate이 11%와 43% 사이에 있어야 양의 현금흐름을 얻을 수 있는 것이죠. \n",
    "\n",
    " "
   ]
  },
  {
   "cell_type": "markdown",
   "id": "2935d05d-5608-4d34-8f11-9ac58844f532",
   "metadata": {},
   "source": [
    "## 지배원리(dominance principle)"
   ]
  },
  {
   "cell_type": "markdown",
   "id": "9c20c199-0798-4a9b-ac99-688cabf7828b",
   "metadata": {},
   "source": [
    "* 평균-분산 기준(mean-variance criterion)  : 두 포트폴리오 수익률의 표준편차가 동일하다면 기대수익률이 상대적으로 큰 포트폴리오를 선택"
   ]
  },
  {
   "cell_type": "markdown",
   "id": "2d2158e3-8d80-4a3e-958a-de837b7c4a55",
   "metadata": {},
   "source": [
    "# 자산배분\n",
    "* 효율적 포트폴리오를 찾아내는 과정\n",
    "* 정기적 리밸런싱\n",
    "* 효율적 포트폴리오(efficient frontier)"
   ]
  },
  {
   "cell_type": "markdown",
   "id": "8041d633-4a03-46b3-810d-edab8fa34eb3",
   "metadata": {},
   "source": [
    "## 포트폴리오 성과 측정 지표</b>\n",
    "* <b>위험조정성과지표(단위 위험당 초과성과를 나타내는 지표)</b>\n",
    "    * <b>샤프지수 </b>\n",
    "        * 위험 한 단위를 감수할 때 얻을 수 있는 초과수익의 정도를 측정하는 성과지표\n",
    "    * <b>트레이너지수 </b>\n",
    "        * 위험 한 단위당 초과성과(무위험수익률)가 얼마인지를 측정하는 성과지표\n",
    "        * 샤프(분모:총위험척도인 표준편차) , 트레이너지수(분모:시장위험척도인 베타값)\n",
    "    * <b>정보비율 </b>\n",
    "        * 포트폴리오와 벤치마크 수익률 간 변동성 대비 얼마만큼의 초과수익률이 발생하는지 측정하는 성과지표\n",
    "        * 단순히 수익률만 보는 것이 아니라 그 수익률을 올리기 위해 부담한 리스크까지 고려\n",
    "        * ① 벤치마크 수익률과 포트폴리오 수익률 간의 '차이'를 이용하는 방법\n",
    "            * ( 포트폴리오수익률-벤치마크수익률) / 표준편차\n",
    "        * ② 벤치마크 수익률과 포트폴리오 수익률 간의 '회귀분석'을 이용하는 방법\n",
    "            * 젠센알파지수 /  잔차의표준편차\n",
    "* <b>위험조정수익률</b>\n",
    "    * <b>젠센알파 : 포트폴리오 수익률 - 기대수익률(벤치마크수익률==시장수익률)</b>\n",
    "    * <b>최대 낙폭(MDD, Maximum Drawdown)</b>\n",
    "        * 특정 투자 기간 중 포트폴리오의 고점에서 저점까지 최대 누적 손실\n",
    "        * 예) 자산 A: 100, 120, 130, 100, 65, 80, 100, 120, 140, 160<br>\n",
    "          100으로 시작한 자산의 가치는 한때 130까지 올랐다가 그 절반인 65로 떨어졌다면 MDD는 50%   \n",
    "        * 예) 자산 B: 100, 80, 75, 90, 140, 180, 220, 160, 190\n",
    "          220에서 정점에 이른 후 160까지 떨어졌다면 MDD는 (220-160) / 160 = 27%   \n",
    "        "
   ]
  },
  {
   "cell_type": "markdown",
   "id": "126114d0-fc1b-48bf-b0e0-d083ca72a84b",
   "metadata": {},
   "source": [
    "## 포트폴리오 비주얼라이저(Portfolio Visualizer)\n",
    "* ref : https://www.portfoliovisualizer.com/backtest-asset-class-allocation\n",
    "* ref : https://www.portfoliovisualizer.com/"
   ]
  },
  {
   "cell_type": "markdown",
   "id": "8e8cf047-4c11-4bce-8321-82dc93803ac2",
   "metadata": {},
   "source": [
    "<a href=\"https://www.portfoliovisualizer.com/backtest-asset-class-allocation?s=y&mode=1&timePeriod=4&startYear=2018&firstMonth=1&endYear=2022&lastMonth=12&calendarAligned=true&includeYTD=false&initialAmount=10000&annualOperation=1&annualAdjustment=0&inflationAdjusted=true&annualPercentage=0.0&frequency=4&rebalanceType=1&absoluteDeviation=5.0&relativeDeviation=25.0&leverageType=0&leverageRatio=0.0&debtAmount=0&debtInterest=0.0&maintenanceMargin=25.0&leveragedBenchmark=false&benchmark=VFINX&portfolioNames=false&portfolioName1=Portfolio+1&portfolioName2=Portfolio+2&portfolioName3=Portfolio+3&asset1=TotalStockMarket&allocation1_1=50&asset2=GlobalBondHedged&allocation2_1=50\">자산비교</a>"
   ]
  },
  {
   "cell_type": "markdown",
   "id": "01ee7bc0-1fbe-4b3b-b3b5-b462960b829c",
   "metadata": {},
   "source": [
    "* 백테스팅 결과\n",
    "    * Portfolio Return : 기간별 누적수익률\n",
    "    * Metrics : 기술통계 및 위험조정지표\n",
    "    * Annual Returns : 투자 기간별, 자산 클래스별 수익률\n",
    "    * Drawdowns : 최대손실폭\n",
    "    * Assets : 자산 간 상관관계(수익률, 위험)"
   ]
  },
  {
   "cell_type": "markdown",
   "id": "bc6a11ff-a7e1-4a60-8200-cbffc17891e0",
   "metadata": {},
   "source": [
    "# 평균-분산 포트폴리오 이론"
   ]
  },
  {
   "cell_type": "markdown",
   "id": "236a80dd-18be-4ac4-b9ee-7005c1ead232",
   "metadata": {},
   "source": [
    "## 포트폴리오의 기대수익률과 위험\n",
    "    * 분산 투자의 효과\n",
    "    * 투자기회집합은 상관관계가 낮은 주식끼리 결합할수록 극대화된다\n",
    "    * 두 자산 간 상관계수가 1보다 작을 때 투자기회집합선은 왼쪽으로 휜다\n",
    "    * 투자기회집합(E(r):포트폴리오의 기대수익률, σ:수익률의 분산, ρ:상관계수"
   ]
  },
  {
   "cell_type": "markdown",
   "id": "d531932d-dd46-4022-b3a2-0dce71ccab7b",
   "metadata": {},
   "source": [
    "<img src=\"https://thebook.io/img/080227/099.jpg\" width = \"200\">"
   ]
  },
  {
   "cell_type": "markdown",
   "id": "bf498363-761c-408e-824c-7d248fd2e03e",
   "metadata": {},
   "source": [
    "* 경기 국면별 주식 A, B의 수익률"
   ]
  },
  {
   "cell_type": "markdown",
   "id": "2589a496-916f-49f3-a0e3-9c30a2803bfc",
   "metadata": {},
   "source": [
    "<pre>\n",
    "국면  확률   자산A   자산B\n",
    "-----------------------------------\n",
    "호황   1/3    7%      13%\n",
    "횡보   1/3    4%      4%\n",
    "불황   1/3    1%     -5%\n",
    "\n",
    " * 자산A E(r) = 1/3 × 7% + 1/3 × 4% + 1/3 × 1% = 4%\n",
    " * 자산B E(r) = 1/3 × 13% + 1/3 × 4% + 1/3 × -5% = 4%\n",
    "\n",
    " * 자산A 분산 = 1/3 × (7% - 4%)2 + 1/3 × (4% - 4%)2 + 1/3 × (1% - 4%)2 = 0.0006\n",
    " * 자산B 분산 = 1/3 × (13% - 4%)2 + 1/3 × (4% - 4%)2 + 1/3 × (-5% - 4%)2 = 0.0054\n",
    " \n",
    " * 포트폴리오 기대수익률 = (자산A투자비중 × 자산A기대수익률) + (자산B투자비중 × 자산B기대수익률)\n",
    "                       = (50% × 4%) + (50% × 4%) = 4%\n"
   ]
  },
  {
   "cell_type": "code",
   "execution_count": 102,
   "id": "cea8e07a-c7da-4fdc-af9d-3457a75401af",
   "metadata": {},
   "outputs": [
    {
     "name": "stdout",
     "output_type": "stream",
     "text": [
      "A자산_기댓값 : 0.04%\n",
      "B자산_기댓값 : 0.04%\n",
      "포트폴리오_기대수익률 : 0.04%\n"
     ]
    }
   ],
   "source": [
    "A자산_기대수익률 = [ 0.07, 0.04, 0.01 ]\n",
    "B자산_기대수익률 = [ 0.13, 0.04, -0.05 ]\n",
    "경기국면별확률 = [ 1/3, 1/3, 1/3 ]\n",
    "\n",
    "A자산_기댓값 = sum( s*p for s, p in zip(A자산_기대수익률, 경기국면별확률) )\n",
    "B자산_기댓값 = sum( s*p for s, p in zip(B자산_기대수익률, 경기국면별확률) )\n",
    "print(f\"A자산_기댓값 : {A자산_기댓값:.2f}%\")\n",
    "print(f\"B자산_기댓값 : {B자산_기댓값:.2f}%\")\n",
    "\n",
    "포트폴리오_기대수익률 = (0.3*A자산_기댓값) + (0.7*B자산_기댓값)\n",
    "print(f\"포트폴리오_기대수익률 : {포트폴리오_기대수익률:.2f}%\")"
   ]
  },
  {
   "cell_type": "markdown",
   "id": "835fbce6-da60-4c4c-b090-b6387505c68f",
   "metadata": {},
   "source": [
    "## 최소분산포트폴리오\n",
    "## 체계적 위험과 비체계적 위험"
   ]
  },
  {
   "cell_type": "markdown",
   "id": "7f855f55-3794-4b57-b244-66e16eeb02d3",
   "metadata": {},
   "source": [
    "* <b>체계적 위험(systematic risk) == 시장위험(market risk) == <font color=red>베타</font></b>\n",
    "    * 시장 전체와 관련된 위험\n",
    "    * 예) 이자율, 환율, 경기선행지수 등\n",
    "* <b>비체계적 위험(unsystematic risk)</b>\n",
    "    * 개별 주식과 관련된 고유의 위험\n",
    "    * 분산 투자로 제거할 수 있는 위험\n",
    "    * 예) 어닝쇼크, 실적 부진"
   ]
  },
  {
   "cell_type": "markdown",
   "id": "48cda453-d01e-44c4-b1f6-ce08f06f3503",
   "metadata": {},
   "source": [
    "## 무위험자산(risk-free asset)과 최적 자산배분\n",
    "* 이자율, 인플레이션 변화에도 영향을 받지 않아 미래의 현금흐름에 불확실성이 없는 자산\n",
    "* 예) 만기가 짧아 인플레이션, 이자율의 영향을 적게 받는 정부발행채권 등\n",
    "* <b>최적 포트폴리오는 효율적 투자선과 투자자의 무차별곡선이 접하는 점(P와 Q)에서 결정</b>\n",
    "*  무위험자산이 존재하는 경우 자본배분선이 효율적 투자선 상의 가장 우월한 포트폴리오"
   ]
  },
  {
   "cell_type": "markdown",
   "id": "52fe3d02-7fd0-4665-a7d6-838d281b2382",
   "metadata": {},
   "source": [
    "<table><tr><td>\n",
    "<img src=\"https://mblogthumb-phinf.pstatic.net/MjAyMDA1MTZfMjMz/MDAxNTg5NjMwMzg4ODgw.vSrwnCmAQFVGh6GbEw--Hserzk5VVsFu0Rm9E8hZ-oEg.ECtTVPoTH4eZuiX3sja0Zun6216j698vuElo_dX-QUcg.PNG.eun9805/image.png?type=w800\" width=500></td>\n",
    "<td><img src=\"https://mblogthumb-phinf.pstatic.net/MjAyMDA1MTZfMjQx/MDAxNTg5NjMwNzI2OTMy.ch2J5mQexmJzt9y9o63rPF8Em24TdrB5jrSQzdd1BF4g.J3aaD5G-OJTKVnQ7IaWJzusA0454inCAxRe9-zNVp4Qg.PNG.eun9805/image.png?type=w800\" width=500></td></tr></table>"
   ]
  },
  {
   "cell_type": "markdown",
   "id": "2ddaea07-8478-4391-a5e6-ff1c10ac94bc",
   "metadata": {},
   "source": [
    "<img src=\"https://thebook.io/img/080227/129.jpg\">"
   ]
  },
  {
   "cell_type": "markdown",
   "id": "af8a17d3-4294-4799-af64-6012c62e0bb5",
   "metadata": {},
   "source": [
    "## 최적 포트폴리오를 선택"
   ]
  },
  {
   "cell_type": "markdown",
   "id": "976041cc-9b66-4327-b8a5-79e5c2cfd0e4",
   "metadata": {},
   "source": [
    "* 1단계: 지배원리에 따라 전체투자기회집합에서 효율적 투자선을 찾아낸다.\n",
    "* 2단계: 투자자의 기대효율을 극대화하고자 투자자의 위험회피 성향을 보여주는 무차별곡선과 효율적 투자선이 접하는 최적 포트폴리오를 찾아낸다.\n",
    "    * 무차별곡선 : 경제주체가 동일한 효용을 제공하는 재화들의 조합을 연결한 곡선"
   ]
  },
  {
   "cell_type": "markdown",
   "id": "9b36e92e-9ac0-4b8d-8f3c-0ea1707644f2",
   "metadata": {},
   "source": [
    "# 자본자산가격결정모델(Capital Asset Pricing Model, CAPM)"
   ]
  },
  {
   "cell_type": "markdown",
   "id": "08936b4c-fb51-449a-85dc-6b3985941796",
   "metadata": {},
   "source": [
    "* <b>위험과 기대수익률 간의 균형 관계를 보여주는 가격결정이론 </b>\n",
    "* 전체 시장이 균형 상태(수요공급일치하는 가격이 형성된 상태)에서 자산의 균형가격이 위험을 반영해 어떻게 결정되는지를 밝히는 모델\n",
    "* 자산의 리스크에 따라 기대수익률이 결정(수익률이 리스크에 비례, HRHR)"
   ]
  },
  {
   "cell_type": "markdown",
   "id": "cc391f92-95ec-41fd-8c42-424a308fa00a",
   "metadata": {},
   "source": [
    "## 포트폴리오 베타"
   ]
  },
  {
   "cell_type": "markdown",
   "id": "6838b1ca-ec9c-4888-98ec-192ed29ef031",
   "metadata": {},
   "source": [
    "* <font color=red><b>포트폴리오 베타 </b></font>\n",
    "    * <b>시장 변동과 관련해 포트폴리오의 가격 변동성을 상대적으로 나타내주는 지표</b>\n",
    "        * 시장수익률(벤치마크 수익률)이 1%p 변할 때 종목 수익률이 몇 %p 변하는가?   \n",
    "    * 시장에 대한 개별 자산 또는 포트폴리오 민감도를 의미     \n",
    "    * 기술주의 베타는 일반적으로 1.0 이상(시장보다 높은 변동성을 가진다)\n",
    "        * 예) 삼성전자 52주베타 : 1.38 \n",
    "        * https://finance.naver.com/item/coinfo.naver?code=005930\n",
    "        * 예) 한국전력 52주베타 : 0.15 \n",
    "        * https://finance.naver.com/item/coinfo.naver?code=015760"
   ]
  },
  {
   "cell_type": "markdown",
   "id": "0f9f2d99-6fd9-4185-84c5-ba31932b0543",
   "metadata": {},
   "source": [
    "<pre>\n",
    "종목       52주베타   투자금액\n",
    "---------------------------------------\n",
    "삼성전자    1.38      5억원\n",
    "한국전력    0.47      2억원\n",
    "현대차      1.02      3억원\n",
    "\n",
    "포트폴리오 베타 = (1.38*5/10) + (0.47*2/10) + (1.02*3/10) = 1.09\n",
    "\n",
    "<b>[Quiz] 무위험이자율(채권수익률) 4%, 시장포트폴리오 기대수익률 10%, 베타 1.09인 포트폴리오의 기대수익률은?\n",
    "       포트폴리오 기대수익률 = 4% + (10%-4%)×1.09 = 10.54%</b>"
   ]
  },
  {
   "cell_type": "code",
   "execution_count": 106,
   "id": "34485ba7-aa28-4178-9fec-6e6f0b8941d6",
   "metadata": {},
   "outputs": [
    {
     "name": "stdout",
     "output_type": "stream",
     "text": [
      "The portfolio beta is 1.09\n"
     ]
    }
   ],
   "source": [
    "import numpy as np\n",
    "beta52 = [ 1.38, 0.47, 1.02 ]\n",
    "investment = [ 5, 2, 3 ]\n",
    "weights = [ w/10 for w in investment ]\n",
    "beta = np.dot( beta52, weights )\n",
    "print( 'The portfolio beta is {0:0.2f}'.format( beta ) )"
   ]
  },
  {
   "cell_type": "markdown",
   "id": "1ac7f6b8-a58c-49f3-a0d5-e22d1cf436e6",
   "metadata": {},
   "source": [
    "# 블랙-리터만 모델"
   ]
  },
  {
   "cell_type": "markdown",
   "id": "affebce6-1024-4e17-b612-a70957c343ad",
   "metadata": {},
   "source": [
    "* <b>마코위츠 : 평균-분산 모델</b>\n",
    "    * 수익률과 변동성을 토대로 비중을 계산\n",
    "    * 과거 자료만 갖고 기대수익률과 변동성을 다루고 있으므로 투자 대상의 미래가치를 장담하지 못한다. \n",
    "    * 다수 자산에 투자 비중이 배분되지 않고 일부 자산에 과도한 비중으로 투자되는 경우가 발생한다.<br><br>     \n",
    "* <b>샤프 : 자본자산가격결정모델(CAPM)</b> \n",
    "    * 수익률과 변동성에 무위험자산 추가  <br><br>      \n",
    "* <b>블랙-리터만 : 블랙리터만 모델 </b> \n",
    "    * 변동성과 비중을 통해 기대수익률을 계산 \n",
    "    * 평균 분산 모델의 한계점 보완 모델\n",
    "    * '베이즈 정리'를 바탕으로 투자자산군에 대한 투자자 기대를 반영해 이러한 문제들을 효과적으로 제거\n",
    "        * [step1]내재균형수익률을 계산 : 자산 각각의 시가총액 비중\n",
    "        * [step2]사전분포(prior distribution) 설정 : 기대수익률에 대한 분석 또는 전망 이용\n",
    "        * [step3]사후분포(posterior distribution) 설정 : 내재균형수익률과 사전분포(투자자의 분석) 이용\n",
    "        * ref : https://www.portfoliovisualizer.com/black-litterman-model"
   ]
  },
  {
   "cell_type": "markdown",
   "id": "cbcfe45c-8d1c-4142-8587-13c78339e733",
   "metadata": {},
   "source": [
    "1. 시장 비중, 과거 종가 데이터, 무위험이자율 등과 같은 필요한 데이터 수집\n",
    "2. 위험회피계수(λ)\n",
    "3. 위험조정상수(τ)\n",
    "4. 균형기대수익률(π)\n",
    "5. 시장 전망 반영과 결합\n",
    "6. 결합전망기대수익률(E(r)\n",
    "7. 최적 투자 비중<br>\n",
    "<img src=\"https://thebook.io/img/080227/171.jpg\" width=400>"
   ]
  },
  {
   "cell_type": "markdown",
   "id": "cefc96a6-5a8c-4822-a978-e3e76aa76501",
   "metadata": {},
   "source": [
    "<table width=500>\n",
    "<tbody>\n",
    "<tr>\n",
    "<td class=\"w20\">\n",
    "<p class=\"txts dm\">모델</p>\n",
    "</td>\n",
    "<td class=\"w40\">\n",
    "    <p class=\"txts dm\"><font color=red><b>평균-분산 모델</b></font></p>\n",
    "</td>\n",
    "<td class=\"w40\">\n",
    "<p class=\"txts dm\"><font color=red><b>블랙-리터만 모델</b></font></p>\n",
    "</td>\n",
    "</tr>\n",
    "<tr>\n",
    "<td class=\"w20\">\n",
    "<p class=\"txts dm\">개요</p>\n",
    "</td>\n",
    "<td class=\"w40\">\n",
    "<p class=\"txts dl\">자산 간 수익률, 분산, 상관계수를 고려해 위험 대비 수익률이 최대가 되도록 배분</p>\n",
    "</td>\n",
    "<td class=\"w40\">\n",
    "<p class=\"txts dl\">시장포트폴리오를 효율적 배분으로 가정하고, 투자자 전망을 추가하는 방식</p>\n",
    "</td>\n",
    "</tr>\n",
    "<tr>\n",
    "<td class=\"w20\">\n",
    "<p class=\"txts dm\">수익률</p>\n",
    "</td>\n",
    "<td class=\"w40\">\n",
    "<p class=\"txts dl\">과거 자산군별 장기평균수익률을 사용</p>\n",
    "</td>\n",
    "<td class=\"w40\">\n",
    "<p class=\"txts dl\">내재수익률(역최적화 이용)+투자자 전망</p>\n",
    "</td>\n",
    "</tr>\n",
    "<tr>\n",
    "<td class=\"w20\">\n",
    "<p class=\"txts dm\">표준 편차</p>\n",
    "</td>\n",
    "<td class=\"w40\">\n",
    "<p class=\"txts dl\">과거 자산군별 장기표준편차를 사용</p>\n",
    "</td>\n",
    "<td class=\"w40\">\n",
    "<p class=\"txts dl\">자산군별 수익률표준편차+전망 불확실성</p>\n",
    "</td>\n",
    "</tr>\n",
    "<tr>\n",
    "<td class=\"w20\">\n",
    "<p class=\"txts dm\">목적 함수</p>\n",
    "</td>\n",
    "<td class=\"w40\">\n",
    "<p class=\"txts dl\">위험조정수익률 최대화</p>\n",
    "</td>\n",
    "<td class=\"w40\">\n",
    "<p class=\"txts dl\">기대수익률로 최적화하거나, 제한조건에 따라 위험조정수익률을 최대화함</p>\n",
    "</td>\n",
    "</tr>\n",
    "<tr>\n",
    "<td class=\"w20\">\n",
    "<p class=\"txts dm\">장점</p>\n",
    "</td>\n",
    "<td class=\"w40\">\n",
    "<p class=\"txts dl\">자산 분석에 활용</p>\n",
    "</td>\n",
    "<td class=\"w40\">\n",
    "<p class=\"txts dl\">자산별로 기대수익률에 투자자 전망 반영</p>\n",
    "</td>\n",
    "</tr>\n",
    "<tr>\n",
    "<td class=\"w20\">\n",
    "<p class=\"txts dm\">단점</p>\n",
    "</td>\n",
    "<td class=\"w40\">\n",
    "<p class=\"txts dl\">극단적 배분 문제(코너해)</p>\n",
    "</td>\n",
    "<td class=\"w40\">\n",
    "<p class=\"txts dl\">성과가 투자 전망에 좌우되며, 일부 자산의 시장 비중을 구하기 어려움</p>\n",
    "</td>\n",
    "</tr>\n",
    "</tbody>\n",
    "</table>"
   ]
  },
  {
   "cell_type": "markdown",
   "id": "ff1e48af-1d6a-43c1-a4c4-e1dc6c542cdd",
   "metadata": {},
   "source": [
    "# 파마-프렌치(Fama-French) 3팩터 모델\n",
    "* 베타는 죽었다 : <font color=red><b>베타로 측정한 주식의 위험은 수익률을 예측할 수 없다</b></font>\n",
    "* 효율적 시장 이론\n",
    "    * 시장은 효율적이므로 이미 투자자들은 모든 정보를 알고 있으며 가격에 반영돼 있다는 이론\n",
    "    * CAPM 모델에서 자산수익률에 영향을 주는 유일한 요인은 시장수익률 <br><br>\n",
    "* <font color=red><b>다변량 모델을 제안</b></font>\n",
    "    *  CAPM을 기반 +  복수의 리스크 고려\n",
    "    * 시장 리스크, 가치 리스크, 규모 리스크\n",
    "    * 시장, BE/ME(= 주가순자산비율(PBR)의 역수), 시가총액<br><br>\n",
    "* 시장의 평균적 위험프리미엄\n",
    "    * <b>SMB(Small Minus Big)</b>\n",
    "        * 규모(Size) 팩터,  시장가치의 크기 == 소형주 포트폴리오와 대형주 포트폴리오의 수익률 차이\n",
    "    * <b>HML(High Minus Low)</b> \n",
    "        * 가치(Valu) 팩터, 장부가치와 시장가치 사이의 비율(BE/ME)\n",
    "        * BE/ME(PBR의 역수)가 높은(High-book-to-market-equity) 포트폴리오 수익률에서 BE/ME가 낮은(Low-book-to-market-equity) 포트폴리오 수익률을 차감한 값<br><br>\n",
    "* <b>포트폴리오 구성 절차</b>\n",
    "    * [step1] SMB : 기업의 시가총액 기준으로 상위 50%와 하위 50%에 속하는 기업들로 두 개의 포트폴리오(Big, Small)를 구성\n",
    "    * [step2] HML : 장부가/시장가 비율 기준으로 상위 30%, 중위 40%, 하위 30%에 속하는 기업들로 세 개의 포트폴리오(Value, Neutral, Growth)를 구성\n",
    "    * [step3] 서로 교차해 여섯 개의 기업 규모-장부가/시장가(BV, BN, BG, SV, SN, SG) 구성\n",
    "        * SMB =  1/3(SV + SN + SG) - 1/3(BV + BN + BG)\n",
    "        * HML =  1/2(SV + BV) - 1/2(SG + BG)            "
   ]
  },
  {
   "cell_type": "markdown",
   "id": "ef8f10af-6757-426f-8a60-8bbd22a9b9c1",
   "metadata": {
    "tags": []
   },
   "source": [
    "* <b>자본자산가격결정 모델 (CAPM, Capital Asset Pricing Model)</b> \n",
    "    *  전체 시장의 변동성 대비 개별 자산의 민감도\n",
    "    * RE = rf + β(rm – rf)\n",
    "    * $R_i= \\alpha_i + Rf + \\beta_i(Rm-Rf)$\n",
    "        * RE = cost of equity capital               \n",
    "        * rf = risk free rate\n",
    "        * β = beta coefficient              \n",
    "        * Rm = expected market return       \n",
    "        * (rm – rf) = market premium rate\n",
    "<p>\n",
    "* <b>자본자산가격결정 모델 (FF, Fama–French 3 Factor)</b> \n",
    "    * CAPM을 기반으로 한 모델로 <b>[시장(MKT), 가치(HML), 규모(SMB)] 리스크</b> 고려\n",
    "        *  시장, BE/ME(=주가순자산비율(PBR)의 역수),시가총액 \n",
    "        * $RE = rf + β1MKT(rm – rf) + β2(SMB) + β3(HML)$\n",
    "            * SMB= small market capitalisation minus big  → Size Factor  \n",
    "            * HML= high book to price ratio minus low     → Value Factor  \n",
    "    * <font color=red>시가총액이 작고 PBR이 낮은 종목(가치주, 1 이하)일수록 초과수익을 올리기에 유리</font>\n",
    "<p>    \n",
    "* <b> Fama–French 5팩터 모델</b> \n",
    "    * 3팩터 + <b>기업이익(firm profitability), 투자수준(level of investment)</b> 고려"
   ]
  },
  {
   "cell_type": "markdown",
   "id": "5114cd5e-15a2-401b-a829-d3b6c7177c07",
   "metadata": {},
   "source": [
    "<table style=\"border-collapse: collapse; width: 100%; height: 152px;\" border=\"1\" data-ke-align=\"alignLeft\" data-ke-style=\"style12\">\n",
    "<tbody>\n",
    "<tr style=\"height: 19px;\">\n",
    "<td style=\"width: 11.5116%; height: 19px;\">Concept</td>\n",
    "<td style=\"width: 8.25582%; height: 19px;\">Label</td>\n",
    "<td style=\"width: 19.5349%; height: 19px;\">Name</td>\n",
    "<td style=\"width: 60.6977%; height: 19px;\">Description</td>\n",
    "</tr>\n",
    "<tr style=\"height: 19px;\">\n",
    "<td style=\"width: 11.5116%; height: 19px;\">기업 규모</td>\n",
    "<td style=\"width: 8.25582%; height: 19px;\">SMB</td>\n",
    "<td style=\"width: 19.5349%; height: 19px;\">Small Minus Big</td>\n",
    "<td style=\"width: 60.6977%; height: 19px;\">(average return on the 9 small stock portfolios) - (average return on the 9 big stock portfolios)</td>\n",
    "</tr>\n",
    "<tr style=\"height: 19px;\">\n",
    "<td style=\"width: 11.5116%; height: 19px;\">가치</td>\n",
    "<td style=\"width: 8.25582%; height: 19px;\">HML</td>\n",
    "<td style=\"width: 19.5349%; height: 19px;\">High Minus Low</td>\n",
    "<td style=\"width: 60.6977%; height: 19px;\">(average return on the 2 value portfolios) - (average return on the 2 growth portfolios)</td>\n",
    "</tr>\n",
    "<tr style=\"height: 19px;\">\n",
    "<td style=\"width: 11.5116%; height: 19px;\">영업 수익성</td>\n",
    "<td style=\"width: 8.25582%; height: 19px;\">RMW</td>\n",
    "<td style=\"width: 19.5349%; height: 19px;\">Robust Minus Weak</td>\n",
    "<td style=\"width: 60.6977%; height: 19px;\">(average return on the 2 robust operating profitability portfolios) - (average return on the 2 weak operating profitability portfolios)</td>\n",
    "</tr>\n",
    "<tr style=\"height: 38px;\">\n",
    "<td style=\"width: 11.5116%; height: 38px;\">투자</td>\n",
    "<td style=\"width: 8.25582%; height: 38px;\">CMA</td>\n",
    "<td style=\"width: 19.5349%; height: 38px;\">Conservative Minus Aggressive</td>\n",
    "<td style=\"width: 60.6977%; height: 38px;\">(average return on the 2 conservative investment portfolios) - (average return on the 2 aggressive investment portfolios)</td>\n",
    "</tr>\n",
    "<tr style=\"height: 38px;\">\n",
    "<td style=\"width: 11.5116%; height: 38px;\">시장</td>\n",
    "<td style=\"width: 8.25582%; height: 38px;\">Rm-Rf</td>\n",
    "<td style=\"width: 19.5349%; height: 38px;\">Excess return on the market</td>\n",
    "<td style=\"width: 60.6977%; height: 38px;\">(value-weight return of all firms incorporated in the US and listed on the NYSE, AMEX, or NASDAQ at the beginning of month t with 'good' data for t) - (the one-month Treasury bill rate)</td>\n",
    "</tr>\n",
    "</tbody>\n",
    "</table><br>\n",
    "* 기업 규모: 시가총액<br>\n",
    "* 가치: 주식의 장부가치(Book value = 순자산 = 자본)을 시가총액으로 나눈 값 = 1/PBR<br>\n",
    "* 영업 수익성(OP): 매출에서 비용을 뺀 금액<br>\n",
    "* 투자: 투자를 얼마나 보수적/공격적으로 하는지<br>"
   ]
  },
  {
   "cell_type": "code",
   "execution_count": 26,
   "id": "f971a54a-75c6-4ee7-8fad-7ff53ad5fb20",
   "metadata": {},
   "outputs": [
    {
     "data": {
      "text/plain": [
       "297"
      ]
     },
     "execution_count": 26,
     "metadata": {},
     "output_type": "execute_result"
    }
   ],
   "source": [
    "from pandas_datareader.famafrench import get_available_datasets\n",
    "import pandas_datareader.data as web\n",
    "len(get_available_datasets())"
   ]
  },
  {
   "cell_type": "code",
   "execution_count": 27,
   "id": "a26e263e-80da-4269-96cd-9901e054f12a",
   "metadata": {},
   "outputs": [
    {
     "name": "stdout",
     "output_type": "stream",
     "text": [
      "5 Industry Portfolios\n",
      "---------------------\n",
      "\n",
      "This file was created by CMPT_IND_RETS using the 202208 CRSP database. It contains value- and equal-weighted returns for 5 industry portfolios. The portfolios are constructed at the end of June. The annual returns are from January to December. Missing data are indicated by -99.99 or -999. Copyright 2022 Kenneth R. French\n",
      "\n",
      "  0 : Average Value Weighted Returns -- Monthly (59 rows x 5 cols)\n",
      "  1 : Average Equal Weighted Returns -- Monthly (59 rows x 5 cols)\n",
      "  2 : Average Value Weighted Returns -- Annual (5 rows x 5 cols)\n",
      "  3 : Average Equal Weighted Returns -- Annual (5 rows x 5 cols)\n",
      "  4 : Number of Firms in Portfolios (59 rows x 5 cols)\n",
      "  5 : Average Firm Size (59 rows x 5 cols)\n",
      "  6 : Sum of BE / Sum of ME (6 rows x 5 cols)\n",
      "  7 : Value-Weighted Average of BE/ME (6 rows x 5 cols)\n"
     ]
    }
   ],
   "source": [
    "ds = web.DataReader('5_Industry_Portfolios', 'famafrench')\n",
    "print(ds['DESCR'])"
   ]
  },
  {
   "cell_type": "code",
   "execution_count": 28,
   "id": "b04d37a4-e257-48c3-a6a6-51f3d8e1e8e2",
   "metadata": {},
   "outputs": [
    {
     "data": {
      "text/html": [
       "<div>\n",
       "<style scoped>\n",
       "    .dataframe tbody tr th:only-of-type {\n",
       "        vertical-align: middle;\n",
       "    }\n",
       "\n",
       "    .dataframe tbody tr th {\n",
       "        vertical-align: top;\n",
       "    }\n",
       "\n",
       "    .dataframe thead th {\n",
       "        text-align: right;\n",
       "    }\n",
       "</style>\n",
       "<table border=\"1\" class=\"dataframe\">\n",
       "  <thead>\n",
       "    <tr style=\"text-align: right;\">\n",
       "      <th></th>\n",
       "      <th>Cnsmr</th>\n",
       "      <th>Manuf</th>\n",
       "      <th>HiTec</th>\n",
       "      <th>Hlth</th>\n",
       "      <th>Other</th>\n",
       "    </tr>\n",
       "    <tr>\n",
       "      <th>Date</th>\n",
       "      <th></th>\n",
       "      <th></th>\n",
       "      <th></th>\n",
       "      <th></th>\n",
       "      <th></th>\n",
       "    </tr>\n",
       "  </thead>\n",
       "  <tbody>\n",
       "    <tr>\n",
       "      <th>2017-10</th>\n",
       "      <td>517</td>\n",
       "      <td>606</td>\n",
       "      <td>659</td>\n",
       "      <td>602</td>\n",
       "      <td>1041</td>\n",
       "    </tr>\n",
       "    <tr>\n",
       "      <th>2017-11</th>\n",
       "      <td>514</td>\n",
       "      <td>603</td>\n",
       "      <td>651</td>\n",
       "      <td>598</td>\n",
       "      <td>1031</td>\n",
       "    </tr>\n",
       "    <tr>\n",
       "      <th>2017-12</th>\n",
       "      <td>509</td>\n",
       "      <td>601</td>\n",
       "      <td>648</td>\n",
       "      <td>593</td>\n",
       "      <td>1021</td>\n",
       "    </tr>\n",
       "    <tr>\n",
       "      <th>2018-01</th>\n",
       "      <td>505</td>\n",
       "      <td>601</td>\n",
       "      <td>646</td>\n",
       "      <td>593</td>\n",
       "      <td>1016</td>\n",
       "    </tr>\n",
       "    <tr>\n",
       "      <th>2018-02</th>\n",
       "      <td>504</td>\n",
       "      <td>598</td>\n",
       "      <td>641</td>\n",
       "      <td>587</td>\n",
       "      <td>1011</td>\n",
       "    </tr>\n",
       "  </tbody>\n",
       "</table>\n",
       "</div>"
      ],
      "text/plain": [
       "         Cnsmr  Manuf  HiTec  Hlth   Other\n",
       "Date                                      \n",
       "2017-10    517    606    659    602   1041\n",
       "2017-11    514    603    651    598   1031\n",
       "2017-12    509    601    648    593   1021\n",
       "2018-01    505    601    646    593   1016\n",
       "2018-02    504    598    641    587   1011"
      ]
     },
     "execution_count": 28,
     "metadata": {},
     "output_type": "execute_result"
    }
   ],
   "source": [
    "ds[4].head()"
   ]
  },
  {
   "cell_type": "code",
   "execution_count": null,
   "id": "53159996-baba-4e96-99ee-bceccac3d94b",
   "metadata": {},
   "outputs": [],
   "source": []
  },
  {
   "cell_type": "code",
   "execution_count": null,
   "id": "f7faf791-47a7-4d69-ae52-1ab2450d0f23",
   "metadata": {},
   "outputs": [],
   "source": []
  },
  {
   "cell_type": "markdown",
   "id": "ed06bc5c-b50e-4965-a902-9a70c706cd17",
   "metadata": {},
   "source": [
    "https://thebook.io/080227/ch06/03/"
   ]
  },
  {
   "cell_type": "code",
   "execution_count": null,
   "id": "a9f8320f-935d-49c6-b5ac-a83f34804f26",
   "metadata": {},
   "outputs": [],
   "source": []
  }
 ],
 "metadata": {
  "kernelspec": {
   "display_name": "Python 3 (ipykernel)",
   "language": "python",
   "name": "python3"
  },
  "language_info": {
   "codemirror_mode": {
    "name": "ipython",
    "version": 3
   },
   "file_extension": ".py",
   "mimetype": "text/x-python",
   "name": "python",
   "nbconvert_exporter": "python",
   "pygments_lexer": "ipython3",
   "version": "3.8.8"
  },
  "widgets": {
   "application/vnd.jupyter.widget-state+json": {
    "state": {},
    "version_major": 2,
    "version_minor": 0
   }
  }
 },
 "nbformat": 4,
 "nbformat_minor": 5
}
