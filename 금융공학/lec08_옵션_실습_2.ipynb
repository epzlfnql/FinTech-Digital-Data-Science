{
 "cells": [
  {
   "cell_type": "markdown",
   "id": "c76abae5-8f66-4fbd-9231-22fc23c43833",
   "metadata": {},
   "source": [
    "<font size=6><b>Lec08.옵션 실습"
   ]
  },
  {
   "cell_type": "code",
   "execution_count": 1,
   "id": "cce55770-d136-4d5e-821c-e31cb8a3423b",
   "metadata": {},
   "outputs": [
    {
     "data": {
      "text/html": [
       "        <script type=\"text/javascript\">\n",
       "        window.PlotlyConfig = {MathJaxConfig: 'local'};\n",
       "        if (window.MathJax && window.MathJax.Hub && window.MathJax.Hub.Config) {window.MathJax.Hub.Config({SVG: {font: \"STIX-Web\"}});}\n",
       "        if (typeof require !== 'undefined') {\n",
       "        require.undef(\"plotly\");\n",
       "        requirejs.config({\n",
       "            paths: {\n",
       "                'plotly': ['https://cdn.plot.ly/plotly-2.12.1.min']\n",
       "            }\n",
       "        });\n",
       "        require(['plotly'], function(Plotly) {\n",
       "            window._Plotly = Plotly;\n",
       "        });\n",
       "        }\n",
       "        </script>\n",
       "        "
      ]
     },
     "metadata": {},
     "output_type": "display_data"
    }
   ],
   "source": [
    "import numpy as np\n",
    "import scipy.stats as stat\n",
    "import matplotlib.pyplot as plt\n",
    "import seaborn as sns\n",
    "import pandas_datareader.data as web\n",
    "\n",
    "import plotly.graph_objs as go\n",
    "from plotly.offline import download_plotlyjs, init_notebook_mode, iplot\n",
    "from plotly.subplots import make_subplots\n",
    "init_notebook_mode(connected=True)\n",
    "\n",
    "sns.set()\n",
    "import datetime\n",
    "import warnings\n",
    "warnings.filterwarnings('ignore')"
   ]
  },
  {
   "cell_type": "markdown",
   "id": "bd6a67f0-6e64-4b21-b357-b6e32124acf3",
   "metadata": {},
   "source": [
    "# CME 거래소\n",
    "* 범 세계적인 파생 상품거래소를 운영"
   ]
  },
  {
   "cell_type": "markdown",
   "id": "2575f599-2feb-41e2-bd10-0bd55aba04c7",
   "metadata": {
    "tags": []
   },
   "source": [
    "* CME 선물옵션 상품 (거래일 04 Oct 2022 | FINAL)\n",
    "* ref : https://www.cmegroup.com/ko/trading/options.html\n",
    "<div class=\"cmeTableWrapper cmeContentTableWrapper\"><table cellspacing=\"0\" border=\"0\" cellpadding=\"2\" class=\"cmeTable cmeFloatingHead\"><thead class=\"cmeFloatingHeader is-alone\">\n",
    "\t<thead>\n",
    "\t\t<tr>\n",
    "\t\t\t<th scope=\"col\">청산</th>\n",
    "\t\t\t<th scope=\"col\">CME Globex</th>\n",
    "\t\t\t<th scope=\"col\">플로어</th>\n",
    "\t\t\t<th scope=\"col\">CME ClearPort</th>\n",
    "\t\t\t<th id=\"productName\" scope=\"col\">상품명</th>\n",
    "\t\t\t<th scope=\"col\">소그룹</th>\n",
    "\t\t\t<th scope=\"col\">거래소</th>\n",
    "\t\t\t<th scope=\"col\">거래량</th>\n",
    "\t\t\t<th scope=\"col\">미결제약정</th>\n",
    "\t\t</tr>\n",
    "\t</thead>\n",
    "\t<tbody>\n",
    "\t\t<tr class=\"\">\n",
    "\t\t\t<td>HX</td>\n",
    "\t\t\t<td>HXE</td>\n",
    "\t\t\t<td>-</td>\n",
    "\t\t\t<td>HX</td>\n",
    "\t\t\t<th scope=\"row\" class=\"cmeTableLeft\"><a href=\"https://www.cmegroup.com/ko/trading/metals/base/copper_contractSpecs_options.html?optionProductId=797\">Copper Option</a></th>\n",
    "\t\t\t<td>Base</td>\n",
    "\t\t\t<td>COMEX</td>\n",
    "\t\t\t<td class=\"cmeTableRight\">6,025</td>\n",
    "\t\t\t<td class=\"cmeTableRight\">73,258</td>\n",
    "\t\t</tr>\n",
    "\t\t<tr class=\"\">\n",
    "\t\t\t<td>C</td>\n",
    "\t\t\t<td>OZC</td>\n",
    "\t\t\t<td>-</td>\n",
    "\t\t\t<td>C</td>\n",
    "\t\t\t<th scope=\"row\" class=\"cmeTableLeft\"><a href=\"https://www.cmegroup.com/ko/trading/agricultural/grain-and-oilseed/corn_contractSpecs_options.html?optionProductId=301\">Corn Options</a></th>\n",
    "\t\t\t<td>Grains</td>\n",
    "\t\t\t<td>CBOT</td>\n",
    "\t\t\t<td class=\"cmeTableRight\">71,148</td>\n",
    "\t\t\t<td class=\"cmeTableRight\">1,641,494</td>\n",
    "\t\t</tr>\n",
    "\t\t<tr class=\"\">\n",
    "\t\t\t<td>LO</td>\n",
    "\t\t\t<td>LO</td>\n",
    "\t\t\t<td>-</td>\n",
    "\t\t\t<td>LO</td>\n",
    "\t\t\t<th scope=\"row\" class=\"cmeTableLeft\"><a href=\"https://www.cmegroup.com/ko/trading/energy/crude-oil/light-sweet-crude_contractSpecs_options.html?optionProductId=190\">Crude Oil Option</a></th>\n",
    "\t\t\t<td>Crude Oil</td>\n",
    "\t\t\t<td>NYMEX</td>\n",
    "\t\t\t<td class=\"cmeTableRight\">94,182</td>\n",
    "\t\t\t<td class=\"cmeTableRight\">2,419,037</td>\n",
    "\t\t</tr>\n",
    "\t\t<tr class=\"\">\n",
    "\t\t\t<td>NQ</td>\n",
    "\t\t\t<td>NQ</td>\n",
    "\t\t\t<td>-</td>\n",
    "\t\t\t<td>NQ</td>\n",
    "\t\t\t<th scope=\"row\" class=\"cmeTableLeft\"><a href=\"https://www.cmegroup.com/ko/trading/equity-index/us-index/e-mini-nasdaq-100_contractSpecs_options.html?optionProductId=148\">E-mini Nasdaq-100 Options</a></th>\n",
    "\t\t\t<td>Nasdaq</td>\n",
    "\t\t\t<td>CME</td>\n",
    "\t\t\t<td class=\"cmeTableRight\">5,667</td>\n",
    "\t\t\t<td class=\"cmeTableRight\">69,206</td>\n",
    "\t\t</tr>\n",
    "\t\t<tr class=\"\">\n",
    "\t\t\t<td>OG</td>\n",
    "\t\t\t<td>OG</td>\n",
    "\t\t\t<td>-</td>\n",
    "\t\t\t<td>OG</td>\n",
    "\t\t\t<th scope=\"row\" class=\"cmeTableLeft\"><a href=\"https://www.cmegroup.com/ko/trading/metals/precious/gold_contractSpecs_options.html?optionProductId=192\">Gold Option</a></th>\n",
    "\t\t\t<td>Precious</td>\n",
    "\t\t\t<td>COMEX</td>\n",
    "\t\t\t<td class=\"cmeTableRight\">85,614</td>\n",
    "\t\t\t<td class=\"cmeTableRight\">825,822</td>\n",
    "\t\t</tr>\n",
    "\t\t<tr class=\"\">\n",
    "\t\t\t<td>ON</td>\n",
    "\t\t\t<td>ON</td>\n",
    "\t\t\t<td>-</td>\n",
    "\t\t\t<td>ON</td>\n",
    "\t\t\t<th scope=\"row\" class=\"cmeTableLeft\"><a href=\"https://www.cmegroup.com/ko/trading/energy/natural-gas/natural-gas_contractSpecs_options.html?optionProductId=191\">Natural Gas Option (American)</a></th>\n",
    "\t\t\t<td>Natural Gas</td>\n",
    "\t\t\t<td>NYMEX</td>\n",
    "\t\t\t<td class=\"cmeTableRight\">2,282</td>\n",
    "\t\t\t<td class=\"cmeTableRight\">31,613</td>\n",
    "\t\t</tr>\n",
    "\t\t<tr class=\"\">\n",
    "\t\t\t<td>YM</td>\n",
    "\t\t\t<td>OYM</td>\n",
    "\t\t\t<td>-</td>\n",
    "\t\t\t<td>YM</td>\n",
    "\t\t\t<th scope=\"row\" class=\"cmeTableLeft\"><a href=\"https://www.cmegroup.com/ko/trading/equity-index/us-index/e-mini-dow_contractSpecs_options.html?optionProductId=319\">Options on E-mini Dow Jones Industrial Average Index Futures</a></th>\n",
    "\t\t\t<td>Dow Jones</td>\n",
    "\t\t\t<td>CBOT</td>\n",
    "\t\t\t<td class=\"cmeTableRight\">148</td>\n",
    "\t\t\t<td class=\"cmeTableRight\">511</td>\n",
    "\t\t</tr>\n",
    "\t\t<tr class=\"\">\n",
    "\t\t\t<td>SO</td>\n",
    "\t\t\t<td>SO</td>\n",
    "\t\t\t<td>-</td>\n",
    "\t\t\t<td>SO</td>\n",
    "\t\t\t<th scope=\"row\" class=\"cmeTableLeft\"><a href=\"https://www.cmegroup.com/ko/trading/metals/precious/silver_contractSpecs_options.html?optionProductId=193\">Silver Option</a></th>\n",
    "\t\t\t<td>Precious</td>\n",
    "\t\t\t<td>COMEX</td>\n",
    "\t\t\t<td class=\"cmeTableRight\">12,536</td>\n",
    "\t\t\t<td class=\"cmeTableRight\">122,483</td>\n",
    "\t\t</tr>\n",
    "\t\t<tr class=\"\">\n",
    "\t\t\t<td>S</td>\n",
    "\t\t\t<td>OZS</td>\n",
    "\t\t\t<td>-</td>\n",
    "\t\t\t<td>S</td>\n",
    "\t\t\t<th scope=\"row\" class=\"cmeTableLeft\"><a href=\"https://www.cmegroup.com/ko/trading/agricultural/grain-and-oilseed/soybean_contractSpecs_options.html?optionProductId=321\">Soybean Options</a></th>\n",
    "\t\t\t<td>Oilseeds</td>\n",
    "\t\t\t<td>CBOT</td>\n",
    "\t\t\t<td class=\"cmeTableRight\">39,595</td>\n",
    "\t\t\t<td class=\"cmeTableRight\">555,326</td>\n",
    "\t\t</tr>\n",
    "\t</tbody>\n",
    "</table></div>\n",
    "\n",
    "\n",
    "</div>\n",
    "\n",
    "</div>"
   ]
  },
  {
   "cell_type": "markdown",
   "id": "2eb25dcd-5641-444f-9bc0-98c4adfabcc0",
   "metadata": {},
   "source": [
    "* CME 주요 주가지수 선물옵션 상품 (거래일 04 Oct 2022 | FINAL)\n",
    "* ref : https://www.cmegroup.com/ko/trading/equity-index/options-on-futures.html\n",
    "* S&P mini : https://www.cmegroup.com/markets/equities/sp/e-mini-sandp500.contractSpecs.options.html#optionProductId=10032\n",
    "    <table cellspacing=\"0\" border=\"0\" cellpadding=\"2\" class=\"cmeTable cmeFloatingHead\">\n",
    "\t<thead>\n",
    "\t\t<tr>\n",
    "\t\t\t<th scope=\"col\">청산</th>\n",
    "\t\t\t<th scope=\"col\">CME Globex</th>\n",
    "\t\t\t<th scope=\"col\">플로어</th>\n",
    "\t\t\t<th scope=\"col\">CME ClearPort</th>\n",
    "\t\t\t<th id=\"productName\" scope=\"col\">상품명</th>\n",
    "\t\t\t<th scope=\"col\">소그룹</th>\n",
    "\t\t\t<th scope=\"col\">거래소</th>\n",
    "\t\t\t<th scope=\"col\">거래량</th>\n",
    "\t\t\t<th scope=\"col\">미결제약정</th>\n",
    "\t\t</tr>\n",
    "\t</thead>\n",
    "\t<tbody>\n",
    "\t\t<tr class=\"\">\n",
    "\t\t\t<td>EW1</td>\n",
    "\t\t\t<td>EW1</td>\n",
    "\t\t\t<td>-</td>\n",
    "\t\t\t<td>EW1</td>\n",
    "\t\t\t<th scope=\"row\" class=\"cmeTableLeft\"><a href=\"https://www.cmegroup.com/trading/equity-index/us-index/e-mini-sandp500_contractSpecs_options.html?optionProductId=2915\">E-mini S&amp;P 500 Weekly Options - Week 1</a></th>\n",
    "\t\t\t<td>S&amp;P</td>\n",
    "\t\t\t<td>CME</td>\n",
    "\t\t\t<td class=\"cmeTableRight\">186,675</td>\n",
    "\t\t\t<td class=\"cmeTableRight\">376,425</td>\n",
    "\t\t</tr>\n",
    "\t\t<tr class=\"\">\n",
    "\t\t\t<td>ES</td>\n",
    "\t\t\t<td>ES</td>\n",
    "\t\t\t<td>-</td>\n",
    "\t\t\t<td>ES</td>\n",
    "\t\t\t<th scope=\"row\" class=\"cmeTableLeft\"><a href=\"https://www.cmegroup.com/trading/equity-index/us-index/e-mini-sandp500_contractSpecs_options.html?optionProductId=138\">E-mini S&amp;P 500 Options</a></th>\n",
    "\t\t\t<td>S&amp;P</td>\n",
    "\t\t\t<td>CME</td>\n",
    "\t\t\t<td class=\"cmeTableRight\">125,814</td>\n",
    "\t\t\t<td class=\"cmeTableRight\">1,537,207</td>\n",
    "\t\t</tr>\n",
    "\t\t<tr class=\"\">\n",
    "\t\t\t<td>EW2</td>\n",
    "\t\t\t<td>EW2</td>\n",
    "\t\t\t<td>-</td>\n",
    "\t\t\t<td>EW2</td>\n",
    "\t\t\t<th scope=\"row\" class=\"cmeTableLeft\"><a href=\"https://www.cmegroup.com/trading/equity-index/us-index/e-mini-sandp500_contractSpecs_options.html?optionProductId=2916\">E-mini S&amp;P 500 Weekly Options - Week 2</a></th>\n",
    "\t\t\t<td>S&amp;P</td>\n",
    "\t\t\t<td>CME</td>\n",
    "\t\t\t<td class=\"cmeTableRight\">75,333</td>\n",
    "\t\t\t<td class=\"cmeTableRight\">188,319</td>\n",
    "\t\t</tr>\n",
    "\t\t<tr class=\"\">\n",
    "\t\t\t<td>EW</td>\n",
    "\t\t\t<td>EW</td>\n",
    "\t\t\t<td>-</td>\n",
    "\t\t\t<td>EW</td>\n",
    "\t\t\t<th scope=\"row\" class=\"cmeTableLeft\"><a href=\"https://www.cmegroup.com/trading/equity-index/us-index/e-mini-sandp500_contractSpecs_options.html?optionProductId=136\">E-mini S&amp;P 500 EOM Options</a></th>\n",
    "\t\t\t<td>S&amp;P</td>\n",
    "\t\t\t<td>CME</td>\n",
    "\t\t\t<td class=\"cmeTableRight\">67,987</td>\n",
    "\t\t\t<td class=\"cmeTableRight\">485,159</td>\n",
    "\t\t</tr>\n",
    "\t\t<tr class=\"\">\n",
    "\t\t\t<td>EW4</td>\n",
    "\t\t\t<td>EW4</td>\n",
    "\t\t\t<td>-</td>\n",
    "\t\t\t<td>EW4</td>\n",
    "\t\t\t<th scope=\"row\" class=\"cmeTableLeft\"><a href=\"https://www.cmegroup.com/trading/equity-index/us-index/e-mini-sandp500_contractSpecs_options.html?optionProductId=5222\">E-mini S&amp;P 500 Weekly Options - Week 4</a></th>\n",
    "\t\t\t<td>S&amp;P</td>\n",
    "\t\t\t<td>CME</td>\n",
    "\t\t\t<td class=\"cmeTableRight\">16,657</td>\n",
    "\t\t\t<td class=\"cmeTableRight\">65,420</td>\n",
    "\t\t</tr>\n",
    "\t\t<tr class=\"\">\n",
    "\t\t\t<td>NQ</td>\n",
    "\t\t\t<td>NQ</td>\n",
    "\t\t\t<td>-</td>\n",
    "\t\t\t<td>NQ</td>\n",
    "\t\t\t<th scope=\"row\" class=\"cmeTableLeft\"><a href=\"https://www.cmegroup.com/trading/equity-index/us-index/e-mini-nasdaq-100_contractSpecs_options.html?optionProductId=148\">E-mini Nasdaq-100 Options</a></th>\n",
    "\t\t\t<td>Nasdaq</td>\n",
    "\t\t\t<td>CME</td>\n",
    "\t\t\t<td class=\"cmeTableRight\">5,667</td>\n",
    "\t\t\t<td class=\"cmeTableRight\">69,206</td>\n",
    "\t\t</tr>\n",
    "\t\t<tr class=\"\">\n",
    "\t\t\t<td>YM</td>\n",
    "\t\t\t<td>OYM</td>\n",
    "\t\t\t<td>-</td>\n",
    "\t\t\t<td>YM</td>\n",
    "\t\t\t<th scope=\"row\" class=\"cmeTableLeft\"><a href=\"https://www.cmegroup.com/trading/equity-index/us-index/e-mini-dow_contractSpecs_options.html?optionProductId=319\">Options on E-mini Dow Jones Industrial Average Index Futures</a></th>\n",
    "\t\t\t<td>Dow Jones</td>\n",
    "\t\t\t<td>CBOT</td>\n",
    "\t\t\t<td class=\"cmeTableRight\">148</td>\n",
    "\t\t\t<td class=\"cmeTableRight\">511</td>\n",
    "\t\t</tr>\n",
    "\t</tbody>\n",
    "</table>\n"
   ]
  },
  {
   "cell_type": "markdown",
   "id": "eff4e69c-582e-488d-9866-255284292ff7",
   "metadata": {},
   "source": [
    "## 옵션 캘린더\n",
    "* https://www.cmegroup.com/tools-information/quikstrike/options-calendar.html"
   ]
  },
  {
   "cell_type": "code",
   "execution_count": null,
   "id": "6f542f83-d4af-46d4-8f83-15434838c968",
   "metadata": {},
   "outputs": [],
   "source": []
  },
  {
   "cell_type": "markdown",
   "id": "d92f63f3-5f12-4743-9340-79d31111f802",
   "metadata": {
    "tags": []
   },
   "source": [
    "# Data Load\n",
    "* https://finance.yahoo.com/options/highest-open-interest\n",
    "* https://www.cmegroup.com/ko/trading/options.html"
   ]
  },
  {
   "cell_type": "markdown",
   "id": "589721b4-ade8-411c-9fb7-9d315da38429",
   "metadata": {},
   "source": [
    "* (좌) <b>Bid</b> : 구매자들이 구입하려고 부르는 <b>매수 가격</b> --> 판매자입장에선 <font color=red><b>bis 최대 가격에 매도(SELL) : short</b></font>\n",
    "* (우) <b>Ask</b> : 판매자들이 판매하려고 부르는 <b>매도 가격</b> --> 구매자입장에선 <font color=red><b>ask 최소 가격에 매수(BUY) : long</b></font>\n",
    "* Ask(매도가) >  Bid(매수가)\n",
    "* Price : 실제 매매된 가격 : last sell order == bid price\n",
    "* Spred : 가장 높은 bid price - 가장 낮은 ask price사이 가격차\n",
    "* Open Interest : 미결제약정\n",
    "    * 미결제약정 증가 : 거래활발, 현재의 가격 추세를 지속시킬것으로 예측\n",
    "    * 미결제약정 감소 : 거래감소, 현재의 가격 추세를 약화시킬것으로 예측<br><br>\n",
    "<img src=\"https://www.fpmarkets.com/wp-content/themes/fptheme/int/image-2020/Trading-cfds/Group-344-299x220.png\">\n"
   ]
  },
  {
   "cell_type": "code",
   "execution_count": 2,
   "id": "ffb7b09c-986f-4471-a12b-575d615cc67d",
   "metadata": {},
   "outputs": [],
   "source": [
    "# ! pip install --upgrade pandas\n",
    "# ! pip install --upgrade pandas-datareader\n",
    "# ! pip install yfinance --upgrade --no-cache-dir"
   ]
  },
  {
   "cell_type": "markdown",
   "id": "891cbdef-3978-44ba-addb-2f9deaba1847",
   "metadata": {},
   "source": [
    "## pandas_datareader, yfinance 패키지"
   ]
  },
  {
   "cell_type": "code",
   "execution_count": 3,
   "id": "31efea52-2fce-45d5-b966-238a8354e51e",
   "metadata": {},
   "outputs": [
    {
     "data": {
      "text/html": [
       "<div>\n",
       "<style scoped>\n",
       "    .dataframe tbody tr th:only-of-type {\n",
       "        vertical-align: middle;\n",
       "    }\n",
       "\n",
       "    .dataframe tbody tr th {\n",
       "        vertical-align: top;\n",
       "    }\n",
       "\n",
       "    .dataframe thead th {\n",
       "        text-align: right;\n",
       "    }\n",
       "</style>\n",
       "<table border=\"1\" class=\"dataframe\">\n",
       "  <thead>\n",
       "    <tr style=\"text-align: right;\">\n",
       "      <th></th>\n",
       "      <th>High</th>\n",
       "      <th>Low</th>\n",
       "      <th>Open</th>\n",
       "      <th>Close</th>\n",
       "      <th>Volume</th>\n",
       "      <th>Adj Close</th>\n",
       "    </tr>\n",
       "    <tr>\n",
       "      <th>Date</th>\n",
       "      <th></th>\n",
       "      <th></th>\n",
       "      <th></th>\n",
       "      <th></th>\n",
       "      <th></th>\n",
       "      <th></th>\n",
       "    </tr>\n",
       "  </thead>\n",
       "  <tbody>\n",
       "    <tr>\n",
       "      <th>2019-12-31</th>\n",
       "      <td>28.086000</td>\n",
       "      <td>26.805332</td>\n",
       "      <td>27.000000</td>\n",
       "      <td>27.888666</td>\n",
       "      <td>154285500.0</td>\n",
       "      <td>27.888666</td>\n",
       "    </tr>\n",
       "    <tr>\n",
       "      <th>2020-01-02</th>\n",
       "      <td>28.713333</td>\n",
       "      <td>28.114000</td>\n",
       "      <td>28.299999</td>\n",
       "      <td>28.684000</td>\n",
       "      <td>142981500.0</td>\n",
       "      <td>28.684000</td>\n",
       "    </tr>\n",
       "    <tr>\n",
       "      <th>2020-01-03</th>\n",
       "      <td>30.266666</td>\n",
       "      <td>29.128000</td>\n",
       "      <td>29.366667</td>\n",
       "      <td>29.534000</td>\n",
       "      <td>266677500.0</td>\n",
       "      <td>29.534000</td>\n",
       "    </tr>\n",
       "    <tr>\n",
       "      <th>2020-01-06</th>\n",
       "      <td>30.104000</td>\n",
       "      <td>29.333332</td>\n",
       "      <td>29.364668</td>\n",
       "      <td>30.102667</td>\n",
       "      <td>151995000.0</td>\n",
       "      <td>30.102667</td>\n",
       "    </tr>\n",
       "    <tr>\n",
       "      <th>2020-01-07</th>\n",
       "      <td>31.441999</td>\n",
       "      <td>30.224001</td>\n",
       "      <td>30.760000</td>\n",
       "      <td>31.270666</td>\n",
       "      <td>268231500.0</td>\n",
       "      <td>31.270666</td>\n",
       "    </tr>\n",
       "  </tbody>\n",
       "</table>\n",
       "</div>"
      ],
      "text/plain": [
       "                 High        Low       Open      Close       Volume  Adj Close\n",
       "Date                                                                          \n",
       "2019-12-31  28.086000  26.805332  27.000000  27.888666  154285500.0  27.888666\n",
       "2020-01-02  28.713333  28.114000  28.299999  28.684000  142981500.0  28.684000\n",
       "2020-01-03  30.266666  29.128000  29.366667  29.534000  266677500.0  29.534000\n",
       "2020-01-06  30.104000  29.333332  29.364668  30.102667  151995000.0  30.102667\n",
       "2020-01-07  31.441999  30.224001  30.760000  31.270666  268231500.0  31.270666"
      ]
     },
     "execution_count": 3,
     "metadata": {},
     "output_type": "execute_result"
    }
   ],
   "source": [
    "from datetime import datetime\n",
    "import yfinance as yf\n",
    "import pandas_datareader.data as pdr\n",
    "import pandas as pd\n",
    "\n",
    "# yf.pdr_override()\n",
    "\n",
    "start = datetime.strptime('2020-01-01', '%Y-%m-%d')\n",
    "end   = datetime.strptime('2020-12-31', '%Y-%m-%d')\n",
    "\n",
    "# sp500 = pdr.get_data_yahoo(\"^GSPC\", start, end) #['Adj Close']\n",
    "sp500 = pdr.get_data_yahoo(\"TSLA\", start, end) #['Adj Close']\n",
    "sp500.head()"
   ]
  },
  {
   "cell_type": "markdown",
   "id": "a12a76a9-d1d8-4b47-86cf-950c8b823626",
   "metadata": {},
   "source": [
    "## Qunat Price app\n",
    "* ref : https://quantprice.herokuapp.com/api/v1.1/scoop/period?tickers=IBM,MSFT&begin=2012-02-19"
   ]
  },
  {
   "cell_type": "code",
   "execution_count": null,
   "id": "e04f54b5-e4c6-4c0f-ba3b-9942b1c1cc06",
   "metadata": {},
   "outputs": [],
   "source": []
  },
  {
   "cell_type": "markdown",
   "id": "f67b2d40-691f-4c71-811c-9c1c133faee9",
   "metadata": {},
   "source": [
    "## yahoo_fin 패키지\n",
    "* ref : https://finance.yahoo.com/quote/MSFT/history?p=MSFT\n",
    "* ref : https://finance.yahoo.com/quote/MSFT/history?period1=1633392000&period2=1664928000&interval=1d&filter=history&frequency=1d&includeAdjustedClose=true\n",
    "* ref : http://theautomatic.net/2019/04/17/how-to-get-options-data-with-python/"
   ]
  },
  {
   "cell_type": "code",
   "execution_count": 4,
   "id": "abcd0aaa-c1f7-4edd-a5a5-ff5f4b86cb68",
   "metadata": {},
   "outputs": [],
   "source": [
    "# ! pip install yahoo_fin\n",
    "# ! pip install html5lib"
   ]
  },
  {
   "cell_type": "markdown",
   "id": "52e986c4-88a4-40e5-a70b-6cad8ea6e962",
   "metadata": {},
   "source": [
    "### 종목선정"
   ]
  },
  {
   "cell_type": "code",
   "execution_count": 5,
   "id": "e33fbad7-a4fa-4f85-a6fd-2a0bfed149ee",
   "metadata": {},
   "outputs": [
    {
     "name": "stdout",
     "output_type": "stream",
     "text": [
      "['October 7, 2022', 'October 14, 2022', 'October 21, 2022', 'October 28, 2022', 'November 4, 2022', 'November 11, 2022', 'November 18, 2022', 'December 16, 2022', 'January 20, 2023', 'February 17, 2023', 'March 17, 2023', 'April 21, 2023', 'June 16, 2023', 'September 15, 2023', 'January 19, 2024', 'March 15, 2024', 'June 21, 2024', 'January 17, 2025']\n"
     ]
    }
   ],
   "source": [
    "from yahoo_fin import options\n",
    "\n",
    "# https://www.cmegroup.com/markets/equities/sp/e-mini-sandp500.contractSpecs.options.html\n",
    "# PRODUCT CODE : CME Globex: ES, EYC, TESLA\n",
    "MY_PROD_CODE__ = 'TSLA' #'ES'\n",
    "\n",
    "exp_date = options.get_expiration_dates(MY_PROD_CODE__)\n",
    "print(exp_date)\n",
    "\n",
    "# 옵션 만료일자 \n",
    "MY_EXP_DATE__ = 'October 7, 2022' #'November 18, 2022'"
   ]
  },
  {
   "cell_type": "markdown",
   "id": "12cc87d1-2c87-4ebd-ae7d-5e6a16b7d343",
   "metadata": {},
   "source": [
    "### call put 모두 가져오기"
   ]
  },
  {
   "cell_type": "code",
   "execution_count": 6,
   "id": "caa5ab35-a404-44f9-a31d-a17610841e00",
   "metadata": {},
   "outputs": [
    {
     "data": {
      "text/html": [
       "<div>\n",
       "<style scoped>\n",
       "    .dataframe tbody tr th:only-of-type {\n",
       "        vertical-align: middle;\n",
       "    }\n",
       "\n",
       "    .dataframe tbody tr th {\n",
       "        vertical-align: top;\n",
       "    }\n",
       "\n",
       "    .dataframe thead th {\n",
       "        text-align: right;\n",
       "    }\n",
       "</style>\n",
       "<table border=\"1\" class=\"dataframe\">\n",
       "  <thead>\n",
       "    <tr style=\"text-align: right;\">\n",
       "      <th></th>\n",
       "      <th>Contract Name</th>\n",
       "      <th>Last Trade Date</th>\n",
       "      <th>Strike</th>\n",
       "      <th>Last Price</th>\n",
       "      <th>Bid</th>\n",
       "      <th>Ask</th>\n",
       "      <th>Change</th>\n",
       "      <th>% Change</th>\n",
       "      <th>Volume</th>\n",
       "      <th>Open Interest</th>\n",
       "      <th>Implied Volatility</th>\n",
       "    </tr>\n",
       "  </thead>\n",
       "  <tbody>\n",
       "    <tr>\n",
       "      <th>0</th>\n",
       "      <td>TSLA221007C00100000</td>\n",
       "      <td>2022-10-04 3:54PM EDT</td>\n",
       "      <td>100.0</td>\n",
       "      <td>149.20</td>\n",
       "      <td>0.00</td>\n",
       "      <td>0.00</td>\n",
       "      <td>0.0</td>\n",
       "      <td>-</td>\n",
       "      <td>18</td>\n",
       "      <td>0</td>\n",
       "      <td>0.00%</td>\n",
       "    </tr>\n",
       "    <tr>\n",
       "      <th>1</th>\n",
       "      <td>TSLA221007C00110000</td>\n",
       "      <td>2022-10-03 3:41PM EDT</td>\n",
       "      <td>110.0</td>\n",
       "      <td>134.08</td>\n",
       "      <td>0.00</td>\n",
       "      <td>0.00</td>\n",
       "      <td>0.0</td>\n",
       "      <td>-</td>\n",
       "      <td>7</td>\n",
       "      <td>0</td>\n",
       "      <td>0.00%</td>\n",
       "    </tr>\n",
       "  </tbody>\n",
       "</table>\n",
       "</div>"
      ],
      "text/plain": [
       "         Contract Name        Last Trade Date  Strike  Last Price   Bid   Ask  \\\n",
       "0  TSLA221007C00100000  2022-10-04 3:54PM EDT   100.0      149.20  0.00  0.00   \n",
       "1  TSLA221007C00110000  2022-10-03 3:41PM EDT   110.0      134.08  0.00  0.00   \n",
       "\n",
       "   Change % Change Volume Open Interest Implied Volatility  \n",
       "0     0.0        -     18             0              0.00%  \n",
       "1     0.0        -      7             0              0.00%  "
      ]
     },
     "execution_count": 6,
     "metadata": {},
     "output_type": "execute_result"
    }
   ],
   "source": [
    "df = options.get_options_chain(MY_PROD_CODE__, MY_EXP_DATE__)\n",
    "df[\"calls\"].head(2)\n",
    "# print(chain[\"puts\"])"
   ]
  },
  {
   "cell_type": "code",
   "execution_count": 7,
   "id": "abffd908-282e-4ec3-823c-215aeb4db70a",
   "metadata": {},
   "outputs": [
    {
     "data": {
      "text/html": [
       "<div>\n",
       "<style scoped>\n",
       "    .dataframe tbody tr th:only-of-type {\n",
       "        vertical-align: middle;\n",
       "    }\n",
       "\n",
       "    .dataframe tbody tr th {\n",
       "        vertical-align: top;\n",
       "    }\n",
       "\n",
       "    .dataframe thead th {\n",
       "        text-align: right;\n",
       "    }\n",
       "</style>\n",
       "<table border=\"1\" class=\"dataframe\">\n",
       "  <thead>\n",
       "    <tr style=\"text-align: right;\">\n",
       "      <th></th>\n",
       "      <th>Contract Name</th>\n",
       "      <th>Last Trade Date</th>\n",
       "      <th>Strike</th>\n",
       "      <th>Last Price</th>\n",
       "      <th>Bid</th>\n",
       "      <th>Ask</th>\n",
       "      <th>Change</th>\n",
       "      <th>% Change</th>\n",
       "      <th>Volume</th>\n",
       "      <th>Open Interest</th>\n",
       "      <th>Implied Volatility</th>\n",
       "    </tr>\n",
       "  </thead>\n",
       "  <tbody>\n",
       "    <tr>\n",
       "      <th>0</th>\n",
       "      <td>TSLA221007P00100000</td>\n",
       "      <td>2022-10-05 3:47PM EDT</td>\n",
       "      <td>100.0</td>\n",
       "      <td>0.01</td>\n",
       "      <td>0.00</td>\n",
       "      <td>0.00</td>\n",
       "      <td>0.0</td>\n",
       "      <td>-</td>\n",
       "      <td>26</td>\n",
       "      <td>0</td>\n",
       "      <td>50.00%</td>\n",
       "    </tr>\n",
       "    <tr>\n",
       "      <th>1</th>\n",
       "      <td>TSLA221007P00110000</td>\n",
       "      <td>2022-10-03 1:44PM EDT</td>\n",
       "      <td>110.0</td>\n",
       "      <td>0.01</td>\n",
       "      <td>0.00</td>\n",
       "      <td>0.00</td>\n",
       "      <td>0.0</td>\n",
       "      <td>-</td>\n",
       "      <td>218</td>\n",
       "      <td>0</td>\n",
       "      <td>50.00%</td>\n",
       "    </tr>\n",
       "  </tbody>\n",
       "</table>\n",
       "</div>"
      ],
      "text/plain": [
       "         Contract Name        Last Trade Date  Strike  Last Price   Bid   Ask  \\\n",
       "0  TSLA221007P00100000  2022-10-05 3:47PM EDT   100.0        0.01  0.00  0.00   \n",
       "1  TSLA221007P00110000  2022-10-03 1:44PM EDT   110.0        0.01  0.00  0.00   \n",
       "\n",
       "   Change % Change Volume Open Interest Implied Volatility  \n",
       "0     0.0        -     26             0             50.00%  \n",
       "1     0.0        -    218             0             50.00%  "
      ]
     },
     "execution_count": 7,
     "metadata": {},
     "output_type": "execute_result"
    }
   ],
   "source": [
    "df[\"puts\"].head(2)"
   ]
  },
  {
   "cell_type": "markdown",
   "id": "99d1ed38-1fc2-4a59-9a9e-2473e3d2c97d",
   "metadata": {},
   "source": [
    "### call put 각각 가져오기"
   ]
  },
  {
   "cell_type": "code",
   "execution_count": 8,
   "id": "4ee76d9b-787d-420b-a76a-4e5b5714592a",
   "metadata": {},
   "outputs": [
    {
     "data": {
      "text/html": [
       "<div>\n",
       "<style scoped>\n",
       "    .dataframe tbody tr th:only-of-type {\n",
       "        vertical-align: middle;\n",
       "    }\n",
       "\n",
       "    .dataframe tbody tr th {\n",
       "        vertical-align: top;\n",
       "    }\n",
       "\n",
       "    .dataframe thead th {\n",
       "        text-align: right;\n",
       "    }\n",
       "</style>\n",
       "<table border=\"1\" class=\"dataframe\">\n",
       "  <thead>\n",
       "    <tr style=\"text-align: right;\">\n",
       "      <th></th>\n",
       "      <th>Contract Name</th>\n",
       "      <th>Last Trade Date</th>\n",
       "      <th>Strike</th>\n",
       "      <th>Last Price</th>\n",
       "      <th>Bid</th>\n",
       "      <th>Ask</th>\n",
       "      <th>Change</th>\n",
       "      <th>% Change</th>\n",
       "      <th>Volume</th>\n",
       "      <th>Open Interest</th>\n",
       "      <th>Implied Volatility</th>\n",
       "    </tr>\n",
       "  </thead>\n",
       "  <tbody>\n",
       "    <tr>\n",
       "      <th>0</th>\n",
       "      <td>TSLA221007C00100000</td>\n",
       "      <td>2022-10-04 3:54PM EDT</td>\n",
       "      <td>100.0</td>\n",
       "      <td>149.20</td>\n",
       "      <td>0.00</td>\n",
       "      <td>0.00</td>\n",
       "      <td>0.0</td>\n",
       "      <td>-</td>\n",
       "      <td>18</td>\n",
       "      <td>0</td>\n",
       "      <td>0.00%</td>\n",
       "    </tr>\n",
       "    <tr>\n",
       "      <th>1</th>\n",
       "      <td>TSLA221007C00110000</td>\n",
       "      <td>2022-10-03 3:41PM EDT</td>\n",
       "      <td>110.0</td>\n",
       "      <td>134.08</td>\n",
       "      <td>0.00</td>\n",
       "      <td>0.00</td>\n",
       "      <td>0.0</td>\n",
       "      <td>-</td>\n",
       "      <td>7</td>\n",
       "      <td>0</td>\n",
       "      <td>0.00%</td>\n",
       "    </tr>\n",
       "  </tbody>\n",
       "</table>\n",
       "</div>"
      ],
      "text/plain": [
       "         Contract Name        Last Trade Date  Strike  Last Price   Bid   Ask  \\\n",
       "0  TSLA221007C00100000  2022-10-04 3:54PM EDT   100.0      149.20  0.00  0.00   \n",
       "1  TSLA221007C00110000  2022-10-03 3:41PM EDT   110.0      134.08  0.00  0.00   \n",
       "\n",
       "   Change % Change Volume Open Interest Implied Volatility  \n",
       "0     0.0        -     18             0              0.00%  \n",
       "1     0.0        -      7             0              0.00%  "
      ]
     },
     "execution_count": 8,
     "metadata": {},
     "output_type": "execute_result"
    }
   ],
   "source": [
    "cdf = options.get_calls(MY_PROD_CODE__, MY_EXP_DATE__)\n",
    "cdf.head(2)"
   ]
  },
  {
   "cell_type": "code",
   "execution_count": 9,
   "id": "9eb4eb55-8ecc-4606-a11c-27ba52d9209c",
   "metadata": {},
   "outputs": [
    {
     "data": {
      "text/html": [
       "<div>\n",
       "<style scoped>\n",
       "    .dataframe tbody tr th:only-of-type {\n",
       "        vertical-align: middle;\n",
       "    }\n",
       "\n",
       "    .dataframe tbody tr th {\n",
       "        vertical-align: top;\n",
       "    }\n",
       "\n",
       "    .dataframe thead th {\n",
       "        text-align: right;\n",
       "    }\n",
       "</style>\n",
       "<table border=\"1\" class=\"dataframe\">\n",
       "  <thead>\n",
       "    <tr style=\"text-align: right;\">\n",
       "      <th></th>\n",
       "      <th>Contract Name</th>\n",
       "      <th>Last Trade Date</th>\n",
       "      <th>Strike</th>\n",
       "      <th>Last Price</th>\n",
       "      <th>Bid</th>\n",
       "      <th>Ask</th>\n",
       "      <th>Change</th>\n",
       "      <th>% Change</th>\n",
       "      <th>Volume</th>\n",
       "      <th>Open Interest</th>\n",
       "      <th>Implied Volatility</th>\n",
       "    </tr>\n",
       "  </thead>\n",
       "  <tbody>\n",
       "    <tr>\n",
       "      <th>0</th>\n",
       "      <td>TSLA221007P00100000</td>\n",
       "      <td>2022-10-05 3:47PM EDT</td>\n",
       "      <td>100.0</td>\n",
       "      <td>0.01</td>\n",
       "      <td>0.00</td>\n",
       "      <td>0.00</td>\n",
       "      <td>0.0</td>\n",
       "      <td>-</td>\n",
       "      <td>26</td>\n",
       "      <td>0</td>\n",
       "      <td>50.00%</td>\n",
       "    </tr>\n",
       "    <tr>\n",
       "      <th>1</th>\n",
       "      <td>TSLA221007P00110000</td>\n",
       "      <td>2022-10-03 1:44PM EDT</td>\n",
       "      <td>110.0</td>\n",
       "      <td>0.01</td>\n",
       "      <td>0.00</td>\n",
       "      <td>0.00</td>\n",
       "      <td>0.0</td>\n",
       "      <td>-</td>\n",
       "      <td>218</td>\n",
       "      <td>0</td>\n",
       "      <td>50.00%</td>\n",
       "    </tr>\n",
       "  </tbody>\n",
       "</table>\n",
       "</div>"
      ],
      "text/plain": [
       "         Contract Name        Last Trade Date  Strike  Last Price   Bid   Ask  \\\n",
       "0  TSLA221007P00100000  2022-10-05 3:47PM EDT   100.0        0.01  0.00  0.00   \n",
       "1  TSLA221007P00110000  2022-10-03 1:44PM EDT   110.0        0.01  0.00  0.00   \n",
       "\n",
       "   Change % Change Volume Open Interest Implied Volatility  \n",
       "0     0.0        -     26             0             50.00%  \n",
       "1     0.0        -    218             0             50.00%  "
      ]
     },
     "execution_count": 9,
     "metadata": {},
     "output_type": "execute_result"
    }
   ],
   "source": [
    "pdf = options.get_puts(MY_PROD_CODE__, MY_EXP_DATE__) # \"04/11/22\")\n",
    "pdf.head(2)"
   ]
  },
  {
   "cell_type": "markdown",
   "id": "24836c07-5ae3-47d4-a71f-01d649da92e2",
   "metadata": {
    "tags": []
   },
   "source": [
    "### YahooOptions() 현재 에러\n",
    "* RemoteDataError: Unable to read URL: https://query1.finance.yahoo.com/v7/finance/options/TSLA\n",
    "   Response Text: b'Forbidden'"
   ]
  },
  {
   "cell_type": "markdown",
   "id": "a61ecc52-c96c-43a3-af0d-c08453df4db3",
   "metadata": {
    "tags": []
   },
   "source": [
    "* interval  : [1m, 2m, 5m, 15m, 30m, 60m, 90m, 1h, 1d, 5d, 1wk, 1mo, 3mo]\n",
    "* period1=1510340760  #start date e.g. \n",
    "* period2=1510663712  #start date e.g. "
   ]
  },
  {
   "cell_type": "code",
   "execution_count": 10,
   "id": "70d7ffc2-db2c-422c-9ce9-c3ae2cef29be",
   "metadata": {},
   "outputs": [
    {
     "name": "stdout",
     "output_type": "stream",
     "text": [
      "1664204400.0\n",
      "1664981999.0\n",
      "1664981999.0\n"
     ]
    }
   ],
   "source": [
    "import datetime\n",
    "import time\n",
    "\n",
    "# -------------- str --> timestamp\n",
    "s = '2022-09-27 00:00:00'\n",
    "ts = time.mktime(datetime.datetime.strptime(s, '%Y-%m-%d %H:%M:%S').timetuple())\n",
    "print(ts)\n",
    "# 1522033932.0\n",
    "s = '2022-10-05 23:59:59'\n",
    "ts = time.mktime(datetime.datetime.strptime(s, '%Y-%m-%d %H:%M:%S').timetuple())\n",
    "print(ts)\n",
    "\n",
    "# -------------- datetime --> timestamp\n",
    "timestamp = time.mktime(pd.to_datetime(s).timetuple())\n",
    "print(timestamp)\n",
    "# 1522049257.0\n"
   ]
  },
  {
   "cell_type": "code",
   "execution_count": 11,
   "id": "5400c480-da40-467c-9b89-cfc4a1114f21",
   "metadata": {},
   "outputs": [],
   "source": [
    "# import pandas_datareader.data as web\n",
    "# https://query1.finance.yahoo.com/v7/finance/options/TSLA\n",
    "\n",
    "# startDate = datetime.datetime(2016, 8, 15)\n",
    "# endDate = datetime.datetime(2016, 8, 17)\n",
    "\n",
    "# TSLA = web.YahooOptions('TSLA')  \n",
    "# option_df = TSLA.get_all_data()\n",
    "# option_df.reset_index(inplace=True)\n",
    "\n",
    "# exp1 = option_df[option_df.Expiry == TSLA.expiry_dates[1]]\n",
    "# calls = exp1[exp1.Type=='call']\n",
    "# calls['C'] = (calls.Bid+calls.Ask)/2\n",
    "# puts = exp1[exp1.Type=='put']\n",
    "# puts['P'] = (puts.Bid+puts.Ask)/2\n",
    "\n",
    "# df = pd.merge(calls, puts, how='inner', on ='Strike')\n",
    "# df"
   ]
  },
  {
   "cell_type": "markdown",
   "id": "b7a53963-778b-42f5-87ca-abb042be7161",
   "metadata": {},
   "source": [
    "* 임시 해결책 : url 직접 호출 json()으로 받아서 사용"
   ]
  },
  {
   "cell_type": "code",
   "execution_count": 12,
   "id": "3e1a9d3c-f004-464e-982b-6579005f0856",
   "metadata": {},
   "outputs": [
    {
     "data": {
      "text/html": [
       "<div>\n",
       "<style scoped>\n",
       "    .dataframe tbody tr th:only-of-type {\n",
       "        vertical-align: middle;\n",
       "    }\n",
       "\n",
       "    .dataframe tbody tr th {\n",
       "        vertical-align: top;\n",
       "    }\n",
       "\n",
       "    .dataframe thead th {\n",
       "        text-align: right;\n",
       "    }\n",
       "</style>\n",
       "<table border=\"1\" class=\"dataframe\">\n",
       "  <thead>\n",
       "    <tr style=\"text-align: right;\">\n",
       "      <th></th>\n",
       "      <th>underlyingSymbol</th>\n",
       "      <th>expirationDates</th>\n",
       "      <th>strikes</th>\n",
       "      <th>hasMiniOptions</th>\n",
       "      <th>quote</th>\n",
       "      <th>options</th>\n",
       "    </tr>\n",
       "  </thead>\n",
       "  <tbody>\n",
       "    <tr>\n",
       "      <th>0</th>\n",
       "      <td>TSLA</td>\n",
       "      <td>[1665100800, 1665705600, 1666310400, 166691520...</td>\n",
       "      <td>[100.0, 110.0, 120.0, 130.0, 140.0, 150.0, 155...</td>\n",
       "      <td>False</td>\n",
       "      <td>{'language': 'en-US', 'region': 'US', 'quoteTy...</td>\n",
       "      <td>[{'expirationDate': 1665100800, 'hasMiniOption...</td>\n",
       "    </tr>\n",
       "  </tbody>\n",
       "</table>\n",
       "</div>"
      ],
      "text/plain": [
       "  underlyingSymbol                                    expirationDates  \\\n",
       "0             TSLA  [1665100800, 1665705600, 1666310400, 166691520...   \n",
       "\n",
       "                                             strikes  hasMiniOptions  \\\n",
       "0  [100.0, 110.0, 120.0, 130.0, 140.0, 150.0, 155...           False   \n",
       "\n",
       "                                               quote  \\\n",
       "0  {'language': 'en-US', 'region': 'US', 'quoteTy...   \n",
       "\n",
       "                                             options  \n",
       "0  [{'expirationDate': 1665100800, 'hasMiniOption...  "
      ]
     },
     "execution_count": 12,
     "metadata": {},
     "output_type": "execute_result"
    }
   ],
   "source": [
    "import requests\n",
    "url=\"https://query2.finance.yahoo.com/v7/finance/options/TSLA\"\n",
    "res = requests.get(url, headers={'User-agent': 'Mozilla/5.0'})\n",
    "df = pd.DataFrame(res.json()['optionChain']['result'])\n",
    "df"
   ]
  },
  {
   "cell_type": "markdown",
   "id": "6d2c50a2-4b18-4acd-ba1d-7445f0dcc118",
   "metadata": {},
   "source": [
    "### 만료일별 옵션 데이터"
   ]
  },
  {
   "cell_type": "code",
   "execution_count": 13,
   "id": "d9d14ef1-68ef-4385-a261-87d8edfbe6bd",
   "metadata": {},
   "outputs": [],
   "source": [
    "nflx_dates= options.get_expiration_dates(MY_PROD_CODE__)\n",
    " \n",
    "info = {}\n",
    "for date in nflx_dates:\n",
    "    info[date] = options.get_options_chain(MY_PROD_CODE__)"
   ]
  },
  {
   "cell_type": "code",
   "execution_count": 14,
   "id": "c4f293f2-fd54-4793-8b51-55b77799877f",
   "metadata": {},
   "outputs": [
    {
     "data": {
      "text/html": [
       "<div>\n",
       "<style scoped>\n",
       "    .dataframe tbody tr th:only-of-type {\n",
       "        vertical-align: middle;\n",
       "    }\n",
       "\n",
       "    .dataframe tbody tr th {\n",
       "        vertical-align: top;\n",
       "    }\n",
       "\n",
       "    .dataframe thead th {\n",
       "        text-align: right;\n",
       "    }\n",
       "</style>\n",
       "<table border=\"1\" class=\"dataframe\">\n",
       "  <thead>\n",
       "    <tr style=\"text-align: right;\">\n",
       "      <th></th>\n",
       "      <th>Contract Name</th>\n",
       "      <th>Last Trade Date</th>\n",
       "      <th>Strike</th>\n",
       "      <th>Last Price</th>\n",
       "      <th>Bid</th>\n",
       "      <th>Ask</th>\n",
       "      <th>Change</th>\n",
       "      <th>% Change</th>\n",
       "      <th>Volume</th>\n",
       "      <th>Open Interest</th>\n",
       "      <th>Implied Volatility</th>\n",
       "    </tr>\n",
       "  </thead>\n",
       "  <tbody>\n",
       "    <tr>\n",
       "      <th>0</th>\n",
       "      <td>TSLA221007C00100000</td>\n",
       "      <td>2022-10-04 3:54PM EDT</td>\n",
       "      <td>100.0</td>\n",
       "      <td>149.20</td>\n",
       "      <td>0.00</td>\n",
       "      <td>0.00</td>\n",
       "      <td>0.0</td>\n",
       "      <td>-</td>\n",
       "      <td>18</td>\n",
       "      <td>0</td>\n",
       "      <td>0.00%</td>\n",
       "    </tr>\n",
       "    <tr>\n",
       "      <th>1</th>\n",
       "      <td>TSLA221007C00110000</td>\n",
       "      <td>2022-10-03 3:41PM EDT</td>\n",
       "      <td>110.0</td>\n",
       "      <td>134.08</td>\n",
       "      <td>0.00</td>\n",
       "      <td>0.00</td>\n",
       "      <td>0.0</td>\n",
       "      <td>-</td>\n",
       "      <td>7</td>\n",
       "      <td>0</td>\n",
       "      <td>0.00%</td>\n",
       "    </tr>\n",
       "    <tr>\n",
       "      <th>2</th>\n",
       "      <td>TSLA221007C00120000</td>\n",
       "      <td>2022-10-05 12:21PM EDT</td>\n",
       "      <td>120.0</td>\n",
       "      <td>116.48</td>\n",
       "      <td>0.00</td>\n",
       "      <td>0.00</td>\n",
       "      <td>0.0</td>\n",
       "      <td>-</td>\n",
       "      <td>1</td>\n",
       "      <td>0</td>\n",
       "      <td>0.00%</td>\n",
       "    </tr>\n",
       "    <tr>\n",
       "      <th>3</th>\n",
       "      <td>TSLA221007C00130000</td>\n",
       "      <td>2022-10-05 1:34PM EDT</td>\n",
       "      <td>130.0</td>\n",
       "      <td>108.75</td>\n",
       "      <td>0.00</td>\n",
       "      <td>0.00</td>\n",
       "      <td>0.0</td>\n",
       "      <td>-</td>\n",
       "      <td>10</td>\n",
       "      <td>0</td>\n",
       "      <td>0.00%</td>\n",
       "    </tr>\n",
       "    <tr>\n",
       "      <th>4</th>\n",
       "      <td>TSLA221007C00140000</td>\n",
       "      <td>2022-10-05 3:18PM EDT</td>\n",
       "      <td>140.0</td>\n",
       "      <td>102.10</td>\n",
       "      <td>0.00</td>\n",
       "      <td>0.00</td>\n",
       "      <td>0.0</td>\n",
       "      <td>-</td>\n",
       "      <td>148</td>\n",
       "      <td>0</td>\n",
       "      <td>0.00%</td>\n",
       "    </tr>\n",
       "    <tr>\n",
       "      <th>...</th>\n",
       "      <td>...</td>\n",
       "      <td>...</td>\n",
       "      <td>...</td>\n",
       "      <td>...</td>\n",
       "      <td>...</td>\n",
       "      <td>...</td>\n",
       "      <td>...</td>\n",
       "      <td>...</td>\n",
       "      <td>...</td>\n",
       "      <td>...</td>\n",
       "      <td>...</td>\n",
       "    </tr>\n",
       "    <tr>\n",
       "      <th>95</th>\n",
       "      <td>TSLA221007C00570000</td>\n",
       "      <td>2022-09-20 9:30AM EDT</td>\n",
       "      <td>570.0</td>\n",
       "      <td>0.02</td>\n",
       "      <td>0.00</td>\n",
       "      <td>0.00</td>\n",
       "      <td>0.0</td>\n",
       "      <td>-</td>\n",
       "      <td>-</td>\n",
       "      <td>0</td>\n",
       "      <td>50.00%</td>\n",
       "    </tr>\n",
       "    <tr>\n",
       "      <th>96</th>\n",
       "      <td>TSLA221007C00580000</td>\n",
       "      <td>2022-09-23 9:35AM EDT</td>\n",
       "      <td>580.0</td>\n",
       "      <td>0.01</td>\n",
       "      <td>0.00</td>\n",
       "      <td>0.00</td>\n",
       "      <td>0.0</td>\n",
       "      <td>-</td>\n",
       "      <td>1</td>\n",
       "      <td>0</td>\n",
       "      <td>50.00%</td>\n",
       "    </tr>\n",
       "    <tr>\n",
       "      <th>97</th>\n",
       "      <td>TSLA221007C00590000</td>\n",
       "      <td>2022-09-15 12:45PM EDT</td>\n",
       "      <td>590.0</td>\n",
       "      <td>0.02</td>\n",
       "      <td>0.00</td>\n",
       "      <td>0.00</td>\n",
       "      <td>0.0</td>\n",
       "      <td>-</td>\n",
       "      <td>-</td>\n",
       "      <td>0</td>\n",
       "      <td>50.00%</td>\n",
       "    </tr>\n",
       "    <tr>\n",
       "      <th>98</th>\n",
       "      <td>TSLA221007C00600000</td>\n",
       "      <td>2022-10-03 9:41AM EDT</td>\n",
       "      <td>600.0</td>\n",
       "      <td>0.01</td>\n",
       "      <td>0.00</td>\n",
       "      <td>0.00</td>\n",
       "      <td>0.0</td>\n",
       "      <td>-</td>\n",
       "      <td>20</td>\n",
       "      <td>0</td>\n",
       "      <td>50.00%</td>\n",
       "    </tr>\n",
       "    <tr>\n",
       "      <th>99</th>\n",
       "      <td>TSLA221007C00610000</td>\n",
       "      <td>2022-10-05 10:13AM EDT</td>\n",
       "      <td>610.0</td>\n",
       "      <td>0.01</td>\n",
       "      <td>0.00</td>\n",
       "      <td>0.00</td>\n",
       "      <td>0.0</td>\n",
       "      <td>-</td>\n",
       "      <td>2</td>\n",
       "      <td>0</td>\n",
       "      <td>50.00%</td>\n",
       "    </tr>\n",
       "  </tbody>\n",
       "</table>\n",
       "<p>100 rows × 11 columns</p>\n",
       "</div>"
      ],
      "text/plain": [
       "          Contract Name         Last Trade Date  Strike  Last Price   Bid  \\\n",
       "0   TSLA221007C00100000   2022-10-04 3:54PM EDT   100.0      149.20  0.00   \n",
       "1   TSLA221007C00110000   2022-10-03 3:41PM EDT   110.0      134.08  0.00   \n",
       "2   TSLA221007C00120000  2022-10-05 12:21PM EDT   120.0      116.48  0.00   \n",
       "3   TSLA221007C00130000   2022-10-05 1:34PM EDT   130.0      108.75  0.00   \n",
       "4   TSLA221007C00140000   2022-10-05 3:18PM EDT   140.0      102.10  0.00   \n",
       "..                  ...                     ...     ...         ...   ...   \n",
       "95  TSLA221007C00570000   2022-09-20 9:30AM EDT   570.0        0.02  0.00   \n",
       "96  TSLA221007C00580000   2022-09-23 9:35AM EDT   580.0        0.01  0.00   \n",
       "97  TSLA221007C00590000  2022-09-15 12:45PM EDT   590.0        0.02  0.00   \n",
       "98  TSLA221007C00600000   2022-10-03 9:41AM EDT   600.0        0.01  0.00   \n",
       "99  TSLA221007C00610000  2022-10-05 10:13AM EDT   610.0        0.01  0.00   \n",
       "\n",
       "     Ask  Change % Change Volume Open Interest Implied Volatility  \n",
       "0   0.00     0.0        -     18             0              0.00%  \n",
       "1   0.00     0.0        -      7             0              0.00%  \n",
       "2   0.00     0.0        -      1             0              0.00%  \n",
       "3   0.00     0.0        -     10             0              0.00%  \n",
       "4   0.00     0.0        -    148             0              0.00%  \n",
       "..   ...     ...      ...    ...           ...                ...  \n",
       "95  0.00     0.0        -      -             0             50.00%  \n",
       "96  0.00     0.0        -      1             0             50.00%  \n",
       "97  0.00     0.0        -      -             0             50.00%  \n",
       "98  0.00     0.0        -     20             0             50.00%  \n",
       "99  0.00     0.0        -      2             0             50.00%  \n",
       "\n",
       "[100 rows x 11 columns]"
      ]
     },
     "execution_count": 14,
     "metadata": {},
     "output_type": "execute_result"
    }
   ],
   "source": [
    "cdf = info[MY_EXP_DATE__]['calls'].sort_values('Contract Name')\n",
    "cdf"
   ]
  },
  {
   "cell_type": "code",
   "execution_count": 15,
   "id": "c50810b0-f255-429b-abbf-c52f27aafa0e",
   "metadata": {},
   "outputs": [
    {
     "data": {
      "text/html": [
       "<div>\n",
       "<style scoped>\n",
       "    .dataframe tbody tr th:only-of-type {\n",
       "        vertical-align: middle;\n",
       "    }\n",
       "\n",
       "    .dataframe tbody tr th {\n",
       "        vertical-align: top;\n",
       "    }\n",
       "\n",
       "    .dataframe thead th {\n",
       "        text-align: right;\n",
       "    }\n",
       "</style>\n",
       "<table border=\"1\" class=\"dataframe\">\n",
       "  <thead>\n",
       "    <tr style=\"text-align: right;\">\n",
       "      <th></th>\n",
       "      <th>Contract Name</th>\n",
       "      <th>Last Trade Date</th>\n",
       "      <th>Strike</th>\n",
       "      <th>Last Price</th>\n",
       "      <th>Bid</th>\n",
       "      <th>Ask</th>\n",
       "      <th>Change</th>\n",
       "      <th>% Change</th>\n",
       "      <th>Volume</th>\n",
       "      <th>Open Interest</th>\n",
       "      <th>Implied Volatility</th>\n",
       "    </tr>\n",
       "  </thead>\n",
       "  <tbody>\n",
       "    <tr>\n",
       "      <th>0</th>\n",
       "      <td>TSLA221007P00100000</td>\n",
       "      <td>2022-10-05 3:47PM EDT</td>\n",
       "      <td>100.0</td>\n",
       "      <td>0.01</td>\n",
       "      <td>0.00</td>\n",
       "      <td>0.00</td>\n",
       "      <td>0.0</td>\n",
       "      <td>-</td>\n",
       "      <td>26</td>\n",
       "      <td>0</td>\n",
       "      <td>50.00%</td>\n",
       "    </tr>\n",
       "    <tr>\n",
       "      <th>1</th>\n",
       "      <td>TSLA221007P00110000</td>\n",
       "      <td>2022-10-03 1:44PM EDT</td>\n",
       "      <td>110.0</td>\n",
       "      <td>0.01</td>\n",
       "      <td>0.00</td>\n",
       "      <td>0.00</td>\n",
       "      <td>0.0</td>\n",
       "      <td>-</td>\n",
       "      <td>218</td>\n",
       "      <td>0</td>\n",
       "      <td>50.00%</td>\n",
       "    </tr>\n",
       "    <tr>\n",
       "      <th>2</th>\n",
       "      <td>TSLA221007P00120000</td>\n",
       "      <td>2022-10-05 11:52AM EDT</td>\n",
       "      <td>120.0</td>\n",
       "      <td>0.01</td>\n",
       "      <td>0.00</td>\n",
       "      <td>0.00</td>\n",
       "      <td>0.0</td>\n",
       "      <td>-</td>\n",
       "      <td>1</td>\n",
       "      <td>0</td>\n",
       "      <td>50.00%</td>\n",
       "    </tr>\n",
       "    <tr>\n",
       "      <th>3</th>\n",
       "      <td>TSLA221007P00130000</td>\n",
       "      <td>2022-10-05 10:55AM EDT</td>\n",
       "      <td>130.0</td>\n",
       "      <td>0.01</td>\n",
       "      <td>0.00</td>\n",
       "      <td>0.00</td>\n",
       "      <td>0.0</td>\n",
       "      <td>-</td>\n",
       "      <td>7</td>\n",
       "      <td>0</td>\n",
       "      <td>100.00%</td>\n",
       "    </tr>\n",
       "    <tr>\n",
       "      <th>4</th>\n",
       "      <td>TSLA221007P00140000</td>\n",
       "      <td>2022-10-05 12:29PM EDT</td>\n",
       "      <td>140.0</td>\n",
       "      <td>0.01</td>\n",
       "      <td>0.01</td>\n",
       "      <td>0.00</td>\n",
       "      <td>0.0</td>\n",
       "      <td>-</td>\n",
       "      <td>75</td>\n",
       "      <td>0</td>\n",
       "      <td>225.00%</td>\n",
       "    </tr>\n",
       "    <tr>\n",
       "      <th>...</th>\n",
       "      <td>...</td>\n",
       "      <td>...</td>\n",
       "      <td>...</td>\n",
       "      <td>...</td>\n",
       "      <td>...</td>\n",
       "      <td>...</td>\n",
       "      <td>...</td>\n",
       "      <td>...</td>\n",
       "      <td>...</td>\n",
       "      <td>...</td>\n",
       "      <td>...</td>\n",
       "    </tr>\n",
       "    <tr>\n",
       "      <th>90</th>\n",
       "      <td>TSLA221007P00560000</td>\n",
       "      <td>2022-10-05 9:32AM EDT</td>\n",
       "      <td>560.0</td>\n",
       "      <td>314.15</td>\n",
       "      <td>-</td>\n",
       "      <td>-</td>\n",
       "      <td>0.0</td>\n",
       "      <td>-</td>\n",
       "      <td>-</td>\n",
       "      <td>-</td>\n",
       "      <td>0.00%</td>\n",
       "    </tr>\n",
       "    <tr>\n",
       "      <th>91</th>\n",
       "      <td>TSLA221007P00570000</td>\n",
       "      <td>2022-10-03 1:59PM EDT</td>\n",
       "      <td>570.0</td>\n",
       "      <td>328.54</td>\n",
       "      <td>-</td>\n",
       "      <td>-</td>\n",
       "      <td>0.0</td>\n",
       "      <td>-</td>\n",
       "      <td>-</td>\n",
       "      <td>-</td>\n",
       "      <td>0.00%</td>\n",
       "    </tr>\n",
       "    <tr>\n",
       "      <th>92</th>\n",
       "      <td>TSLA221007P00580000</td>\n",
       "      <td>2022-10-03 1:59PM EDT</td>\n",
       "      <td>580.0</td>\n",
       "      <td>338.52</td>\n",
       "      <td>-</td>\n",
       "      <td>-</td>\n",
       "      <td>0.0</td>\n",
       "      <td>-</td>\n",
       "      <td>-</td>\n",
       "      <td>-</td>\n",
       "      <td>0.00%</td>\n",
       "    </tr>\n",
       "    <tr>\n",
       "      <th>93</th>\n",
       "      <td>TSLA221007P00590000</td>\n",
       "      <td>2022-10-03 1:59PM EDT</td>\n",
       "      <td>590.0</td>\n",
       "      <td>348.55</td>\n",
       "      <td>0.00</td>\n",
       "      <td>0.00</td>\n",
       "      <td>0.0</td>\n",
       "      <td>-</td>\n",
       "      <td>3</td>\n",
       "      <td>0</td>\n",
       "      <td>0.00%</td>\n",
       "    </tr>\n",
       "    <tr>\n",
       "      <th>94</th>\n",
       "      <td>TSLA221007P00600000</td>\n",
       "      <td>2022-10-05 9:46AM EDT</td>\n",
       "      <td>600.0</td>\n",
       "      <td>360.20</td>\n",
       "      <td>-</td>\n",
       "      <td>-</td>\n",
       "      <td>0.0</td>\n",
       "      <td>-</td>\n",
       "      <td>-</td>\n",
       "      <td>-</td>\n",
       "      <td>0.00%</td>\n",
       "    </tr>\n",
       "  </tbody>\n",
       "</table>\n",
       "<p>95 rows × 11 columns</p>\n",
       "</div>"
      ],
      "text/plain": [
       "          Contract Name         Last Trade Date  Strike  Last Price   Bid  \\\n",
       "0   TSLA221007P00100000   2022-10-05 3:47PM EDT   100.0        0.01  0.00   \n",
       "1   TSLA221007P00110000   2022-10-03 1:44PM EDT   110.0        0.01  0.00   \n",
       "2   TSLA221007P00120000  2022-10-05 11:52AM EDT   120.0        0.01  0.00   \n",
       "3   TSLA221007P00130000  2022-10-05 10:55AM EDT   130.0        0.01  0.00   \n",
       "4   TSLA221007P00140000  2022-10-05 12:29PM EDT   140.0        0.01  0.01   \n",
       "..                  ...                     ...     ...         ...   ...   \n",
       "90  TSLA221007P00560000   2022-10-05 9:32AM EDT   560.0      314.15     -   \n",
       "91  TSLA221007P00570000   2022-10-03 1:59PM EDT   570.0      328.54     -   \n",
       "92  TSLA221007P00580000   2022-10-03 1:59PM EDT   580.0      338.52     -   \n",
       "93  TSLA221007P00590000   2022-10-03 1:59PM EDT   590.0      348.55  0.00   \n",
       "94  TSLA221007P00600000   2022-10-05 9:46AM EDT   600.0      360.20     -   \n",
       "\n",
       "     Ask  Change % Change Volume Open Interest Implied Volatility  \n",
       "0   0.00     0.0        -     26             0             50.00%  \n",
       "1   0.00     0.0        -    218             0             50.00%  \n",
       "2   0.00     0.0        -      1             0             50.00%  \n",
       "3   0.00     0.0        -      7             0            100.00%  \n",
       "4   0.00     0.0        -     75             0            225.00%  \n",
       "..   ...     ...      ...    ...           ...                ...  \n",
       "90     -     0.0        -      -             -              0.00%  \n",
       "91     -     0.0        -      -             -              0.00%  \n",
       "92     -     0.0        -      -             -              0.00%  \n",
       "93  0.00     0.0        -      3             0              0.00%  \n",
       "94     -     0.0        -      -             -              0.00%  \n",
       "\n",
       "[95 rows x 11 columns]"
      ]
     },
     "execution_count": 15,
     "metadata": {},
     "output_type": "execute_result"
    }
   ],
   "source": [
    "pdf = info[MY_EXP_DATE__]['puts'].sort_values('Contract Name')\n",
    "pdf"
   ]
  },
  {
   "cell_type": "markdown",
   "id": "439094d1-3156-4319-a311-be4d66b5e5cf",
   "metadata": {},
   "source": [
    "# 옵션가\n",
    "* <가정사항>\n",
    "    1) 이자율은 알려져 있고 시간이 지나도 일정합니다. \n",
    "    2) 주식은 연속 시간에 랜덤 워크를 따르고 주가 경로의 분산은 로그 정규 분포를 따릅니다. \n",
    "    3) 변동성은 일정하다 \n",
    "    4) 주식은 배당금을 지급하지 않습니다(단, 배당금을 포함하도록 수정할 수 있음)\n",
    "    5) 옵션은 만기시에만 행사할 수 있습니다. 즉, 유럽형 옵션입니다.\n",
    "    6) 공매도 등의 거래 수수료가 없습니다. "
   ]
  },
  {
   "cell_type": "code",
   "execution_count": 16,
   "id": "7948b322-9f30-44c1-bb27-389234e9bdb9",
   "metadata": {},
   "outputs": [],
   "source": [
    "def europian_option(S, K, T, r, sigma, option_type): \n",
    "    N = stat.norm.cdf\n",
    "    d1 = (np.log(S / K) + (r + 0.5 * sigma ** 2) * T) / (sigma * np.sqrt(T)) \n",
    "    d2 = d1 - sigma * np.sqrt(T) \n",
    "    if option_type == 'call': \n",
    "        V =        S * N(d1)  -         K * np.exp(-r * T) * N(d2) \n",
    "    else: \n",
    "        V = (-1) * S * N(-d1) -  (-1) * K * np.exp(-r * T) * N(-d2) \n",
    "    return V"
   ]
  },
  {
   "cell_type": "markdown",
   "id": "11df35bd-1f3b-49bc-aaee-95dda403184b",
   "metadata": {},
   "source": [
    "## 파라미터"
   ]
  },
  {
   "cell_type": "code",
   "execution_count": 17,
   "id": "2dc69ef7-b46b-483c-94cf-e982c3666b65",
   "metadata": {},
   "outputs": [],
   "source": [
    "S     = 100  #행사가\n",
    "K     = 100  #초기자산\n",
    "T     = 1    #잔존만기\n",
    "r     = 0.1  #이자율\n",
    "sigma = 0.3  #변동성"
   ]
  },
  {
   "cell_type": "code",
   "execution_count": 18,
   "id": "0d28ca16-9562-4262-892f-8a9f1fa7c32e",
   "metadata": {},
   "outputs": [
    {
     "name": "stdout",
     "output_type": "stream",
     "text": [
      "call : 16.73\n"
     ]
    }
   ],
   "source": [
    "option_type=\"call\"\n",
    "print(f\"{option_type} : {np.round(europian_option(S, K, T, r, sigma, option_type),2)}\")"
   ]
  },
  {
   "cell_type": "code",
   "execution_count": 19,
   "id": "d43b065a-0cce-4b3c-8601-e3f944334557",
   "metadata": {},
   "outputs": [
    {
     "name": "stdout",
     "output_type": "stream",
     "text": [
      "put : 7.22\n"
     ]
    }
   ],
   "source": [
    "option_type=\"put\"\n",
    "print(f\"{option_type} : {np.round(europian_option(S, K, T, r, sigma, option_type),2)}\")"
   ]
  },
  {
   "cell_type": "markdown",
   "id": "ea98f090-e934-4486-ad02-65d2f949ff13",
   "metadata": {},
   "source": [
    "## 옵션가 변화"
   ]
  },
  {
   "cell_type": "markdown",
   "id": "09a42e46-baad-4079-8dfd-07373b029581",
   "metadata": {},
   "source": [
    "### 현재주가(S)를 제외한 모든 변수 고정 시"
   ]
  },
  {
   "cell_type": "code",
   "execution_count": 20,
   "id": "a7fbcac6-4ca8-43aa-9b03-93f9488d80b8",
   "metadata": {},
   "outputs": [
    {
     "data": {
      "text/plain": [
       "<matplotlib.legend.Legend at 0x1d950a9a6d0>"
      ]
     },
     "execution_count": 20,
     "metadata": {},
     "output_type": "execute_result"
    },
    {
     "data": {
      "image/png": "[encoded data removed]",
      "text/plain": [
       "<Figure size 432x288 with 1 Axes>"
      ]
     },
     "metadata": {},
     "output_type": "display_data"
    }
   ],
   "source": [
    "S_random = np.arange(60,140,0.1)\n",
    "\n",
    "calls = [np.round(europian_option(s, K, T, r, sigma, \"call\"),2) for s in S_random]\n",
    "puts  = [np.round(europian_option(s, K, T, r, sigma, \"put\") ,2) for s in S_random]\n",
    "plt.plot(S_random, calls, label='Call Value')\n",
    "plt.plot(S_random, puts , label='Put Value')\n",
    "plt.xlabel('$S_0$')\n",
    "plt.ylabel(' Value')\n",
    "plt.legend()"
   ]
  },
  {
   "cell_type": "markdown",
   "id": "3fd24b35-d01c-4e0f-9c09-9b46dea5e312",
   "metadata": {},
   "source": [
    "### 변동성(σ)를 제외한 모든 변수 고정 시"
   ]
  },
  {
   "cell_type": "code",
   "execution_count": 21,
   "id": "65a391f5-1904-4d14-93a9-c7e0c0fdee65",
   "metadata": {},
   "outputs": [
    {
     "data": {
      "text/plain": [
       "<matplotlib.legend.Legend at 0x1d950b9ca90>"
      ]
     },
     "execution_count": 21,
     "metadata": {},
     "output_type": "execute_result"
    },
    {
     "data": {
      "image/png": "[encoded data removed]",
      "text/plain": [
       "<Figure size 432x288 with 1 Axes>"
      ]
     },
     "metadata": {},
     "output_type": "display_data"
    }
   ],
   "source": [
    "sigma_random = np.arange(0.1, 1.5, 0.01)\n",
    "\n",
    "calls = [np.round(europian_option(S, K, T, r, sig, \"call\"),2) for sig in sigma_random]\n",
    "puts  = [np.round(europian_option(S, K, T, r, sig, \"put\") ,2) for sig in sigma_random]\n",
    "plt.plot(sigma_random, calls, label='Call Value')\n",
    "plt.plot(sigma_random, puts , label='Put Value')\n",
    "plt.xlabel('$\\sigma$')\n",
    "plt.ylabel(' Value')\n",
    "plt.legend()"
   ]
  },
  {
   "cell_type": "markdown",
   "id": "a0ef45f2-3522-4747-8bd3-a10351083ff2",
   "metadata": {},
   "source": [
    "### 시간(T)를 제외한 모든 변수 고정 시"
   ]
  },
  {
   "cell_type": "code",
   "execution_count": 22,
   "id": "d57cb0ca-35b3-406c-aaec-c2290c76d162",
   "metadata": {},
   "outputs": [
    {
     "data": {
      "image/png": "[encoded data removed]",
      "text/plain": [
       "<Figure size 432x288 with 1 Axes>"
      ]
     },
     "metadata": {},
     "output_type": "display_data"
    }
   ],
   "source": [
    "T = np.arange(0, 2, 0.01)\n",
    "\n",
    "calls = [np.round(europian_option(S, K, t, r, sigma, \"call\") ,2) for t in T]\n",
    "puts  = [np.round(europian_option(S, K, t, r, sigma, \"put\")  ,2) for t in T]\n",
    "plt.plot(T, calls, label='Call Value')\n",
    "plt.plot(T, puts , label='Put Value')\n",
    "plt.xlabel('$T$ in years')\n",
    "plt.ylabel(' Value')\n",
    "plt.legend()\n",
    "plt.show()"
   ]
  },
  {
   "cell_type": "markdown",
   "id": "a786c604-1ff9-437a-a6f9-8fe8e156aaee",
   "metadata": {},
   "source": [
    "# 옵션가 계산"
   ]
  },
  {
   "cell_type": "markdown",
   "id": "2813e0bd-bf48-40a9-9ee8-97c2bc7bb33b",
   "metadata": {},
   "source": [
    "## 종목선정"
   ]
  },
  {
   "cell_type": "code",
   "execution_count": 23,
   "id": "cdbe65da-8025-4e75-8e9a-bf0ab9bcc8b8",
   "metadata": {},
   "outputs": [],
   "source": [
    "# PRODUCT CODE : CME Globex: ES, EYC, TESLA\n",
    "MY_PROD_CODE__ = 'TSLA' #'ES'\n",
    "\n",
    "# 옵션 만료일자 \n",
    "MY_EXP_DATE__ = 'October 7, 2022' #'November 18, 2022'"
   ]
  },
  {
   "cell_type": "markdown",
   "id": "aa6f74d5-181b-474f-b524-9d2516f1679b",
   "metadata": {
    "tags": []
   },
   "source": [
    "## 데이터 가공"
   ]
  },
  {
   "cell_type": "code",
   "execution_count": 24,
   "id": "04f75ad5-f65c-454b-b58c-b9dc413c8a2d",
   "metadata": {},
   "outputs": [],
   "source": [
    "# 만기일 MY_EXP_DATE__"
   ]
  },
  {
   "cell_type": "code",
   "execution_count": 25,
   "id": "b74699f3-b02e-4246-896b-3acc71071f88",
   "metadata": {},
   "outputs": [
    {
     "data": {
      "text/html": [
       "<div>\n",
       "<style scoped>\n",
       "    .dataframe tbody tr th:only-of-type {\n",
       "        vertical-align: middle;\n",
       "    }\n",
       "\n",
       "    .dataframe tbody tr th {\n",
       "        vertical-align: top;\n",
       "    }\n",
       "\n",
       "    .dataframe thead th {\n",
       "        text-align: right;\n",
       "    }\n",
       "</style>\n",
       "<table border=\"1\" class=\"dataframe\">\n",
       "  <thead>\n",
       "    <tr style=\"text-align: right;\">\n",
       "      <th></th>\n",
       "      <th>Contract Name_x</th>\n",
       "      <th>Last Trade Date_x</th>\n",
       "      <th>Strike</th>\n",
       "      <th>Last Price_x</th>\n",
       "      <th>Bid_x</th>\n",
       "      <th>Ask_x</th>\n",
       "      <th>Change_x</th>\n",
       "      <th>% Change_x</th>\n",
       "      <th>Volume_x</th>\n",
       "      <th>Open Interest_x</th>\n",
       "      <th>...</th>\n",
       "      <th>Bid_y</th>\n",
       "      <th>Ask_y</th>\n",
       "      <th>Change_y</th>\n",
       "      <th>% Change_y</th>\n",
       "      <th>Volume_y</th>\n",
       "      <th>Open Interest_y</th>\n",
       "      <th>Implied Volatility_y</th>\n",
       "      <th>C</th>\n",
       "      <th>P</th>\n",
       "      <th>expiry_date</th>\n",
       "    </tr>\n",
       "  </thead>\n",
       "  <tbody>\n",
       "    <tr>\n",
       "      <th>0</th>\n",
       "      <td>TSLA221007C00100000</td>\n",
       "      <td>2022-10-04 15:54:00</td>\n",
       "      <td>100.0</td>\n",
       "      <td>149.20</td>\n",
       "      <td>0.0</td>\n",
       "      <td>0.0</td>\n",
       "      <td>0.0</td>\n",
       "      <td>-</td>\n",
       "      <td>18</td>\n",
       "      <td>0</td>\n",
       "      <td>...</td>\n",
       "      <td>0.0</td>\n",
       "      <td>0.0</td>\n",
       "      <td>0.0</td>\n",
       "      <td>-</td>\n",
       "      <td>26</td>\n",
       "      <td>0</td>\n",
       "      <td>50.00%</td>\n",
       "      <td>0.0</td>\n",
       "      <td>0.0</td>\n",
       "      <td>2022-10-07</td>\n",
       "    </tr>\n",
       "    <tr>\n",
       "      <th>1</th>\n",
       "      <td>TSLA221007C00110000</td>\n",
       "      <td>2022-10-03 15:41:00</td>\n",
       "      <td>110.0</td>\n",
       "      <td>134.08</td>\n",
       "      <td>0.0</td>\n",
       "      <td>0.0</td>\n",
       "      <td>0.0</td>\n",
       "      <td>-</td>\n",
       "      <td>7</td>\n",
       "      <td>0</td>\n",
       "      <td>...</td>\n",
       "      <td>0.0</td>\n",
       "      <td>0.0</td>\n",
       "      <td>0.0</td>\n",
       "      <td>-</td>\n",
       "      <td>218</td>\n",
       "      <td>0</td>\n",
       "      <td>50.00%</td>\n",
       "      <td>0.0</td>\n",
       "      <td>0.0</td>\n",
       "      <td>2022-10-07</td>\n",
       "    </tr>\n",
       "  </tbody>\n",
       "</table>\n",
       "<p>2 rows × 24 columns</p>\n",
       "</div>"
      ],
      "text/plain": [
       "       Contract Name_x   Last Trade Date_x  Strike  Last Price_x  Bid_x  \\\n",
       "0  TSLA221007C00100000 2022-10-04 15:54:00   100.0        149.20    0.0   \n",
       "1  TSLA221007C00110000 2022-10-03 15:41:00   110.0        134.08    0.0   \n",
       "\n",
       "   Ask_x  Change_x % Change_x Volume_x Open Interest_x  ... Bid_y Ask_y  \\\n",
       "0    0.0       0.0          -       18               0  ...   0.0   0.0   \n",
       "1    0.0       0.0          -        7               0  ...   0.0   0.0   \n",
       "\n",
       "  Change_y  % Change_y  Volume_y  Open Interest_y  Implied Volatility_y    C  \\\n",
       "0      0.0           -        26                0                50.00%  0.0   \n",
       "1      0.0           -       218                0                50.00%  0.0   \n",
       "\n",
       "     P expiry_date  \n",
       "0  0.0  2022-10-07  \n",
       "1  0.0  2022-10-07  \n",
       "\n",
       "[2 rows x 24 columns]"
      ]
     },
     "execution_count": 25,
     "metadata": {},
     "output_type": "execute_result"
    }
   ],
   "source": [
    "df = pd.merge(cdf, pdf, how='inner', on ='Strike')\n",
    "df['Bid_x'] = df['Bid_x'].replace(\"-\",\"0\").astype('float')\n",
    "df['Ask_x'] = df['Ask_x'].replace(\"-\",\"0\").astype('float')\n",
    "\n",
    "df['Bid_y'] = df['Bid_y'].replace(\"-\",\"0\").astype('float')\n",
    "df['Ask_y'] = df['Ask_y'].replace(\"-\",\"0\").astype('float')\n",
    "\n",
    "df['C'] = (df['Bid_x']+df['Ask_x'] )/2  #구매자 price\n",
    "df['P'] = (df['Bid_y']+df['Ask_y'] )/2  #구매자 price\n",
    "\n",
    "# --- 날짜타입변환\n",
    "df['Last Trade Date_x'] = pd.to_datetime(df['Last Trade Date_x'])\n",
    "df['Last Trade Date_y'] = pd.to_datetime(df['Last Trade Date_y'])\n",
    "\n",
    "df['expiry_date'] = pd.to_datetime(MY_EXP_DATE__)\n",
    "df['Last Trade Date_x'] = pd.to_datetime(df['Last Trade Date_x'])\n",
    "df['Last Trade Date_y'] = pd.to_datetime(df['Last Trade Date_y'])\n",
    "\n",
    "# df['T'] = df.apply(lambda x: 잔존만기(df['Last Trade Date_x'], '2022-10-05', workday=252)\n",
    "df.head(2)"
   ]
  },
  {
   "cell_type": "code",
   "execution_count": 26,
   "id": "1b355540-4855-4cc8-9d5b-e894eb9556f5",
   "metadata": {},
   "outputs": [
    {
     "name": "stdout",
     "output_type": "stream",
     "text": [
      "<class 'pandas.core.frame.DataFrame'>\n",
      "Int64Index: 95 entries, 0 to 94\n",
      "Data columns (total 24 columns):\n",
      " #   Column                Non-Null Count  Dtype         \n",
      "---  ------                --------------  -----         \n",
      " 0   Contract Name_x       95 non-null     object        \n",
      " 1   Last Trade Date_x     95 non-null     datetime64[ns]\n",
      " 2   Strike                95 non-null     float64       \n",
      " 3   Last Price_x          95 non-null     float64       \n",
      " 4   Bid_x                 95 non-null     float64       \n",
      " 5   Ask_x                 95 non-null     float64       \n",
      " 6   Change_x              95 non-null     float64       \n",
      " 7   % Change_x            95 non-null     object        \n",
      " 8   Volume_x              95 non-null     object        \n",
      " 9   Open Interest_x       95 non-null     object        \n",
      " 10  Implied Volatility_x  95 non-null     object        \n",
      " 11  Contract Name_y       95 non-null     object        \n",
      " 12  Last Trade Date_y     95 non-null     datetime64[ns]\n",
      " 13  Last Price_y          95 non-null     float64       \n",
      " 14  Bid_y                 95 non-null     float64       \n",
      " 15  Ask_y                 95 non-null     float64       \n",
      " 16  Change_y              95 non-null     float64       \n",
      " 17  % Change_y            95 non-null     object        \n",
      " 18  Volume_y              95 non-null     object        \n",
      " 19  Open Interest_y       95 non-null     object        \n",
      " 20  Implied Volatility_y  95 non-null     object        \n",
      " 21  C                     95 non-null     float64       \n",
      " 22  P                     95 non-null     float64       \n",
      " 23  expiry_date           95 non-null     datetime64[ns]\n",
      "dtypes: datetime64[ns](3), float64(11), object(10)\n",
      "memory usage: 18.6+ KB\n"
     ]
    }
   ],
   "source": [
    "df.info()"
   ]
  },
  {
   "cell_type": "markdown",
   "id": "65652c7c-2c6d-4b1c-8303-7751019d6636",
   "metadata": {},
   "source": [
    "## 잔존만기"
   ]
  },
  {
   "cell_type": "markdown",
   "id": "72e265b6-b434-427f-8cc7-faded205e31e",
   "metadata": {},
   "source": [
    "행사가가 낮으면 낮을수록 콜옵션 가격은 올라간다\n",
    " --> 이윤을 남기려고 권리를 행사할 가능성이 커진다"
   ]
  },
  {
   "cell_type": "code",
   "execution_count": 27,
   "id": "8e844da8-99aa-430c-ba2d-f4ece5590bbc",
   "metadata": {},
   "outputs": [
    {
     "data": {
      "text/plain": [
       "(Timestamp('2022-09-12 10:24:00'), Timestamp('2022-10-05 15:59:00'))"
      ]
     },
     "execution_count": 27,
     "metadata": {},
     "output_type": "execute_result"
    }
   ],
   "source": [
    "df['Last Trade Date_x'].min(), df['Last Trade Date_x'].max()"
   ]
  },
  {
   "cell_type": "code",
   "execution_count": 28,
   "id": "9c705402-0d0c-426e-9378-6b0ec9fee810",
   "metadata": {},
   "outputs": [
    {
     "data": {
      "text/plain": [
       "(Timestamp('2022-09-08 13:33:00'), Timestamp('2022-10-05 15:59:00'))"
      ]
     },
     "execution_count": 28,
     "metadata": {},
     "output_type": "execute_result"
    }
   ],
   "source": [
    "df['Last Trade Date_y'].min(), df['Last Trade Date_y'].max()"
   ]
  },
  {
   "cell_type": "code",
   "execution_count": 29,
   "id": "4984ab69-bfcf-4937-9d4c-c6b16198a28f",
   "metadata": {},
   "outputs": [
    {
     "name": "stdout",
     "output_type": "stream",
     "text": [
      "17.64\n"
     ]
    },
    {
     "data": {
      "text/plain": [
       "0.07"
      ]
     },
     "execution_count": 29,
     "metadata": {},
     "output_type": "execute_result"
    }
   ],
   "source": [
    "# 3차원 차트 시 필요\n",
    "def 잔존만기(오늘날짜, 만기일자, workday=252):\n",
    "    오늘날짜 = pd.to_datetime(오늘날짜).date()\n",
    "    만기일자 = pd.to_datetime(만기일자).date()\n",
    "    잔존만기일 = np.round((np.busday_count(오늘날짜, 만기일자)+1) / workday ,2)  #begindates, enddates\n",
    "    print(잔존만기일 * workday)\n",
    "    return 잔존만기일\n",
    "잔존만기('2022-09-12', '2022-10-05', workday=252)"
   ]
  },
  {
   "cell_type": "markdown",
   "id": "a2cf01b0-cf32-4054-83bb-d6a8b0481ecb",
   "metadata": {},
   "source": [
    "## 변동성\n",
    "* https://finance.yahoo.com/quote/TSLA221007C00100000?p=TSLA221007C00100000 <br>\n",
    "* https://query2.finance.yahoo.com/v7/finance/options/TSLA?period1=1664204400&period2=1664981999&interval=1d<br>\n",
    "\n",
    "<pre>\n",
    "* HV(역사변동성) : 과거 가격에 대한 변동성\n",
    "* IV(내재변동성) : 미래 가격에 대한 변동성 (내재가치)\n",
    "* CV(변동계수)   \n",
    "    * 평균/편차 --> Z(표준화)\n",
    "    * 내재변동성(IV) / 역사변동성(HV)\n",
    "* VIX(Chicago Board Options Exchange Volatility Index)\n",
    "    * 시카고옵션거래소 변동성지수\n",
    "    * S&P 지수 관련 상품의 변동성\n",
    "    * 거래를 이용하는 유저의 심리지수==공포지수\n",
    "<pre><p>\n",
    "* 예) 기초자산 가격 100 , 1y 변동성 20% 인 경우\n",
    "    * 표준편차 1의 변동폭 +- 20%\n",
    "    * 예상 가격범위가 80 ~ 120\n",
    "\n",
    "* 예) 1개월 변동성 \n",
    "    * 표준편차(20%) * np.sqrt(1/12) = 0.2*0.289 = np.round(0.0578 * 100, 2) = 5.8\n",
    "    * 기초자산 변동가 범위 : 94.2 ~ 105.8\n",
    "\n",
    "* 예) 1주간 변동성  \n",
    "    * 표준편차(20%) * np.sqrt(1/52)  = 0.2*0.138 = = np.round(0.0276 * 100, 2) = 2.8\n",
    "    * 기초자산 변동가 범위 :  97.2 ~ 102.8"
   ]
  },
  {
   "cell_type": "markdown",
   "id": "5ec6127c-f18b-481d-912e-f4a0d867c6d4",
   "metadata": {},
   "source": [
    "##  블랙숄즈 방정식★★★\n",
    "* 1973년 Black, Scholes, Merton에 의해 개발된 옵션 공정가격 산출 모형\n",
    "* 5가지 요인으로 옵션의 공정 가격을 설명\n",
    "* <font color=red size=3><b>기초자산(𝑆), 행사가격(𝑋), 무위험수익률(𝑟), 잔존기간(𝑡), 기초자산변동성(𝜎)\n",
    "<img src='https://img1.daumcdn.net/thumb/R1280x0/?scode=mtistory2&fname=http%3A%2F%2Fcfile9.uf.tistory.com%2Fimage%2F994347395B6E6AE6272A7F'><br>\n",
    "\n"
   ]
  },
  {
   "cell_type": "markdown",
   "id": "64e14f2d-3dac-4068-9284-d39ebd994a0f",
   "metadata": {},
   "source": [
    "## 옵션 이론가\n",
    "$ Call = S_{0}N(d_1) - N(d_2)Ke^{-rT} $ <p>\n",
    "$ Put=N(-d_2)Ke^{-rT} - N(-d_1)S_0 $  <p>\n",
    "    $ \\\\d_1 = \\frac{ln(\\frac{S}{K}) + (r + \\frac{\\sigma^2}{2})T}{\\sigma\\sqrt{T}} $ <p>\n",
    "    $ \\\\d_2 =d_1 - \\sigma\\sqrt{T} $ "
   ]
  },
  {
   "cell_type": "code",
   "execution_count": 30,
   "id": "613276c0-3512-4792-9207-29b9baedbe92",
   "metadata": {},
   "outputs": [],
   "source": [
    "S = df['Last Price_x']      #콜\n",
    "# S = df['P']    #풋\n",
    "K = df.loc[0,'Strike']\n",
    "#잔존만기('2022-09-27', '2022-10-05', workday=252)  #일수:7.56  연%0.03\n",
    "T = 0.03\n",
    "r = 0.02\n",
    "sigma = 0.2"
   ]
  },
  {
   "cell_type": "code",
   "execution_count": 31,
   "id": "453fdcbe-6725-4d90-8860-6837f5e7e87c",
   "metadata": {},
   "outputs": [
    {
     "name": "stdout",
     "output_type": "stream",
     "text": [
      "7.56\n"
     ]
    },
    {
     "data": {
      "text/plain": [
       "0.03"
      ]
     },
     "execution_count": 31,
     "metadata": {},
     "output_type": "execute_result"
    }
   ],
   "source": [
    "잔존만기('2022-09-27', '2022-10-05', workday=252)"
   ]
  },
  {
   "cell_type": "code",
   "execution_count": 32,
   "id": "0465e74e-aba2-4162-8d9e-f5c1ad23694a",
   "metadata": {},
   "outputs": [],
   "source": [
    "from scipy import  stats\n",
    "def europian_option(S, K, T, r=0.02, sigma=0.4, option_type=\"call\"): \n",
    "    N = stat.norm.cdf\n",
    "    d1 = (np.log(S / K) + (r + 0.5 * sigma ** 2) * T) / (sigma * np.sqrt(T)) \n",
    "    d2 = d1 - sigma * np.sqrt(T) \n",
    "    if option_type == 'call': \n",
    "        V =        S * N(d1)  -         K * np.exp(-r * T) * N(d2) \n",
    "    else: \n",
    "        V = (-1) * S * N(-d1) -  (-1) * K * np.exp(-r * T) * N(-d2) \n",
    "    return np.round(V,4)"
   ]
  },
  {
   "cell_type": "code",
   "execution_count": 33,
   "id": "ed053e92-9751-411d-86e7-907af2500b34",
   "metadata": {},
   "outputs": [],
   "source": [
    "from scipy import  stats\n",
    "def 옵션이론가(기초자산, 행사가, 진존만기일, 이자율=0.02, 변동율=0.4, option_type=\"call\"):\n",
    "    N = stat.norm.cdf\n",
    "    d1 = (  np.log(기초자산 / 행사가)  + (이자율 + 변동율**2 * 0.5) * 진존만기일) / (변동율 * np.sqrt(진존만기일))\n",
    "    d2 = d1 -  (변동율 * np.sqrt(잔존만기일))\n",
    "    # print(d1, d2)\n",
    "    if option_type == 'call':\n",
    "        옵션이론가 =        기초자산 * N(d1, 0.0, 1.0)  -         행사가 * np.exp(-이자율*진존만기일) * N(d2, 0.0, 1.0)\n",
    "    else: \n",
    "        옵션이론가 = (-1) * 기초자산 * N(-d1, 0.0, 1.0) -  (-1) * 행사가 * np.exp(-이자율*진존만기일) * N(-d2, 0.0, 1.0)\n",
    "    return np.round(옵션이론가,4)"
   ]
  },
  {
   "cell_type": "code",
   "execution_count": 34,
   "id": "79977e1d-ecd2-47d3-a3ab-c1357da27fb4",
   "metadata": {},
   "outputs": [
    {
     "name": "stdout",
     "output_type": "stream",
     "text": [
      "7.56\n",
      "0.03\n",
      "0.8586 0.8586\n"
     ]
    }
   ],
   "source": [
    "현재일 = '2022-09-27'\n",
    "만기일 = '2022-10-05'\n",
    "잔존만기일 = 잔존만기(현재일, 만기일, workday=252)\n",
    "print(잔존만기일)  \n",
    "\n",
    "현물가 = 300\n",
    "행사가 = 330\n",
    "option_price1 = 옵션이론가(현물가, 행사가, 잔존만기일)\n",
    "option_price2 = europian_option(현물가, 행사가, 잔존만기일)\n",
    "print(option_price1, option_price2) "
   ]
  },
  {
   "cell_type": "markdown",
   "id": "f39bd431-5293-49e8-b05e-337cda0341b4",
   "metadata": {},
   "source": [
    "# Greek\n",
    "* ref : https://www.quantconnect.com/tutorials/introduction-to-options/the-greek-letters"
   ]
  },
  {
   "cell_type": "markdown",
   "id": "7301fcc7-e049-4e4d-a4f4-ce904cf87b8b",
   "metadata": {},
   "source": [
    "<img src='https://mblogthumb-phinf.pstatic.net/20120427_193/chunjein_1335500858643DtEqp_GIF/20-1.gif?type=w2' width=400 height=300>"
   ]
  },
  {
   "cell_type": "markdown",
   "id": "5741cf9d-33dc-4fe1-b186-248717b1593a",
   "metadata": {
    "tags": []
   },
   "source": [
    "## 델타 (△)\n",
    "* 기초 자산 가격에 대한 옵션 가격의 변화율<p>\n",
    "    \n",
    "$\\frac{\\partial C}{\\partial S} = N(d_1)$ <p>\n",
    "$\\frac{\\partial P}{\\partial S} = -N(-d_1)$\n"
   ]
  },
  {
   "cell_type": "code",
   "execution_count": 37,
   "id": "289258fb-c8fd-4904-9cb0-bc040ff1b41e",
   "metadata": {},
   "outputs": [
    {
     "data": {
      "text/plain": [
       "Index(['Contract Name_x', 'Last Trade Date_x', 'Strike', 'Last Price_x',\n",
       "       'Bid_x', 'Ask_x', 'Change_x', '% Change_x', 'Volume_x',\n",
       "       'Open Interest_x', 'Implied Volatility_x', 'Contract Name_y',\n",
       "       'Last Trade Date_y', 'Last Price_y', 'Bid_y', 'Ask_y', 'Change_y',\n",
       "       '% Change_y', 'Volume_y', 'Open Interest_y', 'Implied Volatility_y',\n",
       "       'C', 'P', 'expiry_date'],\n",
       "      dtype='object')"
      ]
     },
     "execution_count": 37,
     "metadata": {},
     "output_type": "execute_result"
    }
   ],
   "source": [
    "df.columns"
   ]
  },
  {
   "cell_type": "code",
   "execution_count": 38,
   "id": "977b6f8a-3191-405a-94b8-3faaf1bf5df0",
   "metadata": {},
   "outputs": [
    {
     "data": {
      "text/plain": [
       "<matplotlib.legend.Legend at 0x1d954f01d00>"
      ]
     },
     "execution_count": 38,
     "metadata": {},
     "output_type": "execute_result"
    },
    {
     "data": {
      "image/png": "[encoded data removed]",
      "text/plain": [
       "<Figure size 432x288 with 1 Axes>"
      ]
     },
     "metadata": {},
     "output_type": "display_data"
    }
   ],
   "source": [
    "from scipy.stats import norm\n",
    "import numpy as np\n",
    "N = norm.cdf\n",
    "def d1(S, K, T, r, sigma):\n",
    "    return (np.log(S/K) + (r + sigma**2/2)*T) / sigma*np.sqrt(T)\n",
    "\n",
    "def d2(S, K, T, r, sigma):\n",
    "    return d1(S, K, T, r, sigma) - sigma* np.sqrt(T)\n",
    "\n",
    "def delta_call(S, K, T, r, sigma):\n",
    "    N = norm.cdf\n",
    "    return N(d1(S, K, T, r, sigma))\n",
    "    \n",
    "def delta_put(S, K, T, r, sigma):\n",
    "    return - N(-d1(S, K, T, r, sigma))\n",
    "\n",
    "\n",
    "# ----------------------------------------------------------\n",
    "S = np.arange(1, 250,1)\n",
    "S = df['Last Price_x']\n",
    "\n",
    "deltas_c = delta_call(S, K, T, r, sigma)\n",
    "deltas_p = delta_put(S, K, T, r, sigma)\n",
    "\n",
    "plt.plot(S, deltas_c, label='Delta Call')\n",
    "plt.plot(S, deltas_p, label='Delta Put')\n",
    "plt.xlabel('$S_0$')\n",
    "plt.ylabel('Delta')\n",
    "plt.title('Delta' )\n",
    "plt.axvline(K, color='black', linestyle='dashed', linewidth=2,label=\"Strike\")\n",
    "plt.legend()"
   ]
  },
  {
   "cell_type": "markdown",
   "id": "91882bda-efcd-4915-9062-2eacf15f76d3",
   "metadata": {
    "tags": []
   },
   "source": [
    "## 감마 (Γ)\n",
    "* 기초 자산 가격에 대한 포트폴리오 델타의 변화율<p>\n",
    "* $\\frac{\\partial ^2{C}}{\\partial S^2} =\\frac{\\partial ^2{P}}{\\partial S^2} = \\frac{N'(d_1)}{S\\sigma\\sqrt{T}}$    "
   ]
  },
  {
   "cell_type": "code",
   "execution_count": 41,
   "id": "81b469da-fde6-41b6-b48b-aebdb2f8a5d7",
   "metadata": {},
   "outputs": [
    {
     "data": {
      "image/png": "[encoded data removed]",
      "text/plain": [
       "<Figure size 432x288 with 1 Axes>"
      ]
     },
     "metadata": {},
     "output_type": "display_data"
    }
   ],
   "source": [
    "def gamma(S, K, T, r, sigma):\n",
    "    N = norm.pdf\n",
    "    return N(d1(S,K, T, r, sigma))/(S*sigma*np.sqrt(T))\n",
    "\n",
    "gammas = gamma(S, K, T, r, sigma)\n",
    "plt.axvline(K, color='black', linestyle='dashed', linewidth=2,label=\"Strike\")\n",
    "plt.plot(S, gammas)\n",
    "plt.title('Gamma $')\n",
    "plt.xlabel('$S_0$')\n",
    "plt.ylabel('Gamma')\n",
    "plt.show()"
   ]
  },
  {
   "cell_type": "markdown",
   "id": "b51822f4-166e-4e97-99f5-133858e205cb",
   "metadata": {
    "tags": []
   },
   "source": [
    "## Vega ($V$)\n",
    "* 기초 자산의 변동성에 대한 옵션 가치의 변화율<p>\n",
    "* $\\frac{\\partial {C}}{\\partial \\sigma} =\\frac{\\partial {P}}{\\partial \\sigma}=S\\sqrt{T} N'(d1) $    "
   ]
  },
  {
   "cell_type": "code",
   "execution_count": 43,
   "id": "26bbaae3-8f4f-42fe-a613-c4ff3f9951d3",
   "metadata": {},
   "outputs": [
    {
     "data": {
      "text/plain": [
       "Text(0.5, 1.0, 'Vega')"
      ]
     },
     "execution_count": 43,
     "metadata": {},
     "output_type": "execute_result"
    },
    {
     "data": {
      "image/png": "[encoded data removed]",
      "text/plain": [
       "<Figure size 432x288 with 1 Axes>"
      ]
     },
     "metadata": {},
     "output_type": "display_data"
    }
   ],
   "source": [
    "def vega(S, K, T, r, sigma):\n",
    "    N_prime = norm.pdf\n",
    "    return S*np.sqrt(T)*N_prime(d1(S,K,T,r,sigma)) \n",
    "\n",
    "sample_t = [1,0.75,0.5,0.25]\n",
    "for t in sample_t:\n",
    "    vegas = vega(S, K, t, r, sigma)\n",
    "    plt.plot(S, vegas, label=f'T = {t}')\n",
    "plt.legend()\n",
    "plt.axvline(K, color='black', linestyle='dashed', linewidth=2,label=\"Strike\")\n",
    "plt.xlabel('$S_0$')\n",
    "plt.ylabel('Vega')\n",
    "plt.title('Vega')"
   ]
  },
  {
   "cell_type": "markdown",
   "id": "52909fec-5024-4a9c-b9f5-848c277bc3c0",
   "metadata": {
    "tags": []
   },
   "source": [
    "## Seta ($\\theta$)\n",
    "* 시간 경과에 따른 옵션 가치의 변화율<p>\n",
    "* $\\frac{\\partial {C}}{\\partial T} = -\\frac{S \\ N'\\left ( d1 \\right )\\sigma}{2\\sqrt{T}}-rKe^{-rT}N\\left ( d2 \\right )$    \n",
    "* $\\frac{\\partial {P}}{\\partial T} = -\\frac{S \\ N'\\left ( d1 \\right )\\sigma}{2\\sqrt{T}}+rKe^{-rT}N\\left ( -d2 \\right )$    "
   ]
  },
  {
   "cell_type": "code",
   "execution_count": 52,
   "id": "a8144e1a-bc1c-4ca0-aca3-27fb5cd72e76",
   "metadata": {},
   "outputs": [
    {
     "data": {
      "text/plain": [
       "Text(0, 0.5, 'Theta')"
      ]
     },
     "execution_count": 52,
     "metadata": {},
     "output_type": "execute_result"
    },
    {
     "data": {
      "image/png": "[encoded data removed]",
      "text/plain": [
       "<Figure size 432x288 with 1 Axes>"
      ]
     },
     "metadata": {},
     "output_type": "display_data"
    }
   ],
   "source": [
    "def theta_call(S, K, T, r, sigma):\n",
    "    p1 = - S*stat.norm.pdf(d1(S, K, T, r, sigma))*sigma / (2 * np.sqrt(T))\n",
    "    p2 = r*K*np.exp(-r*T)*N(d2(S, K, T, r, sigma)) \n",
    "    return p1 - p2\n",
    "\n",
    "def theta_put(S, K, T, r, sigma):\n",
    "    p1 = - S*stat.norm.pdf(d1(S, K, T, r, sigma))*sigma / (2 * np.sqrt(T))\n",
    "    p2 = r*K*np.exp(-r*T)*N(-d2(S, K, T, r, sigma)) \n",
    "    plt.axvline(K, color='black', linestyle='dashed', linewidth=2,label=\"Strike\")\n",
    "    return p1 + p2\n",
    "\n",
    "sample_t = [1,0.75,0.5,0.25,0.1,0.05]\n",
    "for t in sample_t:\n",
    "    thetas = theta_call(S, K, t, r, sigma)\n",
    "    plt.plot(S, thetas, label=f'T = {t}')\n",
    "\n",
    "plt.axvline(K, color='black', linestyle='dashed', linewidth=2,label=\"Strike\")    \n",
    "plt.legend()\n",
    "plt.title('Theta')\n",
    "plt.xlabel('$S_0$')\n",
    "plt.ylabel('Theta')"
   ]
  },
  {
   "cell_type": "markdown",
   "id": "f94ce622-98ae-407e-846f-bf519ab321c5",
   "metadata": {},
   "source": [
    "## Greek report\n",
    "* ref : https://www.cmegroup.com/tools-information/quikstrike/options-calculator.html"
   ]
  },
  {
   "cell_type": "code",
   "execution_count": 51,
   "id": "2b7da304-d1c6-4fea-82f8-3fc2e2e49a04",
   "metadata": {},
   "outputs": [
    {
     "data": {
      "text/html": [
       "<div>\n",
       "<style scoped>\n",
       "    .dataframe tbody tr th:only-of-type {\n",
       "        vertical-align: middle;\n",
       "    }\n",
       "\n",
       "    .dataframe tbody tr th {\n",
       "        vertical-align: top;\n",
       "    }\n",
       "\n",
       "    .dataframe thead th {\n",
       "        text-align: right;\n",
       "    }\n",
       "</style>\n",
       "<table border=\"1\" class=\"dataframe\">\n",
       "  <thead>\n",
       "    <tr style=\"text-align: right;\">\n",
       "      <th></th>\n",
       "      <th>Last Trade Date_x</th>\n",
       "      <th>Strike</th>\n",
       "      <th>Last Price_x</th>\n",
       "      <th>delta</th>\n",
       "      <th>gamma</th>\n",
       "      <th>vega</th>\n",
       "      <th>theta</th>\n",
       "    </tr>\n",
       "  </thead>\n",
       "  <tbody>\n",
       "    <tr>\n",
       "      <th>0</th>\n",
       "      <td>2022-10-04 15:54:00</td>\n",
       "      <td>100.0</td>\n",
       "      <td>149.20</td>\n",
       "      <td>0.673494</td>\n",
       "      <td>0.054043</td>\n",
       "      <td>12.030216</td>\n",
       "      <td>-25.373537</td>\n",
       "    </tr>\n",
       "    <tr>\n",
       "      <th>1</th>\n",
       "      <td>2022-10-03 15:41:00</td>\n",
       "      <td>110.0</td>\n",
       "      <td>134.08</td>\n",
       "      <td>0.629345</td>\n",
       "      <td>0.063004</td>\n",
       "      <td>11.326477</td>\n",
       "      <td>-23.876389</td>\n",
       "    </tr>\n",
       "    <tr>\n",
       "      <th>2</th>\n",
       "      <td>2022-10-05 12:21:00</td>\n",
       "      <td>120.0</td>\n",
       "      <td>116.48</td>\n",
       "      <td>0.568592</td>\n",
       "      <td>0.075450</td>\n",
       "      <td>10.236773</td>\n",
       "      <td>-21.574352</td>\n",
       "    </tr>\n",
       "    <tr>\n",
       "      <th>3</th>\n",
       "      <td>2022-10-05 13:34:00</td>\n",
       "      <td>130.0</td>\n",
       "      <td>108.75</td>\n",
       "      <td>0.538247</td>\n",
       "      <td>0.081651</td>\n",
       "      <td>9.656558</td>\n",
       "      <td>-20.352986</td>\n",
       "    </tr>\n",
       "    <tr>\n",
       "      <th>4</th>\n",
       "      <td>2022-10-05 15:18:00</td>\n",
       "      <td>140.0</td>\n",
       "      <td>102.10</td>\n",
       "      <td>0.510161</td>\n",
       "      <td>0.087343</td>\n",
       "      <td>9.104999</td>\n",
       "      <td>-19.193657</td>\n",
       "    </tr>\n",
       "  </tbody>\n",
       "</table>\n",
       "</div>"
      ],
      "text/plain": [
       "    Last Trade Date_x  Strike  Last Price_x     delta     gamma       vega  \\\n",
       "0 2022-10-04 15:54:00   100.0        149.20  0.673494  0.054043  12.030216   \n",
       "1 2022-10-03 15:41:00   110.0        134.08  0.629345  0.063004  11.326477   \n",
       "2 2022-10-05 12:21:00   120.0        116.48  0.568592  0.075450  10.236773   \n",
       "3 2022-10-05 13:34:00   130.0        108.75  0.538247  0.081651   9.656558   \n",
       "4 2022-10-05 15:18:00   140.0        102.10  0.510161  0.087343   9.104999   \n",
       "\n",
       "       theta  \n",
       "0 -25.373537  \n",
       "1 -23.876389  \n",
       "2 -21.574352  \n",
       "3 -20.352986  \n",
       "4 -19.193657  "
      ]
     },
     "execution_count": 51,
     "metadata": {},
     "output_type": "execute_result"
    }
   ],
   "source": [
    "greek_df = df[['Last Trade Date_x','Strike','Last Price_x']]\n",
    "\n",
    "\n",
    "greek_df['delta'] = delta_call(S, K, t, r, sigma)\n",
    "greek_df['gamma'] = gamma(S, K, t, r, sigma)\n",
    "greek_df['vega'] = vega(S, K, t, r, sigma)\n",
    "greek_df['theta'] = theta_call(S, K, t, r, sigma)\n",
    "greek_df.head()"
   ]
  },
  {
   "cell_type": "code",
   "execution_count": null,
   "id": "75f8abef-352f-4061-9457-cd4eb854e1b3",
   "metadata": {},
   "outputs": [],
   "source": []
  },
  {
   "cell_type": "markdown",
   "id": "9c34bb7d-dab4-4876-b73c-fdb1f528f4e7",
   "metadata": {},
   "source": [
    "# opstrat 패키지\n",
    "* 옵션 전용 차트 패키지"
   ]
  },
  {
   "cell_type": "code",
   "execution_count": null,
   "id": "65d60596-d21a-4d0c-808d-1170d40178d3",
   "metadata": {},
   "outputs": [],
   "source": [
    "# ! pip install opstrat"
   ]
  },
  {
   "cell_type": "code",
   "execution_count": null,
   "id": "ad4ab163-9f67-4be6-a99d-d45e862996e1",
   "metadata": {},
   "outputs": [],
   "source": [
    "import opstrat as op"
   ]
  },
  {
   "cell_type": "code",
   "execution_count": null,
   "id": "ab501baa-6d00-47a9-bb1e-13d013a936c8",
   "metadata": {},
   "outputs": [],
   "source": []
  },
  {
   "cell_type": "markdown",
   "id": "d096b17f-23c8-44c6-bf56-3be4b70e7571",
   "metadata": {},
   "source": [
    "# OOP 구조"
   ]
  },
  {
   "cell_type": "code",
   "execution_count": null,
   "id": "3756aa92-b7e2-4e58-a52d-4a709a677a68",
   "metadata": {},
   "outputs": [],
   "source": [
    "from scipy.stats import norm\n",
    "class BsOption:\n",
    "    def __init__(self, S, K, T, r, sigma, q=0):\n",
    "        self.S = S\n",
    "        self.K = K\n",
    "        self.T = T\n",
    "        self.r = r \n",
    "        self.sigma = sigma\n",
    "        self.q = q\n",
    "          \n",
    "    @staticmethod\n",
    "    def N(x):\n",
    "        return norm.cdf(x)\n",
    "    \n",
    "    @property\n",
    "    def params(self):\n",
    "        return {'S': self.S, \n",
    "                'K': self.K, \n",
    "                'T': self.T, \n",
    "                'r':self.r,\n",
    "                'q':self.q,\n",
    "                'sigma':self.sigma}\n",
    "    \n",
    "    def d1(self):\n",
    "        return (np.log(self.S/self.K) + (self.r -self.q + self.sigma**2/2)*self.T) \\\n",
    "                                / (self.sigma*np.sqrt(self.T))\n",
    "    \n",
    "    def d2(self):\n",
    "        return self.d1() - self.sigma*np.sqrt(self.T)\n",
    "    \n",
    "    def _call_value(self):\n",
    "        return self.S*np.exp(-self.q*self.T)*self.N(self.d1())    -  self.K*np.exp(-self.r*self.T) * self.N(self.d2())\n",
    "                    \n",
    "    def _put_value(self):\n",
    "        return self.K*np.exp(-self.r*self.T) * self.N(-self.d2()) - self.S*np.exp(-self.q*self.T)*self.N(-self.d1())\n",
    "    \n",
    "    def price(self, type_ = 'B'):\n",
    "        if type_ == 'C':\n",
    "            return self._call_value()\n",
    "        elif type_ == 'P':\n",
    "            return self._put_value() \n",
    "        elif type_ == 'B':\n",
    "            return  {'call': self._call_value(), 'put': self._put_value()}\n",
    "        else:\n",
    "            raise ValueError('Unrecognized type')\n",
    "            \n",
    "                \n",
    "# if __name__ == '__main__':\n",
    "res = BsOption(S, K, T, r, sigma).price()\n",
    "print(res['call'])\n",
    "print(res['put'])\n",
    "#Out:\n",
    "#{'call': 16.73413358238666, 'put': 7.217875385982609}  "
   ]
  }
 ],
 "metadata": {
  "kernelspec": {
   "display_name": "Python 3 (ipykernel)",
   "language": "python",
   "name": "python3"
  },
  "language_info": {
   "codemirror_mode": {
    "name": "ipython",
    "version": 3
   },
   "file_extension": ".py",
   "mimetype": "text/x-python",
   "name": "python",
   "nbconvert_exporter": "python",
   "pygments_lexer": "ipython3",
   "version": "3.8.8"
  },
  "toc-autonumbering": true,
  "widgets": {
   "application/vnd.jupyter.widget-state+json": {
    "state": {},
    "version_major": 2,
    "version_minor": 0
   }
  }
 },
 "nbformat": 4,
 "nbformat_minor": 5
}
