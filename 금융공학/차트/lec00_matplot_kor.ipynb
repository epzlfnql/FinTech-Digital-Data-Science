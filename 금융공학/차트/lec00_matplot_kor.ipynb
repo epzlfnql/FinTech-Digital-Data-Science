{
 "cells": [
  {
   "cell_type": "code",
   "execution_count": 10,
   "id": "taken-reduction",
   "metadata": {},
   "outputs": [],
   "source": [
    "# ref : http://corazzon.github.io/matplotlib_font_setting"
   ]
  },
  {
   "cell_type": "markdown",
   "id": "orange-tourism",
   "metadata": {},
   "source": [
    "# 차트 한글 적용"
   ]
  },
  {
   "cell_type": "code",
   "execution_count": 17,
   "id": "rental-hometown",
   "metadata": {},
   "outputs": [
    {
     "name": "stdout",
     "output_type": "stream",
     "text": [
      "1버전:  3.3.4\n",
      "2설치 위치:  c:\\it\\pythonproject2\\venv\\lib\\site-packages\\matplotlib\\__init__.py\n",
      "3설정 위치:  C:\\Users\\pc\\.matplotlib\n",
      "4캐시 위치:  C:\\Users\\pc\\.matplotlib\n",
      "5설정파일 위치:  c:\\it\\pythonproject2\\venv\\lib\\site-packages\\matplotlib\\mpl-data\\matplotlibrc\n",
      "6ttf 폰트 전체갯수:  ['C:\\\\WINDOWS\\\\Fonts\\\\FORTE.TTF', 'C:\\\\Windows\\\\Fonts\\\\corbeli.ttf', 'C:\\\\Windows\\\\Fonts\\\\LeelawUI.ttf', 'C:\\\\WINDOWS\\\\Fonts\\\\BOD_R.TTF', 'C:\\\\Windows\\\\Fonts\\\\MTCORSVA.TTF']\n",
      "7NanumGothic:  [('NanumGothic', 'C:\\\\Windows\\\\Fonts\\\\\\x7f\\x7f\\x7f\\x7fBOLD.TTF'), ('NanumGothic', 'C:\\\\Windows\\\\Fonts\\\\\\x7f\\x7f\\x7f\\x7f.TTF'), ('NanumGothic', 'C:\\\\Windows\\\\Fonts\\\\\\x7f\\x7f\\x7f\\x7fEXTRABOLD.TTF')]\n"
     ]
    }
   ],
   "source": [
    "import matplotlib as mpl\n",
    "import matplotlib.pyplot as plt\n",
    "import matplotlib.font_manager as fm\n",
    "\n",
    "mpl.rcParams['axes.unicode_minus'] = False\n",
    "print ('1버전: ', mpl.__version__)\n",
    "print ('2설치 위치: ', mpl.__file__)\n",
    "print ('3설정 위치: ', mpl.get_configdir())\n",
    "print ('4캐시 위치: ', mpl.get_cachedir()[:50])\n",
    "print ('5설정파일 위치: ', mpl.matplotlib_fname())\n",
    "print('6ttf 폰트 전체갯수: ', fm.findSystemFonts(fontpaths=None, fontext='ttf')[:5]) # \n",
    "print('7NanumGothic: ',[(f.name, f.fname) for f in fm.fontManager.ttflist if 'Nanum' in f.name][:5])\n",
    "\n",
    "\n"
   ]
  },
  {
   "cell_type": "markdown",
   "id": "million-idaho",
   "metadata": {},
   "source": [
    "### 1) FontProperties : 그래프 항목마다 지정"
   ]
  },
  {
   "cell_type": "code",
   "execution_count": 18,
   "id": "scientific-laundry",
   "metadata": {},
   "outputs": [
    {
     "data": {
      "image/png": "[encoded data removed]",
      "text/plain": [
       "<Figure size 720x288 with 1 Axes>"
      ]
     },
     "metadata": {
      "needs_background": "light"
     },
     "output_type": "display_data"
    }
   ],
   "source": [
    "path = 'C:\\\\Windows\\\\Fonts\\\\\\x7f\\x7f\\x7f\\x7f.TTF'\n",
    "fontprop = fm.FontProperties(fname=path, size=10)\n",
    "plt.title('주식 가격')\n",
    "plt.show()"
   ]
  },
  {
   "cell_type": "markdown",
   "id": "spiritual-crowd",
   "metadata": {},
   "source": [
    "### 2-1) matplotlib.rcParams[] : 전역글꼴 설정"
   ]
  },
  {
   "cell_type": "code",
   "execution_count": 21,
   "id": "final-andrews",
   "metadata": {},
   "outputs": [
    {
     "name": "stdout",
     "output_type": "stream",
     "text": [
      "10.0\n",
      "['C:\\\\Windows\\\\Fonts\\\\\\x7f\\x7f\\x7f\\x7f.TTF']\n"
     ]
    },
    {
     "data": {
      "image/png": "[encoded data removed]",
      "text/plain": [
       "<Figure size 720x288 with 1 Axes>"
      ]
     },
     "metadata": {
      "needs_background": "light"
     },
     "output_type": "display_data"
    }
   ],
   "source": [
    "print (plt.rcParams['font.size'] )\n",
    "print (plt.rcParams['font.family'] )\n",
    "\n",
    "plt.rcParams[\"font.family\"] = 'C:\\\\Windows\\\\Fonts\\\\\\x7f\\x7f\\x7f\\x7f.TTF'\n",
    "plt.rcParams[\"font.size\"] = 10\n",
    "# plt.rcParams[\"figure.figsize\"] = (10,4)\n",
    "plt.title('주식 가격')\n",
    "plt.show()\n"
   ]
  },
  {
   "cell_type": "markdown",
   "id": "ancient-welding",
   "metadata": {},
   "source": [
    "### 2-2) matplotlib.FontProperties : 전역글꼴 설정"
   ]
  },
  {
   "cell_type": "code",
   "execution_count": 22,
   "id": "valued-problem",
   "metadata": {},
   "outputs": [
    {
     "name": "stdout",
     "output_type": "stream",
     "text": [
      "NanumGothic\n"
     ]
    },
    {
     "data": {
      "image/png": "[encoded data removed]",
      "text/plain": [
       "<Figure size 720x288 with 1 Axes>"
      ]
     },
     "metadata": {
      "needs_background": "light"
     },
     "output_type": "display_data"
    }
   ],
   "source": [
    "path = 'C:\\\\Windows\\\\Fonts\\\\\\x7f\\x7f\\x7f\\x7fBOLD.TTF'\n",
    "font_name = fm.FontProperties(fname=path, size=10).get_name()\n",
    "print(font_name)\n",
    "plt.rc('font', family=font_name)\n",
    "plt.title('한글제목')\n",
    "plt.show()"
   ]
  },
  {
   "cell_type": "markdown",
   "id": "atmospheric-denmark",
   "metadata": {},
   "source": [
    "### 3) 2)번의 방법을 mpl.matplotlib_fname()로 읽어지는 설정 파일에 직접 설정 --> 모든 노트북에 적용"
   ]
  },
  {
   "cell_type": "code",
   "execution_count": 23,
   "id": "straight-metro",
   "metadata": {},
   "outputs": [
    {
     "name": "stdout",
     "output_type": "stream",
     "text": [
      "설정파일 위치:  c:\\it\\pythonproject2\\venv\\lib\\site-packages\\matplotlib\\mpl-data\\matplotlibrc\n"
     ]
    },
    {
     "data": {
      "image/png": "[encoded data removed]",
      "text/plain": [
       "<Figure size 720x288 with 1 Axes>"
      ]
     },
     "metadata": {
      "needs_background": "light"
     },
     "output_type": "display_data"
    }
   ],
   "source": [
    "print ('설정파일 위치: ', mpl.matplotlib_fname())\n",
    "fig, ax = plt.subplots()\n",
    "ax.set_title('한글제목')\n",
    "plt.show()"
   ]
  }
 ],
 "metadata": {
  "kernelspec": {
   "display_name": "Python 3 (ipykernel)",
   "language": "python",
   "name": "python3"
  },
  "language_info": {
   "codemirror_mode": {
    "name": "ipython",
    "version": 3
   },
   "file_extension": ".py",
   "mimetype": "text/x-python",
   "name": "python",
   "nbconvert_exporter": "python",
   "pygments_lexer": "ipython3",
   "version": "3.8.8"
  }
 },
 "nbformat": 4,
 "nbformat_minor": 5
}
