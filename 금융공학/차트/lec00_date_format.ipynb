{
 "cells": [
  {
   "cell_type": "code",
   "execution_count": 48,
   "id": "engaging-socket",
   "metadata": {},
   "outputs": [],
   "source": [
    "# ref : https://ellun.tistory.com/320"
   ]
  },
  {
   "cell_type": "markdown",
   "id": "least-drain",
   "metadata": {},
   "source": [
    "A. 파이썬 날짜 시간 타입 이해"
   ]
  },
  {
   "cell_type": "markdown",
   "id": "mexican-lotus",
   "metadata": {},
   "source": [
    "<table style=\"border-collapse: collapse; width: 61.9767%; height: 144px;\" border=\"1\" data-ke-style=\"style15\">\n",
    "<tbody>\n",
    "<tr>\n",
    "<td style=\"width: 33.3333%; text-align: center;\"><span style=\"font-family: 'Noto Serif KR';\"><b>라이브러리</b></span></td>\n",
    "<td style=\"width: 33.3333%; text-align: center;\"><span style=\"font-family: 'Noto Serif KR';\"><b>날짜, 시간 클래스</b></span></td>\n",
    "<td style=\"width: 33.3333%; text-align: center;\"><span style=\"font-family: 'Noto Serif KR';\"><b>타임델타 클래스</b></span></td>\n",
    "</tr>\n",
    "<tr>\n",
    "<td style=\"width: 33.3333%; text-align: center;\"><b><span style=\"font-family: 'Noto Serif KR';\">&nbsp;datetime</span></b></td>\n",
    "<td style=\"width: 33.3333%; text-align: center;\"><b><span style=\"font-family: 'Noto Serif KR';\">&nbsp;datetime, date, time</span></b></td>\n",
    "<td style=\"width: 33.3333%; text-align: center;\"><b><span style=\"font-family: 'Noto Serif KR';\">timedelta</span></b></td>\n",
    "</tr>\n",
    "<tr>\n",
    "<td style=\"width: 33.3333%; text-align: center;\"><b><span style=\"font-family: 'Noto Serif KR';\">numpy</span></b></td>\n",
    "<td style=\"width: 33.3333%; text-align: center;\"><b><span style=\"font-family: 'Noto Serif KR';\">datetime64</span></b></td>\n",
    "<td style=\"width: 33.3333%; text-align: center;\"><b><span style=\"font-family: 'Noto Serif KR';\">timedelta64</span></b></td>\n",
    "</tr>\n",
    "<tr>\n",
    "<td style=\"width: 33.3333%; text-align: center;\"><b><span style=\"font-family: 'Noto Serif KR';\">pandas</span></b></td>\n",
    "<td style=\"width: 33.3333%; text-align: center;\"><b><span style=\"font-family: 'Noto Serif KR';\">Timestamp</span></b></td>\n",
    "<td style=\"width: 33.3333%; text-align: center;\"><b><span style=\"font-family: 'Noto Serif KR';\">Timedelta</span></b></td>\n",
    "</tr>\n",
    "</tbody>\n",
    "</table>"
   ]
  },
  {
   "cell_type": "markdown",
   "id": "exempt-horse",
   "metadata": {},
   "source": [
    "B.타임델타 계산 결과"
   ]
  },
  {
   "cell_type": "markdown",
   "id": "immediate-polyester",
   "metadata": {},
   "source": [
    "<table style=\"border-collapse: collapse; width: 87.6744%; height: 154px;\" border=\"1\" data-ke-style=\"style15\">\n",
    "<tbody>\n",
    "<tr style=\"height: 21px;\">\n",
    "<td style=\"width: 26.8346%; text-align: center; height: 21px;\"><span style=\"font-family: 'Noto Serif KR';\"><b>입력값의 타입</b></span></td>\n",
    "<td style=\"width: 28.5588%; text-align: center; height: 21px;\"><span style=\"font-family: 'Noto Serif KR';\"><b>출력값의 타입</b></span></td>\n",
    "<td style=\"width: 44.6065%; text-align: center; height: 21px;\"><span style=\"font-family: 'Noto Serif KR';\"><b>예시</b></span></td>\n",
    "</tr>\n",
    "<tr style=\"height: 21px;\">\n",
    "<td style=\"width: 26.8346%; text-align: center; height: 21px;\"><b><span style=\"font-family: 'Noto Serif KR';\">&nbsp;날짜 - 날짜</span></b></td>\n",
    "<td style=\"width: 28.5588%; text-align: center; height: 21px;\"><b><span style=\"font-family: 'Noto Serif KR';\">타임델타</span></b></td>\n",
    "<td style=\"width: 44.6065%; text-align: center; height: 21px;\"><b><span style=\"font-family: 'Noto Serif KR';\">(2021-03-16) - (2021-03-11) = 5일</span></b></td>\n",
    "</tr>\n",
    "<tr style=\"height: 21px;\">\n",
    "<td style=\"width: 26.8346%; text-align: center; height: 21px;\"><b><span style=\"font-family: 'Noto Serif KR';\">날짜 - 타임델타</span></b></td>\n",
    "<td style=\"width: 28.5588%; text-align: center; height: 21px;\"><b><span style=\"font-family: 'Noto Serif KR';\">날짜</span></b></td>\n",
    "<td style=\"width: 44.6065%; text-align: center; height: 21px;\"><b><span style=\"font-family: 'Noto Serif KR';\">(2021-03-16) - 5일 = (2021-03-11)</span></b></td>\n",
    "</tr>\n",
    "<tr style=\"height: 21px;\">\n",
    "<td style=\"width: 26.8346%; text-align: center; height: 21px;\"><b><span style=\"font-family: 'Noto Serif KR';\">타임델타 - 타임델타</span></b></td>\n",
    "<td style=\"width: 28.5588%; text-align: center; height: 21px;\"><b><span style=\"font-family: 'Noto Serif KR';\">타임델타</span></b></td>\n",
    "<td style=\"width: 44.6065%; text-align: center; height: 21px;\"><b><span style=\"font-family: 'Noto Serif KR';\">10일 - 7일 = 3일</span></b></td>\n",
    "</tr>\n",
    "</tbody>\n",
    "</table>"
   ]
  },
  {
   "cell_type": "markdown",
   "id": "coordinate-venice",
   "metadata": {},
   "source": [
    "C. 파이썬 날짜 타입 및 변환 정리표"
   ]
  },
  {
   "cell_type": "markdown",
   "id": "inclusive-split",
   "metadata": {},
   "source": [
    "<img src='./datasets/loan_bonds/date_format.png'>"
   ]
  },
  {
   "cell_type": "markdown",
   "id": "controlled-people",
   "metadata": {},
   "source": [
    "### 1. 날짜 데이터 정의"
   ]
  },
  {
   "cell_type": "code",
   "execution_count": 17,
   "id": "together-instruction",
   "metadata": {},
   "outputs": [
    {
     "name": "stdout",
     "output_type": "stream",
     "text": [
      "2020-07-21 00:00:00\n",
      "2020-07-21 12:00:00\n",
      "2020-07-21\n",
      "2020-07-21 15:12:40\n"
     ]
    }
   ],
   "source": [
    "#1-1. 날짜 데이터 정의 - 숫자- pandas\n",
    "import pandas as pd \n",
    "print(pd.Timestamp(2020, 7, 21))                         # 2020-07-21 00:00:00 \n",
    "print(pd.Timestamp(year=2020, month=7, day=21, hour=12)) # 2020-07-21 12:00:00 \n",
    "\n",
    "#1-2. 날짜 데이터 정의 - 숫자- numpy \n",
    "import numpy as np \n",
    "# print(np.datetime64(2020, 7, 21))                      # TypeError: function takes at most 2 arguments (3 given) \n",
    "\n",
    "#1-3. 날짜 데이터 정의 - 숫자 - python \n",
    "import datetime \n",
    "print(datetime.date(2020, 7, 21))                        # 2020-07-21 \n",
    "print(datetime.datetime(2020, 7, 21, 15, 12, 40))        # 2020-07-21 15:12:40\n"
   ]
  },
  {
   "cell_type": "markdown",
   "id": "chicken-alpha",
   "metadata": {},
   "source": [
    "### 2. 텍스트 → 날짜 변환(스칼라 값)"
   ]
  },
  {
   "cell_type": "code",
   "execution_count": 19,
   "id": "polished-watson",
   "metadata": {},
   "outputs": [
    {
     "name": "stdout",
     "output_type": "stream",
     "text": [
      "1 2020-07-21 00:00:00\n",
      "2 2020-07-21 00:00:00\n",
      "3 2020-07-21 00:00:00\n",
      "4 2020-07-21 00:00:00\n",
      "5 2020-07-21\n",
      "9 2020-07-21\n",
      "10 07:01:45\n",
      "11 2020-07-21 00:00:00\n"
     ]
    }
   ],
   "source": [
    "#2-1. 날짜 텍스트 → 날짜 변환(스칼라값)- pandas \n",
    "import pandas as pd \n",
    "print('1',pd.to_datetime('2020-07-21')) # 2020-07-21 00:00:00 \n",
    "print('2',pd.to_datetime('07-21-2020')) # 2020-07-21 00:00:00 \n",
    "print('3',pd.to_datetime('2020/07/21')) # 2020-07-21 00:00:00 \n",
    "print('4',pd.to_datetime('07/21/2020')) # 2020-07-21 00:00:00 \n",
    "\n",
    "#2-2. 날짜 텍스트 → 날짜 변환(스칼라값)- numpy --> 오직 '연-월-일' \n",
    "import numpy as np \n",
    "print('5',np.datetime64('2020-07-21'))   # 2020-07-21 \n",
    "# print('6',np.datetime64('07-21-2020')) # ValueError: Month out of range in datetime string \"07-21-2020\" \n",
    "# print('7',np.datetime64('2020/07/21')) # ValueError: Error parsing datetime string \"2020/07/21\" at position 4 \n",
    "# print('8',np.datetime64('07/21/2020')) # ValueError: Error parsing datetime string \"07/21/2020\" at position 2 \n",
    "\n",
    "#2-3. 날짜 텍스트 → 날짜 변환(스칼라값) - python  --> 오직 '연-월-일' , '시:분:초'\n",
    "import datetime \n",
    "print('9' ,datetime.date.fromisoformat('2020-07-21'))     # 2020-07-21 \n",
    "print('10',datetime.time.fromisoformat('07:01:45'))       # 07:01:45\n",
    "print('11',datetime.datetime.fromisoformat('2020-07-21')) # 2020-07-21 00:00:00\n",
    "\n"
   ]
  },
  {
   "cell_type": "markdown",
   "id": "moving-links",
   "metadata": {},
   "source": [
    "### 3. 텍스트 → 날짜 변환(벡터 값)\n",
    "* pd.to_datetime(v)\n",
    "* np.array(v, dtype='datetime64')\n",
    "* [date.fromisoformat(i) for i in v ]"
   ]
  },
  {
   "cell_type": "code",
   "execution_count": 27,
   "id": "front-photograph",
   "metadata": {},
   "outputs": [
    {
     "name": "stdout",
     "output_type": "stream",
     "text": [
      "1 DatetimeIndex(['2020-07-21', '2020-07-22'], dtype='datetime64[ns]', freq=None)\n",
      "2 DatetimeIndex(['2020-07-21', '2020-07-22'], dtype='datetime64[ns]', freq=None)\n",
      "3\n",
      " 0   2020-07-21\n",
      "1   2020-07-22\n",
      "dtype: datetime64[ns]\n",
      "4 ['2020-07-21' '2020-07-22']\n",
      "5 ['2020-07-21' '2020-07-22']\n",
      "6 ['2020-07-21' '2020-07-22']\n",
      "8 [datetime.date(2020, 7, 21), datetime.date(2020, 7, 22)]\n",
      "9 [datetime.date(2020, 7, 21), datetime.date(2020, 7, 22)]\n",
      "10 [datetime.date(2020, 7, 21), datetime.date(2020, 7, 22)]\n"
     ]
    }
   ],
   "source": [
    "import pandas as pd\n",
    "import numpy as np\n",
    "from datetime import  date\n",
    "\n",
    "date_list = ['2020-07-21', '2020-07-22']               # list\n",
    "date_array = np.array(['2020-07-21', '2020-07-22'])    # ndarray\n",
    "date_series = pd.Series(['2020-07-21', '2020-07-22'])  # Series\n",
    "\n",
    "#3-1. 텍스트 → 날짜 변환(벡터값) - pandas -->  # DatetimeIndex 데이터 타입으로 변경\n",
    "print(\"1\",pd.to_datetime(date_list))         #    DatetimeIndex(['2020-07-21', '2020-07-22'], dtype='datetime64[ns]', freq=None)\n",
    "print(\"2\",pd.to_datetime(date_array))        #    DatetimeIndex(['2020-07-21', '2020-07-22'], dtype='datetime64[ns]', freq=None)\n",
    "print(\"3\\n\",pd.to_datetime(date_series))     # 각 원소들만 dtype: datetime64[ns] 변환\n",
    "                                             #    0   2020-07-21\n",
    "                                             #    1   2020-07-22\n",
    "\n",
    "#3-2. 텍스트 → 날짜 변환(벡터값) - numpy                      # 각 원소들만 dtype: datetime64[ns] 변환\n",
    "print(\"4\",np.array(date_list,   dtype='datetime64'))        #   ['2020-07-21' '2020-07-22']\n",
    "print(\"5\",np.array(date_array,  dtype='datetime64'))        #   ['2020-07-21' '2020-07-22']\n",
    "print(\"6\",np.array(date_series, dtype='datetime64'))        #   ['2020-07-21' '2020-07-22']\n",
    "# print(\"7\",np.datetime64(date_list))                       # ValueError: Could not convert object to NumPy datetime\n",
    "\n",
    "\n",
    "#3-3. 텍스트 → 날짜 변환(벡터값) - python -->                  # 클래스는 벡터 ->날짜 변환 함수가 없다, 각 원소별로 함수 적용\n",
    "print(\"8\", [ date.fromisoformat(d) for d in date_list ] )    #   [datetime.date(2020, 7, 21), datetime.date(2020, 7, 22)]\n",
    "print(\"9\", [ date.fromisoformat(d) for d in date_array ] )   #   [datetime.date(2020, 7, 21), datetime.date(2020, 7, 22)]\n",
    "print(\"10\",[ date.fromisoformat(d) for d in date_series ] )  #   [datetime.date(2020, 7, 21), datetime.date(2020, 7, 22)]\n"
   ]
  },
  {
   "cell_type": "markdown",
   "id": "healthy-ready",
   "metadata": {},
   "source": [
    "### 4. 날짜(스칼라) - 날짜(스칼라) 간 계산\n",
    "*  두 날짜의 차이를 구하는 -(빼기) 연산만 가능\n",
    "*  timedelta라고 하는 별도의 데이터 타입으로 저장"
   ]
  },
  {
   "cell_type": "code",
   "execution_count": 35,
   "id": "located-ambassador",
   "metadata": {},
   "outputs": [
    {
     "name": "stdout",
     "output_type": "stream",
     "text": [
      "1 2 days 00:00:00 <class 'pandas._libs.tslibs.timedeltas.Timedelta'>\n",
      "2 2 days <class 'numpy.timedelta64'>\n",
      "3 2 days, 0:00:00 <class 'datetime.timedelta'>\n",
      "4 2 days 00:00:00 <class 'pandas._libs.tslibs.timedeltas.Timedelta'>\n",
      "5 2 days 00:00:00\n"
     ]
    }
   ],
   "source": [
    "import pandas as pd\n",
    "import numpy as np\n",
    "from datetime import  date\n",
    "\n",
    "date_pd1 = pd.to_datetime('2020-07-22')      #Timestamp\n",
    "date_pd2 = pd.to_datetime('2020-07-20')\n",
    "date_np1 = np.datetime64('2020-07-22')       #datetime64\n",
    "date_np2 = np.datetime64('2020-07-20')\n",
    "date_py1 = date.fromisoformat('2020-07-22')  #date\n",
    "date_py2 = date.fromisoformat('2020-07-20')\n",
    "\n",
    "#4-1. 날짜(스칼라) - 날짜(스칼라) , 계산결과 타입\n",
    "print(\"1\", date_pd1 - date_pd2, type(date_pd1 - date_pd2))   # 2 days 00:00:00   <class 'pandas._libs.tslibs.timedeltas.Timedelta'>\n",
    "print(\"2\", date_np1 - date_np2, type(date_np1 - date_np2))   # 2 days            <class 'numpy.timedelta64'>\n",
    "print(\"3\", date_py1 - date_py2, type(date_py1 - date_py2))   # 2 days, 0:00:00   <class 'datetime.timedelta'>\n",
    "\n",
    "\n",
    "#4-2. 날짜(스칼라) - 날짜(스칼라) 계산 (다른 타입일 때)           # pd.Timestamp - np.datetime64 호환가능\n",
    "print(\"4\", date_pd1 - date_np2  , type(date_pd1 - date_np2))  # 2 days 00:00:00   <class 'pandas._libs.tslibs.timedeltas.Timedelta'>\n",
    "                                                              # python.date는 다른 타입과 연산 불가\n",
    "# print(\"5\", date_pd1 - date_py2)   # TypeError: unsupported operand type(s) for -: 'Timestamp' and 'datetime.date'\n",
    "# print(\"6\", date_np1 - date_py2)   # UFuncTypeError: ufunc 'subtract' cannot use operands with types dtype('<M8[D]') and dtype('O')\n",
    "                                                            "
   ]
  },
  {
   "cell_type": "markdown",
   "id": "interpreted-stuart",
   "metadata": {},
   "source": [
    "### 5. 날짜(벡터) - 날짜(스칼라) 계산\n",
    "* Timestamp(series벡터) - Timestamp(스칼라)   → Timedelta값 series 벡터\n",
    "* datetime64(array벡터) - datetime64(스칼라)  →  timedelta64값 array 벡터\n",
    "* date(list벡터) - date(스칼라)  →  에러 발생\n",
    "* [date(list벡터) - date(스칼라) for date in date(list벡터)]   →  timedelta값 list 벡터"
   ]
  },
  {
   "cell_type": "code",
   "execution_count": 45,
   "id": "alien-necklace",
   "metadata": {},
   "outputs": [
    {
     "name": "stdout",
     "output_type": "stream",
     "text": [
      "0   -2 days\n",
      "1    0 days\n",
      "dtype: timedelta64[ns]\n",
      "[-2  0]\n",
      "[datetime.timedelta(days=-2), datetime.timedelta(0)]\n",
      "0   -2 days\n",
      "1    0 days\n",
      "dtype: timedelta64[ns]\n",
      "[datetime.timedelta(days=-2) datetime.timedelta(0)]\n",
      "0   -2 days\n",
      "1    0 days\n",
      "dtype: timedelta64[ns]\n"
     ]
    }
   ],
   "source": [
    "import pandas as pd\n",
    "import numpy as np\n",
    "from datetime import  date\n",
    "\n",
    "date_series = pd.to_datetime(pd.Series(['2020-07-21', '2020-07-23']))         # to_datetime\n",
    "date_array = np.array(['2020-07-21', '2020-07-23'], dtype='datetime64')       # datetime64\n",
    "date_list = [ date.fromisoformat(d) for d in ['2020-07-21', '2020-07-23']]    # fromisoformat\n",
    "\n",
    "date_pd = pd.to_datetime('2020-07-23')\n",
    "date_np = np.datetime64('2020-07-23')\n",
    "date_py = date.fromisoformat('2020-07-23')\n",
    "\n",
    "\n",
    "#5-1. 날짜(벡터)- 날짜(스칼라) - 동일 타입일 때\n",
    "# ['2020-07-21', '2020-07-23']-'2020-07-23'\n",
    "print(date_series - date_pd)                            # 0   -2 days  \n",
    "                                                        # 1    0 days   dtype: timedelta64[ns]                \n",
    "        \n",
    "print(date_array - date_np)                             # [-2  0]   \n",
    "# print(date_list - date_py)                            # TypeError: unsupported operand type(s) for -: 'list' and 'datetime.date'\n",
    "print([datelist - date_py for datelist in date_list])   # [datetime.timedelta(days=-2), datetime.timedelta(0)]\n",
    "\n",
    "\n",
    "#5-2. 날짜(벡터)- 날짜(스칼라) - 다른 타입일 때\n",
    "print(date_series - date_np)     # 2 days 00:00:00\n",
    "# print(date_series - date_py)   # TypeError: unsupported operand type(s) for -: 'DatetimeArray' and 'datetime.date'\n",
    "# print(date_array - date_pd)    # TypeError: unsupported operand type(s) for -: 'numpy.ndarray' and 'Timestamp'\n",
    "# print(date_array - date_py)    # UFuncTypeError: ufunc 'subtract' cannot use operands with types dtype('<M8[D]') and dtype('O')\n",
    "# print(date_list - date_pd)     # TypeError: unsupported operand type(s) for -: 'list' and 'Timestamp'\n",
    "# print(date_list - date_np)     # UFuncTypeError: ufunc 'subtract' cannot use operands with types dtype('O') and dtype('<M8[D]')\n",
    "\n",
    "\n",
    "#5-3  date타입 array, series 벡터 - date 타입 날짜(스칼라) 계산 \n",
    "date_array_date  = np.array(date_list)\n",
    "date_series_date = pd.Series(date_list)\n",
    "print(date_array_date - date_py)    # [datetime.timedelta(days=-1) datetime.timedelta(0) datetime.timedelta(days=30)]\n",
    "print(date_series_date - date_py)   # 0   -1 days\n",
    "                                    # 1    0 days\n",
    "                                    # 2   30 days\n",
    "                                    # dtype: timedelta64[ns]"
   ]
  },
  {
   "cell_type": "markdown",
   "id": "different-being",
   "metadata": {},
   "source": [
    "### 6. 날짜(벡터) - 타임델타(스칼라) 계산\n",
    "\n",
    "* pd.Timestamp - np.timedelta64, 와 python.timedelta 호환\n",
    "* np.datetime64 - Timedelta 호환\n",
    "* np.datetime64 - datetime.timedelta 에러\n",
    "* python.date - pd.Timedelta, np.timedelta64 에러\n"
   ]
  },
  {
   "cell_type": "code",
   "execution_count": 47,
   "id": "appointed-paradise",
   "metadata": {},
   "outputs": [
    {
     "name": "stdout",
     "output_type": "stream",
     "text": [
      "0   2020-07-16\n",
      "1   2020-07-18\n",
      "dtype: datetime64[ns]\n",
      "['2020-07-16' '2020-07-18']\n",
      "0   2020-07-16\n",
      "1   2020-07-18\n",
      "dtype: datetime64[ns]\n",
      "0   2020-07-16\n",
      "1   2020-07-18\n",
      "dtype: datetime64[ns]\n",
      "['2020-07-16T00:00:00.000000000' '2020-07-18T00:00:00.000000000']\n"
     ]
    }
   ],
   "source": [
    "import pandas as pd\n",
    "import numpy as np\n",
    "import datetime\n",
    "from datetime import  date\n",
    "\n",
    "date_series = pd.to_datetime(pd.Series(['2020-07-21', '2020-07-23']))\n",
    "date_array = np.array(['2020-07-21', '2020-07-23'], dtype='datetime64')\n",
    "date_list = [ date.fromisoformat(d) for d in ['2020-07-21', '2020-07-23']]\n",
    "\n",
    "td_pd = pd.Timedelta(5, unit='days')\n",
    "td_np = np.timedelta64(5, 'D')\n",
    "td_py = datetime.timedelta(days=5)\n",
    "\n",
    "#6-1. 날짜(벡터)- 타임델타(스칼라)  - 동일 라이브러리일 때\n",
    "print(date_series - td_pd)    # 0   2020-07-16\n",
    "                              # 1   2020-07-18\n",
    "                              # dtype: datetime64[ns]\n",
    "            \n",
    "print(date_array - td_np)     # ['2020-07-16' '2020-07-18']\n",
    "# print(date_list - td_py)    #  TypeError: unsupported operand type(s) for -: 'list' and 'datetime.timedelta'\n",
    "\n",
    "#6-2. 날짜(벡터)- 타임델타(스칼라) 계산 - 다른 라이브러리일 때\n",
    "print(date_series - td_np)   # 0   2020-07-16\n",
    "                             # 1   2020-07-18\n",
    "                             # dtype: datetime64[ns]\n",
    "print(date_series - td_py)   # 0   2020-07-16\n",
    "                             # 1   2020-07-18\n",
    "                             # dtype: datetime64[ns]\n",
    "        \n",
    "print(date_array - td_pd)    # ['2020-07-16T00:00:00.000000000' '2020-07-18T00:00:00.000000000']\n",
    "# print(date_array - td_py)  #  UFuncTypeError: ufunc 'subtract' cannot use operands with types dtype('<M8[D]') and dtype('O')\n",
    "\n",
    "# print(date_list - td_pd)   #  TypeError: unsupported operand type(s) for -: 'list' and 'Timedelta'\n",
    "# print(date_list - td_np)   # UFuncTypeError: ufunc 'subtract' cannot use operands with types dtype('O') and dtype('<m8[D]')"
   ]
  },
  {
   "cell_type": "code",
   "execution_count": null,
   "id": "competent-result",
   "metadata": {},
   "outputs": [],
   "source": []
  }
 ],
 "metadata": {
  "kernelspec": {
   "display_name": "Python 3",
   "language": "python",
   "name": "python3"
  },
  "language_info": {
   "codemirror_mode": {
    "name": "ipython",
    "version": 3
   },
   "file_extension": ".py",
   "mimetype": "text/x-python",
   "name": "python",
   "nbconvert_exporter": "python",
   "pygments_lexer": "ipython3",
   "version": "3.8.0"
  }
 },
 "nbformat": 4,
 "nbformat_minor": 5
}
